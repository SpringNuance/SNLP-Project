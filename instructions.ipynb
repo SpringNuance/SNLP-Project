{
 "cells": [
  {
   "cell_type": "markdown",
   "metadata": {},
   "source": [
    "Include the name and the composition of your Team (names and email addresses).\n",
    "Write one paragraph on the more specific topic that you plan to address: briefly consider all the aspects of your project, including which approach you will use to evaluate your results. "
   ]
  },
  {
   "cell_type": "markdown",
   "metadata": {},
   "source": [
    "BERT is a transformers model pretrained on a large corpus of English data in a self-\n",
    "supervised fashion. It was pretrained with two objectives: Masked language modeling\n",
    "(MLM) and Next sentence prediction (NSP) [1]. In addressing the project of using pre-\n",
    "trained BERT models for General Language Understanding Evaluation (GLUE) tasks,\n",
    "the focus will be on exploring and comparing the performance of cased and uncased base\n",
    "of BERT. For performance analysis, GLUE is a benchmark consisting of various language\n",
    "tasks for evaluating and analyzing natural language understanding systems [ 2]. There\n",
    "are lots of dataset and challenges, but it is decided that this report will try to measure the\n",
    "performance of BERT models on two tasks.\n",
    "\n",
    "Task 1: Quora question pairs\n",
    "\n",
    "This dataset consists of 400,000 lines of potential question duplicate pairs. Each line\n",
    "contains IDs for each question in the pair, the full text for each question, and a binary\n",
    "value that indicates whether the line truly contains a duplicate pair. The task is thus\n",
    "binary classification and the performance metric is accuracy.\n",
    "\n",
    "Task 2: Stanford Sentiment Treebank (SST-2)\n",
    "\n",
    "This dataset is a corpus with fully labeled parse trees that allows for a complete analysis of\n",
    "the compositional effects of sentiment in language. It was parsed with the Stanford parser\n",
    "and includes a total of 215,154 unique phrases from those parse trees, each annotated by\n",
    "3 human judges. The review can be classified with either positive v.s negative review. The\n",
    "task is thus binary classification and the performance metric is accuracy.\n",
    "The project analyses the performance metrics to conclude which BERT model, cased or\n",
    "uncased, performs better in each respective tasks.\n",
    "\n",
    "Check all GLUE tasks here: https://gluebenchmark.com/tasks\n",
    "\n",
    "The project idea seems reasonable. You have the data and a way to evaluate the models. \n",
    "\n",
    "If you have time, you can also include some other transformer models or different BERT variants."
   ]
  },
  {
   "cell_type": "markdown",
   "metadata": {},
   "source": [
    "Writing a literature review and project plan\n",
    "\n",
    "You can start the submission PDF with (an up-to-date version of) your team abstract, for context.\n",
    "\n",
    "### Literature review\n",
    "\n",
    "The goal of the literature review is to get to know the topic of your project. The literature review should cover the broader topic (e.g. word embeddings spaces and analogies) and the specific methods that you plan to use (e.g. bag-of-words word2vec).\n",
    "\n",
    "Show what the practical or theoretical difficulties are in the broader problem. Show the general framework of how the problem is typically approached (sometimes it is relevant to briefly describe a couple of broad strategies). Show how results in this topic are typically evaluated. Show how the specific methods that you apply relate to the larger topic at hand. You may also find it interesting to briefly showcase some recent state of the art results.\n",
    "\n",
    "You should follow academic citation principles: back specific claims with specific citations. A typical length of a literature survey could be 2 pages: prioritize quality. Assume that your topic is totally new to your student peers, and for such an audience.\n",
    "\n",
    "### Project plan\n",
    "\n",
    "After the literature review, write a less formal project plan: describe what you intend to do, with what data, and how you will evaluate. Again, write for your student peer audience, try to be clear and specific enough that they get a general idea of what you are going to do in practice.\n",
    "\n",
    "A good project plan should have some flexibility - have simpler goals, and more extended ideas that you can reach for if you have time."
   ]
  },
  {
   "cell_type": "markdown",
   "metadata": {},
   "source": [
    "Full project report\n",
    "Completion requirements\n",
    "\n",
    "Opened: Friday, 26 January 2024, 12:00 AM\n",
    "Due: Friday, 19 April 2024, 11:59 PM\n",
    "\n",
    "The report should be structured as follows:\n",
    "\n",
    "1. Title page: the course code and course name, student name(s) and ID(s), date, the topic of your project.\n",
    "\n",
    "2. Introduction: Describe the research problem: You can think of it through answering questions like why is it a relevant or interesting problem? How can one approach it, in general? How are you approaching it in this work?\n",
    "\n",
    "3. Methods: Describe the methods that you use in the work.\n",
    "\n",
    "4. Experiments: What is the experimental setup? Give sufficient details on how the experiments were carried out, so that another person familiar with this course but not with this topic might replicate your experiments.\n",
    "\n",
    "5. Results: Describe the results of your experiments. You may want to use tables to summarize results, or to show typical samples or particularly interesting cases.\n",
    "\n",
    "6. Conclusions / Discussion: Based on your results, what conclusions can you draw regarding the question you set out to study?\n",
    "\n",
    "7. Division of labor: In a group work, describe who did what.\n",
    "\n",
    "8. Acknowledgments: Did you get help? Anyone you wish to particularly thank?\n",
    "\n",
    "9. References: The bibliography that you utilized, and that you refer to in the text\n",
    "\n",
    "10. Appendix: Your own program code, possible excerpts of data etc."
   ]
  }
 ],
 "metadata": {
  "kernelspec": {
   "display_name": "Python 3",
   "language": "python",
   "name": "python3"
  },
  "language_info": {
   "name": "python",
   "version": "3.12.2"
  }
 },
 "nbformat": 4,
 "nbformat_minor": 2
}
