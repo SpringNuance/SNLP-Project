{
 "cells": [
  {
   "cell_type": "markdown",
   "id": "d052ee74",
   "metadata": {
    "papermill": {
     "duration": 0.026385,
     "end_time": "2024-04-17T10:56:31.244347",
     "exception": false,
     "start_time": "2024-04-17T10:56:31.217962",
     "status": "completed"
    },
    "tags": []
   },
   "source": [
    "# Fine-Tuning BERT on Stanford Sentiment Treebank 2\n",
    "\n",
    "# Introduction\n",
    "\n",
    "In this project, we would use a variety of BERT models (BERT, RoBERTa, ALBERT, DistilBERT, DeBERTa) with the HuggingFace PyTorch library to fine-tune a model to fit the SST2 dataset. \n",
    "\n",
    "### BERT (Bidirectional Encoder Representations from Transformers) \n",
    "\n",
    "Original model code [here](https://github.com/google-research/bert) for NLP tasks.\n",
    "\n",
    "BERT consists of 12 Transformer Encoding layers (or 24 for large BERT)\n",
    "\n",
    "\n",
    "# Stanford Sentiment Treebank 2 (SST2) Dataset\n",
    "SST2 is a dataset for binary sentiment classification. It consists of sentences extracted from movie reviews and human annotations of their sentiment. The task is to determine whether a given sentence has positive or negative sentiment.\n",
    "\n",
    "## Data fields\n",
    "* sentence - the review sentence whose sentiment should be determined\n",
    "* label - 0 for negative sentiment, 1 for positive sentiment"
   ]
  },
  {
   "cell_type": "markdown",
   "id": "3334ba6b",
   "metadata": {
    "papermill": {
     "duration": 0.025864,
     "end_time": "2024-04-17T10:56:31.297465",
     "exception": false,
     "start_time": "2024-04-17T10:56:31.271601",
     "status": "completed"
    },
    "tags": []
   },
   "source": [
    "To make use of GPU, this notebook should be run on Google Colab or Kaggle. It is highly inadvisable to run this notebook on a local machine as it would take a very long time to train the model. However you can run on local for testing purposes."
   ]
  },
  {
   "cell_type": "code",
   "execution_count": 1,
   "id": "bc09a90f",
   "metadata": {
    "execution": {
     "iopub.execute_input": "2024-04-17T10:56:31.351626Z",
     "iopub.status.busy": "2024-04-17T10:56:31.350994Z",
     "iopub.status.idle": "2024-04-17T10:56:31.384408Z",
     "shell.execute_reply": "2024-04-17T10:56:31.383488Z"
    },
    "papermill": {
     "duration": 0.062737,
     "end_time": "2024-04-17T10:56:31.386259",
     "exception": false,
     "start_time": "2024-04-17T10:56:31.323522",
     "status": "completed"
    },
    "tags": []
   },
   "outputs": [
    {
     "name": "stdout",
     "output_type": "stream",
     "text": [
      "/kaggle/input/test.tsv\n",
      "/kaggle/input/dev.tsv\n",
      "/kaggle/input/train.tsv\n",
      "/kaggle/input/original/datasetSentences.txt\n",
      "/kaggle/input/original/STree.txt\n",
      "/kaggle/input/original/README.txt\n",
      "/kaggle/input/original/original_rt_snippets.txt\n",
      "/kaggle/input/original/SOStr.txt\n",
      "/kaggle/input/original/dictionary.txt\n",
      "/kaggle/input/original/sentiment_labels.txt\n",
      "/kaggle/input/original/datasetSplit.txt\n"
     ]
    }
   ],
   "source": [
    "# Input data files are available in the read-only \"../input/\" directory\n",
    "# For example, running this (by clicking run or pressing Shift+Enter) will list all files under the input directory\n",
    "\n",
    "import os\n",
    "for dirname, _, filenames in os.walk('/kaggle/input'):\n",
    "    for filename in filenames:\n",
    "        print(os.path.join(dirname, filename))\n",
    "\n",
    "# You can write up to 20GB to the current directory (/kaggle/working/) that gets preserved as output when you create a version using \"Save & Run All\" \n",
    "# You can also write temporary files to /kaggle/temp/, but they won't be saved outside of the current session"
   ]
  },
  {
   "cell_type": "code",
   "execution_count": 2,
   "id": "2097778b",
   "metadata": {
    "execution": {
     "iopub.execute_input": "2024-04-17T10:56:31.440751Z",
     "iopub.status.busy": "2024-04-17T10:56:31.440449Z",
     "iopub.status.idle": "2024-04-17T10:56:37.965470Z",
     "shell.execute_reply": "2024-04-17T10:56:37.964566Z"
    },
    "papermill": {
     "duration": 6.555099,
     "end_time": "2024-04-17T10:56:37.968243",
     "exception": false,
     "start_time": "2024-04-17T10:56:31.413144",
     "status": "completed"
    },
    "tags": []
   },
   "outputs": [],
   "source": [
    "### Importing all necessary libraries\n",
    "\n",
    "import pandas as pd\n",
    "import numpy as np\n",
    "import matplotlib.pyplot as plt\n",
    "from sklearn.model_selection import train_test_split\n",
    "\n",
    "import torch\n",
    "from tqdm import tqdm\n",
    "from torch.utils.data import TensorDataset"
   ]
  },
  {
   "cell_type": "markdown",
   "id": "c2ddf7e4",
   "metadata": {
    "papermill": {
     "duration": 0.026586,
     "end_time": "2024-04-17T10:56:38.026923",
     "exception": false,
     "start_time": "2024-04-17T10:56:38.000337",
     "status": "completed"
    },
    "tags": []
   },
   "source": [
    "#### Due to memory and time limit issues, we cannot really use the whole dataset for fine tuning. As a result, we would use a subset of the dataset for training and validation."
   ]
  },
  {
   "cell_type": "code",
   "execution_count": 3,
   "id": "8dc750bf",
   "metadata": {
    "execution": {
     "iopub.execute_input": "2024-04-17T10:56:38.088390Z",
     "iopub.status.busy": "2024-04-17T10:56:38.087249Z",
     "iopub.status.idle": "2024-04-17T10:56:38.092662Z",
     "shell.execute_reply": "2024-04-17T10:56:38.091615Z"
    },
    "papermill": {
     "duration": 0.038881,
     "end_time": "2024-04-17T10:56:38.095039",
     "exception": false,
     "start_time": "2024-04-17T10:56:38.056158",
     "status": "completed"
    },
    "tags": []
   },
   "outputs": [],
   "source": [
    "num_train_plus_test = None # Later, train and test data ratio is 80:20\n",
    "num_val = None \n",
    "num_unknown_labels_test = None\n",
    "# If you want to use all data, set values to None"
   ]
  },
  {
   "cell_type": "code",
   "execution_count": 4,
   "id": "f0e3690d",
   "metadata": {
    "execution": {
     "iopub.execute_input": "2024-04-17T10:56:38.156651Z",
     "iopub.status.busy": "2024-04-17T10:56:38.155654Z",
     "iopub.status.idle": "2024-04-17T10:56:38.390621Z",
     "shell.execute_reply": "2024-04-17T10:56:38.389566Z"
    },
    "papermill": {
     "duration": 0.268609,
     "end_time": "2024-04-17T10:56:38.393553",
     "exception": false,
     "start_time": "2024-04-17T10:56:38.124944",
     "status": "completed"
    },
    "tags": []
   },
   "outputs": [
    {
     "name": "stdout",
     "output_type": "stream",
     "text": [
      "1821\n"
     ]
    },
    {
     "data": {
      "text/html": [
       "<div>\n",
       "<style scoped>\n",
       "    .dataframe tbody tr th:only-of-type {\n",
       "        vertical-align: middle;\n",
       "    }\n",
       "\n",
       "    .dataframe tbody tr th {\n",
       "        vertical-align: top;\n",
       "    }\n",
       "\n",
       "    .dataframe thead th {\n",
       "        text-align: right;\n",
       "    }\n",
       "</style>\n",
       "<table border=\"1\" class=\"dataframe\">\n",
       "  <thead>\n",
       "    <tr style=\"text-align: right;\">\n",
       "      <th></th>\n",
       "      <th>sentence</th>\n",
       "      <th>label</th>\n",
       "    </tr>\n",
       "  </thead>\n",
       "  <tbody>\n",
       "    <tr>\n",
       "      <th>0</th>\n",
       "      <td>hide new secretions from the parental units</td>\n",
       "      <td>0</td>\n",
       "    </tr>\n",
       "    <tr>\n",
       "      <th>1</th>\n",
       "      <td>contains no wit , only labored gags</td>\n",
       "      <td>0</td>\n",
       "    </tr>\n",
       "    <tr>\n",
       "      <th>2</th>\n",
       "      <td>that loves its characters and communicates som...</td>\n",
       "      <td>1</td>\n",
       "    </tr>\n",
       "    <tr>\n",
       "      <th>3</th>\n",
       "      <td>remains utterly satisfied to remain the same t...</td>\n",
       "      <td>0</td>\n",
       "    </tr>\n",
       "    <tr>\n",
       "      <th>4</th>\n",
       "      <td>on the worst revenge-of-the-nerds clichés the ...</td>\n",
       "      <td>0</td>\n",
       "    </tr>\n",
       "  </tbody>\n",
       "</table>\n",
       "</div>"
      ],
      "text/plain": [
       "                                            sentence  label\n",
       "0       hide new secretions from the parental units       0\n",
       "1               contains no wit , only labored gags       0\n",
       "2  that loves its characters and communicates som...      1\n",
       "3  remains utterly satisfied to remain the same t...      0\n",
       "4  on the worst revenge-of-the-nerds clichés the ...      0"
      ]
     },
     "execution_count": 4,
     "metadata": {},
     "output_type": "execute_result"
    }
   ],
   "source": [
    "# train_sst2 = pd.read_csv(\"/kaggle/input/snlp-project-sst2/train.tsv\", sep=\"\\t\")\n",
    "# dev_sst2 = pd.read_csv(\"/kaggle/input/snlp-project-sst2/dev.tsv\", sep=\"\\t\")\n",
    "\n",
    "train_sst2 = pd.read_csv(\"/kaggle/input/train.tsv\", sep=\"\\t\", nrows=num_train_plus_test)\n",
    "dev_sst2 = pd.read_csv(\"/kaggle/input/dev.tsv\", sep=\"\\t\", nrows=num_val)\n",
    "\n",
    "test_unknown_label_sst2 = pd.read_csv(\"/kaggle/input/test.tsv\", sep=\"\\t\", nrows=num_unknown_labels_test)\n",
    "print(len(test_unknown_label_sst2))\n",
    "train_sst2.head()"
   ]
  },
  {
   "cell_type": "markdown",
   "id": "12f75e8d",
   "metadata": {
    "papermill": {
     "duration": 0.028878,
     "end_time": "2024-04-17T10:56:38.455293",
     "exception": false,
     "start_time": "2024-04-17T10:56:38.426415",
     "status": "completed"
    },
    "tags": []
   },
   "source": [
    "## BertForSequenceClassification\n",
    "\n",
    "For this task, we first want to modify the pre-trained BERT model to give outputs for classification, and then we want to continue training the model on our dataset until that the entire model, end-to-end, is well-suited for our task.\n",
    "\n",
    "We’ll be using [BertForSequenceClassification](https://huggingface.co/transformers/model_doc/bert.html#bertforsequenceclassification). This is the normal BERT model with an added single linear layer on top for classification that we will use as a sentence classifier. As we feed input data, the entire pre-trained BERT model and the additional untrained classification layer is trained on our specific task."
   ]
  },
  {
   "cell_type": "markdown",
   "id": "bf1a2723",
   "metadata": {
    "papermill": {
     "duration": 0.028688,
     "end_time": "2024-04-17T10:56:38.512996",
     "exception": false,
     "start_time": "2024-04-17T10:56:38.484308",
     "status": "completed"
    },
    "tags": []
   },
   "source": [
    "### Choosing the BERT variant and the Tokenizer\n",
    "\n",
    "To feed our text to BERT, it must be split into tokens, and then these tokens must be mapped to their index in the tokenizer vocabulary. The tokenization must be performed by the tokenizer included with BERT. This Tokenizer is build upon the WordPiece tokenizer. "
   ]
  },
  {
   "cell_type": "code",
   "execution_count": 5,
   "id": "510c3f20",
   "metadata": {
    "execution": {
     "iopub.execute_input": "2024-04-17T10:56:38.571787Z",
     "iopub.status.busy": "2024-04-17T10:56:38.571449Z",
     "iopub.status.idle": "2024-04-17T10:56:38.657173Z",
     "shell.execute_reply": "2024-04-17T10:56:38.656106Z"
    },
    "papermill": {
     "duration": 0.118248,
     "end_time": "2024-04-17T10:56:38.659842",
     "exception": false,
     "start_time": "2024-04-17T10:56:38.541594",
     "status": "completed"
    },
    "tags": []
   },
   "outputs": [
    {
     "name": "stdout",
     "output_type": "stream",
     "text": [
      "The current device is cuda\n"
     ]
    }
   ],
   "source": [
    "device = torch.device(\"cuda\" if torch.cuda.is_available() else \"cpu\")\n",
    "print(\"The current device is\", device)"
   ]
  },
  {
   "cell_type": "code",
   "execution_count": 6,
   "id": "168464e5",
   "metadata": {
    "execution": {
     "iopub.execute_input": "2024-04-17T10:56:38.715809Z",
     "iopub.status.busy": "2024-04-17T10:56:38.715460Z",
     "iopub.status.idle": "2024-04-17T10:56:47.959366Z",
     "shell.execute_reply": "2024-04-17T10:56:47.958311Z"
    },
    "papermill": {
     "duration": 9.274886,
     "end_time": "2024-04-17T10:56:47.961806",
     "exception": false,
     "start_time": "2024-04-17T10:56:38.686920",
     "status": "completed"
    },
    "tags": []
   },
   "outputs": [
    {
     "data": {
      "application/vnd.jupyter.widget-view+json": {
       "model_id": "d3530f0c867749c5b5e1c1a699a28ffe",
       "version_major": 2,
       "version_minor": 0
      },
      "text/plain": [
       "tokenizer_config.json:   0%|          | 0.00/52.0 [00:00<?, ?B/s]"
      ]
     },
     "metadata": {},
     "output_type": "display_data"
    },
    {
     "data": {
      "application/vnd.jupyter.widget-view+json": {
       "model_id": "f139c3329ed04c749d88455ee5412e3e",
       "version_major": 2,
       "version_minor": 0
      },
      "text/plain": [
       "config.json:   0%|          | 0.00/474 [00:00<?, ?B/s]"
      ]
     },
     "metadata": {},
     "output_type": "display_data"
    },
    {
     "data": {
      "application/vnd.jupyter.widget-view+json": {
       "model_id": "52f805016e8c4d739315ef92c88f42eb",
       "version_major": 2,
       "version_minor": 0
      },
      "text/plain": [
       "vocab.json:   0%|          | 0.00/899k [00:00<?, ?B/s]"
      ]
     },
     "metadata": {},
     "output_type": "display_data"
    },
    {
     "data": {
      "application/vnd.jupyter.widget-view+json": {
       "model_id": "f9173f115f3944a693b6b2d04544c14c",
       "version_major": 2,
       "version_minor": 0
      },
      "text/plain": [
       "merges.txt:   0%|          | 0.00/456k [00:00<?, ?B/s]"
      ]
     },
     "metadata": {},
     "output_type": "display_data"
    },
    {
     "data": {
      "application/vnd.jupyter.widget-view+json": {
       "model_id": "ff99066d67da4f61857513c215778431",
       "version_major": 2,
       "version_minor": 0
      },
      "text/plain": [
       "pytorch_model.bin:   0%|          | 0.00/559M [00:00<?, ?B/s]"
      ]
     },
     "metadata": {},
     "output_type": "display_data"
    },
    {
     "name": "stderr",
     "output_type": "stream",
     "text": [
      "/opt/conda/lib/python3.10/site-packages/torch/_utils.py:831: UserWarning: TypedStorage is deprecated. It will be removed in the future and UntypedStorage will be the only storage class. This should only matter to you if you are using storages directly.  To access UntypedStorage directly, use tensor.untyped_storage() instead of tensor.storage()\n",
      "  return self.fget.__get__(instance, owner)()\n",
      "Some weights of DebertaForSequenceClassification were not initialized from the model checkpoint at microsoft/deberta-base and are newly initialized: ['classifier.bias', 'classifier.weight', 'pooler.dense.bias', 'pooler.dense.weight']\n",
      "You should probably TRAIN this model on a down-stream task to be able to use it for predictions and inference.\n"
     ]
    }
   ],
   "source": [
    "# PLEASE CHOOSE THE BERT VARIANT MODEL\n",
    "\n",
    "# bert_model_name = \"bert-base-uncased\"\n",
    "# bert_model_name = \"roberta-base\"\n",
    "# bert_model_name = \"distilbert-base-uncased\"\n",
    "# bert_model_name = \"albert-base-v2\"\n",
    "bert_model_name = \"deberta-base\"\n",
    "\n",
    "from transformers import AutoTokenizer, AutoModelForSequenceClassification\n",
    "\n",
    "bert_temp_name = \"microsoft/deberta-base\" if bert_model_name == \"deberta-base\" else bert_model_name\n",
    "\n",
    "tokenizer = AutoTokenizer.from_pretrained(bert_temp_name)\n",
    "bert_classification_model = AutoModelForSequenceClassification.from_pretrained(\n",
    "    pretrained_model_name_or_path=bert_temp_name,\n",
    "    num_labels=2, # The number of output labels--2 for binary classification.\n",
    "                    # You can increase this for multi-class tasks.   \n",
    "    output_attentions=False, # Whether the model returns attentions weights.\n",
    "    output_hidden_states=False, # Whether the model returns all hidden-states.\n",
    ")\n",
    "\n",
    "bert_classification_model = bert_classification_model.to(device)"
   ]
  },
  {
   "cell_type": "markdown",
   "id": "85c1809a",
   "metadata": {
    "papermill": {
     "duration": 0.027639,
     "end_time": "2024-04-17T10:56:48.017447",
     "exception": false,
     "start_time": "2024-04-17T10:56:47.989808",
     "status": "completed"
    },
    "tags": []
   },
   "source": [
    "# Tokenizing\n",
    "To feed our text to BERT, it must be split into tokens, and then these tokens must be mapped to their index in the tokenizer vocabulary. "
   ]
  },
  {
   "cell_type": "code",
   "execution_count": 7,
   "id": "06969f50",
   "metadata": {
    "execution": {
     "iopub.execute_input": "2024-04-17T10:56:48.077856Z",
     "iopub.status.busy": "2024-04-17T10:56:48.077266Z",
     "iopub.status.idle": "2024-04-17T10:56:48.091294Z",
     "shell.execute_reply": "2024-04-17T10:56:48.090195Z"
    },
    "papermill": {
     "duration": 0.047773,
     "end_time": "2024-04-17T10:56:48.093354",
     "exception": false,
     "start_time": "2024-04-17T10:56:48.045581",
     "status": "completed"
    },
    "tags": []
   },
   "outputs": [
    {
     "name": "stdout",
     "output_type": "stream",
     "text": [
      "Original sentence:\n",
      " hide new secretions from the parental units \n",
      "\n",
      "Tokenized by deberta-base:\n",
      " ['hide', 'Ġnew', 'Ġsecret', 'ions', 'Ġfrom', 'Ġthe', 'Ġparental', 'Ġunits', 'Ġ']\n",
      "\n",
      "Token IDs by deberta-base:\n",
      " [37265, 92, 3556, 2485, 31, 5, 20536, 2833, 1437]\n"
     ]
    }
   ],
   "source": [
    "example_sentence = train_sst2['sentence'][0]\n",
    "\n",
    "print(f\"Original sentence:\\n {example_sentence}\")\n",
    "\n",
    "example_tokens = tokenizer.tokenize(example_sentence)\n",
    "\n",
    "print(f\"\\nTokenized by {bert_model_name}:\\n {example_tokens}\")\n",
    "\n",
    "example_tokens_ID = tokenizer.convert_tokens_to_ids(example_tokens)\n",
    "print(f\"\\nToken IDs by {bert_model_name}:\\n {example_tokens_ID}\")"
   ]
  },
  {
   "cell_type": "markdown",
   "id": "eaa798b8",
   "metadata": {
    "papermill": {
     "duration": 0.028179,
     "end_time": "2024-04-17T10:56:48.150553",
     "exception": false,
     "start_time": "2024-04-17T10:56:48.122374",
     "status": "completed"
    },
    "tags": []
   },
   "source": [
    "We can combine ``tokenize`` and ``convert_tokens_to_ids`` with the method ``encode``:"
   ]
  },
  {
   "cell_type": "code",
   "execution_count": 8,
   "id": "22e8b672",
   "metadata": {
    "execution": {
     "iopub.execute_input": "2024-04-17T10:56:48.212816Z",
     "iopub.status.busy": "2024-04-17T10:56:48.212501Z",
     "iopub.status.idle": "2024-04-17T10:56:48.218223Z",
     "shell.execute_reply": "2024-04-17T10:56:48.217238Z"
    },
    "papermill": {
     "duration": 0.03952,
     "end_time": "2024-04-17T10:56:48.220516",
     "exception": false,
     "start_time": "2024-04-17T10:56:48.180996",
     "status": "completed"
    },
    "tags": []
   },
   "outputs": [
    {
     "name": "stdout",
     "output_type": "stream",
     "text": [
      "Original sentence:\n",
      " hide new secretions from the parental units \n",
      "\n",
      "Token IDs by deberta-base:\n",
      " [1, 37265, 92, 3556, 2485, 31, 5, 20536, 2833, 1437, 2]\n"
     ]
    }
   ],
   "source": [
    "example_sentence= train_sst2['sentence'][0]\n",
    "\n",
    "print(f\"Original sentence:\\n {example_sentence}\")\n",
    "\n",
    "example_tokens_ID = tokenizer.encode(example_sentence)\n",
    "\n",
    "print(f\"\\nToken IDs by {bert_model_name}:\\n {example_tokens_ID}\")"
   ]
  },
  {
   "cell_type": "markdown",
   "id": "9f4a363e",
   "metadata": {
    "papermill": {
     "duration": 0.028331,
     "end_time": "2024-04-17T10:56:48.277615",
     "exception": false,
     "start_time": "2024-04-17T10:56:48.249284",
     "status": "completed"
    },
    "tags": []
   },
   "source": [
    "We can see we got two extra tokens at the start and at the end compared to previous versions. Let's see what they are:"
   ]
  },
  {
   "cell_type": "code",
   "execution_count": 9,
   "id": "45f991ab",
   "metadata": {
    "execution": {
     "iopub.execute_input": "2024-04-17T10:56:48.335486Z",
     "iopub.status.busy": "2024-04-17T10:56:48.334701Z",
     "iopub.status.idle": "2024-04-17T10:57:00.126156Z",
     "shell.execute_reply": "2024-04-17T10:57:00.125187Z"
    },
    "papermill": {
     "duration": 11.823527,
     "end_time": "2024-04-17T10:57:00.128526",
     "exception": false,
     "start_time": "2024-04-17T10:56:48.304999",
     "status": "completed"
    },
    "tags": []
   },
   "outputs": [
    {
     "name": "stderr",
     "output_type": "stream",
     "text": [
      "2024-04-17 10:56:50.463663: E external/local_xla/xla/stream_executor/cuda/cuda_dnn.cc:9261] Unable to register cuDNN factory: Attempting to register factory for plugin cuDNN when one has already been registered\n",
      "2024-04-17 10:56:50.463796: E external/local_xla/xla/stream_executor/cuda/cuda_fft.cc:607] Unable to register cuFFT factory: Attempting to register factory for plugin cuFFT when one has already been registered\n",
      "2024-04-17 10:56:50.625918: E external/local_xla/xla/stream_executor/cuda/cuda_blas.cc:1515] Unable to register cuBLAS factory: Attempting to register factory for plugin cuBLAS when one has already been registered\n"
     ]
    },
    {
     "data": {
      "text/plain": [
       "'[CLS]hide new secretions from the parental units [SEP]'"
      ]
     },
     "execution_count": 9,
     "metadata": {},
     "output_type": "execute_result"
    }
   ],
   "source": [
    "tokenizer.decode(example_tokens_ID)"
   ]
  },
  {
   "cell_type": "markdown",
   "id": "01a911c5",
   "metadata": {
    "papermill": {
     "duration": 0.027667,
     "end_time": "2024-04-17T10:57:00.224638",
     "exception": false,
     "start_time": "2024-04-17T10:57:00.196971",
     "status": "completed"
    },
    "tags": []
   },
   "source": [
    "## Special Tokens\n",
    "``[SEP]`` - At the end of every sentence, we need to append the special ``[SEP]`` token.\n",
    "\n",
    "This token is an artifact of two-sentence tasks, where BERT is given two separate sentences and asked to determine something (remeber BERT was trained intially to perdict question-answering task).\n",
    "\n",
    "``[CLS]`` - For classification tasks, we must prepend the special ``[CLS]`` token to the beginning of every sentence.\n",
    "\n",
    "This token has special significance. BERT consists of 12 Transformer layers. Each transformer takes in a list of token embeddings, and produces the same number of embeddings on the output.\n",
    "\n",
    "So now let's see how to encode the two questions together:"
   ]
  },
  {
   "cell_type": "code",
   "execution_count": 10,
   "id": "b42c2b30",
   "metadata": {
    "execution": {
     "iopub.execute_input": "2024-04-17T10:57:00.283127Z",
     "iopub.status.busy": "2024-04-17T10:57:00.282728Z",
     "iopub.status.idle": "2024-04-17T10:57:00.290028Z",
     "shell.execute_reply": "2024-04-17T10:57:00.289096Z"
    },
    "papermill": {
     "duration": 0.038831,
     "end_time": "2024-04-17T10:57:00.292067",
     "exception": false,
     "start_time": "2024-04-17T10:57:00.253236",
     "status": "completed"
    },
    "tags": []
   },
   "outputs": [
    {
     "data": {
      "text/plain": [
       "'[CLS]hide new secretions from the parental units [SEP]'"
      ]
     },
     "execution_count": 10,
     "metadata": {},
     "output_type": "execute_result"
    }
   ],
   "source": [
    "example_sentence = train_sst2['sentence'][0]\n",
    "\n",
    "encoded_pair = tokenizer.encode(example_sentence)\n",
    "tokenizer.decode(encoded_pair)"
   ]
  },
  {
   "cell_type": "markdown",
   "id": "e90b7f2f",
   "metadata": {
    "papermill": {
     "duration": 0.029341,
     "end_time": "2024-04-17T10:57:00.351056",
     "exception": false,
     "start_time": "2024-04-17T10:57:00.321715",
     "status": "completed"
    },
    "tags": []
   },
   "source": [
    "## Sentence Length\n",
    "\n",
    "The sentences in our dataset obviously have varying lengths, so how does BERT handle this?\n",
    "\n",
    "BERT has two constraints:\n",
    "\n",
    "1. All sentences must be padded or truncated to a single, fixed length.\n",
    "2. The maximum sentence length is 512 tokens.\n",
    "Padding is done with a special ``[PAD]`` token, which is at index 0 in the BERT vocabulary.\n",
    "\n",
    "The maximum length does impact training and evaluation speed.\n",
    "\n",
    "Before we are ready to encode our text, though, we need to decide on a maximum sentence length for padding / truncating to.\n",
    "\n",
    "Let's find the maximum length:"
   ]
  },
  {
   "cell_type": "code",
   "execution_count": 11,
   "id": "3bd062fb",
   "metadata": {
    "execution": {
     "iopub.execute_input": "2024-04-17T10:57:00.410646Z",
     "iopub.status.busy": "2024-04-17T10:57:00.410365Z",
     "iopub.status.idle": "2024-04-17T10:57:07.483364Z",
     "shell.execute_reply": "2024-04-17T10:57:07.482246Z"
    },
    "papermill": {
     "duration": 7.104922,
     "end_time": "2024-04-17T10:57:07.485634",
     "exception": false,
     "start_time": "2024-04-17T10:57:00.380712",
     "status": "completed"
    },
    "tags": []
   },
   "outputs": [
    {
     "name": "stderr",
     "output_type": "stream",
     "text": [
      "100%|██████████| 67349/67349 [00:07<00:00, 9541.79it/s]"
     ]
    },
    {
     "name": "stdout",
     "output_type": "stream",
     "text": [
      "The maximum sentence length is  65\n"
     ]
    },
    {
     "name": "stderr",
     "output_type": "stream",
     "text": [
      "\n"
     ]
    }
   ],
   "source": [
    "tqdm.pandas()\n",
    "train_sst2[\"sentence_length\"] = train_sst2[\"sentence\"].progress_apply(lambda question: \n",
    "                                                        len(tokenizer.tokenize(question)))\n",
    "\n",
    "MAX_LENGTH = train_sst2[\"sentence_length\"].max()\n",
    "\n",
    "print(\"The maximum sentence length is \", MAX_LENGTH)"
   ]
  },
  {
   "cell_type": "markdown",
   "id": "e666bb38",
   "metadata": {
    "papermill": {
     "duration": 0.034976,
     "end_time": "2024-04-17T10:57:07.558321",
     "exception": false,
     "start_time": "2024-04-17T10:57:07.523345",
     "status": "completed"
    },
    "tags": []
   },
   "source": [
    "### Now we construct the training, validation, testing dataset with known labels and testing dataset with unknown labels"
   ]
  },
  {
   "cell_type": "code",
   "execution_count": 12,
   "id": "97062738",
   "metadata": {
    "execution": {
     "iopub.execute_input": "2024-04-17T10:57:07.630120Z",
     "iopub.status.busy": "2024-04-17T10:57:07.629481Z",
     "iopub.status.idle": "2024-04-17T10:57:07.655586Z",
     "shell.execute_reply": "2024-04-17T10:57:07.654605Z"
    },
    "papermill": {
     "duration": 0.064741,
     "end_time": "2024-04-17T10:57:07.657824",
     "exception": false,
     "start_time": "2024-04-17T10:57:07.593083",
     "status": "completed"
    },
    "tags": []
   },
   "outputs": [],
   "source": [
    "X_train, X_test_known_labels, y_train, y_test_known_labels = train_test_split(train_sst2[[\"sentence\"]], \n",
    "                                                    train_sst2[\"label\"], test_size=0.2, random_state=42)\n",
    "X_val = dev_sst2[[\"sentence\"]]\n",
    "y_val = dev_sst2[\"label\"]\n",
    "\n",
    "X_test_unknown_labels = test_unknown_label_sst2[[\"sentence\"]]"
   ]
  },
  {
   "cell_type": "markdown",
   "id": "8f20d2a2",
   "metadata": {
    "papermill": {
     "duration": 0.03442,
     "end_time": "2024-04-17T10:57:07.727522",
     "exception": false,
     "start_time": "2024-04-17T10:57:07.693102",
     "status": "completed"
    },
    "tags": []
   },
   "source": [
    "# Tokenize dataset and create Dataloader\n",
    "\n",
    "Now we’re ready to perform the real tokenization.\n",
    "\n",
    "The tokenizer.encode_plus function combines multiple steps for us:\n",
    "\n",
    "1. Split the sentence into tokens.\n",
    "2. Add the special ``[CLS]`` and ``[SEP]`` tokens.\n",
    "3. Map the tokens to their IDs.\n",
    "4. Pad or truncate all sentences to the same length.\n",
    "5. Create the attention masks which explicitly differentiate real tokens from ``[PAD]`` tokens.\n",
    "\n",
    "Documentation is [here](https://huggingface.co/transformers/main_classes/tokenizer.html?highlight=encode_plus#transformers.PreTrainedTokenizer.encode_plus)."
   ]
  },
  {
   "cell_type": "code",
   "execution_count": 13,
   "id": "4ad4a478",
   "metadata": {
    "execution": {
     "iopub.execute_input": "2024-04-17T10:57:07.801500Z",
     "iopub.status.busy": "2024-04-17T10:57:07.801132Z",
     "iopub.status.idle": "2024-04-17T10:57:07.813704Z",
     "shell.execute_reply": "2024-04-17T10:57:07.812754Z"
    },
    "papermill": {
     "duration": 0.052624,
     "end_time": "2024-04-17T10:57:07.815773",
     "exception": false,
     "start_time": "2024-04-17T10:57:07.763149",
     "status": "completed"
    },
    "tags": []
   },
   "outputs": [
    {
     "data": {
      "text/plain": [
       "{'input_ids': tensor([[    1,   462,  3400,     5,  7125,     9,     5,  1461,     8,    34,\n",
       "            10, 33602,  6197,    14, 15706,     5,   878,    86,    59,   158,\n",
       "           728,   375,    10,   920,   128,    29,   773,     8,    41,  4194,\n",
       "           128,    29, 11383,  1437,     2,     0,     0,     0,     0,     0,\n",
       "             0,     0,     0,     0,     0,     0,     0,     0,     0,     0,\n",
       "             0,     0,     0,     0,     0,     0,     0,     0,     0,     0,\n",
       "             0,     0,     0,     0]]), 'token_type_ids': tensor([[0, 0, 0, 0, 0, 0, 0, 0, 0, 0, 0, 0, 0, 0, 0, 0, 0, 0, 0, 0, 0, 0, 0, 0,\n",
       "         0, 0, 0, 0, 0, 0, 0, 0, 0, 0, 0, 0, 0, 0, 0, 0, 0, 0, 0, 0, 0, 0, 0, 0,\n",
       "         0, 0, 0, 0, 0, 0, 0, 0, 0, 0, 0, 0, 0, 0, 0, 0]]), 'attention_mask': tensor([[1, 1, 1, 1, 1, 1, 1, 1, 1, 1, 1, 1, 1, 1, 1, 1, 1, 1, 1, 1, 1, 1, 1, 1,\n",
       "         1, 1, 1, 1, 1, 1, 1, 1, 1, 1, 1, 0, 0, 0, 0, 0, 0, 0, 0, 0, 0, 0, 0, 0,\n",
       "         0, 0, 0, 0, 0, 0, 0, 0, 0, 0, 0, 0, 0, 0, 0, 0]])}"
      ]
     },
     "execution_count": 13,
     "metadata": {},
     "output_type": "execute_result"
    }
   ],
   "source": [
    "MAX_LENGTH = 64\n",
    "\n",
    "tokenizer.encode_plus(X_train.iloc[0]['sentence'],  \n",
    "                        max_length=MAX_LENGTH,\n",
    "                        padding='max_length',\n",
    "                        return_attention_mask=True,\n",
    "                        return_tensors='pt',\n",
    "                        truncation=True)"
   ]
  },
  {
   "cell_type": "markdown",
   "id": "fe70d895",
   "metadata": {
    "papermill": {
     "duration": 0.035314,
     "end_time": "2024-04-17T10:57:07.887358",
     "exception": false,
     "start_time": "2024-04-17T10:57:07.852044",
     "status": "completed"
    },
    "tags": []
   },
   "source": [
    "So what we got:\n",
    "\n",
    "1. input_ids - Token ids padded with 0 at the end.\n",
    "2. token_type_ids - This array indicates bert what is the first sentence and what is the seconds. In case of classification of only one sentance this array is redundant.\n",
    "3. attention_mask - The “Attention Mask” is simply an array of 1s and 0s indicating which tokens are padding and which aren’t. This mask tells the “Self-Attention” mechanism in BERT not to incorporate these ``[PAD]`` tokens into its interpretation of the sentence.\n",
    "\n",
    "All the array are in the size of ``max_length``."
   ]
  },
  {
   "cell_type": "code",
   "execution_count": 14,
   "id": "99d99c43",
   "metadata": {
    "execution": {
     "iopub.execute_input": "2024-04-17T10:57:07.958367Z",
     "iopub.status.busy": "2024-04-17T10:57:07.957586Z",
     "iopub.status.idle": "2024-04-17T10:57:07.969054Z",
     "shell.execute_reply": "2024-04-17T10:57:07.968208Z"
    },
    "papermill": {
     "duration": 0.049391,
     "end_time": "2024-04-17T10:57:07.971620",
     "exception": false,
     "start_time": "2024-04-17T10:57:07.922229",
     "status": "completed"
    },
    "tags": []
   },
   "outputs": [],
   "source": [
    "def convert_to_dataset_torch(features, labels):\n",
    "    input_ids = []\n",
    "    attention_masks = []\n",
    "    token_type_ids = []\n",
    "    for _, row in tqdm(features.iterrows(), total=features.shape[0]):\n",
    "        encoded_dict = tokenizer.encode_plus(row[\"sentence\"],  \n",
    "                                             max_length=MAX_LENGTH,\n",
    "                                             padding='max_length', \n",
    "                                             return_attention_mask=True, \n",
    "                                             return_tensors='pt', \n",
    "                                             truncation=True)\n",
    "        # print(encoded_dict.keys())\n",
    "        \n",
    "        # Add the encoded sentences to the list.\n",
    "        input_ids.append(encoded_dict['input_ids'])\n",
    "        # And its attention mask (simply differentiates padding from non-padding).\n",
    "        attention_masks.append(encoded_dict['attention_mask'])\n",
    "        \n",
    "        if bert_model_name in [\"bert-base-uncased\", \"albert-base-v2\", \"deberta-base\"]:\n",
    "            token_type_ids.append(encoded_dict[\"token_type_ids\"])\n",
    "        \n",
    "    # Convert the lists into tensors.\n",
    "    if bert_model_name in [\"bert-base-uncased\", \"albert-base-v2\", \"deberta-base\"]:\n",
    "\n",
    "        input_ids = torch.cat(input_ids, dim=0)\n",
    "        token_type_ids = torch.cat(token_type_ids, dim=0)\n",
    "        attention_masks = torch.cat(attention_masks, dim=0)\n",
    "        labels = torch.tensor(labels.values)\n",
    "        \n",
    "        print(\"Shape of input_ids is\", input_ids.shape)\n",
    "        print(\"Shape of token_type_ids is\", token_type_ids.shape)\n",
    "        print(\"Shape of attention_masks is\", attention_masks.shape)\n",
    "        print(\"Shape of labels is\", labels.shape)\n",
    "        \n",
    "        return TensorDataset(input_ids, attention_masks, token_type_ids, labels)\n",
    "    \n",
    "    elif bert_model_name in [\"roberta-base\", \"distilbert-base-uncased\"]:\n",
    "        # roberta does not have token_type_ids\n",
    "        input_ids = torch.cat(input_ids, dim=0)\n",
    "        attention_masks = torch.cat(attention_masks, dim=0)\n",
    "        labels = torch.tensor(labels.values)\n",
    "        \n",
    "        print(\"Shape of input_ids is\", input_ids.shape)\n",
    "        print(\"Shape of attention_masks is\", attention_masks.shape)\n",
    "        print(\"Shape of labels is\", labels.shape)\n",
    "        \n",
    "        return TensorDataset(input_ids, attention_masks, labels)\n",
    "    "
   ]
  },
  {
   "cell_type": "markdown",
   "id": "14684d07",
   "metadata": {
    "papermill": {
     "duration": 0.034601,
     "end_time": "2024-04-17T10:57:08.042659",
     "exception": false,
     "start_time": "2024-04-17T10:57:08.008058",
     "status": "completed"
    },
    "tags": []
   },
   "source": [
    "We’ll also create an iterator for our dataset using the torch DataLoader class. This helps save on memory during training because, unlike a for loop, with an iterator the entire dataset does not need to be loaded into memory:"
   ]
  },
  {
   "cell_type": "code",
   "execution_count": 15,
   "id": "054de748",
   "metadata": {
    "execution": {
     "iopub.execute_input": "2024-04-17T10:57:08.113877Z",
     "iopub.status.busy": "2024-04-17T10:57:08.113541Z",
     "iopub.status.idle": "2024-04-17T10:57:30.563207Z",
     "shell.execute_reply": "2024-04-17T10:57:30.561863Z"
    },
    "papermill": {
     "duration": 22.487906,
     "end_time": "2024-04-17T10:57:30.565409",
     "exception": false,
     "start_time": "2024-04-17T10:57:08.077503",
     "status": "completed"
    },
    "tags": []
   },
   "outputs": [
    {
     "name": "stderr",
     "output_type": "stream",
     "text": [
      "100%|██████████| 53879/53879 [00:21<00:00, 2449.78it/s]\n"
     ]
    },
    {
     "name": "stdout",
     "output_type": "stream",
     "text": [
      "Shape of input_ids is torch.Size([53879, 64])\n",
      "Shape of token_type_ids is torch.Size([53879, 64])\n",
      "Shape of attention_masks is torch.Size([53879, 64])\n",
      "Shape of labels is torch.Size([53879])\n"
     ]
    }
   ],
   "source": [
    "train_tensor = convert_to_dataset_torch(X_train, y_train)"
   ]
  },
  {
   "cell_type": "code",
   "execution_count": 16,
   "id": "0c835831",
   "metadata": {
    "execution": {
     "iopub.execute_input": "2024-04-17T10:57:30.676963Z",
     "iopub.status.busy": "2024-04-17T10:57:30.676631Z",
     "iopub.status.idle": "2024-04-17T10:57:31.081413Z",
     "shell.execute_reply": "2024-04-17T10:57:31.080490Z"
    },
    "papermill": {
     "duration": 0.462885,
     "end_time": "2024-04-17T10:57:31.083749",
     "exception": false,
     "start_time": "2024-04-17T10:57:30.620864",
     "status": "completed"
    },
    "tags": []
   },
   "outputs": [
    {
     "name": "stderr",
     "output_type": "stream",
     "text": [
      "100%|██████████| 872/872 [00:00<00:00, 2218.28it/s]"
     ]
    },
    {
     "name": "stdout",
     "output_type": "stream",
     "text": [
      "Shape of input_ids is torch.Size([872, 64])\n",
      "Shape of token_type_ids is torch.Size([872, 64])\n",
      "Shape of attention_masks is torch.Size([872, 64])\n",
      "Shape of labels is torch.Size([872])\n"
     ]
    },
    {
     "name": "stderr",
     "output_type": "stream",
     "text": [
      "\n"
     ]
    }
   ],
   "source": [
    "val_tensor = convert_to_dataset_torch(X_val, y_val)"
   ]
  },
  {
   "cell_type": "code",
   "execution_count": 17,
   "id": "969e2a2a",
   "metadata": {
    "execution": {
     "iopub.execute_input": "2024-04-17T10:57:31.198042Z",
     "iopub.status.busy": "2024-04-17T10:57:31.197181Z",
     "iopub.status.idle": "2024-04-17T10:57:31.204451Z",
     "shell.execute_reply": "2024-04-17T10:57:31.203500Z"
    },
    "papermill": {
     "duration": 0.067238,
     "end_time": "2024-04-17T10:57:31.206579",
     "exception": false,
     "start_time": "2024-04-17T10:57:31.139341",
     "status": "completed"
    },
    "tags": []
   },
   "outputs": [],
   "source": [
    "import multiprocessing\n",
    "\n",
    "from torch.utils.data import DataLoader, RandomSampler, SequentialSampler\n",
    "\n",
    "# The DataLoader needs to know our batch size for training, so we specify it here.\n",
    "\n",
    "batch_size = 5\n",
    "\n",
    "core_number = multiprocessing.cpu_count()\n",
    "\n",
    "# Create the DataLoaders for our training and validation sets.\n",
    "# We'll take training samples in random order. \n",
    "train_dataloader = DataLoader(\n",
    "            train_tensor,  # The training samples.\n",
    "            sampler = RandomSampler(train_tensor), # Select batches randomly\n",
    "            batch_size = batch_size, # Trains with this batch size.\n",
    "            num_workers = core_number\n",
    "        )\n",
    "\n",
    "# For validation the order doesn't matter, so we'll just read them sequentially.\n",
    "val_dataloader = DataLoader(\n",
    "            val_tensor, # The validation samples.\n",
    "            sampler = SequentialSampler(val_tensor), # Pull out batches sequentially.\n",
    "            batch_size = batch_size, # Evaluate with this batch size.\n",
    "            num_workers = core_number\n",
    "        )"
   ]
  },
  {
   "cell_type": "markdown",
   "id": "3db698e5",
   "metadata": {
    "papermill": {
     "duration": 0.056636,
     "end_time": "2024-04-17T10:57:31.318713",
     "exception": false,
     "start_time": "2024-04-17T10:57:31.262077",
     "status": "completed"
    },
    "tags": []
   },
   "source": [
    "# Training Loop\n",
    "Helper function for formatting elapsed times as ``hh:mm:ss``:"
   ]
  },
  {
   "cell_type": "code",
   "execution_count": 18,
   "id": "616fe503",
   "metadata": {
    "execution": {
     "iopub.execute_input": "2024-04-17T10:57:31.428228Z",
     "iopub.status.busy": "2024-04-17T10:57:31.427255Z",
     "iopub.status.idle": "2024-04-17T10:57:31.432582Z",
     "shell.execute_reply": "2024-04-17T10:57:31.431906Z"
    },
    "papermill": {
     "duration": 0.060238,
     "end_time": "2024-04-17T10:57:31.434621",
     "exception": false,
     "start_time": "2024-04-17T10:57:31.374383",
     "status": "completed"
    },
    "tags": []
   },
   "outputs": [],
   "source": [
    "import time\n",
    "import datetime\n",
    "\n",
    "def format_time(elapsed):\n",
    "    '''\n",
    "    Takes a time in seconds and returns a string hh:mm:ss\n",
    "    '''\n",
    "    # Round to the nearest second.\n",
    "    elapsed_rounded = int(round((elapsed)))\n",
    "    \n",
    "    # Format as hh:mm:ss\n",
    "    return str(datetime.timedelta(seconds=elapsed_rounded))"
   ]
  },
  {
   "cell_type": "markdown",
   "id": "655bfa62",
   "metadata": {
    "papermill": {
     "duration": 0.052193,
     "end_time": "2024-04-17T10:57:31.539540",
     "exception": false,
     "start_time": "2024-04-17T10:57:31.487347",
     "status": "completed"
    },
    "tags": []
   },
   "source": [
    "### This function trains the batches from the train_dataloader"
   ]
  },
  {
   "cell_type": "code",
   "execution_count": 19,
   "id": "509c73b4",
   "metadata": {
    "execution": {
     "iopub.execute_input": "2024-04-17T10:57:31.644324Z",
     "iopub.status.busy": "2024-04-17T10:57:31.643428Z",
     "iopub.status.idle": "2024-04-17T10:57:31.655404Z",
     "shell.execute_reply": "2024-04-17T10:57:31.654419Z"
    },
    "papermill": {
     "duration": 0.066483,
     "end_time": "2024-04-17T10:57:31.657554",
     "exception": false,
     "start_time": "2024-04-17T10:57:31.591071",
     "status": "completed"
    },
    "tags": []
   },
   "outputs": [],
   "source": [
    "def train_batch(epoch, bert_classification_model, train_dataloader, optimizer, scheduler, metric):\n",
    "    \n",
    "    total_train_loss = 0\n",
    "    total_train_accuracy = 0\n",
    "    \n",
    "    for batch in tqdm(train_dataloader, desc=f\"Training epoch: {epoch}\", unit=\"batch\"):\n",
    "        \n",
    "        if bert_model_name in [\"bert-base-uncased\", \"albert-base-v2\", \"deberta-base\"]:\n",
    "\n",
    "            # Unpack batch from dataloader.\n",
    "            input_ids = batch[0].to(device)\n",
    "            attention_masks = batch[1].to(device)\n",
    "            token_type_ids = batch[2].to(device)\n",
    "            labels = batch[3].to(device)\n",
    "            \n",
    "            bert_classification_model.zero_grad()\n",
    "            \n",
    "            # Forward pass\n",
    "            outputs = bert_classification_model(input_ids, \n",
    "                                token_type_ids=token_type_ids, \n",
    "                                attention_mask=attention_masks, \n",
    "                                labels=labels)\n",
    "            \n",
    "        elif bert_model_name in [\"roberta-base\", \"distilbert-base-uncased\"]:\n",
    "            # Unpack batch from dataloader.\n",
    "            input_ids = batch[0].to(device)\n",
    "            attention_masks = batch[1].to(device)\n",
    "            labels = batch[2].to(device)\n",
    "            \n",
    "            bert_classification_model.zero_grad()\n",
    "            \n",
    "            # Forward pass\n",
    "            outputs = bert_classification_model(input_ids, \n",
    "                                attention_mask=attention_masks, \n",
    "                                labels=labels)\n",
    "            \n",
    "        loss = outputs.loss\n",
    "        logits = outputs.logits\n",
    "\n",
    "        total_train_loss += loss.item()\n",
    "\n",
    "        # Perform a backward pass to calculate the gradients.\n",
    "        loss.backward()\n",
    "\n",
    "        # Clip the norm of the gradients to 1.0.\n",
    "        # This is to help prevent the \"exploding gradients\" problem.\n",
    "        torch.nn.utils.clip_grad_norm_(bert_classification_model.parameters(), 1.0)\n",
    "        optimizer.step()\n",
    "        scheduler.step()\n",
    "        \n",
    "        y_pred = np.argmax(logits.cpu().detach().numpy(), axis=1).flatten()\n",
    "        \n",
    "        total_train_accuracy += metric(labels.cpu(), y_pred)\n",
    "\n",
    "    return total_train_loss, total_train_accuracy"
   ]
  },
  {
   "cell_type": "markdown",
   "id": "f8e075d1",
   "metadata": {
    "papermill": {
     "duration": 0.053727,
     "end_time": "2024-04-17T10:57:31.765744",
     "exception": false,
     "start_time": "2024-04-17T10:57:31.712017",
     "status": "completed"
    },
    "tags": []
   },
   "source": [
    "### This function validates the batches from the val_dataloader"
   ]
  },
  {
   "cell_type": "code",
   "execution_count": 20,
   "id": "b8e967ca",
   "metadata": {
    "execution": {
     "iopub.execute_input": "2024-04-17T10:57:31.877142Z",
     "iopub.status.busy": "2024-04-17T10:57:31.876442Z",
     "iopub.status.idle": "2024-04-17T10:57:31.887965Z",
     "shell.execute_reply": "2024-04-17T10:57:31.886974Z"
    },
    "papermill": {
     "duration": 0.068517,
     "end_time": "2024-04-17T10:57:31.890004",
     "exception": false,
     "start_time": "2024-04-17T10:57:31.821487",
     "status": "completed"
    },
    "tags": []
   },
   "outputs": [],
   "source": [
    "def val_batch(epoch, bert_classification_model, val_dataloader, metric):\n",
    "    total_val_loss = 0\n",
    "    total_val_accuracy = 0\n",
    "    predicted_logits , predicted_labels = [], []\n",
    "    \n",
    "    for batch in tqdm(val_dataloader, desc=f\"Validating epoch: {epoch}\", unit=\"batch\"):\n",
    "        # Unpack batch from dataloader.\n",
    "        \n",
    "        if bert_model_name in [\"bert-base-uncased\", \"albert-base-v2\", \"deberta-base\"]:\n",
    "            input_ids = batch[0].to(device)\n",
    "            attention_masks = batch[1].to(device)\n",
    "            token_type_ids = batch[2].to(device)\n",
    "            labels = batch[3].to(device)\n",
    "\n",
    "            with torch.no_grad():\n",
    "                # Forward pass, calculate logit predictions.\n",
    "                outputs = bert_classification_model(input_ids, \n",
    "                                    token_type_ids=token_type_ids, \n",
    "                                    attention_mask=attention_masks,\n",
    "                                    labels=labels)\n",
    "                loss = outputs.loss\n",
    "                logits = outputs.logits\n",
    "                \n",
    "        elif bert_model_name in [\"roberta-base\", \"distilbert-base-uncased\"]:\n",
    "            input_ids = batch[0].to(device)\n",
    "            attention_masks = batch[1].to(device)\n",
    "            labels = batch[2].to(device)\n",
    "\n",
    "            with torch.no_grad():\n",
    "                # Forward pass, calculate logit predictions.\n",
    "                outputs = bert_classification_model(input_ids, \n",
    "                                    attention_mask=attention_masks,\n",
    "                                    labels=labels)\n",
    "                loss = outputs.loss\n",
    "                logits = outputs.logits\n",
    "            \n",
    "        total_val_loss += loss.item()\n",
    "        \n",
    "        y_pred = np.argmax(logits.cpu().detach().numpy(), axis=1).flatten()\n",
    "        \n",
    "        total_val_accuracy += metric(labels.cpu(), y_pred)\n",
    "        \n",
    "        predicted_logits.extend(logits.cpu().detach().numpy().tolist())\n",
    "        predicted_labels.extend(y_pred.tolist())\n",
    "    \n",
    "    return total_val_loss, total_val_accuracy, predicted_logits, predicted_labels"
   ]
  },
  {
   "cell_type": "markdown",
   "id": "8b4cb704",
   "metadata": {
    "papermill": {
     "duration": 0.053712,
     "end_time": "2024-04-17T10:57:31.997053",
     "exception": false,
     "start_time": "2024-04-17T10:57:31.943341",
     "status": "completed"
    },
    "tags": []
   },
   "source": [
    "### This function predicts the classes of the batches from the test_dataloader. Now the test_dataloader only contains X_test without y_test (which is None)"
   ]
  },
  {
   "cell_type": "code",
   "execution_count": 21,
   "id": "ba33335b",
   "metadata": {
    "execution": {
     "iopub.execute_input": "2024-04-17T10:57:32.107783Z",
     "iopub.status.busy": "2024-04-17T10:57:32.106645Z",
     "iopub.status.idle": "2024-04-17T10:57:32.116688Z",
     "shell.execute_reply": "2024-04-17T10:57:32.115887Z"
    },
    "papermill": {
     "duration": 0.06754,
     "end_time": "2024-04-17T10:57:32.118510",
     "exception": false,
     "start_time": "2024-04-17T10:57:32.050970",
     "status": "completed"
    },
    "tags": []
   },
   "outputs": [],
   "source": [
    "def predict_batch(bert_classification_model, predict_dataloader):\n",
    "    \n",
    "    predicted_logits , predicted_labels = [], []\n",
    "    \n",
    "    for batch in tqdm(predict_dataloader, desc=f\"Predicting\", unit=\"batch\"):\n",
    "        # Unpack batch from dataloader.\n",
    "        \n",
    "        if bert_model_name in [\"bert-base-uncased\", \"albert-base-v2\", \"deberta-base\"]:\n",
    "            input_ids = batch[0].to(device)\n",
    "            attention_masks = batch[1].to(device)\n",
    "            token_type_ids = batch[2].to(device)\n",
    "\n",
    "            with torch.no_grad():\n",
    "                # Forward pass, calculate logit predictions.\n",
    "                outputs = bert_classification_model(input_ids, \n",
    "                                    token_type_ids=token_type_ids, \n",
    "                                    attention_mask=attention_masks)\n",
    "                logits = outputs.logits\n",
    "                \n",
    "        elif bert_model_name in [\"roberta-base\", \"distilbert-base-uncased\"]:\n",
    "            input_ids = batch[0].to(device)\n",
    "            attention_masks = batch[1].to(device)\n",
    "\n",
    "            with torch.no_grad():\n",
    "                # Forward pass, calculate logit predictions.\n",
    "                outputs = bert_classification_model(input_ids, \n",
    "                                    attention_mask=attention_masks)\n",
    "                logits = outputs.logits\n",
    "            \n",
    "        y_pred = np.argmax(logits.cpu().detach().numpy(), axis=1).flatten()\n",
    "                \n",
    "        predicted_logits.extend(logits.cpu().detach().numpy().tolist())\n",
    "        predicted_labels.extend(y_pred.tolist())\n",
    "    \n",
    "    return predicted_logits, predicted_labels"
   ]
  },
  {
   "cell_type": "code",
   "execution_count": 22,
   "id": "3e38757a",
   "metadata": {
    "execution": {
     "iopub.execute_input": "2024-04-17T10:57:32.224900Z",
     "iopub.status.busy": "2024-04-17T10:57:32.224483Z",
     "iopub.status.idle": "2024-04-17T10:57:32.248479Z",
     "shell.execute_reply": "2024-04-17T10:57:32.247550Z"
    },
    "papermill": {
     "duration": 0.079322,
     "end_time": "2024-04-17T10:57:32.250436",
     "exception": false,
     "start_time": "2024-04-17T10:57:32.171114",
     "status": "completed"
    },
    "tags": []
   },
   "outputs": [],
   "source": [
    "import random\n",
    "\n",
    "seed_val = 42\n",
    "\n",
    "random.seed(seed_val)\n",
    "np.random.seed(seed_val)\n",
    "torch.manual_seed(seed_val)\n",
    "\n",
    "def fine_tuning_pretrained_model(epochs, bert_classification_model, \n",
    "                                 train_dataloader, \n",
    "                                 val_dataloader, \n",
    "                                 optimizer, \n",
    "                                 scheduler,\n",
    "                                 metric\n",
    "                                 ):\n",
    "    \n",
    "    fine_tuning_statistics = []\n",
    "    \n",
    "    for epoch in range(1, epochs + 1):\n",
    "\n",
    "        #################\n",
    "        # TRAINING PART #\n",
    "        #################\n",
    "\n",
    "        t_begin_train = time.time()\n",
    "        \n",
    "        bert_classification_model.train()\n",
    "        \n",
    "        total_train_loss, total_train_accuracy = train_batch(epoch,\n",
    "                                       bert_classification_model,\n",
    "                                       train_dataloader,\n",
    "                                       optimizer,\n",
    "                                       scheduler,\n",
    "                                       metric\n",
    "                                       )\n",
    "        \n",
    "        # Calculate the average training loss for all batches.\n",
    "        average_train_loss = total_train_loss / len(train_dataloader)\n",
    "        print(f\"  Average training loss: {average_train_loss}\")\n",
    "\n",
    "        # Calculate the average training accuracy for all batches.\n",
    "        average_train_accuracy = total_train_accuracy / len(train_dataloader)\n",
    "        print(f\"  Average training accuracy: {average_train_accuracy}\")\n",
    "        \n",
    "        t_end_train = time.time()\n",
    "\n",
    "        training_time = format_time(t_end_train - t_begin_train)\n",
    "        print(f\"  Training time took: {training_time}\")\n",
    "        \n",
    "        ###################\n",
    "        # VALIDATING PART #\n",
    "        ###################\n",
    "\n",
    "        t_begin_val = time.time()\n",
    "        \n",
    "        bert_classification_model.eval()\n",
    "        \n",
    "        total_val_loss, total_val_accuracy,\\\n",
    "        predicted_logits, predicted_labels = val_batch(epoch, \n",
    "                                                        bert_classification_model,\n",
    "                                                        val_dataloader,\n",
    "                                                        metric)\n",
    "        \n",
    "        # Calculate the average validation loss for all batches.\n",
    "        average_val_loss = total_val_loss / len(val_dataloader)\n",
    "        print(f\"  Average validation loss: {average_val_loss}\")\n",
    "\n",
    "        # Calculate the average validation accuracy for all batches.\n",
    "        average_val_accuracy = total_val_accuracy / len(val_dataloader)\n",
    "        print(f\"  Average validation accuracy: {average_val_accuracy}\")\n",
    "    \n",
    "        t_end_val = time.time()\n",
    "\n",
    "        validation_time = format_time(t_end_val - t_begin_val)\n",
    "        print(f\"  Validation time took: {validation_time}\")\n",
    "    \n",
    "        # Record all statistics from this epoch.\n",
    "        fine_tuning_statistics.append(\n",
    "            {\n",
    "                'epoch': epoch,\n",
    "                'train_loss': average_train_loss,\n",
    "                'train_accuracy': average_train_accuracy,\n",
    "                'train_time': training_time,\n",
    "                'val_loss': average_val_loss,\n",
    "                'val_accuracy': average_val_accuracy,\n",
    "                'val_time': validation_time\n",
    "            }\n",
    "        )\n",
    "        \n",
    "\n",
    "    print(\"\")\n",
    "    print(\"Training complete!\")\n",
    "\n",
    "    return fine_tuning_statistics"
   ]
  },
  {
   "cell_type": "markdown",
   "id": "1cee9343",
   "metadata": {
    "papermill": {
     "duration": 0.055259,
     "end_time": "2024-04-17T10:57:32.359369",
     "exception": false,
     "start_time": "2024-04-17T10:57:32.304110",
     "status": "completed"
    },
    "tags": []
   },
   "source": [
    "# Optimizer & Learning Rate Scheduler\n",
    "Now that we have our model loaded we need to grab the training hyperparameters from within the stored model.\n",
    "\n",
    "For the purposes of fine-tuning, the authors recommend choosing from the following values (from Appendix A.3 of the [BERT paper](https://arxiv.org/pdf/1810.04805.pdf)):\n",
    "\n",
    "* Batch size: 16, 32\n",
    "* Learning rate (Adam): 5e-5, 3e-5, 2e-5\n",
    "* Number of epochs: 2, 3, 4\n",
    "\n",
    "I chose:\n",
    "* Batch size: 10 (due to memory limit of Kaggle)\n",
    "* Learning rate: 2e-5\n",
    "* Number of epochs: 4\n",
    "\n",
    "We’re ready to kick off the training:"
   ]
  },
  {
   "cell_type": "code",
   "execution_count": 23,
   "id": "7f41800f",
   "metadata": {
    "execution": {
     "iopub.execute_input": "2024-04-17T10:57:32.485296Z",
     "iopub.status.busy": "2024-04-17T10:57:32.484888Z",
     "iopub.status.idle": "2024-04-17T12:44:37.852780Z",
     "shell.execute_reply": "2024-04-17T12:44:37.851466Z"
    },
    "papermill": {
     "duration": 6425.42885,
     "end_time": "2024-04-17T12:44:37.855472",
     "exception": false,
     "start_time": "2024-04-17T10:57:32.426622",
     "status": "completed"
    },
    "tags": []
   },
   "outputs": [
    {
     "name": "stderr",
     "output_type": "stream",
     "text": [
      "Training epoch: 1:   0%|          | 0/10776 [00:00<?, ?batch/s]huggingface/tokenizers: The current process just got forked, after parallelism has already been used. Disabling parallelism to avoid deadlocks...\n",
      "To disable this warning, you can either:\n",
      "\t- Avoid using `tokenizers` before the fork if possible\n",
      "\t- Explicitly set the environment variable TOKENIZERS_PARALLELISM=(true | false)\n",
      "huggingface/tokenizers: The current process just got forked, after parallelism has already been used. Disabling parallelism to avoid deadlocks...\n",
      "To disable this warning, you can either:\n",
      "\t- Avoid using `tokenizers` before the fork if possible\n",
      "\t- Explicitly set the environment variable TOKENIZERS_PARALLELISM=(true | false)\n",
      "huggingface/tokenizers: The current process just got forked, after parallelism has already been used. Disabling parallelism to avoid deadlocks...\n",
      "To disable this warning, you can either:\n",
      "\t- Avoid using `tokenizers` before the fork if possible\n",
      "\t- Explicitly set the environment variable TOKENIZERS_PARALLELISM=(true | false)\n",
      "huggingface/tokenizers: The current process just got forked, after parallelism has already been used. Disabling parallelism to avoid deadlocks...\n",
      "To disable this warning, you can either:\n",
      "\t- Avoid using `tokenizers` before the fork if possible\n",
      "\t- Explicitly set the environment variable TOKENIZERS_PARALLELISM=(true | false)\n",
      "Training epoch: 1: 100%|██████████| 10776/10776 [26:55<00:00,  6.67batch/s]\n"
     ]
    },
    {
     "name": "stdout",
     "output_type": "stream",
     "text": [
      "  Average training loss: 0.3644274321307312\n",
      "  Average training accuracy: 0.9026540460282176\n",
      "  Training time took: 0:26:55\n"
     ]
    },
    {
     "name": "stderr",
     "output_type": "stream",
     "text": [
      "Validating epoch: 1:   0%|          | 0/175 [00:00<?, ?batch/s]huggingface/tokenizers: The current process just got forked, after parallelism has already been used. Disabling parallelism to avoid deadlocks...\n",
      "To disable this warning, you can either:\n",
      "\t- Avoid using `tokenizers` before the fork if possible\n",
      "\t- Explicitly set the environment variable TOKENIZERS_PARALLELISM=(true | false)\n",
      "huggingface/tokenizers: The current process just got forked, after parallelism has already been used. Disabling parallelism to avoid deadlocks...\n",
      "To disable this warning, you can either:\n",
      "\t- Avoid using `tokenizers` before the fork if possible\n",
      "\t- Explicitly set the environment variable TOKENIZERS_PARALLELISM=(true | false)\n",
      "huggingface/tokenizers: The current process just got forked, after parallelism has already been used. Disabling parallelism to avoid deadlocks...\n",
      "To disable this warning, you can either:\n",
      "\t- Avoid using `tokenizers` before the fork if possible\n",
      "\t- Explicitly set the environment variable TOKENIZERS_PARALLELISM=(true | false)\n",
      "huggingface/tokenizers: The current process just got forked, after parallelism has already been used. Disabling parallelism to avoid deadlocks...\n",
      "To disable this warning, you can either:\n",
      "\t- Avoid using `tokenizers` before the fork if possible\n",
      "\t- Explicitly set the environment variable TOKENIZERS_PARALLELISM=(true | false)\n",
      "Validating epoch: 1: 100%|██████████| 175/175 [00:05<00:00, 31.34batch/s]\n"
     ]
    },
    {
     "name": "stdout",
     "output_type": "stream",
     "text": [
      "  Average validation loss: 0.35441526719368993\n",
      "  Average validation accuracy: 0.9200000000000002\n",
      "  Validation time took: 0:00:06\n"
     ]
    },
    {
     "name": "stderr",
     "output_type": "stream",
     "text": [
      "Training epoch: 2:   0%|          | 0/10776 [00:00<?, ?batch/s]huggingface/tokenizers: The current process just got forked, after parallelism has already been used. Disabling parallelism to avoid deadlocks...\n",
      "To disable this warning, you can either:\n",
      "\t- Avoid using `tokenizers` before the fork if possible\n",
      "\t- Explicitly set the environment variable TOKENIZERS_PARALLELISM=(true | false)\n",
      "huggingface/tokenizers: The current process just got forked, after parallelism has already been used. Disabling parallelism to avoid deadlocks...\n",
      "To disable this warning, you can either:\n",
      "\t- Avoid using `tokenizers` before the fork if possible\n",
      "\t- Explicitly set the environment variable TOKENIZERS_PARALLELISM=(true | false)\n",
      "huggingface/tokenizers: The current process just got forked, after parallelism has already been used. Disabling parallelism to avoid deadlocks...\n",
      "To disable this warning, you can either:\n",
      "\t- Avoid using `tokenizers` before the fork if possible\n",
      "\t- Explicitly set the environment variable TOKENIZERS_PARALLELISM=(true | false)\n",
      "huggingface/tokenizers: The current process just got forked, after parallelism has already been used. Disabling parallelism to avoid deadlocks...\n",
      "To disable this warning, you can either:\n",
      "\t- Avoid using `tokenizers` before the fork if possible\n",
      "\t- Explicitly set the environment variable TOKENIZERS_PARALLELISM=(true | false)\n",
      "Training epoch: 2: 100%|██████████| 10776/10776 [26:44<00:00,  6.72batch/s]\n"
     ]
    },
    {
     "name": "stdout",
     "output_type": "stream",
     "text": [
      "  Average training loss: 0.21283418610566598\n",
      "  Average training accuracy: 0.9536562731996985\n",
      "  Training time took: 0:26:44\n"
     ]
    },
    {
     "name": "stderr",
     "output_type": "stream",
     "text": [
      "Validating epoch: 2:   0%|          | 0/175 [00:00<?, ?batch/s]huggingface/tokenizers: The current process just got forked, after parallelism has already been used. Disabling parallelism to avoid deadlocks...\n",
      "To disable this warning, you can either:\n",
      "\t- Avoid using `tokenizers` before the fork if possible\n",
      "\t- Explicitly set the environment variable TOKENIZERS_PARALLELISM=(true | false)\n",
      "huggingface/tokenizers: The current process just got forked, after parallelism has already been used. Disabling parallelism to avoid deadlocks...\n",
      "To disable this warning, you can either:\n",
      "\t- Avoid using `tokenizers` before the fork if possible\n",
      "\t- Explicitly set the environment variable TOKENIZERS_PARALLELISM=(true | false)\n",
      "huggingface/tokenizers: The current process just got forked, after parallelism has already been used. Disabling parallelism to avoid deadlocks...\n",
      "To disable this warning, you can either:\n",
      "\t- Avoid using `tokenizers` before the fork if possible\n",
      "\t- Explicitly set the environment variable TOKENIZERS_PARALLELISM=(true | false)\n",
      "huggingface/tokenizers: The current process just got forked, after parallelism has already been used. Disabling parallelism to avoid deadlocks...\n",
      "To disable this warning, you can either:\n",
      "\t- Avoid using `tokenizers` before the fork if possible\n",
      "\t- Explicitly set the environment variable TOKENIZERS_PARALLELISM=(true | false)\n",
      "Validating epoch: 2: 100%|██████████| 175/175 [00:05<00:00, 32.19batch/s]\n"
     ]
    },
    {
     "name": "stdout",
     "output_type": "stream",
     "text": [
      "  Average validation loss: 0.34060934486599376\n",
      "  Average validation accuracy: 0.9234285714285719\n",
      "  Validation time took: 0:00:05\n"
     ]
    },
    {
     "name": "stderr",
     "output_type": "stream",
     "text": [
      "Training epoch: 3:   0%|          | 0/10776 [00:00<?, ?batch/s]huggingface/tokenizers: The current process just got forked, after parallelism has already been used. Disabling parallelism to avoid deadlocks...\n",
      "To disable this warning, you can either:\n",
      "\t- Avoid using `tokenizers` before the fork if possible\n",
      "\t- Explicitly set the environment variable TOKENIZERS_PARALLELISM=(true | false)\n",
      "huggingface/tokenizers: The current process just got forked, after parallelism has already been used. Disabling parallelism to avoid deadlocks...\n",
      "To disable this warning, you can either:\n",
      "\t- Avoid using `tokenizers` before the fork if possible\n",
      "\t- Explicitly set the environment variable TOKENIZERS_PARALLELISM=(true | false)\n",
      "huggingface/tokenizers: The current process just got forked, after parallelism has already been used. Disabling parallelism to avoid deadlocks...\n",
      "To disable this warning, you can either:\n",
      "\t- Avoid using `tokenizers` before the fork if possible\n",
      "\t- Explicitly set the environment variable TOKENIZERS_PARALLELISM=(true | false)\n",
      "huggingface/tokenizers: The current process just got forked, after parallelism has already been used. Disabling parallelism to avoid deadlocks...\n",
      "To disable this warning, you can either:\n",
      "\t- Avoid using `tokenizers` before the fork if possible\n",
      "\t- Explicitly set the environment variable TOKENIZERS_PARALLELISM=(true | false)\n",
      "Training epoch: 3: 100%|██████████| 10776/10776 [26:35<00:00,  6.75batch/s]\n"
     ]
    },
    {
     "name": "stdout",
     "output_type": "stream",
     "text": [
      "  Average training loss: 0.13346722868873925\n",
      "  Average training accuracy: 0.9733064216777965\n",
      "  Training time took: 0:26:36\n"
     ]
    },
    {
     "name": "stderr",
     "output_type": "stream",
     "text": [
      "Validating epoch: 3:   0%|          | 0/175 [00:00<?, ?batch/s]huggingface/tokenizers: The current process just got forked, after parallelism has already been used. Disabling parallelism to avoid deadlocks...\n",
      "To disable this warning, you can either:\n",
      "\t- Avoid using `tokenizers` before the fork if possible\n",
      "\t- Explicitly set the environment variable TOKENIZERS_PARALLELISM=(true | false)\n",
      "huggingface/tokenizers: The current process just got forked, after parallelism has already been used. Disabling parallelism to avoid deadlocks...\n",
      "To disable this warning, you can either:\n",
      "\t- Avoid using `tokenizers` before the fork if possible\n",
      "\t- Explicitly set the environment variable TOKENIZERS_PARALLELISM=(true | false)\n",
      "huggingface/tokenizers: The current process just got forked, after parallelism has already been used. Disabling parallelism to avoid deadlocks...\n",
      "To disable this warning, you can either:\n",
      "\t- Avoid using `tokenizers` before the fork if possible\n",
      "\t- Explicitly set the environment variable TOKENIZERS_PARALLELISM=(true | false)\n",
      "huggingface/tokenizers: The current process just got forked, after parallelism has already been used. Disabling parallelism to avoid deadlocks...\n",
      "To disable this warning, you can either:\n",
      "\t- Avoid using `tokenizers` before the fork if possible\n",
      "\t- Explicitly set the environment variable TOKENIZERS_PARALLELISM=(true | false)\n",
      "Validating epoch: 3:  99%|█████████▉| 173/175 [00:05<00:00, 32.30batch/s]huggingface/tokenizers: The current process just got forked, after parallelism has already been used. Disabling parallelism to avoid deadlocks...\n",
      "To disable this warning, you can either:\n",
      "\t- Avoid using `tokenizers` before the fork if possible\n",
      "\t- Explicitly set the environment variable TOKENIZERS_PARALLELISM=(true | false)\n",
      "Validating epoch: 3: 100%|██████████| 175/175 [00:05<00:00, 31.81batch/s]\n"
     ]
    },
    {
     "name": "stdout",
     "output_type": "stream",
     "text": [
      "  Average validation loss: 0.3395693137983991\n",
      "  Average validation accuracy: 0.9337142857142859\n",
      "  Validation time took: 0:00:06\n"
     ]
    },
    {
     "name": "stderr",
     "output_type": "stream",
     "text": [
      "Training epoch: 4:   0%|          | 0/10776 [00:00<?, ?batch/s]huggingface/tokenizers: The current process just got forked, after parallelism has already been used. Disabling parallelism to avoid deadlocks...\n",
      "To disable this warning, you can either:\n",
      "\t- Avoid using `tokenizers` before the fork if possible\n",
      "\t- Explicitly set the environment variable TOKENIZERS_PARALLELISM=(true | false)\n",
      "huggingface/tokenizers: The current process just got forked, after parallelism has already been used. Disabling parallelism to avoid deadlocks...\n",
      "To disable this warning, you can either:\n",
      "\t- Avoid using `tokenizers` before the fork if possible\n",
      "\t- Explicitly set the environment variable TOKENIZERS_PARALLELISM=(true | false)\n",
      "huggingface/tokenizers: The current process just got forked, after parallelism has already been used. Disabling parallelism to avoid deadlocks...\n",
      "To disable this warning, you can either:\n",
      "\t- Avoid using `tokenizers` before the fork if possible\n",
      "\t- Explicitly set the environment variable TOKENIZERS_PARALLELISM=(true | false)\n",
      "huggingface/tokenizers: The current process just got forked, after parallelism has already been used. Disabling parallelism to avoid deadlocks...\n",
      "To disable this warning, you can either:\n",
      "\t- Avoid using `tokenizers` before the fork if possible\n",
      "\t- Explicitly set the environment variable TOKENIZERS_PARALLELISM=(true | false)\n",
      "Training epoch: 4: 100%|██████████| 10776/10776 [26:28<00:00,  6.79batch/s]\n"
     ]
    },
    {
     "name": "stdout",
     "output_type": "stream",
     "text": [
      "  Average training loss: 0.08308933613308002\n",
      "  Average training accuracy: 0.9842798812175154\n",
      "  Training time took: 0:26:28\n"
     ]
    },
    {
     "name": "stderr",
     "output_type": "stream",
     "text": [
      "Validating epoch: 4:   0%|          | 0/175 [00:00<?, ?batch/s]huggingface/tokenizers: The current process just got forked, after parallelism has already been used. Disabling parallelism to avoid deadlocks...\n",
      "To disable this warning, you can either:\n",
      "\t- Avoid using `tokenizers` before the fork if possible\n",
      "\t- Explicitly set the environment variable TOKENIZERS_PARALLELISM=(true | false)\n",
      "huggingface/tokenizers: The current process just got forked, after parallelism has already been used. Disabling parallelism to avoid deadlocks...\n",
      "To disable this warning, you can either:\n",
      "\t- Avoid using `tokenizers` before the fork if possible\n",
      "\t- Explicitly set the environment variable TOKENIZERS_PARALLELISM=(true | false)\n",
      "huggingface/tokenizers: The current process just got forked, after parallelism has already been used. Disabling parallelism to avoid deadlocks...\n",
      "To disable this warning, you can either:\n",
      "\t- Avoid using `tokenizers` before the fork if possible\n",
      "\t- Explicitly set the environment variable TOKENIZERS_PARALLELISM=(true | false)\n",
      "huggingface/tokenizers: The current process just got forked, after parallelism has already been used. Disabling parallelism to avoid deadlocks...\n",
      "To disable this warning, you can either:\n",
      "\t- Avoid using `tokenizers` before the fork if possible\n",
      "\t- Explicitly set the environment variable TOKENIZERS_PARALLELISM=(true | false)\n",
      "Validating epoch: 4: 100%|██████████| 175/175 [00:05<00:00, 31.51batch/s]"
     ]
    },
    {
     "name": "stdout",
     "output_type": "stream",
     "text": [
      "  Average validation loss: 0.3299274878013447\n",
      "  Average validation accuracy: 0.9462857142857146\n",
      "  Validation time took: 0:00:06\n",
      "\n",
      "Training complete!\n"
     ]
    },
    {
     "name": "stderr",
     "output_type": "stream",
     "text": [
      "\n"
     ]
    }
   ],
   "source": [
    "from torch.optim import AdamW\n",
    "from sklearn.metrics import accuracy_score\n",
    "\n",
    "adamw_optimizer = AdamW(bert_classification_model.parameters(),\n",
    "                  lr = 2e-5, # args.learning_rate - default is 5e-5, our notebook had 2e-5\n",
    "                  eps = 1e-8 # args.adam_epsilon  - default is 1e-8.\n",
    "                )\n",
    "\n",
    "from transformers import get_linear_schedule_with_warmup\n",
    "\n",
    "# Number of training epochs. The BERT authors recommend between 2 and 4. \n",
    "epochs = 4\n",
    "\n",
    "# Total number of training steps is [number of batches] x [number of epochs]. \n",
    "# (Note that this is not the same as the number of training samples).\n",
    "\n",
    "total_steps = len(train_dataloader) * epochs\n",
    "\n",
    "# Create the learning rate scheduler.\n",
    "scheduler = get_linear_schedule_with_warmup(adamw_optimizer, \n",
    "                                            num_warmup_steps = 0, \n",
    "                                            num_training_steps = total_steps)\n",
    "\n",
    "# Finally, we start to train the model\n",
    "fine_tuning_statistics = fine_tuning_pretrained_model(\n",
    "    epochs,\n",
    "    bert_classification_model,\n",
    "    train_dataloader,\n",
    "    val_dataloader,\n",
    "    adamw_optimizer,\n",
    "    scheduler,\n",
    "    accuracy_score)"
   ]
  },
  {
   "cell_type": "markdown",
   "id": "a8339b20",
   "metadata": {
    "papermill": {
     "duration": 3.725095,
     "end_time": "2024-04-17T12:44:45.319830",
     "exception": false,
     "start_time": "2024-04-17T12:44:41.594735",
     "status": "completed"
    },
    "tags": []
   },
   "source": [
    "### Let’s view the summary of the training process. First we create a folder to save the results for the BERT variant"
   ]
  },
  {
   "cell_type": "code",
   "execution_count": 24,
   "id": "587abafa",
   "metadata": {
    "execution": {
     "iopub.execute_input": "2024-04-17T12:44:52.839938Z",
     "iopub.status.busy": "2024-04-17T12:44:52.839533Z",
     "iopub.status.idle": "2024-04-17T12:44:52.844564Z",
     "shell.execute_reply": "2024-04-17T12:44:52.843744Z"
    },
    "papermill": {
     "duration": 3.713153,
     "end_time": "2024-04-17T12:44:52.846466",
     "exception": false,
     "start_time": "2024-04-17T12:44:49.133313",
     "status": "completed"
    },
    "tags": []
   },
   "outputs": [],
   "source": [
    "if not os.path.exists(f\"{bert_model_name}\"):\n",
    "    os.makedirs(f\"{bert_model_name}\")"
   ]
  },
  {
   "cell_type": "code",
   "execution_count": 25,
   "id": "8264c261",
   "metadata": {
    "execution": {
     "iopub.execute_input": "2024-04-17T12:45:00.185920Z",
     "iopub.status.busy": "2024-04-17T12:45:00.185038Z",
     "iopub.status.idle": "2024-04-17T12:45:00.213087Z",
     "shell.execute_reply": "2024-04-17T12:45:00.212201Z"
    },
    "papermill": {
     "duration": 3.681919,
     "end_time": "2024-04-17T12:45:00.215004",
     "exception": false,
     "start_time": "2024-04-17T12:44:56.533085",
     "status": "completed"
    },
    "tags": []
   },
   "outputs": [
    {
     "data": {
      "text/html": [
       "<div>\n",
       "<style scoped>\n",
       "    .dataframe tbody tr th:only-of-type {\n",
       "        vertical-align: middle;\n",
       "    }\n",
       "\n",
       "    .dataframe tbody tr th {\n",
       "        vertical-align: top;\n",
       "    }\n",
       "\n",
       "    .dataframe thead th {\n",
       "        text-align: right;\n",
       "    }\n",
       "</style>\n",
       "<table border=\"1\" class=\"dataframe\">\n",
       "  <thead>\n",
       "    <tr style=\"text-align: right;\">\n",
       "      <th></th>\n",
       "      <th>train_loss</th>\n",
       "      <th>train_accuracy</th>\n",
       "      <th>train_time</th>\n",
       "      <th>val_loss</th>\n",
       "      <th>val_accuracy</th>\n",
       "      <th>val_time</th>\n",
       "    </tr>\n",
       "    <tr>\n",
       "      <th>epoch</th>\n",
       "      <th></th>\n",
       "      <th></th>\n",
       "      <th></th>\n",
       "      <th></th>\n",
       "      <th></th>\n",
       "      <th></th>\n",
       "    </tr>\n",
       "  </thead>\n",
       "  <tbody>\n",
       "    <tr>\n",
       "      <th>1</th>\n",
       "      <td>0.364427</td>\n",
       "      <td>0.902654</td>\n",
       "      <td>0:26:55</td>\n",
       "      <td>0.354415</td>\n",
       "      <td>0.920000</td>\n",
       "      <td>0:00:06</td>\n",
       "    </tr>\n",
       "    <tr>\n",
       "      <th>2</th>\n",
       "      <td>0.212834</td>\n",
       "      <td>0.953656</td>\n",
       "      <td>0:26:44</td>\n",
       "      <td>0.340609</td>\n",
       "      <td>0.923429</td>\n",
       "      <td>0:00:05</td>\n",
       "    </tr>\n",
       "    <tr>\n",
       "      <th>3</th>\n",
       "      <td>0.133467</td>\n",
       "      <td>0.973306</td>\n",
       "      <td>0:26:36</td>\n",
       "      <td>0.339569</td>\n",
       "      <td>0.933714</td>\n",
       "      <td>0:00:06</td>\n",
       "    </tr>\n",
       "    <tr>\n",
       "      <th>4</th>\n",
       "      <td>0.083089</td>\n",
       "      <td>0.984280</td>\n",
       "      <td>0:26:28</td>\n",
       "      <td>0.329927</td>\n",
       "      <td>0.946286</td>\n",
       "      <td>0:00:06</td>\n",
       "    </tr>\n",
       "  </tbody>\n",
       "</table>\n",
       "</div>"
      ],
      "text/plain": [
       "       train_loss  train_accuracy train_time  val_loss  val_accuracy val_time\n",
       "epoch                                                                        \n",
       "1        0.364427        0.902654    0:26:55  0.354415      0.920000  0:00:06\n",
       "2        0.212834        0.953656    0:26:44  0.340609      0.923429  0:00:05\n",
       "3        0.133467        0.973306    0:26:36  0.339569      0.933714  0:00:06\n",
       "4        0.083089        0.984280    0:26:28  0.329927      0.946286  0:00:06"
      ]
     },
     "execution_count": 25,
     "metadata": {},
     "output_type": "execute_result"
    }
   ],
   "source": [
    "df_stats = pd.DataFrame(fine_tuning_statistics).set_index('epoch')\n",
    "# Saving the fine_tuning_statistics\n",
    "df_stats.to_csv(f\"{bert_model_name}/fine_tuning_statistics.csv\")\n",
    "df_stats"
   ]
  },
  {
   "cell_type": "code",
   "execution_count": 26,
   "id": "84a4afc2",
   "metadata": {
    "execution": {
     "iopub.execute_input": "2024-04-17T12:45:07.710399Z",
     "iopub.status.busy": "2024-04-17T12:45:07.710027Z",
     "iopub.status.idle": "2024-04-17T12:45:08.139535Z",
     "shell.execute_reply": "2024-04-17T12:45:08.138649Z"
    },
    "papermill": {
     "duration": 4.144528,
     "end_time": "2024-04-17T12:45:08.141822",
     "exception": false,
     "start_time": "2024-04-17T12:45:03.997294",
     "status": "completed"
    },
    "tags": []
   },
   "outputs": [
    {
     "data": {
      "image/png": "[encoded data removed]",
      "text/plain": [
       "<Figure size 640x480 with 1 Axes>"
      ]
     },
     "metadata": {},
     "output_type": "display_data"
    }
   ],
   "source": [
    "from matplotlib import pyplot\n",
    "\n",
    "%matplotlib inline\n",
    "\n",
    "pyplot.plot(df_stats['train_loss'], 'b-o', label=\"training\")\n",
    "pyplot.plot(df_stats['val_loss'], 'g-o', label=\"validation\")\n",
    "pyplot.title(f\"{bert_model_name}: training & validation loss\", fontsize=15)\n",
    "pyplot.xlabel(\"Epoch\", fontsize=14)\n",
    "pyplot.ylabel(\"Loss\", fontsize=14)\n",
    "pyplot.legend(frameon=False, fontsize=14)\n",
    "pyplot.xticks(df_stats.index.values.tolist(), fontsize=12)\n",
    "pyplot.yticks(fontsize=12)\n",
    "pyplot.savefig(f\"{bert_model_name}/train_val_loss_plot.png\")\n",
    "pyplot.show()"
   ]
  },
  {
   "cell_type": "code",
   "execution_count": 27,
   "id": "4eb2a71a",
   "metadata": {
    "execution": {
     "iopub.execute_input": "2024-04-17T12:45:15.616353Z",
     "iopub.status.busy": "2024-04-17T12:45:15.615644Z",
     "iopub.status.idle": "2024-04-17T12:45:15.976423Z",
     "shell.execute_reply": "2024-04-17T12:45:15.975519Z"
    },
    "papermill": {
     "duration": 4.089576,
     "end_time": "2024-04-17T12:45:15.978736",
     "exception": false,
     "start_time": "2024-04-17T12:45:11.889160",
     "status": "completed"
    },
    "tags": []
   },
   "outputs": [
    {
     "data": {
      "image/png": "[encoded data removed]",
      "text/plain": [
       "<Figure size 640x480 with 1 Axes>"
      ]
     },
     "metadata": {},
     "output_type": "display_data"
    }
   ],
   "source": [
    "from matplotlib import pyplot\n",
    "\n",
    "%matplotlib inline\n",
    "\n",
    "pyplot.plot(df_stats['train_accuracy'], 'b-o', label=\"training\")\n",
    "pyplot.plot(df_stats['val_accuracy'], 'g-o', label=\"validation\")\n",
    "pyplot.title(f\"{bert_model_name}: training & validation accuracy\", fontsize=15)\n",
    "pyplot.xlabel(\"Epoch\", fontsize=14)\n",
    "pyplot.ylabel(\"Loss\", fontsize=14)\n",
    "pyplot.legend(frameon=False, fontsize=14)\n",
    "pyplot.xticks(df_stats.index.values.tolist(), fontsize=12)\n",
    "pyplot.yticks(fontsize=12)\n",
    "pyplot.savefig(f\"{bert_model_name}/train_val_accuracy_plot.png\")\n",
    "pyplot.show()"
   ]
  },
  {
   "cell_type": "markdown",
   "id": "5af8cde6",
   "metadata": {
    "papermill": {
     "duration": 3.647144,
     "end_time": "2024-04-17T12:45:23.275207",
     "exception": false,
     "start_time": "2024-04-17T12:45:19.628063",
     "status": "completed"
    },
    "tags": []
   },
   "source": [
    "## Performance on test set and prediction"
   ]
  },
  {
   "cell_type": "code",
   "execution_count": 28,
   "id": "465ab6f6",
   "metadata": {
    "execution": {
     "iopub.execute_input": "2024-04-17T12:45:30.651008Z",
     "iopub.status.busy": "2024-04-17T12:45:30.650519Z",
     "iopub.status.idle": "2024-04-17T12:45:36.773226Z",
     "shell.execute_reply": "2024-04-17T12:45:36.772045Z"
    },
    "papermill": {
     "duration": 9.756196,
     "end_time": "2024-04-17T12:45:36.775521",
     "exception": false,
     "start_time": "2024-04-17T12:45:27.019325",
     "status": "completed"
    },
    "tags": []
   },
   "outputs": [
    {
     "name": "stdout",
     "output_type": "stream",
     "text": [
      "<class 'pandas.core.series.Series'>\n"
     ]
    },
    {
     "name": "stderr",
     "output_type": "stream",
     "text": [
      "100%|██████████| 13470/13470 [00:05<00:00, 2567.26it/s]\n"
     ]
    },
    {
     "name": "stdout",
     "output_type": "stream",
     "text": [
      "Shape of input_ids is torch.Size([13470, 64])\n",
      "Shape of token_type_ids is torch.Size([13470, 64])\n",
      "Shape of attention_masks is torch.Size([13470, 64])\n",
      "Shape of labels is torch.Size([13470])\n"
     ]
    },
    {
     "name": "stderr",
     "output_type": "stream",
     "text": [
      "100%|██████████| 1821/1821 [00:00<00:00, 2400.92it/s]"
     ]
    },
    {
     "name": "stdout",
     "output_type": "stream",
     "text": [
      "Shape of input_ids is torch.Size([1821, 64])\n",
      "Shape of token_type_ids is torch.Size([1821, 64])\n",
      "Shape of attention_masks is torch.Size([1821, 64])\n",
      "Shape of labels is torch.Size([1821])\n"
     ]
    },
    {
     "name": "stderr",
     "output_type": "stream",
     "text": [
      "\n"
     ]
    }
   ],
   "source": [
    "print(type(y_test_known_labels))\n",
    "test_tensor_known_labels = convert_to_dataset_torch(X_test_known_labels, y_test_known_labels)\n",
    "test_dataloader = DataLoader(test_tensor_known_labels, \n",
    "                             sampler=SequentialSampler(test_tensor_known_labels), \n",
    "                             batch_size=batch_size)\n",
    "\n",
    "#print(len(X_test_unknown_labels))\n",
    "#features_tensor = torch.tensor(X_test_unknown_labels.to_numpy(), dtype=torch.float32)\n",
    "#print(features_tensor.shape)\n",
    "\n",
    "# Create dummy labels tensor\n",
    "\n",
    "dummy_labels_series = pd.Series([-1] * len(X_test_unknown_labels))\n",
    "# print(X_test_unknown_labels.shape)\n",
    "test_tensor_unknown_labels = convert_to_dataset_torch(X_test_unknown_labels, dummy_labels_series)\n",
    "predict_dataloader = DataLoader(test_tensor_unknown_labels, \n",
    "                             sampler=SequentialSampler(test_tensor_unknown_labels), \n",
    "                             batch_size=batch_size)"
   ]
  },
  {
   "cell_type": "markdown",
   "id": "c7befa10",
   "metadata": {
    "papermill": {
     "duration": 3.751275,
     "end_time": "2024-04-17T12:45:44.221883",
     "exception": false,
     "start_time": "2024-04-17T12:45:40.470608",
     "status": "completed"
    },
    "tags": []
   },
   "source": [
    "## Evaluate on the test set with known labels\n",
    "With the test set prepared, we can apply our fine-tuned model to generate predictions on the test set with known labels"
   ]
  },
  {
   "cell_type": "code",
   "execution_count": 29,
   "id": "927a6cc9",
   "metadata": {
    "execution": {
     "iopub.execute_input": "2024-04-17T12:45:51.722652Z",
     "iopub.status.busy": "2024-04-17T12:45:51.722313Z",
     "iopub.status.idle": "2024-04-17T12:47:05.913356Z",
     "shell.execute_reply": "2024-04-17T12:47:05.912066Z"
    },
    "papermill": {
     "duration": 77.968342,
     "end_time": "2024-04-17T12:47:05.917198",
     "exception": false,
     "start_time": "2024-04-17T12:45:47.948856",
     "status": "completed"
    },
    "tags": []
   },
   "outputs": [
    {
     "name": "stderr",
     "output_type": "stream",
     "text": [
      "Validating epoch: None: 100%|██████████| 2694/2694 [01:14<00:00, 36.32batch/s]\n"
     ]
    }
   ],
   "source": [
    "bert_classification_model.eval()\n",
    "\n",
    "total_val_loss, total_val_accuracy,\\\n",
    "predicted_logits_val, predicted_labels_val = val_batch(None, bert_classification_model, \n",
    "                                               test_dataloader, accuracy_score)"
   ]
  },
  {
   "cell_type": "markdown",
   "id": "b34146a2",
   "metadata": {
    "papermill": {
     "duration": 3.705495,
     "end_time": "2024-04-17T12:47:13.329490",
     "exception": false,
     "start_time": "2024-04-17T12:47:09.623995",
     "status": "completed"
    },
    "tags": []
   },
   "source": [
    "## Making prediction on the test set with unknown labels\n",
    "\n",
    "With the predict set prepared, we can apply our fine-tuned model to generate predictions on the test set with unknown labels"
   ]
  },
  {
   "cell_type": "code",
   "execution_count": 30,
   "id": "4d8b9b63",
   "metadata": {
    "execution": {
     "iopub.execute_input": "2024-04-17T12:47:20.944608Z",
     "iopub.status.busy": "2024-04-17T12:47:20.944254Z",
     "iopub.status.idle": "2024-04-17T12:47:30.706727Z",
     "shell.execute_reply": "2024-04-17T12:47:30.705093Z"
    },
    "papermill": {
     "duration": 13.521558,
     "end_time": "2024-04-17T12:47:30.709021",
     "exception": false,
     "start_time": "2024-04-17T12:47:17.187463",
     "status": "completed"
    },
    "tags": []
   },
   "outputs": [
    {
     "name": "stderr",
     "output_type": "stream",
     "text": [
      "Predicting: 100%|██████████| 365/365 [00:09<00:00, 37.43batch/s]\n"
     ]
    }
   ],
   "source": [
    "bert_classification_model.eval()\n",
    "\n",
    "predicted_logits_test, predicted_labels_test = predict_batch(bert_classification_model, \n",
    "                                                   predict_dataloader)"
   ]
  },
  {
   "cell_type": "markdown",
   "id": "6b975b42",
   "metadata": {
    "papermill": {
     "duration": 3.808529,
     "end_time": "2024-04-17T12:47:38.304088",
     "exception": false,
     "start_time": "2024-04-17T12:47:34.495559",
     "status": "completed"
    },
    "tags": []
   },
   "source": [
    "### We construct the testing result with corresponding truth labels and predicted labels by the fine-tuned BERT model. This testing data is part of the training data (train.tsv)"
   ]
  },
  {
   "cell_type": "code",
   "execution_count": 31,
   "id": "ec584b79",
   "metadata": {
    "execution": {
     "iopub.execute_input": "2024-04-17T12:47:45.784073Z",
     "iopub.status.busy": "2024-04-17T12:47:45.782956Z",
     "iopub.status.idle": "2024-04-17T12:47:45.808372Z",
     "shell.execute_reply": "2024-04-17T12:47:45.807172Z"
    },
    "papermill": {
     "duration": 3.778621,
     "end_time": "2024-04-17T12:47:45.810928",
     "exception": false,
     "start_time": "2024-04-17T12:47:42.032307",
     "status": "completed"
    },
    "tags": []
   },
   "outputs": [
    {
     "data": {
      "text/html": [
       "<div>\n",
       "<style scoped>\n",
       "    .dataframe tbody tr th:only-of-type {\n",
       "        vertical-align: middle;\n",
       "    }\n",
       "\n",
       "    .dataframe tbody tr th {\n",
       "        vertical-align: top;\n",
       "    }\n",
       "\n",
       "    .dataframe thead th {\n",
       "        text-align: right;\n",
       "    }\n",
       "</style>\n",
       "<table border=\"1\" class=\"dataframe\">\n",
       "  <thead>\n",
       "    <tr style=\"text-align: right;\">\n",
       "      <th></th>\n",
       "      <th>sentence</th>\n",
       "      <th>true_label</th>\n",
       "      <th>predicted_label</th>\n",
       "    </tr>\n",
       "  </thead>\n",
       "  <tbody>\n",
       "    <tr>\n",
       "      <th>66730</th>\n",
       "      <td>with outtakes in which most of the characters ...</td>\n",
       "      <td>0</td>\n",
       "      <td>0</td>\n",
       "    </tr>\n",
       "    <tr>\n",
       "      <th>29890</th>\n",
       "      <td>enigma is well-made</td>\n",
       "      <td>1</td>\n",
       "      <td>1</td>\n",
       "    </tr>\n",
       "    <tr>\n",
       "      <th>45801</th>\n",
       "      <td>is ) so stoked to make an important film about...</td>\n",
       "      <td>0</td>\n",
       "      <td>0</td>\n",
       "    </tr>\n",
       "    <tr>\n",
       "      <th>29352</th>\n",
       "      <td>the closest thing to the experience of space t...</td>\n",
       "      <td>1</td>\n",
       "      <td>0</td>\n",
       "    </tr>\n",
       "    <tr>\n",
       "      <th>19858</th>\n",
       "      <td>lose their luster</td>\n",
       "      <td>0</td>\n",
       "      <td>0</td>\n",
       "    </tr>\n",
       "  </tbody>\n",
       "</table>\n",
       "</div>"
      ],
      "text/plain": [
       "                                                sentence  true_label  \\\n",
       "66730  with outtakes in which most of the characters ...           0   \n",
       "29890                               enigma is well-made            1   \n",
       "45801  is ) so stoked to make an important film about...           0   \n",
       "29352  the closest thing to the experience of space t...           1   \n",
       "19858                                 lose their luster            0   \n",
       "\n",
       "       predicted_label  \n",
       "66730                0  \n",
       "29890                1  \n",
       "45801                0  \n",
       "29352                0  \n",
       "19858                0  "
      ]
     },
     "execution_count": 31,
     "metadata": {},
     "output_type": "execute_result"
    }
   ],
   "source": [
    "testing_results_known_labels = pd.DataFrame()\n",
    "testing_results_known_labels[\"sentence\"] = X_test_known_labels[\"sentence\"]\n",
    "testing_results_known_labels[\"true_label\"] = y_test_known_labels\n",
    "testing_results_known_labels[\"predicted_label\"] = predicted_labels_val\n",
    "testing_results_known_labels.head()"
   ]
  },
  {
   "cell_type": "markdown",
   "id": "3c1192f9",
   "metadata": {
    "papermill": {
     "duration": 3.814994,
     "end_time": "2024-04-17T12:47:53.437432",
     "exception": false,
     "start_time": "2024-04-17T12:47:49.622438",
     "status": "completed"
    },
    "tags": []
   },
   "source": [
    "### We construct the testing result with no known labels (the test.tsv file) with the predicted labels by the fine-tuned BERT model"
   ]
  },
  {
   "cell_type": "code",
   "execution_count": 32,
   "id": "44ab9f15",
   "metadata": {
    "execution": {
     "iopub.execute_input": "2024-04-17T12:48:00.941378Z",
     "iopub.status.busy": "2024-04-17T12:48:00.941028Z",
     "iopub.status.idle": "2024-04-17T12:48:00.953906Z",
     "shell.execute_reply": "2024-04-17T12:48:00.952973Z"
    },
    "papermill": {
     "duration": 3.707691,
     "end_time": "2024-04-17T12:48:00.956112",
     "exception": false,
     "start_time": "2024-04-17T12:47:57.248421",
     "status": "completed"
    },
    "tags": []
   },
   "outputs": [
    {
     "data": {
      "text/html": [
       "<div>\n",
       "<style scoped>\n",
       "    .dataframe tbody tr th:only-of-type {\n",
       "        vertical-align: middle;\n",
       "    }\n",
       "\n",
       "    .dataframe tbody tr th {\n",
       "        vertical-align: top;\n",
       "    }\n",
       "\n",
       "    .dataframe thead th {\n",
       "        text-align: right;\n",
       "    }\n",
       "</style>\n",
       "<table border=\"1\" class=\"dataframe\">\n",
       "  <thead>\n",
       "    <tr style=\"text-align: right;\">\n",
       "      <th></th>\n",
       "      <th>sentence</th>\n",
       "      <th>predicted_label</th>\n",
       "    </tr>\n",
       "  </thead>\n",
       "  <tbody>\n",
       "    <tr>\n",
       "      <th>0</th>\n",
       "      <td>uneasy mishmash of styles and genres .</td>\n",
       "      <td>0</td>\n",
       "    </tr>\n",
       "    <tr>\n",
       "      <th>1</th>\n",
       "      <td>this film 's relationship to actual tension is...</td>\n",
       "      <td>0</td>\n",
       "    </tr>\n",
       "    <tr>\n",
       "      <th>2</th>\n",
       "      <td>by the end of no such thing the audience , lik...</td>\n",
       "      <td>1</td>\n",
       "    </tr>\n",
       "    <tr>\n",
       "      <th>3</th>\n",
       "      <td>director rob marshall went out gunning to make...</td>\n",
       "      <td>1</td>\n",
       "    </tr>\n",
       "    <tr>\n",
       "      <th>4</th>\n",
       "      <td>lathan and diggs have considerable personal ch...</td>\n",
       "      <td>1</td>\n",
       "    </tr>\n",
       "  </tbody>\n",
       "</table>\n",
       "</div>"
      ],
      "text/plain": [
       "                                            sentence  predicted_label\n",
       "0             uneasy mishmash of styles and genres .                0\n",
       "1  this film 's relationship to actual tension is...                0\n",
       "2  by the end of no such thing the audience , lik...                1\n",
       "3  director rob marshall went out gunning to make...                1\n",
       "4  lathan and diggs have considerable personal ch...                1"
      ]
     },
     "execution_count": 32,
     "metadata": {},
     "output_type": "execute_result"
    }
   ],
   "source": [
    "testing_results_unknown_labels = pd.DataFrame()\n",
    "testing_results_unknown_labels[\"sentence\"] = X_test_unknown_labels[\"sentence\"]\n",
    "testing_results_unknown_labels[\"predicted_label\"] = predicted_labels_test\n",
    "testing_results_unknown_labels.head()"
   ]
  },
  {
   "cell_type": "markdown",
   "id": "c54bc37a",
   "metadata": {
    "papermill": {
     "duration": 3.803234,
     "end_time": "2024-04-17T12:48:08.542320",
     "exception": false,
     "start_time": "2024-04-17T12:48:04.739086",
     "status": "completed"
    },
    "tags": []
   },
   "source": [
    "### Saving testing results"
   ]
  },
  {
   "cell_type": "code",
   "execution_count": 33,
   "id": "83c7e209",
   "metadata": {
    "execution": {
     "iopub.execute_input": "2024-04-17T12:48:16.007882Z",
     "iopub.status.busy": "2024-04-17T12:48:16.007340Z",
     "iopub.status.idle": "2024-04-17T12:48:16.072483Z",
     "shell.execute_reply": "2024-04-17T12:48:16.071703Z"
    },
    "papermill": {
     "duration": 3.786817,
     "end_time": "2024-04-17T12:48:16.074443",
     "exception": false,
     "start_time": "2024-04-17T12:48:12.287626",
     "status": "completed"
    },
    "tags": []
   },
   "outputs": [],
   "source": [
    "testing_results_known_labels.to_csv(f\"{bert_model_name}/testing_results_known_labels.csv\", index=False)\n",
    "testing_results_unknown_labels.to_csv(f\"{bert_model_name}/testing_results_unknown_labels.csv\", index=False)"
   ]
  },
  {
   "cell_type": "code",
   "execution_count": 34,
   "id": "51a3e494",
   "metadata": {
    "execution": {
     "iopub.execute_input": "2024-04-17T12:48:23.689609Z",
     "iopub.status.busy": "2024-04-17T12:48:23.688541Z",
     "iopub.status.idle": "2024-04-17T12:48:38.407124Z",
     "shell.execute_reply": "2024-04-17T12:48:38.406032Z"
    },
    "papermill": {
     "duration": 18.419471,
     "end_time": "2024-04-17T12:48:38.409717",
     "exception": false,
     "start_time": "2024-04-17T12:48:19.990246",
     "status": "completed"
    },
    "tags": []
   },
   "outputs": [
    {
     "name": "stderr",
     "output_type": "stream",
     "text": [
      "huggingface/tokenizers: The current process just got forked, after parallelism has already been used. Disabling parallelism to avoid deadlocks...\n",
      "To disable this warning, you can either:\n",
      "\t- Avoid using `tokenizers` before the fork if possible\n",
      "\t- Explicitly set the environment variable TOKENIZERS_PARALLELISM=(true | false)\n"
     ]
    },
    {
     "name": "stdout",
     "output_type": "stream",
     "text": [
      "Collecting data-science-utils\r\n",
      "  Downloading data_science_utils-1.7.3-py3-none-any.whl.metadata (24 kB)\r\n",
      "Downloading data_science_utils-1.7.3-py3-none-any.whl (22 kB)\r\n",
      "Installing collected packages: data-science-utils\r\n",
      "Successfully installed data-science-utils-1.7.3\r\n"
     ]
    }
   ],
   "source": [
    "!pip install data-science-utils"
   ]
  },
  {
   "cell_type": "code",
   "execution_count": 35,
   "id": "9e7f6264",
   "metadata": {
    "execution": {
     "iopub.execute_input": "2024-04-17T12:48:46.020707Z",
     "iopub.status.busy": "2024-04-17T12:48:46.020341Z",
     "iopub.status.idle": "2024-04-17T12:48:46.789290Z",
     "shell.execute_reply": "2024-04-17T12:48:46.788280Z"
    },
    "papermill": {
     "duration": 4.609723,
     "end_time": "2024-04-17T12:48:46.791904",
     "exception": false,
     "start_time": "2024-04-17T12:48:42.182181",
     "status": "completed"
    },
    "tags": []
   },
   "outputs": [
    {
     "data": {
      "image/png": "[encoded data removed]",
      "text/plain": [
       "<Figure size 640x480 with 4 Axes>"
      ]
     },
     "metadata": {},
     "output_type": "display_data"
    }
   ],
   "source": [
    "from ds_utils.metrics import plot_confusion_matrix\n",
    "\n",
    "plot_confusion_matrix(y_test_known_labels, predicted_labels_val, [1, 0])\n",
    "pyplot.savefig(f\"{bert_model_name}/confusion_matrix.png\")\n",
    "pyplot.show()"
   ]
  },
  {
   "cell_type": "markdown",
   "id": "701548e6",
   "metadata": {
    "papermill": {
     "duration": 3.802129,
     "end_time": "2024-04-17T12:48:54.439639",
     "exception": false,
     "start_time": "2024-04-17T12:48:50.637510",
     "status": "completed"
    },
    "tags": []
   },
   "source": [
    "# Saving the fine-tuned model\n",
    "First let's save our model with the method ``save_pretrained``, then save our tokenizer with ``save_pretrained``.\n",
    "\n",
    "**Pay Attension**: tokenizer's ``save_pretrained`` need to get the path to save as a string.\n",
    "\n",
    "In reality, it is not required to run this cell. Obtaining the results is already enough. The saved model would be extremely heavy, and there are already fine tuned BERT models on HuggingFace"
   ]
  },
  {
   "cell_type": "code",
   "execution_count": 36,
   "id": "2b8f24d7",
   "metadata": {
    "execution": {
     "iopub.execute_input": "2024-04-17T12:49:02.036185Z",
     "iopub.status.busy": "2024-04-17T12:49:02.034970Z",
     "iopub.status.idle": "2024-04-17T12:49:02.041342Z",
     "shell.execute_reply": "2024-04-17T12:49:02.040343Z"
    },
    "papermill": {
     "duration": 3.819393,
     "end_time": "2024-04-17T12:49:02.043328",
     "exception": false,
     "start_time": "2024-04-17T12:48:58.223935",
     "status": "completed"
    },
    "tags": []
   },
   "outputs": [],
   "source": [
    "from pathlib import Path\n",
    "\n",
    "output_dir = Path(\"__file__\").parents[0].absolute().joinpath(f\"{bert_model_name}/model_save\")\n",
    "output_dir.mkdir(exist_ok=True)\n",
    "\n",
    "# Save a trained model, configuration and tokenizer using `save_pretrained()`.\n",
    "# They can then be reloaded using `from_pretrained()`\n",
    "\n",
    "# model_to_save = bert_classification_model.module if hasattr(bert_classification_model, 'module') else bert_classification_model  # Take care of distributed/parallel training\n",
    "# model_to_save.save_pretrained(output_dir)\n",
    "# tokenizer.save_pretrained(str(output_dir.absolute()))"
   ]
  }
 ],
 "metadata": {
  "kaggle": {
   "accelerator": "nvidiaTeslaT4",
   "dataSources": [
    {
     "datasetId": 4807314,
     "sourceId": 8133059,
     "sourceType": "datasetVersion"
    }
   ],
   "isGpuEnabled": true,
   "isInternetEnabled": true,
   "language": "python",
   "sourceType": "notebook"
  },
  "kernelspec": {
   "display_name": "Python 3",
   "language": "python",
   "name": "python3"
  },
  "language_info": {
   "codemirror_mode": {
    "name": "ipython",
    "version": 3
   },
   "file_extension": ".py",
   "mimetype": "text/x-python",
   "name": "python",
   "nbconvert_exporter": "python",
   "pygments_lexer": "ipython3",
   "version": "3.10.13"
  },
  "papermill": {
   "default_parameters": {},
   "duration": 6761.207075,
   "end_time": "2024-04-17T12:49:09.315795",
   "environment_variables": {},
   "exception": null,
   "input_path": "__notebook__.ipynb",
   "output_path": "__notebook__.ipynb",
   "parameters": {},
   "start_time": "2024-04-17T10:56:28.108720",
   "version": "2.5.0"
  },
  "widgets": {
   "application/vnd.jupyter.widget-state+json": {
    "state": {
     "06f67c5a28964cccb24f9d51859ada67": {
      "model_module": "@jupyter-widgets/base",
      "model_module_version": "1.2.0",
      "model_name": "LayoutModel",
      "state": {
       "_model_module": "@jupyter-widgets/base",
       "_model_module_version": "1.2.0",
       "_model_name": "LayoutModel",
       "_view_count": null,
       "_view_module": "@jupyter-widgets/base",
       "_view_module_version": "1.2.0",
       "_view_name": "LayoutView",
       "align_content": null,
       "align_items": null,
       "align_self": null,
       "border": null,
       "bottom": null,
       "display": null,
       "flex": null,
       "flex_flow": null,
       "grid_area": null,
       "grid_auto_columns": null,
       "grid_auto_flow": null,
       "grid_auto_rows": null,
       "grid_column": null,
       "grid_gap": null,
       "grid_row": null,
       "grid_template_areas": null,
       "grid_template_columns": null,
       "grid_template_rows": null,
       "height": null,
       "justify_content": null,
       "justify_items": null,
       "left": null,
       "margin": null,
       "max_height": null,
       "max_width": null,
       "min_height": null,
       "min_width": null,
       "object_fit": null,
       "object_position": null,
       "order": null,
       "overflow": null,
       "overflow_x": null,
       "overflow_y": null,
       "padding": null,
       "right": null,
       "top": null,
       "visibility": null,
       "width": null
      }
     },
     "0f315690df7e48bb888ce3b0f296fe29": {
      "model_module": "@jupyter-widgets/controls",
      "model_module_version": "1.5.0",
      "model_name": "ProgressStyleModel",
      "state": {
       "_model_module": "@jupyter-widgets/controls",
       "_model_module_version": "1.5.0",
       "_model_name": "ProgressStyleModel",
       "_view_count": null,
       "_view_module": "@jupyter-widgets/base",
       "_view_module_version": "1.2.0",
       "_view_name": "StyleView",
       "bar_color": null,
       "description_width": ""
      }
     },
     "13cfb30dbc7641b4972e2dd89b7018f7": {
      "model_module": "@jupyter-widgets/controls",
      "model_module_version": "1.5.0",
      "model_name": "HTMLModel",
      "state": {
       "_dom_classes": [],
       "_model_module": "@jupyter-widgets/controls",
       "_model_module_version": "1.5.0",
       "_model_name": "HTMLModel",
       "_view_count": null,
       "_view_module": "@jupyter-widgets/controls",
       "_view_module_version": "1.5.0",
       "_view_name": "HTMLView",
       "description": "",
       "description_tooltip": null,
       "layout": "IPY_MODEL_f0304c325d144dc6a57bdf086c61e7f7",
       "placeholder": "​",
       "style": "IPY_MODEL_1b758f10918849b0903d3f50fe936b1e",
       "value": " 559M/559M [00:03&lt;00:00, 212MB/s]"
      }
     },
     "1801a05ae4d14f54937905854c00d249": {
      "model_module": "@jupyter-widgets/base",
      "model_module_version": "1.2.0",
      "model_name": "LayoutModel",
      "state": {
       "_model_module": "@jupyter-widgets/base",
       "_model_module_version": "1.2.0",
       "_model_name": "LayoutModel",
       "_view_count": null,
       "_view_module": "@jupyter-widgets/base",
       "_view_module_version": "1.2.0",
       "_view_name": "LayoutView",
       "align_content": null,
       "align_items": null,
       "align_self": null,
       "border": null,
       "bottom": null,
       "display": null,
       "flex": null,
       "flex_flow": null,
       "grid_area": null,
       "grid_auto_columns": null,
       "grid_auto_flow": null,
       "grid_auto_rows": null,
       "grid_column": null,
       "grid_gap": null,
       "grid_row": null,
       "grid_template_areas": null,
       "grid_template_columns": null,
       "grid_template_rows": null,
       "height": null,
       "justify_content": null,
       "justify_items": null,
       "left": null,
       "margin": null,
       "max_height": null,
       "max_width": null,
       "min_height": null,
       "min_width": null,
       "object_fit": null,
       "object_position": null,
       "order": null,
       "overflow": null,
       "overflow_x": null,
       "overflow_y": null,
       "padding": null,
       "right": null,
       "top": null,
       "visibility": null,
       "width": null
      }
     },
     "1b758f10918849b0903d3f50fe936b1e": {
      "model_module": "@jupyter-widgets/controls",
      "model_module_version": "1.5.0",
      "model_name": "DescriptionStyleModel",
      "state": {
       "_model_module": "@jupyter-widgets/controls",
       "_model_module_version": "1.5.0",
       "_model_name": "DescriptionStyleModel",
       "_view_count": null,
       "_view_module": "@jupyter-widgets/base",
       "_view_module_version": "1.2.0",
       "_view_name": "StyleView",
       "description_width": ""
      }
     },
     "1c79307205164a2bbf9f35fed565f18e": {
      "model_module": "@jupyter-widgets/base",
      "model_module_version": "1.2.0",
      "model_name": "LayoutModel",
      "state": {
       "_model_module": "@jupyter-widgets/base",
       "_model_module_version": "1.2.0",
       "_model_name": "LayoutModel",
       "_view_count": null,
       "_view_module": "@jupyter-widgets/base",
       "_view_module_version": "1.2.0",
       "_view_name": "LayoutView",
       "align_content": null,
       "align_items": null,
       "align_self": null,
       "border": null,
       "bottom": null,
       "display": null,
       "flex": null,
       "flex_flow": null,
       "grid_area": null,
       "grid_auto_columns": null,
       "grid_auto_flow": null,
       "grid_auto_rows": null,
       "grid_column": null,
       "grid_gap": null,
       "grid_row": null,
       "grid_template_areas": null,
       "grid_template_columns": null,
       "grid_template_rows": null,
       "height": null,
       "justify_content": null,
       "justify_items": null,
       "left": null,
       "margin": null,
       "max_height": null,
       "max_width": null,
       "min_height": null,
       "min_width": null,
       "object_fit": null,
       "object_position": null,
       "order": null,
       "overflow": null,
       "overflow_x": null,
       "overflow_y": null,
       "padding": null,
       "right": null,
       "top": null,
       "visibility": null,
       "width": null
      }
     },
     "283336771712474bb655333a71e9425b": {
      "model_module": "@jupyter-widgets/controls",
      "model_module_version": "1.5.0",
      "model_name": "HTMLModel",
      "state": {
       "_dom_classes": [],
       "_model_module": "@jupyter-widgets/controls",
       "_model_module_version": "1.5.0",
       "_model_name": "HTMLModel",
       "_view_count": null,
       "_view_module": "@jupyter-widgets/controls",
       "_view_module_version": "1.5.0",
       "_view_name": "HTMLView",
       "description": "",
       "description_tooltip": null,
       "layout": "IPY_MODEL_1c79307205164a2bbf9f35fed565f18e",
       "placeholder": "​",
       "style": "IPY_MODEL_58fe0aecfdbf4afeaa9de15841b144cc",
       "value": "vocab.json: 100%"
      }
     },
     "2e537dc1dc124733a0bb04049b1c7e9f": {
      "model_module": "@jupyter-widgets/controls",
      "model_module_version": "1.5.0",
      "model_name": "DescriptionStyleModel",
      "state": {
       "_model_module": "@jupyter-widgets/controls",
       "_model_module_version": "1.5.0",
       "_model_name": "DescriptionStyleModel",
       "_view_count": null,
       "_view_module": "@jupyter-widgets/base",
       "_view_module_version": "1.2.0",
       "_view_name": "StyleView",
       "description_width": ""
      }
     },
     "30ba78f777244a30ad5cf6c6b672167b": {
      "model_module": "@jupyter-widgets/base",
      "model_module_version": "1.2.0",
      "model_name": "LayoutModel",
      "state": {
       "_model_module": "@jupyter-widgets/base",
       "_model_module_version": "1.2.0",
       "_model_name": "LayoutModel",
       "_view_count": null,
       "_view_module": "@jupyter-widgets/base",
       "_view_module_version": "1.2.0",
       "_view_name": "LayoutView",
       "align_content": null,
       "align_items": null,
       "align_self": null,
       "border": null,
       "bottom": null,
       "display": null,
       "flex": null,
       "flex_flow": null,
       "grid_area": null,
       "grid_auto_columns": null,
       "grid_auto_flow": null,
       "grid_auto_rows": null,
       "grid_column": null,
       "grid_gap": null,
       "grid_row": null,
       "grid_template_areas": null,
       "grid_template_columns": null,
       "grid_template_rows": null,
       "height": null,
       "justify_content": null,
       "justify_items": null,
       "left": null,
       "margin": null,
       "max_height": null,
       "max_width": null,
       "min_height": null,
       "min_width": null,
       "object_fit": null,
       "object_position": null,
       "order": null,
       "overflow": null,
       "overflow_x": null,
       "overflow_y": null,
       "padding": null,
       "right": null,
       "top": null,
       "visibility": null,
       "width": null
      }
     },
     "34a8ab5c6b4e43aca3f8a4f7a0f12281": {
      "model_module": "@jupyter-widgets/controls",
      "model_module_version": "1.5.0",
      "model_name": "DescriptionStyleModel",
      "state": {
       "_model_module": "@jupyter-widgets/controls",
       "_model_module_version": "1.5.0",
       "_model_name": "DescriptionStyleModel",
       "_view_count": null,
       "_view_module": "@jupyter-widgets/base",
       "_view_module_version": "1.2.0",
       "_view_name": "StyleView",
       "description_width": ""
      }
     },
     "3a4edb56e72a49d3ae7158385318cc41": {
      "model_module": "@jupyter-widgets/controls",
      "model_module_version": "1.5.0",
      "model_name": "HTMLModel",
      "state": {
       "_dom_classes": [],
       "_model_module": "@jupyter-widgets/controls",
       "_model_module_version": "1.5.0",
       "_model_name": "HTMLModel",
       "_view_count": null,
       "_view_module": "@jupyter-widgets/controls",
       "_view_module_version": "1.5.0",
       "_view_name": "HTMLView",
       "description": "",
       "description_tooltip": null,
       "layout": "IPY_MODEL_4cf47e202c33493cae1d7bf1d3350bed",
       "placeholder": "​",
       "style": "IPY_MODEL_34a8ab5c6b4e43aca3f8a4f7a0f12281",
       "value": "tokenizer_config.json: 100%"
      }
     },
     "40afe9c23cd54eb19d435212bc14c986": {
      "model_module": "@jupyter-widgets/base",
      "model_module_version": "1.2.0",
      "model_name": "LayoutModel",
      "state": {
       "_model_module": "@jupyter-widgets/base",
       "_model_module_version": "1.2.0",
       "_model_name": "LayoutModel",
       "_view_count": null,
       "_view_module": "@jupyter-widgets/base",
       "_view_module_version": "1.2.0",
       "_view_name": "LayoutView",
       "align_content": null,
       "align_items": null,
       "align_self": null,
       "border": null,
       "bottom": null,
       "display": null,
       "flex": null,
       "flex_flow": null,
       "grid_area": null,
       "grid_auto_columns": null,
       "grid_auto_flow": null,
       "grid_auto_rows": null,
       "grid_column": null,
       "grid_gap": null,
       "grid_row": null,
       "grid_template_areas": null,
       "grid_template_columns": null,
       "grid_template_rows": null,
       "height": null,
       "justify_content": null,
       "justify_items": null,
       "left": null,
       "margin": null,
       "max_height": null,
       "max_width": null,
       "min_height": null,
       "min_width": null,
       "object_fit": null,
       "object_position": null,
       "order": null,
       "overflow": null,
       "overflow_x": null,
       "overflow_y": null,
       "padding": null,
       "right": null,
       "top": null,
       "visibility": null,
       "width": null
      }
     },
     "49f1a57c71dd4ec98f3f7ebf7b6c2773": {
      "model_module": "@jupyter-widgets/base",
      "model_module_version": "1.2.0",
      "model_name": "LayoutModel",
      "state": {
       "_model_module": "@jupyter-widgets/base",
       "_model_module_version": "1.2.0",
       "_model_name": "LayoutModel",
       "_view_count": null,
       "_view_module": "@jupyter-widgets/base",
       "_view_module_version": "1.2.0",
       "_view_name": "LayoutView",
       "align_content": null,
       "align_items": null,
       "align_self": null,
       "border": null,
       "bottom": null,
       "display": null,
       "flex": null,
       "flex_flow": null,
       "grid_area": null,
       "grid_auto_columns": null,
       "grid_auto_flow": null,
       "grid_auto_rows": null,
       "grid_column": null,
       "grid_gap": null,
       "grid_row": null,
       "grid_template_areas": null,
       "grid_template_columns": null,
       "grid_template_rows": null,
       "height": null,
       "justify_content": null,
       "justify_items": null,
       "left": null,
       "margin": null,
       "max_height": null,
       "max_width": null,
       "min_height": null,
       "min_width": null,
       "object_fit": null,
       "object_position": null,
       "order": null,
       "overflow": null,
       "overflow_x": null,
       "overflow_y": null,
       "padding": null,
       "right": null,
       "top": null,
       "visibility": null,
       "width": null
      }
     },
     "4cf47e202c33493cae1d7bf1d3350bed": {
      "model_module": "@jupyter-widgets/base",
      "model_module_version": "1.2.0",
      "model_name": "LayoutModel",
      "state": {
       "_model_module": "@jupyter-widgets/base",
       "_model_module_version": "1.2.0",
       "_model_name": "LayoutModel",
       "_view_count": null,
       "_view_module": "@jupyter-widgets/base",
       "_view_module_version": "1.2.0",
       "_view_name": "LayoutView",
       "align_content": null,
       "align_items": null,
       "align_self": null,
       "border": null,
       "bottom": null,
       "display": null,
       "flex": null,
       "flex_flow": null,
       "grid_area": null,
       "grid_auto_columns": null,
       "grid_auto_flow": null,
       "grid_auto_rows": null,
       "grid_column": null,
       "grid_gap": null,
       "grid_row": null,
       "grid_template_areas": null,
       "grid_template_columns": null,
       "grid_template_rows": null,
       "height": null,
       "justify_content": null,
       "justify_items": null,
       "left": null,
       "margin": null,
       "max_height": null,
       "max_width": null,
       "min_height": null,
       "min_width": null,
       "object_fit": null,
       "object_position": null,
       "order": null,
       "overflow": null,
       "overflow_x": null,
       "overflow_y": null,
       "padding": null,
       "right": null,
       "top": null,
       "visibility": null,
       "width": null
      }
     },
     "50a80558ca294f70b3671ba7eb85bff6": {
      "model_module": "@jupyter-widgets/controls",
      "model_module_version": "1.5.0",
      "model_name": "ProgressStyleModel",
      "state": {
       "_model_module": "@jupyter-widgets/controls",
       "_model_module_version": "1.5.0",
       "_model_name": "ProgressStyleModel",
       "_view_count": null,
       "_view_module": "@jupyter-widgets/base",
       "_view_module_version": "1.2.0",
       "_view_name": "StyleView",
       "bar_color": null,
       "description_width": ""
      }
     },
     "52f805016e8c4d739315ef92c88f42eb": {
      "model_module": "@jupyter-widgets/controls",
      "model_module_version": "1.5.0",
      "model_name": "HBoxModel",
      "state": {
       "_dom_classes": [],
       "_model_module": "@jupyter-widgets/controls",
       "_model_module_version": "1.5.0",
       "_model_name": "HBoxModel",
       "_view_count": null,
       "_view_module": "@jupyter-widgets/controls",
       "_view_module_version": "1.5.0",
       "_view_name": "HBoxView",
       "box_style": "",
       "children": [
        "IPY_MODEL_283336771712474bb655333a71e9425b",
        "IPY_MODEL_de0219dc98104cd6baed1c96959bc278",
        "IPY_MODEL_d61ede47a4774ae295e6383962eb421e"
       ],
       "layout": "IPY_MODEL_df48e567365e445595ecbe7c1785eec2"
      }
     },
     "58fe0aecfdbf4afeaa9de15841b144cc": {
      "model_module": "@jupyter-widgets/controls",
      "model_module_version": "1.5.0",
      "model_name": "DescriptionStyleModel",
      "state": {
       "_model_module": "@jupyter-widgets/controls",
       "_model_module_version": "1.5.0",
       "_model_name": "DescriptionStyleModel",
       "_view_count": null,
       "_view_module": "@jupyter-widgets/base",
       "_view_module_version": "1.2.0",
       "_view_name": "StyleView",
       "description_width": ""
      }
     },
     "5aa9968fadb04ca7805c6113fc8a1297": {
      "model_module": "@jupyter-widgets/controls",
      "model_module_version": "1.5.0",
      "model_name": "DescriptionStyleModel",
      "state": {
       "_model_module": "@jupyter-widgets/controls",
       "_model_module_version": "1.5.0",
       "_model_name": "DescriptionStyleModel",
       "_view_count": null,
       "_view_module": "@jupyter-widgets/base",
       "_view_module_version": "1.2.0",
       "_view_name": "StyleView",
       "description_width": ""
      }
     },
     "5e9f1e6b74e4447f952a518a727916f7": {
      "model_module": "@jupyter-widgets/controls",
      "model_module_version": "1.5.0",
      "model_name": "HTMLModel",
      "state": {
       "_dom_classes": [],
       "_model_module": "@jupyter-widgets/controls",
       "_model_module_version": "1.5.0",
       "_model_name": "HTMLModel",
       "_view_count": null,
       "_view_module": "@jupyter-widgets/controls",
       "_view_module_version": "1.5.0",
       "_view_name": "HTMLView",
       "description": "",
       "description_tooltip": null,
       "layout": "IPY_MODEL_06f67c5a28964cccb24f9d51859ada67",
       "placeholder": "​",
       "style": "IPY_MODEL_5f20d919cad54b1eb2458f26782377c5",
       "value": "config.json: 100%"
      }
     },
     "5f20d919cad54b1eb2458f26782377c5": {
      "model_module": "@jupyter-widgets/controls",
      "model_module_version": "1.5.0",
      "model_name": "DescriptionStyleModel",
      "state": {
       "_model_module": "@jupyter-widgets/controls",
       "_model_module_version": "1.5.0",
       "_model_name": "DescriptionStyleModel",
       "_view_count": null,
       "_view_module": "@jupyter-widgets/base",
       "_view_module_version": "1.2.0",
       "_view_name": "StyleView",
       "description_width": ""
      }
     },
     "61a9b9917e704304b61c3c95a04dfe34": {
      "model_module": "@jupyter-widgets/base",
      "model_module_version": "1.2.0",
      "model_name": "LayoutModel",
      "state": {
       "_model_module": "@jupyter-widgets/base",
       "_model_module_version": "1.2.0",
       "_model_name": "LayoutModel",
       "_view_count": null,
       "_view_module": "@jupyter-widgets/base",
       "_view_module_version": "1.2.0",
       "_view_name": "LayoutView",
       "align_content": null,
       "align_items": null,
       "align_self": null,
       "border": null,
       "bottom": null,
       "display": null,
       "flex": null,
       "flex_flow": null,
       "grid_area": null,
       "grid_auto_columns": null,
       "grid_auto_flow": null,
       "grid_auto_rows": null,
       "grid_column": null,
       "grid_gap": null,
       "grid_row": null,
       "grid_template_areas": null,
       "grid_template_columns": null,
       "grid_template_rows": null,
       "height": null,
       "justify_content": null,
       "justify_items": null,
       "left": null,
       "margin": null,
       "max_height": null,
       "max_width": null,
       "min_height": null,
       "min_width": null,
       "object_fit": null,
       "object_position": null,
       "order": null,
       "overflow": null,
       "overflow_x": null,
       "overflow_y": null,
       "padding": null,
       "right": null,
       "top": null,
       "visibility": null,
       "width": null
      }
     },
     "638ba207683448699e0a82161f445598": {
      "model_module": "@jupyter-widgets/controls",
      "model_module_version": "1.5.0",
      "model_name": "HTMLModel",
      "state": {
       "_dom_classes": [],
       "_model_module": "@jupyter-widgets/controls",
       "_model_module_version": "1.5.0",
       "_model_name": "HTMLModel",
       "_view_count": null,
       "_view_module": "@jupyter-widgets/controls",
       "_view_module_version": "1.5.0",
       "_view_name": "HTMLView",
       "description": "",
       "description_tooltip": null,
       "layout": "IPY_MODEL_e67961566b5d4359aeebcc34626a513f",
       "placeholder": "​",
       "style": "IPY_MODEL_2e537dc1dc124733a0bb04049b1c7e9f",
       "value": "pytorch_model.bin: 100%"
      }
     },
     "661823b07ae64afa9a2ea7514e7f08d2": {
      "model_module": "@jupyter-widgets/base",
      "model_module_version": "1.2.0",
      "model_name": "LayoutModel",
      "state": {
       "_model_module": "@jupyter-widgets/base",
       "_model_module_version": "1.2.0",
       "_model_name": "LayoutModel",
       "_view_count": null,
       "_view_module": "@jupyter-widgets/base",
       "_view_module_version": "1.2.0",
       "_view_name": "LayoutView",
       "align_content": null,
       "align_items": null,
       "align_self": null,
       "border": null,
       "bottom": null,
       "display": null,
       "flex": null,
       "flex_flow": null,
       "grid_area": null,
       "grid_auto_columns": null,
       "grid_auto_flow": null,
       "grid_auto_rows": null,
       "grid_column": null,
       "grid_gap": null,
       "grid_row": null,
       "grid_template_areas": null,
       "grid_template_columns": null,
       "grid_template_rows": null,
       "height": null,
       "justify_content": null,
       "justify_items": null,
       "left": null,
       "margin": null,
       "max_height": null,
       "max_width": null,
       "min_height": null,
       "min_width": null,
       "object_fit": null,
       "object_position": null,
       "order": null,
       "overflow": null,
       "overflow_x": null,
       "overflow_y": null,
       "padding": null,
       "right": null,
       "top": null,
       "visibility": null,
       "width": null
      }
     },
     "6da7a233560248998ccc8c7822fc7e73": {
      "model_module": "@jupyter-widgets/controls",
      "model_module_version": "1.5.0",
      "model_name": "ProgressStyleModel",
      "state": {
       "_model_module": "@jupyter-widgets/controls",
       "_model_module_version": "1.5.0",
       "_model_name": "ProgressStyleModel",
       "_view_count": null,
       "_view_module": "@jupyter-widgets/base",
       "_view_module_version": "1.2.0",
       "_view_name": "StyleView",
       "bar_color": null,
       "description_width": ""
      }
     },
     "7b6b40520de54be892508a2cd85a601d": {
      "model_module": "@jupyter-widgets/base",
      "model_module_version": "1.2.0",
      "model_name": "LayoutModel",
      "state": {
       "_model_module": "@jupyter-widgets/base",
       "_model_module_version": "1.2.0",
       "_model_name": "LayoutModel",
       "_view_count": null,
       "_view_module": "@jupyter-widgets/base",
       "_view_module_version": "1.2.0",
       "_view_name": "LayoutView",
       "align_content": null,
       "align_items": null,
       "align_self": null,
       "border": null,
       "bottom": null,
       "display": null,
       "flex": null,
       "flex_flow": null,
       "grid_area": null,
       "grid_auto_columns": null,
       "grid_auto_flow": null,
       "grid_auto_rows": null,
       "grid_column": null,
       "grid_gap": null,
       "grid_row": null,
       "grid_template_areas": null,
       "grid_template_columns": null,
       "grid_template_rows": null,
       "height": null,
       "justify_content": null,
       "justify_items": null,
       "left": null,
       "margin": null,
       "max_height": null,
       "max_width": null,
       "min_height": null,
       "min_width": null,
       "object_fit": null,
       "object_position": null,
       "order": null,
       "overflow": null,
       "overflow_x": null,
       "overflow_y": null,
       "padding": null,
       "right": null,
       "top": null,
       "visibility": null,
       "width": null
      }
     },
     "8a84f2dc197e4589a71f1e7a55a18e0b": {
      "model_module": "@jupyter-widgets/base",
      "model_module_version": "1.2.0",
      "model_name": "LayoutModel",
      "state": {
       "_model_module": "@jupyter-widgets/base",
       "_model_module_version": "1.2.0",
       "_model_name": "LayoutModel",
       "_view_count": null,
       "_view_module": "@jupyter-widgets/base",
       "_view_module_version": "1.2.0",
       "_view_name": "LayoutView",
       "align_content": null,
       "align_items": null,
       "align_self": null,
       "border": null,
       "bottom": null,
       "display": null,
       "flex": null,
       "flex_flow": null,
       "grid_area": null,
       "grid_auto_columns": null,
       "grid_auto_flow": null,
       "grid_auto_rows": null,
       "grid_column": null,
       "grid_gap": null,
       "grid_row": null,
       "grid_template_areas": null,
       "grid_template_columns": null,
       "grid_template_rows": null,
       "height": null,
       "justify_content": null,
       "justify_items": null,
       "left": null,
       "margin": null,
       "max_height": null,
       "max_width": null,
       "min_height": null,
       "min_width": null,
       "object_fit": null,
       "object_position": null,
       "order": null,
       "overflow": null,
       "overflow_x": null,
       "overflow_y": null,
       "padding": null,
       "right": null,
       "top": null,
       "visibility": null,
       "width": null
      }
     },
     "8cd32d9c2aa64ca2be6908aa1061391a": {
      "model_module": "@jupyter-widgets/controls",
      "model_module_version": "1.5.0",
      "model_name": "DescriptionStyleModel",
      "state": {
       "_model_module": "@jupyter-widgets/controls",
       "_model_module_version": "1.5.0",
       "_model_name": "DescriptionStyleModel",
       "_view_count": null,
       "_view_module": "@jupyter-widgets/base",
       "_view_module_version": "1.2.0",
       "_view_name": "StyleView",
       "description_width": ""
      }
     },
     "921f260066f547e993474cb4764ebcfe": {
      "model_module": "@jupyter-widgets/base",
      "model_module_version": "1.2.0",
      "model_name": "LayoutModel",
      "state": {
       "_model_module": "@jupyter-widgets/base",
       "_model_module_version": "1.2.0",
       "_model_name": "LayoutModel",
       "_view_count": null,
       "_view_module": "@jupyter-widgets/base",
       "_view_module_version": "1.2.0",
       "_view_name": "LayoutView",
       "align_content": null,
       "align_items": null,
       "align_self": null,
       "border": null,
       "bottom": null,
       "display": null,
       "flex": null,
       "flex_flow": null,
       "grid_area": null,
       "grid_auto_columns": null,
       "grid_auto_flow": null,
       "grid_auto_rows": null,
       "grid_column": null,
       "grid_gap": null,
       "grid_row": null,
       "grid_template_areas": null,
       "grid_template_columns": null,
       "grid_template_rows": null,
       "height": null,
       "justify_content": null,
       "justify_items": null,
       "left": null,
       "margin": null,
       "max_height": null,
       "max_width": null,
       "min_height": null,
       "min_width": null,
       "object_fit": null,
       "object_position": null,
       "order": null,
       "overflow": null,
       "overflow_x": null,
       "overflow_y": null,
       "padding": null,
       "right": null,
       "top": null,
       "visibility": null,
       "width": null
      }
     },
     "9742e005c6254d229a6921e42a7660a9": {
      "model_module": "@jupyter-widgets/base",
      "model_module_version": "1.2.0",
      "model_name": "LayoutModel",
      "state": {
       "_model_module": "@jupyter-widgets/base",
       "_model_module_version": "1.2.0",
       "_model_name": "LayoutModel",
       "_view_count": null,
       "_view_module": "@jupyter-widgets/base",
       "_view_module_version": "1.2.0",
       "_view_name": "LayoutView",
       "align_content": null,
       "align_items": null,
       "align_self": null,
       "border": null,
       "bottom": null,
       "display": null,
       "flex": null,
       "flex_flow": null,
       "grid_area": null,
       "grid_auto_columns": null,
       "grid_auto_flow": null,
       "grid_auto_rows": null,
       "grid_column": null,
       "grid_gap": null,
       "grid_row": null,
       "grid_template_areas": null,
       "grid_template_columns": null,
       "grid_template_rows": null,
       "height": null,
       "justify_content": null,
       "justify_items": null,
       "left": null,
       "margin": null,
       "max_height": null,
       "max_width": null,
       "min_height": null,
       "min_width": null,
       "object_fit": null,
       "object_position": null,
       "order": null,
       "overflow": null,
       "overflow_x": null,
       "overflow_y": null,
       "padding": null,
       "right": null,
       "top": null,
       "visibility": null,
       "width": null
      }
     },
     "97c45f87c5dd48278b6687630a4b937a": {
      "model_module": "@jupyter-widgets/base",
      "model_module_version": "1.2.0",
      "model_name": "LayoutModel",
      "state": {
       "_model_module": "@jupyter-widgets/base",
       "_model_module_version": "1.2.0",
       "_model_name": "LayoutModel",
       "_view_count": null,
       "_view_module": "@jupyter-widgets/base",
       "_view_module_version": "1.2.0",
       "_view_name": "LayoutView",
       "align_content": null,
       "align_items": null,
       "align_self": null,
       "border": null,
       "bottom": null,
       "display": null,
       "flex": null,
       "flex_flow": null,
       "grid_area": null,
       "grid_auto_columns": null,
       "grid_auto_flow": null,
       "grid_auto_rows": null,
       "grid_column": null,
       "grid_gap": null,
       "grid_row": null,
       "grid_template_areas": null,
       "grid_template_columns": null,
       "grid_template_rows": null,
       "height": null,
       "justify_content": null,
       "justify_items": null,
       "left": null,
       "margin": null,
       "max_height": null,
       "max_width": null,
       "min_height": null,
       "min_width": null,
       "object_fit": null,
       "object_position": null,
       "order": null,
       "overflow": null,
       "overflow_x": null,
       "overflow_y": null,
       "padding": null,
       "right": null,
       "top": null,
       "visibility": null,
       "width": null
      }
     },
     "996871dd36dc406b916e4d7bc8465a80": {
      "model_module": "@jupyter-widgets/controls",
      "model_module_version": "1.5.0",
      "model_name": "ProgressStyleModel",
      "state": {
       "_model_module": "@jupyter-widgets/controls",
       "_model_module_version": "1.5.0",
       "_model_name": "ProgressStyleModel",
       "_view_count": null,
       "_view_module": "@jupyter-widgets/base",
       "_view_module_version": "1.2.0",
       "_view_name": "StyleView",
       "bar_color": null,
       "description_width": ""
      }
     },
     "9e8dd6a674df46f386dcc1345d942e76": {
      "model_module": "@jupyter-widgets/base",
      "model_module_version": "1.2.0",
      "model_name": "LayoutModel",
      "state": {
       "_model_module": "@jupyter-widgets/base",
       "_model_module_version": "1.2.0",
       "_model_name": "LayoutModel",
       "_view_count": null,
       "_view_module": "@jupyter-widgets/base",
       "_view_module_version": "1.2.0",
       "_view_name": "LayoutView",
       "align_content": null,
       "align_items": null,
       "align_self": null,
       "border": null,
       "bottom": null,
       "display": null,
       "flex": null,
       "flex_flow": null,
       "grid_area": null,
       "grid_auto_columns": null,
       "grid_auto_flow": null,
       "grid_auto_rows": null,
       "grid_column": null,
       "grid_gap": null,
       "grid_row": null,
       "grid_template_areas": null,
       "grid_template_columns": null,
       "grid_template_rows": null,
       "height": null,
       "justify_content": null,
       "justify_items": null,
       "left": null,
       "margin": null,
       "max_height": null,
       "max_width": null,
       "min_height": null,
       "min_width": null,
       "object_fit": null,
       "object_position": null,
       "order": null,
       "overflow": null,
       "overflow_x": null,
       "overflow_y": null,
       "padding": null,
       "right": null,
       "top": null,
       "visibility": null,
       "width": null
      }
     },
     "ac35e41ef8524272bec4fe03f75421e8": {
      "model_module": "@jupyter-widgets/controls",
      "model_module_version": "1.5.0",
      "model_name": "ProgressStyleModel",
      "state": {
       "_model_module": "@jupyter-widgets/controls",
       "_model_module_version": "1.5.0",
       "_model_name": "ProgressStyleModel",
       "_view_count": null,
       "_view_module": "@jupyter-widgets/base",
       "_view_module_version": "1.2.0",
       "_view_name": "StyleView",
       "bar_color": null,
       "description_width": ""
      }
     },
     "b14e06211ec54ab980f7d01aeb5f0e55": {
      "model_module": "@jupyter-widgets/controls",
      "model_module_version": "1.5.0",
      "model_name": "HTMLModel",
      "state": {
       "_dom_classes": [],
       "_model_module": "@jupyter-widgets/controls",
       "_model_module_version": "1.5.0",
       "_model_name": "HTMLModel",
       "_view_count": null,
       "_view_module": "@jupyter-widgets/controls",
       "_view_module_version": "1.5.0",
       "_view_name": "HTMLView",
       "description": "",
       "description_tooltip": null,
       "layout": "IPY_MODEL_661823b07ae64afa9a2ea7514e7f08d2",
       "placeholder": "​",
       "style": "IPY_MODEL_fed880ae795d4a62add8a70fb5801a11",
       "value": " 52.0/52.0 [00:00&lt;00:00, 4.34kB/s]"
      }
     },
     "b2b79ff2815343e3ad30dc38054bcf84": {
      "model_module": "@jupyter-widgets/controls",
      "model_module_version": "1.5.0",
      "model_name": "HTMLModel",
      "state": {
       "_dom_classes": [],
       "_model_module": "@jupyter-widgets/controls",
       "_model_module_version": "1.5.0",
       "_model_name": "HTMLModel",
       "_view_count": null,
       "_view_module": "@jupyter-widgets/controls",
       "_view_module_version": "1.5.0",
       "_view_name": "HTMLView",
       "description": "",
       "description_tooltip": null,
       "layout": "IPY_MODEL_bf6076be48b7436697a12f7ef590b1e3",
       "placeholder": "​",
       "style": "IPY_MODEL_ffcced5d99c045fab953217dbdb31997",
       "value": "merges.txt: 100%"
      }
     },
     "b9befa56438748fda91db900d0ae51c5": {
      "model_module": "@jupyter-widgets/controls",
      "model_module_version": "1.5.0",
      "model_name": "HTMLModel",
      "state": {
       "_dom_classes": [],
       "_model_module": "@jupyter-widgets/controls",
       "_model_module_version": "1.5.0",
       "_model_name": "HTMLModel",
       "_view_count": null,
       "_view_module": "@jupyter-widgets/controls",
       "_view_module_version": "1.5.0",
       "_view_name": "HTMLView",
       "description": "",
       "description_tooltip": null,
       "layout": "IPY_MODEL_61a9b9917e704304b61c3c95a04dfe34",
       "placeholder": "​",
       "style": "IPY_MODEL_8cd32d9c2aa64ca2be6908aa1061391a",
       "value": " 474/474 [00:00&lt;00:00, 39.3kB/s]"
      }
     },
     "bf6076be48b7436697a12f7ef590b1e3": {
      "model_module": "@jupyter-widgets/base",
      "model_module_version": "1.2.0",
      "model_name": "LayoutModel",
      "state": {
       "_model_module": "@jupyter-widgets/base",
       "_model_module_version": "1.2.0",
       "_model_name": "LayoutModel",
       "_view_count": null,
       "_view_module": "@jupyter-widgets/base",
       "_view_module_version": "1.2.0",
       "_view_name": "LayoutView",
       "align_content": null,
       "align_items": null,
       "align_self": null,
       "border": null,
       "bottom": null,
       "display": null,
       "flex": null,
       "flex_flow": null,
       "grid_area": null,
       "grid_auto_columns": null,
       "grid_auto_flow": null,
       "grid_auto_rows": null,
       "grid_column": null,
       "grid_gap": null,
       "grid_row": null,
       "grid_template_areas": null,
       "grid_template_columns": null,
       "grid_template_rows": null,
       "height": null,
       "justify_content": null,
       "justify_items": null,
       "left": null,
       "margin": null,
       "max_height": null,
       "max_width": null,
       "min_height": null,
       "min_width": null,
       "object_fit": null,
       "object_position": null,
       "order": null,
       "overflow": null,
       "overflow_x": null,
       "overflow_y": null,
       "padding": null,
       "right": null,
       "top": null,
       "visibility": null,
       "width": null
      }
     },
     "c4ebda77de004a07a14f3f58abaf08d9": {
      "model_module": "@jupyter-widgets/controls",
      "model_module_version": "1.5.0",
      "model_name": "FloatProgressModel",
      "state": {
       "_dom_classes": [],
       "_model_module": "@jupyter-widgets/controls",
       "_model_module_version": "1.5.0",
       "_model_name": "FloatProgressModel",
       "_view_count": null,
       "_view_module": "@jupyter-widgets/controls",
       "_view_module_version": "1.5.0",
       "_view_name": "ProgressView",
       "bar_style": "success",
       "description": "",
       "description_tooltip": null,
       "layout": "IPY_MODEL_d276f1f7b7ae4e20a9e3f8da3e6533f3",
       "max": 456318.0,
       "min": 0.0,
       "orientation": "horizontal",
       "style": "IPY_MODEL_6da7a233560248998ccc8c7822fc7e73",
       "value": 456318.0
      }
     },
     "cb4b5ddcd8b04dba8983b5f95fdda99a": {
      "model_module": "@jupyter-widgets/controls",
      "model_module_version": "1.5.0",
      "model_name": "FloatProgressModel",
      "state": {
       "_dom_classes": [],
       "_model_module": "@jupyter-widgets/controls",
       "_model_module_version": "1.5.0",
       "_model_name": "FloatProgressModel",
       "_view_count": null,
       "_view_module": "@jupyter-widgets/controls",
       "_view_module_version": "1.5.0",
       "_view_name": "ProgressView",
       "bar_style": "success",
       "description": "",
       "description_tooltip": null,
       "layout": "IPY_MODEL_8a84f2dc197e4589a71f1e7a55a18e0b",
       "max": 558614189.0,
       "min": 0.0,
       "orientation": "horizontal",
       "style": "IPY_MODEL_996871dd36dc406b916e4d7bc8465a80",
       "value": 558614189.0
      }
     },
     "d276f1f7b7ae4e20a9e3f8da3e6533f3": {
      "model_module": "@jupyter-widgets/base",
      "model_module_version": "1.2.0",
      "model_name": "LayoutModel",
      "state": {
       "_model_module": "@jupyter-widgets/base",
       "_model_module_version": "1.2.0",
       "_model_name": "LayoutModel",
       "_view_count": null,
       "_view_module": "@jupyter-widgets/base",
       "_view_module_version": "1.2.0",
       "_view_name": "LayoutView",
       "align_content": null,
       "align_items": null,
       "align_self": null,
       "border": null,
       "bottom": null,
       "display": null,
       "flex": null,
       "flex_flow": null,
       "grid_area": null,
       "grid_auto_columns": null,
       "grid_auto_flow": null,
       "grid_auto_rows": null,
       "grid_column": null,
       "grid_gap": null,
       "grid_row": null,
       "grid_template_areas": null,
       "grid_template_columns": null,
       "grid_template_rows": null,
       "height": null,
       "justify_content": null,
       "justify_items": null,
       "left": null,
       "margin": null,
       "max_height": null,
       "max_width": null,
       "min_height": null,
       "min_width": null,
       "object_fit": null,
       "object_position": null,
       "order": null,
       "overflow": null,
       "overflow_x": null,
       "overflow_y": null,
       "padding": null,
       "right": null,
       "top": null,
       "visibility": null,
       "width": null
      }
     },
     "d3530f0c867749c5b5e1c1a699a28ffe": {
      "model_module": "@jupyter-widgets/controls",
      "model_module_version": "1.5.0",
      "model_name": "HBoxModel",
      "state": {
       "_dom_classes": [],
       "_model_module": "@jupyter-widgets/controls",
       "_model_module_version": "1.5.0",
       "_model_name": "HBoxModel",
       "_view_count": null,
       "_view_module": "@jupyter-widgets/controls",
       "_view_module_version": "1.5.0",
       "_view_name": "HBoxView",
       "box_style": "",
       "children": [
        "IPY_MODEL_3a4edb56e72a49d3ae7158385318cc41",
        "IPY_MODEL_fc6026a233384b8687e3b4ede0fc40c7",
        "IPY_MODEL_b14e06211ec54ab980f7d01aeb5f0e55"
       ],
       "layout": "IPY_MODEL_7b6b40520de54be892508a2cd85a601d"
      }
     },
     "d4e7cde3980d47c587b2cca9096504c3": {
      "model_module": "@jupyter-widgets/controls",
      "model_module_version": "1.5.0",
      "model_name": "DescriptionStyleModel",
      "state": {
       "_model_module": "@jupyter-widgets/controls",
       "_model_module_version": "1.5.0",
       "_model_name": "DescriptionStyleModel",
       "_view_count": null,
       "_view_module": "@jupyter-widgets/base",
       "_view_module_version": "1.2.0",
       "_view_name": "StyleView",
       "description_width": ""
      }
     },
     "d61ede47a4774ae295e6383962eb421e": {
      "model_module": "@jupyter-widgets/controls",
      "model_module_version": "1.5.0",
      "model_name": "HTMLModel",
      "state": {
       "_dom_classes": [],
       "_model_module": "@jupyter-widgets/controls",
       "_model_module_version": "1.5.0",
       "_model_name": "HTMLModel",
       "_view_count": null,
       "_view_module": "@jupyter-widgets/controls",
       "_view_module_version": "1.5.0",
       "_view_name": "HTMLView",
       "description": "",
       "description_tooltip": null,
       "layout": "IPY_MODEL_49f1a57c71dd4ec98f3f7ebf7b6c2773",
       "placeholder": "​",
       "style": "IPY_MODEL_d4e7cde3980d47c587b2cca9096504c3",
       "value": " 899k/899k [00:00&lt;00:00, 9.35MB/s]"
      }
     },
     "de0219dc98104cd6baed1c96959bc278": {
      "model_module": "@jupyter-widgets/controls",
      "model_module_version": "1.5.0",
      "model_name": "FloatProgressModel",
      "state": {
       "_dom_classes": [],
       "_model_module": "@jupyter-widgets/controls",
       "_model_module_version": "1.5.0",
       "_model_name": "FloatProgressModel",
       "_view_count": null,
       "_view_module": "@jupyter-widgets/controls",
       "_view_module_version": "1.5.0",
       "_view_name": "ProgressView",
       "bar_style": "success",
       "description": "",
       "description_tooltip": null,
       "layout": "IPY_MODEL_9e8dd6a674df46f386dcc1345d942e76",
       "max": 898825.0,
       "min": 0.0,
       "orientation": "horizontal",
       "style": "IPY_MODEL_0f315690df7e48bb888ce3b0f296fe29",
       "value": 898825.0
      }
     },
     "df48e567365e445595ecbe7c1785eec2": {
      "model_module": "@jupyter-widgets/base",
      "model_module_version": "1.2.0",
      "model_name": "LayoutModel",
      "state": {
       "_model_module": "@jupyter-widgets/base",
       "_model_module_version": "1.2.0",
       "_model_name": "LayoutModel",
       "_view_count": null,
       "_view_module": "@jupyter-widgets/base",
       "_view_module_version": "1.2.0",
       "_view_name": "LayoutView",
       "align_content": null,
       "align_items": null,
       "align_self": null,
       "border": null,
       "bottom": null,
       "display": null,
       "flex": null,
       "flex_flow": null,
       "grid_area": null,
       "grid_auto_columns": null,
       "grid_auto_flow": null,
       "grid_auto_rows": null,
       "grid_column": null,
       "grid_gap": null,
       "grid_row": null,
       "grid_template_areas": null,
       "grid_template_columns": null,
       "grid_template_rows": null,
       "height": null,
       "justify_content": null,
       "justify_items": null,
       "left": null,
       "margin": null,
       "max_height": null,
       "max_width": null,
       "min_height": null,
       "min_width": null,
       "object_fit": null,
       "object_position": null,
       "order": null,
       "overflow": null,
       "overflow_x": null,
       "overflow_y": null,
       "padding": null,
       "right": null,
       "top": null,
       "visibility": null,
       "width": null
      }
     },
     "e67961566b5d4359aeebcc34626a513f": {
      "model_module": "@jupyter-widgets/base",
      "model_module_version": "1.2.0",
      "model_name": "LayoutModel",
      "state": {
       "_model_module": "@jupyter-widgets/base",
       "_model_module_version": "1.2.0",
       "_model_name": "LayoutModel",
       "_view_count": null,
       "_view_module": "@jupyter-widgets/base",
       "_view_module_version": "1.2.0",
       "_view_name": "LayoutView",
       "align_content": null,
       "align_items": null,
       "align_self": null,
       "border": null,
       "bottom": null,
       "display": null,
       "flex": null,
       "flex_flow": null,
       "grid_area": null,
       "grid_auto_columns": null,
       "grid_auto_flow": null,
       "grid_auto_rows": null,
       "grid_column": null,
       "grid_gap": null,
       "grid_row": null,
       "grid_template_areas": null,
       "grid_template_columns": null,
       "grid_template_rows": null,
       "height": null,
       "justify_content": null,
       "justify_items": null,
       "left": null,
       "margin": null,
       "max_height": null,
       "max_width": null,
       "min_height": null,
       "min_width": null,
       "object_fit": null,
       "object_position": null,
       "order": null,
       "overflow": null,
       "overflow_x": null,
       "overflow_y": null,
       "padding": null,
       "right": null,
       "top": null,
       "visibility": null,
       "width": null
      }
     },
     "e7cdf531319a401fa3855dc4da92f08c": {
      "model_module": "@jupyter-widgets/controls",
      "model_module_version": "1.5.0",
      "model_name": "FloatProgressModel",
      "state": {
       "_dom_classes": [],
       "_model_module": "@jupyter-widgets/controls",
       "_model_module_version": "1.5.0",
       "_model_name": "FloatProgressModel",
       "_view_count": null,
       "_view_module": "@jupyter-widgets/controls",
       "_view_module_version": "1.5.0",
       "_view_name": "ProgressView",
       "bar_style": "success",
       "description": "",
       "description_tooltip": null,
       "layout": "IPY_MODEL_97c45f87c5dd48278b6687630a4b937a",
       "max": 474.0,
       "min": 0.0,
       "orientation": "horizontal",
       "style": "IPY_MODEL_50a80558ca294f70b3671ba7eb85bff6",
       "value": 474.0
      }
     },
     "f0304c325d144dc6a57bdf086c61e7f7": {
      "model_module": "@jupyter-widgets/base",
      "model_module_version": "1.2.0",
      "model_name": "LayoutModel",
      "state": {
       "_model_module": "@jupyter-widgets/base",
       "_model_module_version": "1.2.0",
       "_model_name": "LayoutModel",
       "_view_count": null,
       "_view_module": "@jupyter-widgets/base",
       "_view_module_version": "1.2.0",
       "_view_name": "LayoutView",
       "align_content": null,
       "align_items": null,
       "align_self": null,
       "border": null,
       "bottom": null,
       "display": null,
       "flex": null,
       "flex_flow": null,
       "grid_area": null,
       "grid_auto_columns": null,
       "grid_auto_flow": null,
       "grid_auto_rows": null,
       "grid_column": null,
       "grid_gap": null,
       "grid_row": null,
       "grid_template_areas": null,
       "grid_template_columns": null,
       "grid_template_rows": null,
       "height": null,
       "justify_content": null,
       "justify_items": null,
       "left": null,
       "margin": null,
       "max_height": null,
       "max_width": null,
       "min_height": null,
       "min_width": null,
       "object_fit": null,
       "object_position": null,
       "order": null,
       "overflow": null,
       "overflow_x": null,
       "overflow_y": null,
       "padding": null,
       "right": null,
       "top": null,
       "visibility": null,
       "width": null
      }
     },
     "f139c3329ed04c749d88455ee5412e3e": {
      "model_module": "@jupyter-widgets/controls",
      "model_module_version": "1.5.0",
      "model_name": "HBoxModel",
      "state": {
       "_dom_classes": [],
       "_model_module": "@jupyter-widgets/controls",
       "_model_module_version": "1.5.0",
       "_model_name": "HBoxModel",
       "_view_count": null,
       "_view_module": "@jupyter-widgets/controls",
       "_view_module_version": "1.5.0",
       "_view_name": "HBoxView",
       "box_style": "",
       "children": [
        "IPY_MODEL_5e9f1e6b74e4447f952a518a727916f7",
        "IPY_MODEL_e7cdf531319a401fa3855dc4da92f08c",
        "IPY_MODEL_b9befa56438748fda91db900d0ae51c5"
       ],
       "layout": "IPY_MODEL_40afe9c23cd54eb19d435212bc14c986"
      }
     },
     "f5cb8488ad414ef4a505735f87163403": {
      "model_module": "@jupyter-widgets/controls",
      "model_module_version": "1.5.0",
      "model_name": "HTMLModel",
      "state": {
       "_dom_classes": [],
       "_model_module": "@jupyter-widgets/controls",
       "_model_module_version": "1.5.0",
       "_model_name": "HTMLModel",
       "_view_count": null,
       "_view_module": "@jupyter-widgets/controls",
       "_view_module_version": "1.5.0",
       "_view_name": "HTMLView",
       "description": "",
       "description_tooltip": null,
       "layout": "IPY_MODEL_1801a05ae4d14f54937905854c00d249",
       "placeholder": "​",
       "style": "IPY_MODEL_5aa9968fadb04ca7805c6113fc8a1297",
       "value": " 456k/456k [00:00&lt;00:00, 28.6MB/s]"
      }
     },
     "f9173f115f3944a693b6b2d04544c14c": {
      "model_module": "@jupyter-widgets/controls",
      "model_module_version": "1.5.0",
      "model_name": "HBoxModel",
      "state": {
       "_dom_classes": [],
       "_model_module": "@jupyter-widgets/controls",
       "_model_module_version": "1.5.0",
       "_model_name": "HBoxModel",
       "_view_count": null,
       "_view_module": "@jupyter-widgets/controls",
       "_view_module_version": "1.5.0",
       "_view_name": "HBoxView",
       "box_style": "",
       "children": [
        "IPY_MODEL_b2b79ff2815343e3ad30dc38054bcf84",
        "IPY_MODEL_c4ebda77de004a07a14f3f58abaf08d9",
        "IPY_MODEL_f5cb8488ad414ef4a505735f87163403"
       ],
       "layout": "IPY_MODEL_30ba78f777244a30ad5cf6c6b672167b"
      }
     },
     "fc6026a233384b8687e3b4ede0fc40c7": {
      "model_module": "@jupyter-widgets/controls",
      "model_module_version": "1.5.0",
      "model_name": "FloatProgressModel",
      "state": {
       "_dom_classes": [],
       "_model_module": "@jupyter-widgets/controls",
       "_model_module_version": "1.5.0",
       "_model_name": "FloatProgressModel",
       "_view_count": null,
       "_view_module": "@jupyter-widgets/controls",
       "_view_module_version": "1.5.0",
       "_view_name": "ProgressView",
       "bar_style": "success",
       "description": "",
       "description_tooltip": null,
       "layout": "IPY_MODEL_9742e005c6254d229a6921e42a7660a9",
       "max": 52.0,
       "min": 0.0,
       "orientation": "horizontal",
       "style": "IPY_MODEL_ac35e41ef8524272bec4fe03f75421e8",
       "value": 52.0
      }
     },
     "fed880ae795d4a62add8a70fb5801a11": {
      "model_module": "@jupyter-widgets/controls",
      "model_module_version": "1.5.0",
      "model_name": "DescriptionStyleModel",
      "state": {
       "_model_module": "@jupyter-widgets/controls",
       "_model_module_version": "1.5.0",
       "_model_name": "DescriptionStyleModel",
       "_view_count": null,
       "_view_module": "@jupyter-widgets/base",
       "_view_module_version": "1.2.0",
       "_view_name": "StyleView",
       "description_width": ""
      }
     },
     "ff99066d67da4f61857513c215778431": {
      "model_module": "@jupyter-widgets/controls",
      "model_module_version": "1.5.0",
      "model_name": "HBoxModel",
      "state": {
       "_dom_classes": [],
       "_model_module": "@jupyter-widgets/controls",
       "_model_module_version": "1.5.0",
       "_model_name": "HBoxModel",
       "_view_count": null,
       "_view_module": "@jupyter-widgets/controls",
       "_view_module_version": "1.5.0",
       "_view_name": "HBoxView",
       "box_style": "",
       "children": [
        "IPY_MODEL_638ba207683448699e0a82161f445598",
        "IPY_MODEL_cb4b5ddcd8b04dba8983b5f95fdda99a",
        "IPY_MODEL_13cfb30dbc7641b4972e2dd89b7018f7"
       ],
       "layout": "IPY_MODEL_921f260066f547e993474cb4764ebcfe"
      }
     },
     "ffcced5d99c045fab953217dbdb31997": {
      "model_module": "@jupyter-widgets/controls",
      "model_module_version": "1.5.0",
      "model_name": "DescriptionStyleModel",
      "state": {
       "_model_module": "@jupyter-widgets/controls",
       "_model_module_version": "1.5.0",
       "_model_name": "DescriptionStyleModel",
       "_view_count": null,
       "_view_module": "@jupyter-widgets/base",
       "_view_module_version": "1.2.0",
       "_view_name": "StyleView",
       "description_width": ""
      }
     }
    },
    "version_major": 2,
    "version_minor": 0
   }
  }
 },
 "nbformat": 4,
 "nbformat_minor": 5
}
