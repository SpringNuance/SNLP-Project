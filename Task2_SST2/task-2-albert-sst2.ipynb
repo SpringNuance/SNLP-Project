{
 "cells": [
  {
   "cell_type": "markdown",
   "id": "998b152c",
   "metadata": {
    "papermill": {
     "duration": 0.025431,
     "end_time": "2024-04-17T09:28:20.787861",
     "exception": false,
     "start_time": "2024-04-17T09:28:20.762430",
     "status": "completed"
    },
    "tags": []
   },
   "source": [
    "# Fine-Tuning BERT on Stanford Sentiment Treebank 2\n",
    "\n",
    "# Introduction\n",
    "\n",
    "In this project, we would use a variety of BERT models (BERT, RoBERTa, ALBERT, DistilBERT, DeBERTa) with the HuggingFace PyTorch library to fine-tune a model to fit the SST2 dataset. \n",
    "\n",
    "### BERT (Bidirectional Encoder Representations from Transformers) \n",
    "\n",
    "Original model code [here](https://github.com/google-research/bert) for NLP tasks.\n",
    "\n",
    "BERT consists of 12 Transformer Encoding layers (or 24 for large BERT)\n",
    "\n",
    "\n",
    "# Stanford Sentiment Treebank 2 (SST2) Dataset\n",
    "SST2 is a dataset for binary sentiment classification. It consists of sentences extracted from movie reviews and human annotations of their sentiment. The task is to determine whether a given sentence has positive or negative sentiment.\n",
    "\n",
    "## Data fields\n",
    "* sentence - the review sentence whose sentiment should be determined\n",
    "* label - 0 for negative sentiment, 1 for positive sentiment"
   ]
  },
  {
   "cell_type": "markdown",
   "id": "d31e57e9",
   "metadata": {
    "papermill": {
     "duration": 0.024658,
     "end_time": "2024-04-17T09:28:20.839878",
     "exception": false,
     "start_time": "2024-04-17T09:28:20.815220",
     "status": "completed"
    },
    "tags": []
   },
   "source": [
    "To make use of GPU, this notebook should be run on Google Colab or Kaggle. It is highly inadvisable to run this notebook on a local machine as it would take a very long time to train the model. However you can run on local for testing purposes."
   ]
  },
  {
   "cell_type": "code",
   "execution_count": 1,
   "id": "0461a5d3",
   "metadata": {
    "execution": {
     "iopub.execute_input": "2024-04-17T09:28:20.891134Z",
     "iopub.status.busy": "2024-04-17T09:28:20.890343Z",
     "iopub.status.idle": "2024-04-17T09:28:20.918229Z",
     "shell.execute_reply": "2024-04-17T09:28:20.917190Z"
    },
    "papermill": {
     "duration": 0.055757,
     "end_time": "2024-04-17T09:28:20.920206",
     "exception": false,
     "start_time": "2024-04-17T09:28:20.864449",
     "status": "completed"
    },
    "tags": []
   },
   "outputs": [
    {
     "name": "stdout",
     "output_type": "stream",
     "text": [
      "/kaggle/input/test.tsv\n",
      "/kaggle/input/dev.tsv\n",
      "/kaggle/input/train.tsv\n",
      "/kaggle/input/original/datasetSentences.txt\n",
      "/kaggle/input/original/STree.txt\n",
      "/kaggle/input/original/README.txt\n",
      "/kaggle/input/original/original_rt_snippets.txt\n",
      "/kaggle/input/original/SOStr.txt\n",
      "/kaggle/input/original/dictionary.txt\n",
      "/kaggle/input/original/sentiment_labels.txt\n",
      "/kaggle/input/original/datasetSplit.txt\n"
     ]
    }
   ],
   "source": [
    "# Input data files are available in the read-only \"../input/\" directory\n",
    "# For example, running this (by clicking run or pressing Shift+Enter) will list all files under the input directory\n",
    "\n",
    "import os\n",
    "for dirname, _, filenames in os.walk('/kaggle/input'):\n",
    "    for filename in filenames:\n",
    "        print(os.path.join(dirname, filename))\n",
    "\n",
    "# You can write up to 20GB to the current directory (/kaggle/working/) that gets preserved as output when you create a version using \"Save & Run All\" \n",
    "# You can also write temporary files to /kaggle/temp/, but they won't be saved outside of the current session"
   ]
  },
  {
   "cell_type": "code",
   "execution_count": 2,
   "id": "708ac966",
   "metadata": {
    "execution": {
     "iopub.execute_input": "2024-04-17T09:28:20.972225Z",
     "iopub.status.busy": "2024-04-17T09:28:20.971529Z",
     "iopub.status.idle": "2024-04-17T09:28:26.368408Z",
     "shell.execute_reply": "2024-04-17T09:28:26.367447Z"
    },
    "papermill": {
     "duration": 5.424837,
     "end_time": "2024-04-17T09:28:26.370852",
     "exception": false,
     "start_time": "2024-04-17T09:28:20.946015",
     "status": "completed"
    },
    "tags": []
   },
   "outputs": [],
   "source": [
    "### Importing all necessary libraries\n",
    "\n",
    "import pandas as pd\n",
    "import numpy as np\n",
    "import matplotlib.pyplot as plt\n",
    "from sklearn.model_selection import train_test_split\n",
    "\n",
    "import torch\n",
    "from tqdm import tqdm\n",
    "from torch.utils.data import TensorDataset"
   ]
  },
  {
   "cell_type": "markdown",
   "id": "9785ae04",
   "metadata": {
    "papermill": {
     "duration": 0.025007,
     "end_time": "2024-04-17T09:28:26.422134",
     "exception": false,
     "start_time": "2024-04-17T09:28:26.397127",
     "status": "completed"
    },
    "tags": []
   },
   "source": [
    "#### Due to memory and time limit issues, we cannot really use the whole dataset for fine tuning. As a result, we would use a subset of the dataset for training and validation."
   ]
  },
  {
   "cell_type": "code",
   "execution_count": 3,
   "id": "c81e24b5",
   "metadata": {
    "execution": {
     "iopub.execute_input": "2024-04-17T09:28:26.474271Z",
     "iopub.status.busy": "2024-04-17T09:28:26.473804Z",
     "iopub.status.idle": "2024-04-17T09:28:26.478145Z",
     "shell.execute_reply": "2024-04-17T09:28:26.477320Z"
    },
    "papermill": {
     "duration": 0.032732,
     "end_time": "2024-04-17T09:28:26.480126",
     "exception": false,
     "start_time": "2024-04-17T09:28:26.447394",
     "status": "completed"
    },
    "tags": []
   },
   "outputs": [],
   "source": [
    "num_train_plus_test = None # Later, train and test data ratio is 80:20\n",
    "num_val = None \n",
    "num_unknown_labels_test = None\n",
    "# If you want to use all data, set values to None"
   ]
  },
  {
   "cell_type": "code",
   "execution_count": 4,
   "id": "a990f761",
   "metadata": {
    "execution": {
     "iopub.execute_input": "2024-04-17T09:28:26.531070Z",
     "iopub.status.busy": "2024-04-17T09:28:26.530771Z",
     "iopub.status.idle": "2024-04-17T09:28:26.705340Z",
     "shell.execute_reply": "2024-04-17T09:28:26.704459Z"
    },
    "papermill": {
     "duration": 0.202664,
     "end_time": "2024-04-17T09:28:26.707686",
     "exception": false,
     "start_time": "2024-04-17T09:28:26.505022",
     "status": "completed"
    },
    "tags": []
   },
   "outputs": [
    {
     "name": "stdout",
     "output_type": "stream",
     "text": [
      "1821\n"
     ]
    },
    {
     "data": {
      "text/html": [
       "<div>\n",
       "<style scoped>\n",
       "    .dataframe tbody tr th:only-of-type {\n",
       "        vertical-align: middle;\n",
       "    }\n",
       "\n",
       "    .dataframe tbody tr th {\n",
       "        vertical-align: top;\n",
       "    }\n",
       "\n",
       "    .dataframe thead th {\n",
       "        text-align: right;\n",
       "    }\n",
       "</style>\n",
       "<table border=\"1\" class=\"dataframe\">\n",
       "  <thead>\n",
       "    <tr style=\"text-align: right;\">\n",
       "      <th></th>\n",
       "      <th>sentence</th>\n",
       "      <th>label</th>\n",
       "    </tr>\n",
       "  </thead>\n",
       "  <tbody>\n",
       "    <tr>\n",
       "      <th>0</th>\n",
       "      <td>hide new secretions from the parental units</td>\n",
       "      <td>0</td>\n",
       "    </tr>\n",
       "    <tr>\n",
       "      <th>1</th>\n",
       "      <td>contains no wit , only labored gags</td>\n",
       "      <td>0</td>\n",
       "    </tr>\n",
       "    <tr>\n",
       "      <th>2</th>\n",
       "      <td>that loves its characters and communicates som...</td>\n",
       "      <td>1</td>\n",
       "    </tr>\n",
       "    <tr>\n",
       "      <th>3</th>\n",
       "      <td>remains utterly satisfied to remain the same t...</td>\n",
       "      <td>0</td>\n",
       "    </tr>\n",
       "    <tr>\n",
       "      <th>4</th>\n",
       "      <td>on the worst revenge-of-the-nerds clichés the ...</td>\n",
       "      <td>0</td>\n",
       "    </tr>\n",
       "  </tbody>\n",
       "</table>\n",
       "</div>"
      ],
      "text/plain": [
       "                                            sentence  label\n",
       "0       hide new secretions from the parental units       0\n",
       "1               contains no wit , only labored gags       0\n",
       "2  that loves its characters and communicates som...      1\n",
       "3  remains utterly satisfied to remain the same t...      0\n",
       "4  on the worst revenge-of-the-nerds clichés the ...      0"
      ]
     },
     "execution_count": 4,
     "metadata": {},
     "output_type": "execute_result"
    }
   ],
   "source": [
    "# train_sst2 = pd.read_csv(\"/kaggle/input/snlp-project-sst2/train.tsv\", sep=\"\\t\")\n",
    "# dev_sst2 = pd.read_csv(\"/kaggle/input/snlp-project-sst2/dev.tsv\", sep=\"\\t\")\n",
    "\n",
    "train_sst2 = pd.read_csv(\"/kaggle/input/train.tsv\", sep=\"\\t\", nrows=num_train_plus_test)\n",
    "dev_sst2 = pd.read_csv(\"/kaggle/input/dev.tsv\", sep=\"\\t\", nrows=num_val)\n",
    "\n",
    "test_unknown_label_sst2 = pd.read_csv(\"/kaggle/input/test.tsv\", sep=\"\\t\", nrows=num_unknown_labels_test)\n",
    "print(len(test_unknown_label_sst2))\n",
    "train_sst2.head()"
   ]
  },
  {
   "cell_type": "markdown",
   "id": "27880803",
   "metadata": {
    "papermill": {
     "duration": 0.024987,
     "end_time": "2024-04-17T09:28:26.758969",
     "exception": false,
     "start_time": "2024-04-17T09:28:26.733982",
     "status": "completed"
    },
    "tags": []
   },
   "source": [
    "## BertForSequenceClassification\n",
    "\n",
    "For this task, we first want to modify the pre-trained BERT model to give outputs for classification, and then we want to continue training the model on our dataset until that the entire model, end-to-end, is well-suited for our task.\n",
    "\n",
    "We’ll be using [BertForSequenceClassification](https://huggingface.co/transformers/model_doc/bert.html#bertforsequenceclassification). This is the normal BERT model with an added single linear layer on top for classification that we will use as a sentence classifier. As we feed input data, the entire pre-trained BERT model and the additional untrained classification layer is trained on our specific task."
   ]
  },
  {
   "cell_type": "markdown",
   "id": "11666591",
   "metadata": {
    "papermill": {
     "duration": 0.025243,
     "end_time": "2024-04-17T09:28:26.809061",
     "exception": false,
     "start_time": "2024-04-17T09:28:26.783818",
     "status": "completed"
    },
    "tags": []
   },
   "source": [
    "### Choosing the BERT variant and the Tokenizer\n",
    "\n",
    "To feed our text to BERT, it must be split into tokens, and then these tokens must be mapped to their index in the tokenizer vocabulary. The tokenization must be performed by the tokenizer included with BERT. This Tokenizer is build upon the WordPiece tokenizer. "
   ]
  },
  {
   "cell_type": "code",
   "execution_count": 5,
   "id": "7d1371d1",
   "metadata": {
    "execution": {
     "iopub.execute_input": "2024-04-17T09:28:26.861586Z",
     "iopub.status.busy": "2024-04-17T09:28:26.860738Z",
     "iopub.status.idle": "2024-04-17T09:28:26.919616Z",
     "shell.execute_reply": "2024-04-17T09:28:26.918510Z"
    },
    "papermill": {
     "duration": 0.087205,
     "end_time": "2024-04-17T09:28:26.921627",
     "exception": false,
     "start_time": "2024-04-17T09:28:26.834422",
     "status": "completed"
    },
    "tags": []
   },
   "outputs": [
    {
     "name": "stdout",
     "output_type": "stream",
     "text": [
      "The current device is cuda\n"
     ]
    }
   ],
   "source": [
    "device = torch.device(\"cuda\" if torch.cuda.is_available() else \"cpu\")\n",
    "print(\"The current device is\", device)"
   ]
  },
  {
   "cell_type": "code",
   "execution_count": 6,
   "id": "7bf0797c",
   "metadata": {
    "execution": {
     "iopub.execute_input": "2024-04-17T09:28:26.973676Z",
     "iopub.status.busy": "2024-04-17T09:28:26.973121Z",
     "iopub.status.idle": "2024-04-17T09:28:33.426534Z",
     "shell.execute_reply": "2024-04-17T09:28:33.425548Z"
    },
    "papermill": {
     "duration": 6.481808,
     "end_time": "2024-04-17T09:28:33.428902",
     "exception": false,
     "start_time": "2024-04-17T09:28:26.947094",
     "status": "completed"
    },
    "tags": []
   },
   "outputs": [
    {
     "data": {
      "application/vnd.jupyter.widget-view+json": {
       "model_id": "cf4bad25dc304e3d8f4c57ee7da03c3f",
       "version_major": 2,
       "version_minor": 0
      },
      "text/plain": [
       "tokenizer_config.json:   0%|          | 0.00/25.0 [00:00<?, ?B/s]"
      ]
     },
     "metadata": {},
     "output_type": "display_data"
    },
    {
     "data": {
      "application/vnd.jupyter.widget-view+json": {
       "model_id": "febcee08e4014d0d8b386e1ab4340503",
       "version_major": 2,
       "version_minor": 0
      },
      "text/plain": [
       "config.json:   0%|          | 0.00/684 [00:00<?, ?B/s]"
      ]
     },
     "metadata": {},
     "output_type": "display_data"
    },
    {
     "data": {
      "application/vnd.jupyter.widget-view+json": {
       "model_id": "e7518c2df69245c1bb781ad303070ba4",
       "version_major": 2,
       "version_minor": 0
      },
      "text/plain": [
       "spiece.model:   0%|          | 0.00/760k [00:00<?, ?B/s]"
      ]
     },
     "metadata": {},
     "output_type": "display_data"
    },
    {
     "data": {
      "application/vnd.jupyter.widget-view+json": {
       "model_id": "a8d864fbafa24ac6a330161b9731b9e1",
       "version_major": 2,
       "version_minor": 0
      },
      "text/plain": [
       "tokenizer.json:   0%|          | 0.00/1.31M [00:00<?, ?B/s]"
      ]
     },
     "metadata": {},
     "output_type": "display_data"
    },
    {
     "data": {
      "application/vnd.jupyter.widget-view+json": {
       "model_id": "5b50b74364fa47d1a0759e63904a2b8d",
       "version_major": 2,
       "version_minor": 0
      },
      "text/plain": [
       "model.safetensors:   0%|          | 0.00/47.4M [00:00<?, ?B/s]"
      ]
     },
     "metadata": {},
     "output_type": "display_data"
    },
    {
     "name": "stderr",
     "output_type": "stream",
     "text": [
      "Some weights of AlbertForSequenceClassification were not initialized from the model checkpoint at albert-base-v2 and are newly initialized: ['classifier.bias', 'classifier.weight']\n",
      "You should probably TRAIN this model on a down-stream task to be able to use it for predictions and inference.\n"
     ]
    }
   ],
   "source": [
    "# PLEASE CHOOSE THE BERT VARIANT MODEL\n",
    "\n",
    "# bert_model_name = \"bert-base-uncased\"\n",
    "# bert_model_name = \"roberta-base\"\n",
    "# bert_model_name = \"distilbert-base-uncased\"\n",
    "bert_model_name = \"albert-base-v2\"\n",
    "# bert_model_name = \"deberta-base\"\n",
    "\n",
    "from transformers import AutoTokenizer, AutoModelForSequenceClassification\n",
    "\n",
    "bert_temp_name = \"microsoft/deberta-base\" if bert_model_name == \"deberta-base\" else bert_model_name\n",
    "\n",
    "tokenizer = AutoTokenizer.from_pretrained(bert_temp_name)\n",
    "bert_classification_model = AutoModelForSequenceClassification.from_pretrained(\n",
    "    pretrained_model_name_or_path=bert_temp_name,\n",
    "    num_labels=2, # The number of output labels--2 for binary classification.\n",
    "                    # You can increase this for multi-class tasks.   \n",
    "    output_attentions=False, # Whether the model returns attentions weights.\n",
    "    output_hidden_states=False, # Whether the model returns all hidden-states.\n",
    ")\n",
    "\n",
    "bert_classification_model = bert_classification_model.to(device)"
   ]
  },
  {
   "cell_type": "markdown",
   "id": "4b74cc7b",
   "metadata": {
    "papermill": {
     "duration": 0.026054,
     "end_time": "2024-04-17T09:28:33.481821",
     "exception": false,
     "start_time": "2024-04-17T09:28:33.455767",
     "status": "completed"
    },
    "tags": []
   },
   "source": [
    "# Tokenizing\n",
    "To feed our text to BERT, it must be split into tokens, and then these tokens must be mapped to their index in the tokenizer vocabulary. "
   ]
  },
  {
   "cell_type": "code",
   "execution_count": 7,
   "id": "5ef286d7",
   "metadata": {
    "execution": {
     "iopub.execute_input": "2024-04-17T09:28:33.535273Z",
     "iopub.status.busy": "2024-04-17T09:28:33.534494Z",
     "iopub.status.idle": "2024-04-17T09:28:33.544039Z",
     "shell.execute_reply": "2024-04-17T09:28:33.543063Z"
    },
    "papermill": {
     "duration": 0.038455,
     "end_time": "2024-04-17T09:28:33.546024",
     "exception": false,
     "start_time": "2024-04-17T09:28:33.507569",
     "status": "completed"
    },
    "tags": []
   },
   "outputs": [
    {
     "name": "stdout",
     "output_type": "stream",
     "text": [
      "Original sentence:\n",
      " hide new secretions from the parental units \n",
      "\n",
      "Tokenized by albert-base-v2:\n",
      " ['▁hide', '▁new', '▁secretion', 's', '▁from', '▁the', '▁parental', '▁units']\n",
      "\n",
      "Token IDs by albert-base-v2:\n",
      " [3077, 78, 27467, 18, 37, 14, 21207, 1398]\n"
     ]
    }
   ],
   "source": [
    "example_sentence = train_sst2['sentence'][0]\n",
    "\n",
    "print(f\"Original sentence:\\n {example_sentence}\")\n",
    "\n",
    "example_tokens = tokenizer.tokenize(example_sentence)\n",
    "\n",
    "print(f\"\\nTokenized by {bert_model_name}:\\n {example_tokens}\")\n",
    "\n",
    "example_tokens_ID = tokenizer.convert_tokens_to_ids(example_tokens)\n",
    "print(f\"\\nToken IDs by {bert_model_name}:\\n {example_tokens_ID}\")"
   ]
  },
  {
   "cell_type": "markdown",
   "id": "78e53af6",
   "metadata": {
    "papermill": {
     "duration": 0.025646,
     "end_time": "2024-04-17T09:28:33.597643",
     "exception": false,
     "start_time": "2024-04-17T09:28:33.571997",
     "status": "completed"
    },
    "tags": []
   },
   "source": [
    "We can combine ``tokenize`` and ``convert_tokens_to_ids`` with the method ``encode``:"
   ]
  },
  {
   "cell_type": "code",
   "execution_count": 8,
   "id": "dff5e681",
   "metadata": {
    "execution": {
     "iopub.execute_input": "2024-04-17T09:28:33.651423Z",
     "iopub.status.busy": "2024-04-17T09:28:33.650881Z",
     "iopub.status.idle": "2024-04-17T09:28:33.656690Z",
     "shell.execute_reply": "2024-04-17T09:28:33.655766Z"
    },
    "papermill": {
     "duration": 0.034857,
     "end_time": "2024-04-17T09:28:33.658595",
     "exception": false,
     "start_time": "2024-04-17T09:28:33.623738",
     "status": "completed"
    },
    "tags": []
   },
   "outputs": [
    {
     "name": "stdout",
     "output_type": "stream",
     "text": [
      "Original sentence:\n",
      " hide new secretions from the parental units \n",
      "\n",
      "Token IDs by albert-base-v2:\n",
      " [2, 3077, 78, 27467, 18, 37, 14, 21207, 1398, 3]\n"
     ]
    }
   ],
   "source": [
    "example_sentence= train_sst2['sentence'][0]\n",
    "\n",
    "print(f\"Original sentence:\\n {example_sentence}\")\n",
    "\n",
    "example_tokens_ID = tokenizer.encode(example_sentence)\n",
    "\n",
    "print(f\"\\nToken IDs by {bert_model_name}:\\n {example_tokens_ID}\")"
   ]
  },
  {
   "cell_type": "markdown",
   "id": "43bc2c3a",
   "metadata": {
    "papermill": {
     "duration": 0.025951,
     "end_time": "2024-04-17T09:28:33.710775",
     "exception": false,
     "start_time": "2024-04-17T09:28:33.684824",
     "status": "completed"
    },
    "tags": []
   },
   "source": [
    "We can see we got two extra tokens at the start and at the end compared to previous versions. Let's see what they are:"
   ]
  },
  {
   "cell_type": "code",
   "execution_count": 9,
   "id": "5c5edd01",
   "metadata": {
    "execution": {
     "iopub.execute_input": "2024-04-17T09:28:33.764325Z",
     "iopub.status.busy": "2024-04-17T09:28:33.763985Z",
     "iopub.status.idle": "2024-04-17T09:28:43.243151Z",
     "shell.execute_reply": "2024-04-17T09:28:43.242224Z"
    },
    "papermill": {
     "duration": 9.508435,
     "end_time": "2024-04-17T09:28:43.245289",
     "exception": false,
     "start_time": "2024-04-17T09:28:33.736854",
     "status": "completed"
    },
    "tags": []
   },
   "outputs": [
    {
     "name": "stderr",
     "output_type": "stream",
     "text": [
      "2024-04-17 09:28:35.434059: E external/local_xla/xla/stream_executor/cuda/cuda_dnn.cc:9261] Unable to register cuDNN factory: Attempting to register factory for plugin cuDNN when one has already been registered\n",
      "2024-04-17 09:28:35.434161: E external/local_xla/xla/stream_executor/cuda/cuda_fft.cc:607] Unable to register cuFFT factory: Attempting to register factory for plugin cuFFT when one has already been registered\n",
      "2024-04-17 09:28:35.566687: E external/local_xla/xla/stream_executor/cuda/cuda_blas.cc:1515] Unable to register cuBLAS factory: Attempting to register factory for plugin cuBLAS when one has already been registered\n"
     ]
    },
    {
     "data": {
      "text/plain": [
       "'[CLS] hide new secretions from the parental units[SEP]'"
      ]
     },
     "execution_count": 9,
     "metadata": {},
     "output_type": "execute_result"
    }
   ],
   "source": [
    "tokenizer.decode(example_tokens_ID)"
   ]
  },
  {
   "cell_type": "markdown",
   "id": "23672227",
   "metadata": {
    "papermill": {
     "duration": 0.026374,
     "end_time": "2024-04-17T09:28:43.343978",
     "exception": false,
     "start_time": "2024-04-17T09:28:43.317604",
     "status": "completed"
    },
    "tags": []
   },
   "source": [
    "## Special Tokens\n",
    "``[SEP]`` - At the end of every sentence, we need to append the special ``[SEP]`` token.\n",
    "\n",
    "This token is an artifact of two-sentence tasks, where BERT is given two separate sentences and asked to determine something (remeber BERT was trained intially to perdict question-answering task).\n",
    "\n",
    "``[CLS]`` - For classification tasks, we must prepend the special ``[CLS]`` token to the beginning of every sentence.\n",
    "\n",
    "This token has special significance. BERT consists of 12 Transformer layers. Each transformer takes in a list of token embeddings, and produces the same number of embeddings on the output.\n",
    "\n",
    "So now let's see how to encode the two questions together:"
   ]
  },
  {
   "cell_type": "code",
   "execution_count": 10,
   "id": "5bed8b1c",
   "metadata": {
    "execution": {
     "iopub.execute_input": "2024-04-17T09:28:43.399497Z",
     "iopub.status.busy": "2024-04-17T09:28:43.399061Z",
     "iopub.status.idle": "2024-04-17T09:28:43.406103Z",
     "shell.execute_reply": "2024-04-17T09:28:43.405209Z"
    },
    "papermill": {
     "duration": 0.03777,
     "end_time": "2024-04-17T09:28:43.408135",
     "exception": false,
     "start_time": "2024-04-17T09:28:43.370365",
     "status": "completed"
    },
    "tags": []
   },
   "outputs": [
    {
     "data": {
      "text/plain": [
       "'[CLS] hide new secretions from the parental units[SEP]'"
      ]
     },
     "execution_count": 10,
     "metadata": {},
     "output_type": "execute_result"
    }
   ],
   "source": [
    "example_sentence = train_sst2['sentence'][0]\n",
    "\n",
    "encoded_pair = tokenizer.encode(example_sentence)\n",
    "tokenizer.decode(encoded_pair)"
   ]
  },
  {
   "cell_type": "markdown",
   "id": "f0aaa934",
   "metadata": {
    "papermill": {
     "duration": 0.026279,
     "end_time": "2024-04-17T09:28:43.460778",
     "exception": false,
     "start_time": "2024-04-17T09:28:43.434499",
     "status": "completed"
    },
    "tags": []
   },
   "source": [
    "## Sentence Length\n",
    "\n",
    "The sentences in our dataset obviously have varying lengths, so how does BERT handle this?\n",
    "\n",
    "BERT has two constraints:\n",
    "\n",
    "1. All sentences must be padded or truncated to a single, fixed length.\n",
    "2. The maximum sentence length is 512 tokens.\n",
    "Padding is done with a special ``[PAD]`` token, which is at index 0 in the BERT vocabulary.\n",
    "\n",
    "The maximum length does impact training and evaluation speed.\n",
    "\n",
    "Before we are ready to encode our text, though, we need to decide on a maximum sentence length for padding / truncating to.\n",
    "\n",
    "Let's find the maximum length:"
   ]
  },
  {
   "cell_type": "code",
   "execution_count": 11,
   "id": "9ad16635",
   "metadata": {
    "execution": {
     "iopub.execute_input": "2024-04-17T09:28:43.515314Z",
     "iopub.status.busy": "2024-04-17T09:28:43.514974Z",
     "iopub.status.idle": "2024-04-17T09:28:50.644511Z",
     "shell.execute_reply": "2024-04-17T09:28:50.643487Z"
    },
    "papermill": {
     "duration": 7.158986,
     "end_time": "2024-04-17T09:28:50.646426",
     "exception": false,
     "start_time": "2024-04-17T09:28:43.487440",
     "status": "completed"
    },
    "tags": []
   },
   "outputs": [
    {
     "name": "stderr",
     "output_type": "stream",
     "text": [
      "100%|██████████| 67349/67349 [00:07<00:00, 9464.37it/s]\n"
     ]
    },
    {
     "name": "stdout",
     "output_type": "stream",
     "text": [
      "The maximum sentence length is  79\n"
     ]
    }
   ],
   "source": [
    "tqdm.pandas()\n",
    "train_sst2[\"sentence_length\"] = train_sst2[\"sentence\"].progress_apply(lambda question: \n",
    "                                                        len(tokenizer.tokenize(question)))\n",
    "\n",
    "MAX_LENGTH = train_sst2[\"sentence_length\"].max()\n",
    "\n",
    "print(\"The maximum sentence length is \", MAX_LENGTH)"
   ]
  },
  {
   "cell_type": "markdown",
   "id": "25860a23",
   "metadata": {
    "papermill": {
     "duration": 0.032226,
     "end_time": "2024-04-17T09:28:50.711859",
     "exception": false,
     "start_time": "2024-04-17T09:28:50.679633",
     "status": "completed"
    },
    "tags": []
   },
   "source": [
    "### Now we construct the training, validation, testing dataset with known labels and testing dataset with unknown labels"
   ]
  },
  {
   "cell_type": "code",
   "execution_count": 12,
   "id": "211a4185",
   "metadata": {
    "execution": {
     "iopub.execute_input": "2024-04-17T09:28:50.777097Z",
     "iopub.status.busy": "2024-04-17T09:28:50.776733Z",
     "iopub.status.idle": "2024-04-17T09:28:50.800044Z",
     "shell.execute_reply": "2024-04-17T09:28:50.799132Z"
    },
    "papermill": {
     "duration": 0.058475,
     "end_time": "2024-04-17T09:28:50.802211",
     "exception": false,
     "start_time": "2024-04-17T09:28:50.743736",
     "status": "completed"
    },
    "tags": []
   },
   "outputs": [],
   "source": [
    "X_train, X_test_known_labels, y_train, y_test_known_labels = train_test_split(train_sst2[[\"sentence\"]], \n",
    "                                                    train_sst2[\"label\"], test_size=0.2, random_state=42)\n",
    "X_val = dev_sst2[[\"sentence\"]]\n",
    "y_val = dev_sst2[\"label\"]\n",
    "\n",
    "X_test_unknown_labels = test_unknown_label_sst2[[\"sentence\"]]"
   ]
  },
  {
   "cell_type": "markdown",
   "id": "8de79a6c",
   "metadata": {
    "papermill": {
     "duration": 0.032388,
     "end_time": "2024-04-17T09:28:50.867942",
     "exception": false,
     "start_time": "2024-04-17T09:28:50.835554",
     "status": "completed"
    },
    "tags": []
   },
   "source": [
    "# Tokenize dataset and create Dataloader\n",
    "\n",
    "Now we’re ready to perform the real tokenization.\n",
    "\n",
    "The tokenizer.encode_plus function combines multiple steps for us:\n",
    "\n",
    "1. Split the sentence into tokens.\n",
    "2. Add the special ``[CLS]`` and ``[SEP]`` tokens.\n",
    "3. Map the tokens to their IDs.\n",
    "4. Pad or truncate all sentences to the same length.\n",
    "5. Create the attention masks which explicitly differentiate real tokens from ``[PAD]`` tokens.\n",
    "\n",
    "Documentation is [here](https://huggingface.co/transformers/main_classes/tokenizer.html?highlight=encode_plus#transformers.PreTrainedTokenizer.encode_plus)."
   ]
  },
  {
   "cell_type": "code",
   "execution_count": 13,
   "id": "393d7277",
   "metadata": {
    "execution": {
     "iopub.execute_input": "2024-04-17T09:28:50.934566Z",
     "iopub.status.busy": "2024-04-17T09:28:50.934190Z",
     "iopub.status.idle": "2024-04-17T09:28:50.945251Z",
     "shell.execute_reply": "2024-04-17T09:28:50.944368Z"
    },
    "papermill": {
     "duration": 0.046713,
     "end_time": "2024-04-17T09:28:50.947104",
     "exception": false,
     "start_time": "2024-04-17T09:28:50.900391",
     "status": "completed"
    },
    "tags": []
   },
   "outputs": [
    {
     "data": {
      "text/plain": [
       "{'input_ids': tensor([[    2,  1792,    18,    14,  6180,    16,    14,   501,    17,    63,\n",
       "            21,    13,  7091,  1669,  3798,    30, 16077,    14,   946,    85,\n",
       "            88,   332,   902,   640,    21,   850,    13,    22,    18,  1163,\n",
       "            17,    40,  3035,    13,    22,    18, 13557,     3,     0,     0,\n",
       "             0,     0,     0,     0,     0,     0,     0,     0,     0,     0,\n",
       "             0,     0,     0,     0,     0,     0,     0,     0,     0,     0,\n",
       "             0,     0,     0,     0]]), 'token_type_ids': tensor([[0, 0, 0, 0, 0, 0, 0, 0, 0, 0, 0, 0, 0, 0, 0, 0, 0, 0, 0, 0, 0, 0, 0, 0,\n",
       "         0, 0, 0, 0, 0, 0, 0, 0, 0, 0, 0, 0, 0, 0, 0, 0, 0, 0, 0, 0, 0, 0, 0, 0,\n",
       "         0, 0, 0, 0, 0, 0, 0, 0, 0, 0, 0, 0, 0, 0, 0, 0]]), 'attention_mask': tensor([[1, 1, 1, 1, 1, 1, 1, 1, 1, 1, 1, 1, 1, 1, 1, 1, 1, 1, 1, 1, 1, 1, 1, 1,\n",
       "         1, 1, 1, 1, 1, 1, 1, 1, 1, 1, 1, 1, 1, 1, 0, 0, 0, 0, 0, 0, 0, 0, 0, 0,\n",
       "         0, 0, 0, 0, 0, 0, 0, 0, 0, 0, 0, 0, 0, 0, 0, 0]])}"
      ]
     },
     "execution_count": 13,
     "metadata": {},
     "output_type": "execute_result"
    }
   ],
   "source": [
    "MAX_LENGTH = 64\n",
    "\n",
    "tokenizer.encode_plus(X_train.iloc[0]['sentence'],  \n",
    "                        max_length=MAX_LENGTH,\n",
    "                        padding='max_length',\n",
    "                        return_attention_mask=True,\n",
    "                        return_tensors='pt',\n",
    "                        truncation=True)"
   ]
  },
  {
   "cell_type": "markdown",
   "id": "9958bd53",
   "metadata": {
    "papermill": {
     "duration": 0.031838,
     "end_time": "2024-04-17T09:28:51.011142",
     "exception": false,
     "start_time": "2024-04-17T09:28:50.979304",
     "status": "completed"
    },
    "tags": []
   },
   "source": [
    "So what we got:\n",
    "\n",
    "1. input_ids - Token ids padded with 0 at the end.\n",
    "2. token_type_ids - This array indicates bert what is the first sentence and what is the seconds. In case of classification of only one sentance this array is redundant.\n",
    "3. attention_mask - The “Attention Mask” is simply an array of 1s and 0s indicating which tokens are padding and which aren’t. This mask tells the “Self-Attention” mechanism in BERT not to incorporate these ``[PAD]`` tokens into its interpretation of the sentence.\n",
    "\n",
    "All the array are in the size of ``max_length``."
   ]
  },
  {
   "cell_type": "code",
   "execution_count": 14,
   "id": "2852a3b9",
   "metadata": {
    "execution": {
     "iopub.execute_input": "2024-04-17T09:28:51.077280Z",
     "iopub.status.busy": "2024-04-17T09:28:51.076640Z",
     "iopub.status.idle": "2024-04-17T09:28:51.088992Z",
     "shell.execute_reply": "2024-04-17T09:28:51.088095Z"
    },
    "papermill": {
     "duration": 0.04767,
     "end_time": "2024-04-17T09:28:51.091051",
     "exception": false,
     "start_time": "2024-04-17T09:28:51.043381",
     "status": "completed"
    },
    "tags": []
   },
   "outputs": [],
   "source": [
    "def convert_to_dataset_torch(features, labels):\n",
    "    input_ids = []\n",
    "    attention_masks = []\n",
    "    token_type_ids = []\n",
    "    for _, row in tqdm(features.iterrows(), total=features.shape[0]):\n",
    "        encoded_dict = tokenizer.encode_plus(row[\"sentence\"],  \n",
    "                                             max_length=MAX_LENGTH,\n",
    "                                             padding='max_length', \n",
    "                                             return_attention_mask=True, \n",
    "                                             return_tensors='pt', \n",
    "                                             truncation=True)\n",
    "        # print(encoded_dict.keys())\n",
    "        \n",
    "        # Add the encoded sentences to the list.\n",
    "        input_ids.append(encoded_dict['input_ids'])\n",
    "        # And its attention mask (simply differentiates padding from non-padding).\n",
    "        attention_masks.append(encoded_dict['attention_mask'])\n",
    "        \n",
    "        if bert_model_name in [\"bert-base-uncased\", \"albert-base-v2\", \"deberta-base\"]:\n",
    "            token_type_ids.append(encoded_dict[\"token_type_ids\"])\n",
    "        \n",
    "    # Convert the lists into tensors.\n",
    "    if bert_model_name in [\"bert-base-uncased\", \"albert-base-v2\", \"deberta-base\"]:\n",
    "\n",
    "        input_ids = torch.cat(input_ids, dim=0)\n",
    "        token_type_ids = torch.cat(token_type_ids, dim=0)\n",
    "        attention_masks = torch.cat(attention_masks, dim=0)\n",
    "        labels = torch.tensor(labels.values)\n",
    "        \n",
    "        print(\"Shape of input_ids is\", input_ids.shape)\n",
    "        print(\"Shape of token_type_ids is\", token_type_ids.shape)\n",
    "        print(\"Shape of attention_masks is\", attention_masks.shape)\n",
    "        print(\"Shape of labels is\", labels.shape)\n",
    "        \n",
    "        return TensorDataset(input_ids, attention_masks, token_type_ids, labels)\n",
    "    \n",
    "    elif bert_model_name in [\"roberta-base\", \"distilbert-base-uncased\"]:\n",
    "        # roberta does not have token_type_ids\n",
    "        input_ids = torch.cat(input_ids, dim=0)\n",
    "        attention_masks = torch.cat(attention_masks, dim=0)\n",
    "        labels = torch.tensor(labels.values)\n",
    "        \n",
    "        print(\"Shape of input_ids is\", input_ids.shape)\n",
    "        print(\"Shape of attention_masks is\", attention_masks.shape)\n",
    "        print(\"Shape of labels is\", labels.shape)\n",
    "        \n",
    "        return TensorDataset(input_ids, attention_masks, labels)\n",
    "    "
   ]
  },
  {
   "cell_type": "markdown",
   "id": "8b8805c0",
   "metadata": {
    "papermill": {
     "duration": 0.031904,
     "end_time": "2024-04-17T09:28:51.155395",
     "exception": false,
     "start_time": "2024-04-17T09:28:51.123491",
     "status": "completed"
    },
    "tags": []
   },
   "source": [
    "We’ll also create an iterator for our dataset using the torch DataLoader class. This helps save on memory during training because, unlike a for loop, with an iterator the entire dataset does not need to be loaded into memory:"
   ]
  },
  {
   "cell_type": "code",
   "execution_count": 15,
   "id": "8121d294",
   "metadata": {
    "execution": {
     "iopub.execute_input": "2024-04-17T09:28:51.221461Z",
     "iopub.status.busy": "2024-04-17T09:28:51.221104Z",
     "iopub.status.idle": "2024-04-17T09:29:12.984459Z",
     "shell.execute_reply": "2024-04-17T09:29:12.983264Z"
    },
    "papermill": {
     "duration": 21.799329,
     "end_time": "2024-04-17T09:29:12.986794",
     "exception": false,
     "start_time": "2024-04-17T09:28:51.187465",
     "status": "completed"
    },
    "tags": []
   },
   "outputs": [
    {
     "name": "stderr",
     "output_type": "stream",
     "text": [
      "100%|██████████| 53879/53879 [00:21<00:00, 2527.42it/s]\n"
     ]
    },
    {
     "name": "stdout",
     "output_type": "stream",
     "text": [
      "Shape of input_ids is torch.Size([53879, 64])\n",
      "Shape of token_type_ids is torch.Size([53879, 64])\n",
      "Shape of attention_masks is torch.Size([53879, 64])\n",
      "Shape of labels is torch.Size([53879])\n"
     ]
    }
   ],
   "source": [
    "train_tensor = convert_to_dataset_torch(X_train, y_train)"
   ]
  },
  {
   "cell_type": "code",
   "execution_count": 16,
   "id": "d5366bf5",
   "metadata": {
    "execution": {
     "iopub.execute_input": "2024-04-17T09:29:13.085724Z",
     "iopub.status.busy": "2024-04-17T09:29:13.085412Z",
     "iopub.status.idle": "2024-04-17T09:29:13.474889Z",
     "shell.execute_reply": "2024-04-17T09:29:13.473949Z"
    },
    "papermill": {
     "duration": 0.440967,
     "end_time": "2024-04-17T09:29:13.476963",
     "exception": false,
     "start_time": "2024-04-17T09:29:13.035996",
     "status": "completed"
    },
    "tags": []
   },
   "outputs": [
    {
     "name": "stderr",
     "output_type": "stream",
     "text": [
      "100%|██████████| 872/872 [00:00<00:00, 2305.26it/s]"
     ]
    },
    {
     "name": "stdout",
     "output_type": "stream",
     "text": [
      "Shape of input_ids is torch.Size([872, 64])\n",
      "Shape of token_type_ids is torch.Size([872, 64])\n",
      "Shape of attention_masks is torch.Size([872, 64])\n",
      "Shape of labels is torch.Size([872])\n"
     ]
    },
    {
     "name": "stderr",
     "output_type": "stream",
     "text": [
      "\n"
     ]
    }
   ],
   "source": [
    "val_tensor = convert_to_dataset_torch(X_val, y_val)"
   ]
  },
  {
   "cell_type": "code",
   "execution_count": 17,
   "id": "fc0d5765",
   "metadata": {
    "execution": {
     "iopub.execute_input": "2024-04-17T09:29:13.577260Z",
     "iopub.status.busy": "2024-04-17T09:29:13.576921Z",
     "iopub.status.idle": "2024-04-17T09:29:13.583346Z",
     "shell.execute_reply": "2024-04-17T09:29:13.582488Z"
    },
    "papermill": {
     "duration": 0.05787,
     "end_time": "2024-04-17T09:29:13.585231",
     "exception": false,
     "start_time": "2024-04-17T09:29:13.527361",
     "status": "completed"
    },
    "tags": []
   },
   "outputs": [],
   "source": [
    "import multiprocessing\n",
    "\n",
    "from torch.utils.data import DataLoader, RandomSampler, SequentialSampler\n",
    "\n",
    "# The DataLoader needs to know our batch size for training, so we specify it here.\n",
    "\n",
    "batch_size = 5\n",
    "\n",
    "core_number = multiprocessing.cpu_count()\n",
    "\n",
    "# Create the DataLoaders for our training and validation sets.\n",
    "# We'll take training samples in random order. \n",
    "train_dataloader = DataLoader(\n",
    "            train_tensor,  # The training samples.\n",
    "            sampler = RandomSampler(train_tensor), # Select batches randomly\n",
    "            batch_size = batch_size, # Trains with this batch size.\n",
    "            num_workers = core_number\n",
    "        )\n",
    "\n",
    "# For validation the order doesn't matter, so we'll just read them sequentially.\n",
    "val_dataloader = DataLoader(\n",
    "            val_tensor, # The validation samples.\n",
    "            sampler = SequentialSampler(val_tensor), # Pull out batches sequentially.\n",
    "            batch_size = batch_size, # Evaluate with this batch size.\n",
    "            num_workers = core_number\n",
    "        )"
   ]
  },
  {
   "cell_type": "markdown",
   "id": "c65a194d",
   "metadata": {
    "papermill": {
     "duration": 0.04873,
     "end_time": "2024-04-17T09:29:13.682943",
     "exception": false,
     "start_time": "2024-04-17T09:29:13.634213",
     "status": "completed"
    },
    "tags": []
   },
   "source": [
    "# Training Loop\n",
    "Helper function for formatting elapsed times as ``hh:mm:ss``:"
   ]
  },
  {
   "cell_type": "code",
   "execution_count": 18,
   "id": "da5b16a1",
   "metadata": {
    "execution": {
     "iopub.execute_input": "2024-04-17T09:29:13.781708Z",
     "iopub.status.busy": "2024-04-17T09:29:13.781352Z",
     "iopub.status.idle": "2024-04-17T09:29:13.786847Z",
     "shell.execute_reply": "2024-04-17T09:29:13.785920Z"
    },
    "papermill": {
     "duration": 0.057291,
     "end_time": "2024-04-17T09:29:13.788943",
     "exception": false,
     "start_time": "2024-04-17T09:29:13.731652",
     "status": "completed"
    },
    "tags": []
   },
   "outputs": [],
   "source": [
    "import time\n",
    "import datetime\n",
    "\n",
    "def format_time(elapsed):\n",
    "    '''\n",
    "    Takes a time in seconds and returns a string hh:mm:ss\n",
    "    '''\n",
    "    # Round to the nearest second.\n",
    "    elapsed_rounded = int(round((elapsed)))\n",
    "    \n",
    "    # Format as hh:mm:ss\n",
    "    return str(datetime.timedelta(seconds=elapsed_rounded))"
   ]
  },
  {
   "cell_type": "markdown",
   "id": "c3fe187e",
   "metadata": {
    "papermill": {
     "duration": 0.048478,
     "end_time": "2024-04-17T09:29:13.886279",
     "exception": false,
     "start_time": "2024-04-17T09:29:13.837801",
     "status": "completed"
    },
    "tags": []
   },
   "source": [
    "### This function trains the batches from the train_dataloader"
   ]
  },
  {
   "cell_type": "code",
   "execution_count": 19,
   "id": "5532a9d1",
   "metadata": {
    "execution": {
     "iopub.execute_input": "2024-04-17T09:29:13.985768Z",
     "iopub.status.busy": "2024-04-17T09:29:13.985396Z",
     "iopub.status.idle": "2024-04-17T09:29:13.996460Z",
     "shell.execute_reply": "2024-04-17T09:29:13.995632Z"
    },
    "papermill": {
     "duration": 0.063434,
     "end_time": "2024-04-17T09:29:13.998373",
     "exception": false,
     "start_time": "2024-04-17T09:29:13.934939",
     "status": "completed"
    },
    "tags": []
   },
   "outputs": [],
   "source": [
    "def train_batch(epoch, bert_classification_model, train_dataloader, optimizer, scheduler, metric):\n",
    "    \n",
    "    total_train_loss = 0\n",
    "    total_train_accuracy = 0\n",
    "    \n",
    "    for batch in tqdm(train_dataloader, desc=f\"Training epoch: {epoch}\", unit=\"batch\"):\n",
    "        \n",
    "        if bert_model_name in [\"bert-base-uncased\", \"albert-base-v2\", \"deberta-base\"]:\n",
    "\n",
    "            # Unpack batch from dataloader.\n",
    "            input_ids = batch[0].to(device)\n",
    "            attention_masks = batch[1].to(device)\n",
    "            token_type_ids = batch[2].to(device)\n",
    "            labels = batch[3].to(device)\n",
    "            \n",
    "            bert_classification_model.zero_grad()\n",
    "            \n",
    "            # Forward pass\n",
    "            outputs = bert_classification_model(input_ids, \n",
    "                                token_type_ids=token_type_ids, \n",
    "                                attention_mask=attention_masks, \n",
    "                                labels=labels)\n",
    "            \n",
    "        elif bert_model_name in [\"roberta-base\", \"distilbert-base-uncased\"]:\n",
    "            # Unpack batch from dataloader.\n",
    "            input_ids = batch[0].to(device)\n",
    "            attention_masks = batch[1].to(device)\n",
    "            labels = batch[2].to(device)\n",
    "            \n",
    "            bert_classification_model.zero_grad()\n",
    "            \n",
    "            # Forward pass\n",
    "            outputs = bert_classification_model(input_ids, \n",
    "                                attention_mask=attention_masks, \n",
    "                                labels=labels)\n",
    "            \n",
    "        loss = outputs.loss\n",
    "        logits = outputs.logits\n",
    "\n",
    "        total_train_loss += loss.item()\n",
    "\n",
    "        # Perform a backward pass to calculate the gradients.\n",
    "        loss.backward()\n",
    "\n",
    "        # Clip the norm of the gradients to 1.0.\n",
    "        # This is to help prevent the \"exploding gradients\" problem.\n",
    "        torch.nn.utils.clip_grad_norm_(bert_classification_model.parameters(), 1.0)\n",
    "        optimizer.step()\n",
    "        scheduler.step()\n",
    "        \n",
    "        y_pred = np.argmax(logits.cpu().detach().numpy(), axis=1).flatten()\n",
    "        \n",
    "        total_train_accuracy += metric(labels.cpu(), y_pred)\n",
    "\n",
    "    return total_train_loss, total_train_accuracy"
   ]
  },
  {
   "cell_type": "markdown",
   "id": "b090dd94",
   "metadata": {
    "papermill": {
     "duration": 0.048679,
     "end_time": "2024-04-17T09:29:14.095873",
     "exception": false,
     "start_time": "2024-04-17T09:29:14.047194",
     "status": "completed"
    },
    "tags": []
   },
   "source": [
    "### This function validates the batches from the val_dataloader"
   ]
  },
  {
   "cell_type": "code",
   "execution_count": 20,
   "id": "3ac79ae5",
   "metadata": {
    "execution": {
     "iopub.execute_input": "2024-04-17T09:29:14.195265Z",
     "iopub.status.busy": "2024-04-17T09:29:14.194480Z",
     "iopub.status.idle": "2024-04-17T09:29:14.205372Z",
     "shell.execute_reply": "2024-04-17T09:29:14.204493Z"
    },
    "papermill": {
     "duration": 0.062523,
     "end_time": "2024-04-17T09:29:14.207212",
     "exception": false,
     "start_time": "2024-04-17T09:29:14.144689",
     "status": "completed"
    },
    "tags": []
   },
   "outputs": [],
   "source": [
    "def val_batch(epoch, bert_classification_model, val_dataloader, metric):\n",
    "    total_val_loss = 0\n",
    "    total_val_accuracy = 0\n",
    "    predicted_logits , predicted_labels = [], []\n",
    "    \n",
    "    for batch in tqdm(val_dataloader, desc=f\"Validating epoch: {epoch}\", unit=\"batch\"):\n",
    "        # Unpack batch from dataloader.\n",
    "        \n",
    "        if bert_model_name in [\"bert-base-uncased\", \"albert-base-v2\", \"deberta-base\"]:\n",
    "            input_ids = batch[0].to(device)\n",
    "            attention_masks = batch[1].to(device)\n",
    "            token_type_ids = batch[2].to(device)\n",
    "            labels = batch[3].to(device)\n",
    "\n",
    "            with torch.no_grad():\n",
    "                # Forward pass, calculate logit predictions.\n",
    "                outputs = bert_classification_model(input_ids, \n",
    "                                    token_type_ids=token_type_ids, \n",
    "                                    attention_mask=attention_masks,\n",
    "                                    labels=labels)\n",
    "                loss = outputs.loss\n",
    "                logits = outputs.logits\n",
    "                \n",
    "        elif bert_model_name in [\"roberta-base\", \"distilbert-base-uncased\"]:\n",
    "            input_ids = batch[0].to(device)\n",
    "            attention_masks = batch[1].to(device)\n",
    "            labels = batch[2].to(device)\n",
    "\n",
    "            with torch.no_grad():\n",
    "                # Forward pass, calculate logit predictions.\n",
    "                outputs = bert_classification_model(input_ids, \n",
    "                                    attention_mask=attention_masks,\n",
    "                                    labels=labels)\n",
    "                loss = outputs.loss\n",
    "                logits = outputs.logits\n",
    "            \n",
    "        total_val_loss += loss.item()\n",
    "        \n",
    "        y_pred = np.argmax(logits.cpu().detach().numpy(), axis=1).flatten()\n",
    "        \n",
    "        total_val_accuracy += metric(labels.cpu(), y_pred)\n",
    "        \n",
    "        predicted_logits.extend(logits.cpu().detach().numpy().tolist())\n",
    "        predicted_labels.extend(y_pred.tolist())\n",
    "    \n",
    "    return total_val_loss, total_val_accuracy, predicted_logits, predicted_labels"
   ]
  },
  {
   "cell_type": "markdown",
   "id": "a8858ed3",
   "metadata": {
    "papermill": {
     "duration": 0.048334,
     "end_time": "2024-04-17T09:29:14.304899",
     "exception": false,
     "start_time": "2024-04-17T09:29:14.256565",
     "status": "completed"
    },
    "tags": []
   },
   "source": [
    "### This function predicts the classes of the batches from the test_dataloader. Now the test_dataloader only contains X_test without y_test (which is None)"
   ]
  },
  {
   "cell_type": "code",
   "execution_count": 21,
   "id": "1e98614a",
   "metadata": {
    "execution": {
     "iopub.execute_input": "2024-04-17T09:29:14.404583Z",
     "iopub.status.busy": "2024-04-17T09:29:14.404231Z",
     "iopub.status.idle": "2024-04-17T09:29:14.413492Z",
     "shell.execute_reply": "2024-04-17T09:29:14.412601Z"
    },
    "papermill": {
     "duration": 0.061246,
     "end_time": "2024-04-17T09:29:14.415384",
     "exception": false,
     "start_time": "2024-04-17T09:29:14.354138",
     "status": "completed"
    },
    "tags": []
   },
   "outputs": [],
   "source": [
    "def predict_batch(bert_classification_model, predict_dataloader):\n",
    "    \n",
    "    predicted_logits , predicted_labels = [], []\n",
    "    \n",
    "    for batch in tqdm(predict_dataloader, desc=f\"Predicting\", unit=\"batch\"):\n",
    "        # Unpack batch from dataloader.\n",
    "        \n",
    "        if bert_model_name in [\"bert-base-uncased\", \"albert-base-v2\", \"deberta-base\"]:\n",
    "            input_ids = batch[0].to(device)\n",
    "            attention_masks = batch[1].to(device)\n",
    "            token_type_ids = batch[2].to(device)\n",
    "\n",
    "            with torch.no_grad():\n",
    "                # Forward pass, calculate logit predictions.\n",
    "                outputs = bert_classification_model(input_ids, \n",
    "                                    token_type_ids=token_type_ids, \n",
    "                                    attention_mask=attention_masks)\n",
    "                logits = outputs.logits\n",
    "                \n",
    "        elif bert_model_name in [\"roberta-base\", \"distilbert-base-uncased\"]:\n",
    "            input_ids = batch[0].to(device)\n",
    "            attention_masks = batch[1].to(device)\n",
    "\n",
    "            with torch.no_grad():\n",
    "                # Forward pass, calculate logit predictions.\n",
    "                outputs = bert_classification_model(input_ids, \n",
    "                                    attention_mask=attention_masks)\n",
    "                logits = outputs.logits\n",
    "            \n",
    "        y_pred = np.argmax(logits.cpu().detach().numpy(), axis=1).flatten()\n",
    "                \n",
    "        predicted_logits.extend(logits.cpu().detach().numpy().tolist())\n",
    "        predicted_labels.extend(y_pred.tolist())\n",
    "    \n",
    "    return predicted_logits, predicted_labels"
   ]
  },
  {
   "cell_type": "code",
   "execution_count": 22,
   "id": "ceddb2ca",
   "metadata": {
    "execution": {
     "iopub.execute_input": "2024-04-17T09:29:14.517444Z",
     "iopub.status.busy": "2024-04-17T09:29:14.517121Z",
     "iopub.status.idle": "2024-04-17T09:29:14.537581Z",
     "shell.execute_reply": "2024-04-17T09:29:14.536697Z"
    },
    "papermill": {
     "duration": 0.074264,
     "end_time": "2024-04-17T09:29:14.539517",
     "exception": false,
     "start_time": "2024-04-17T09:29:14.465253",
     "status": "completed"
    },
    "tags": []
   },
   "outputs": [],
   "source": [
    "import random\n",
    "\n",
    "seed_val = 42\n",
    "\n",
    "random.seed(seed_val)\n",
    "np.random.seed(seed_val)\n",
    "torch.manual_seed(seed_val)\n",
    "\n",
    "def fine_tuning_pretrained_model(epochs, bert_classification_model, \n",
    "                                 train_dataloader, \n",
    "                                 val_dataloader, \n",
    "                                 optimizer, \n",
    "                                 scheduler,\n",
    "                                 metric\n",
    "                                 ):\n",
    "    \n",
    "    fine_tuning_statistics = []\n",
    "    \n",
    "    for epoch in range(1, epochs + 1):\n",
    "\n",
    "        #################\n",
    "        # TRAINING PART #\n",
    "        #################\n",
    "\n",
    "        t_begin_train = time.time()\n",
    "        \n",
    "        bert_classification_model.train()\n",
    "        \n",
    "        total_train_loss, total_train_accuracy = train_batch(epoch,\n",
    "                                       bert_classification_model,\n",
    "                                       train_dataloader,\n",
    "                                       optimizer,\n",
    "                                       scheduler,\n",
    "                                       metric\n",
    "                                       )\n",
    "        \n",
    "        # Calculate the average training loss for all batches.\n",
    "        average_train_loss = total_train_loss / len(train_dataloader)\n",
    "        print(f\"  Average training loss: {average_train_loss}\")\n",
    "\n",
    "        # Calculate the average training accuracy for all batches.\n",
    "        average_train_accuracy = total_train_accuracy / len(train_dataloader)\n",
    "        print(f\"  Average training accuracy: {average_train_accuracy}\")\n",
    "        \n",
    "        t_end_train = time.time()\n",
    "\n",
    "        training_time = format_time(t_end_train - t_begin_train)\n",
    "        print(f\"  Training time took: {training_time}\")\n",
    "        \n",
    "        ###################\n",
    "        # VALIDATING PART #\n",
    "        ###################\n",
    "\n",
    "        t_begin_val = time.time()\n",
    "        \n",
    "        bert_classification_model.eval()\n",
    "        \n",
    "        total_val_loss, total_val_accuracy,\\\n",
    "        predicted_logits, predicted_labels = val_batch(epoch, \n",
    "                                                        bert_classification_model,\n",
    "                                                        val_dataloader,\n",
    "                                                        metric)\n",
    "        \n",
    "        # Calculate the average validation loss for all batches.\n",
    "        average_val_loss = total_val_loss / len(val_dataloader)\n",
    "        print(f\"  Average validation loss: {average_val_loss}\")\n",
    "\n",
    "        # Calculate the average validation accuracy for all batches.\n",
    "        average_val_accuracy = total_val_accuracy / len(val_dataloader)\n",
    "        print(f\"  Average validation accuracy: {average_val_accuracy}\")\n",
    "    \n",
    "        t_end_val = time.time()\n",
    "\n",
    "        validation_time = format_time(t_end_val - t_begin_val)\n",
    "        print(f\"  Validation time took: {validation_time}\")\n",
    "    \n",
    "        # Record all statistics from this epoch.\n",
    "        fine_tuning_statistics.append(\n",
    "            {\n",
    "                'epoch': epoch,\n",
    "                'train_loss': average_train_loss,\n",
    "                'train_accuracy': average_train_accuracy,\n",
    "                'train_time': training_time,\n",
    "                'val_loss': average_val_loss,\n",
    "                'val_accuracy': average_val_accuracy,\n",
    "                'val_time': validation_time\n",
    "            }\n",
    "        )\n",
    "        \n",
    "\n",
    "    print(\"\")\n",
    "    print(\"Training complete!\")\n",
    "\n",
    "    return fine_tuning_statistics"
   ]
  },
  {
   "cell_type": "markdown",
   "id": "86c2f508",
   "metadata": {
    "papermill": {
     "duration": 0.048404,
     "end_time": "2024-04-17T09:29:14.636678",
     "exception": false,
     "start_time": "2024-04-17T09:29:14.588274",
     "status": "completed"
    },
    "tags": []
   },
   "source": [
    "# Optimizer & Learning Rate Scheduler\n",
    "Now that we have our model loaded we need to grab the training hyperparameters from within the stored model.\n",
    "\n",
    "For the purposes of fine-tuning, the authors recommend choosing from the following values (from Appendix A.3 of the [BERT paper](https://arxiv.org/pdf/1810.04805.pdf)):\n",
    "\n",
    "* Batch size: 16, 32\n",
    "* Learning rate (Adam): 5e-5, 3e-5, 2e-5\n",
    "* Number of epochs: 2, 3, 4\n",
    "\n",
    "I chose:\n",
    "* Batch size: 10 (due to memory limit of Kaggle)\n",
    "* Learning rate: 2e-5\n",
    "* Number of epochs: 4\n",
    "\n",
    "We’re ready to kick off the training:"
   ]
  },
  {
   "cell_type": "code",
   "execution_count": 23,
   "id": "78e3596c",
   "metadata": {
    "execution": {
     "iopub.execute_input": "2024-04-17T09:29:14.735860Z",
     "iopub.status.busy": "2024-04-17T09:29:14.735025Z",
     "iopub.status.idle": "2024-04-17T10:05:14.577008Z",
     "shell.execute_reply": "2024-04-17T10:05:14.575841Z"
    },
    "papermill": {
     "duration": 2159.89376,
     "end_time": "2024-04-17T10:05:14.579209",
     "exception": false,
     "start_time": "2024-04-17T09:29:14.685449",
     "status": "completed"
    },
    "tags": []
   },
   "outputs": [
    {
     "name": "stderr",
     "output_type": "stream",
     "text": [
      "Training epoch: 1:   0%|          | 0/10776 [00:00<?, ?batch/s]huggingface/tokenizers: The current process just got forked, after parallelism has already been used. Disabling parallelism to avoid deadlocks...\n",
      "To disable this warning, you can either:\n",
      "\t- Avoid using `tokenizers` before the fork if possible\n",
      "\t- Explicitly set the environment variable TOKENIZERS_PARALLELISM=(true | false)\n",
      "huggingface/tokenizers: The current process just got forked, after parallelism has already been used. Disabling parallelism to avoid deadlocks...\n",
      "To disable this warning, you can either:\n",
      "\t- Avoid using `tokenizers` before the fork if possible\n",
      "\t- Explicitly set the environment variable TOKENIZERS_PARALLELISM=(true | false)\n",
      "huggingface/tokenizers: The current process just got forked, after parallelism has already been used. Disabling parallelism to avoid deadlocks...\n",
      "To disable this warning, you can either:\n",
      "\t- Avoid using `tokenizers` before the fork if possible\n",
      "\t- Explicitly set the environment variable TOKENIZERS_PARALLELISM=(true | false)\n",
      "huggingface/tokenizers: The current process just got forked, after parallelism has already been used. Disabling parallelism to avoid deadlocks...\n",
      "To disable this warning, you can either:\n",
      "\t- Avoid using `tokenizers` before the fork if possible\n",
      "\t- Explicitly set the environment variable TOKENIZERS_PARALLELISM=(true | false)\n",
      "Training epoch: 1: 100%|██████████| 10776/10776 [08:59<00:00, 19.97batch/s]\n"
     ]
    },
    {
     "name": "stdout",
     "output_type": "stream",
     "text": [
      "  Average training loss: 0.49630533087089085\n",
      "  Average training accuracy: 0.8310876020787247\n",
      "  Training time took: 0:09:00\n"
     ]
    },
    {
     "name": "stderr",
     "output_type": "stream",
     "text": [
      "Validating epoch: 1:   0%|          | 0/175 [00:00<?, ?batch/s]huggingface/tokenizers: The current process just got forked, after parallelism has already been used. Disabling parallelism to avoid deadlocks...\n",
      "To disable this warning, you can either:\n",
      "\t- Avoid using `tokenizers` before the fork if possible\n",
      "\t- Explicitly set the environment variable TOKENIZERS_PARALLELISM=(true | false)\n",
      "huggingface/tokenizers: The current process just got forked, after parallelism has already been used. Disabling parallelism to avoid deadlocks...\n",
      "To disable this warning, you can either:\n",
      "\t- Avoid using `tokenizers` before the fork if possible\n",
      "\t- Explicitly set the environment variable TOKENIZERS_PARALLELISM=(true | false)\n",
      "huggingface/tokenizers: The current process just got forked, after parallelism has already been used. Disabling parallelism to avoid deadlocks...\n",
      "To disable this warning, you can either:\n",
      "\t- Avoid using `tokenizers` before the fork if possible\n",
      "\t- Explicitly set the environment variable TOKENIZERS_PARALLELISM=(true | false)\n",
      "huggingface/tokenizers: The current process just got forked, after parallelism has already been used. Disabling parallelism to avoid deadlocks...\n",
      "To disable this warning, you can either:\n",
      "\t- Avoid using `tokenizers` before the fork if possible\n",
      "\t- Explicitly set the environment variable TOKENIZERS_PARALLELISM=(true | false)\n",
      "Validating epoch: 1: 100%|██████████| 175/175 [00:03<00:00, 48.61batch/s]\n"
     ]
    },
    {
     "name": "stdout",
     "output_type": "stream",
     "text": [
      "  Average validation loss: 0.6574969334474632\n",
      "  Average validation accuracy: 0.8148571428571422\n",
      "  Validation time took: 0:00:04\n"
     ]
    },
    {
     "name": "stderr",
     "output_type": "stream",
     "text": [
      "Training epoch: 2:   0%|          | 0/10776 [00:00<?, ?batch/s]huggingface/tokenizers: The current process just got forked, after parallelism has already been used. Disabling parallelism to avoid deadlocks...\n",
      "To disable this warning, you can either:\n",
      "\t- Avoid using `tokenizers` before the fork if possible\n",
      "\t- Explicitly set the environment variable TOKENIZERS_PARALLELISM=(true | false)\n",
      "huggingface/tokenizers: The current process just got forked, after parallelism has already been used. Disabling parallelism to avoid deadlocks...\n",
      "To disable this warning, you can either:\n",
      "\t- Avoid using `tokenizers` before the fork if possible\n",
      "\t- Explicitly set the environment variable TOKENIZERS_PARALLELISM=(true | false)\n",
      "huggingface/tokenizers: The current process just got forked, after parallelism has already been used. Disabling parallelism to avoid deadlocks...\n",
      "To disable this warning, you can either:\n",
      "\t- Avoid using `tokenizers` before the fork if possible\n",
      "\t- Explicitly set the environment variable TOKENIZERS_PARALLELISM=(true | false)\n",
      "huggingface/tokenizers: The current process just got forked, after parallelism has already been used. Disabling parallelism to avoid deadlocks...\n",
      "To disable this warning, you can either:\n",
      "\t- Avoid using `tokenizers` before the fork if possible\n",
      "\t- Explicitly set the environment variable TOKENIZERS_PARALLELISM=(true | false)\n",
      "Training epoch: 2: 100%|██████████| 10776/10776 [08:59<00:00, 19.99batch/s]\n"
     ]
    },
    {
     "name": "stdout",
     "output_type": "stream",
     "text": [
      "  Average training loss: 0.3594189330218352\n",
      "  Average training accuracy: 0.9171817000742469\n",
      "  Training time took: 0:08:59\n"
     ]
    },
    {
     "name": "stderr",
     "output_type": "stream",
     "text": [
      "Validating epoch: 2:   0%|          | 0/175 [00:00<?, ?batch/s]huggingface/tokenizers: The current process just got forked, after parallelism has already been used. Disabling parallelism to avoid deadlocks...\n",
      "To disable this warning, you can either:\n",
      "\t- Avoid using `tokenizers` before the fork if possible\n",
      "\t- Explicitly set the environment variable TOKENIZERS_PARALLELISM=(true | false)\n",
      "huggingface/tokenizers: The current process just got forked, after parallelism has already been used. Disabling parallelism to avoid deadlocks...\n",
      "To disable this warning, you can either:\n",
      "\t- Avoid using `tokenizers` before the fork if possible\n",
      "\t- Explicitly set the environment variable TOKENIZERS_PARALLELISM=(true | false)\n",
      "huggingface/tokenizers: The current process just got forked, after parallelism has already been used. Disabling parallelism to avoid deadlocks...\n",
      "To disable this warning, you can either:\n",
      "\t- Avoid using `tokenizers` before the fork if possible\n",
      "\t- Explicitly set the environment variable TOKENIZERS_PARALLELISM=(true | false)\n",
      "huggingface/tokenizers: The current process just got forked, after parallelism has already been used. Disabling parallelism to avoid deadlocks...\n",
      "To disable this warning, you can either:\n",
      "\t- Avoid using `tokenizers` before the fork if possible\n",
      "\t- Explicitly set the environment variable TOKENIZERS_PARALLELISM=(true | false)\n",
      "Validating epoch: 2: 100%|██████████| 175/175 [00:03<00:00, 48.70batch/s]\n"
     ]
    },
    {
     "name": "stdout",
     "output_type": "stream",
     "text": [
      "  Average validation loss: 0.6367142129789239\n",
      "  Average validation accuracy: 0.8617142857142857\n",
      "  Validation time took: 0:00:04\n"
     ]
    },
    {
     "name": "stderr",
     "output_type": "stream",
     "text": [
      "Training epoch: 3:   0%|          | 0/10776 [00:00<?, ?batch/s]huggingface/tokenizers: The current process just got forked, after parallelism has already been used. Disabling parallelism to avoid deadlocks...\n",
      "To disable this warning, you can either:\n",
      "\t- Avoid using `tokenizers` before the fork if possible\n",
      "\t- Explicitly set the environment variable TOKENIZERS_PARALLELISM=(true | false)\n",
      "huggingface/tokenizers: The current process just got forked, after parallelism has already been used. Disabling parallelism to avoid deadlocks...\n",
      "To disable this warning, you can either:\n",
      "\t- Avoid using `tokenizers` before the fork if possible\n",
      "\t- Explicitly set the environment variable TOKENIZERS_PARALLELISM=(true | false)\n",
      "huggingface/tokenizers: The current process just got forked, after parallelism has already been used. Disabling parallelism to avoid deadlocks...\n",
      "To disable this warning, you can either:\n",
      "\t- Avoid using `tokenizers` before the fork if possible\n",
      "\t- Explicitly set the environment variable TOKENIZERS_PARALLELISM=(true | false)\n",
      "huggingface/tokenizers: The current process just got forked, after parallelism has already been used. Disabling parallelism to avoid deadlocks...\n",
      "To disable this warning, you can either:\n",
      "\t- Avoid using `tokenizers` before the fork if possible\n",
      "\t- Explicitly set the environment variable TOKENIZERS_PARALLELISM=(true | false)\n",
      "Training epoch: 3: 100%|██████████| 10776/10776 [08:55<00:00, 20.11batch/s]\n"
     ]
    },
    {
     "name": "stdout",
     "output_type": "stream",
     "text": [
      "  Average training loss: 0.26009668799914787\n",
      "  Average training accuracy: 0.946450445434296\n",
      "  Training time took: 0:08:56\n"
     ]
    },
    {
     "name": "stderr",
     "output_type": "stream",
     "text": [
      "Validating epoch: 3:   0%|          | 0/175 [00:00<?, ?batch/s]huggingface/tokenizers: The current process just got forked, after parallelism has already been used. Disabling parallelism to avoid deadlocks...\n",
      "To disable this warning, you can either:\n",
      "\t- Avoid using `tokenizers` before the fork if possible\n",
      "\t- Explicitly set the environment variable TOKENIZERS_PARALLELISM=(true | false)\n",
      "huggingface/tokenizers: The current process just got forked, after parallelism has already been used. Disabling parallelism to avoid deadlocks...\n",
      "To disable this warning, you can either:\n",
      "\t- Avoid using `tokenizers` before the fork if possible\n",
      "\t- Explicitly set the environment variable TOKENIZERS_PARALLELISM=(true | false)\n",
      "huggingface/tokenizers: The current process just got forked, after parallelism has already been used. Disabling parallelism to avoid deadlocks...\n",
      "To disable this warning, you can either:\n",
      "\t- Avoid using `tokenizers` before the fork if possible\n",
      "\t- Explicitly set the environment variable TOKENIZERS_PARALLELISM=(true | false)\n",
      "huggingface/tokenizers: The current process just got forked, after parallelism has already been used. Disabling parallelism to avoid deadlocks...\n",
      "To disable this warning, you can either:\n",
      "\t- Avoid using `tokenizers` before the fork if possible\n",
      "\t- Explicitly set the environment variable TOKENIZERS_PARALLELISM=(true | false)\n",
      "Validating epoch: 3: 100%|██████████| 175/175 [00:03<00:00, 49.81batch/s]\n"
     ]
    },
    {
     "name": "stdout",
     "output_type": "stream",
     "text": [
      "  Average validation loss: 0.7300435986897044\n",
      "  Average validation accuracy: 0.8685714285714284\n",
      "  Validation time took: 0:00:04\n"
     ]
    },
    {
     "name": "stderr",
     "output_type": "stream",
     "text": [
      "Training epoch: 4:   0%|          | 0/10776 [00:00<?, ?batch/s]huggingface/tokenizers: The current process just got forked, after parallelism has already been used. Disabling parallelism to avoid deadlocks...\n",
      "To disable this warning, you can either:\n",
      "\t- Avoid using `tokenizers` before the fork if possible\n",
      "\t- Explicitly set the environment variable TOKENIZERS_PARALLELISM=(true | false)\n",
      "huggingface/tokenizers: The current process just got forked, after parallelism has already been used. Disabling parallelism to avoid deadlocks...\n",
      "To disable this warning, you can either:\n",
      "\t- Avoid using `tokenizers` before the fork if possible\n",
      "\t- Explicitly set the environment variable TOKENIZERS_PARALLELISM=(true | false)\n",
      "huggingface/tokenizers: The current process just got forked, after parallelism has already been used. Disabling parallelism to avoid deadlocks...\n",
      "To disable this warning, you can either:\n",
      "\t- Avoid using `tokenizers` before the fork if possible\n",
      "\t- Explicitly set the environment variable TOKENIZERS_PARALLELISM=(true | false)\n",
      "huggingface/tokenizers: The current process just got forked, after parallelism has already been used. Disabling parallelism to avoid deadlocks...\n",
      "To disable this warning, you can either:\n",
      "\t- Avoid using `tokenizers` before the fork if possible\n",
      "\t- Explicitly set the environment variable TOKENIZERS_PARALLELISM=(true | false)\n",
      "Training epoch: 4: 100%|██████████| 10776/10776 [08:50<00:00, 20.30batch/s]\n"
     ]
    },
    {
     "name": "stdout",
     "output_type": "stream",
     "text": [
      "  Average training loss: 0.1814835507786339\n",
      "  Average training accuracy: 0.9651076466221187\n",
      "  Training time took: 0:08:51\n"
     ]
    },
    {
     "name": "stderr",
     "output_type": "stream",
     "text": [
      "Validating epoch: 4:   0%|          | 0/175 [00:00<?, ?batch/s]huggingface/tokenizers: The current process just got forked, after parallelism has already been used. Disabling parallelism to avoid deadlocks...\n",
      "To disable this warning, you can either:\n",
      "\t- Avoid using `tokenizers` before the fork if possible\n",
      "\t- Explicitly set the environment variable TOKENIZERS_PARALLELISM=(true | false)\n",
      "huggingface/tokenizers: The current process just got forked, after parallelism has already been used. Disabling parallelism to avoid deadlocks...\n",
      "To disable this warning, you can either:\n",
      "\t- Avoid using `tokenizers` before the fork if possible\n",
      "\t- Explicitly set the environment variable TOKENIZERS_PARALLELISM=(true | false)\n",
      "huggingface/tokenizers: The current process just got forked, after parallelism has already been used. Disabling parallelism to avoid deadlocks...\n",
      "To disable this warning, you can either:\n",
      "\t- Avoid using `tokenizers` before the fork if possible\n",
      "\t- Explicitly set the environment variable TOKENIZERS_PARALLELISM=(true | false)\n",
      "huggingface/tokenizers: The current process just got forked, after parallelism has already been used. Disabling parallelism to avoid deadlocks...\n",
      "To disable this warning, you can either:\n",
      "\t- Avoid using `tokenizers` before the fork if possible\n",
      "\t- Explicitly set the environment variable TOKENIZERS_PARALLELISM=(true | false)\n",
      "Validating epoch: 4: 100%|██████████| 175/175 [00:03<00:00, 49.81batch/s]"
     ]
    },
    {
     "name": "stdout",
     "output_type": "stream",
     "text": [
      "  Average validation loss: 0.7719474694451284\n",
      "  Average validation accuracy: 0.8657142857142858\n",
      "  Validation time took: 0:00:04\n",
      "\n",
      "Training complete!\n"
     ]
    },
    {
     "name": "stderr",
     "output_type": "stream",
     "text": [
      "\n"
     ]
    }
   ],
   "source": [
    "from torch.optim import AdamW\n",
    "from sklearn.metrics import accuracy_score\n",
    "\n",
    "adamw_optimizer = AdamW(bert_classification_model.parameters(),\n",
    "                  lr = 2e-5, # args.learning_rate - default is 5e-5, our notebook had 2e-5\n",
    "                  eps = 1e-8 # args.adam_epsilon  - default is 1e-8.\n",
    "                )\n",
    "\n",
    "from transformers import get_linear_schedule_with_warmup\n",
    "\n",
    "# Number of training epochs. The BERT authors recommend between 2 and 4. \n",
    "epochs = 4\n",
    "\n",
    "# Total number of training steps is [number of batches] x [number of epochs]. \n",
    "# (Note that this is not the same as the number of training samples).\n",
    "\n",
    "total_steps = len(train_dataloader) * epochs\n",
    "\n",
    "# Create the learning rate scheduler.\n",
    "scheduler = get_linear_schedule_with_warmup(adamw_optimizer, \n",
    "                                            num_warmup_steps = 0, \n",
    "                                            num_training_steps = total_steps)\n",
    "\n",
    "# Finally, we start to train the model\n",
    "fine_tuning_statistics = fine_tuning_pretrained_model(\n",
    "    epochs,\n",
    "    bert_classification_model,\n",
    "    train_dataloader,\n",
    "    val_dataloader,\n",
    "    adamw_optimizer,\n",
    "    scheduler,\n",
    "    accuracy_score)"
   ]
  },
  {
   "cell_type": "markdown",
   "id": "6160ba85",
   "metadata": {
    "papermill": {
     "duration": 1.268669,
     "end_time": "2024-04-17T10:05:17.206943",
     "exception": false,
     "start_time": "2024-04-17T10:05:15.938274",
     "status": "completed"
    },
    "tags": []
   },
   "source": [
    "### Let’s view the summary of the training process. First we create a folder to save the results for the BERT variant"
   ]
  },
  {
   "cell_type": "code",
   "execution_count": 24,
   "id": "02f982b9",
   "metadata": {
    "execution": {
     "iopub.execute_input": "2024-04-17T10:05:19.794899Z",
     "iopub.status.busy": "2024-04-17T10:05:19.794508Z",
     "iopub.status.idle": "2024-04-17T10:05:19.799592Z",
     "shell.execute_reply": "2024-04-17T10:05:19.798743Z"
    },
    "papermill": {
     "duration": 1.276896,
     "end_time": "2024-04-17T10:05:19.801515",
     "exception": false,
     "start_time": "2024-04-17T10:05:18.524619",
     "status": "completed"
    },
    "tags": []
   },
   "outputs": [],
   "source": [
    "if not os.path.exists(f\"{bert_model_name}\"):\n",
    "    os.makedirs(f\"{bert_model_name}\")"
   ]
  },
  {
   "cell_type": "code",
   "execution_count": 25,
   "id": "dd40958c",
   "metadata": {
    "execution": {
     "iopub.execute_input": "2024-04-17T10:05:22.482217Z",
     "iopub.status.busy": "2024-04-17T10:05:22.481857Z",
     "iopub.status.idle": "2024-04-17T10:05:22.504219Z",
     "shell.execute_reply": "2024-04-17T10:05:22.503325Z"
    },
    "papermill": {
     "duration": 1.375793,
     "end_time": "2024-04-17T10:05:22.506044",
     "exception": false,
     "start_time": "2024-04-17T10:05:21.130251",
     "status": "completed"
    },
    "tags": []
   },
   "outputs": [
    {
     "data": {
      "text/html": [
       "<div>\n",
       "<style scoped>\n",
       "    .dataframe tbody tr th:only-of-type {\n",
       "        vertical-align: middle;\n",
       "    }\n",
       "\n",
       "    .dataframe tbody tr th {\n",
       "        vertical-align: top;\n",
       "    }\n",
       "\n",
       "    .dataframe thead th {\n",
       "        text-align: right;\n",
       "    }\n",
       "</style>\n",
       "<table border=\"1\" class=\"dataframe\">\n",
       "  <thead>\n",
       "    <tr style=\"text-align: right;\">\n",
       "      <th></th>\n",
       "      <th>train_loss</th>\n",
       "      <th>train_accuracy</th>\n",
       "      <th>train_time</th>\n",
       "      <th>val_loss</th>\n",
       "      <th>val_accuracy</th>\n",
       "      <th>val_time</th>\n",
       "    </tr>\n",
       "    <tr>\n",
       "      <th>epoch</th>\n",
       "      <th></th>\n",
       "      <th></th>\n",
       "      <th></th>\n",
       "      <th></th>\n",
       "      <th></th>\n",
       "      <th></th>\n",
       "    </tr>\n",
       "  </thead>\n",
       "  <tbody>\n",
       "    <tr>\n",
       "      <th>1</th>\n",
       "      <td>0.496305</td>\n",
       "      <td>0.831088</td>\n",
       "      <td>0:09:00</td>\n",
       "      <td>0.657497</td>\n",
       "      <td>0.814857</td>\n",
       "      <td>0:00:04</td>\n",
       "    </tr>\n",
       "    <tr>\n",
       "      <th>2</th>\n",
       "      <td>0.359419</td>\n",
       "      <td>0.917182</td>\n",
       "      <td>0:08:59</td>\n",
       "      <td>0.636714</td>\n",
       "      <td>0.861714</td>\n",
       "      <td>0:00:04</td>\n",
       "    </tr>\n",
       "    <tr>\n",
       "      <th>3</th>\n",
       "      <td>0.260097</td>\n",
       "      <td>0.946450</td>\n",
       "      <td>0:08:56</td>\n",
       "      <td>0.730044</td>\n",
       "      <td>0.868571</td>\n",
       "      <td>0:00:04</td>\n",
       "    </tr>\n",
       "    <tr>\n",
       "      <th>4</th>\n",
       "      <td>0.181484</td>\n",
       "      <td>0.965108</td>\n",
       "      <td>0:08:51</td>\n",
       "      <td>0.771947</td>\n",
       "      <td>0.865714</td>\n",
       "      <td>0:00:04</td>\n",
       "    </tr>\n",
       "  </tbody>\n",
       "</table>\n",
       "</div>"
      ],
      "text/plain": [
       "       train_loss  train_accuracy train_time  val_loss  val_accuracy val_time\n",
       "epoch                                                                        \n",
       "1        0.496305        0.831088    0:09:00  0.657497      0.814857  0:00:04\n",
       "2        0.359419        0.917182    0:08:59  0.636714      0.861714  0:00:04\n",
       "3        0.260097        0.946450    0:08:56  0.730044      0.868571  0:00:04\n",
       "4        0.181484        0.965108    0:08:51  0.771947      0.865714  0:00:04"
      ]
     },
     "execution_count": 25,
     "metadata": {},
     "output_type": "execute_result"
    }
   ],
   "source": [
    "df_stats = pd.DataFrame(fine_tuning_statistics).set_index('epoch')\n",
    "# Saving the fine_tuning_statistics\n",
    "df_stats.to_csv(f\"{bert_model_name}/fine_tuning_statistics.csv\")\n",
    "df_stats"
   ]
  },
  {
   "cell_type": "code",
   "execution_count": 26,
   "id": "d485bd89",
   "metadata": {
    "execution": {
     "iopub.execute_input": "2024-04-17T10:05:25.098801Z",
     "iopub.status.busy": "2024-04-17T10:05:25.098403Z",
     "iopub.status.idle": "2024-04-17T10:05:25.540159Z",
     "shell.execute_reply": "2024-04-17T10:05:25.539286Z"
    },
    "papermill": {
     "duration": 1.775619,
     "end_time": "2024-04-17T10:05:25.542121",
     "exception": false,
     "start_time": "2024-04-17T10:05:23.766502",
     "status": "completed"
    },
    "tags": []
   },
   "outputs": [
    {
     "data": {
      "image/png": "[encoded data removed]",
      "text/plain": [
       "<Figure size 640x480 with 1 Axes>"
      ]
     },
     "metadata": {},
     "output_type": "display_data"
    }
   ],
   "source": [
    "from matplotlib import pyplot\n",
    "\n",
    "%matplotlib inline\n",
    "\n",
    "pyplot.plot(df_stats['train_loss'], 'b-o', label=\"training\")\n",
    "pyplot.plot(df_stats['val_loss'], 'g-o', label=\"validation\")\n",
    "pyplot.title(f\"{bert_model_name}: training & validation loss\", fontsize=15)\n",
    "pyplot.xlabel(\"Epoch\", fontsize=14)\n",
    "pyplot.ylabel(\"Loss\", fontsize=14)\n",
    "pyplot.legend(frameon=False, fontsize=14)\n",
    "pyplot.xticks(df_stats.index.values.tolist(), fontsize=12)\n",
    "pyplot.yticks(fontsize=12)\n",
    "pyplot.savefig(f\"{bert_model_name}/train_val_loss_plot.png\")\n",
    "pyplot.show()"
   ]
  },
  {
   "cell_type": "code",
   "execution_count": 27,
   "id": "3bdc53e9",
   "metadata": {
    "execution": {
     "iopub.execute_input": "2024-04-17T10:05:28.142583Z",
     "iopub.status.busy": "2024-04-17T10:05:28.142205Z",
     "iopub.status.idle": "2024-04-17T10:05:28.527456Z",
     "shell.execute_reply": "2024-04-17T10:05:28.526541Z"
    },
    "papermill": {
     "duration": 1.720465,
     "end_time": "2024-04-17T10:05:28.529700",
     "exception": false,
     "start_time": "2024-04-17T10:05:26.809235",
     "status": "completed"
    },
    "tags": []
   },
   "outputs": [
    {
     "data": {
      "image/png": "[encoded data removed]",
      "text/plain": [
       "<Figure size 640x480 with 1 Axes>"
      ]
     },
     "metadata": {},
     "output_type": "display_data"
    }
   ],
   "source": [
    "from matplotlib import pyplot\n",
    "\n",
    "%matplotlib inline\n",
    "\n",
    "pyplot.plot(df_stats['train_accuracy'], 'b-o', label=\"training\")\n",
    "pyplot.plot(df_stats['val_accuracy'], 'g-o', label=\"validation\")\n",
    "pyplot.title(f\"{bert_model_name}: training & validation accuracy\", fontsize=15)\n",
    "pyplot.xlabel(\"Epoch\", fontsize=14)\n",
    "pyplot.ylabel(\"Loss\", fontsize=14)\n",
    "pyplot.legend(frameon=False, fontsize=14)\n",
    "pyplot.xticks(df_stats.index.values.tolist(), fontsize=12)\n",
    "pyplot.yticks(fontsize=12)\n",
    "pyplot.savefig(f\"{bert_model_name}/train_val_accuracy_plot.png\")\n",
    "pyplot.show()"
   ]
  },
  {
   "cell_type": "markdown",
   "id": "fea47ead",
   "metadata": {
    "papermill": {
     "duration": 1.440957,
     "end_time": "2024-04-17T10:05:31.317203",
     "exception": false,
     "start_time": "2024-04-17T10:05:29.876246",
     "status": "completed"
    },
    "tags": []
   },
   "source": [
    "## Performance on test set and prediction"
   ]
  },
  {
   "cell_type": "code",
   "execution_count": 28,
   "id": "ec3b3918",
   "metadata": {
    "execution": {
     "iopub.execute_input": "2024-04-17T10:05:33.927617Z",
     "iopub.status.busy": "2024-04-17T10:05:33.926758Z",
     "iopub.status.idle": "2024-04-17T10:05:40.454661Z",
     "shell.execute_reply": "2024-04-17T10:05:40.453676Z"
    },
    "papermill": {
     "duration": 7.803453,
     "end_time": "2024-04-17T10:05:40.456621",
     "exception": false,
     "start_time": "2024-04-17T10:05:32.653168",
     "status": "completed"
    },
    "tags": []
   },
   "outputs": [
    {
     "name": "stdout",
     "output_type": "stream",
     "text": [
      "<class 'pandas.core.series.Series'>\n"
     ]
    },
    {
     "name": "stderr",
     "output_type": "stream",
     "text": [
      "100%|██████████| 13470/13470 [00:05<00:00, 2401.60it/s]\n"
     ]
    },
    {
     "name": "stdout",
     "output_type": "stream",
     "text": [
      "Shape of input_ids is torch.Size([13470, 64])\n",
      "Shape of token_type_ids is torch.Size([13470, 64])\n",
      "Shape of attention_masks is torch.Size([13470, 64])\n",
      "Shape of labels is torch.Size([13470])\n"
     ]
    },
    {
     "name": "stderr",
     "output_type": "stream",
     "text": [
      "100%|██████████| 1821/1821 [00:00<00:00, 2281.36it/s]\n"
     ]
    },
    {
     "name": "stdout",
     "output_type": "stream",
     "text": [
      "Shape of input_ids is torch.Size([1821, 64])\n",
      "Shape of token_type_ids is torch.Size([1821, 64])\n",
      "Shape of attention_masks is torch.Size([1821, 64])\n",
      "Shape of labels is torch.Size([1821])\n"
     ]
    }
   ],
   "source": [
    "print(type(y_test_known_labels))\n",
    "test_tensor_known_labels = convert_to_dataset_torch(X_test_known_labels, y_test_known_labels)\n",
    "test_dataloader = DataLoader(test_tensor_known_labels, \n",
    "                             sampler=SequentialSampler(test_tensor_known_labels), \n",
    "                             batch_size=batch_size)\n",
    "\n",
    "#print(len(X_test_unknown_labels))\n",
    "#features_tensor = torch.tensor(X_test_unknown_labels.to_numpy(), dtype=torch.float32)\n",
    "#print(features_tensor.shape)\n",
    "\n",
    "# Create dummy labels tensor\n",
    "\n",
    "dummy_labels_series = pd.Series([-1] * len(X_test_unknown_labels))\n",
    "# print(X_test_unknown_labels.shape)\n",
    "test_tensor_unknown_labels = convert_to_dataset_torch(X_test_unknown_labels, dummy_labels_series)\n",
    "predict_dataloader = DataLoader(test_tensor_unknown_labels, \n",
    "                             sampler=SequentialSampler(test_tensor_unknown_labels), \n",
    "                             batch_size=batch_size)"
   ]
  },
  {
   "cell_type": "markdown",
   "id": "74e51e36",
   "metadata": {
    "papermill": {
     "duration": 1.345141,
     "end_time": "2024-04-17T10:05:43.135966",
     "exception": false,
     "start_time": "2024-04-17T10:05:41.790825",
     "status": "completed"
    },
    "tags": []
   },
   "source": [
    "## Evaluate on the test set with known labels\n",
    "With the test set prepared, we can apply our fine-tuned model to generate predictions on the test set with known labels"
   ]
  },
  {
   "cell_type": "code",
   "execution_count": 29,
   "id": "b15d7b01",
   "metadata": {
    "execution": {
     "iopub.execute_input": "2024-04-17T10:05:45.773515Z",
     "iopub.status.busy": "2024-04-17T10:05:45.773148Z",
     "iopub.status.idle": "2024-04-17T10:06:31.070353Z",
     "shell.execute_reply": "2024-04-17T10:06:31.069172Z"
    },
    "papermill": {
     "duration": 46.656325,
     "end_time": "2024-04-17T10:06:31.072227",
     "exception": false,
     "start_time": "2024-04-17T10:05:44.415902",
     "status": "completed"
    },
    "tags": []
   },
   "outputs": [
    {
     "name": "stderr",
     "output_type": "stream",
     "text": [
      "Validating epoch: None: 100%|██████████| 2694/2694 [00:45<00:00, 59.49batch/s]\n"
     ]
    }
   ],
   "source": [
    "bert_classification_model.eval()\n",
    "\n",
    "total_val_loss, total_val_accuracy,\\\n",
    "predicted_logits_val, predicted_labels_val = val_batch(None, bert_classification_model, \n",
    "                                               test_dataloader, accuracy_score)"
   ]
  },
  {
   "cell_type": "markdown",
   "id": "a2c933a5",
   "metadata": {
    "papermill": {
     "duration": 1.406962,
     "end_time": "2024-04-17T10:06:33.803898",
     "exception": false,
     "start_time": "2024-04-17T10:06:32.396936",
     "status": "completed"
    },
    "tags": []
   },
   "source": [
    "## Making prediction on the test set with unknown labels\n",
    "\n",
    "With the predict set prepared, we can apply our fine-tuned model to generate predictions on the test set with unknown labels"
   ]
  },
  {
   "cell_type": "code",
   "execution_count": 30,
   "id": "3fe1edbf",
   "metadata": {
    "execution": {
     "iopub.execute_input": "2024-04-17T10:06:36.505350Z",
     "iopub.status.busy": "2024-04-17T10:06:36.504993Z",
     "iopub.status.idle": "2024-04-17T10:06:42.418133Z",
     "shell.execute_reply": "2024-04-17T10:06:42.417125Z"
    },
    "papermill": {
     "duration": 7.238598,
     "end_time": "2024-04-17T10:06:42.420110",
     "exception": false,
     "start_time": "2024-04-17T10:06:35.181512",
     "status": "completed"
    },
    "tags": []
   },
   "outputs": [
    {
     "name": "stderr",
     "output_type": "stream",
     "text": [
      "Predicting: 100%|██████████| 365/365 [00:05<00:00, 61.81batch/s]\n"
     ]
    }
   ],
   "source": [
    "bert_classification_model.eval()\n",
    "\n",
    "predicted_logits_test, predicted_labels_test = predict_batch(bert_classification_model, \n",
    "                                                   predict_dataloader)"
   ]
  },
  {
   "cell_type": "markdown",
   "id": "4d6084c1",
   "metadata": {
    "papermill": {
     "duration": 1.314779,
     "end_time": "2024-04-17T10:06:45.111591",
     "exception": false,
     "start_time": "2024-04-17T10:06:43.796812",
     "status": "completed"
    },
    "tags": []
   },
   "source": [
    "### We construct the testing result with corresponding truth labels and predicted labels by the fine-tuned BERT model. This testing data is part of the training data (train.tsv)"
   ]
  },
  {
   "cell_type": "code",
   "execution_count": 31,
   "id": "482d04be",
   "metadata": {
    "execution": {
     "iopub.execute_input": "2024-04-17T10:06:47.903768Z",
     "iopub.status.busy": "2024-04-17T10:06:47.903402Z",
     "iopub.status.idle": "2024-04-17T10:06:47.923842Z",
     "shell.execute_reply": "2024-04-17T10:06:47.922947Z"
    },
    "papermill": {
     "duration": 1.39236,
     "end_time": "2024-04-17T10:06:47.925786",
     "exception": false,
     "start_time": "2024-04-17T10:06:46.533426",
     "status": "completed"
    },
    "tags": []
   },
   "outputs": [
    {
     "data": {
      "text/html": [
       "<div>\n",
       "<style scoped>\n",
       "    .dataframe tbody tr th:only-of-type {\n",
       "        vertical-align: middle;\n",
       "    }\n",
       "\n",
       "    .dataframe tbody tr th {\n",
       "        vertical-align: top;\n",
       "    }\n",
       "\n",
       "    .dataframe thead th {\n",
       "        text-align: right;\n",
       "    }\n",
       "</style>\n",
       "<table border=\"1\" class=\"dataframe\">\n",
       "  <thead>\n",
       "    <tr style=\"text-align: right;\">\n",
       "      <th></th>\n",
       "      <th>sentence</th>\n",
       "      <th>true_label</th>\n",
       "      <th>predicted_label</th>\n",
       "    </tr>\n",
       "  </thead>\n",
       "  <tbody>\n",
       "    <tr>\n",
       "      <th>66730</th>\n",
       "      <td>with outtakes in which most of the characters ...</td>\n",
       "      <td>0</td>\n",
       "      <td>0</td>\n",
       "    </tr>\n",
       "    <tr>\n",
       "      <th>29890</th>\n",
       "      <td>enigma is well-made</td>\n",
       "      <td>1</td>\n",
       "      <td>1</td>\n",
       "    </tr>\n",
       "    <tr>\n",
       "      <th>45801</th>\n",
       "      <td>is ) so stoked to make an important film about...</td>\n",
       "      <td>0</td>\n",
       "      <td>0</td>\n",
       "    </tr>\n",
       "    <tr>\n",
       "      <th>29352</th>\n",
       "      <td>the closest thing to the experience of space t...</td>\n",
       "      <td>1</td>\n",
       "      <td>1</td>\n",
       "    </tr>\n",
       "    <tr>\n",
       "      <th>19858</th>\n",
       "      <td>lose their luster</td>\n",
       "      <td>0</td>\n",
       "      <td>0</td>\n",
       "    </tr>\n",
       "  </tbody>\n",
       "</table>\n",
       "</div>"
      ],
      "text/plain": [
       "                                                sentence  true_label  \\\n",
       "66730  with outtakes in which most of the characters ...           0   \n",
       "29890                               enigma is well-made            1   \n",
       "45801  is ) so stoked to make an important film about...           0   \n",
       "29352  the closest thing to the experience of space t...           1   \n",
       "19858                                 lose their luster            0   \n",
       "\n",
       "       predicted_label  \n",
       "66730                0  \n",
       "29890                1  \n",
       "45801                0  \n",
       "29352                1  \n",
       "19858                0  "
      ]
     },
     "execution_count": 31,
     "metadata": {},
     "output_type": "execute_result"
    }
   ],
   "source": [
    "testing_results_known_labels = pd.DataFrame()\n",
    "testing_results_known_labels[\"sentence\"] = X_test_known_labels[\"sentence\"]\n",
    "testing_results_known_labels[\"true_label\"] = y_test_known_labels\n",
    "testing_results_known_labels[\"predicted_label\"] = predicted_labels_val\n",
    "testing_results_known_labels.head()"
   ]
  },
  {
   "cell_type": "markdown",
   "id": "e04fd8e7",
   "metadata": {
    "papermill": {
     "duration": 1.309423,
     "end_time": "2024-04-17T10:06:50.608726",
     "exception": false,
     "start_time": "2024-04-17T10:06:49.299303",
     "status": "completed"
    },
    "tags": []
   },
   "source": [
    "### We construct the testing result with no known labels (the test.tsv file) with the predicted labels by the fine-tuned BERT model"
   ]
  },
  {
   "cell_type": "code",
   "execution_count": 32,
   "id": "6566a488",
   "metadata": {
    "execution": {
     "iopub.execute_input": "2024-04-17T10:06:53.308446Z",
     "iopub.status.busy": "2024-04-17T10:06:53.308082Z",
     "iopub.status.idle": "2024-04-17T10:06:53.320650Z",
     "shell.execute_reply": "2024-04-17T10:06:53.319705Z"
    },
    "papermill": {
     "duration": 1.336213,
     "end_time": "2024-04-17T10:06:53.322702",
     "exception": false,
     "start_time": "2024-04-17T10:06:51.986489",
     "status": "completed"
    },
    "tags": []
   },
   "outputs": [
    {
     "data": {
      "text/html": [
       "<div>\n",
       "<style scoped>\n",
       "    .dataframe tbody tr th:only-of-type {\n",
       "        vertical-align: middle;\n",
       "    }\n",
       "\n",
       "    .dataframe tbody tr th {\n",
       "        vertical-align: top;\n",
       "    }\n",
       "\n",
       "    .dataframe thead th {\n",
       "        text-align: right;\n",
       "    }\n",
       "</style>\n",
       "<table border=\"1\" class=\"dataframe\">\n",
       "  <thead>\n",
       "    <tr style=\"text-align: right;\">\n",
       "      <th></th>\n",
       "      <th>sentence</th>\n",
       "      <th>predicted_label</th>\n",
       "    </tr>\n",
       "  </thead>\n",
       "  <tbody>\n",
       "    <tr>\n",
       "      <th>0</th>\n",
       "      <td>uneasy mishmash of styles and genres .</td>\n",
       "      <td>0</td>\n",
       "    </tr>\n",
       "    <tr>\n",
       "      <th>1</th>\n",
       "      <td>this film 's relationship to actual tension is...</td>\n",
       "      <td>0</td>\n",
       "    </tr>\n",
       "    <tr>\n",
       "      <th>2</th>\n",
       "      <td>by the end of no such thing the audience , lik...</td>\n",
       "      <td>1</td>\n",
       "    </tr>\n",
       "    <tr>\n",
       "      <th>3</th>\n",
       "      <td>director rob marshall went out gunning to make...</td>\n",
       "      <td>1</td>\n",
       "    </tr>\n",
       "    <tr>\n",
       "      <th>4</th>\n",
       "      <td>lathan and diggs have considerable personal ch...</td>\n",
       "      <td>1</td>\n",
       "    </tr>\n",
       "  </tbody>\n",
       "</table>\n",
       "</div>"
      ],
      "text/plain": [
       "                                            sentence  predicted_label\n",
       "0             uneasy mishmash of styles and genres .                0\n",
       "1  this film 's relationship to actual tension is...                0\n",
       "2  by the end of no such thing the audience , lik...                1\n",
       "3  director rob marshall went out gunning to make...                1\n",
       "4  lathan and diggs have considerable personal ch...                1"
      ]
     },
     "execution_count": 32,
     "metadata": {},
     "output_type": "execute_result"
    }
   ],
   "source": [
    "testing_results_unknown_labels = pd.DataFrame()\n",
    "testing_results_unknown_labels[\"sentence\"] = X_test_unknown_labels[\"sentence\"]\n",
    "testing_results_unknown_labels[\"predicted_label\"] = predicted_labels_test\n",
    "testing_results_unknown_labels.head()"
   ]
  },
  {
   "cell_type": "markdown",
   "id": "cbb8e2a4",
   "metadata": {
    "papermill": {
     "duration": 1.391425,
     "end_time": "2024-04-17T10:06:56.086435",
     "exception": false,
     "start_time": "2024-04-17T10:06:54.695010",
     "status": "completed"
    },
    "tags": []
   },
   "source": [
    "### Saving testing results"
   ]
  },
  {
   "cell_type": "code",
   "execution_count": 33,
   "id": "8451b3d4",
   "metadata": {
    "execution": {
     "iopub.execute_input": "2024-04-17T10:06:58.789113Z",
     "iopub.status.busy": "2024-04-17T10:06:58.788739Z",
     "iopub.status.idle": "2024-04-17T10:06:58.851114Z",
     "shell.execute_reply": "2024-04-17T10:06:58.850199Z"
    },
    "papermill": {
     "duration": 1.445786,
     "end_time": "2024-04-17T10:06:58.853066",
     "exception": false,
     "start_time": "2024-04-17T10:06:57.407280",
     "status": "completed"
    },
    "tags": []
   },
   "outputs": [],
   "source": [
    "testing_results_known_labels.to_csv(f\"{bert_model_name}/testing_results_known_labels.csv\", index=False)\n",
    "testing_results_unknown_labels.to_csv(f\"{bert_model_name}/testing_results_unknown_labels.csv\", index=False)"
   ]
  },
  {
   "cell_type": "code",
   "execution_count": 34,
   "id": "eff2ce95",
   "metadata": {
    "execution": {
     "iopub.execute_input": "2024-04-17T10:07:01.548894Z",
     "iopub.status.busy": "2024-04-17T10:07:01.548511Z",
     "iopub.status.idle": "2024-04-17T10:07:15.075157Z",
     "shell.execute_reply": "2024-04-17T10:07:15.073964Z"
    },
    "papermill": {
     "duration": 14.843054,
     "end_time": "2024-04-17T10:07:15.077434",
     "exception": false,
     "start_time": "2024-04-17T10:07:00.234380",
     "status": "completed"
    },
    "tags": []
   },
   "outputs": [
    {
     "name": "stderr",
     "output_type": "stream",
     "text": [
      "huggingface/tokenizers: The current process just got forked, after parallelism has already been used. Disabling parallelism to avoid deadlocks...\n",
      "To disable this warning, you can either:\n",
      "\t- Avoid using `tokenizers` before the fork if possible\n",
      "\t- Explicitly set the environment variable TOKENIZERS_PARALLELISM=(true | false)\n"
     ]
    },
    {
     "name": "stdout",
     "output_type": "stream",
     "text": [
      "Collecting data-science-utils\r\n",
      "  Downloading data_science_utils-1.7.3-py3-none-any.whl.metadata (24 kB)\r\n",
      "Downloading data_science_utils-1.7.3-py3-none-any.whl (22 kB)\r\n",
      "Installing collected packages: data-science-utils\r\n",
      "Successfully installed data-science-utils-1.7.3\r\n"
     ]
    }
   ],
   "source": [
    "!pip install data-science-utils"
   ]
  },
  {
   "cell_type": "code",
   "execution_count": 35,
   "id": "9c8f95a6",
   "metadata": {
    "execution": {
     "iopub.execute_input": "2024-04-17T10:07:17.830349Z",
     "iopub.status.busy": "2024-04-17T10:07:17.829950Z",
     "iopub.status.idle": "2024-04-17T10:07:18.510996Z",
     "shell.execute_reply": "2024-04-17T10:07:18.510028Z"
    },
    "papermill": {
     "duration": 2.036339,
     "end_time": "2024-04-17T10:07:18.513186",
     "exception": false,
     "start_time": "2024-04-17T10:07:16.476847",
     "status": "completed"
    },
    "tags": []
   },
   "outputs": [
    {
     "data": {
      "image/png": "[encoded data removed]",
      "text/plain": [
       "<Figure size 640x480 with 4 Axes>"
      ]
     },
     "metadata": {},
     "output_type": "display_data"
    }
   ],
   "source": [
    "from ds_utils.metrics import plot_confusion_matrix\n",
    "\n",
    "plot_confusion_matrix(y_test_known_labels, predicted_labels_val, [1, 0])\n",
    "pyplot.savefig(f\"{bert_model_name}/confusion_matrix.png\")\n",
    "pyplot.show()"
   ]
  },
  {
   "cell_type": "markdown",
   "id": "fc36c13b",
   "metadata": {
    "papermill": {
     "duration": 1.373469,
     "end_time": "2024-04-17T10:07:21.264411",
     "exception": false,
     "start_time": "2024-04-17T10:07:19.890942",
     "status": "completed"
    },
    "tags": []
   },
   "source": [
    "# Saving the fine-tuned model\n",
    "First let's save our model with the method ``save_pretrained``, then save our tokenizer with ``save_pretrained``.\n",
    "\n",
    "**Pay Attension**: tokenizer's ``save_pretrained`` need to get the path to save as a string.\n",
    "\n",
    "In reality, it is not required to run this cell. Obtaining the results is already enough. The saved model would be extremely heavy, and there are already fine tuned BERT models on HuggingFace"
   ]
  },
  {
   "cell_type": "code",
   "execution_count": 36,
   "id": "04443272",
   "metadata": {
    "execution": {
     "iopub.execute_input": "2024-04-17T10:07:23.947182Z",
     "iopub.status.busy": "2024-04-17T10:07:23.946490Z",
     "iopub.status.idle": "2024-04-17T10:07:23.952446Z",
     "shell.execute_reply": "2024-04-17T10:07:23.951521Z"
    },
    "papermill": {
     "duration": 1.313145,
     "end_time": "2024-04-17T10:07:23.954322",
     "exception": false,
     "start_time": "2024-04-17T10:07:22.641177",
     "status": "completed"
    },
    "tags": []
   },
   "outputs": [],
   "source": [
    "from pathlib import Path\n",
    "\n",
    "output_dir = Path(\"__file__\").parents[0].absolute().joinpath(f\"{bert_model_name}/model_save\")\n",
    "output_dir.mkdir(exist_ok=True)\n",
    "\n",
    "# Save a trained model, configuration and tokenizer using `save_pretrained()`.\n",
    "# They can then be reloaded using `from_pretrained()`\n",
    "\n",
    "# model_to_save = bert_classification_model.module if hasattr(bert_classification_model, 'module') else bert_classification_model  # Take care of distributed/parallel training\n",
    "# model_to_save.save_pretrained(output_dir)\n",
    "# tokenizer.save_pretrained(str(output_dir.absolute()))"
   ]
  }
 ],
 "metadata": {
  "kaggle": {
   "accelerator": "none",
   "dataSources": [
    {
     "datasetId": 4807314,
     "sourceId": 8133059,
     "sourceType": "datasetVersion"
    }
   ],
   "isGpuEnabled": false,
   "isInternetEnabled": true,
   "language": "python",
   "sourceType": "notebook"
  },
  "kernelspec": {
   "display_name": "Python 3",
   "language": "python",
   "name": "python3"
  },
  "language_info": {
   "codemirror_mode": {
    "name": "ipython",
    "version": 3
   },
   "file_extension": ".py",
   "mimetype": "text/x-python",
   "name": "python",
   "nbconvert_exporter": "python",
   "pygments_lexer": "ipython3",
   "version": "3.10.13"
  },
  "papermill": {
   "default_parameters": {},
   "duration": 2350.724315,
   "end_time": "2024-04-17T10:07:28.704709",
   "environment_variables": {},
   "exception": null,
   "input_path": "__notebook__.ipynb",
   "output_path": "__notebook__.ipynb",
   "parameters": {},
   "start_time": "2024-04-17T09:28:17.980394",
   "version": "2.5.0"
  },
  "widgets": {
   "application/vnd.jupyter.widget-state+json": {
    "state": {
     "000ad7431b42430c8552e17c1ed7642e": {
      "model_module": "@jupyter-widgets/controls",
      "model_module_version": "1.5.0",
      "model_name": "HTMLModel",
      "state": {
       "_dom_classes": [],
       "_model_module": "@jupyter-widgets/controls",
       "_model_module_version": "1.5.0",
       "_model_name": "HTMLModel",
       "_view_count": null,
       "_view_module": "@jupyter-widgets/controls",
       "_view_module_version": "1.5.0",
       "_view_name": "HTMLView",
       "description": "",
       "description_tooltip": null,
       "layout": "IPY_MODEL_d2c4a15f62894ed6b60d7feb119b5217",
       "placeholder": "​",
       "style": "IPY_MODEL_d4e9e0f1e27e4d7a8639659ae4554ce9",
       "value": "config.json: 100%"
      }
     },
     "0bbf0bfcddd544b39288d876d309d867": {
      "model_module": "@jupyter-widgets/controls",
      "model_module_version": "1.5.0",
      "model_name": "HTMLModel",
      "state": {
       "_dom_classes": [],
       "_model_module": "@jupyter-widgets/controls",
       "_model_module_version": "1.5.0",
       "_model_name": "HTMLModel",
       "_view_count": null,
       "_view_module": "@jupyter-widgets/controls",
       "_view_module_version": "1.5.0",
       "_view_name": "HTMLView",
       "description": "",
       "description_tooltip": null,
       "layout": "IPY_MODEL_d78ca0a3e2444dc8bd7d9878eb1496e3",
       "placeholder": "​",
       "style": "IPY_MODEL_fdf9278bb99c4de880ecd1cd0472b4d8",
       "value": " 1.31M/1.31M [00:00&lt;00:00, 4.13MB/s]"
      }
     },
     "0f0858b94e494a118a35750ddd589ab2": {
      "model_module": "@jupyter-widgets/base",
      "model_module_version": "1.2.0",
      "model_name": "LayoutModel",
      "state": {
       "_model_module": "@jupyter-widgets/base",
       "_model_module_version": "1.2.0",
       "_model_name": "LayoutModel",
       "_view_count": null,
       "_view_module": "@jupyter-widgets/base",
       "_view_module_version": "1.2.0",
       "_view_name": "LayoutView",
       "align_content": null,
       "align_items": null,
       "align_self": null,
       "border": null,
       "bottom": null,
       "display": null,
       "flex": null,
       "flex_flow": null,
       "grid_area": null,
       "grid_auto_columns": null,
       "grid_auto_flow": null,
       "grid_auto_rows": null,
       "grid_column": null,
       "grid_gap": null,
       "grid_row": null,
       "grid_template_areas": null,
       "grid_template_columns": null,
       "grid_template_rows": null,
       "height": null,
       "justify_content": null,
       "justify_items": null,
       "left": null,
       "margin": null,
       "max_height": null,
       "max_width": null,
       "min_height": null,
       "min_width": null,
       "object_fit": null,
       "object_position": null,
       "order": null,
       "overflow": null,
       "overflow_x": null,
       "overflow_y": null,
       "padding": null,
       "right": null,
       "top": null,
       "visibility": null,
       "width": null
      }
     },
     "0fee280fdf6847d49bdd8afbbe2d0bf1": {
      "model_module": "@jupyter-widgets/base",
      "model_module_version": "1.2.0",
      "model_name": "LayoutModel",
      "state": {
       "_model_module": "@jupyter-widgets/base",
       "_model_module_version": "1.2.0",
       "_model_name": "LayoutModel",
       "_view_count": null,
       "_view_module": "@jupyter-widgets/base",
       "_view_module_version": "1.2.0",
       "_view_name": "LayoutView",
       "align_content": null,
       "align_items": null,
       "align_self": null,
       "border": null,
       "bottom": null,
       "display": null,
       "flex": null,
       "flex_flow": null,
       "grid_area": null,
       "grid_auto_columns": null,
       "grid_auto_flow": null,
       "grid_auto_rows": null,
       "grid_column": null,
       "grid_gap": null,
       "grid_row": null,
       "grid_template_areas": null,
       "grid_template_columns": null,
       "grid_template_rows": null,
       "height": null,
       "justify_content": null,
       "justify_items": null,
       "left": null,
       "margin": null,
       "max_height": null,
       "max_width": null,
       "min_height": null,
       "min_width": null,
       "object_fit": null,
       "object_position": null,
       "order": null,
       "overflow": null,
       "overflow_x": null,
       "overflow_y": null,
       "padding": null,
       "right": null,
       "top": null,
       "visibility": null,
       "width": null
      }
     },
     "247da623831b47bc87e9fd801fa0e082": {
      "model_module": "@jupyter-widgets/controls",
      "model_module_version": "1.5.0",
      "model_name": "HTMLModel",
      "state": {
       "_dom_classes": [],
       "_model_module": "@jupyter-widgets/controls",
       "_model_module_version": "1.5.0",
       "_model_name": "HTMLModel",
       "_view_count": null,
       "_view_module": "@jupyter-widgets/controls",
       "_view_module_version": "1.5.0",
       "_view_name": "HTMLView",
       "description": "",
       "description_tooltip": null,
       "layout": "IPY_MODEL_b2409c9430d94ef5bd7a300a43b90493",
       "placeholder": "​",
       "style": "IPY_MODEL_c6a80f1a73a344a7abe9553e35dba3ef",
       "value": "tokenizer.json: 100%"
      }
     },
     "25ad19647667423d8db001165dae397d": {
      "model_module": "@jupyter-widgets/controls",
      "model_module_version": "1.5.0",
      "model_name": "FloatProgressModel",
      "state": {
       "_dom_classes": [],
       "_model_module": "@jupyter-widgets/controls",
       "_model_module_version": "1.5.0",
       "_model_name": "FloatProgressModel",
       "_view_count": null,
       "_view_module": "@jupyter-widgets/controls",
       "_view_module_version": "1.5.0",
       "_view_name": "ProgressView",
       "bar_style": "success",
       "description": "",
       "description_tooltip": null,
       "layout": "IPY_MODEL_6ffcb77596ee4a8db8abe5d5674b9a39",
       "max": 47372894.0,
       "min": 0.0,
       "orientation": "horizontal",
       "style": "IPY_MODEL_ad606d302ea24ca0aa4f9e50618d0672",
       "value": 47372894.0
      }
     },
     "29ccc65b51f849b0b98a0e774a915473": {
      "model_module": "@jupyter-widgets/controls",
      "model_module_version": "1.5.0",
      "model_name": "DescriptionStyleModel",
      "state": {
       "_model_module": "@jupyter-widgets/controls",
       "_model_module_version": "1.5.0",
       "_model_name": "DescriptionStyleModel",
       "_view_count": null,
       "_view_module": "@jupyter-widgets/base",
       "_view_module_version": "1.2.0",
       "_view_name": "StyleView",
       "description_width": ""
      }
     },
     "2ae96471ff574c2aad8c0ecc0aaeb882": {
      "model_module": "@jupyter-widgets/base",
      "model_module_version": "1.2.0",
      "model_name": "LayoutModel",
      "state": {
       "_model_module": "@jupyter-widgets/base",
       "_model_module_version": "1.2.0",
       "_model_name": "LayoutModel",
       "_view_count": null,
       "_view_module": "@jupyter-widgets/base",
       "_view_module_version": "1.2.0",
       "_view_name": "LayoutView",
       "align_content": null,
       "align_items": null,
       "align_self": null,
       "border": null,
       "bottom": null,
       "display": null,
       "flex": null,
       "flex_flow": null,
       "grid_area": null,
       "grid_auto_columns": null,
       "grid_auto_flow": null,
       "grid_auto_rows": null,
       "grid_column": null,
       "grid_gap": null,
       "grid_row": null,
       "grid_template_areas": null,
       "grid_template_columns": null,
       "grid_template_rows": null,
       "height": null,
       "justify_content": null,
       "justify_items": null,
       "left": null,
       "margin": null,
       "max_height": null,
       "max_width": null,
       "min_height": null,
       "min_width": null,
       "object_fit": null,
       "object_position": null,
       "order": null,
       "overflow": null,
       "overflow_x": null,
       "overflow_y": null,
       "padding": null,
       "right": null,
       "top": null,
       "visibility": null,
       "width": null
      }
     },
     "317c847678cd4405a2f4637ddb76eed6": {
      "model_module": "@jupyter-widgets/controls",
      "model_module_version": "1.5.0",
      "model_name": "ProgressStyleModel",
      "state": {
       "_model_module": "@jupyter-widgets/controls",
       "_model_module_version": "1.5.0",
       "_model_name": "ProgressStyleModel",
       "_view_count": null,
       "_view_module": "@jupyter-widgets/base",
       "_view_module_version": "1.2.0",
       "_view_name": "StyleView",
       "bar_color": null,
       "description_width": ""
      }
     },
     "3441bdfcdc1c4b54b3af7edc5ce21023": {
      "model_module": "@jupyter-widgets/controls",
      "model_module_version": "1.5.0",
      "model_name": "ProgressStyleModel",
      "state": {
       "_model_module": "@jupyter-widgets/controls",
       "_model_module_version": "1.5.0",
       "_model_name": "ProgressStyleModel",
       "_view_count": null,
       "_view_module": "@jupyter-widgets/base",
       "_view_module_version": "1.2.0",
       "_view_name": "StyleView",
       "bar_color": null,
       "description_width": ""
      }
     },
     "345eebc1b6f84e1ba0606aa70cee0b35": {
      "model_module": "@jupyter-widgets/controls",
      "model_module_version": "1.5.0",
      "model_name": "HTMLModel",
      "state": {
       "_dom_classes": [],
       "_model_module": "@jupyter-widgets/controls",
       "_model_module_version": "1.5.0",
       "_model_name": "HTMLModel",
       "_view_count": null,
       "_view_module": "@jupyter-widgets/controls",
       "_view_module_version": "1.5.0",
       "_view_name": "HTMLView",
       "description": "",
       "description_tooltip": null,
       "layout": "IPY_MODEL_f761c641dea0459982ef7930d6865230",
       "placeholder": "​",
       "style": "IPY_MODEL_29ccc65b51f849b0b98a0e774a915473",
       "value": "tokenizer_config.json: 100%"
      }
     },
     "479e3cc7e9454a298ac1a5feec1df6c5": {
      "model_module": "@jupyter-widgets/base",
      "model_module_version": "1.2.0",
      "model_name": "LayoutModel",
      "state": {
       "_model_module": "@jupyter-widgets/base",
       "_model_module_version": "1.2.0",
       "_model_name": "LayoutModel",
       "_view_count": null,
       "_view_module": "@jupyter-widgets/base",
       "_view_module_version": "1.2.0",
       "_view_name": "LayoutView",
       "align_content": null,
       "align_items": null,
       "align_self": null,
       "border": null,
       "bottom": null,
       "display": null,
       "flex": null,
       "flex_flow": null,
       "grid_area": null,
       "grid_auto_columns": null,
       "grid_auto_flow": null,
       "grid_auto_rows": null,
       "grid_column": null,
       "grid_gap": null,
       "grid_row": null,
       "grid_template_areas": null,
       "grid_template_columns": null,
       "grid_template_rows": null,
       "height": null,
       "justify_content": null,
       "justify_items": null,
       "left": null,
       "margin": null,
       "max_height": null,
       "max_width": null,
       "min_height": null,
       "min_width": null,
       "object_fit": null,
       "object_position": null,
       "order": null,
       "overflow": null,
       "overflow_x": null,
       "overflow_y": null,
       "padding": null,
       "right": null,
       "top": null,
       "visibility": null,
       "width": null
      }
     },
     "58b0f204371e46bba5a3874056e7464e": {
      "model_module": "@jupyter-widgets/base",
      "model_module_version": "1.2.0",
      "model_name": "LayoutModel",
      "state": {
       "_model_module": "@jupyter-widgets/base",
       "_model_module_version": "1.2.0",
       "_model_name": "LayoutModel",
       "_view_count": null,
       "_view_module": "@jupyter-widgets/base",
       "_view_module_version": "1.2.0",
       "_view_name": "LayoutView",
       "align_content": null,
       "align_items": null,
       "align_self": null,
       "border": null,
       "bottom": null,
       "display": null,
       "flex": null,
       "flex_flow": null,
       "grid_area": null,
       "grid_auto_columns": null,
       "grid_auto_flow": null,
       "grid_auto_rows": null,
       "grid_column": null,
       "grid_gap": null,
       "grid_row": null,
       "grid_template_areas": null,
       "grid_template_columns": null,
       "grid_template_rows": null,
       "height": null,
       "justify_content": null,
       "justify_items": null,
       "left": null,
       "margin": null,
       "max_height": null,
       "max_width": null,
       "min_height": null,
       "min_width": null,
       "object_fit": null,
       "object_position": null,
       "order": null,
       "overflow": null,
       "overflow_x": null,
       "overflow_y": null,
       "padding": null,
       "right": null,
       "top": null,
       "visibility": null,
       "width": null
      }
     },
     "5b50b74364fa47d1a0759e63904a2b8d": {
      "model_module": "@jupyter-widgets/controls",
      "model_module_version": "1.5.0",
      "model_name": "HBoxModel",
      "state": {
       "_dom_classes": [],
       "_model_module": "@jupyter-widgets/controls",
       "_model_module_version": "1.5.0",
       "_model_name": "HBoxModel",
       "_view_count": null,
       "_view_module": "@jupyter-widgets/controls",
       "_view_module_version": "1.5.0",
       "_view_name": "HBoxView",
       "box_style": "",
       "children": [
        "IPY_MODEL_8a1d9f9e93ea460f8de10359e876cb24",
        "IPY_MODEL_25ad19647667423d8db001165dae397d",
        "IPY_MODEL_f56afbdf2089411bbb751e4580a59869"
       ],
       "layout": "IPY_MODEL_2ae96471ff574c2aad8c0ecc0aaeb882"
      }
     },
     "636fbb46d34f4d0da502947a4646a434": {
      "model_module": "@jupyter-widgets/controls",
      "model_module_version": "1.5.0",
      "model_name": "HTMLModel",
      "state": {
       "_dom_classes": [],
       "_model_module": "@jupyter-widgets/controls",
       "_model_module_version": "1.5.0",
       "_model_name": "HTMLModel",
       "_view_count": null,
       "_view_module": "@jupyter-widgets/controls",
       "_view_module_version": "1.5.0",
       "_view_name": "HTMLView",
       "description": "",
       "description_tooltip": null,
       "layout": "IPY_MODEL_479e3cc7e9454a298ac1a5feec1df6c5",
       "placeholder": "​",
       "style": "IPY_MODEL_9f0bd08d2b8d41ce8af72da6b5b47952",
       "value": "spiece.model: 100%"
      }
     },
     "64f4696710204a41987c12d390bff902": {
      "model_module": "@jupyter-widgets/controls",
      "model_module_version": "1.5.0",
      "model_name": "FloatProgressModel",
      "state": {
       "_dom_classes": [],
       "_model_module": "@jupyter-widgets/controls",
       "_model_module_version": "1.5.0",
       "_model_name": "FloatProgressModel",
       "_view_count": null,
       "_view_module": "@jupyter-widgets/controls",
       "_view_module_version": "1.5.0",
       "_view_name": "ProgressView",
       "bar_style": "success",
       "description": "",
       "description_tooltip": null,
       "layout": "IPY_MODEL_844f5b3c629f46c68767dc8da7641407",
       "max": 684.0,
       "min": 0.0,
       "orientation": "horizontal",
       "style": "IPY_MODEL_3441bdfcdc1c4b54b3af7edc5ce21023",
       "value": 684.0
      }
     },
     "67bcc37c79e4460aa35952ab35121298": {
      "model_module": "@jupyter-widgets/base",
      "model_module_version": "1.2.0",
      "model_name": "LayoutModel",
      "state": {
       "_model_module": "@jupyter-widgets/base",
       "_model_module_version": "1.2.0",
       "_model_name": "LayoutModel",
       "_view_count": null,
       "_view_module": "@jupyter-widgets/base",
       "_view_module_version": "1.2.0",
       "_view_name": "LayoutView",
       "align_content": null,
       "align_items": null,
       "align_self": null,
       "border": null,
       "bottom": null,
       "display": null,
       "flex": null,
       "flex_flow": null,
       "grid_area": null,
       "grid_auto_columns": null,
       "grid_auto_flow": null,
       "grid_auto_rows": null,
       "grid_column": null,
       "grid_gap": null,
       "grid_row": null,
       "grid_template_areas": null,
       "grid_template_columns": null,
       "grid_template_rows": null,
       "height": null,
       "justify_content": null,
       "justify_items": null,
       "left": null,
       "margin": null,
       "max_height": null,
       "max_width": null,
       "min_height": null,
       "min_width": null,
       "object_fit": null,
       "object_position": null,
       "order": null,
       "overflow": null,
       "overflow_x": null,
       "overflow_y": null,
       "padding": null,
       "right": null,
       "top": null,
       "visibility": null,
       "width": null
      }
     },
     "6ff02453f9c245f0a1fc34d89789708c": {
      "model_module": "@jupyter-widgets/controls",
      "model_module_version": "1.5.0",
      "model_name": "FloatProgressModel",
      "state": {
       "_dom_classes": [],
       "_model_module": "@jupyter-widgets/controls",
       "_model_module_version": "1.5.0",
       "_model_name": "FloatProgressModel",
       "_view_count": null,
       "_view_module": "@jupyter-widgets/controls",
       "_view_module_version": "1.5.0",
       "_view_name": "ProgressView",
       "bar_style": "success",
       "description": "",
       "description_tooltip": null,
       "layout": "IPY_MODEL_e7c7cb83de3b4040b88f117fc4863f8b",
       "max": 25.0,
       "min": 0.0,
       "orientation": "horizontal",
       "style": "IPY_MODEL_317c847678cd4405a2f4637ddb76eed6",
       "value": 25.0
      }
     },
     "6ffcb77596ee4a8db8abe5d5674b9a39": {
      "model_module": "@jupyter-widgets/base",
      "model_module_version": "1.2.0",
      "model_name": "LayoutModel",
      "state": {
       "_model_module": "@jupyter-widgets/base",
       "_model_module_version": "1.2.0",
       "_model_name": "LayoutModel",
       "_view_count": null,
       "_view_module": "@jupyter-widgets/base",
       "_view_module_version": "1.2.0",
       "_view_name": "LayoutView",
       "align_content": null,
       "align_items": null,
       "align_self": null,
       "border": null,
       "bottom": null,
       "display": null,
       "flex": null,
       "flex_flow": null,
       "grid_area": null,
       "grid_auto_columns": null,
       "grid_auto_flow": null,
       "grid_auto_rows": null,
       "grid_column": null,
       "grid_gap": null,
       "grid_row": null,
       "grid_template_areas": null,
       "grid_template_columns": null,
       "grid_template_rows": null,
       "height": null,
       "justify_content": null,
       "justify_items": null,
       "left": null,
       "margin": null,
       "max_height": null,
       "max_width": null,
       "min_height": null,
       "min_width": null,
       "object_fit": null,
       "object_position": null,
       "order": null,
       "overflow": null,
       "overflow_x": null,
       "overflow_y": null,
       "padding": null,
       "right": null,
       "top": null,
       "visibility": null,
       "width": null
      }
     },
     "7689438117df466c88537e992023d187": {
      "model_module": "@jupyter-widgets/controls",
      "model_module_version": "1.5.0",
      "model_name": "ProgressStyleModel",
      "state": {
       "_model_module": "@jupyter-widgets/controls",
       "_model_module_version": "1.5.0",
       "_model_name": "ProgressStyleModel",
       "_view_count": null,
       "_view_module": "@jupyter-widgets/base",
       "_view_module_version": "1.2.0",
       "_view_name": "StyleView",
       "bar_color": null,
       "description_width": ""
      }
     },
     "844f5b3c629f46c68767dc8da7641407": {
      "model_module": "@jupyter-widgets/base",
      "model_module_version": "1.2.0",
      "model_name": "LayoutModel",
      "state": {
       "_model_module": "@jupyter-widgets/base",
       "_model_module_version": "1.2.0",
       "_model_name": "LayoutModel",
       "_view_count": null,
       "_view_module": "@jupyter-widgets/base",
       "_view_module_version": "1.2.0",
       "_view_name": "LayoutView",
       "align_content": null,
       "align_items": null,
       "align_self": null,
       "border": null,
       "bottom": null,
       "display": null,
       "flex": null,
       "flex_flow": null,
       "grid_area": null,
       "grid_auto_columns": null,
       "grid_auto_flow": null,
       "grid_auto_rows": null,
       "grid_column": null,
       "grid_gap": null,
       "grid_row": null,
       "grid_template_areas": null,
       "grid_template_columns": null,
       "grid_template_rows": null,
       "height": null,
       "justify_content": null,
       "justify_items": null,
       "left": null,
       "margin": null,
       "max_height": null,
       "max_width": null,
       "min_height": null,
       "min_width": null,
       "object_fit": null,
       "object_position": null,
       "order": null,
       "overflow": null,
       "overflow_x": null,
       "overflow_y": null,
       "padding": null,
       "right": null,
       "top": null,
       "visibility": null,
       "width": null
      }
     },
     "86e7bd1008884d379172367594ffd125": {
      "model_module": "@jupyter-widgets/controls",
      "model_module_version": "1.5.0",
      "model_name": "HTMLModel",
      "state": {
       "_dom_classes": [],
       "_model_module": "@jupyter-widgets/controls",
       "_model_module_version": "1.5.0",
       "_model_name": "HTMLModel",
       "_view_count": null,
       "_view_module": "@jupyter-widgets/controls",
       "_view_module_version": "1.5.0",
       "_view_name": "HTMLView",
       "description": "",
       "description_tooltip": null,
       "layout": "IPY_MODEL_91cb0a14bb944b479cf7cc66d0d087ec",
       "placeholder": "​",
       "style": "IPY_MODEL_a04a5f329a8748f6ba50acc5777ebc69",
       "value": " 25.0/25.0 [00:00&lt;00:00, 1.88kB/s]"
      }
     },
     "8a1d9f9e93ea460f8de10359e876cb24": {
      "model_module": "@jupyter-widgets/controls",
      "model_module_version": "1.5.0",
      "model_name": "HTMLModel",
      "state": {
       "_dom_classes": [],
       "_model_module": "@jupyter-widgets/controls",
       "_model_module_version": "1.5.0",
       "_model_name": "HTMLModel",
       "_view_count": null,
       "_view_module": "@jupyter-widgets/controls",
       "_view_module_version": "1.5.0",
       "_view_name": "HTMLView",
       "description": "",
       "description_tooltip": null,
       "layout": "IPY_MODEL_58b0f204371e46bba5a3874056e7464e",
       "placeholder": "​",
       "style": "IPY_MODEL_9434f4e4025348d6977b980595c1100b",
       "value": "model.safetensors: 100%"
      }
     },
     "91cb0a14bb944b479cf7cc66d0d087ec": {
      "model_module": "@jupyter-widgets/base",
      "model_module_version": "1.2.0",
      "model_name": "LayoutModel",
      "state": {
       "_model_module": "@jupyter-widgets/base",
       "_model_module_version": "1.2.0",
       "_model_name": "LayoutModel",
       "_view_count": null,
       "_view_module": "@jupyter-widgets/base",
       "_view_module_version": "1.2.0",
       "_view_name": "LayoutView",
       "align_content": null,
       "align_items": null,
       "align_self": null,
       "border": null,
       "bottom": null,
       "display": null,
       "flex": null,
       "flex_flow": null,
       "grid_area": null,
       "grid_auto_columns": null,
       "grid_auto_flow": null,
       "grid_auto_rows": null,
       "grid_column": null,
       "grid_gap": null,
       "grid_row": null,
       "grid_template_areas": null,
       "grid_template_columns": null,
       "grid_template_rows": null,
       "height": null,
       "justify_content": null,
       "justify_items": null,
       "left": null,
       "margin": null,
       "max_height": null,
       "max_width": null,
       "min_height": null,
       "min_width": null,
       "object_fit": null,
       "object_position": null,
       "order": null,
       "overflow": null,
       "overflow_x": null,
       "overflow_y": null,
       "padding": null,
       "right": null,
       "top": null,
       "visibility": null,
       "width": null
      }
     },
     "9434f4e4025348d6977b980595c1100b": {
      "model_module": "@jupyter-widgets/controls",
      "model_module_version": "1.5.0",
      "model_name": "DescriptionStyleModel",
      "state": {
       "_model_module": "@jupyter-widgets/controls",
       "_model_module_version": "1.5.0",
       "_model_name": "DescriptionStyleModel",
       "_view_count": null,
       "_view_module": "@jupyter-widgets/base",
       "_view_module_version": "1.2.0",
       "_view_name": "StyleView",
       "description_width": ""
      }
     },
     "9b808a766dd6495f82f0d23d0ce87cd9": {
      "model_module": "@jupyter-widgets/base",
      "model_module_version": "1.2.0",
      "model_name": "LayoutModel",
      "state": {
       "_model_module": "@jupyter-widgets/base",
       "_model_module_version": "1.2.0",
       "_model_name": "LayoutModel",
       "_view_count": null,
       "_view_module": "@jupyter-widgets/base",
       "_view_module_version": "1.2.0",
       "_view_name": "LayoutView",
       "align_content": null,
       "align_items": null,
       "align_self": null,
       "border": null,
       "bottom": null,
       "display": null,
       "flex": null,
       "flex_flow": null,
       "grid_area": null,
       "grid_auto_columns": null,
       "grid_auto_flow": null,
       "grid_auto_rows": null,
       "grid_column": null,
       "grid_gap": null,
       "grid_row": null,
       "grid_template_areas": null,
       "grid_template_columns": null,
       "grid_template_rows": null,
       "height": null,
       "justify_content": null,
       "justify_items": null,
       "left": null,
       "margin": null,
       "max_height": null,
       "max_width": null,
       "min_height": null,
       "min_width": null,
       "object_fit": null,
       "object_position": null,
       "order": null,
       "overflow": null,
       "overflow_x": null,
       "overflow_y": null,
       "padding": null,
       "right": null,
       "top": null,
       "visibility": null,
       "width": null
      }
     },
     "9f0bd08d2b8d41ce8af72da6b5b47952": {
      "model_module": "@jupyter-widgets/controls",
      "model_module_version": "1.5.0",
      "model_name": "DescriptionStyleModel",
      "state": {
       "_model_module": "@jupyter-widgets/controls",
       "_model_module_version": "1.5.0",
       "_model_name": "DescriptionStyleModel",
       "_view_count": null,
       "_view_module": "@jupyter-widgets/base",
       "_view_module_version": "1.2.0",
       "_view_name": "StyleView",
       "description_width": ""
      }
     },
     "a04a5f329a8748f6ba50acc5777ebc69": {
      "model_module": "@jupyter-widgets/controls",
      "model_module_version": "1.5.0",
      "model_name": "DescriptionStyleModel",
      "state": {
       "_model_module": "@jupyter-widgets/controls",
       "_model_module_version": "1.5.0",
       "_model_name": "DescriptionStyleModel",
       "_view_count": null,
       "_view_module": "@jupyter-widgets/base",
       "_view_module_version": "1.2.0",
       "_view_name": "StyleView",
       "description_width": ""
      }
     },
     "a6f002f7c2fa45038f48f63447e65d0a": {
      "model_module": "@jupyter-widgets/controls",
      "model_module_version": "1.5.0",
      "model_name": "DescriptionStyleModel",
      "state": {
       "_model_module": "@jupyter-widgets/controls",
       "_model_module_version": "1.5.0",
       "_model_name": "DescriptionStyleModel",
       "_view_count": null,
       "_view_module": "@jupyter-widgets/base",
       "_view_module_version": "1.2.0",
       "_view_name": "StyleView",
       "description_width": ""
      }
     },
     "a8d864fbafa24ac6a330161b9731b9e1": {
      "model_module": "@jupyter-widgets/controls",
      "model_module_version": "1.5.0",
      "model_name": "HBoxModel",
      "state": {
       "_dom_classes": [],
       "_model_module": "@jupyter-widgets/controls",
       "_model_module_version": "1.5.0",
       "_model_name": "HBoxModel",
       "_view_count": null,
       "_view_module": "@jupyter-widgets/controls",
       "_view_module_version": "1.5.0",
       "_view_name": "HBoxView",
       "box_style": "",
       "children": [
        "IPY_MODEL_247da623831b47bc87e9fd801fa0e082",
        "IPY_MODEL_df45ac499e7343079e98d074cabb9b5a",
        "IPY_MODEL_0bbf0bfcddd544b39288d876d309d867"
       ],
       "layout": "IPY_MODEL_efa03b0a99924c3bb540996af0e62451"
      }
     },
     "ad606d302ea24ca0aa4f9e50618d0672": {
      "model_module": "@jupyter-widgets/controls",
      "model_module_version": "1.5.0",
      "model_name": "ProgressStyleModel",
      "state": {
       "_model_module": "@jupyter-widgets/controls",
       "_model_module_version": "1.5.0",
       "_model_name": "ProgressStyleModel",
       "_view_count": null,
       "_view_module": "@jupyter-widgets/base",
       "_view_module_version": "1.2.0",
       "_view_name": "StyleView",
       "bar_color": null,
       "description_width": ""
      }
     },
     "af5f436fd8724a2e9fd7b405dd2fad3e": {
      "model_module": "@jupyter-widgets/controls",
      "model_module_version": "1.5.0",
      "model_name": "HTMLModel",
      "state": {
       "_dom_classes": [],
       "_model_module": "@jupyter-widgets/controls",
       "_model_module_version": "1.5.0",
       "_model_name": "HTMLModel",
       "_view_count": null,
       "_view_module": "@jupyter-widgets/controls",
       "_view_module_version": "1.5.0",
       "_view_name": "HTMLView",
       "description": "",
       "description_tooltip": null,
       "layout": "IPY_MODEL_e02a8c1c6d9440ec93a9e6eb3900565a",
       "placeholder": "​",
       "style": "IPY_MODEL_a6f002f7c2fa45038f48f63447e65d0a",
       "value": " 684/684 [00:00&lt;00:00, 60.6kB/s]"
      }
     },
     "b2409c9430d94ef5bd7a300a43b90493": {
      "model_module": "@jupyter-widgets/base",
      "model_module_version": "1.2.0",
      "model_name": "LayoutModel",
      "state": {
       "_model_module": "@jupyter-widgets/base",
       "_model_module_version": "1.2.0",
       "_model_name": "LayoutModel",
       "_view_count": null,
       "_view_module": "@jupyter-widgets/base",
       "_view_module_version": "1.2.0",
       "_view_name": "LayoutView",
       "align_content": null,
       "align_items": null,
       "align_self": null,
       "border": null,
       "bottom": null,
       "display": null,
       "flex": null,
       "flex_flow": null,
       "grid_area": null,
       "grid_auto_columns": null,
       "grid_auto_flow": null,
       "grid_auto_rows": null,
       "grid_column": null,
       "grid_gap": null,
       "grid_row": null,
       "grid_template_areas": null,
       "grid_template_columns": null,
       "grid_template_rows": null,
       "height": null,
       "justify_content": null,
       "justify_items": null,
       "left": null,
       "margin": null,
       "max_height": null,
       "max_width": null,
       "min_height": null,
       "min_width": null,
       "object_fit": null,
       "object_position": null,
       "order": null,
       "overflow": null,
       "overflow_x": null,
       "overflow_y": null,
       "padding": null,
       "right": null,
       "top": null,
       "visibility": null,
       "width": null
      }
     },
     "bad75c57b4bd41808d69dfcb16a83dc1": {
      "model_module": "@jupyter-widgets/controls",
      "model_module_version": "1.5.0",
      "model_name": "DescriptionStyleModel",
      "state": {
       "_model_module": "@jupyter-widgets/controls",
       "_model_module_version": "1.5.0",
       "_model_name": "DescriptionStyleModel",
       "_view_count": null,
       "_view_module": "@jupyter-widgets/base",
       "_view_module_version": "1.2.0",
       "_view_name": "StyleView",
       "description_width": ""
      }
     },
     "bb2ba1f2146447ef83a6c8b11929966a": {
      "model_module": "@jupyter-widgets/base",
      "model_module_version": "1.2.0",
      "model_name": "LayoutModel",
      "state": {
       "_model_module": "@jupyter-widgets/base",
       "_model_module_version": "1.2.0",
       "_model_name": "LayoutModel",
       "_view_count": null,
       "_view_module": "@jupyter-widgets/base",
       "_view_module_version": "1.2.0",
       "_view_name": "LayoutView",
       "align_content": null,
       "align_items": null,
       "align_self": null,
       "border": null,
       "bottom": null,
       "display": null,
       "flex": null,
       "flex_flow": null,
       "grid_area": null,
       "grid_auto_columns": null,
       "grid_auto_flow": null,
       "grid_auto_rows": null,
       "grid_column": null,
       "grid_gap": null,
       "grid_row": null,
       "grid_template_areas": null,
       "grid_template_columns": null,
       "grid_template_rows": null,
       "height": null,
       "justify_content": null,
       "justify_items": null,
       "left": null,
       "margin": null,
       "max_height": null,
       "max_width": null,
       "min_height": null,
       "min_width": null,
       "object_fit": null,
       "object_position": null,
       "order": null,
       "overflow": null,
       "overflow_x": null,
       "overflow_y": null,
       "padding": null,
       "right": null,
       "top": null,
       "visibility": null,
       "width": null
      }
     },
     "c6a80f1a73a344a7abe9553e35dba3ef": {
      "model_module": "@jupyter-widgets/controls",
      "model_module_version": "1.5.0",
      "model_name": "DescriptionStyleModel",
      "state": {
       "_model_module": "@jupyter-widgets/controls",
       "_model_module_version": "1.5.0",
       "_model_name": "DescriptionStyleModel",
       "_view_count": null,
       "_view_module": "@jupyter-widgets/base",
       "_view_module_version": "1.2.0",
       "_view_name": "StyleView",
       "description_width": ""
      }
     },
     "cc31df9e2b304987920b0ba401c1220e": {
      "model_module": "@jupyter-widgets/controls",
      "model_module_version": "1.5.0",
      "model_name": "ProgressStyleModel",
      "state": {
       "_model_module": "@jupyter-widgets/controls",
       "_model_module_version": "1.5.0",
       "_model_name": "ProgressStyleModel",
       "_view_count": null,
       "_view_module": "@jupyter-widgets/base",
       "_view_module_version": "1.2.0",
       "_view_name": "StyleView",
       "bar_color": null,
       "description_width": ""
      }
     },
     "cf4bad25dc304e3d8f4c57ee7da03c3f": {
      "model_module": "@jupyter-widgets/controls",
      "model_module_version": "1.5.0",
      "model_name": "HBoxModel",
      "state": {
       "_dom_classes": [],
       "_model_module": "@jupyter-widgets/controls",
       "_model_module_version": "1.5.0",
       "_model_name": "HBoxModel",
       "_view_count": null,
       "_view_module": "@jupyter-widgets/controls",
       "_view_module_version": "1.5.0",
       "_view_name": "HBoxView",
       "box_style": "",
       "children": [
        "IPY_MODEL_345eebc1b6f84e1ba0606aa70cee0b35",
        "IPY_MODEL_6ff02453f9c245f0a1fc34d89789708c",
        "IPY_MODEL_86e7bd1008884d379172367594ffd125"
       ],
       "layout": "IPY_MODEL_9b808a766dd6495f82f0d23d0ce87cd9"
      }
     },
     "d2c4a15f62894ed6b60d7feb119b5217": {
      "model_module": "@jupyter-widgets/base",
      "model_module_version": "1.2.0",
      "model_name": "LayoutModel",
      "state": {
       "_model_module": "@jupyter-widgets/base",
       "_model_module_version": "1.2.0",
       "_model_name": "LayoutModel",
       "_view_count": null,
       "_view_module": "@jupyter-widgets/base",
       "_view_module_version": "1.2.0",
       "_view_name": "LayoutView",
       "align_content": null,
       "align_items": null,
       "align_self": null,
       "border": null,
       "bottom": null,
       "display": null,
       "flex": null,
       "flex_flow": null,
       "grid_area": null,
       "grid_auto_columns": null,
       "grid_auto_flow": null,
       "grid_auto_rows": null,
       "grid_column": null,
       "grid_gap": null,
       "grid_row": null,
       "grid_template_areas": null,
       "grid_template_columns": null,
       "grid_template_rows": null,
       "height": null,
       "justify_content": null,
       "justify_items": null,
       "left": null,
       "margin": null,
       "max_height": null,
       "max_width": null,
       "min_height": null,
       "min_width": null,
       "object_fit": null,
       "object_position": null,
       "order": null,
       "overflow": null,
       "overflow_x": null,
       "overflow_y": null,
       "padding": null,
       "right": null,
       "top": null,
       "visibility": null,
       "width": null
      }
     },
     "d4e9e0f1e27e4d7a8639659ae4554ce9": {
      "model_module": "@jupyter-widgets/controls",
      "model_module_version": "1.5.0",
      "model_name": "DescriptionStyleModel",
      "state": {
       "_model_module": "@jupyter-widgets/controls",
       "_model_module_version": "1.5.0",
       "_model_name": "DescriptionStyleModel",
       "_view_count": null,
       "_view_module": "@jupyter-widgets/base",
       "_view_module_version": "1.2.0",
       "_view_name": "StyleView",
       "description_width": ""
      }
     },
     "d78ca0a3e2444dc8bd7d9878eb1496e3": {
      "model_module": "@jupyter-widgets/base",
      "model_module_version": "1.2.0",
      "model_name": "LayoutModel",
      "state": {
       "_model_module": "@jupyter-widgets/base",
       "_model_module_version": "1.2.0",
       "_model_name": "LayoutModel",
       "_view_count": null,
       "_view_module": "@jupyter-widgets/base",
       "_view_module_version": "1.2.0",
       "_view_name": "LayoutView",
       "align_content": null,
       "align_items": null,
       "align_self": null,
       "border": null,
       "bottom": null,
       "display": null,
       "flex": null,
       "flex_flow": null,
       "grid_area": null,
       "grid_auto_columns": null,
       "grid_auto_flow": null,
       "grid_auto_rows": null,
       "grid_column": null,
       "grid_gap": null,
       "grid_row": null,
       "grid_template_areas": null,
       "grid_template_columns": null,
       "grid_template_rows": null,
       "height": null,
       "justify_content": null,
       "justify_items": null,
       "left": null,
       "margin": null,
       "max_height": null,
       "max_width": null,
       "min_height": null,
       "min_width": null,
       "object_fit": null,
       "object_position": null,
       "order": null,
       "overflow": null,
       "overflow_x": null,
       "overflow_y": null,
       "padding": null,
       "right": null,
       "top": null,
       "visibility": null,
       "width": null
      }
     },
     "da84fd7314e24385a0926243a4439a03": {
      "model_module": "@jupyter-widgets/controls",
      "model_module_version": "1.5.0",
      "model_name": "DescriptionStyleModel",
      "state": {
       "_model_module": "@jupyter-widgets/controls",
       "_model_module_version": "1.5.0",
       "_model_name": "DescriptionStyleModel",
       "_view_count": null,
       "_view_module": "@jupyter-widgets/base",
       "_view_module_version": "1.2.0",
       "_view_name": "StyleView",
       "description_width": ""
      }
     },
     "df45ac499e7343079e98d074cabb9b5a": {
      "model_module": "@jupyter-widgets/controls",
      "model_module_version": "1.5.0",
      "model_name": "FloatProgressModel",
      "state": {
       "_dom_classes": [],
       "_model_module": "@jupyter-widgets/controls",
       "_model_module_version": "1.5.0",
       "_model_name": "FloatProgressModel",
       "_view_count": null,
       "_view_module": "@jupyter-widgets/controls",
       "_view_module_version": "1.5.0",
       "_view_name": "ProgressView",
       "bar_style": "success",
       "description": "",
       "description_tooltip": null,
       "layout": "IPY_MODEL_bb2ba1f2146447ef83a6c8b11929966a",
       "max": 1312669.0,
       "min": 0.0,
       "orientation": "horizontal",
       "style": "IPY_MODEL_7689438117df466c88537e992023d187",
       "value": 1312669.0
      }
     },
     "e011d656e2a248b4b6b0865ab3c8b094": {
      "model_module": "@jupyter-widgets/controls",
      "model_module_version": "1.5.0",
      "model_name": "FloatProgressModel",
      "state": {
       "_dom_classes": [],
       "_model_module": "@jupyter-widgets/controls",
       "_model_module_version": "1.5.0",
       "_model_name": "FloatProgressModel",
       "_view_count": null,
       "_view_module": "@jupyter-widgets/controls",
       "_view_module_version": "1.5.0",
       "_view_name": "ProgressView",
       "bar_style": "success",
       "description": "",
       "description_tooltip": null,
       "layout": "IPY_MODEL_67bcc37c79e4460aa35952ab35121298",
       "max": 760289.0,
       "min": 0.0,
       "orientation": "horizontal",
       "style": "IPY_MODEL_cc31df9e2b304987920b0ba401c1220e",
       "value": 760289.0
      }
     },
     "e02a8c1c6d9440ec93a9e6eb3900565a": {
      "model_module": "@jupyter-widgets/base",
      "model_module_version": "1.2.0",
      "model_name": "LayoutModel",
      "state": {
       "_model_module": "@jupyter-widgets/base",
       "_model_module_version": "1.2.0",
       "_model_name": "LayoutModel",
       "_view_count": null,
       "_view_module": "@jupyter-widgets/base",
       "_view_module_version": "1.2.0",
       "_view_name": "LayoutView",
       "align_content": null,
       "align_items": null,
       "align_self": null,
       "border": null,
       "bottom": null,
       "display": null,
       "flex": null,
       "flex_flow": null,
       "grid_area": null,
       "grid_auto_columns": null,
       "grid_auto_flow": null,
       "grid_auto_rows": null,
       "grid_column": null,
       "grid_gap": null,
       "grid_row": null,
       "grid_template_areas": null,
       "grid_template_columns": null,
       "grid_template_rows": null,
       "height": null,
       "justify_content": null,
       "justify_items": null,
       "left": null,
       "margin": null,
       "max_height": null,
       "max_width": null,
       "min_height": null,
       "min_width": null,
       "object_fit": null,
       "object_position": null,
       "order": null,
       "overflow": null,
       "overflow_x": null,
       "overflow_y": null,
       "padding": null,
       "right": null,
       "top": null,
       "visibility": null,
       "width": null
      }
     },
     "e6ec64bc1a1e442a9ee59ac400d307c7": {
      "model_module": "@jupyter-widgets/base",
      "model_module_version": "1.2.0",
      "model_name": "LayoutModel",
      "state": {
       "_model_module": "@jupyter-widgets/base",
       "_model_module_version": "1.2.0",
       "_model_name": "LayoutModel",
       "_view_count": null,
       "_view_module": "@jupyter-widgets/base",
       "_view_module_version": "1.2.0",
       "_view_name": "LayoutView",
       "align_content": null,
       "align_items": null,
       "align_self": null,
       "border": null,
       "bottom": null,
       "display": null,
       "flex": null,
       "flex_flow": null,
       "grid_area": null,
       "grid_auto_columns": null,
       "grid_auto_flow": null,
       "grid_auto_rows": null,
       "grid_column": null,
       "grid_gap": null,
       "grid_row": null,
       "grid_template_areas": null,
       "grid_template_columns": null,
       "grid_template_rows": null,
       "height": null,
       "justify_content": null,
       "justify_items": null,
       "left": null,
       "margin": null,
       "max_height": null,
       "max_width": null,
       "min_height": null,
       "min_width": null,
       "object_fit": null,
       "object_position": null,
       "order": null,
       "overflow": null,
       "overflow_x": null,
       "overflow_y": null,
       "padding": null,
       "right": null,
       "top": null,
       "visibility": null,
       "width": null
      }
     },
     "e7518c2df69245c1bb781ad303070ba4": {
      "model_module": "@jupyter-widgets/controls",
      "model_module_version": "1.5.0",
      "model_name": "HBoxModel",
      "state": {
       "_dom_classes": [],
       "_model_module": "@jupyter-widgets/controls",
       "_model_module_version": "1.5.0",
       "_model_name": "HBoxModel",
       "_view_count": null,
       "_view_module": "@jupyter-widgets/controls",
       "_view_module_version": "1.5.0",
       "_view_name": "HBoxView",
       "box_style": "",
       "children": [
        "IPY_MODEL_636fbb46d34f4d0da502947a4646a434",
        "IPY_MODEL_e011d656e2a248b4b6b0865ab3c8b094",
        "IPY_MODEL_fa2b23c3233541a1a9f0e92062681e87"
       ],
       "layout": "IPY_MODEL_0fee280fdf6847d49bdd8afbbe2d0bf1"
      }
     },
     "e7c7cb83de3b4040b88f117fc4863f8b": {
      "model_module": "@jupyter-widgets/base",
      "model_module_version": "1.2.0",
      "model_name": "LayoutModel",
      "state": {
       "_model_module": "@jupyter-widgets/base",
       "_model_module_version": "1.2.0",
       "_model_name": "LayoutModel",
       "_view_count": null,
       "_view_module": "@jupyter-widgets/base",
       "_view_module_version": "1.2.0",
       "_view_name": "LayoutView",
       "align_content": null,
       "align_items": null,
       "align_self": null,
       "border": null,
       "bottom": null,
       "display": null,
       "flex": null,
       "flex_flow": null,
       "grid_area": null,
       "grid_auto_columns": null,
       "grid_auto_flow": null,
       "grid_auto_rows": null,
       "grid_column": null,
       "grid_gap": null,
       "grid_row": null,
       "grid_template_areas": null,
       "grid_template_columns": null,
       "grid_template_rows": null,
       "height": null,
       "justify_content": null,
       "justify_items": null,
       "left": null,
       "margin": null,
       "max_height": null,
       "max_width": null,
       "min_height": null,
       "min_width": null,
       "object_fit": null,
       "object_position": null,
       "order": null,
       "overflow": null,
       "overflow_x": null,
       "overflow_y": null,
       "padding": null,
       "right": null,
       "top": null,
       "visibility": null,
       "width": null
      }
     },
     "efa03b0a99924c3bb540996af0e62451": {
      "model_module": "@jupyter-widgets/base",
      "model_module_version": "1.2.0",
      "model_name": "LayoutModel",
      "state": {
       "_model_module": "@jupyter-widgets/base",
       "_model_module_version": "1.2.0",
       "_model_name": "LayoutModel",
       "_view_count": null,
       "_view_module": "@jupyter-widgets/base",
       "_view_module_version": "1.2.0",
       "_view_name": "LayoutView",
       "align_content": null,
       "align_items": null,
       "align_self": null,
       "border": null,
       "bottom": null,
       "display": null,
       "flex": null,
       "flex_flow": null,
       "grid_area": null,
       "grid_auto_columns": null,
       "grid_auto_flow": null,
       "grid_auto_rows": null,
       "grid_column": null,
       "grid_gap": null,
       "grid_row": null,
       "grid_template_areas": null,
       "grid_template_columns": null,
       "grid_template_rows": null,
       "height": null,
       "justify_content": null,
       "justify_items": null,
       "left": null,
       "margin": null,
       "max_height": null,
       "max_width": null,
       "min_height": null,
       "min_width": null,
       "object_fit": null,
       "object_position": null,
       "order": null,
       "overflow": null,
       "overflow_x": null,
       "overflow_y": null,
       "padding": null,
       "right": null,
       "top": null,
       "visibility": null,
       "width": null
      }
     },
     "f56afbdf2089411bbb751e4580a59869": {
      "model_module": "@jupyter-widgets/controls",
      "model_module_version": "1.5.0",
      "model_name": "HTMLModel",
      "state": {
       "_dom_classes": [],
       "_model_module": "@jupyter-widgets/controls",
       "_model_module_version": "1.5.0",
       "_model_name": "HTMLModel",
       "_view_count": null,
       "_view_module": "@jupyter-widgets/controls",
       "_view_module_version": "1.5.0",
       "_view_name": "HTMLView",
       "description": "",
       "description_tooltip": null,
       "layout": "IPY_MODEL_e6ec64bc1a1e442a9ee59ac400d307c7",
       "placeholder": "​",
       "style": "IPY_MODEL_bad75c57b4bd41808d69dfcb16a83dc1",
       "value": " 47.4M/47.4M [00:00&lt;00:00, 157MB/s]"
      }
     },
     "f761c641dea0459982ef7930d6865230": {
      "model_module": "@jupyter-widgets/base",
      "model_module_version": "1.2.0",
      "model_name": "LayoutModel",
      "state": {
       "_model_module": "@jupyter-widgets/base",
       "_model_module_version": "1.2.0",
       "_model_name": "LayoutModel",
       "_view_count": null,
       "_view_module": "@jupyter-widgets/base",
       "_view_module_version": "1.2.0",
       "_view_name": "LayoutView",
       "align_content": null,
       "align_items": null,
       "align_self": null,
       "border": null,
       "bottom": null,
       "display": null,
       "flex": null,
       "flex_flow": null,
       "grid_area": null,
       "grid_auto_columns": null,
       "grid_auto_flow": null,
       "grid_auto_rows": null,
       "grid_column": null,
       "grid_gap": null,
       "grid_row": null,
       "grid_template_areas": null,
       "grid_template_columns": null,
       "grid_template_rows": null,
       "height": null,
       "justify_content": null,
       "justify_items": null,
       "left": null,
       "margin": null,
       "max_height": null,
       "max_width": null,
       "min_height": null,
       "min_width": null,
       "object_fit": null,
       "object_position": null,
       "order": null,
       "overflow": null,
       "overflow_x": null,
       "overflow_y": null,
       "padding": null,
       "right": null,
       "top": null,
       "visibility": null,
       "width": null
      }
     },
     "f828a639c58a4c37915581b197c4e4ff": {
      "model_module": "@jupyter-widgets/base",
      "model_module_version": "1.2.0",
      "model_name": "LayoutModel",
      "state": {
       "_model_module": "@jupyter-widgets/base",
       "_model_module_version": "1.2.0",
       "_model_name": "LayoutModel",
       "_view_count": null,
       "_view_module": "@jupyter-widgets/base",
       "_view_module_version": "1.2.0",
       "_view_name": "LayoutView",
       "align_content": null,
       "align_items": null,
       "align_self": null,
       "border": null,
       "bottom": null,
       "display": null,
       "flex": null,
       "flex_flow": null,
       "grid_area": null,
       "grid_auto_columns": null,
       "grid_auto_flow": null,
       "grid_auto_rows": null,
       "grid_column": null,
       "grid_gap": null,
       "grid_row": null,
       "grid_template_areas": null,
       "grid_template_columns": null,
       "grid_template_rows": null,
       "height": null,
       "justify_content": null,
       "justify_items": null,
       "left": null,
       "margin": null,
       "max_height": null,
       "max_width": null,
       "min_height": null,
       "min_width": null,
       "object_fit": null,
       "object_position": null,
       "order": null,
       "overflow": null,
       "overflow_x": null,
       "overflow_y": null,
       "padding": null,
       "right": null,
       "top": null,
       "visibility": null,
       "width": null
      }
     },
     "fa2b23c3233541a1a9f0e92062681e87": {
      "model_module": "@jupyter-widgets/controls",
      "model_module_version": "1.5.0",
      "model_name": "HTMLModel",
      "state": {
       "_dom_classes": [],
       "_model_module": "@jupyter-widgets/controls",
       "_model_module_version": "1.5.0",
       "_model_name": "HTMLModel",
       "_view_count": null,
       "_view_module": "@jupyter-widgets/controls",
       "_view_module_version": "1.5.0",
       "_view_name": "HTMLView",
       "description": "",
       "description_tooltip": null,
       "layout": "IPY_MODEL_0f0858b94e494a118a35750ddd589ab2",
       "placeholder": "​",
       "style": "IPY_MODEL_da84fd7314e24385a0926243a4439a03",
       "value": " 760k/760k [00:00&lt;00:00, 3.78MB/s]"
      }
     },
     "fdf9278bb99c4de880ecd1cd0472b4d8": {
      "model_module": "@jupyter-widgets/controls",
      "model_module_version": "1.5.0",
      "model_name": "DescriptionStyleModel",
      "state": {
       "_model_module": "@jupyter-widgets/controls",
       "_model_module_version": "1.5.0",
       "_model_name": "DescriptionStyleModel",
       "_view_count": null,
       "_view_module": "@jupyter-widgets/base",
       "_view_module_version": "1.2.0",
       "_view_name": "StyleView",
       "description_width": ""
      }
     },
     "febcee08e4014d0d8b386e1ab4340503": {
      "model_module": "@jupyter-widgets/controls",
      "model_module_version": "1.5.0",
      "model_name": "HBoxModel",
      "state": {
       "_dom_classes": [],
       "_model_module": "@jupyter-widgets/controls",
       "_model_module_version": "1.5.0",
       "_model_name": "HBoxModel",
       "_view_count": null,
       "_view_module": "@jupyter-widgets/controls",
       "_view_module_version": "1.5.0",
       "_view_name": "HBoxView",
       "box_style": "",
       "children": [
        "IPY_MODEL_000ad7431b42430c8552e17c1ed7642e",
        "IPY_MODEL_64f4696710204a41987c12d390bff902",
        "IPY_MODEL_af5f436fd8724a2e9fd7b405dd2fad3e"
       ],
       "layout": "IPY_MODEL_f828a639c58a4c37915581b197c4e4ff"
      }
     }
    },
    "version_major": 2,
    "version_minor": 0
   }
  }
 },
 "nbformat": 4,
 "nbformat_minor": 5
}
