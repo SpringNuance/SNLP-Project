{
 "cells": [
  {
   "cell_type": "markdown",
   "id": "b7eeaa0a",
   "metadata": {
    "papermill": {
     "duration": 0.029052,
     "end_time": "2024-04-17T06:53:27.262552",
     "exception": false,
     "start_time": "2024-04-17T06:53:27.233500",
     "status": "completed"
    },
    "tags": []
   },
   "source": [
    "# Fine-Tuning BERT on Quora Question pairs\n",
    "\n",
    "# Introduction\n",
    "\n",
    "In this project, we would use a variety of BERT models (BERT, RoBERTa, ALBERT, DistilBERT, DeBERTa) with the HuggingFace PyTorch library to fine-tune a model to fit the QQP dataset. \n",
    "\n",
    "### BERT (Bidirectional Encoder Representations from Transformers) \n",
    "\n",
    "Original model code [here](https://github.com/google-research/bert) for NLP tasks.\n",
    "\n",
    "BERT consists of 12 Transformer Encoding layers (or 24 for large BERT)\n",
    "\n",
    "\n",
    "# Quora Question Pairs Dataset\n",
    "[Quora](https://www.quora.com/) is a question-and-answer website where questions are asked, answered, followed, and edited by Internet users, either factually or in the form of opinions. Quora was co-founded by former Facebook employees Adam D'Angelo and Charlie Cheever in June 2009. website was made available to the public for the first time on June 21, 2010. Today the website is available in many languages.\n",
    "\n",
    "Over 100 million people visit Quora every month, so it's no surprise that many people ask similarly worded questions. Multiple questions with the same intent can cause seekers to spend more time finding the best answer to their question, and make writers feel they need to answer multiple versions of the same question.\n",
    "\n",
    "The goal is to predict which of the provided pairs of questions contain two questions with the same meaning. The ground truth is the set of labels that have been supplied by human experts. The dataset itself can be downloaded from kaggle: [here](https://www.kaggle.com/c/quora-question-pairs/).\n",
    "\n",
    "## Data fields\n",
    "* id - the id of a training set question pair\n",
    "* qid1, qid2 - unique ids of each question (only available in train.csv)\n",
    "* question1, question2 - the full text of each question\n",
    "* is_duplicate - the target variable, set to 1 if question1 and question2 have essentially the same meaning, and 0 otherwise."
   ]
  },
  {
   "cell_type": "markdown",
   "id": "4db30190",
   "metadata": {
    "papermill": {
     "duration": 0.024325,
     "end_time": "2024-04-17T06:53:27.312872",
     "exception": false,
     "start_time": "2024-04-17T06:53:27.288547",
     "status": "completed"
    },
    "tags": []
   },
   "source": [
    "To make use of GPU, this notebook should be run on Google Colab or Kaggle. It is highly inadvisable to run this notebook on a local machine as it would take a very long time to train the model. However you can run on local for testing purposes."
   ]
  },
  {
   "cell_type": "code",
   "execution_count": 1,
   "id": "ce511603",
   "metadata": {
    "execution": {
     "iopub.execute_input": "2024-04-17T06:53:27.363161Z",
     "iopub.status.busy": "2024-04-17T06:53:27.362864Z",
     "iopub.status.idle": "2024-04-17T06:53:27.380796Z",
     "shell.execute_reply": "2024-04-17T06:53:27.379909Z"
    },
    "papermill": {
     "duration": 0.045196,
     "end_time": "2024-04-17T06:53:27.382738",
     "exception": false,
     "start_time": "2024-04-17T06:53:27.337542",
     "status": "completed"
    },
    "tags": []
   },
   "outputs": [
    {
     "name": "stdout",
     "output_type": "stream",
     "text": [
      "/kaggle/input/test.tsv\n",
      "/kaggle/input/quora_duplicate_questions.tsv\n",
      "/kaggle/input/dev.tsv\n",
      "/kaggle/input/train.tsv\n"
     ]
    }
   ],
   "source": [
    "# Input data files are available in the read-only \"../input/\" directory\n",
    "# For example, running this (by clicking run or pressing Shift+Enter) will list all files under the input directory\n",
    "\n",
    "import os\n",
    "for dirname, _, filenames in os.walk('/kaggle/input'):\n",
    "    for filename in filenames:\n",
    "        print(os.path.join(dirname, filename))\n",
    "\n",
    "# You can write up to 20GB to the current directory (/kaggle/working/) that gets preserved as output when you create a version using \"Save & Run All\" \n",
    "# You can also write temporary files to /kaggle/temp/, but they won't be saved outside of the current session"
   ]
  },
  {
   "cell_type": "code",
   "execution_count": 2,
   "id": "c671ff59",
   "metadata": {
    "execution": {
     "iopub.execute_input": "2024-04-17T06:53:27.434423Z",
     "iopub.status.busy": "2024-04-17T06:53:27.434118Z",
     "iopub.status.idle": "2024-04-17T06:53:32.581780Z",
     "shell.execute_reply": "2024-04-17T06:53:32.580676Z"
    },
    "papermill": {
     "duration": 5.176452,
     "end_time": "2024-04-17T06:53:32.584826",
     "exception": false,
     "start_time": "2024-04-17T06:53:27.408374",
     "status": "completed"
    },
    "tags": []
   },
   "outputs": [],
   "source": [
    "### Importing all necessary libraries\n",
    "\n",
    "import pandas as pd\n",
    "import numpy as np\n",
    "import matplotlib.pyplot as plt\n",
    "from sklearn.model_selection import train_test_split\n",
    "\n",
    "import torch\n",
    "from tqdm import tqdm\n",
    "from torch.utils.data import TensorDataset"
   ]
  },
  {
   "cell_type": "markdown",
   "id": "08612799",
   "metadata": {
    "papermill": {
     "duration": 0.025419,
     "end_time": "2024-04-17T06:53:32.643705",
     "exception": false,
     "start_time": "2024-04-17T06:53:32.618286",
     "status": "completed"
    },
    "tags": []
   },
   "source": [
    "#### Due to memory and time limit issues, we cannot really use the whole dataset for fine tuning. As a result, we would use a subset of the dataset for training and validation."
   ]
  },
  {
   "cell_type": "code",
   "execution_count": 3,
   "id": "e8c414da",
   "metadata": {
    "execution": {
     "iopub.execute_input": "2024-04-17T06:53:32.697027Z",
     "iopub.status.busy": "2024-04-17T06:53:32.696104Z",
     "iopub.status.idle": "2024-04-17T06:53:32.700590Z",
     "shell.execute_reply": "2024-04-17T06:53:32.699803Z"
    },
    "papermill": {
     "duration": 0.032315,
     "end_time": "2024-04-17T06:53:32.702538",
     "exception": false,
     "start_time": "2024-04-17T06:53:32.670223",
     "status": "completed"
    },
    "tags": []
   },
   "outputs": [],
   "source": [
    "num_train_plus_test = 20000 # Later, train and test data ratio is 80:20\n",
    "num_val = 2000 \n",
    "num_unknown_labels_test = 5000\n",
    "# If you want to use all data, set values to None"
   ]
  },
  {
   "cell_type": "code",
   "execution_count": 4,
   "id": "fa666cec",
   "metadata": {
    "execution": {
     "iopub.execute_input": "2024-04-17T06:53:32.759869Z",
     "iopub.status.busy": "2024-04-17T06:53:32.758978Z",
     "iopub.status.idle": "2024-04-17T06:53:32.964605Z",
     "shell.execute_reply": "2024-04-17T06:53:32.963739Z"
    },
    "papermill": {
     "duration": 0.239143,
     "end_time": "2024-04-17T06:53:32.966872",
     "exception": false,
     "start_time": "2024-04-17T06:53:32.727729",
     "status": "completed"
    },
    "tags": []
   },
   "outputs": [
    {
     "name": "stdout",
     "output_type": "stream",
     "text": [
      "5000\n"
     ]
    },
    {
     "data": {
      "text/html": [
       "<div>\n",
       "<style scoped>\n",
       "    .dataframe tbody tr th:only-of-type {\n",
       "        vertical-align: middle;\n",
       "    }\n",
       "\n",
       "    .dataframe tbody tr th {\n",
       "        vertical-align: top;\n",
       "    }\n",
       "\n",
       "    .dataframe thead th {\n",
       "        text-align: right;\n",
       "    }\n",
       "</style>\n",
       "<table border=\"1\" class=\"dataframe\">\n",
       "  <thead>\n",
       "    <tr style=\"text-align: right;\">\n",
       "      <th></th>\n",
       "      <th>id</th>\n",
       "      <th>qid1</th>\n",
       "      <th>qid2</th>\n",
       "      <th>question1</th>\n",
       "      <th>question2</th>\n",
       "      <th>is_duplicate</th>\n",
       "    </tr>\n",
       "  </thead>\n",
       "  <tbody>\n",
       "    <tr>\n",
       "      <th>0</th>\n",
       "      <td>133273</td>\n",
       "      <td>213221</td>\n",
       "      <td>213222</td>\n",
       "      <td>How is the life of a math student? Could you d...</td>\n",
       "      <td>Which level of prepration is enough for the ex...</td>\n",
       "      <td>0</td>\n",
       "    </tr>\n",
       "    <tr>\n",
       "      <th>1</th>\n",
       "      <td>402555</td>\n",
       "      <td>536040</td>\n",
       "      <td>536041</td>\n",
       "      <td>How do I control my horny emotions?</td>\n",
       "      <td>How do you control your horniness?</td>\n",
       "      <td>1</td>\n",
       "    </tr>\n",
       "    <tr>\n",
       "      <th>2</th>\n",
       "      <td>360472</td>\n",
       "      <td>364011</td>\n",
       "      <td>490273</td>\n",
       "      <td>What causes stool color to change to yellow?</td>\n",
       "      <td>What can cause stool to come out as little balls?</td>\n",
       "      <td>0</td>\n",
       "    </tr>\n",
       "    <tr>\n",
       "      <th>3</th>\n",
       "      <td>150662</td>\n",
       "      <td>155721</td>\n",
       "      <td>7256</td>\n",
       "      <td>What can one do after MBBS?</td>\n",
       "      <td>What do i do after my MBBS ?</td>\n",
       "      <td>1</td>\n",
       "    </tr>\n",
       "    <tr>\n",
       "      <th>4</th>\n",
       "      <td>183004</td>\n",
       "      <td>279958</td>\n",
       "      <td>279959</td>\n",
       "      <td>Where can I find a power outlet for my laptop ...</td>\n",
       "      <td>Would a second airport in Sydney, Australia be...</td>\n",
       "      <td>0</td>\n",
       "    </tr>\n",
       "  </tbody>\n",
       "</table>\n",
       "</div>"
      ],
      "text/plain": [
       "       id    qid1    qid2                                          question1  \\\n",
       "0  133273  213221  213222  How is the life of a math student? Could you d...   \n",
       "1  402555  536040  536041                How do I control my horny emotions?   \n",
       "2  360472  364011  490273       What causes stool color to change to yellow?   \n",
       "3  150662  155721    7256                        What can one do after MBBS?   \n",
       "4  183004  279958  279959  Where can I find a power outlet for my laptop ...   \n",
       "\n",
       "                                           question2  is_duplicate  \n",
       "0  Which level of prepration is enough for the ex...             0  \n",
       "1                 How do you control your horniness?             1  \n",
       "2  What can cause stool to come out as little balls?             0  \n",
       "3                       What do i do after my MBBS ?             1  \n",
       "4  Would a second airport in Sydney, Australia be...             0  "
      ]
     },
     "execution_count": 4,
     "metadata": {},
     "output_type": "execute_result"
    }
   ],
   "source": [
    "# train_qqp = pd.read_csv(\"/kaggle/input/snlp-project-qqp/train.tsv\", sep=\"\\t\")\n",
    "# dev_qqp = pd.read_csv(\"/kaggle/input/snlp-project-qqp/dev.tsv\", sep=\"\\t\")\n",
    "\n",
    "train_qqp = pd.read_csv(\"/kaggle/input/train.tsv\", sep=\"\\t\", nrows=num_train_plus_test)\n",
    "dev_qqp = pd.read_csv(\"/kaggle/input/dev.tsv\", sep=\"\\t\", nrows=num_val)\n",
    "\n",
    "test_unknown_label_qqp = pd.read_csv(\"/kaggle/input/test.tsv\", sep=\"\\t\", nrows=num_unknown_labels_test)\n",
    "print(len(test_unknown_label_qqp))\n",
    "train_qqp.head()"
   ]
  },
  {
   "cell_type": "markdown",
   "id": "7a4321af",
   "metadata": {
    "papermill": {
     "duration": 0.025233,
     "end_time": "2024-04-17T06:53:33.017548",
     "exception": false,
     "start_time": "2024-04-17T06:53:32.992315",
     "status": "completed"
    },
    "tags": []
   },
   "source": [
    "## BertForSequenceClassification\n",
    "\n",
    "For this task, we first want to modify the pre-trained BERT model to give outputs for classification, and then we want to continue training the model on our dataset until that the entire model, end-to-end, is well-suited for our task.\n",
    "\n",
    "We’ll be using [BertForSequenceClassification](https://huggingface.co/transformers/model_doc/bert.html#bertforsequenceclassification). This is the normal BERT model with an added single linear layer on top for classification that we will use as a sentence classifier. As we feed input data, the entire pre-trained BERT model and the additional untrained classification layer is trained on our specific task."
   ]
  },
  {
   "cell_type": "markdown",
   "id": "fc45a155",
   "metadata": {
    "papermill": {
     "duration": 0.02495,
     "end_time": "2024-04-17T06:53:33.067198",
     "exception": false,
     "start_time": "2024-04-17T06:53:33.042248",
     "status": "completed"
    },
    "tags": []
   },
   "source": [
    "### Choosing the BERT variant and the Tokenizer\n",
    "\n",
    "To feed our text to BERT, it must be split into tokens, and then these tokens must be mapped to their index in the tokenizer vocabulary. The tokenization must be performed by the tokenizer included with BERT. This Tokenizer is build upon the WordPiece tokenizer. "
   ]
  },
  {
   "cell_type": "code",
   "execution_count": 5,
   "id": "32ce97bf",
   "metadata": {
    "execution": {
     "iopub.execute_input": "2024-04-17T06:53:33.118140Z",
     "iopub.status.busy": "2024-04-17T06:53:33.117824Z",
     "iopub.status.idle": "2024-04-17T06:53:33.194975Z",
     "shell.execute_reply": "2024-04-17T06:53:33.193898Z"
    },
    "papermill": {
     "duration": 0.105223,
     "end_time": "2024-04-17T06:53:33.196961",
     "exception": false,
     "start_time": "2024-04-17T06:53:33.091738",
     "status": "completed"
    },
    "tags": []
   },
   "outputs": [
    {
     "name": "stdout",
     "output_type": "stream",
     "text": [
      "The current device is cuda\n"
     ]
    }
   ],
   "source": [
    "device = torch.device(\"cuda\" if torch.cuda.is_available() else \"cpu\")\n",
    "print(\"The current device is\", device)"
   ]
  },
  {
   "cell_type": "code",
   "execution_count": 6,
   "id": "594e9191",
   "metadata": {
    "execution": {
     "iopub.execute_input": "2024-04-17T06:53:33.249718Z",
     "iopub.status.busy": "2024-04-17T06:53:33.248894Z",
     "iopub.status.idle": "2024-04-17T06:53:39.559072Z",
     "shell.execute_reply": "2024-04-17T06:53:39.558246Z"
    },
    "papermill": {
     "duration": 6.338975,
     "end_time": "2024-04-17T06:53:39.561406",
     "exception": false,
     "start_time": "2024-04-17T06:53:33.222431",
     "status": "completed"
    },
    "tags": []
   },
   "outputs": [
    {
     "data": {
      "application/vnd.jupyter.widget-view+json": {
       "model_id": "f1f0ea878d7444a3a20c1e3f96e76649",
       "version_major": 2,
       "version_minor": 0
      },
      "text/plain": [
       "tokenizer_config.json:   0%|          | 0.00/28.0 [00:00<?, ?B/s]"
      ]
     },
     "metadata": {},
     "output_type": "display_data"
    },
    {
     "data": {
      "application/vnd.jupyter.widget-view+json": {
       "model_id": "4ebba7102c074f7381ed8e961b0e5361",
       "version_major": 2,
       "version_minor": 0
      },
      "text/plain": [
       "config.json:   0%|          | 0.00/483 [00:00<?, ?B/s]"
      ]
     },
     "metadata": {},
     "output_type": "display_data"
    },
    {
     "data": {
      "application/vnd.jupyter.widget-view+json": {
       "model_id": "5fce6d1ffdaa4455b095cc30dbb830d5",
       "version_major": 2,
       "version_minor": 0
      },
      "text/plain": [
       "vocab.txt:   0%|          | 0.00/232k [00:00<?, ?B/s]"
      ]
     },
     "metadata": {},
     "output_type": "display_data"
    },
    {
     "data": {
      "application/vnd.jupyter.widget-view+json": {
       "model_id": "86b4778853f5411bbc62e282b95e9b7d",
       "version_major": 2,
       "version_minor": 0
      },
      "text/plain": [
       "tokenizer.json:   0%|          | 0.00/466k [00:00<?, ?B/s]"
      ]
     },
     "metadata": {},
     "output_type": "display_data"
    },
    {
     "data": {
      "application/vnd.jupyter.widget-view+json": {
       "model_id": "5003af9031b54f09b2a0c85225903ffa",
       "version_major": 2,
       "version_minor": 0
      },
      "text/plain": [
       "model.safetensors:   0%|          | 0.00/268M [00:00<?, ?B/s]"
      ]
     },
     "metadata": {},
     "output_type": "display_data"
    },
    {
     "name": "stderr",
     "output_type": "stream",
     "text": [
      "Some weights of DistilBertForSequenceClassification were not initialized from the model checkpoint at distilbert-base-uncased and are newly initialized: ['classifier.bias', 'classifier.weight', 'pre_classifier.bias', 'pre_classifier.weight']\n",
      "You should probably TRAIN this model on a down-stream task to be able to use it for predictions and inference.\n"
     ]
    }
   ],
   "source": [
    "# PLEASE CHOOSE THE BERT VARIANT MODEL\n",
    "\n",
    "# bert_model_name = \"bert-base-uncased\"\n",
    "# bert_model_name = \"roberta-base\"\n",
    "bert_model_name = \"distilbert-base-uncased\"\n",
    "# bert_model_name = \"albert-base-v2\"\n",
    "# bert_model_name = \"deberta-base\"\n",
    "\n",
    "from transformers import AutoTokenizer, AutoModelForSequenceClassification\n",
    "\n",
    "bert_temp_name = \"microsoft/deberta-base\" if bert_model_name == \"deberta-base\" else bert_model_name\n",
    "\n",
    "tokenizer = AutoTokenizer.from_pretrained(bert_temp_name)\n",
    "bert_classification_model = AutoModelForSequenceClassification.from_pretrained(\n",
    "    pretrained_model_name_or_path=bert_temp_name,\n",
    "    num_labels=2, # The number of output labels--2 for binary classification.\n",
    "                    # You can increase this for multi-class tasks.   \n",
    "    output_attentions=False, # Whether the model returns attentions weights.\n",
    "    output_hidden_states=False, # Whether the model returns all hidden-states.\n",
    ")\n",
    "\n",
    "bert_classification_model = bert_classification_model.to(device)"
   ]
  },
  {
   "cell_type": "markdown",
   "id": "3427ceca",
   "metadata": {
    "papermill": {
     "duration": 0.026473,
     "end_time": "2024-04-17T06:53:39.614564",
     "exception": false,
     "start_time": "2024-04-17T06:53:39.588091",
     "status": "completed"
    },
    "tags": []
   },
   "source": [
    "# Tokenizing\n",
    "To feed our text to BERT, it must be split into tokens, and then these tokens must be mapped to their index in the tokenizer vocabulary. "
   ]
  },
  {
   "cell_type": "code",
   "execution_count": 7,
   "id": "1336da56",
   "metadata": {
    "execution": {
     "iopub.execute_input": "2024-04-17T06:53:39.668169Z",
     "iopub.status.busy": "2024-04-17T06:53:39.667719Z",
     "iopub.status.idle": "2024-04-17T06:53:39.676105Z",
     "shell.execute_reply": "2024-04-17T06:53:39.675165Z"
    },
    "papermill": {
     "duration": 0.03731,
     "end_time": "2024-04-17T06:53:39.677982",
     "exception": false,
     "start_time": "2024-04-17T06:53:39.640672",
     "status": "completed"
    },
    "tags": []
   },
   "outputs": [
    {
     "name": "stdout",
     "output_type": "stream",
     "text": [
      "Original sentence:\n",
      " How is the life of a math student? Could you describe your own experiences?\n",
      "\n",
      "Tokenized by distilbert-base-uncased:\n",
      " ['how', 'is', 'the', 'life', 'of', 'a', 'math', 'student', '?', 'could', 'you', 'describe', 'your', 'own', 'experiences', '?']\n",
      "\n",
      "Token IDs by distilbert-base-uncased:\n",
      " [2129, 2003, 1996, 2166, 1997, 1037, 8785, 3076, 1029, 2071, 2017, 6235, 2115, 2219, 6322, 1029]\n"
     ]
    }
   ],
   "source": [
    "example_question = train_qqp['question1'][0]\n",
    "\n",
    "print(f\"Original sentence:\\n {example_question}\")\n",
    "\n",
    "example_tokens = tokenizer.tokenize(example_question)\n",
    "\n",
    "print(f\"\\nTokenized by {bert_model_name}:\\n {example_tokens}\")\n",
    "\n",
    "example_tokens_ID = tokenizer.convert_tokens_to_ids(example_tokens)\n",
    "print(f\"\\nToken IDs by {bert_model_name}:\\n {example_tokens_ID}\")"
   ]
  },
  {
   "cell_type": "markdown",
   "id": "c460f43c",
   "metadata": {
    "papermill": {
     "duration": 0.026415,
     "end_time": "2024-04-17T06:53:39.730409",
     "exception": false,
     "start_time": "2024-04-17T06:53:39.703994",
     "status": "completed"
    },
    "tags": []
   },
   "source": [
    "We can combine ``tokenize`` and ``convert_tokens_to_ids`` with the method ``encode``:"
   ]
  },
  {
   "cell_type": "code",
   "execution_count": 8,
   "id": "225378d1",
   "metadata": {
    "execution": {
     "iopub.execute_input": "2024-04-17T06:53:39.784755Z",
     "iopub.status.busy": "2024-04-17T06:53:39.784490Z",
     "iopub.status.idle": "2024-04-17T06:53:39.789330Z",
     "shell.execute_reply": "2024-04-17T06:53:39.788512Z"
    },
    "papermill": {
     "duration": 0.03448,
     "end_time": "2024-04-17T06:53:39.791574",
     "exception": false,
     "start_time": "2024-04-17T06:53:39.757094",
     "status": "completed"
    },
    "tags": []
   },
   "outputs": [
    {
     "name": "stdout",
     "output_type": "stream",
     "text": [
      "Original sentence:\n",
      " How is the life of a math student? Could you describe your own experiences?\n",
      "\n",
      "Token IDs by distilbert-base-uncased:\n",
      " [101, 2129, 2003, 1996, 2166, 1997, 1037, 8785, 3076, 1029, 2071, 2017, 6235, 2115, 2219, 6322, 1029, 102]\n"
     ]
    }
   ],
   "source": [
    "example_question = train_qqp['question1'][0]\n",
    "\n",
    "print(f\"Original sentence:\\n {example_question}\")\n",
    "\n",
    "example_tokens_ID = tokenizer.encode(example_question)\n",
    "\n",
    "print(f\"\\nToken IDs by {bert_model_name}:\\n {example_tokens_ID}\")"
   ]
  },
  {
   "cell_type": "markdown",
   "id": "e3b17c59",
   "metadata": {
    "papermill": {
     "duration": 0.02636,
     "end_time": "2024-04-17T06:53:39.844096",
     "exception": false,
     "start_time": "2024-04-17T06:53:39.817736",
     "status": "completed"
    },
    "tags": []
   },
   "source": [
    "We can see we got two extra tokens at the start and at the end compared to previous versions. Let's see what they are:"
   ]
  },
  {
   "cell_type": "code",
   "execution_count": 9,
   "id": "5755ec00",
   "metadata": {
    "execution": {
     "iopub.execute_input": "2024-04-17T06:53:39.899198Z",
     "iopub.status.busy": "2024-04-17T06:53:39.898507Z",
     "iopub.status.idle": "2024-04-17T06:53:49.342597Z",
     "shell.execute_reply": "2024-04-17T06:53:49.341652Z"
    },
    "papermill": {
     "duration": 9.473334,
     "end_time": "2024-04-17T06:53:49.344635",
     "exception": false,
     "start_time": "2024-04-17T06:53:39.871301",
     "status": "completed"
    },
    "tags": []
   },
   "outputs": [
    {
     "name": "stderr",
     "output_type": "stream",
     "text": [
      "2024-04-17 06:53:41.497927: E external/local_xla/xla/stream_executor/cuda/cuda_dnn.cc:9261] Unable to register cuDNN factory: Attempting to register factory for plugin cuDNN when one has already been registered\n",
      "2024-04-17 06:53:41.498056: E external/local_xla/xla/stream_executor/cuda/cuda_fft.cc:607] Unable to register cuFFT factory: Attempting to register factory for plugin cuFFT when one has already been registered\n",
      "2024-04-17 06:53:41.628512: E external/local_xla/xla/stream_executor/cuda/cuda_blas.cc:1515] Unable to register cuBLAS factory: Attempting to register factory for plugin cuBLAS when one has already been registered\n"
     ]
    },
    {
     "data": {
      "text/plain": [
       "'[CLS] how is the life of a math student? could you describe your own experiences? [SEP]'"
      ]
     },
     "execution_count": 9,
     "metadata": {},
     "output_type": "execute_result"
    }
   ],
   "source": [
    "tokenizer.decode(example_tokens_ID)"
   ]
  },
  {
   "cell_type": "markdown",
   "id": "dba8410a",
   "metadata": {
    "papermill": {
     "duration": 0.026078,
     "end_time": "2024-04-17T06:53:49.435590",
     "exception": false,
     "start_time": "2024-04-17T06:53:49.409512",
     "status": "completed"
    },
    "tags": []
   },
   "source": [
    "## Special Tokens\n",
    "``[SEP]`` - At the end of every sentence, we need to append the special ``[SEP]`` token.\n",
    "\n",
    "This token is an artifact of two-sentence tasks, where BERT is given two separate sentences and asked to determine something (remeber BERT was trained intially to perdict question-answering task).\n",
    "\n",
    "``[CLS]`` - For classification tasks, we must prepend the special ``[CLS]`` token to the beginning of every sentence.\n",
    "\n",
    "This token has special significance. BERT consists of 12 Transformer layers. Each transformer takes in a list of token embeddings, and produces the same number of embeddings on the output.\n",
    "\n",
    "So now let's see how to encode the two questions together:"
   ]
  },
  {
   "cell_type": "code",
   "execution_count": 10,
   "id": "bdbca073",
   "metadata": {
    "execution": {
     "iopub.execute_input": "2024-04-17T06:53:49.491135Z",
     "iopub.status.busy": "2024-04-17T06:53:49.490794Z",
     "iopub.status.idle": "2024-04-17T06:53:49.498568Z",
     "shell.execute_reply": "2024-04-17T06:53:49.497666Z"
    },
    "papermill": {
     "duration": 0.037451,
     "end_time": "2024-04-17T06:53:49.500496",
     "exception": false,
     "start_time": "2024-04-17T06:53:49.463045",
     "status": "completed"
    },
    "tags": []
   },
   "outputs": [
    {
     "data": {
      "text/plain": [
       "'[CLS] how is the life of a math student? could you describe your own experiences? [SEP] which level of prepration is enough for the exam jlpt5? [SEP]'"
      ]
     },
     "execution_count": 10,
     "metadata": {},
     "output_type": "execute_result"
    }
   ],
   "source": [
    "example_question_1 = train_qqp['question1'][0]\n",
    "example_question_2 = train_qqp['question2'][0]\n",
    "\n",
    "encoded_pair = tokenizer.encode(example_question_1, example_question_2)\n",
    "tokenizer.decode(encoded_pair)"
   ]
  },
  {
   "cell_type": "markdown",
   "id": "f219766e",
   "metadata": {
    "papermill": {
     "duration": 0.026263,
     "end_time": "2024-04-17T06:53:49.554564",
     "exception": false,
     "start_time": "2024-04-17T06:53:49.528301",
     "status": "completed"
    },
    "tags": []
   },
   "source": [
    "## Sentence Length\n",
    "\n",
    "The sentences in our dataset obviously have varying lengths, so how does BERT handle this?\n",
    "\n",
    "BERT has two constraints:\n",
    "\n",
    "1. All sentences must be padded or truncated to a single, fixed length.\n",
    "2. The maximum sentence length is 512 tokens.\n",
    "Padding is done with a special ``[PAD]`` token, which is at index 0 in the BERT vocabulary.\n",
    "\n",
    "The maximum length does impact training and evaluation speed.\n",
    "\n",
    "Before we are ready to encode our text, though, we need to decide on a maximum sentence length for padding / truncating to.\n",
    "\n",
    "Let's find the maximum length:"
   ]
  },
  {
   "cell_type": "code",
   "execution_count": 11,
   "id": "bf93fa2d",
   "metadata": {
    "execution": {
     "iopub.execute_input": "2024-04-17T06:53:49.609148Z",
     "iopub.status.busy": "2024-04-17T06:53:49.608895Z",
     "iopub.status.idle": "2024-04-17T06:53:53.251080Z",
     "shell.execute_reply": "2024-04-17T06:53:53.250060Z"
    },
    "papermill": {
     "duration": 3.671648,
     "end_time": "2024-04-17T06:53:53.253199",
     "exception": false,
     "start_time": "2024-04-17T06:53:49.581551",
     "status": "completed"
    },
    "tags": []
   },
   "outputs": [
    {
     "name": "stderr",
     "output_type": "stream",
     "text": [
      "100%|██████████| 20000/20000 [00:01<00:00, 11208.34it/s]\n",
      "100%|██████████| 20000/20000 [00:01<00:00, 10865.56it/s]"
     ]
    },
    {
     "name": "stdout",
     "output_type": "stream",
     "text": [
      "The maximum sentence length is  309\n"
     ]
    },
    {
     "name": "stderr",
     "output_type": "stream",
     "text": [
      "\n"
     ]
    }
   ],
   "source": [
    "tqdm.pandas()\n",
    "train_qqp[\"question1_length\"] = train_qqp[\"question1\"].progress_apply(lambda question: \n",
    "                                                        len(tokenizer.tokenize(question)))\n",
    "train_qqp[\"question2_length\"] = train_qqp[\"question2\"].progress_apply(lambda question: \n",
    "                                                        len(tokenizer.tokenize(question)))\n",
    "train_qqp[\"joint_length\"] = train_qqp[\"question1_length\"] + train_qqp[\"question2_length\"]\n",
    "\n",
    "MAX_LENGTH = train_qqp[\"joint_length\"].max()\n",
    "\n",
    "print(\"The maximum sentence length is \", MAX_LENGTH)"
   ]
  },
  {
   "cell_type": "markdown",
   "id": "9d3b3e5e",
   "metadata": {
    "papermill": {
     "duration": 0.030767,
     "end_time": "2024-04-17T06:53:53.314596",
     "exception": false,
     "start_time": "2024-04-17T06:53:53.283829",
     "status": "completed"
    },
    "tags": []
   },
   "source": [
    "### Now we construct the training, validation, testing dataset with known labels and testing dataset with unknown labels"
   ]
  },
  {
   "cell_type": "code",
   "execution_count": 12,
   "id": "0acda27b",
   "metadata": {
    "execution": {
     "iopub.execute_input": "2024-04-17T06:53:53.377304Z",
     "iopub.status.busy": "2024-04-17T06:53:53.376981Z",
     "iopub.status.idle": "2024-04-17T06:53:53.392522Z",
     "shell.execute_reply": "2024-04-17T06:53:53.391812Z"
    },
    "papermill": {
     "duration": 0.056248,
     "end_time": "2024-04-17T06:53:53.401784",
     "exception": false,
     "start_time": "2024-04-17T06:53:53.345536",
     "status": "completed"
    },
    "tags": []
   },
   "outputs": [],
   "source": [
    "X_train, X_test_known_labels, y_train, y_test_known_labels = train_test_split(train_qqp[[\"question1\", \"question2\"]], \n",
    "                                                    train_qqp[\"is_duplicate\"], test_size=0.2, random_state=42)\n",
    "X_val = dev_qqp[[\"question1\", \"question2\"]]\n",
    "y_val = dev_qqp[\"is_duplicate\"]\n",
    "\n",
    "X_test_unknown_labels = test_unknown_label_qqp[[\"question1\", \"question2\"]]"
   ]
  },
  {
   "cell_type": "markdown",
   "id": "11d5ed9a",
   "metadata": {
    "papermill": {
     "duration": 0.029983,
     "end_time": "2024-04-17T06:53:53.461562",
     "exception": false,
     "start_time": "2024-04-17T06:53:53.431579",
     "status": "completed"
    },
    "tags": []
   },
   "source": [
    "# Tokenize dataset and create Dataloader\n",
    "\n",
    "Now we’re ready to perform the real tokenization.\n",
    "\n",
    "The tokenizer.encode_plus function combines multiple steps for us:\n",
    "\n",
    "1. Split the sentence into tokens.\n",
    "2. Add the special ``[CLS]`` and ``[SEP]`` tokens.\n",
    "3. Map the tokens to their IDs.\n",
    "4. Pad or truncate all sentences to the same length.\n",
    "5. Create the attention masks which explicitly differentiate real tokens from ``[PAD]`` tokens.\n",
    "\n",
    "Documentation is [here](https://huggingface.co/transformers/main_classes/tokenizer.html?highlight=encode_plus#transformers.PreTrainedTokenizer.encode_plus)."
   ]
  },
  {
   "cell_type": "code",
   "execution_count": 13,
   "id": "55ca30c3",
   "metadata": {
    "execution": {
     "iopub.execute_input": "2024-04-17T06:53:53.523503Z",
     "iopub.status.busy": "2024-04-17T06:53:53.523216Z",
     "iopub.status.idle": "2024-04-17T06:53:53.536512Z",
     "shell.execute_reply": "2024-04-17T06:53:53.535642Z"
    },
    "papermill": {
     "duration": 0.045904,
     "end_time": "2024-04-17T06:53:53.538477",
     "exception": false,
     "start_time": "2024-04-17T06:53:53.492573",
     "status": "completed"
    },
    "tags": []
   },
   "outputs": [
    {
     "data": {
      "text/plain": [
       "{'input_ids': tensor([[  101,  2065,  8942,  2018,  4432,  1997,  5199,  1005,  1055,  8639,\n",
       "          2054,  2052,  2002,  2079,  1029,   102,  2129,  2003,  9152,  8586,\n",
       "         14925,  2063,  3416,  5670,  1029,   102,     0,     0,     0,     0,\n",
       "             0,     0,     0,     0,     0,     0,     0,     0,     0,     0,\n",
       "             0,     0,     0,     0,     0,     0,     0,     0,     0,     0,\n",
       "             0,     0,     0,     0,     0,     0,     0,     0,     0,     0,\n",
       "             0,     0,     0,     0,     0,     0,     0,     0,     0,     0,\n",
       "             0,     0,     0,     0,     0,     0,     0,     0,     0,     0,\n",
       "             0,     0,     0,     0,     0,     0,     0,     0,     0,     0,\n",
       "             0,     0,     0,     0,     0,     0,     0,     0,     0,     0,\n",
       "             0,     0,     0,     0,     0,     0,     0,     0,     0,     0,\n",
       "             0,     0,     0,     0,     0,     0,     0,     0,     0,     0,\n",
       "             0,     0,     0,     0,     0,     0,     0,     0,     0,     0,\n",
       "             0,     0,     0,     0,     0,     0,     0,     0,     0,     0,\n",
       "             0,     0,     0,     0,     0,     0,     0,     0,     0,     0,\n",
       "             0,     0,     0,     0,     0,     0,     0,     0,     0,     0,\n",
       "             0,     0,     0,     0,     0,     0,     0,     0,     0,     0,\n",
       "             0,     0,     0,     0,     0,     0,     0,     0,     0,     0,\n",
       "             0,     0,     0,     0,     0,     0,     0,     0,     0,     0,\n",
       "             0,     0,     0,     0,     0,     0,     0,     0,     0,     0,\n",
       "             0,     0,     0,     0,     0,     0,     0,     0,     0,     0,\n",
       "             0,     0,     0,     0,     0,     0,     0,     0,     0,     0,\n",
       "             0,     0,     0,     0,     0,     0,     0,     0,     0,     0,\n",
       "             0,     0,     0,     0,     0,     0,     0,     0,     0,     0,\n",
       "             0,     0,     0,     0,     0,     0,     0,     0,     0,     0,\n",
       "             0,     0,     0,     0,     0,     0,     0,     0,     0,     0,\n",
       "             0,     0,     0,     0,     0,     0,     0,     0,     0,     0,\n",
       "             0,     0,     0,     0,     0,     0,     0,     0,     0,     0,\n",
       "             0,     0,     0,     0,     0,     0,     0,     0,     0,     0,\n",
       "             0,     0,     0,     0,     0,     0,     0,     0,     0,     0,\n",
       "             0,     0,     0,     0,     0,     0,     0,     0,     0,     0,\n",
       "             0,     0,     0,     0,     0,     0,     0,     0,     0,     0,\n",
       "             0,     0,     0,     0,     0,     0,     0]]), 'attention_mask': tensor([[1, 1, 1, 1, 1, 1, 1, 1, 1, 1, 1, 1, 1, 1, 1, 1, 1, 1, 1, 1, 1, 1, 1, 1,\n",
       "         1, 1, 0, 0, 0, 0, 0, 0, 0, 0, 0, 0, 0, 0, 0, 0, 0, 0, 0, 0, 0, 0, 0, 0,\n",
       "         0, 0, 0, 0, 0, 0, 0, 0, 0, 0, 0, 0, 0, 0, 0, 0, 0, 0, 0, 0, 0, 0, 0, 0,\n",
       "         0, 0, 0, 0, 0, 0, 0, 0, 0, 0, 0, 0, 0, 0, 0, 0, 0, 0, 0, 0, 0, 0, 0, 0,\n",
       "         0, 0, 0, 0, 0, 0, 0, 0, 0, 0, 0, 0, 0, 0, 0, 0, 0, 0, 0, 0, 0, 0, 0, 0,\n",
       "         0, 0, 0, 0, 0, 0, 0, 0, 0, 0, 0, 0, 0, 0, 0, 0, 0, 0, 0, 0, 0, 0, 0, 0,\n",
       "         0, 0, 0, 0, 0, 0, 0, 0, 0, 0, 0, 0, 0, 0, 0, 0, 0, 0, 0, 0, 0, 0, 0, 0,\n",
       "         0, 0, 0, 0, 0, 0, 0, 0, 0, 0, 0, 0, 0, 0, 0, 0, 0, 0, 0, 0, 0, 0, 0, 0,\n",
       "         0, 0, 0, 0, 0, 0, 0, 0, 0, 0, 0, 0, 0, 0, 0, 0, 0, 0, 0, 0, 0, 0, 0, 0,\n",
       "         0, 0, 0, 0, 0, 0, 0, 0, 0, 0, 0, 0, 0, 0, 0, 0, 0, 0, 0, 0, 0, 0, 0, 0,\n",
       "         0, 0, 0, 0, 0, 0, 0, 0, 0, 0, 0, 0, 0, 0, 0, 0, 0, 0, 0, 0, 0, 0, 0, 0,\n",
       "         0, 0, 0, 0, 0, 0, 0, 0, 0, 0, 0, 0, 0, 0, 0, 0, 0, 0, 0, 0, 0, 0, 0, 0,\n",
       "         0, 0, 0, 0, 0, 0, 0, 0, 0, 0, 0, 0, 0, 0, 0, 0, 0, 0, 0, 0, 0, 0, 0, 0,\n",
       "         0, 0, 0, 0, 0, 0, 0, 0, 0, 0, 0, 0, 0, 0, 0]])}"
      ]
     },
     "execution_count": 13,
     "metadata": {},
     "output_type": "execute_result"
    }
   ],
   "source": [
    "MAX_LENGTH = 327\n",
    "\n",
    "tokenizer.encode_plus(X_train.iloc[0][\"question1\"], \n",
    "                      X_train.iloc[0][\"question2\"], \n",
    "                      max_length=MAX_LENGTH, \n",
    "                      padding='max_length', \n",
    "                      return_attention_mask=True, \n",
    "                      return_tensors='pt', \n",
    "                      truncation=True)"
   ]
  },
  {
   "cell_type": "markdown",
   "id": "0205bb5a",
   "metadata": {
    "papermill": {
     "duration": 0.029922,
     "end_time": "2024-04-17T06:53:53.598281",
     "exception": false,
     "start_time": "2024-04-17T06:53:53.568359",
     "status": "completed"
    },
    "tags": []
   },
   "source": [
    "So what we got:\n",
    "\n",
    "1. input_ids - Token ids padded with 0 at the end.\n",
    "2. token_type_ids - This array indicates bert what is the first sentence and what is the seconds. In case of classification of only one sentance this array is redundant.\n",
    "3. attention_mask - The “Attention Mask” is simply an array of 1s and 0s indicating which tokens are padding and which aren’t. This mask tells the “Self-Attention” mechanism in BERT not to incorporate these ``[PAD]`` tokens into its interpretation of the sentence.\n",
    "\n",
    "All the array are in the size of ``max_length``."
   ]
  },
  {
   "cell_type": "code",
   "execution_count": 14,
   "id": "f8b466f5",
   "metadata": {
    "execution": {
     "iopub.execute_input": "2024-04-17T06:53:53.659373Z",
     "iopub.status.busy": "2024-04-17T06:53:53.659096Z",
     "iopub.status.idle": "2024-04-17T06:53:53.669671Z",
     "shell.execute_reply": "2024-04-17T06:53:53.668852Z"
    },
    "papermill": {
     "duration": 0.043374,
     "end_time": "2024-04-17T06:53:53.671537",
     "exception": false,
     "start_time": "2024-04-17T06:53:53.628163",
     "status": "completed"
    },
    "tags": []
   },
   "outputs": [],
   "source": [
    "def convert_to_dataset_torch(features, labels):\n",
    "    input_ids = []\n",
    "    attention_masks = []\n",
    "    token_type_ids = []\n",
    "    for _, row in tqdm(features.iterrows(), total=features.shape[0]):\n",
    "        encoded_dict = tokenizer.encode_plus(row[\"question1\"], \n",
    "                                             row[\"question2\"], \n",
    "                                             padding='max_length', \n",
    "                                             return_attention_mask=True, \n",
    "                                             return_tensors='pt', \n",
    "                                             truncation=True)\n",
    "        # print(encoded_dict.keys())\n",
    "        \n",
    "        # Add the encoded sentences to the list.\n",
    "        input_ids.append(encoded_dict['input_ids'])\n",
    "        # And its attention mask (simply differentiates padding from non-padding).\n",
    "        attention_masks.append(encoded_dict['attention_mask'])\n",
    "        \n",
    "        if bert_model_name in [\"bert-base-uncased\", \"albert-base-v2\", \"deberta-base\"]:\n",
    "            token_type_ids.append(encoded_dict[\"token_type_ids\"])\n",
    "        \n",
    "    # Convert the lists into tensors.\n",
    "    if bert_model_name in [\"bert-base-uncased\", \"albert-base-v2\", \"deberta-base\"]:\n",
    "\n",
    "        input_ids = torch.cat(input_ids, dim=0)\n",
    "        token_type_ids = torch.cat(token_type_ids, dim=0)\n",
    "        attention_masks = torch.cat(attention_masks, dim=0)\n",
    "        labels = torch.tensor(labels.values)\n",
    "        \n",
    "        print(\"Shape of input_ids is\", input_ids.shape)\n",
    "        print(\"Shape of token_type_ids is\", token_type_ids.shape)\n",
    "        print(\"Shape of attention_masks is\", attention_masks.shape)\n",
    "        print(\"Shape of labels is\", labels.shape)\n",
    "        \n",
    "        return TensorDataset(input_ids, attention_masks, token_type_ids, labels)\n",
    "    \n",
    "    elif bert_model_name in [\"roberta-base\", \"distilbert-base-uncased\"]:\n",
    "        # roberta does not have token_type_ids\n",
    "        input_ids = torch.cat(input_ids, dim=0)\n",
    "        attention_masks = torch.cat(attention_masks, dim=0)\n",
    "        labels = torch.tensor(labels.values)\n",
    "        \n",
    "        print(\"Shape of input_ids is\", input_ids.shape)\n",
    "        print(\"Shape of attention_masks is\", attention_masks.shape)\n",
    "        print(\"Shape of labels is\", labels.shape)\n",
    "        \n",
    "        return TensorDataset(input_ids, attention_masks, labels)\n",
    "    "
   ]
  },
  {
   "cell_type": "markdown",
   "id": "94d6aac9",
   "metadata": {
    "papermill": {
     "duration": 0.030066,
     "end_time": "2024-04-17T06:53:53.731459",
     "exception": false,
     "start_time": "2024-04-17T06:53:53.701393",
     "status": "completed"
    },
    "tags": []
   },
   "source": [
    "We’ll also create an iterator for our dataset using the torch DataLoader class. This helps save on memory during training because, unlike a for loop, with an iterator the entire dataset does not need to be loaded into memory:"
   ]
  },
  {
   "cell_type": "code",
   "execution_count": 15,
   "id": "506653c4",
   "metadata": {
    "execution": {
     "iopub.execute_input": "2024-04-17T06:53:53.794070Z",
     "iopub.status.busy": "2024-04-17T06:53:53.793803Z",
     "iopub.status.idle": "2024-04-17T06:54:06.579231Z",
     "shell.execute_reply": "2024-04-17T06:54:06.578056Z"
    },
    "papermill": {
     "duration": 12.81828,
     "end_time": "2024-04-17T06:54:06.581350",
     "exception": false,
     "start_time": "2024-04-17T06:53:53.763070",
     "status": "completed"
    },
    "tags": []
   },
   "outputs": [
    {
     "name": "stderr",
     "output_type": "stream",
     "text": [
      "100%|██████████| 16000/16000 [00:12<00:00, 1267.30it/s]\n"
     ]
    },
    {
     "name": "stdout",
     "output_type": "stream",
     "text": [
      "Shape of input_ids is torch.Size([16000, 512])\n",
      "Shape of attention_masks is torch.Size([16000, 512])\n",
      "Shape of labels is torch.Size([16000])\n"
     ]
    }
   ],
   "source": [
    "train_tensor = convert_to_dataset_torch(X_train, y_train)"
   ]
  },
  {
   "cell_type": "code",
   "execution_count": 16,
   "id": "1f3284f8",
   "metadata": {
    "execution": {
     "iopub.execute_input": "2024-04-17T06:54:06.664045Z",
     "iopub.status.busy": "2024-04-17T06:54:06.663331Z",
     "iopub.status.idle": "2024-04-17T06:54:08.169829Z",
     "shell.execute_reply": "2024-04-17T06:54:08.168794Z"
    },
    "papermill": {
     "duration": 1.549816,
     "end_time": "2024-04-17T06:54:08.171903",
     "exception": false,
     "start_time": "2024-04-17T06:54:06.622087",
     "status": "completed"
    },
    "tags": []
   },
   "outputs": [
    {
     "name": "stderr",
     "output_type": "stream",
     "text": [
      "100%|██████████| 2000/2000 [00:01<00:00, 1340.79it/s]"
     ]
    },
    {
     "name": "stdout",
     "output_type": "stream",
     "text": [
      "Shape of input_ids is torch.Size([2000, 512])\n",
      "Shape of attention_masks is torch.Size([2000, 512])\n",
      "Shape of labels is torch.Size([2000])\n"
     ]
    },
    {
     "name": "stderr",
     "output_type": "stream",
     "text": [
      "\n"
     ]
    }
   ],
   "source": [
    "val_tensor = convert_to_dataset_torch(X_val, y_val)"
   ]
  },
  {
   "cell_type": "code",
   "execution_count": 17,
   "id": "db7b549b",
   "metadata": {
    "execution": {
     "iopub.execute_input": "2024-04-17T06:54:08.255776Z",
     "iopub.status.busy": "2024-04-17T06:54:08.255499Z",
     "iopub.status.idle": "2024-04-17T06:54:08.261967Z",
     "shell.execute_reply": "2024-04-17T06:54:08.260962Z"
    },
    "papermill": {
     "duration": 0.050477,
     "end_time": "2024-04-17T06:54:08.263920",
     "exception": false,
     "start_time": "2024-04-17T06:54:08.213443",
     "status": "completed"
    },
    "tags": []
   },
   "outputs": [],
   "source": [
    "import multiprocessing\n",
    "\n",
    "from torch.utils.data import DataLoader, RandomSampler, SequentialSampler\n",
    "\n",
    "# The DataLoader needs to know our batch size for training, so we specify it here.\n",
    "\n",
    "batch_size = 5\n",
    "\n",
    "core_number = multiprocessing.cpu_count()\n",
    "\n",
    "# Create the DataLoaders for our training and validation sets.\n",
    "# We'll take training samples in random order. \n",
    "train_dataloader = DataLoader(\n",
    "            train_tensor,  # The training samples.\n",
    "            sampler = RandomSampler(train_tensor), # Select batches randomly\n",
    "            batch_size = batch_size, # Trains with this batch size.\n",
    "            num_workers = core_number\n",
    "        )\n",
    "\n",
    "# For validation the order doesn't matter, so we'll just read them sequentially.\n",
    "val_dataloader = DataLoader(\n",
    "            val_tensor, # The validation samples.\n",
    "            sampler = SequentialSampler(val_tensor), # Pull out batches sequentially.\n",
    "            batch_size = batch_size, # Evaluate with this batch size.\n",
    "            num_workers = core_number\n",
    "        )"
   ]
  },
  {
   "cell_type": "markdown",
   "id": "26710013",
   "metadata": {
    "papermill": {
     "duration": 0.041559,
     "end_time": "2024-04-17T06:54:08.347086",
     "exception": false,
     "start_time": "2024-04-17T06:54:08.305527",
     "status": "completed"
    },
    "tags": []
   },
   "source": [
    "# Training Loop\n",
    "Helper function for formatting elapsed times as ``hh:mm:ss``:"
   ]
  },
  {
   "cell_type": "code",
   "execution_count": 18,
   "id": "402e1343",
   "metadata": {
    "execution": {
     "iopub.execute_input": "2024-04-17T06:54:08.431499Z",
     "iopub.status.busy": "2024-04-17T06:54:08.431222Z",
     "iopub.status.idle": "2024-04-17T06:54:08.436218Z",
     "shell.execute_reply": "2024-04-17T06:54:08.435372Z"
    },
    "papermill": {
     "duration": 0.048942,
     "end_time": "2024-04-17T06:54:08.438042",
     "exception": false,
     "start_time": "2024-04-17T06:54:08.389100",
     "status": "completed"
    },
    "tags": []
   },
   "outputs": [],
   "source": [
    "import time\n",
    "import datetime\n",
    "\n",
    "def format_time(elapsed):\n",
    "    '''\n",
    "    Takes a time in seconds and returns a string hh:mm:ss\n",
    "    '''\n",
    "    # Round to the nearest second.\n",
    "    elapsed_rounded = int(round((elapsed)))\n",
    "    \n",
    "    # Format as hh:mm:ss\n",
    "    return str(datetime.timedelta(seconds=elapsed_rounded))"
   ]
  },
  {
   "cell_type": "markdown",
   "id": "3bd164c4",
   "metadata": {
    "papermill": {
     "duration": 0.040872,
     "end_time": "2024-04-17T06:54:08.520037",
     "exception": false,
     "start_time": "2024-04-17T06:54:08.479165",
     "status": "completed"
    },
    "tags": []
   },
   "source": [
    "### This function trains the batches from the train_dataloader"
   ]
  },
  {
   "cell_type": "code",
   "execution_count": 19,
   "id": "de9b6672",
   "metadata": {
    "execution": {
     "iopub.execute_input": "2024-04-17T06:54:08.604520Z",
     "iopub.status.busy": "2024-04-17T06:54:08.604245Z",
     "iopub.status.idle": "2024-04-17T06:54:08.614570Z",
     "shell.execute_reply": "2024-04-17T06:54:08.613742Z"
    },
    "papermill": {
     "duration": 0.054171,
     "end_time": "2024-04-17T06:54:08.616495",
     "exception": false,
     "start_time": "2024-04-17T06:54:08.562324",
     "status": "completed"
    },
    "tags": []
   },
   "outputs": [],
   "source": [
    "def train_batch(epoch, bert_classification_model, train_dataloader, optimizer, scheduler, metric):\n",
    "    \n",
    "    total_train_loss = 0\n",
    "    total_train_accuracy = 0\n",
    "    \n",
    "    for batch in tqdm(train_dataloader, desc=f\"Training epoch: {epoch}\", unit=\"batch\"):\n",
    "        \n",
    "        if bert_model_name in [\"bert-base-uncased\", \"albert-base-v2\", \"deberta-base\"]:\n",
    "\n",
    "            # Unpack batch from dataloader.\n",
    "            input_ids = batch[0].to(device)\n",
    "            attention_masks = batch[1].to(device)\n",
    "            token_type_ids = batch[2].to(device)\n",
    "            labels = batch[3].to(device)\n",
    "            \n",
    "            bert_classification_model.zero_grad()\n",
    "            \n",
    "            # Forward pass\n",
    "            outputs = bert_classification_model(input_ids, \n",
    "                                token_type_ids=token_type_ids, \n",
    "                                attention_mask=attention_masks, \n",
    "                                labels=labels)\n",
    "            \n",
    "        elif bert_model_name in [\"roberta-base\", \"distilbert-base-uncased\"]:\n",
    "            # Unpack batch from dataloader.\n",
    "            input_ids = batch[0].to(device)\n",
    "            attention_masks = batch[1].to(device)\n",
    "            labels = batch[2].to(device)\n",
    "            \n",
    "            bert_classification_model.zero_grad()\n",
    "            \n",
    "            # Forward pass\n",
    "            outputs = bert_classification_model(input_ids, \n",
    "                                attention_mask=attention_masks, \n",
    "                                labels=labels)\n",
    "            \n",
    "        loss = outputs.loss\n",
    "        logits = outputs.logits\n",
    "\n",
    "        total_train_loss += loss.item()\n",
    "\n",
    "        # Perform a backward pass to calculate the gradients.\n",
    "        loss.backward()\n",
    "\n",
    "        # Clip the norm of the gradients to 1.0.\n",
    "        # This is to help prevent the \"exploding gradients\" problem.\n",
    "        torch.nn.utils.clip_grad_norm_(bert_classification_model.parameters(), 1.0)\n",
    "        optimizer.step()\n",
    "        scheduler.step()\n",
    "        \n",
    "        y_pred = np.argmax(logits.cpu().detach().numpy(), axis=1).flatten()\n",
    "        \n",
    "        total_train_accuracy += metric(labels.cpu(), y_pred)\n",
    "\n",
    "    return total_train_loss, total_train_accuracy"
   ]
  },
  {
   "cell_type": "markdown",
   "id": "5b5d639a",
   "metadata": {
    "papermill": {
     "duration": 0.04082,
     "end_time": "2024-04-17T06:54:08.698259",
     "exception": false,
     "start_time": "2024-04-17T06:54:08.657439",
     "status": "completed"
    },
    "tags": []
   },
   "source": [
    "### This function validates the batches from the val_dataloader"
   ]
  },
  {
   "cell_type": "code",
   "execution_count": 20,
   "id": "1d610c22",
   "metadata": {
    "execution": {
     "iopub.execute_input": "2024-04-17T06:54:08.784386Z",
     "iopub.status.busy": "2024-04-17T06:54:08.784107Z",
     "iopub.status.idle": "2024-04-17T06:54:08.794165Z",
     "shell.execute_reply": "2024-04-17T06:54:08.793371Z"
    },
    "papermill": {
     "duration": 0.055416,
     "end_time": "2024-04-17T06:54:08.796059",
     "exception": false,
     "start_time": "2024-04-17T06:54:08.740643",
     "status": "completed"
    },
    "tags": []
   },
   "outputs": [],
   "source": [
    "def val_batch(epoch, bert_classification_model, val_dataloader, metric):\n",
    "    total_val_loss = 0\n",
    "    total_val_accuracy = 0\n",
    "    predicted_logits , predicted_labels = [], []\n",
    "    \n",
    "    for batch in tqdm(val_dataloader, desc=f\"Validating epoch: {epoch}\", unit=\"batch\"):\n",
    "        # Unpack batch from dataloader.\n",
    "        \n",
    "        if bert_model_name in [\"bert-base-uncased\", \"albert-base-v2\", \"deberta-base\"]:\n",
    "            input_ids = batch[0].to(device)\n",
    "            attention_masks = batch[1].to(device)\n",
    "            token_type_ids = batch[2].to(device)\n",
    "            labels = batch[3].to(device)\n",
    "\n",
    "            with torch.no_grad():\n",
    "                # Forward pass, calculate logit predictions.\n",
    "                outputs = bert_classification_model(input_ids, \n",
    "                                    token_type_ids=token_type_ids, \n",
    "                                    attention_mask=attention_masks,\n",
    "                                    labels=labels)\n",
    "                loss = outputs.loss\n",
    "                logits = outputs.logits\n",
    "                \n",
    "        elif bert_model_name in [\"roberta-base\", \"distilbert-base-uncased\"]:\n",
    "            input_ids = batch[0].to(device)\n",
    "            attention_masks = batch[1].to(device)\n",
    "            labels = batch[2].to(device)\n",
    "\n",
    "            with torch.no_grad():\n",
    "                # Forward pass, calculate logit predictions.\n",
    "                outputs = bert_classification_model(input_ids, \n",
    "                                    attention_mask=attention_masks,\n",
    "                                    labels=labels)\n",
    "                loss = outputs.loss\n",
    "                logits = outputs.logits\n",
    "            \n",
    "        total_val_loss += loss.item()\n",
    "        \n",
    "        y_pred = np.argmax(logits.cpu().detach().numpy(), axis=1).flatten()\n",
    "        \n",
    "        total_val_accuracy += metric(labels.cpu(), y_pred)\n",
    "        \n",
    "        predicted_logits.extend(logits.cpu().detach().numpy().tolist())\n",
    "        predicted_labels.extend(y_pred.tolist())\n",
    "    \n",
    "    return total_val_loss, total_val_accuracy, predicted_logits, predicted_labels"
   ]
  },
  {
   "cell_type": "markdown",
   "id": "a1d100d4",
   "metadata": {
    "papermill": {
     "duration": 0.041258,
     "end_time": "2024-04-17T06:54:08.878921",
     "exception": false,
     "start_time": "2024-04-17T06:54:08.837663",
     "status": "completed"
    },
    "tags": []
   },
   "source": [
    "### This function predicts the classes of the batches from the test_dataloader. Now the test_dataloader only contains X_test without y_test (which is None)"
   ]
  },
  {
   "cell_type": "code",
   "execution_count": 21,
   "id": "60579153",
   "metadata": {
    "execution": {
     "iopub.execute_input": "2024-04-17T06:54:08.962269Z",
     "iopub.status.busy": "2024-04-17T06:54:08.961965Z",
     "iopub.status.idle": "2024-04-17T06:54:08.970640Z",
     "shell.execute_reply": "2024-04-17T06:54:08.969891Z"
    },
    "papermill": {
     "duration": 0.05213,
     "end_time": "2024-04-17T06:54:08.972428",
     "exception": false,
     "start_time": "2024-04-17T06:54:08.920298",
     "status": "completed"
    },
    "tags": []
   },
   "outputs": [],
   "source": [
    "def predict_batch(bert_classification_model, predict_dataloader):\n",
    "    \n",
    "    predicted_logits , predicted_labels = [], []\n",
    "    \n",
    "    for batch in tqdm(predict_dataloader, desc=f\"Predicting\", unit=\"batch\"):\n",
    "        # Unpack batch from dataloader.\n",
    "        \n",
    "        if bert_model_name in [\"bert-base-uncased\", \"albert-base-v2\", \"deberta-base\"]:\n",
    "            input_ids = batch[0].to(device)\n",
    "            attention_masks = batch[1].to(device)\n",
    "            token_type_ids = batch[2].to(device)\n",
    "\n",
    "            with torch.no_grad():\n",
    "                # Forward pass, calculate logit predictions.\n",
    "                outputs = bert_classification_model(input_ids, \n",
    "                                    token_type_ids=token_type_ids, \n",
    "                                    attention_mask=attention_masks)\n",
    "                logits = outputs.logits\n",
    "                \n",
    "        elif bert_model_name in [\"roberta-base\", \"distilbert-base-uncased\"]:\n",
    "            input_ids = batch[0].to(device)\n",
    "            attention_masks = batch[1].to(device)\n",
    "\n",
    "            with torch.no_grad():\n",
    "                # Forward pass, calculate logit predictions.\n",
    "                outputs = bert_classification_model(input_ids, \n",
    "                                    attention_mask=attention_masks)\n",
    "                logits = outputs.logits\n",
    "            \n",
    "        y_pred = np.argmax(logits.cpu().detach().numpy(), axis=1).flatten()\n",
    "                \n",
    "        predicted_logits.extend(logits.cpu().detach().numpy().tolist())\n",
    "        predicted_labels.extend(y_pred.tolist())\n",
    "    \n",
    "    return predicted_logits, predicted_labels"
   ]
  },
  {
   "cell_type": "code",
   "execution_count": 22,
   "id": "cc20052f",
   "metadata": {
    "execution": {
     "iopub.execute_input": "2024-04-17T06:54:09.055213Z",
     "iopub.status.busy": "2024-04-17T06:54:09.054940Z",
     "iopub.status.idle": "2024-04-17T06:54:09.074922Z",
     "shell.execute_reply": "2024-04-17T06:54:09.074116Z"
    },
    "papermill": {
     "duration": 0.06339,
     "end_time": "2024-04-17T06:54:09.076687",
     "exception": false,
     "start_time": "2024-04-17T06:54:09.013297",
     "status": "completed"
    },
    "tags": []
   },
   "outputs": [],
   "source": [
    "import random\n",
    "\n",
    "seed_val = 42\n",
    "\n",
    "random.seed(seed_val)\n",
    "np.random.seed(seed_val)\n",
    "torch.manual_seed(seed_val)\n",
    "\n",
    "def fine_tuning_pretrained_model(epochs, bert_classification_model, \n",
    "                                 train_dataloader, \n",
    "                                 val_dataloader, \n",
    "                                 optimizer, \n",
    "                                 scheduler,\n",
    "                                 metric\n",
    "                                 ):\n",
    "    \n",
    "    fine_tuning_statistics = []\n",
    "    \n",
    "    for epoch in range(1, epochs + 1):\n",
    "\n",
    "        #################\n",
    "        # TRAINING PART #\n",
    "        #################\n",
    "\n",
    "        t_begin_train = time.time()\n",
    "        \n",
    "        bert_classification_model.train()\n",
    "        \n",
    "        total_train_loss, total_train_accuracy = train_batch(epoch,\n",
    "                                       bert_classification_model,\n",
    "                                       train_dataloader,\n",
    "                                       optimizer,\n",
    "                                       scheduler,\n",
    "                                       metric\n",
    "                                       )\n",
    "        \n",
    "        # Calculate the average training loss for all batches.\n",
    "        average_train_loss = total_train_loss / len(train_dataloader)\n",
    "        print(f\"  Average training loss: {average_train_loss}\")\n",
    "\n",
    "        # Calculate the average training accuracy for all batches.\n",
    "        average_train_accuracy = total_train_accuracy / len(train_dataloader)\n",
    "        print(f\"  Average training accuracy: {average_train_accuracy}\")\n",
    "        \n",
    "        t_end_train = time.time()\n",
    "\n",
    "        training_time = format_time(t_end_train - t_begin_train)\n",
    "        print(f\"  Training time took: {training_time}\")\n",
    "        \n",
    "        ###################\n",
    "        # VALIDATING PART #\n",
    "        ###################\n",
    "\n",
    "        t_begin_val = time.time()\n",
    "        \n",
    "        bert_classification_model.eval()\n",
    "        \n",
    "        total_val_loss, total_val_accuracy,\\\n",
    "        predicted_logits, predicted_labels = val_batch(epoch, \n",
    "                                                        bert_classification_model,\n",
    "                                                        val_dataloader,\n",
    "                                                        metric)\n",
    "        \n",
    "        # Calculate the average validation loss for all batches.\n",
    "        average_val_loss = total_val_loss / len(val_dataloader)\n",
    "        print(f\"  Average validation loss: {average_val_loss}\")\n",
    "\n",
    "        # Calculate the average validation accuracy for all batches.\n",
    "        average_val_accuracy = total_val_accuracy / len(val_dataloader)\n",
    "        print(f\"  Average validation accuracy: {average_val_accuracy}\")\n",
    "    \n",
    "        t_end_val = time.time()\n",
    "\n",
    "        validation_time = format_time(t_end_val - t_begin_val)\n",
    "        print(f\"  Validation time took: {validation_time}\")\n",
    "    \n",
    "        # Record all statistics from this epoch.\n",
    "        fine_tuning_statistics.append(\n",
    "            {\n",
    "                'epoch': epoch,\n",
    "                'train_loss': average_train_loss,\n",
    "                'train_accuracy': average_train_accuracy,\n",
    "                'train_time': training_time,\n",
    "                'val_loss': average_val_loss,\n",
    "                'val_accuracy': average_val_accuracy,\n",
    "                'val_time': validation_time\n",
    "            }\n",
    "        )\n",
    "        \n",
    "\n",
    "    print(\"\")\n",
    "    print(\"Training complete!\")\n",
    "\n",
    "    return fine_tuning_statistics"
   ]
  },
  {
   "cell_type": "markdown",
   "id": "9d6970fc",
   "metadata": {
    "papermill": {
     "duration": 0.041053,
     "end_time": "2024-04-17T06:54:09.158750",
     "exception": false,
     "start_time": "2024-04-17T06:54:09.117697",
     "status": "completed"
    },
    "tags": []
   },
   "source": [
    "# Optimizer & Learning Rate Scheduler\n",
    "Now that we have our model loaded we need to grab the training hyperparameters from within the stored model.\n",
    "\n",
    "For the purposes of fine-tuning, the authors recommend choosing from the following values (from Appendix A.3 of the [BERT paper](https://arxiv.org/pdf/1810.04805.pdf)):\n",
    "\n",
    "* Batch size: 16, 32\n",
    "* Learning rate (Adam): 5e-5, 3e-5, 2e-5\n",
    "* Number of epochs: 2, 3, 4\n",
    "\n",
    "I chose:\n",
    "* Batch size: 10 (due to memory limit of Kaggle)\n",
    "* Learning rate: 2e-5\n",
    "* Number of epochs: 4\n",
    "\n",
    "We’re ready to kick off the training:"
   ]
  },
  {
   "cell_type": "code",
   "execution_count": 23,
   "id": "698b61e6",
   "metadata": {
    "execution": {
     "iopub.execute_input": "2024-04-17T06:54:09.242367Z",
     "iopub.status.busy": "2024-04-17T06:54:09.242068Z",
     "iopub.status.idle": "2024-04-17T07:48:26.143292Z",
     "shell.execute_reply": "2024-04-17T07:48:26.142234Z"
    },
    "papermill": {
     "duration": 3257.214457,
     "end_time": "2024-04-17T07:48:26.414470",
     "exception": false,
     "start_time": "2024-04-17T06:54:09.200013",
     "status": "completed"
    },
    "tags": []
   },
   "outputs": [
    {
     "name": "stderr",
     "output_type": "stream",
     "text": [
      "Training epoch: 1:   0%|          | 0/3200 [00:00<?, ?batch/s]huggingface/tokenizers: The current process just got forked, after parallelism has already been used. Disabling parallelism to avoid deadlocks...\n",
      "To disable this warning, you can either:\n",
      "\t- Avoid using `tokenizers` before the fork if possible\n",
      "\t- Explicitly set the environment variable TOKENIZERS_PARALLELISM=(true | false)\n",
      "huggingface/tokenizers: The current process just got forked, after parallelism has already been used. Disabling parallelism to avoid deadlocks...\n",
      "To disable this warning, you can either:\n",
      "\t- Avoid using `tokenizers` before the fork if possible\n",
      "\t- Explicitly set the environment variable TOKENIZERS_PARALLELISM=(true | false)\n",
      "huggingface/tokenizers: The current process just got forked, after parallelism has already been used. Disabling parallelism to avoid deadlocks...\n",
      "To disable this warning, you can either:\n",
      "\t- Avoid using `tokenizers` before the fork if possible\n",
      "\t- Explicitly set the environment variable TOKENIZERS_PARALLELISM=(true | false)\n",
      "huggingface/tokenizers: The current process just got forked, after parallelism has already been used. Disabling parallelism to avoid deadlocks...\n",
      "To disable this warning, you can either:\n",
      "\t- Avoid using `tokenizers` before the fork if possible\n",
      "\t- Explicitly set the environment variable TOKENIZERS_PARALLELISM=(true | false)\n",
      "Training epoch: 1: 100%|██████████| 3200/3200 [13:02<00:00,  4.09batch/s]\n"
     ]
    },
    {
     "name": "stdout",
     "output_type": "stream",
     "text": [
      "  Average training loss: 0.5047639351598627\n",
      "  Average training accuracy: 0.7714999999999954\n",
      "  Training time took: 0:13:03\n"
     ]
    },
    {
     "name": "stderr",
     "output_type": "stream",
     "text": [
      "Validating epoch: 1:   0%|          | 0/400 [00:00<?, ?batch/s]huggingface/tokenizers: The current process just got forked, after parallelism has already been used. Disabling parallelism to avoid deadlocks...\n",
      "To disable this warning, you can either:\n",
      "\t- Avoid using `tokenizers` before the fork if possible\n",
      "\t- Explicitly set the environment variable TOKENIZERS_PARALLELISM=(true | false)\n",
      "huggingface/tokenizers: The current process just got forked, after parallelism has already been used. Disabling parallelism to avoid deadlocks...\n",
      "To disable this warning, you can either:\n",
      "\t- Avoid using `tokenizers` before the fork if possible\n",
      "\t- Explicitly set the environment variable TOKENIZERS_PARALLELISM=(true | false)\n",
      "huggingface/tokenizers: The current process just got forked, after parallelism has already been used. Disabling parallelism to avoid deadlocks...\n",
      "To disable this warning, you can either:\n",
      "\t- Avoid using `tokenizers` before the fork if possible\n",
      "\t- Explicitly set the environment variable TOKENIZERS_PARALLELISM=(true | false)\n",
      "huggingface/tokenizers: The current process just got forked, after parallelism has already been used. Disabling parallelism to avoid deadlocks...\n",
      "To disable this warning, you can either:\n",
      "\t- Avoid using `tokenizers` before the fork if possible\n",
      "\t- Explicitly set the environment variable TOKENIZERS_PARALLELISM=(true | false)\n",
      "Validating epoch: 1: 100%|██████████| 400/400 [00:32<00:00, 12.42batch/s]\n"
     ]
    },
    {
     "name": "stdout",
     "output_type": "stream",
     "text": [
      "  Average validation loss: 0.4293914548750035\n",
      "  Average validation accuracy: 0.817500000000003\n",
      "  Validation time took: 0:00:32\n"
     ]
    },
    {
     "name": "stderr",
     "output_type": "stream",
     "text": [
      "Training epoch: 2:   0%|          | 0/3200 [00:00<?, ?batch/s]huggingface/tokenizers: The current process just got forked, after parallelism has already been used. Disabling parallelism to avoid deadlocks...\n",
      "To disable this warning, you can either:\n",
      "\t- Avoid using `tokenizers` before the fork if possible\n",
      "\t- Explicitly set the environment variable TOKENIZERS_PARALLELISM=(true | false)\n",
      "huggingface/tokenizers: The current process just got forked, after parallelism has already been used. Disabling parallelism to avoid deadlocks...\n",
      "To disable this warning, you can either:\n",
      "\t- Avoid using `tokenizers` before the fork if possible\n",
      "\t- Explicitly set the environment variable TOKENIZERS_PARALLELISM=(true | false)\n",
      "huggingface/tokenizers: The current process just got forked, after parallelism has already been used. Disabling parallelism to avoid deadlocks...\n",
      "To disable this warning, you can either:\n",
      "\t- Avoid using `tokenizers` before the fork if possible\n",
      "\t- Explicitly set the environment variable TOKENIZERS_PARALLELISM=(true | false)\n",
      "huggingface/tokenizers: The current process just got forked, after parallelism has already been used. Disabling parallelism to avoid deadlocks...\n",
      "To disable this warning, you can either:\n",
      "\t- Avoid using `tokenizers` before the fork if possible\n",
      "\t- Explicitly set the environment variable TOKENIZERS_PARALLELISM=(true | false)\n",
      "Training epoch: 2: 100%|██████████| 3200/3200 [13:02<00:00,  4.09batch/s]\n"
     ]
    },
    {
     "name": "stdout",
     "output_type": "stream",
     "text": [
      "  Average training loss: 0.39483256379728116\n",
      "  Average training accuracy: 0.8705625000000029\n",
      "  Training time took: 0:13:02\n"
     ]
    },
    {
     "name": "stderr",
     "output_type": "stream",
     "text": [
      "Validating epoch: 2:   0%|          | 0/400 [00:00<?, ?batch/s]huggingface/tokenizers: The current process just got forked, after parallelism has already been used. Disabling parallelism to avoid deadlocks...\n",
      "To disable this warning, you can either:\n",
      "\t- Avoid using `tokenizers` before the fork if possible\n",
      "\t- Explicitly set the environment variable TOKENIZERS_PARALLELISM=(true | false)\n",
      "huggingface/tokenizers: The current process just got forked, after parallelism has already been used. Disabling parallelism to avoid deadlocks...\n",
      "To disable this warning, you can either:\n",
      "\t- Avoid using `tokenizers` before the fork if possible\n",
      "\t- Explicitly set the environment variable TOKENIZERS_PARALLELISM=(true | false)\n",
      "huggingface/tokenizers: The current process just got forked, after parallelism has already been used. Disabling parallelism to avoid deadlocks...\n",
      "To disable this warning, you can either:\n",
      "\t- Avoid using `tokenizers` before the fork if possible\n",
      "\t- Explicitly set the environment variable TOKENIZERS_PARALLELISM=(true | false)\n",
      "huggingface/tokenizers: The current process just got forked, after parallelism has already been used. Disabling parallelism to avoid deadlocks...\n",
      "To disable this warning, you can either:\n",
      "\t- Avoid using `tokenizers` before the fork if possible\n",
      "\t- Explicitly set the environment variable TOKENIZERS_PARALLELISM=(true | false)\n",
      "Validating epoch: 2: 100%|██████████| 400/400 [00:32<00:00, 12.41batch/s]\n"
     ]
    },
    {
     "name": "stdout",
     "output_type": "stream",
     "text": [
      "  Average validation loss: 0.5603382132429396\n",
      "  Average validation accuracy: 0.8295000000000023\n",
      "  Validation time took: 0:00:32\n"
     ]
    },
    {
     "name": "stderr",
     "output_type": "stream",
     "text": [
      "Training epoch: 3:   0%|          | 0/3200 [00:00<?, ?batch/s]huggingface/tokenizers: The current process just got forked, after parallelism has already been used. Disabling parallelism to avoid deadlocks...\n",
      "To disable this warning, you can either:\n",
      "\t- Avoid using `tokenizers` before the fork if possible\n",
      "\t- Explicitly set the environment variable TOKENIZERS_PARALLELISM=(true | false)\n",
      "huggingface/tokenizers: The current process just got forked, after parallelism has already been used. Disabling parallelism to avoid deadlocks...\n",
      "To disable this warning, you can either:\n",
      "\t- Avoid using `tokenizers` before the fork if possible\n",
      "\t- Explicitly set the environment variable TOKENIZERS_PARALLELISM=(true | false)\n",
      "huggingface/tokenizers: The current process just got forked, after parallelism has already been used. Disabling parallelism to avoid deadlocks...\n",
      "To disable this warning, you can either:\n",
      "\t- Avoid using `tokenizers` before the fork if possible\n",
      "\t- Explicitly set the environment variable TOKENIZERS_PARALLELISM=(true | false)\n",
      "huggingface/tokenizers: The current process just got forked, after parallelism has already been used. Disabling parallelism to avoid deadlocks...\n",
      "To disable this warning, you can either:\n",
      "\t- Avoid using `tokenizers` before the fork if possible\n",
      "\t- Explicitly set the environment variable TOKENIZERS_PARALLELISM=(true | false)\n",
      "Training epoch: 3: 100%|██████████| 3200/3200 [13:01<00:00,  4.09batch/s]\n"
     ]
    },
    {
     "name": "stdout",
     "output_type": "stream",
     "text": [
      "  Average training loss: 0.2570289524862892\n",
      "  Average training accuracy: 0.9331250000000081\n",
      "  Training time took: 0:13:01\n"
     ]
    },
    {
     "name": "stderr",
     "output_type": "stream",
     "text": [
      "Validating epoch: 3:   0%|          | 0/400 [00:00<?, ?batch/s]huggingface/tokenizers: The current process just got forked, after parallelism has already been used. Disabling parallelism to avoid deadlocks...\n",
      "To disable this warning, you can either:\n",
      "\t- Avoid using `tokenizers` before the fork if possible\n",
      "\t- Explicitly set the environment variable TOKENIZERS_PARALLELISM=(true | false)\n",
      "huggingface/tokenizers: The current process just got forked, after parallelism has already been used. Disabling parallelism to avoid deadlocks...\n",
      "To disable this warning, you can either:\n",
      "\t- Avoid using `tokenizers` before the fork if possible\n",
      "\t- Explicitly set the environment variable TOKENIZERS_PARALLELISM=(true | false)\n",
      "huggingface/tokenizers: The current process just got forked, after parallelism has already been used. Disabling parallelism to avoid deadlocks...\n",
      "To disable this warning, you can either:\n",
      "\t- Avoid using `tokenizers` before the fork if possible\n",
      "\t- Explicitly set the environment variable TOKENIZERS_PARALLELISM=(true | false)\n",
      "huggingface/tokenizers: The current process just got forked, after parallelism has already been used. Disabling parallelism to avoid deadlocks...\n",
      "To disable this warning, you can either:\n",
      "\t- Avoid using `tokenizers` before the fork if possible\n",
      "\t- Explicitly set the environment variable TOKENIZERS_PARALLELISM=(true | false)\n",
      "Validating epoch: 3: 100%|██████████| 400/400 [00:32<00:00, 12.44batch/s]\n"
     ]
    },
    {
     "name": "stdout",
     "output_type": "stream",
     "text": [
      "  Average validation loss: 0.7891899676123285\n",
      "  Average validation accuracy: 0.8290000000000023\n",
      "  Validation time took: 0:00:32\n"
     ]
    },
    {
     "name": "stderr",
     "output_type": "stream",
     "text": [
      "Training epoch: 4:   0%|          | 0/3200 [00:00<?, ?batch/s]huggingface/tokenizers: The current process just got forked, after parallelism has already been used. Disabling parallelism to avoid deadlocks...\n",
      "To disable this warning, you can either:\n",
      "\t- Avoid using `tokenizers` before the fork if possible\n",
      "\t- Explicitly set the environment variable TOKENIZERS_PARALLELISM=(true | false)\n",
      "huggingface/tokenizers: The current process just got forked, after parallelism has already been used. Disabling parallelism to avoid deadlocks...\n",
      "To disable this warning, you can either:\n",
      "\t- Avoid using `tokenizers` before the fork if possible\n",
      "\t- Explicitly set the environment variable TOKENIZERS_PARALLELISM=(true | false)\n",
      "huggingface/tokenizers: The current process just got forked, after parallelism has already been used. Disabling parallelism to avoid deadlocks...\n",
      "To disable this warning, you can either:\n",
      "\t- Avoid using `tokenizers` before the fork if possible\n",
      "\t- Explicitly set the environment variable TOKENIZERS_PARALLELISM=(true | false)\n",
      "huggingface/tokenizers: The current process just got forked, after parallelism has already been used. Disabling parallelism to avoid deadlocks...\n",
      "To disable this warning, you can either:\n",
      "\t- Avoid using `tokenizers` before the fork if possible\n",
      "\t- Explicitly set the environment variable TOKENIZERS_PARALLELISM=(true | false)\n",
      "Training epoch: 4: 100%|██████████| 3200/3200 [13:01<00:00,  4.09batch/s]\n"
     ]
    },
    {
     "name": "stdout",
     "output_type": "stream",
     "text": [
      "  Average training loss: 0.1593526555130279\n",
      "  Average training accuracy: 0.9638125000000065\n",
      "  Training time took: 0:13:01\n"
     ]
    },
    {
     "name": "stderr",
     "output_type": "stream",
     "text": [
      "Validating epoch: 4:   0%|          | 0/400 [00:00<?, ?batch/s]huggingface/tokenizers: The current process just got forked, after parallelism has already been used. Disabling parallelism to avoid deadlocks...\n",
      "To disable this warning, you can either:\n",
      "\t- Avoid using `tokenizers` before the fork if possible\n",
      "\t- Explicitly set the environment variable TOKENIZERS_PARALLELISM=(true | false)\n",
      "huggingface/tokenizers: The current process just got forked, after parallelism has already been used. Disabling parallelism to avoid deadlocks...\n",
      "To disable this warning, you can either:\n",
      "\t- Avoid using `tokenizers` before the fork if possible\n",
      "\t- Explicitly set the environment variable TOKENIZERS_PARALLELISM=(true | false)\n",
      "huggingface/tokenizers: The current process just got forked, after parallelism has already been used. Disabling parallelism to avoid deadlocks...\n",
      "To disable this warning, you can either:\n",
      "\t- Avoid using `tokenizers` before the fork if possible\n",
      "\t- Explicitly set the environment variable TOKENIZERS_PARALLELISM=(true | false)\n",
      "huggingface/tokenizers: The current process just got forked, after parallelism has already been used. Disabling parallelism to avoid deadlocks...\n",
      "To disable this warning, you can either:\n",
      "\t- Avoid using `tokenizers` before the fork if possible\n",
      "\t- Explicitly set the environment variable TOKENIZERS_PARALLELISM=(true | false)\n",
      "Validating epoch: 4: 100%|██████████| 400/400 [00:32<00:00, 12.43batch/s]"
     ]
    },
    {
     "name": "stdout",
     "output_type": "stream",
     "text": [
      "  Average validation loss: 0.9045896800834089\n",
      "  Average validation accuracy: 0.8285000000000022\n",
      "  Validation time took: 0:00:32\n",
      "\n",
      "Training complete!\n"
     ]
    },
    {
     "name": "stderr",
     "output_type": "stream",
     "text": [
      "\n"
     ]
    }
   ],
   "source": [
    "from torch.optim import AdamW\n",
    "from sklearn.metrics import accuracy_score\n",
    "\n",
    "adamw_optimizer = AdamW(bert_classification_model.parameters(),\n",
    "                  lr = 2e-5, # args.learning_rate - default is 5e-5, our notebook had 2e-5\n",
    "                  eps = 1e-8 # args.adam_epsilon  - default is 1e-8.\n",
    "                )\n",
    "\n",
    "from transformers import get_linear_schedule_with_warmup\n",
    "\n",
    "# Number of training epochs. The BERT authors recommend between 2 and 4. \n",
    "epochs = 4\n",
    "\n",
    "# Total number of training steps is [number of batches] x [number of epochs]. \n",
    "# (Note that this is not the same as the number of training samples).\n",
    "\n",
    "total_steps = len(train_dataloader) * epochs\n",
    "\n",
    "# Create the learning rate scheduler.\n",
    "scheduler = get_linear_schedule_with_warmup(adamw_optimizer, \n",
    "                                            num_warmup_steps = 0, \n",
    "                                            num_training_steps = total_steps)\n",
    "\n",
    "# Finally, we start to train the model\n",
    "fine_tuning_statistics = fine_tuning_pretrained_model(\n",
    "    epochs,\n",
    "    bert_classification_model,\n",
    "    train_dataloader,\n",
    "    val_dataloader,\n",
    "    adamw_optimizer,\n",
    "    scheduler,\n",
    "    accuracy_score)"
   ]
  },
  {
   "cell_type": "markdown",
   "id": "3ce90980",
   "metadata": {
    "papermill": {
     "duration": 1.115245,
     "end_time": "2024-04-17T07:48:28.696247",
     "exception": false,
     "start_time": "2024-04-17T07:48:27.581002",
     "status": "completed"
    },
    "tags": []
   },
   "source": [
    "### Let’s view the summary of the training process. First we create a folder to save the results for the BERT variant"
   ]
  },
  {
   "cell_type": "code",
   "execution_count": 24,
   "id": "a32e775c",
   "metadata": {
    "execution": {
     "iopub.execute_input": "2024-04-17T07:48:30.960308Z",
     "iopub.status.busy": "2024-04-17T07:48:30.959905Z",
     "iopub.status.idle": "2024-04-17T07:48:30.964905Z",
     "shell.execute_reply": "2024-04-17T07:48:30.963987Z"
    },
    "papermill": {
     "duration": 1.165817,
     "end_time": "2024-04-17T07:48:30.966764",
     "exception": false,
     "start_time": "2024-04-17T07:48:29.800947",
     "status": "completed"
    },
    "tags": []
   },
   "outputs": [],
   "source": [
    "if not os.path.exists(f\"{bert_model_name}\"):\n",
    "    os.makedirs(f\"{bert_model_name}\")"
   ]
  },
  {
   "cell_type": "code",
   "execution_count": 25,
   "id": "0c073cc2",
   "metadata": {
    "execution": {
     "iopub.execute_input": "2024-04-17T07:48:33.292759Z",
     "iopub.status.busy": "2024-04-17T07:48:33.292405Z",
     "iopub.status.idle": "2024-04-17T07:48:33.314426Z",
     "shell.execute_reply": "2024-04-17T07:48:33.313399Z"
    },
    "papermill": {
     "duration": 1.150057,
     "end_time": "2024-04-17T07:48:33.316364",
     "exception": false,
     "start_time": "2024-04-17T07:48:32.166307",
     "status": "completed"
    },
    "tags": []
   },
   "outputs": [
    {
     "data": {
      "text/html": [
       "<div>\n",
       "<style scoped>\n",
       "    .dataframe tbody tr th:only-of-type {\n",
       "        vertical-align: middle;\n",
       "    }\n",
       "\n",
       "    .dataframe tbody tr th {\n",
       "        vertical-align: top;\n",
       "    }\n",
       "\n",
       "    .dataframe thead th {\n",
       "        text-align: right;\n",
       "    }\n",
       "</style>\n",
       "<table border=\"1\" class=\"dataframe\">\n",
       "  <thead>\n",
       "    <tr style=\"text-align: right;\">\n",
       "      <th></th>\n",
       "      <th>train_loss</th>\n",
       "      <th>train_accuracy</th>\n",
       "      <th>train_time</th>\n",
       "      <th>val_loss</th>\n",
       "      <th>val_accuracy</th>\n",
       "      <th>val_time</th>\n",
       "    </tr>\n",
       "    <tr>\n",
       "      <th>epoch</th>\n",
       "      <th></th>\n",
       "      <th></th>\n",
       "      <th></th>\n",
       "      <th></th>\n",
       "      <th></th>\n",
       "      <th></th>\n",
       "    </tr>\n",
       "  </thead>\n",
       "  <tbody>\n",
       "    <tr>\n",
       "      <th>1</th>\n",
       "      <td>0.504764</td>\n",
       "      <td>0.771500</td>\n",
       "      <td>0:13:03</td>\n",
       "      <td>0.429391</td>\n",
       "      <td>0.8175</td>\n",
       "      <td>0:00:32</td>\n",
       "    </tr>\n",
       "    <tr>\n",
       "      <th>2</th>\n",
       "      <td>0.394833</td>\n",
       "      <td>0.870563</td>\n",
       "      <td>0:13:02</td>\n",
       "      <td>0.560338</td>\n",
       "      <td>0.8295</td>\n",
       "      <td>0:00:32</td>\n",
       "    </tr>\n",
       "    <tr>\n",
       "      <th>3</th>\n",
       "      <td>0.257029</td>\n",
       "      <td>0.933125</td>\n",
       "      <td>0:13:01</td>\n",
       "      <td>0.789190</td>\n",
       "      <td>0.8290</td>\n",
       "      <td>0:00:32</td>\n",
       "    </tr>\n",
       "    <tr>\n",
       "      <th>4</th>\n",
       "      <td>0.159353</td>\n",
       "      <td>0.963813</td>\n",
       "      <td>0:13:01</td>\n",
       "      <td>0.904590</td>\n",
       "      <td>0.8285</td>\n",
       "      <td>0:00:32</td>\n",
       "    </tr>\n",
       "  </tbody>\n",
       "</table>\n",
       "</div>"
      ],
      "text/plain": [
       "       train_loss  train_accuracy train_time  val_loss  val_accuracy val_time\n",
       "epoch                                                                        \n",
       "1        0.504764        0.771500    0:13:03  0.429391        0.8175  0:00:32\n",
       "2        0.394833        0.870563    0:13:02  0.560338        0.8295  0:00:32\n",
       "3        0.257029        0.933125    0:13:01  0.789190        0.8290  0:00:32\n",
       "4        0.159353        0.963813    0:13:01  0.904590        0.8285  0:00:32"
      ]
     },
     "execution_count": 25,
     "metadata": {},
     "output_type": "execute_result"
    }
   ],
   "source": [
    "df_stats = pd.DataFrame(fine_tuning_statistics).set_index('epoch')\n",
    "# Saving the fine_tuning_statistics\n",
    "df_stats.to_csv(f\"{bert_model_name}/fine_tuning_statistics.csv\")\n",
    "df_stats"
   ]
  },
  {
   "cell_type": "code",
   "execution_count": 26,
   "id": "ddb79203",
   "metadata": {
    "execution": {
     "iopub.execute_input": "2024-04-17T07:48:35.569558Z",
     "iopub.status.busy": "2024-04-17T07:48:35.569210Z",
     "iopub.status.idle": "2024-04-17T07:48:35.987117Z",
     "shell.execute_reply": "2024-04-17T07:48:35.986219Z"
    },
    "papermill": {
     "duration": 1.573436,
     "end_time": "2024-04-17T07:48:35.989289",
     "exception": false,
     "start_time": "2024-04-17T07:48:34.415853",
     "status": "completed"
    },
    "tags": []
   },
   "outputs": [
    {
     "data": {
      "image/png": "[encoded data removed]",
      "text/plain": [
       "<Figure size 640x480 with 1 Axes>"
      ]
     },
     "metadata": {},
     "output_type": "display_data"
    }
   ],
   "source": [
    "from matplotlib import pyplot\n",
    "\n",
    "%matplotlib inline\n",
    "\n",
    "pyplot.plot(df_stats['train_loss'], 'b-o', label=\"training\")\n",
    "pyplot.plot(df_stats['val_loss'], 'g-o', label=\"validation\")\n",
    "pyplot.title(f\"{bert_model_name}: training & validation loss\", fontsize=15)\n",
    "pyplot.xlabel(\"Epoch\", fontsize=14)\n",
    "pyplot.ylabel(\"Loss\", fontsize=14)\n",
    "pyplot.legend(frameon=False, fontsize=14)\n",
    "pyplot.xticks(df_stats.index.values.tolist(), fontsize=12)\n",
    "pyplot.yticks(fontsize=12)\n",
    "pyplot.savefig(f\"{bert_model_name}/train_val_loss_plot.png\")\n",
    "pyplot.show()"
   ]
  },
  {
   "cell_type": "code",
   "execution_count": 27,
   "id": "efa70782",
   "metadata": {
    "execution": {
     "iopub.execute_input": "2024-04-17T07:48:38.247020Z",
     "iopub.status.busy": "2024-04-17T07:48:38.246665Z",
     "iopub.status.idle": "2024-04-17T07:48:38.578736Z",
     "shell.execute_reply": "2024-04-17T07:48:38.577865Z"
    },
    "papermill": {
     "duration": 1.438675,
     "end_time": "2024-04-17T07:48:38.580595",
     "exception": false,
     "start_time": "2024-04-17T07:48:37.141920",
     "status": "completed"
    },
    "tags": []
   },
   "outputs": [
    {
     "data": {
      "image/png": "[encoded data removed]",
      "text/plain": [
       "<Figure size 640x480 with 1 Axes>"
      ]
     },
     "metadata": {},
     "output_type": "display_data"
    }
   ],
   "source": [
    "from matplotlib import pyplot\n",
    "\n",
    "%matplotlib inline\n",
    "\n",
    "pyplot.plot(df_stats['train_accuracy'], 'b-o', label=\"training\")\n",
    "pyplot.plot(df_stats['val_accuracy'], 'g-o', label=\"validation\")\n",
    "pyplot.title(f\"{bert_model_name}: training & validation accuracy\", fontsize=15)\n",
    "pyplot.xlabel(\"Epoch\", fontsize=14)\n",
    "pyplot.ylabel(\"Loss\", fontsize=14)\n",
    "pyplot.legend(frameon=False, fontsize=14)\n",
    "pyplot.xticks(df_stats.index.values.tolist(), fontsize=12)\n",
    "pyplot.yticks(fontsize=12)\n",
    "pyplot.savefig(f\"{bert_model_name}/train_val_accuracy_plot.png\")\n",
    "pyplot.show()"
   ]
  },
  {
   "cell_type": "markdown",
   "id": "6e6c8647",
   "metadata": {
    "papermill": {
     "duration": 1.106051,
     "end_time": "2024-04-17T07:48:40.843087",
     "exception": false,
     "start_time": "2024-04-17T07:48:39.737036",
     "status": "completed"
    },
    "tags": []
   },
   "source": [
    "## Performance on test set and prediction"
   ]
  },
  {
   "cell_type": "code",
   "execution_count": 28,
   "id": "9c6b84e9",
   "metadata": {
    "execution": {
     "iopub.execute_input": "2024-04-17T07:48:43.125739Z",
     "iopub.status.busy": "2024-04-17T07:48:43.125345Z",
     "iopub.status.idle": "2024-04-17T07:48:50.552562Z",
     "shell.execute_reply": "2024-04-17T07:48:50.551583Z"
    },
    "papermill": {
     "duration": 8.553172,
     "end_time": "2024-04-17T07:48:50.554499",
     "exception": false,
     "start_time": "2024-04-17T07:48:42.001327",
     "status": "completed"
    },
    "tags": []
   },
   "outputs": [
    {
     "name": "stdout",
     "output_type": "stream",
     "text": [
      "<class 'pandas.core.series.Series'>\n"
     ]
    },
    {
     "name": "stderr",
     "output_type": "stream",
     "text": [
      "100%|██████████| 4000/4000 [00:03<00:00, 1292.84it/s]\n"
     ]
    },
    {
     "name": "stdout",
     "output_type": "stream",
     "text": [
      "Shape of input_ids is torch.Size([4000, 512])\n",
      "Shape of attention_masks is torch.Size([4000, 512])\n",
      "Shape of labels is torch.Size([4000])\n"
     ]
    },
    {
     "name": "stderr",
     "output_type": "stream",
     "text": [
      "100%|██████████| 5000/5000 [00:04<00:00, 1179.48it/s]\n"
     ]
    },
    {
     "name": "stdout",
     "output_type": "stream",
     "text": [
      "Shape of input_ids is torch.Size([5000, 512])\n",
      "Shape of attention_masks is torch.Size([5000, 512])\n",
      "Shape of labels is torch.Size([5000])\n"
     ]
    }
   ],
   "source": [
    "print(type(y_test_known_labels))\n",
    "test_tensor_known_labels = convert_to_dataset_torch(X_test_known_labels, y_test_known_labels)\n",
    "test_dataloader = DataLoader(test_tensor_known_labels, \n",
    "                             sampler=SequentialSampler(test_tensor_known_labels), \n",
    "                             batch_size=batch_size)\n",
    "\n",
    "#print(len(X_test_unknown_labels))\n",
    "#features_tensor = torch.tensor(X_test_unknown_labels.to_numpy(), dtype=torch.float32)\n",
    "#print(features_tensor.shape)\n",
    "\n",
    "# Create dummy labels tensor\n",
    "\n",
    "dummy_labels_series = pd.Series([-1] * len(X_test_unknown_labels))\n",
    "# print(X_test_unknown_labels.shape)\n",
    "test_tensor_unknown_labels = convert_to_dataset_torch(X_test_unknown_labels, dummy_labels_series)\n",
    "predict_dataloader = DataLoader(test_tensor_unknown_labels, \n",
    "                             sampler=SequentialSampler(test_tensor_unknown_labels), \n",
    "                             batch_size=batch_size)"
   ]
  },
  {
   "cell_type": "markdown",
   "id": "4e80acd6",
   "metadata": {
    "papermill": {
     "duration": 1.134295,
     "end_time": "2024-04-17T07:48:52.855176",
     "exception": false,
     "start_time": "2024-04-17T07:48:51.720881",
     "status": "completed"
    },
    "tags": []
   },
   "source": [
    "## Evaluate on the test set with known labels\n",
    "With the test set prepared, we can apply our fine-tuned model to generate predictions on the test set with known labels"
   ]
  },
  {
   "cell_type": "code",
   "execution_count": 29,
   "id": "af3ea9ac",
   "metadata": {
    "execution": {
     "iopub.execute_input": "2024-04-17T07:48:55.121039Z",
     "iopub.status.busy": "2024-04-17T07:48:55.120680Z",
     "iopub.status.idle": "2024-04-17T07:49:59.127569Z",
     "shell.execute_reply": "2024-04-17T07:49:59.126554Z"
    },
    "papermill": {
     "duration": 65.168115,
     "end_time": "2024-04-17T07:49:59.129698",
     "exception": false,
     "start_time": "2024-04-17T07:48:53.961583",
     "status": "completed"
    },
    "tags": []
   },
   "outputs": [
    {
     "name": "stderr",
     "output_type": "stream",
     "text": [
      "Validating epoch: None: 100%|██████████| 800/800 [01:03<00:00, 12.50batch/s]\n"
     ]
    }
   ],
   "source": [
    "bert_classification_model.eval()\n",
    "\n",
    "total_val_loss, total_val_accuracy,\\\n",
    "predicted_logits_val, predicted_labels_val = val_batch(None, bert_classification_model, \n",
    "                                               test_dataloader, accuracy_score)"
   ]
  },
  {
   "cell_type": "markdown",
   "id": "5e5cab96",
   "metadata": {
    "papermill": {
     "duration": 1.196771,
     "end_time": "2024-04-17T07:50:01.468086",
     "exception": false,
     "start_time": "2024-04-17T07:50:00.271315",
     "status": "completed"
    },
    "tags": []
   },
   "source": [
    "## Making prediction on the test set with unknown labels\n",
    "\n",
    "With the predict set prepared, we can apply our fine-tuned model to generate predictions on the test set with unknown labels"
   ]
  },
  {
   "cell_type": "code",
   "execution_count": 30,
   "id": "c148dd5f",
   "metadata": {
    "execution": {
     "iopub.execute_input": "2024-04-17T07:50:03.954360Z",
     "iopub.status.busy": "2024-04-17T07:50:03.953946Z",
     "iopub.status.idle": "2024-04-17T07:51:22.861666Z",
     "shell.execute_reply": "2024-04-17T07:51:22.859707Z"
    },
    "papermill": {
     "duration": 80.142656,
     "end_time": "2024-04-17T07:51:22.863786",
     "exception": false,
     "start_time": "2024-04-17T07:50:02.721130",
     "status": "completed"
    },
    "tags": []
   },
   "outputs": [
    {
     "name": "stderr",
     "output_type": "stream",
     "text": [
      "Predicting: 100%|██████████| 1000/1000 [01:18<00:00, 12.67batch/s]\n"
     ]
    }
   ],
   "source": [
    "bert_classification_model.eval()\n",
    "\n",
    "predicted_logits_test, predicted_labels_test = predict_batch(bert_classification_model, \n",
    "                                                   predict_dataloader)"
   ]
  },
  {
   "cell_type": "markdown",
   "id": "4ebb1a1a",
   "metadata": {
    "papermill": {
     "duration": 1.181137,
     "end_time": "2024-04-17T07:51:25.292909",
     "exception": false,
     "start_time": "2024-04-17T07:51:24.111772",
     "status": "completed"
    },
    "tags": []
   },
   "source": [
    "### We construct the testing result with corresponding truth labels and predicted labels by the fine-tuned BERT model. This testing data is part of the training data (train.tsv)"
   ]
  },
  {
   "cell_type": "code",
   "execution_count": 31,
   "id": "c0be7529",
   "metadata": {
    "execution": {
     "iopub.execute_input": "2024-04-17T07:51:27.757917Z",
     "iopub.status.busy": "2024-04-17T07:51:27.757529Z",
     "iopub.status.idle": "2024-04-17T07:51:27.776030Z",
     "shell.execute_reply": "2024-04-17T07:51:27.775160Z"
    },
    "papermill": {
     "duration": 1.255057,
     "end_time": "2024-04-17T07:51:27.778311",
     "exception": false,
     "start_time": "2024-04-17T07:51:26.523254",
     "status": "completed"
    },
    "tags": []
   },
   "outputs": [
    {
     "data": {
      "text/html": [
       "<div>\n",
       "<style scoped>\n",
       "    .dataframe tbody tr th:only-of-type {\n",
       "        vertical-align: middle;\n",
       "    }\n",
       "\n",
       "    .dataframe tbody tr th {\n",
       "        vertical-align: top;\n",
       "    }\n",
       "\n",
       "    .dataframe thead th {\n",
       "        text-align: right;\n",
       "    }\n",
       "</style>\n",
       "<table border=\"1\" class=\"dataframe\">\n",
       "  <thead>\n",
       "    <tr style=\"text-align: right;\">\n",
       "      <th></th>\n",
       "      <th>question1</th>\n",
       "      <th>question2</th>\n",
       "      <th>true_is_duplicate</th>\n",
       "      <th>predicted_is_duplicate</th>\n",
       "    </tr>\n",
       "  </thead>\n",
       "  <tbody>\n",
       "    <tr>\n",
       "      <th>10650</th>\n",
       "      <td>Where did \"European Jewish\" come from in my si...</td>\n",
       "      <td>I am doing my research on MRSA, but my results...</td>\n",
       "      <td>0</td>\n",
       "      <td>0</td>\n",
       "    </tr>\n",
       "    <tr>\n",
       "      <th>2041</th>\n",
       "      <td>Is there a way to get deleted Instagram pictur...</td>\n",
       "      <td>Can you delete someone's picture on Instagram?</td>\n",
       "      <td>0</td>\n",
       "      <td>0</td>\n",
       "    </tr>\n",
       "    <tr>\n",
       "      <th>8668</th>\n",
       "      <td>Why are the Åland Islands a part of Finland wh...</td>\n",
       "      <td>Why isn't Aland a part of Sweden?</td>\n",
       "      <td>1</td>\n",
       "      <td>0</td>\n",
       "    </tr>\n",
       "    <tr>\n",
       "      <th>1114</th>\n",
       "      <td>What do you feel is your purpose in life?</td>\n",
       "      <td>What according to YOU is the purpose of life?</td>\n",
       "      <td>1</td>\n",
       "      <td>1</td>\n",
       "    </tr>\n",
       "    <tr>\n",
       "      <th>13902</th>\n",
       "      <td>What's the difference between Vyvanse and Adde...</td>\n",
       "      <td>What is the difference between Adderall XR and...</td>\n",
       "      <td>1</td>\n",
       "      <td>0</td>\n",
       "    </tr>\n",
       "  </tbody>\n",
       "</table>\n",
       "</div>"
      ],
      "text/plain": [
       "                                               question1  \\\n",
       "10650  Where did \"European Jewish\" come from in my si...   \n",
       "2041   Is there a way to get deleted Instagram pictur...   \n",
       "8668   Why are the Åland Islands a part of Finland wh...   \n",
       "1114           What do you feel is your purpose in life?   \n",
       "13902  What's the difference between Vyvanse and Adde...   \n",
       "\n",
       "                                               question2  true_is_duplicate  \\\n",
       "10650  I am doing my research on MRSA, but my results...                  0   \n",
       "2041      Can you delete someone's picture on Instagram?                  0   \n",
       "8668                   Why isn't Aland a part of Sweden?                  1   \n",
       "1114       What according to YOU is the purpose of life?                  1   \n",
       "13902  What is the difference between Adderall XR and...                  1   \n",
       "\n",
       "       predicted_is_duplicate  \n",
       "10650                       0  \n",
       "2041                        0  \n",
       "8668                        0  \n",
       "1114                        1  \n",
       "13902                       0  "
      ]
     },
     "execution_count": 31,
     "metadata": {},
     "output_type": "execute_result"
    }
   ],
   "source": [
    "testing_results_known_labels = pd.DataFrame()\n",
    "testing_results_known_labels[\"question1\"] = X_test_known_labels[\"question1\"]\n",
    "testing_results_known_labels[\"question2\"] = X_test_known_labels[\"question2\"]\n",
    "testing_results_known_labels[\"true_is_duplicate\"] = y_test_known_labels\n",
    "testing_results_known_labels[\"predicted_is_duplicate\"] = predicted_labels_val\n",
    "testing_results_known_labels.head()"
   ]
  },
  {
   "cell_type": "markdown",
   "id": "4924640f",
   "metadata": {
    "papermill": {
     "duration": 1.247134,
     "end_time": "2024-04-17T07:51:30.217981",
     "exception": false,
     "start_time": "2024-04-17T07:51:28.970847",
     "status": "completed"
    },
    "tags": []
   },
   "source": [
    "### We construct the testing result with no known labels (the test.tsv file) with the predicted labels by the fine-tuned BERT model"
   ]
  },
  {
   "cell_type": "code",
   "execution_count": 32,
   "id": "d8ef0027",
   "metadata": {
    "execution": {
     "iopub.execute_input": "2024-04-17T07:51:32.664480Z",
     "iopub.status.busy": "2024-04-17T07:51:32.664080Z",
     "iopub.status.idle": "2024-04-17T07:51:32.679210Z",
     "shell.execute_reply": "2024-04-17T07:51:32.678301Z"
    },
    "papermill": {
     "duration": 1.28524,
     "end_time": "2024-04-17T07:51:32.681029",
     "exception": false,
     "start_time": "2024-04-17T07:51:31.395789",
     "status": "completed"
    },
    "tags": []
   },
   "outputs": [
    {
     "data": {
      "text/html": [
       "<div>\n",
       "<style scoped>\n",
       "    .dataframe tbody tr th:only-of-type {\n",
       "        vertical-align: middle;\n",
       "    }\n",
       "\n",
       "    .dataframe tbody tr th {\n",
       "        vertical-align: top;\n",
       "    }\n",
       "\n",
       "    .dataframe thead th {\n",
       "        text-align: right;\n",
       "    }\n",
       "</style>\n",
       "<table border=\"1\" class=\"dataframe\">\n",
       "  <thead>\n",
       "    <tr style=\"text-align: right;\">\n",
       "      <th></th>\n",
       "      <th>question1</th>\n",
       "      <th>question2</th>\n",
       "      <th>predicted_is_duplicate</th>\n",
       "    </tr>\n",
       "  </thead>\n",
       "  <tbody>\n",
       "    <tr>\n",
       "      <th>0</th>\n",
       "      <td>Would the idea of Trump and Putin in bed toget...</td>\n",
       "      <td>Do you think that if Donald Trump were elected...</td>\n",
       "      <td>0</td>\n",
       "    </tr>\n",
       "    <tr>\n",
       "      <th>1</th>\n",
       "      <td>What are the top ten Consumer-to-Consumer E-co...</td>\n",
       "      <td>What are the top ten Consumer-to-Business E-co...</td>\n",
       "      <td>1</td>\n",
       "    </tr>\n",
       "    <tr>\n",
       "      <th>2</th>\n",
       "      <td>Why don't people simply 'Google' instead of as...</td>\n",
       "      <td>Why do people ask Quora questions instead of j...</td>\n",
       "      <td>1</td>\n",
       "    </tr>\n",
       "    <tr>\n",
       "      <th>3</th>\n",
       "      <td>Is it safe to invest in social trade biz?</td>\n",
       "      <td>Is social trade geniune?</td>\n",
       "      <td>0</td>\n",
       "    </tr>\n",
       "    <tr>\n",
       "      <th>4</th>\n",
       "      <td>If the universe is expanding then does matter ...</td>\n",
       "      <td>If universe and space is expanding? Does that ...</td>\n",
       "      <td>1</td>\n",
       "    </tr>\n",
       "  </tbody>\n",
       "</table>\n",
       "</div>"
      ],
      "text/plain": [
       "                                           question1  \\\n",
       "0  Would the idea of Trump and Putin in bed toget...   \n",
       "1  What are the top ten Consumer-to-Consumer E-co...   \n",
       "2  Why don't people simply 'Google' instead of as...   \n",
       "3          Is it safe to invest in social trade biz?   \n",
       "4  If the universe is expanding then does matter ...   \n",
       "\n",
       "                                           question2  predicted_is_duplicate  \n",
       "0  Do you think that if Donald Trump were elected...                       0  \n",
       "1  What are the top ten Consumer-to-Business E-co...                       1  \n",
       "2  Why do people ask Quora questions instead of j...                       1  \n",
       "3                           Is social trade geniune?                       0  \n",
       "4  If universe and space is expanding? Does that ...                       1  "
      ]
     },
     "execution_count": 32,
     "metadata": {},
     "output_type": "execute_result"
    }
   ],
   "source": [
    "testing_results_unknown_labels = pd.DataFrame()\n",
    "testing_results_unknown_labels[\"question1\"] = X_test_unknown_labels[\"question1\"]\n",
    "testing_results_unknown_labels[\"question2\"] = X_test_unknown_labels[\"question2\"]\n",
    "testing_results_unknown_labels[\"predicted_is_duplicate\"] = predicted_labels_test\n",
    "testing_results_unknown_labels.head()"
   ]
  },
  {
   "cell_type": "markdown",
   "id": "3fb36121",
   "metadata": {
    "papermill": {
     "duration": 1.274381,
     "end_time": "2024-04-17T07:51:35.224718",
     "exception": false,
     "start_time": "2024-04-17T07:51:33.950337",
     "status": "completed"
    },
    "tags": []
   },
   "source": [
    "### Saving testing results"
   ]
  },
  {
   "cell_type": "code",
   "execution_count": 33,
   "id": "f1407a92",
   "metadata": {
    "execution": {
     "iopub.execute_input": "2024-04-17T07:51:37.647887Z",
     "iopub.status.busy": "2024-04-17T07:51:37.647527Z",
     "iopub.status.idle": "2024-04-17T07:51:37.711313Z",
     "shell.execute_reply": "2024-04-17T07:51:37.710586Z"
    },
    "papermill": {
     "duration": 1.304791,
     "end_time": "2024-04-17T07:51:37.713368",
     "exception": false,
     "start_time": "2024-04-17T07:51:36.408577",
     "status": "completed"
    },
    "tags": []
   },
   "outputs": [],
   "source": [
    "testing_results_known_labels.to_csv(f\"{bert_model_name}/testing_results_known_labels.csv\", index=False)\n",
    "testing_results_unknown_labels.to_csv(f\"{bert_model_name}/testing_results_unknown_labels.csv\", index=False)"
   ]
  },
  {
   "cell_type": "code",
   "execution_count": 34,
   "id": "9e839259",
   "metadata": {
    "execution": {
     "iopub.execute_input": "2024-04-17T07:51:40.139247Z",
     "iopub.status.busy": "2024-04-17T07:51:40.138426Z",
     "iopub.status.idle": "2024-04-17T07:51:53.378177Z",
     "shell.execute_reply": "2024-04-17T07:51:53.376928Z"
    },
    "papermill": {
     "duration": 14.488698,
     "end_time": "2024-04-17T07:51:53.380660",
     "exception": false,
     "start_time": "2024-04-17T07:51:38.891962",
     "status": "completed"
    },
    "tags": []
   },
   "outputs": [
    {
     "name": "stderr",
     "output_type": "stream",
     "text": [
      "huggingface/tokenizers: The current process just got forked, after parallelism has already been used. Disabling parallelism to avoid deadlocks...\n",
      "To disable this warning, you can either:\n",
      "\t- Avoid using `tokenizers` before the fork if possible\n",
      "\t- Explicitly set the environment variable TOKENIZERS_PARALLELISM=(true | false)\n"
     ]
    },
    {
     "name": "stdout",
     "output_type": "stream",
     "text": [
      "Collecting data-science-utils\r\n",
      "  Downloading data_science_utils-1.7.3-py3-none-any.whl.metadata (24 kB)\r\n",
      "Downloading data_science_utils-1.7.3-py3-none-any.whl (22 kB)\r\n",
      "Installing collected packages: data-science-utils\r\n",
      "Successfully installed data-science-utils-1.7.3\r\n"
     ]
    }
   ],
   "source": [
    "!pip install data-science-utils"
   ]
  },
  {
   "cell_type": "code",
   "execution_count": 35,
   "id": "1fbcd14e",
   "metadata": {
    "execution": {
     "iopub.execute_input": "2024-04-17T07:51:55.825680Z",
     "iopub.status.busy": "2024-04-17T07:51:55.825269Z",
     "iopub.status.idle": "2024-04-17T07:51:56.506944Z",
     "shell.execute_reply": "2024-04-17T07:51:56.506038Z"
    },
    "papermill": {
     "duration": 1.862809,
     "end_time": "2024-04-17T07:51:56.508875",
     "exception": false,
     "start_time": "2024-04-17T07:51:54.646066",
     "status": "completed"
    },
    "tags": []
   },
   "outputs": [
    {
     "data": {
      "image/png": "[encoded data removed]",
      "text/plain": [
       "<Figure size 640x480 with 4 Axes>"
      ]
     },
     "metadata": {},
     "output_type": "display_data"
    }
   ],
   "source": [
    "from ds_utils.metrics import plot_confusion_matrix\n",
    "\n",
    "plot_confusion_matrix(y_test_known_labels, predicted_labels_val, [1, 0])\n",
    "pyplot.savefig(f\"{bert_model_name}/confusion_matrix.png\")\n",
    "pyplot.show()"
   ]
  },
  {
   "cell_type": "markdown",
   "id": "851d7f11",
   "metadata": {
    "papermill": {
     "duration": 1.184681,
     "end_time": "2024-04-17T07:51:58.932381",
     "exception": false,
     "start_time": "2024-04-17T07:51:57.747700",
     "status": "completed"
    },
    "tags": []
   },
   "source": [
    "# Saving the fine-tuned model\n",
    "First let's save our model with the method ``save_pretrained``, then save our tokenizer with ``save_pretrained``.\n",
    "\n",
    "**Pay Attension**: tokenizer's ``save_pretrained`` need to get the path to save as a string.\n",
    "\n",
    "In reality, it is not required to run this cell. Obtaining the results is already enough. The saved model would be extremely heavy, and there are already fine tuned BERT models on HuggingFace"
   ]
  },
  {
   "cell_type": "code",
   "execution_count": 36,
   "id": "5180981d",
   "metadata": {
    "execution": {
     "iopub.execute_input": "2024-04-17T07:52:01.365123Z",
     "iopub.status.busy": "2024-04-17T07:52:01.364435Z",
     "iopub.status.idle": "2024-04-17T07:52:01.370348Z",
     "shell.execute_reply": "2024-04-17T07:52:01.369560Z"
    },
    "papermill": {
     "duration": 1.193861,
     "end_time": "2024-04-17T07:52:01.372422",
     "exception": false,
     "start_time": "2024-04-17T07:52:00.178561",
     "status": "completed"
    },
    "tags": []
   },
   "outputs": [],
   "source": [
    "from pathlib import Path\n",
    "\n",
    "output_dir = Path(\"__file__\").parents[0].absolute().joinpath(f\"{bert_model_name}/model_save\")\n",
    "output_dir.mkdir(exist_ok=True)\n",
    "\n",
    "# Save a trained model, configuration and tokenizer using `save_pretrained()`.\n",
    "# They can then be reloaded using `from_pretrained()`\n",
    "\n",
    "# model_to_save = bert_classification_model.module if hasattr(bert_classification_model, 'module') else bert_classification_model  # Take care of distributed/parallel training\n",
    "# model_to_save.save_pretrained(output_dir)\n",
    "# tokenizer.save_pretrained(str(output_dir.absolute()))"
   ]
  }
 ],
 "metadata": {
  "kaggle": {
   "accelerator": "nvidiaTeslaT4",
   "dataSources": [
    {
     "datasetId": 4801042,
     "sourceId": 8124328,
     "sourceType": "datasetVersion"
    }
   ],
   "isGpuEnabled": true,
   "isInternetEnabled": true,
   "language": "python",
   "sourceType": "notebook"
  },
  "kernelspec": {
   "display_name": "Python 3",
   "language": "python",
   "name": "python3"
  },
  "language_info": {
   "codemirror_mode": {
    "name": "ipython",
    "version": 3
   },
   "file_extension": ".py",
   "mimetype": "text/x-python",
   "name": "python",
   "nbconvert_exporter": "python",
   "pygments_lexer": "ipython3",
   "version": "3.10.13"
  },
  "papermill": {
   "default_parameters": {},
   "duration": 3520.908992,
   "end_time": "2024-04-17T07:52:05.548500",
   "environment_variables": {},
   "exception": null,
   "input_path": "__notebook__.ipynb",
   "output_path": "__notebook__.ipynb",
   "parameters": {},
   "start_time": "2024-04-17T06:53:24.639508",
   "version": "2.5.0"
  },
  "widgets": {
   "application/vnd.jupyter.widget-state+json": {
    "state": {
     "04a7ebe04bf0405c80f23d8eefeac837": {
      "model_module": "@jupyter-widgets/controls",
      "model_module_version": "1.5.0",
      "model_name": "DescriptionStyleModel",
      "state": {
       "_model_module": "@jupyter-widgets/controls",
       "_model_module_version": "1.5.0",
       "_model_name": "DescriptionStyleModel",
       "_view_count": null,
       "_view_module": "@jupyter-widgets/base",
       "_view_module_version": "1.2.0",
       "_view_name": "StyleView",
       "description_width": ""
      }
     },
     "08cfeee6286b4ca0afc6437a3215e280": {
      "model_module": "@jupyter-widgets/controls",
      "model_module_version": "1.5.0",
      "model_name": "DescriptionStyleModel",
      "state": {
       "_model_module": "@jupyter-widgets/controls",
       "_model_module_version": "1.5.0",
       "_model_name": "DescriptionStyleModel",
       "_view_count": null,
       "_view_module": "@jupyter-widgets/base",
       "_view_module_version": "1.2.0",
       "_view_name": "StyleView",
       "description_width": ""
      }
     },
     "0da71797e6e74c19ac19e4f8722498cc": {
      "model_module": "@jupyter-widgets/base",
      "model_module_version": "1.2.0",
      "model_name": "LayoutModel",
      "state": {
       "_model_module": "@jupyter-widgets/base",
       "_model_module_version": "1.2.0",
       "_model_name": "LayoutModel",
       "_view_count": null,
       "_view_module": "@jupyter-widgets/base",
       "_view_module_version": "1.2.0",
       "_view_name": "LayoutView",
       "align_content": null,
       "align_items": null,
       "align_self": null,
       "border": null,
       "bottom": null,
       "display": null,
       "flex": null,
       "flex_flow": null,
       "grid_area": null,
       "grid_auto_columns": null,
       "grid_auto_flow": null,
       "grid_auto_rows": null,
       "grid_column": null,
       "grid_gap": null,
       "grid_row": null,
       "grid_template_areas": null,
       "grid_template_columns": null,
       "grid_template_rows": null,
       "height": null,
       "justify_content": null,
       "justify_items": null,
       "left": null,
       "margin": null,
       "max_height": null,
       "max_width": null,
       "min_height": null,
       "min_width": null,
       "object_fit": null,
       "object_position": null,
       "order": null,
       "overflow": null,
       "overflow_x": null,
       "overflow_y": null,
       "padding": null,
       "right": null,
       "top": null,
       "visibility": null,
       "width": null
      }
     },
     "0df0567ba28644938fc870fa000a1c8c": {
      "model_module": "@jupyter-widgets/controls",
      "model_module_version": "1.5.0",
      "model_name": "ProgressStyleModel",
      "state": {
       "_model_module": "@jupyter-widgets/controls",
       "_model_module_version": "1.5.0",
       "_model_name": "ProgressStyleModel",
       "_view_count": null,
       "_view_module": "@jupyter-widgets/base",
       "_view_module_version": "1.2.0",
       "_view_name": "StyleView",
       "bar_color": null,
       "description_width": ""
      }
     },
     "114baf8747014e55b725fc50c5374374": {
      "model_module": "@jupyter-widgets/base",
      "model_module_version": "1.2.0",
      "model_name": "LayoutModel",
      "state": {
       "_model_module": "@jupyter-widgets/base",
       "_model_module_version": "1.2.0",
       "_model_name": "LayoutModel",
       "_view_count": null,
       "_view_module": "@jupyter-widgets/base",
       "_view_module_version": "1.2.0",
       "_view_name": "LayoutView",
       "align_content": null,
       "align_items": null,
       "align_self": null,
       "border": null,
       "bottom": null,
       "display": null,
       "flex": null,
       "flex_flow": null,
       "grid_area": null,
       "grid_auto_columns": null,
       "grid_auto_flow": null,
       "grid_auto_rows": null,
       "grid_column": null,
       "grid_gap": null,
       "grid_row": null,
       "grid_template_areas": null,
       "grid_template_columns": null,
       "grid_template_rows": null,
       "height": null,
       "justify_content": null,
       "justify_items": null,
       "left": null,
       "margin": null,
       "max_height": null,
       "max_width": null,
       "min_height": null,
       "min_width": null,
       "object_fit": null,
       "object_position": null,
       "order": null,
       "overflow": null,
       "overflow_x": null,
       "overflow_y": null,
       "padding": null,
       "right": null,
       "top": null,
       "visibility": null,
       "width": null
      }
     },
     "1442fa5c5f2d4e5fa4ee9df6814e7f65": {
      "model_module": "@jupyter-widgets/controls",
      "model_module_version": "1.5.0",
      "model_name": "DescriptionStyleModel",
      "state": {
       "_model_module": "@jupyter-widgets/controls",
       "_model_module_version": "1.5.0",
       "_model_name": "DescriptionStyleModel",
       "_view_count": null,
       "_view_module": "@jupyter-widgets/base",
       "_view_module_version": "1.2.0",
       "_view_name": "StyleView",
       "description_width": ""
      }
     },
     "151ffc52ff9142318030ce530545a13f": {
      "model_module": "@jupyter-widgets/base",
      "model_module_version": "1.2.0",
      "model_name": "LayoutModel",
      "state": {
       "_model_module": "@jupyter-widgets/base",
       "_model_module_version": "1.2.0",
       "_model_name": "LayoutModel",
       "_view_count": null,
       "_view_module": "@jupyter-widgets/base",
       "_view_module_version": "1.2.0",
       "_view_name": "LayoutView",
       "align_content": null,
       "align_items": null,
       "align_self": null,
       "border": null,
       "bottom": null,
       "display": null,
       "flex": null,
       "flex_flow": null,
       "grid_area": null,
       "grid_auto_columns": null,
       "grid_auto_flow": null,
       "grid_auto_rows": null,
       "grid_column": null,
       "grid_gap": null,
       "grid_row": null,
       "grid_template_areas": null,
       "grid_template_columns": null,
       "grid_template_rows": null,
       "height": null,
       "justify_content": null,
       "justify_items": null,
       "left": null,
       "margin": null,
       "max_height": null,
       "max_width": null,
       "min_height": null,
       "min_width": null,
       "object_fit": null,
       "object_position": null,
       "order": null,
       "overflow": null,
       "overflow_x": null,
       "overflow_y": null,
       "padding": null,
       "right": null,
       "top": null,
       "visibility": null,
       "width": null
      }
     },
     "1f8a62a1544548918132e9244f5166f4": {
      "model_module": "@jupyter-widgets/controls",
      "model_module_version": "1.5.0",
      "model_name": "HTMLModel",
      "state": {
       "_dom_classes": [],
       "_model_module": "@jupyter-widgets/controls",
       "_model_module_version": "1.5.0",
       "_model_name": "HTMLModel",
       "_view_count": null,
       "_view_module": "@jupyter-widgets/controls",
       "_view_module_version": "1.5.0",
       "_view_name": "HTMLView",
       "description": "",
       "description_tooltip": null,
       "layout": "IPY_MODEL_5a1df23014324de69c1a36f0260da67d",
       "placeholder": "​",
       "style": "IPY_MODEL_e4413e6b778346f6a66d941958401a47",
       "value": "vocab.txt: 100%"
      }
     },
     "2ab3a017cfc84722b78583cec702aea0": {
      "model_module": "@jupyter-widgets/base",
      "model_module_version": "1.2.0",
      "model_name": "LayoutModel",
      "state": {
       "_model_module": "@jupyter-widgets/base",
       "_model_module_version": "1.2.0",
       "_model_name": "LayoutModel",
       "_view_count": null,
       "_view_module": "@jupyter-widgets/base",
       "_view_module_version": "1.2.0",
       "_view_name": "LayoutView",
       "align_content": null,
       "align_items": null,
       "align_self": null,
       "border": null,
       "bottom": null,
       "display": null,
       "flex": null,
       "flex_flow": null,
       "grid_area": null,
       "grid_auto_columns": null,
       "grid_auto_flow": null,
       "grid_auto_rows": null,
       "grid_column": null,
       "grid_gap": null,
       "grid_row": null,
       "grid_template_areas": null,
       "grid_template_columns": null,
       "grid_template_rows": null,
       "height": null,
       "justify_content": null,
       "justify_items": null,
       "left": null,
       "margin": null,
       "max_height": null,
       "max_width": null,
       "min_height": null,
       "min_width": null,
       "object_fit": null,
       "object_position": null,
       "order": null,
       "overflow": null,
       "overflow_x": null,
       "overflow_y": null,
       "padding": null,
       "right": null,
       "top": null,
       "visibility": null,
       "width": null
      }
     },
     "2b7e38642a2a4945ad6c0c873b6472da": {
      "model_module": "@jupyter-widgets/base",
      "model_module_version": "1.2.0",
      "model_name": "LayoutModel",
      "state": {
       "_model_module": "@jupyter-widgets/base",
       "_model_module_version": "1.2.0",
       "_model_name": "LayoutModel",
       "_view_count": null,
       "_view_module": "@jupyter-widgets/base",
       "_view_module_version": "1.2.0",
       "_view_name": "LayoutView",
       "align_content": null,
       "align_items": null,
       "align_self": null,
       "border": null,
       "bottom": null,
       "display": null,
       "flex": null,
       "flex_flow": null,
       "grid_area": null,
       "grid_auto_columns": null,
       "grid_auto_flow": null,
       "grid_auto_rows": null,
       "grid_column": null,
       "grid_gap": null,
       "grid_row": null,
       "grid_template_areas": null,
       "grid_template_columns": null,
       "grid_template_rows": null,
       "height": null,
       "justify_content": null,
       "justify_items": null,
       "left": null,
       "margin": null,
       "max_height": null,
       "max_width": null,
       "min_height": null,
       "min_width": null,
       "object_fit": null,
       "object_position": null,
       "order": null,
       "overflow": null,
       "overflow_x": null,
       "overflow_y": null,
       "padding": null,
       "right": null,
       "top": null,
       "visibility": null,
       "width": null
      }
     },
     "38e1899c6d8340698cf1336d72967665": {
      "model_module": "@jupyter-widgets/controls",
      "model_module_version": "1.5.0",
      "model_name": "ProgressStyleModel",
      "state": {
       "_model_module": "@jupyter-widgets/controls",
       "_model_module_version": "1.5.0",
       "_model_name": "ProgressStyleModel",
       "_view_count": null,
       "_view_module": "@jupyter-widgets/base",
       "_view_module_version": "1.2.0",
       "_view_name": "StyleView",
       "bar_color": null,
       "description_width": ""
      }
     },
     "38e6bbbf9e4f438cb13439b2f2da2a3b": {
      "model_module": "@jupyter-widgets/controls",
      "model_module_version": "1.5.0",
      "model_name": "ProgressStyleModel",
      "state": {
       "_model_module": "@jupyter-widgets/controls",
       "_model_module_version": "1.5.0",
       "_model_name": "ProgressStyleModel",
       "_view_count": null,
       "_view_module": "@jupyter-widgets/base",
       "_view_module_version": "1.2.0",
       "_view_name": "StyleView",
       "bar_color": null,
       "description_width": ""
      }
     },
     "3a2dc6a4758646bea1369225d9a187d0": {
      "model_module": "@jupyter-widgets/controls",
      "model_module_version": "1.5.0",
      "model_name": "ProgressStyleModel",
      "state": {
       "_model_module": "@jupyter-widgets/controls",
       "_model_module_version": "1.5.0",
       "_model_name": "ProgressStyleModel",
       "_view_count": null,
       "_view_module": "@jupyter-widgets/base",
       "_view_module_version": "1.2.0",
       "_view_name": "StyleView",
       "bar_color": null,
       "description_width": ""
      }
     },
     "3d02aea4d82d4527b5eb6f9219a81213": {
      "model_module": "@jupyter-widgets/base",
      "model_module_version": "1.2.0",
      "model_name": "LayoutModel",
      "state": {
       "_model_module": "@jupyter-widgets/base",
       "_model_module_version": "1.2.0",
       "_model_name": "LayoutModel",
       "_view_count": null,
       "_view_module": "@jupyter-widgets/base",
       "_view_module_version": "1.2.0",
       "_view_name": "LayoutView",
       "align_content": null,
       "align_items": null,
       "align_self": null,
       "border": null,
       "bottom": null,
       "display": null,
       "flex": null,
       "flex_flow": null,
       "grid_area": null,
       "grid_auto_columns": null,
       "grid_auto_flow": null,
       "grid_auto_rows": null,
       "grid_column": null,
       "grid_gap": null,
       "grid_row": null,
       "grid_template_areas": null,
       "grid_template_columns": null,
       "grid_template_rows": null,
       "height": null,
       "justify_content": null,
       "justify_items": null,
       "left": null,
       "margin": null,
       "max_height": null,
       "max_width": null,
       "min_height": null,
       "min_width": null,
       "object_fit": null,
       "object_position": null,
       "order": null,
       "overflow": null,
       "overflow_x": null,
       "overflow_y": null,
       "padding": null,
       "right": null,
       "top": null,
       "visibility": null,
       "width": null
      }
     },
     "49066cbcb9d144c4853321c6b08c1cfe": {
      "model_module": "@jupyter-widgets/controls",
      "model_module_version": "1.5.0",
      "model_name": "DescriptionStyleModel",
      "state": {
       "_model_module": "@jupyter-widgets/controls",
       "_model_module_version": "1.5.0",
       "_model_name": "DescriptionStyleModel",
       "_view_count": null,
       "_view_module": "@jupyter-widgets/base",
       "_view_module_version": "1.2.0",
       "_view_name": "StyleView",
       "description_width": ""
      }
     },
     "4ebba7102c074f7381ed8e961b0e5361": {
      "model_module": "@jupyter-widgets/controls",
      "model_module_version": "1.5.0",
      "model_name": "HBoxModel",
      "state": {
       "_dom_classes": [],
       "_model_module": "@jupyter-widgets/controls",
       "_model_module_version": "1.5.0",
       "_model_name": "HBoxModel",
       "_view_count": null,
       "_view_module": "@jupyter-widgets/controls",
       "_view_module_version": "1.5.0",
       "_view_name": "HBoxView",
       "box_style": "",
       "children": [
        "IPY_MODEL_775ccb3baf3840d3af1dab81aeaeebea",
        "IPY_MODEL_e09e123f20ac4c7b9c2e64a4bebd9054",
        "IPY_MODEL_fff187791058432b98479d2f01fe960d"
       ],
       "layout": "IPY_MODEL_583c8f9f300d430fa10a700117a114fc"
      }
     },
     "4f666f9fd8fb4367a429f4d74f2dca0d": {
      "model_module": "@jupyter-widgets/controls",
      "model_module_version": "1.5.0",
      "model_name": "FloatProgressModel",
      "state": {
       "_dom_classes": [],
       "_model_module": "@jupyter-widgets/controls",
       "_model_module_version": "1.5.0",
       "_model_name": "FloatProgressModel",
       "_view_count": null,
       "_view_module": "@jupyter-widgets/controls",
       "_view_module_version": "1.5.0",
       "_view_name": "ProgressView",
       "bar_style": "success",
       "description": "",
       "description_tooltip": null,
       "layout": "IPY_MODEL_bb06aab70001490382a7149426d23419",
       "max": 267954768.0,
       "min": 0.0,
       "orientation": "horizontal",
       "style": "IPY_MODEL_dd57c24d03024b528b45a5505cefa6c6",
       "value": 267954768.0
      }
     },
     "5003af9031b54f09b2a0c85225903ffa": {
      "model_module": "@jupyter-widgets/controls",
      "model_module_version": "1.5.0",
      "model_name": "HBoxModel",
      "state": {
       "_dom_classes": [],
       "_model_module": "@jupyter-widgets/controls",
       "_model_module_version": "1.5.0",
       "_model_name": "HBoxModel",
       "_view_count": null,
       "_view_module": "@jupyter-widgets/controls",
       "_view_module_version": "1.5.0",
       "_view_name": "HBoxView",
       "box_style": "",
       "children": [
        "IPY_MODEL_d9885d33b38d4e509614a54a32773577",
        "IPY_MODEL_4f666f9fd8fb4367a429f4d74f2dca0d",
        "IPY_MODEL_68928bc1a8614846a99fc53760c4c9e4"
       ],
       "layout": "IPY_MODEL_3d02aea4d82d4527b5eb6f9219a81213"
      }
     },
     "52b1692daeb942fb8262a48cb4d5abce": {
      "model_module": "@jupyter-widgets/controls",
      "model_module_version": "1.5.0",
      "model_name": "HTMLModel",
      "state": {
       "_dom_classes": [],
       "_model_module": "@jupyter-widgets/controls",
       "_model_module_version": "1.5.0",
       "_model_name": "HTMLModel",
       "_view_count": null,
       "_view_module": "@jupyter-widgets/controls",
       "_view_module_version": "1.5.0",
       "_view_name": "HTMLView",
       "description": "",
       "description_tooltip": null,
       "layout": "IPY_MODEL_5b3a47e009bf43ffb903ef3b805a574c",
       "placeholder": "​",
       "style": "IPY_MODEL_04a7ebe04bf0405c80f23d8eefeac837",
       "value": "tokenizer.json: 100%"
      }
     },
     "583c8f9f300d430fa10a700117a114fc": {
      "model_module": "@jupyter-widgets/base",
      "model_module_version": "1.2.0",
      "model_name": "LayoutModel",
      "state": {
       "_model_module": "@jupyter-widgets/base",
       "_model_module_version": "1.2.0",
       "_model_name": "LayoutModel",
       "_view_count": null,
       "_view_module": "@jupyter-widgets/base",
       "_view_module_version": "1.2.0",
       "_view_name": "LayoutView",
       "align_content": null,
       "align_items": null,
       "align_self": null,
       "border": null,
       "bottom": null,
       "display": null,
       "flex": null,
       "flex_flow": null,
       "grid_area": null,
       "grid_auto_columns": null,
       "grid_auto_flow": null,
       "grid_auto_rows": null,
       "grid_column": null,
       "grid_gap": null,
       "grid_row": null,
       "grid_template_areas": null,
       "grid_template_columns": null,
       "grid_template_rows": null,
       "height": null,
       "justify_content": null,
       "justify_items": null,
       "left": null,
       "margin": null,
       "max_height": null,
       "max_width": null,
       "min_height": null,
       "min_width": null,
       "object_fit": null,
       "object_position": null,
       "order": null,
       "overflow": null,
       "overflow_x": null,
       "overflow_y": null,
       "padding": null,
       "right": null,
       "top": null,
       "visibility": null,
       "width": null
      }
     },
     "5a1df23014324de69c1a36f0260da67d": {
      "model_module": "@jupyter-widgets/base",
      "model_module_version": "1.2.0",
      "model_name": "LayoutModel",
      "state": {
       "_model_module": "@jupyter-widgets/base",
       "_model_module_version": "1.2.0",
       "_model_name": "LayoutModel",
       "_view_count": null,
       "_view_module": "@jupyter-widgets/base",
       "_view_module_version": "1.2.0",
       "_view_name": "LayoutView",
       "align_content": null,
       "align_items": null,
       "align_self": null,
       "border": null,
       "bottom": null,
       "display": null,
       "flex": null,
       "flex_flow": null,
       "grid_area": null,
       "grid_auto_columns": null,
       "grid_auto_flow": null,
       "grid_auto_rows": null,
       "grid_column": null,
       "grid_gap": null,
       "grid_row": null,
       "grid_template_areas": null,
       "grid_template_columns": null,
       "grid_template_rows": null,
       "height": null,
       "justify_content": null,
       "justify_items": null,
       "left": null,
       "margin": null,
       "max_height": null,
       "max_width": null,
       "min_height": null,
       "min_width": null,
       "object_fit": null,
       "object_position": null,
       "order": null,
       "overflow": null,
       "overflow_x": null,
       "overflow_y": null,
       "padding": null,
       "right": null,
       "top": null,
       "visibility": null,
       "width": null
      }
     },
     "5b3a47e009bf43ffb903ef3b805a574c": {
      "model_module": "@jupyter-widgets/base",
      "model_module_version": "1.2.0",
      "model_name": "LayoutModel",
      "state": {
       "_model_module": "@jupyter-widgets/base",
       "_model_module_version": "1.2.0",
       "_model_name": "LayoutModel",
       "_view_count": null,
       "_view_module": "@jupyter-widgets/base",
       "_view_module_version": "1.2.0",
       "_view_name": "LayoutView",
       "align_content": null,
       "align_items": null,
       "align_self": null,
       "border": null,
       "bottom": null,
       "display": null,
       "flex": null,
       "flex_flow": null,
       "grid_area": null,
       "grid_auto_columns": null,
       "grid_auto_flow": null,
       "grid_auto_rows": null,
       "grid_column": null,
       "grid_gap": null,
       "grid_row": null,
       "grid_template_areas": null,
       "grid_template_columns": null,
       "grid_template_rows": null,
       "height": null,
       "justify_content": null,
       "justify_items": null,
       "left": null,
       "margin": null,
       "max_height": null,
       "max_width": null,
       "min_height": null,
       "min_width": null,
       "object_fit": null,
       "object_position": null,
       "order": null,
       "overflow": null,
       "overflow_x": null,
       "overflow_y": null,
       "padding": null,
       "right": null,
       "top": null,
       "visibility": null,
       "width": null
      }
     },
     "5fce6d1ffdaa4455b095cc30dbb830d5": {
      "model_module": "@jupyter-widgets/controls",
      "model_module_version": "1.5.0",
      "model_name": "HBoxModel",
      "state": {
       "_dom_classes": [],
       "_model_module": "@jupyter-widgets/controls",
       "_model_module_version": "1.5.0",
       "_model_name": "HBoxModel",
       "_view_count": null,
       "_view_module": "@jupyter-widgets/controls",
       "_view_module_version": "1.5.0",
       "_view_name": "HBoxView",
       "box_style": "",
       "children": [
        "IPY_MODEL_1f8a62a1544548918132e9244f5166f4",
        "IPY_MODEL_b5e4d9dfa00c4faeb74a065b0236d142",
        "IPY_MODEL_baaab3a0ee9f4abe911df5e415057488"
       ],
       "layout": "IPY_MODEL_bdb3225b2d9941588d06fed6ebb212c0"
      }
     },
     "68928bc1a8614846a99fc53760c4c9e4": {
      "model_module": "@jupyter-widgets/controls",
      "model_module_version": "1.5.0",
      "model_name": "HTMLModel",
      "state": {
       "_dom_classes": [],
       "_model_module": "@jupyter-widgets/controls",
       "_model_module_version": "1.5.0",
       "_model_name": "HTMLModel",
       "_view_count": null,
       "_view_module": "@jupyter-widgets/controls",
       "_view_module_version": "1.5.0",
       "_view_name": "HTMLView",
       "description": "",
       "description_tooltip": null,
       "layout": "IPY_MODEL_151ffc52ff9142318030ce530545a13f",
       "placeholder": "​",
       "style": "IPY_MODEL_b0364ff6ec1a49bbb5b0b0e5b982f599",
       "value": " 268M/268M [00:01&lt;00:00, 200MB/s]"
      }
     },
     "73587fec92754a01aab797fdc5fb0fd7": {
      "model_module": "@jupyter-widgets/controls",
      "model_module_version": "1.5.0",
      "model_name": "DescriptionStyleModel",
      "state": {
       "_model_module": "@jupyter-widgets/controls",
       "_model_module_version": "1.5.0",
       "_model_name": "DescriptionStyleModel",
       "_view_count": null,
       "_view_module": "@jupyter-widgets/base",
       "_view_module_version": "1.2.0",
       "_view_name": "StyleView",
       "description_width": ""
      }
     },
     "73652bc5301b4e8e8b32c4d0325b07c4": {
      "model_module": "@jupyter-widgets/base",
      "model_module_version": "1.2.0",
      "model_name": "LayoutModel",
      "state": {
       "_model_module": "@jupyter-widgets/base",
       "_model_module_version": "1.2.0",
       "_model_name": "LayoutModel",
       "_view_count": null,
       "_view_module": "@jupyter-widgets/base",
       "_view_module_version": "1.2.0",
       "_view_name": "LayoutView",
       "align_content": null,
       "align_items": null,
       "align_self": null,
       "border": null,
       "bottom": null,
       "display": null,
       "flex": null,
       "flex_flow": null,
       "grid_area": null,
       "grid_auto_columns": null,
       "grid_auto_flow": null,
       "grid_auto_rows": null,
       "grid_column": null,
       "grid_gap": null,
       "grid_row": null,
       "grid_template_areas": null,
       "grid_template_columns": null,
       "grid_template_rows": null,
       "height": null,
       "justify_content": null,
       "justify_items": null,
       "left": null,
       "margin": null,
       "max_height": null,
       "max_width": null,
       "min_height": null,
       "min_width": null,
       "object_fit": null,
       "object_position": null,
       "order": null,
       "overflow": null,
       "overflow_x": null,
       "overflow_y": null,
       "padding": null,
       "right": null,
       "top": null,
       "visibility": null,
       "width": null
      }
     },
     "775ccb3baf3840d3af1dab81aeaeebea": {
      "model_module": "@jupyter-widgets/controls",
      "model_module_version": "1.5.0",
      "model_name": "HTMLModel",
      "state": {
       "_dom_classes": [],
       "_model_module": "@jupyter-widgets/controls",
       "_model_module_version": "1.5.0",
       "_model_name": "HTMLModel",
       "_view_count": null,
       "_view_module": "@jupyter-widgets/controls",
       "_view_module_version": "1.5.0",
       "_view_name": "HTMLView",
       "description": "",
       "description_tooltip": null,
       "layout": "IPY_MODEL_0da71797e6e74c19ac19e4f8722498cc",
       "placeholder": "​",
       "style": "IPY_MODEL_08cfeee6286b4ca0afc6437a3215e280",
       "value": "config.json: 100%"
      }
     },
     "7b35213708794681923b58553539bed0": {
      "model_module": "@jupyter-widgets/base",
      "model_module_version": "1.2.0",
      "model_name": "LayoutModel",
      "state": {
       "_model_module": "@jupyter-widgets/base",
       "_model_module_version": "1.2.0",
       "_model_name": "LayoutModel",
       "_view_count": null,
       "_view_module": "@jupyter-widgets/base",
       "_view_module_version": "1.2.0",
       "_view_name": "LayoutView",
       "align_content": null,
       "align_items": null,
       "align_self": null,
       "border": null,
       "bottom": null,
       "display": null,
       "flex": null,
       "flex_flow": null,
       "grid_area": null,
       "grid_auto_columns": null,
       "grid_auto_flow": null,
       "grid_auto_rows": null,
       "grid_column": null,
       "grid_gap": null,
       "grid_row": null,
       "grid_template_areas": null,
       "grid_template_columns": null,
       "grid_template_rows": null,
       "height": null,
       "justify_content": null,
       "justify_items": null,
       "left": null,
       "margin": null,
       "max_height": null,
       "max_width": null,
       "min_height": null,
       "min_width": null,
       "object_fit": null,
       "object_position": null,
       "order": null,
       "overflow": null,
       "overflow_x": null,
       "overflow_y": null,
       "padding": null,
       "right": null,
       "top": null,
       "visibility": null,
       "width": null
      }
     },
     "85b2e4a2af3049f2b103d0ab1f21bd4a": {
      "model_module": "@jupyter-widgets/base",
      "model_module_version": "1.2.0",
      "model_name": "LayoutModel",
      "state": {
       "_model_module": "@jupyter-widgets/base",
       "_model_module_version": "1.2.0",
       "_model_name": "LayoutModel",
       "_view_count": null,
       "_view_module": "@jupyter-widgets/base",
       "_view_module_version": "1.2.0",
       "_view_name": "LayoutView",
       "align_content": null,
       "align_items": null,
       "align_self": null,
       "border": null,
       "bottom": null,
       "display": null,
       "flex": null,
       "flex_flow": null,
       "grid_area": null,
       "grid_auto_columns": null,
       "grid_auto_flow": null,
       "grid_auto_rows": null,
       "grid_column": null,
       "grid_gap": null,
       "grid_row": null,
       "grid_template_areas": null,
       "grid_template_columns": null,
       "grid_template_rows": null,
       "height": null,
       "justify_content": null,
       "justify_items": null,
       "left": null,
       "margin": null,
       "max_height": null,
       "max_width": null,
       "min_height": null,
       "min_width": null,
       "object_fit": null,
       "object_position": null,
       "order": null,
       "overflow": null,
       "overflow_x": null,
       "overflow_y": null,
       "padding": null,
       "right": null,
       "top": null,
       "visibility": null,
       "width": null
      }
     },
     "86b4778853f5411bbc62e282b95e9b7d": {
      "model_module": "@jupyter-widgets/controls",
      "model_module_version": "1.5.0",
      "model_name": "HBoxModel",
      "state": {
       "_dom_classes": [],
       "_model_module": "@jupyter-widgets/controls",
       "_model_module_version": "1.5.0",
       "_model_name": "HBoxModel",
       "_view_count": null,
       "_view_module": "@jupyter-widgets/controls",
       "_view_module_version": "1.5.0",
       "_view_name": "HBoxView",
       "box_style": "",
       "children": [
        "IPY_MODEL_52b1692daeb942fb8262a48cb4d5abce",
        "IPY_MODEL_a54921bfffa54bac81db6f50a95d68a0",
        "IPY_MODEL_8afe4f9ae94447d99901eaabd72c433b"
       ],
       "layout": "IPY_MODEL_114baf8747014e55b725fc50c5374374"
      }
     },
     "8afe4f9ae94447d99901eaabd72c433b": {
      "model_module": "@jupyter-widgets/controls",
      "model_module_version": "1.5.0",
      "model_name": "HTMLModel",
      "state": {
       "_dom_classes": [],
       "_model_module": "@jupyter-widgets/controls",
       "_model_module_version": "1.5.0",
       "_model_name": "HTMLModel",
       "_view_count": null,
       "_view_module": "@jupyter-widgets/controls",
       "_view_module_version": "1.5.0",
       "_view_name": "HTMLView",
       "description": "",
       "description_tooltip": null,
       "layout": "IPY_MODEL_f25c1da6273d45788f73145ef1e90300",
       "placeholder": "​",
       "style": "IPY_MODEL_1442fa5c5f2d4e5fa4ee9df6814e7f65",
       "value": " 466k/466k [00:00&lt;00:00, 6.28MB/s]"
      }
     },
     "91d7ce7fe06648b69afd8c281c8fd4f9": {
      "model_module": "@jupyter-widgets/controls",
      "model_module_version": "1.5.0",
      "model_name": "HTMLModel",
      "state": {
       "_dom_classes": [],
       "_model_module": "@jupyter-widgets/controls",
       "_model_module_version": "1.5.0",
       "_model_name": "HTMLModel",
       "_view_count": null,
       "_view_module": "@jupyter-widgets/controls",
       "_view_module_version": "1.5.0",
       "_view_name": "HTMLView",
       "description": "",
       "description_tooltip": null,
       "layout": "IPY_MODEL_2b7e38642a2a4945ad6c0c873b6472da",
       "placeholder": "​",
       "style": "IPY_MODEL_49066cbcb9d144c4853321c6b08c1cfe",
       "value": "tokenizer_config.json: 100%"
      }
     },
     "a0647a701fd142e79e8b1f154f36ed21": {
      "model_module": "@jupyter-widgets/base",
      "model_module_version": "1.2.0",
      "model_name": "LayoutModel",
      "state": {
       "_model_module": "@jupyter-widgets/base",
       "_model_module_version": "1.2.0",
       "_model_name": "LayoutModel",
       "_view_count": null,
       "_view_module": "@jupyter-widgets/base",
       "_view_module_version": "1.2.0",
       "_view_name": "LayoutView",
       "align_content": null,
       "align_items": null,
       "align_self": null,
       "border": null,
       "bottom": null,
       "display": null,
       "flex": null,
       "flex_flow": null,
       "grid_area": null,
       "grid_auto_columns": null,
       "grid_auto_flow": null,
       "grid_auto_rows": null,
       "grid_column": null,
       "grid_gap": null,
       "grid_row": null,
       "grid_template_areas": null,
       "grid_template_columns": null,
       "grid_template_rows": null,
       "height": null,
       "justify_content": null,
       "justify_items": null,
       "left": null,
       "margin": null,
       "max_height": null,
       "max_width": null,
       "min_height": null,
       "min_width": null,
       "object_fit": null,
       "object_position": null,
       "order": null,
       "overflow": null,
       "overflow_x": null,
       "overflow_y": null,
       "padding": null,
       "right": null,
       "top": null,
       "visibility": null,
       "width": null
      }
     },
     "a54921bfffa54bac81db6f50a95d68a0": {
      "model_module": "@jupyter-widgets/controls",
      "model_module_version": "1.5.0",
      "model_name": "FloatProgressModel",
      "state": {
       "_dom_classes": [],
       "_model_module": "@jupyter-widgets/controls",
       "_model_module_version": "1.5.0",
       "_model_name": "FloatProgressModel",
       "_view_count": null,
       "_view_module": "@jupyter-widgets/controls",
       "_view_module_version": "1.5.0",
       "_view_name": "ProgressView",
       "bar_style": "success",
       "description": "",
       "description_tooltip": null,
       "layout": "IPY_MODEL_faf3f4affcf9466091c4e397487d35a1",
       "max": 466062.0,
       "min": 0.0,
       "orientation": "horizontal",
       "style": "IPY_MODEL_3a2dc6a4758646bea1369225d9a187d0",
       "value": 466062.0
      }
     },
     "a63d846b35e047e2adbedf0481374466": {
      "model_module": "@jupyter-widgets/base",
      "model_module_version": "1.2.0",
      "model_name": "LayoutModel",
      "state": {
       "_model_module": "@jupyter-widgets/base",
       "_model_module_version": "1.2.0",
       "_model_name": "LayoutModel",
       "_view_count": null,
       "_view_module": "@jupyter-widgets/base",
       "_view_module_version": "1.2.0",
       "_view_name": "LayoutView",
       "align_content": null,
       "align_items": null,
       "align_self": null,
       "border": null,
       "bottom": null,
       "display": null,
       "flex": null,
       "flex_flow": null,
       "grid_area": null,
       "grid_auto_columns": null,
       "grid_auto_flow": null,
       "grid_auto_rows": null,
       "grid_column": null,
       "grid_gap": null,
       "grid_row": null,
       "grid_template_areas": null,
       "grid_template_columns": null,
       "grid_template_rows": null,
       "height": null,
       "justify_content": null,
       "justify_items": null,
       "left": null,
       "margin": null,
       "max_height": null,
       "max_width": null,
       "min_height": null,
       "min_width": null,
       "object_fit": null,
       "object_position": null,
       "order": null,
       "overflow": null,
       "overflow_x": null,
       "overflow_y": null,
       "padding": null,
       "right": null,
       "top": null,
       "visibility": null,
       "width": null
      }
     },
     "b0364ff6ec1a49bbb5b0b0e5b982f599": {
      "model_module": "@jupyter-widgets/controls",
      "model_module_version": "1.5.0",
      "model_name": "DescriptionStyleModel",
      "state": {
       "_model_module": "@jupyter-widgets/controls",
       "_model_module_version": "1.5.0",
       "_model_name": "DescriptionStyleModel",
       "_view_count": null,
       "_view_module": "@jupyter-widgets/base",
       "_view_module_version": "1.2.0",
       "_view_name": "StyleView",
       "description_width": ""
      }
     },
     "b5e4d9dfa00c4faeb74a065b0236d142": {
      "model_module": "@jupyter-widgets/controls",
      "model_module_version": "1.5.0",
      "model_name": "FloatProgressModel",
      "state": {
       "_dom_classes": [],
       "_model_module": "@jupyter-widgets/controls",
       "_model_module_version": "1.5.0",
       "_model_name": "FloatProgressModel",
       "_view_count": null,
       "_view_module": "@jupyter-widgets/controls",
       "_view_module_version": "1.5.0",
       "_view_name": "ProgressView",
       "bar_style": "success",
       "description": "",
       "description_tooltip": null,
       "layout": "IPY_MODEL_a63d846b35e047e2adbedf0481374466",
       "max": 231508.0,
       "min": 0.0,
       "orientation": "horizontal",
       "style": "IPY_MODEL_0df0567ba28644938fc870fa000a1c8c",
       "value": 231508.0
      }
     },
     "baaab3a0ee9f4abe911df5e415057488": {
      "model_module": "@jupyter-widgets/controls",
      "model_module_version": "1.5.0",
      "model_name": "HTMLModel",
      "state": {
       "_dom_classes": [],
       "_model_module": "@jupyter-widgets/controls",
       "_model_module_version": "1.5.0",
       "_model_name": "HTMLModel",
       "_view_count": null,
       "_view_module": "@jupyter-widgets/controls",
       "_view_module_version": "1.5.0",
       "_view_name": "HTMLView",
       "description": "",
       "description_tooltip": null,
       "layout": "IPY_MODEL_7b35213708794681923b58553539bed0",
       "placeholder": "​",
       "style": "IPY_MODEL_bb1c31a2578b4b09a2aea144801deeeb",
       "value": " 232k/232k [00:00&lt;00:00, 4.13MB/s]"
      }
     },
     "bb06aab70001490382a7149426d23419": {
      "model_module": "@jupyter-widgets/base",
      "model_module_version": "1.2.0",
      "model_name": "LayoutModel",
      "state": {
       "_model_module": "@jupyter-widgets/base",
       "_model_module_version": "1.2.0",
       "_model_name": "LayoutModel",
       "_view_count": null,
       "_view_module": "@jupyter-widgets/base",
       "_view_module_version": "1.2.0",
       "_view_name": "LayoutView",
       "align_content": null,
       "align_items": null,
       "align_self": null,
       "border": null,
       "bottom": null,
       "display": null,
       "flex": null,
       "flex_flow": null,
       "grid_area": null,
       "grid_auto_columns": null,
       "grid_auto_flow": null,
       "grid_auto_rows": null,
       "grid_column": null,
       "grid_gap": null,
       "grid_row": null,
       "grid_template_areas": null,
       "grid_template_columns": null,
       "grid_template_rows": null,
       "height": null,
       "justify_content": null,
       "justify_items": null,
       "left": null,
       "margin": null,
       "max_height": null,
       "max_width": null,
       "min_height": null,
       "min_width": null,
       "object_fit": null,
       "object_position": null,
       "order": null,
       "overflow": null,
       "overflow_x": null,
       "overflow_y": null,
       "padding": null,
       "right": null,
       "top": null,
       "visibility": null,
       "width": null
      }
     },
     "bb1c31a2578b4b09a2aea144801deeeb": {
      "model_module": "@jupyter-widgets/controls",
      "model_module_version": "1.5.0",
      "model_name": "DescriptionStyleModel",
      "state": {
       "_model_module": "@jupyter-widgets/controls",
       "_model_module_version": "1.5.0",
       "_model_name": "DescriptionStyleModel",
       "_view_count": null,
       "_view_module": "@jupyter-widgets/base",
       "_view_module_version": "1.2.0",
       "_view_name": "StyleView",
       "description_width": ""
      }
     },
     "bdb3225b2d9941588d06fed6ebb212c0": {
      "model_module": "@jupyter-widgets/base",
      "model_module_version": "1.2.0",
      "model_name": "LayoutModel",
      "state": {
       "_model_module": "@jupyter-widgets/base",
       "_model_module_version": "1.2.0",
       "_model_name": "LayoutModel",
       "_view_count": null,
       "_view_module": "@jupyter-widgets/base",
       "_view_module_version": "1.2.0",
       "_view_name": "LayoutView",
       "align_content": null,
       "align_items": null,
       "align_self": null,
       "border": null,
       "bottom": null,
       "display": null,
       "flex": null,
       "flex_flow": null,
       "grid_area": null,
       "grid_auto_columns": null,
       "grid_auto_flow": null,
       "grid_auto_rows": null,
       "grid_column": null,
       "grid_gap": null,
       "grid_row": null,
       "grid_template_areas": null,
       "grid_template_columns": null,
       "grid_template_rows": null,
       "height": null,
       "justify_content": null,
       "justify_items": null,
       "left": null,
       "margin": null,
       "max_height": null,
       "max_width": null,
       "min_height": null,
       "min_width": null,
       "object_fit": null,
       "object_position": null,
       "order": null,
       "overflow": null,
       "overflow_x": null,
       "overflow_y": null,
       "padding": null,
       "right": null,
       "top": null,
       "visibility": null,
       "width": null
      }
     },
     "c107701cda244e3294c8f8714c64b13c": {
      "model_module": "@jupyter-widgets/controls",
      "model_module_version": "1.5.0",
      "model_name": "DescriptionStyleModel",
      "state": {
       "_model_module": "@jupyter-widgets/controls",
       "_model_module_version": "1.5.0",
       "_model_name": "DescriptionStyleModel",
       "_view_count": null,
       "_view_module": "@jupyter-widgets/base",
       "_view_module_version": "1.2.0",
       "_view_name": "StyleView",
       "description_width": ""
      }
     },
     "d0c3a22a34b64510a9cb83ea4c4eac4f": {
      "model_module": "@jupyter-widgets/controls",
      "model_module_version": "1.5.0",
      "model_name": "FloatProgressModel",
      "state": {
       "_dom_classes": [],
       "_model_module": "@jupyter-widgets/controls",
       "_model_module_version": "1.5.0",
       "_model_name": "FloatProgressModel",
       "_view_count": null,
       "_view_module": "@jupyter-widgets/controls",
       "_view_module_version": "1.5.0",
       "_view_name": "ProgressView",
       "bar_style": "success",
       "description": "",
       "description_tooltip": null,
       "layout": "IPY_MODEL_85b2e4a2af3049f2b103d0ab1f21bd4a",
       "max": 28.0,
       "min": 0.0,
       "orientation": "horizontal",
       "style": "IPY_MODEL_38e1899c6d8340698cf1336d72967665",
       "value": 28.0
      }
     },
     "d1b08941c642478d9d9363e6912a883f": {
      "model_module": "@jupyter-widgets/base",
      "model_module_version": "1.2.0",
      "model_name": "LayoutModel",
      "state": {
       "_model_module": "@jupyter-widgets/base",
       "_model_module_version": "1.2.0",
       "_model_name": "LayoutModel",
       "_view_count": null,
       "_view_module": "@jupyter-widgets/base",
       "_view_module_version": "1.2.0",
       "_view_name": "LayoutView",
       "align_content": null,
       "align_items": null,
       "align_self": null,
       "border": null,
       "bottom": null,
       "display": null,
       "flex": null,
       "flex_flow": null,
       "grid_area": null,
       "grid_auto_columns": null,
       "grid_auto_flow": null,
       "grid_auto_rows": null,
       "grid_column": null,
       "grid_gap": null,
       "grid_row": null,
       "grid_template_areas": null,
       "grid_template_columns": null,
       "grid_template_rows": null,
       "height": null,
       "justify_content": null,
       "justify_items": null,
       "left": null,
       "margin": null,
       "max_height": null,
       "max_width": null,
       "min_height": null,
       "min_width": null,
       "object_fit": null,
       "object_position": null,
       "order": null,
       "overflow": null,
       "overflow_x": null,
       "overflow_y": null,
       "padding": null,
       "right": null,
       "top": null,
       "visibility": null,
       "width": null
      }
     },
     "d9885d33b38d4e509614a54a32773577": {
      "model_module": "@jupyter-widgets/controls",
      "model_module_version": "1.5.0",
      "model_name": "HTMLModel",
      "state": {
       "_dom_classes": [],
       "_model_module": "@jupyter-widgets/controls",
       "_model_module_version": "1.5.0",
       "_model_name": "HTMLModel",
       "_view_count": null,
       "_view_module": "@jupyter-widgets/controls",
       "_view_module_version": "1.5.0",
       "_view_name": "HTMLView",
       "description": "",
       "description_tooltip": null,
       "layout": "IPY_MODEL_a0647a701fd142e79e8b1f154f36ed21",
       "placeholder": "​",
       "style": "IPY_MODEL_e5efb5611e554e0b9427ec37e41501ea",
       "value": "model.safetensors: 100%"
      }
     },
     "dd57c24d03024b528b45a5505cefa6c6": {
      "model_module": "@jupyter-widgets/controls",
      "model_module_version": "1.5.0",
      "model_name": "ProgressStyleModel",
      "state": {
       "_model_module": "@jupyter-widgets/controls",
       "_model_module_version": "1.5.0",
       "_model_name": "ProgressStyleModel",
       "_view_count": null,
       "_view_module": "@jupyter-widgets/base",
       "_view_module_version": "1.2.0",
       "_view_name": "StyleView",
       "bar_color": null,
       "description_width": ""
      }
     },
     "e09e123f20ac4c7b9c2e64a4bebd9054": {
      "model_module": "@jupyter-widgets/controls",
      "model_module_version": "1.5.0",
      "model_name": "FloatProgressModel",
      "state": {
       "_dom_classes": [],
       "_model_module": "@jupyter-widgets/controls",
       "_model_module_version": "1.5.0",
       "_model_name": "FloatProgressModel",
       "_view_count": null,
       "_view_module": "@jupyter-widgets/controls",
       "_view_module_version": "1.5.0",
       "_view_name": "ProgressView",
       "bar_style": "success",
       "description": "",
       "description_tooltip": null,
       "layout": "IPY_MODEL_d1b08941c642478d9d9363e6912a883f",
       "max": 483.0,
       "min": 0.0,
       "orientation": "horizontal",
       "style": "IPY_MODEL_38e6bbbf9e4f438cb13439b2f2da2a3b",
       "value": 483.0
      }
     },
     "e4413e6b778346f6a66d941958401a47": {
      "model_module": "@jupyter-widgets/controls",
      "model_module_version": "1.5.0",
      "model_name": "DescriptionStyleModel",
      "state": {
       "_model_module": "@jupyter-widgets/controls",
       "_model_module_version": "1.5.0",
       "_model_name": "DescriptionStyleModel",
       "_view_count": null,
       "_view_module": "@jupyter-widgets/base",
       "_view_module_version": "1.2.0",
       "_view_name": "StyleView",
       "description_width": ""
      }
     },
     "e5efb5611e554e0b9427ec37e41501ea": {
      "model_module": "@jupyter-widgets/controls",
      "model_module_version": "1.5.0",
      "model_name": "DescriptionStyleModel",
      "state": {
       "_model_module": "@jupyter-widgets/controls",
       "_model_module_version": "1.5.0",
       "_model_name": "DescriptionStyleModel",
       "_view_count": null,
       "_view_module": "@jupyter-widgets/base",
       "_view_module_version": "1.2.0",
       "_view_name": "StyleView",
       "description_width": ""
      }
     },
     "ee593b45997e4834892ee5fe21b62371": {
      "model_module": "@jupyter-widgets/controls",
      "model_module_version": "1.5.0",
      "model_name": "HTMLModel",
      "state": {
       "_dom_classes": [],
       "_model_module": "@jupyter-widgets/controls",
       "_model_module_version": "1.5.0",
       "_model_name": "HTMLModel",
       "_view_count": null,
       "_view_module": "@jupyter-widgets/controls",
       "_view_module_version": "1.5.0",
       "_view_name": "HTMLView",
       "description": "",
       "description_tooltip": null,
       "layout": "IPY_MODEL_73652bc5301b4e8e8b32c4d0325b07c4",
       "placeholder": "​",
       "style": "IPY_MODEL_c107701cda244e3294c8f8714c64b13c",
       "value": " 28.0/28.0 [00:00&lt;00:00, 2.37kB/s]"
      }
     },
     "f1f0ea878d7444a3a20c1e3f96e76649": {
      "model_module": "@jupyter-widgets/controls",
      "model_module_version": "1.5.0",
      "model_name": "HBoxModel",
      "state": {
       "_dom_classes": [],
       "_model_module": "@jupyter-widgets/controls",
       "_model_module_version": "1.5.0",
       "_model_name": "HBoxModel",
       "_view_count": null,
       "_view_module": "@jupyter-widgets/controls",
       "_view_module_version": "1.5.0",
       "_view_name": "HBoxView",
       "box_style": "",
       "children": [
        "IPY_MODEL_91d7ce7fe06648b69afd8c281c8fd4f9",
        "IPY_MODEL_d0c3a22a34b64510a9cb83ea4c4eac4f",
        "IPY_MODEL_ee593b45997e4834892ee5fe21b62371"
       ],
       "layout": "IPY_MODEL_f4c70d15dfb744fdb1bdd148f86a472d"
      }
     },
     "f25c1da6273d45788f73145ef1e90300": {
      "model_module": "@jupyter-widgets/base",
      "model_module_version": "1.2.0",
      "model_name": "LayoutModel",
      "state": {
       "_model_module": "@jupyter-widgets/base",
       "_model_module_version": "1.2.0",
       "_model_name": "LayoutModel",
       "_view_count": null,
       "_view_module": "@jupyter-widgets/base",
       "_view_module_version": "1.2.0",
       "_view_name": "LayoutView",
       "align_content": null,
       "align_items": null,
       "align_self": null,
       "border": null,
       "bottom": null,
       "display": null,
       "flex": null,
       "flex_flow": null,
       "grid_area": null,
       "grid_auto_columns": null,
       "grid_auto_flow": null,
       "grid_auto_rows": null,
       "grid_column": null,
       "grid_gap": null,
       "grid_row": null,
       "grid_template_areas": null,
       "grid_template_columns": null,
       "grid_template_rows": null,
       "height": null,
       "justify_content": null,
       "justify_items": null,
       "left": null,
       "margin": null,
       "max_height": null,
       "max_width": null,
       "min_height": null,
       "min_width": null,
       "object_fit": null,
       "object_position": null,
       "order": null,
       "overflow": null,
       "overflow_x": null,
       "overflow_y": null,
       "padding": null,
       "right": null,
       "top": null,
       "visibility": null,
       "width": null
      }
     },
     "f4c70d15dfb744fdb1bdd148f86a472d": {
      "model_module": "@jupyter-widgets/base",
      "model_module_version": "1.2.0",
      "model_name": "LayoutModel",
      "state": {
       "_model_module": "@jupyter-widgets/base",
       "_model_module_version": "1.2.0",
       "_model_name": "LayoutModel",
       "_view_count": null,
       "_view_module": "@jupyter-widgets/base",
       "_view_module_version": "1.2.0",
       "_view_name": "LayoutView",
       "align_content": null,
       "align_items": null,
       "align_self": null,
       "border": null,
       "bottom": null,
       "display": null,
       "flex": null,
       "flex_flow": null,
       "grid_area": null,
       "grid_auto_columns": null,
       "grid_auto_flow": null,
       "grid_auto_rows": null,
       "grid_column": null,
       "grid_gap": null,
       "grid_row": null,
       "grid_template_areas": null,
       "grid_template_columns": null,
       "grid_template_rows": null,
       "height": null,
       "justify_content": null,
       "justify_items": null,
       "left": null,
       "margin": null,
       "max_height": null,
       "max_width": null,
       "min_height": null,
       "min_width": null,
       "object_fit": null,
       "object_position": null,
       "order": null,
       "overflow": null,
       "overflow_x": null,
       "overflow_y": null,
       "padding": null,
       "right": null,
       "top": null,
       "visibility": null,
       "width": null
      }
     },
     "faf3f4affcf9466091c4e397487d35a1": {
      "model_module": "@jupyter-widgets/base",
      "model_module_version": "1.2.0",
      "model_name": "LayoutModel",
      "state": {
       "_model_module": "@jupyter-widgets/base",
       "_model_module_version": "1.2.0",
       "_model_name": "LayoutModel",
       "_view_count": null,
       "_view_module": "@jupyter-widgets/base",
       "_view_module_version": "1.2.0",
       "_view_name": "LayoutView",
       "align_content": null,
       "align_items": null,
       "align_self": null,
       "border": null,
       "bottom": null,
       "display": null,
       "flex": null,
       "flex_flow": null,
       "grid_area": null,
       "grid_auto_columns": null,
       "grid_auto_flow": null,
       "grid_auto_rows": null,
       "grid_column": null,
       "grid_gap": null,
       "grid_row": null,
       "grid_template_areas": null,
       "grid_template_columns": null,
       "grid_template_rows": null,
       "height": null,
       "justify_content": null,
       "justify_items": null,
       "left": null,
       "margin": null,
       "max_height": null,
       "max_width": null,
       "min_height": null,
       "min_width": null,
       "object_fit": null,
       "object_position": null,
       "order": null,
       "overflow": null,
       "overflow_x": null,
       "overflow_y": null,
       "padding": null,
       "right": null,
       "top": null,
       "visibility": null,
       "width": null
      }
     },
     "fff187791058432b98479d2f01fe960d": {
      "model_module": "@jupyter-widgets/controls",
      "model_module_version": "1.5.0",
      "model_name": "HTMLModel",
      "state": {
       "_dom_classes": [],
       "_model_module": "@jupyter-widgets/controls",
       "_model_module_version": "1.5.0",
       "_model_name": "HTMLModel",
       "_view_count": null,
       "_view_module": "@jupyter-widgets/controls",
       "_view_module_version": "1.5.0",
       "_view_name": "HTMLView",
       "description": "",
       "description_tooltip": null,
       "layout": "IPY_MODEL_2ab3a017cfc84722b78583cec702aea0",
       "placeholder": "​",
       "style": "IPY_MODEL_73587fec92754a01aab797fdc5fb0fd7",
       "value": " 483/483 [00:00&lt;00:00, 44.6kB/s]"
      }
     }
    },
    "version_major": 2,
    "version_minor": 0
   }
  }
 },
 "nbformat": 4,
 "nbformat_minor": 5
}
