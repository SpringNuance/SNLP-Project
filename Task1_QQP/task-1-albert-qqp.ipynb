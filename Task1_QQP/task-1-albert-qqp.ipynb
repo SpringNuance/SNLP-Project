{
 "cells": [
  {
   "cell_type": "markdown",
   "id": "df46443b",
   "metadata": {
    "papermill": {
     "duration": 0.025331,
     "end_time": "2024-04-17T08:06:19.219376",
     "exception": false,
     "start_time": "2024-04-17T08:06:19.194045",
     "status": "completed"
    },
    "tags": []
   },
   "source": [
    "# Fine-Tuning BERT on Quora Question pairs\n",
    "\n",
    "# Introduction\n",
    "\n",
    "In this project, we would use a variety of BERT models (BERT, RoBERTa, ALBERT, DistilBERT, DeBERTa) with the HuggingFace PyTorch library to fine-tune a model to fit the QQP dataset. \n",
    "\n",
    "### BERT (Bidirectional Encoder Representations from Transformers) \n",
    "\n",
    "Original model code [here](https://github.com/google-research/bert) for NLP tasks.\n",
    "\n",
    "BERT consists of 12 Transformer Encoding layers (or 24 for large BERT)\n",
    "\n",
    "\n",
    "# Quora Question Pairs Dataset\n",
    "[Quora](https://www.quora.com/) is a question-and-answer website where questions are asked, answered, followed, and edited by Internet users, either factually or in the form of opinions. Quora was co-founded by former Facebook employees Adam D'Angelo and Charlie Cheever in June 2009. website was made available to the public for the first time on June 21, 2010. Today the website is available in many languages.\n",
    "\n",
    "Over 100 million people visit Quora every month, so it's no surprise that many people ask similarly worded questions. Multiple questions with the same intent can cause seekers to spend more time finding the best answer to their question, and make writers feel they need to answer multiple versions of the same question.\n",
    "\n",
    "The goal is to predict which of the provided pairs of questions contain two questions with the same meaning. The ground truth is the set of labels that have been supplied by human experts. The dataset itself can be downloaded from kaggle: [here](https://www.kaggle.com/c/quora-question-pairs/).\n",
    "\n",
    "## Data fields\n",
    "* id - the id of a training set question pair\n",
    "* qid1, qid2 - unique ids of each question (only available in train.csv)\n",
    "* question1, question2 - the full text of each question\n",
    "* is_duplicate - the target variable, set to 1 if question1 and question2 have essentially the same meaning, and 0 otherwise."
   ]
  },
  {
   "cell_type": "markdown",
   "id": "44af7d5c",
   "metadata": {
    "papermill": {
     "duration": 0.024404,
     "end_time": "2024-04-17T08:06:19.270061",
     "exception": false,
     "start_time": "2024-04-17T08:06:19.245657",
     "status": "completed"
    },
    "tags": []
   },
   "source": [
    "To make use of GPU, this notebook should be run on Google Colab or Kaggle. It is highly inadvisable to run this notebook on a local machine as it would take a very long time to train the model. However you can run on local for testing purposes."
   ]
  },
  {
   "cell_type": "code",
   "execution_count": 1,
   "id": "00ccf4fd",
   "metadata": {
    "execution": {
     "iopub.execute_input": "2024-04-17T08:06:19.321250Z",
     "iopub.status.busy": "2024-04-17T08:06:19.320406Z",
     "iopub.status.idle": "2024-04-17T08:06:19.338295Z",
     "shell.execute_reply": "2024-04-17T08:06:19.337301Z"
    },
    "papermill": {
     "duration": 0.045817,
     "end_time": "2024-04-17T08:06:19.340179",
     "exception": false,
     "start_time": "2024-04-17T08:06:19.294362",
     "status": "completed"
    },
    "tags": []
   },
   "outputs": [
    {
     "name": "stdout",
     "output_type": "stream",
     "text": [
      "/kaggle/input/test.tsv\n",
      "/kaggle/input/quora_duplicate_questions.tsv\n",
      "/kaggle/input/dev.tsv\n",
      "/kaggle/input/train.tsv\n"
     ]
    }
   ],
   "source": [
    "# Input data files are available in the read-only \"../input/\" directory\n",
    "# For example, running this (by clicking run or pressing Shift+Enter) will list all files under the input directory\n",
    "\n",
    "import os\n",
    "for dirname, _, filenames in os.walk('/kaggle/input'):\n",
    "    for filename in filenames:\n",
    "        print(os.path.join(dirname, filename))\n",
    "\n",
    "# You can write up to 20GB to the current directory (/kaggle/working/) that gets preserved as output when you create a version using \"Save & Run All\" \n",
    "# You can also write temporary files to /kaggle/temp/, but they won't be saved outside of the current session"
   ]
  },
  {
   "cell_type": "code",
   "execution_count": 2,
   "id": "435ed6cf",
   "metadata": {
    "execution": {
     "iopub.execute_input": "2024-04-17T08:06:19.391474Z",
     "iopub.status.busy": "2024-04-17T08:06:19.390861Z",
     "iopub.status.idle": "2024-04-17T08:06:24.960627Z",
     "shell.execute_reply": "2024-04-17T08:06:24.959646Z"
    },
    "papermill": {
     "duration": 5.598286,
     "end_time": "2024-04-17T08:06:24.963135",
     "exception": false,
     "start_time": "2024-04-17T08:06:19.364849",
     "status": "completed"
    },
    "tags": []
   },
   "outputs": [],
   "source": [
    "### Importing all necessary libraries\n",
    "\n",
    "import pandas as pd\n",
    "import numpy as np\n",
    "import matplotlib.pyplot as plt\n",
    "from sklearn.model_selection import train_test_split\n",
    "\n",
    "import torch\n",
    "from tqdm import tqdm\n",
    "from torch.utils.data import TensorDataset"
   ]
  },
  {
   "cell_type": "markdown",
   "id": "012dba2c",
   "metadata": {
    "papermill": {
     "duration": 0.024609,
     "end_time": "2024-04-17T08:06:25.013384",
     "exception": false,
     "start_time": "2024-04-17T08:06:24.988775",
     "status": "completed"
    },
    "tags": []
   },
   "source": [
    "#### Due to memory and time limit issues, we cannot really use the whole dataset for fine tuning. As a result, we would use a subset of the dataset for training and validation."
   ]
  },
  {
   "cell_type": "code",
   "execution_count": 3,
   "id": "85f5ef51",
   "metadata": {
    "execution": {
     "iopub.execute_input": "2024-04-17T08:06:25.065430Z",
     "iopub.status.busy": "2024-04-17T08:06:25.064961Z",
     "iopub.status.idle": "2024-04-17T08:06:25.069367Z",
     "shell.execute_reply": "2024-04-17T08:06:25.068501Z"
    },
    "papermill": {
     "duration": 0.033292,
     "end_time": "2024-04-17T08:06:25.071368",
     "exception": false,
     "start_time": "2024-04-17T08:06:25.038076",
     "status": "completed"
    },
    "tags": []
   },
   "outputs": [],
   "source": [
    "num_train_plus_test = 20000 # Later, train and test data ratio is 80:20\n",
    "num_val = 2000 \n",
    "num_unknown_labels_test = 5000\n",
    "# If you want to use all data, set values to None"
   ]
  },
  {
   "cell_type": "code",
   "execution_count": 4,
   "id": "6a4fa572",
   "metadata": {
    "execution": {
     "iopub.execute_input": "2024-04-17T08:06:25.123639Z",
     "iopub.status.busy": "2024-04-17T08:06:25.122878Z",
     "iopub.status.idle": "2024-04-17T08:06:25.321726Z",
     "shell.execute_reply": "2024-04-17T08:06:25.320726Z"
    },
    "papermill": {
     "duration": 0.227696,
     "end_time": "2024-04-17T08:06:25.323822",
     "exception": false,
     "start_time": "2024-04-17T08:06:25.096126",
     "status": "completed"
    },
    "tags": []
   },
   "outputs": [
    {
     "name": "stdout",
     "output_type": "stream",
     "text": [
      "5000\n"
     ]
    },
    {
     "data": {
      "text/html": [
       "<div>\n",
       "<style scoped>\n",
       "    .dataframe tbody tr th:only-of-type {\n",
       "        vertical-align: middle;\n",
       "    }\n",
       "\n",
       "    .dataframe tbody tr th {\n",
       "        vertical-align: top;\n",
       "    }\n",
       "\n",
       "    .dataframe thead th {\n",
       "        text-align: right;\n",
       "    }\n",
       "</style>\n",
       "<table border=\"1\" class=\"dataframe\">\n",
       "  <thead>\n",
       "    <tr style=\"text-align: right;\">\n",
       "      <th></th>\n",
       "      <th>id</th>\n",
       "      <th>qid1</th>\n",
       "      <th>qid2</th>\n",
       "      <th>question1</th>\n",
       "      <th>question2</th>\n",
       "      <th>is_duplicate</th>\n",
       "    </tr>\n",
       "  </thead>\n",
       "  <tbody>\n",
       "    <tr>\n",
       "      <th>0</th>\n",
       "      <td>133273</td>\n",
       "      <td>213221</td>\n",
       "      <td>213222</td>\n",
       "      <td>How is the life of a math student? Could you d...</td>\n",
       "      <td>Which level of prepration is enough for the ex...</td>\n",
       "      <td>0</td>\n",
       "    </tr>\n",
       "    <tr>\n",
       "      <th>1</th>\n",
       "      <td>402555</td>\n",
       "      <td>536040</td>\n",
       "      <td>536041</td>\n",
       "      <td>How do I control my horny emotions?</td>\n",
       "      <td>How do you control your horniness?</td>\n",
       "      <td>1</td>\n",
       "    </tr>\n",
       "    <tr>\n",
       "      <th>2</th>\n",
       "      <td>360472</td>\n",
       "      <td>364011</td>\n",
       "      <td>490273</td>\n",
       "      <td>What causes stool color to change to yellow?</td>\n",
       "      <td>What can cause stool to come out as little balls?</td>\n",
       "      <td>0</td>\n",
       "    </tr>\n",
       "    <tr>\n",
       "      <th>3</th>\n",
       "      <td>150662</td>\n",
       "      <td>155721</td>\n",
       "      <td>7256</td>\n",
       "      <td>What can one do after MBBS?</td>\n",
       "      <td>What do i do after my MBBS ?</td>\n",
       "      <td>1</td>\n",
       "    </tr>\n",
       "    <tr>\n",
       "      <th>4</th>\n",
       "      <td>183004</td>\n",
       "      <td>279958</td>\n",
       "      <td>279959</td>\n",
       "      <td>Where can I find a power outlet for my laptop ...</td>\n",
       "      <td>Would a second airport in Sydney, Australia be...</td>\n",
       "      <td>0</td>\n",
       "    </tr>\n",
       "  </tbody>\n",
       "</table>\n",
       "</div>"
      ],
      "text/plain": [
       "       id    qid1    qid2                                          question1  \\\n",
       "0  133273  213221  213222  How is the life of a math student? Could you d...   \n",
       "1  402555  536040  536041                How do I control my horny emotions?   \n",
       "2  360472  364011  490273       What causes stool color to change to yellow?   \n",
       "3  150662  155721    7256                        What can one do after MBBS?   \n",
       "4  183004  279958  279959  Where can I find a power outlet for my laptop ...   \n",
       "\n",
       "                                           question2  is_duplicate  \n",
       "0  Which level of prepration is enough for the ex...             0  \n",
       "1                 How do you control your horniness?             1  \n",
       "2  What can cause stool to come out as little balls?             0  \n",
       "3                       What do i do after my MBBS ?             1  \n",
       "4  Would a second airport in Sydney, Australia be...             0  "
      ]
     },
     "execution_count": 4,
     "metadata": {},
     "output_type": "execute_result"
    }
   ],
   "source": [
    "# train_qqp = pd.read_csv(\"/kaggle/input/snlp-project-qqp/train.tsv\", sep=\"\\t\")\n",
    "# dev_qqp = pd.read_csv(\"/kaggle/input/snlp-project-qqp/dev.tsv\", sep=\"\\t\")\n",
    "\n",
    "train_qqp = pd.read_csv(\"/kaggle/input/train.tsv\", sep=\"\\t\", nrows=num_train_plus_test)\n",
    "dev_qqp = pd.read_csv(\"/kaggle/input/dev.tsv\", sep=\"\\t\", nrows=num_val)\n",
    "\n",
    "test_unknown_label_qqp = pd.read_csv(\"/kaggle/input/test.tsv\", sep=\"\\t\", nrows=num_unknown_labels_test)\n",
    "print(len(test_unknown_label_qqp))\n",
    "train_qqp.head()"
   ]
  },
  {
   "cell_type": "markdown",
   "id": "5c82868c",
   "metadata": {
    "papermill": {
     "duration": 0.024858,
     "end_time": "2024-04-17T08:06:25.374086",
     "exception": false,
     "start_time": "2024-04-17T08:06:25.349228",
     "status": "completed"
    },
    "tags": []
   },
   "source": [
    "## BertForSequenceClassification\n",
    "\n",
    "For this task, we first want to modify the pre-trained BERT model to give outputs for classification, and then we want to continue training the model on our dataset until that the entire model, end-to-end, is well-suited for our task.\n",
    "\n",
    "We’ll be using [BertForSequenceClassification](https://huggingface.co/transformers/model_doc/bert.html#bertforsequenceclassification). This is the normal BERT model with an added single linear layer on top for classification that we will use as a sentence classifier. As we feed input data, the entire pre-trained BERT model and the additional untrained classification layer is trained on our specific task."
   ]
  },
  {
   "cell_type": "markdown",
   "id": "4ed9c223",
   "metadata": {
    "papermill": {
     "duration": 0.024655,
     "end_time": "2024-04-17T08:06:25.423744",
     "exception": false,
     "start_time": "2024-04-17T08:06:25.399089",
     "status": "completed"
    },
    "tags": []
   },
   "source": [
    "### Choosing the BERT variant and the Tokenizer\n",
    "\n",
    "To feed our text to BERT, it must be split into tokens, and then these tokens must be mapped to their index in the tokenizer vocabulary. The tokenization must be performed by the tokenizer included with BERT. This Tokenizer is build upon the WordPiece tokenizer. "
   ]
  },
  {
   "cell_type": "code",
   "execution_count": 5,
   "id": "fae6b0a8",
   "metadata": {
    "execution": {
     "iopub.execute_input": "2024-04-17T08:06:25.475460Z",
     "iopub.status.busy": "2024-04-17T08:06:25.474636Z",
     "iopub.status.idle": "2024-04-17T08:06:25.538539Z",
     "shell.execute_reply": "2024-04-17T08:06:25.537451Z"
    },
    "papermill": {
     "duration": 0.091945,
     "end_time": "2024-04-17T08:06:25.540504",
     "exception": false,
     "start_time": "2024-04-17T08:06:25.448559",
     "status": "completed"
    },
    "tags": []
   },
   "outputs": [
    {
     "name": "stdout",
     "output_type": "stream",
     "text": [
      "The current device is cuda\n"
     ]
    }
   ],
   "source": [
    "device = torch.device(\"cuda\" if torch.cuda.is_available() else \"cpu\")\n",
    "print(\"The current device is\", device)"
   ]
  },
  {
   "cell_type": "code",
   "execution_count": 6,
   "id": "95df6fc5",
   "metadata": {
    "execution": {
     "iopub.execute_input": "2024-04-17T08:06:25.591962Z",
     "iopub.status.busy": "2024-04-17T08:06:25.591312Z",
     "iopub.status.idle": "2024-04-17T08:06:31.543970Z",
     "shell.execute_reply": "2024-04-17T08:06:31.543109Z"
    },
    "papermill": {
     "duration": 5.980838,
     "end_time": "2024-04-17T08:06:31.546432",
     "exception": false,
     "start_time": "2024-04-17T08:06:25.565594",
     "status": "completed"
    },
    "tags": []
   },
   "outputs": [
    {
     "data": {
      "application/vnd.jupyter.widget-view+json": {
       "model_id": "418b821e36c14f11ba36daf53e391b32",
       "version_major": 2,
       "version_minor": 0
      },
      "text/plain": [
       "tokenizer_config.json:   0%|          | 0.00/25.0 [00:00<?, ?B/s]"
      ]
     },
     "metadata": {},
     "output_type": "display_data"
    },
    {
     "data": {
      "application/vnd.jupyter.widget-view+json": {
       "model_id": "b5ebf503893d4153bac1ea8aab6add61",
       "version_major": 2,
       "version_minor": 0
      },
      "text/plain": [
       "config.json:   0%|          | 0.00/684 [00:00<?, ?B/s]"
      ]
     },
     "metadata": {},
     "output_type": "display_data"
    },
    {
     "data": {
      "application/vnd.jupyter.widget-view+json": {
       "model_id": "0bc37a2590c147b7b6d1177e40a11a26",
       "version_major": 2,
       "version_minor": 0
      },
      "text/plain": [
       "spiece.model:   0%|          | 0.00/760k [00:00<?, ?B/s]"
      ]
     },
     "metadata": {},
     "output_type": "display_data"
    },
    {
     "data": {
      "application/vnd.jupyter.widget-view+json": {
       "model_id": "7a24e005c650435995d6b0baa35d3e04",
       "version_major": 2,
       "version_minor": 0
      },
      "text/plain": [
       "tokenizer.json:   0%|          | 0.00/1.31M [00:00<?, ?B/s]"
      ]
     },
     "metadata": {},
     "output_type": "display_data"
    },
    {
     "data": {
      "application/vnd.jupyter.widget-view+json": {
       "model_id": "594fadef01d34b24b34a6144df7c72e9",
       "version_major": 2,
       "version_minor": 0
      },
      "text/plain": [
       "model.safetensors:   0%|          | 0.00/47.4M [00:00<?, ?B/s]"
      ]
     },
     "metadata": {},
     "output_type": "display_data"
    },
    {
     "name": "stderr",
     "output_type": "stream",
     "text": [
      "Some weights of AlbertForSequenceClassification were not initialized from the model checkpoint at albert-base-v2 and are newly initialized: ['classifier.bias', 'classifier.weight']\n",
      "You should probably TRAIN this model on a down-stream task to be able to use it for predictions and inference.\n"
     ]
    }
   ],
   "source": [
    "# PLEASE CHOOSE THE BERT VARIANT MODEL\n",
    "\n",
    "# bert_model_name = \"bert-base-uncased\"\n",
    "# bert_model_name = \"roberta-base\"\n",
    "# bert_model_name = \"distilbert-base-uncased\"\n",
    "bert_model_name = \"albert-base-v2\"\n",
    "# bert_model_name = \"deberta-base\"\n",
    "\n",
    "from transformers import AutoTokenizer, AutoModelForSequenceClassification\n",
    "\n",
    "bert_temp_name = \"microsoft/deberta-base\" if bert_model_name == \"deberta-base\" else bert_model_name\n",
    "\n",
    "tokenizer = AutoTokenizer.from_pretrained(bert_temp_name)\n",
    "bert_classification_model = AutoModelForSequenceClassification.from_pretrained(\n",
    "    pretrained_model_name_or_path=bert_temp_name,\n",
    "    num_labels=2, # The number of output labels--2 for binary classification.\n",
    "                    # You can increase this for multi-class tasks.   \n",
    "    output_attentions=False, # Whether the model returns attentions weights.\n",
    "    output_hidden_states=False, # Whether the model returns all hidden-states.\n",
    ")\n",
    "\n",
    "bert_classification_model = bert_classification_model.to(device)"
   ]
  },
  {
   "cell_type": "markdown",
   "id": "9eec294b",
   "metadata": {
    "papermill": {
     "duration": 0.026593,
     "end_time": "2024-04-17T08:06:31.601215",
     "exception": false,
     "start_time": "2024-04-17T08:06:31.574622",
     "status": "completed"
    },
    "tags": []
   },
   "source": [
    "# Tokenizing\n",
    "To feed our text to BERT, it must be split into tokens, and then these tokens must be mapped to their index in the tokenizer vocabulary. "
   ]
  },
  {
   "cell_type": "code",
   "execution_count": 7,
   "id": "922db548",
   "metadata": {
    "execution": {
     "iopub.execute_input": "2024-04-17T08:06:31.657619Z",
     "iopub.status.busy": "2024-04-17T08:06:31.656804Z",
     "iopub.status.idle": "2024-04-17T08:06:31.666477Z",
     "shell.execute_reply": "2024-04-17T08:06:31.665439Z"
    },
    "papermill": {
     "duration": 0.039774,
     "end_time": "2024-04-17T08:06:31.668464",
     "exception": false,
     "start_time": "2024-04-17T08:06:31.628690",
     "status": "completed"
    },
    "tags": []
   },
   "outputs": [
    {
     "name": "stdout",
     "output_type": "stream",
     "text": [
      "Original sentence:\n",
      " How is the life of a math student? Could you describe your own experiences?\n",
      "\n",
      "Tokenized by albert-base-v2:\n",
      " ['▁how', '▁is', '▁the', '▁life', '▁of', '▁a', '▁math', '▁student', '?', '▁could', '▁you', '▁describe', '▁your', '▁own', '▁experiences', '?']\n",
      "\n",
      "Token IDs by albert-base-v2:\n",
      " [184, 25, 14, 201, 16, 21, 5057, 1209, 60, 110, 42, 4996, 154, 258, 5513, 60]\n"
     ]
    }
   ],
   "source": [
    "example_question = train_qqp['question1'][0]\n",
    "\n",
    "print(f\"Original sentence:\\n {example_question}\")\n",
    "\n",
    "example_tokens = tokenizer.tokenize(example_question)\n",
    "\n",
    "print(f\"\\nTokenized by {bert_model_name}:\\n {example_tokens}\")\n",
    "\n",
    "example_tokens_ID = tokenizer.convert_tokens_to_ids(example_tokens)\n",
    "print(f\"\\nToken IDs by {bert_model_name}:\\n {example_tokens_ID}\")"
   ]
  },
  {
   "cell_type": "markdown",
   "id": "26238b11",
   "metadata": {
    "papermill": {
     "duration": 0.026701,
     "end_time": "2024-04-17T08:06:31.722134",
     "exception": false,
     "start_time": "2024-04-17T08:06:31.695433",
     "status": "completed"
    },
    "tags": []
   },
   "source": [
    "We can combine ``tokenize`` and ``convert_tokens_to_ids`` with the method ``encode``:"
   ]
  },
  {
   "cell_type": "code",
   "execution_count": 8,
   "id": "584c3ba1",
   "metadata": {
    "execution": {
     "iopub.execute_input": "2024-04-17T08:06:31.774952Z",
     "iopub.status.busy": "2024-04-17T08:06:31.774625Z",
     "iopub.status.idle": "2024-04-17T08:06:31.780154Z",
     "shell.execute_reply": "2024-04-17T08:06:31.779227Z"
    },
    "papermill": {
     "duration": 0.034244,
     "end_time": "2024-04-17T08:06:31.782165",
     "exception": false,
     "start_time": "2024-04-17T08:06:31.747921",
     "status": "completed"
    },
    "tags": []
   },
   "outputs": [
    {
     "name": "stdout",
     "output_type": "stream",
     "text": [
      "Original sentence:\n",
      " How is the life of a math student? Could you describe your own experiences?\n",
      "\n",
      "Token IDs by albert-base-v2:\n",
      " [2, 184, 25, 14, 201, 16, 21, 5057, 1209, 60, 110, 42, 4996, 154, 258, 5513, 60, 3]\n"
     ]
    }
   ],
   "source": [
    "example_question = train_qqp['question1'][0]\n",
    "\n",
    "print(f\"Original sentence:\\n {example_question}\")\n",
    "\n",
    "example_tokens_ID = tokenizer.encode(example_question)\n",
    "\n",
    "print(f\"\\nToken IDs by {bert_model_name}:\\n {example_tokens_ID}\")"
   ]
  },
  {
   "cell_type": "markdown",
   "id": "77e32b94",
   "metadata": {
    "papermill": {
     "duration": 0.026189,
     "end_time": "2024-04-17T08:06:31.834931",
     "exception": false,
     "start_time": "2024-04-17T08:06:31.808742",
     "status": "completed"
    },
    "tags": []
   },
   "source": [
    "We can see we got two extra tokens at the start and at the end compared to previous versions. Let's see what they are:"
   ]
  },
  {
   "cell_type": "code",
   "execution_count": 9,
   "id": "cb7544fc",
   "metadata": {
    "execution": {
     "iopub.execute_input": "2024-04-17T08:06:31.888614Z",
     "iopub.status.busy": "2024-04-17T08:06:31.888280Z",
     "iopub.status.idle": "2024-04-17T08:06:41.881740Z",
     "shell.execute_reply": "2024-04-17T08:06:41.880838Z"
    },
    "papermill": {
     "duration": 10.022876,
     "end_time": "2024-04-17T08:06:41.883869",
     "exception": false,
     "start_time": "2024-04-17T08:06:31.860993",
     "status": "completed"
    },
    "tags": []
   },
   "outputs": [
    {
     "name": "stderr",
     "output_type": "stream",
     "text": [
      "2024-04-17 08:06:33.768603: E external/local_xla/xla/stream_executor/cuda/cuda_dnn.cc:9261] Unable to register cuDNN factory: Attempting to register factory for plugin cuDNN when one has already been registered\n",
      "2024-04-17 08:06:33.768749: E external/local_xla/xla/stream_executor/cuda/cuda_fft.cc:607] Unable to register cuFFT factory: Attempting to register factory for plugin cuFFT when one has already been registered\n",
      "2024-04-17 08:06:33.920326: E external/local_xla/xla/stream_executor/cuda/cuda_blas.cc:1515] Unable to register cuBLAS factory: Attempting to register factory for plugin cuBLAS when one has already been registered\n"
     ]
    },
    {
     "data": {
      "text/plain": [
       "'[CLS] how is the life of a math student? could you describe your own experiences?[SEP]'"
      ]
     },
     "execution_count": 9,
     "metadata": {},
     "output_type": "execute_result"
    }
   ],
   "source": [
    "tokenizer.decode(example_tokens_ID)"
   ]
  },
  {
   "cell_type": "markdown",
   "id": "48984162",
   "metadata": {
    "papermill": {
     "duration": 0.026248,
     "end_time": "2024-04-17T08:06:41.981813",
     "exception": false,
     "start_time": "2024-04-17T08:06:41.955565",
     "status": "completed"
    },
    "tags": []
   },
   "source": [
    "## Special Tokens\n",
    "``[SEP]`` - At the end of every sentence, we need to append the special ``[SEP]`` token.\n",
    "\n",
    "This token is an artifact of two-sentence tasks, where BERT is given two separate sentences and asked to determine something (remeber BERT was trained intially to perdict question-answering task).\n",
    "\n",
    "``[CLS]`` - For classification tasks, we must prepend the special ``[CLS]`` token to the beginning of every sentence.\n",
    "\n",
    "This token has special significance. BERT consists of 12 Transformer layers. Each transformer takes in a list of token embeddings, and produces the same number of embeddings on the output.\n",
    "\n",
    "So now let's see how to encode the two questions together:"
   ]
  },
  {
   "cell_type": "code",
   "execution_count": 10,
   "id": "326bfc79",
   "metadata": {
    "execution": {
     "iopub.execute_input": "2024-04-17T08:06:42.037334Z",
     "iopub.status.busy": "2024-04-17T08:06:42.036443Z",
     "iopub.status.idle": "2024-04-17T08:06:42.044389Z",
     "shell.execute_reply": "2024-04-17T08:06:42.043514Z"
    },
    "papermill": {
     "duration": 0.037544,
     "end_time": "2024-04-17T08:06:42.046289",
     "exception": false,
     "start_time": "2024-04-17T08:06:42.008745",
     "status": "completed"
    },
    "tags": []
   },
   "outputs": [
    {
     "data": {
      "text/plain": [
       "'[CLS] how is the life of a math student? could you describe your own experiences?[SEP] which level of prepration is enough for the exam jlpt5?[SEP]'"
      ]
     },
     "execution_count": 10,
     "metadata": {},
     "output_type": "execute_result"
    }
   ],
   "source": [
    "example_question_1 = train_qqp['question1'][0]\n",
    "example_question_2 = train_qqp['question2'][0]\n",
    "\n",
    "encoded_pair = tokenizer.encode(example_question_1, example_question_2)\n",
    "tokenizer.decode(encoded_pair)"
   ]
  },
  {
   "cell_type": "markdown",
   "id": "ed7cd989",
   "metadata": {
    "papermill": {
     "duration": 0.026142,
     "end_time": "2024-04-17T08:06:42.099067",
     "exception": false,
     "start_time": "2024-04-17T08:06:42.072925",
     "status": "completed"
    },
    "tags": []
   },
   "source": [
    "## Sentence Length\n",
    "\n",
    "The sentences in our dataset obviously have varying lengths, so how does BERT handle this?\n",
    "\n",
    "BERT has two constraints:\n",
    "\n",
    "1. All sentences must be padded or truncated to a single, fixed length.\n",
    "2. The maximum sentence length is 512 tokens.\n",
    "Padding is done with a special ``[PAD]`` token, which is at index 0 in the BERT vocabulary.\n",
    "\n",
    "The maximum length does impact training and evaluation speed.\n",
    "\n",
    "Before we are ready to encode our text, though, we need to decide on a maximum sentence length for padding / truncating to.\n",
    "\n",
    "Let's find the maximum length:"
   ]
  },
  {
   "cell_type": "code",
   "execution_count": 11,
   "id": "ed8a463a",
   "metadata": {
    "execution": {
     "iopub.execute_input": "2024-04-17T08:06:42.153360Z",
     "iopub.status.busy": "2024-04-17T08:06:42.153071Z",
     "iopub.status.idle": "2024-04-17T08:06:46.840108Z",
     "shell.execute_reply": "2024-04-17T08:06:46.839074Z"
    },
    "papermill": {
     "duration": 4.717054,
     "end_time": "2024-04-17T08:06:46.842282",
     "exception": false,
     "start_time": "2024-04-17T08:06:42.125228",
     "status": "completed"
    },
    "tags": []
   },
   "outputs": [
    {
     "name": "stderr",
     "output_type": "stream",
     "text": [
      "100%|██████████| 20000/20000 [00:02<00:00, 8567.41it/s]\n",
      "100%|██████████| 20000/20000 [00:02<00:00, 8564.03it/s]"
     ]
    },
    {
     "name": "stdout",
     "output_type": "stream",
     "text": [
      "The maximum sentence length is  307\n"
     ]
    },
    {
     "name": "stderr",
     "output_type": "stream",
     "text": [
      "\n"
     ]
    }
   ],
   "source": [
    "tqdm.pandas()\n",
    "train_qqp[\"question1_length\"] = train_qqp[\"question1\"].progress_apply(lambda question: \n",
    "                                                        len(tokenizer.tokenize(question)))\n",
    "train_qqp[\"question2_length\"] = train_qqp[\"question2\"].progress_apply(lambda question: \n",
    "                                                        len(tokenizer.tokenize(question)))\n",
    "train_qqp[\"joint_length\"] = train_qqp[\"question1_length\"] + train_qqp[\"question2_length\"]\n",
    "\n",
    "MAX_LENGTH = train_qqp[\"joint_length\"].max()\n",
    "\n",
    "print(\"The maximum sentence length is \", MAX_LENGTH)"
   ]
  },
  {
   "cell_type": "markdown",
   "id": "a6fb1d6f",
   "metadata": {
    "papermill": {
     "duration": 0.030974,
     "end_time": "2024-04-17T08:06:46.904457",
     "exception": false,
     "start_time": "2024-04-17T08:06:46.873483",
     "status": "completed"
    },
    "tags": []
   },
   "source": [
    "### Now we construct the training, validation, testing dataset with known labels and testing dataset with unknown labels"
   ]
  },
  {
   "cell_type": "code",
   "execution_count": 12,
   "id": "f680a365",
   "metadata": {
    "execution": {
     "iopub.execute_input": "2024-04-17T08:06:46.969088Z",
     "iopub.status.busy": "2024-04-17T08:06:46.968685Z",
     "iopub.status.idle": "2024-04-17T08:06:46.986874Z",
     "shell.execute_reply": "2024-04-17T08:06:46.986130Z"
    },
    "papermill": {
     "duration": 0.053922,
     "end_time": "2024-04-17T08:06:46.989056",
     "exception": false,
     "start_time": "2024-04-17T08:06:46.935134",
     "status": "completed"
    },
    "tags": []
   },
   "outputs": [],
   "source": [
    "X_train, X_test_known_labels, y_train, y_test_known_labels = train_test_split(train_qqp[[\"question1\", \"question2\"]], \n",
    "                                                    train_qqp[\"is_duplicate\"], test_size=0.2, random_state=42)\n",
    "X_val = dev_qqp[[\"question1\", \"question2\"]]\n",
    "y_val = dev_qqp[\"is_duplicate\"]\n",
    "\n",
    "X_test_unknown_labels = test_unknown_label_qqp[[\"question1\", \"question2\"]]"
   ]
  },
  {
   "cell_type": "markdown",
   "id": "4e5676ca",
   "metadata": {
    "papermill": {
     "duration": 0.030945,
     "end_time": "2024-04-17T08:06:47.053091",
     "exception": false,
     "start_time": "2024-04-17T08:06:47.022146",
     "status": "completed"
    },
    "tags": []
   },
   "source": [
    "# Tokenize dataset and create Dataloader\n",
    "\n",
    "Now we’re ready to perform the real tokenization.\n",
    "\n",
    "The tokenizer.encode_plus function combines multiple steps for us:\n",
    "\n",
    "1. Split the sentence into tokens.\n",
    "2. Add the special ``[CLS]`` and ``[SEP]`` tokens.\n",
    "3. Map the tokens to their IDs.\n",
    "4. Pad or truncate all sentences to the same length.\n",
    "5. Create the attention masks which explicitly differentiate real tokens from ``[PAD]`` tokens.\n",
    "\n",
    "Documentation is [here](https://huggingface.co/transformers/main_classes/tokenizer.html?highlight=encode_plus#transformers.PreTrainedTokenizer.encode_plus)."
   ]
  },
  {
   "cell_type": "code",
   "execution_count": 13,
   "id": "866fea70",
   "metadata": {
    "execution": {
     "iopub.execute_input": "2024-04-17T08:06:47.117210Z",
     "iopub.status.busy": "2024-04-17T08:06:47.116499Z",
     "iopub.status.idle": "2024-04-17T08:06:47.132299Z",
     "shell.execute_reply": "2024-04-17T08:06:47.131404Z"
    },
    "papermill": {
     "duration": 0.049728,
     "end_time": "2024-04-17T08:06:47.134255",
     "exception": false,
     "start_time": "2024-04-17T08:06:47.084527",
     "status": "completed"
    },
    "tags": []
   },
   "outputs": [
    {
     "data": {
      "text/plain": [
       "{'input_ids': tensor([[   2,  100, 8974,   41, 2750,   16, 2574,   22,   18, 7897,   98,   83,\n",
       "           24,  107,   60,    3,  184,   25,   13, 2913,  150, 6695,   62,  172,\n",
       "          706, 4471,   60,    3,    0,    0,    0,    0,    0,    0,    0,    0,\n",
       "            0,    0,    0,    0,    0,    0,    0,    0,    0,    0,    0,    0,\n",
       "            0,    0,    0,    0,    0,    0,    0,    0,    0,    0,    0,    0,\n",
       "            0,    0,    0,    0,    0,    0,    0,    0,    0,    0,    0,    0,\n",
       "            0,    0,    0,    0,    0,    0,    0,    0,    0,    0,    0,    0,\n",
       "            0,    0,    0,    0,    0,    0,    0,    0,    0,    0,    0,    0,\n",
       "            0,    0,    0,    0,    0,    0,    0,    0,    0,    0,    0,    0,\n",
       "            0,    0,    0,    0,    0,    0,    0,    0,    0,    0,    0,    0,\n",
       "            0,    0,    0,    0,    0,    0,    0,    0,    0,    0,    0,    0,\n",
       "            0,    0,    0,    0,    0,    0,    0,    0,    0,    0,    0,    0,\n",
       "            0,    0,    0,    0,    0,    0,    0,    0,    0,    0,    0,    0,\n",
       "            0,    0,    0,    0,    0,    0,    0,    0,    0,    0,    0,    0,\n",
       "            0,    0,    0,    0,    0,    0,    0,    0,    0,    0,    0,    0,\n",
       "            0,    0,    0,    0,    0,    0,    0,    0,    0,    0,    0,    0,\n",
       "            0,    0,    0,    0,    0,    0,    0,    0,    0,    0,    0,    0,\n",
       "            0,    0,    0,    0,    0,    0,    0,    0,    0,    0,    0,    0,\n",
       "            0,    0,    0,    0,    0,    0,    0,    0,    0,    0,    0,    0,\n",
       "            0,    0,    0,    0,    0,    0,    0,    0,    0,    0,    0,    0,\n",
       "            0,    0,    0,    0,    0,    0,    0,    0,    0,    0,    0,    0,\n",
       "            0,    0,    0,    0,    0,    0,    0,    0,    0,    0,    0,    0,\n",
       "            0,    0,    0,    0,    0,    0,    0,    0,    0,    0,    0,    0,\n",
       "            0,    0,    0,    0,    0,    0,    0,    0,    0,    0,    0,    0,\n",
       "            0,    0,    0,    0,    0,    0,    0,    0,    0,    0,    0,    0,\n",
       "            0,    0,    0,    0,    0,    0,    0,    0,    0,    0,    0,    0,\n",
       "            0,    0,    0,    0,    0,    0,    0,    0,    0,    0,    0,    0,\n",
       "            0,    0,    0]]), 'token_type_ids': tensor([[0, 0, 0, 0, 0, 0, 0, 0, 0, 0, 0, 0, 0, 0, 0, 0, 1, 1, 1, 1, 1, 1, 1, 1,\n",
       "         1, 1, 1, 1, 0, 0, 0, 0, 0, 0, 0, 0, 0, 0, 0, 0, 0, 0, 0, 0, 0, 0, 0, 0,\n",
       "         0, 0, 0, 0, 0, 0, 0, 0, 0, 0, 0, 0, 0, 0, 0, 0, 0, 0, 0, 0, 0, 0, 0, 0,\n",
       "         0, 0, 0, 0, 0, 0, 0, 0, 0, 0, 0, 0, 0, 0, 0, 0, 0, 0, 0, 0, 0, 0, 0, 0,\n",
       "         0, 0, 0, 0, 0, 0, 0, 0, 0, 0, 0, 0, 0, 0, 0, 0, 0, 0, 0, 0, 0, 0, 0, 0,\n",
       "         0, 0, 0, 0, 0, 0, 0, 0, 0, 0, 0, 0, 0, 0, 0, 0, 0, 0, 0, 0, 0, 0, 0, 0,\n",
       "         0, 0, 0, 0, 0, 0, 0, 0, 0, 0, 0, 0, 0, 0, 0, 0, 0, 0, 0, 0, 0, 0, 0, 0,\n",
       "         0, 0, 0, 0, 0, 0, 0, 0, 0, 0, 0, 0, 0, 0, 0, 0, 0, 0, 0, 0, 0, 0, 0, 0,\n",
       "         0, 0, 0, 0, 0, 0, 0, 0, 0, 0, 0, 0, 0, 0, 0, 0, 0, 0, 0, 0, 0, 0, 0, 0,\n",
       "         0, 0, 0, 0, 0, 0, 0, 0, 0, 0, 0, 0, 0, 0, 0, 0, 0, 0, 0, 0, 0, 0, 0, 0,\n",
       "         0, 0, 0, 0, 0, 0, 0, 0, 0, 0, 0, 0, 0, 0, 0, 0, 0, 0, 0, 0, 0, 0, 0, 0,\n",
       "         0, 0, 0, 0, 0, 0, 0, 0, 0, 0, 0, 0, 0, 0, 0, 0, 0, 0, 0, 0, 0, 0, 0, 0,\n",
       "         0, 0, 0, 0, 0, 0, 0, 0, 0, 0, 0, 0, 0, 0, 0, 0, 0, 0, 0, 0, 0, 0, 0, 0,\n",
       "         0, 0, 0, 0, 0, 0, 0, 0, 0, 0, 0, 0, 0, 0, 0]]), 'attention_mask': tensor([[1, 1, 1, 1, 1, 1, 1, 1, 1, 1, 1, 1, 1, 1, 1, 1, 1, 1, 1, 1, 1, 1, 1, 1,\n",
       "         1, 1, 1, 1, 0, 0, 0, 0, 0, 0, 0, 0, 0, 0, 0, 0, 0, 0, 0, 0, 0, 0, 0, 0,\n",
       "         0, 0, 0, 0, 0, 0, 0, 0, 0, 0, 0, 0, 0, 0, 0, 0, 0, 0, 0, 0, 0, 0, 0, 0,\n",
       "         0, 0, 0, 0, 0, 0, 0, 0, 0, 0, 0, 0, 0, 0, 0, 0, 0, 0, 0, 0, 0, 0, 0, 0,\n",
       "         0, 0, 0, 0, 0, 0, 0, 0, 0, 0, 0, 0, 0, 0, 0, 0, 0, 0, 0, 0, 0, 0, 0, 0,\n",
       "         0, 0, 0, 0, 0, 0, 0, 0, 0, 0, 0, 0, 0, 0, 0, 0, 0, 0, 0, 0, 0, 0, 0, 0,\n",
       "         0, 0, 0, 0, 0, 0, 0, 0, 0, 0, 0, 0, 0, 0, 0, 0, 0, 0, 0, 0, 0, 0, 0, 0,\n",
       "         0, 0, 0, 0, 0, 0, 0, 0, 0, 0, 0, 0, 0, 0, 0, 0, 0, 0, 0, 0, 0, 0, 0, 0,\n",
       "         0, 0, 0, 0, 0, 0, 0, 0, 0, 0, 0, 0, 0, 0, 0, 0, 0, 0, 0, 0, 0, 0, 0, 0,\n",
       "         0, 0, 0, 0, 0, 0, 0, 0, 0, 0, 0, 0, 0, 0, 0, 0, 0, 0, 0, 0, 0, 0, 0, 0,\n",
       "         0, 0, 0, 0, 0, 0, 0, 0, 0, 0, 0, 0, 0, 0, 0, 0, 0, 0, 0, 0, 0, 0, 0, 0,\n",
       "         0, 0, 0, 0, 0, 0, 0, 0, 0, 0, 0, 0, 0, 0, 0, 0, 0, 0, 0, 0, 0, 0, 0, 0,\n",
       "         0, 0, 0, 0, 0, 0, 0, 0, 0, 0, 0, 0, 0, 0, 0, 0, 0, 0, 0, 0, 0, 0, 0, 0,\n",
       "         0, 0, 0, 0, 0, 0, 0, 0, 0, 0, 0, 0, 0, 0, 0]])}"
      ]
     },
     "execution_count": 13,
     "metadata": {},
     "output_type": "execute_result"
    }
   ],
   "source": [
    "MAX_LENGTH = 327\n",
    "\n",
    "tokenizer.encode_plus(X_train.iloc[0][\"question1\"], \n",
    "                      X_train.iloc[0][\"question2\"], \n",
    "                      max_length=MAX_LENGTH, \n",
    "                      padding='max_length', \n",
    "                      return_attention_mask=True, \n",
    "                      return_tensors='pt', \n",
    "                      truncation=True)"
   ]
  },
  {
   "cell_type": "markdown",
   "id": "bdf323bf",
   "metadata": {
    "papermill": {
     "duration": 0.031387,
     "end_time": "2024-04-17T08:06:47.197113",
     "exception": false,
     "start_time": "2024-04-17T08:06:47.165726",
     "status": "completed"
    },
    "tags": []
   },
   "source": [
    "So what we got:\n",
    "\n",
    "1. input_ids - Token ids padded with 0 at the end.\n",
    "2. token_type_ids - This array indicates bert what is the first sentence and what is the seconds. In case of classification of only one sentance this array is redundant.\n",
    "3. attention_mask - The “Attention Mask” is simply an array of 1s and 0s indicating which tokens are padding and which aren’t. This mask tells the “Self-Attention” mechanism in BERT not to incorporate these ``[PAD]`` tokens into its interpretation of the sentence.\n",
    "\n",
    "All the array are in the size of ``max_length``."
   ]
  },
  {
   "cell_type": "code",
   "execution_count": 14,
   "id": "9107c080",
   "metadata": {
    "execution": {
     "iopub.execute_input": "2024-04-17T08:06:47.261959Z",
     "iopub.status.busy": "2024-04-17T08:06:47.261582Z",
     "iopub.status.idle": "2024-04-17T08:06:47.272426Z",
     "shell.execute_reply": "2024-04-17T08:06:47.271541Z"
    },
    "papermill": {
     "duration": 0.045832,
     "end_time": "2024-04-17T08:06:47.274472",
     "exception": false,
     "start_time": "2024-04-17T08:06:47.228640",
     "status": "completed"
    },
    "tags": []
   },
   "outputs": [],
   "source": [
    "def convert_to_dataset_torch(features, labels):\n",
    "    input_ids = []\n",
    "    attention_masks = []\n",
    "    token_type_ids = []\n",
    "    for _, row in tqdm(features.iterrows(), total=features.shape[0]):\n",
    "        encoded_dict = tokenizer.encode_plus(row[\"question1\"], \n",
    "                                             row[\"question2\"], \n",
    "                                             padding='max_length', \n",
    "                                             return_attention_mask=True, \n",
    "                                             return_tensors='pt', \n",
    "                                             truncation=True)\n",
    "        # print(encoded_dict.keys())\n",
    "        \n",
    "        # Add the encoded sentences to the list.\n",
    "        input_ids.append(encoded_dict['input_ids'])\n",
    "        # And its attention mask (simply differentiates padding from non-padding).\n",
    "        attention_masks.append(encoded_dict['attention_mask'])\n",
    "        \n",
    "        if bert_model_name in [\"bert-base-uncased\", \"albert-base-v2\", \"deberta-base\"]:\n",
    "            token_type_ids.append(encoded_dict[\"token_type_ids\"])\n",
    "        \n",
    "    # Convert the lists into tensors.\n",
    "    if bert_model_name in [\"bert-base-uncased\", \"albert-base-v2\", \"deberta-base\"]:\n",
    "\n",
    "        input_ids = torch.cat(input_ids, dim=0)\n",
    "        token_type_ids = torch.cat(token_type_ids, dim=0)\n",
    "        attention_masks = torch.cat(attention_masks, dim=0)\n",
    "        labels = torch.tensor(labels.values)\n",
    "        \n",
    "        print(\"Shape of input_ids is\", input_ids.shape)\n",
    "        print(\"Shape of token_type_ids is\", token_type_ids.shape)\n",
    "        print(\"Shape of attention_masks is\", attention_masks.shape)\n",
    "        print(\"Shape of labels is\", labels.shape)\n",
    "        \n",
    "        return TensorDataset(input_ids, attention_masks, token_type_ids, labels)\n",
    "    \n",
    "    elif bert_model_name in [\"roberta-base\", \"distilbert-base-uncased\"]:\n",
    "        # roberta does not have token_type_ids\n",
    "        input_ids = torch.cat(input_ids, dim=0)\n",
    "        attention_masks = torch.cat(attention_masks, dim=0)\n",
    "        labels = torch.tensor(labels.values)\n",
    "        \n",
    "        print(\"Shape of input_ids is\", input_ids.shape)\n",
    "        print(\"Shape of attention_masks is\", attention_masks.shape)\n",
    "        print(\"Shape of labels is\", labels.shape)\n",
    "        \n",
    "        return TensorDataset(input_ids, attention_masks, labels)\n",
    "    "
   ]
  },
  {
   "cell_type": "markdown",
   "id": "963fab7b",
   "metadata": {
    "papermill": {
     "duration": 0.031219,
     "end_time": "2024-04-17T08:06:47.337463",
     "exception": false,
     "start_time": "2024-04-17T08:06:47.306244",
     "status": "completed"
    },
    "tags": []
   },
   "source": [
    "We’ll also create an iterator for our dataset using the torch DataLoader class. This helps save on memory during training because, unlike a for loop, with an iterator the entire dataset does not need to be loaded into memory:"
   ]
  },
  {
   "cell_type": "code",
   "execution_count": 15,
   "id": "87045ed2",
   "metadata": {
    "execution": {
     "iopub.execute_input": "2024-04-17T08:06:47.401730Z",
     "iopub.status.busy": "2024-04-17T08:06:47.400997Z",
     "iopub.status.idle": "2024-04-17T08:07:05.169835Z",
     "shell.execute_reply": "2024-04-17T08:07:05.168562Z"
    },
    "papermill": {
     "duration": 17.802936,
     "end_time": "2024-04-17T08:07:05.171905",
     "exception": false,
     "start_time": "2024-04-17T08:06:47.368969",
     "status": "completed"
    },
    "tags": []
   },
   "outputs": [
    {
     "name": "stderr",
     "output_type": "stream",
     "text": [
      "100%|██████████| 16000/16000 [00:17<00:00, 914.32it/s]\n"
     ]
    },
    {
     "name": "stdout",
     "output_type": "stream",
     "text": [
      "Shape of input_ids is torch.Size([16000, 512])\n",
      "Shape of token_type_ids is torch.Size([16000, 512])\n",
      "Shape of attention_masks is torch.Size([16000, 512])\n",
      "Shape of labels is torch.Size([16000])\n"
     ]
    }
   ],
   "source": [
    "train_tensor = convert_to_dataset_torch(X_train, y_train)"
   ]
  },
  {
   "cell_type": "code",
   "execution_count": 16,
   "id": "3363f49c",
   "metadata": {
    "execution": {
     "iopub.execute_input": "2024-04-17T08:07:05.262429Z",
     "iopub.status.busy": "2024-04-17T08:07:05.262110Z",
     "iopub.status.idle": "2024-04-17T08:07:07.318829Z",
     "shell.execute_reply": "2024-04-17T08:07:07.317830Z"
    },
    "papermill": {
     "duration": 2.104062,
     "end_time": "2024-04-17T08:07:07.320993",
     "exception": false,
     "start_time": "2024-04-17T08:07:05.216931",
     "status": "completed"
    },
    "tags": []
   },
   "outputs": [
    {
     "name": "stderr",
     "output_type": "stream",
     "text": [
      "100%|██████████| 2000/2000 [00:02<00:00, 982.82it/s]"
     ]
    },
    {
     "name": "stdout",
     "output_type": "stream",
     "text": [
      "Shape of input_ids is torch.Size([2000, 512])\n",
      "Shape of token_type_ids is torch.Size([2000, 512])\n",
      "Shape of attention_masks is torch.Size([2000, 512])\n",
      "Shape of labels is torch.Size([2000])\n"
     ]
    },
    {
     "name": "stderr",
     "output_type": "stream",
     "text": [
      "\n"
     ]
    }
   ],
   "source": [
    "val_tensor = convert_to_dataset_torch(X_val, y_val)"
   ]
  },
  {
   "cell_type": "code",
   "execution_count": 17,
   "id": "d2265e05",
   "metadata": {
    "execution": {
     "iopub.execute_input": "2024-04-17T08:07:07.416108Z",
     "iopub.status.busy": "2024-04-17T08:07:07.415789Z",
     "iopub.status.idle": "2024-04-17T08:07:07.422280Z",
     "shell.execute_reply": "2024-04-17T08:07:07.421397Z"
    },
    "papermill": {
     "duration": 0.056697,
     "end_time": "2024-04-17T08:07:07.424242",
     "exception": false,
     "start_time": "2024-04-17T08:07:07.367545",
     "status": "completed"
    },
    "tags": []
   },
   "outputs": [],
   "source": [
    "import multiprocessing\n",
    "\n",
    "from torch.utils.data import DataLoader, RandomSampler, SequentialSampler\n",
    "\n",
    "# The DataLoader needs to know our batch size for training, so we specify it here.\n",
    "\n",
    "batch_size = 5\n",
    "\n",
    "core_number = multiprocessing.cpu_count()\n",
    "\n",
    "# Create the DataLoaders for our training and validation sets.\n",
    "# We'll take training samples in random order. \n",
    "train_dataloader = DataLoader(\n",
    "            train_tensor,  # The training samples.\n",
    "            sampler = RandomSampler(train_tensor), # Select batches randomly\n",
    "            batch_size = batch_size, # Trains with this batch size.\n",
    "            num_workers = core_number\n",
    "        )\n",
    "\n",
    "# For validation the order doesn't matter, so we'll just read them sequentially.\n",
    "val_dataloader = DataLoader(\n",
    "            val_tensor, # The validation samples.\n",
    "            sampler = SequentialSampler(val_tensor), # Pull out batches sequentially.\n",
    "            batch_size = batch_size, # Evaluate with this batch size.\n",
    "            num_workers = core_number\n",
    "        )"
   ]
  },
  {
   "cell_type": "markdown",
   "id": "ff9e6a86",
   "metadata": {
    "papermill": {
     "duration": 0.054274,
     "end_time": "2024-04-17T08:07:07.528225",
     "exception": false,
     "start_time": "2024-04-17T08:07:07.473951",
     "status": "completed"
    },
    "tags": []
   },
   "source": [
    "# Training Loop\n",
    "Helper function for formatting elapsed times as ``hh:mm:ss``:"
   ]
  },
  {
   "cell_type": "code",
   "execution_count": 18,
   "id": "d6345068",
   "metadata": {
    "execution": {
     "iopub.execute_input": "2024-04-17T08:07:07.631451Z",
     "iopub.status.busy": "2024-04-17T08:07:07.631029Z",
     "iopub.status.idle": "2024-04-17T08:07:07.636773Z",
     "shell.execute_reply": "2024-04-17T08:07:07.635881Z"
    },
    "papermill": {
     "duration": 0.056395,
     "end_time": "2024-04-17T08:07:07.638949",
     "exception": false,
     "start_time": "2024-04-17T08:07:07.582554",
     "status": "completed"
    },
    "tags": []
   },
   "outputs": [],
   "source": [
    "import time\n",
    "import datetime\n",
    "\n",
    "def format_time(elapsed):\n",
    "    '''\n",
    "    Takes a time in seconds and returns a string hh:mm:ss\n",
    "    '''\n",
    "    # Round to the nearest second.\n",
    "    elapsed_rounded = int(round((elapsed)))\n",
    "    \n",
    "    # Format as hh:mm:ss\n",
    "    return str(datetime.timedelta(seconds=elapsed_rounded))"
   ]
  },
  {
   "cell_type": "markdown",
   "id": "5a9d212f",
   "metadata": {
    "papermill": {
     "duration": 0.046101,
     "end_time": "2024-04-17T08:07:07.731420",
     "exception": false,
     "start_time": "2024-04-17T08:07:07.685319",
     "status": "completed"
    },
    "tags": []
   },
   "source": [
    "### This function trains the batches from the train_dataloader"
   ]
  },
  {
   "cell_type": "code",
   "execution_count": 19,
   "id": "40956b85",
   "metadata": {
    "execution": {
     "iopub.execute_input": "2024-04-17T08:07:07.824646Z",
     "iopub.status.busy": "2024-04-17T08:07:07.824352Z",
     "iopub.status.idle": "2024-04-17T08:07:07.835225Z",
     "shell.execute_reply": "2024-04-17T08:07:07.834364Z"
    },
    "papermill": {
     "duration": 0.059898,
     "end_time": "2024-04-17T08:07:07.837131",
     "exception": false,
     "start_time": "2024-04-17T08:07:07.777233",
     "status": "completed"
    },
    "tags": []
   },
   "outputs": [],
   "source": [
    "def train_batch(epoch, bert_classification_model, train_dataloader, optimizer, scheduler, metric):\n",
    "    \n",
    "    total_train_loss = 0\n",
    "    total_train_accuracy = 0\n",
    "    \n",
    "    for batch in tqdm(train_dataloader, desc=f\"Training epoch: {epoch}\", unit=\"batch\"):\n",
    "        \n",
    "        if bert_model_name in [\"bert-base-uncased\", \"albert-base-v2\", \"deberta-base\"]:\n",
    "\n",
    "            # Unpack batch from dataloader.\n",
    "            input_ids = batch[0].to(device)\n",
    "            attention_masks = batch[1].to(device)\n",
    "            token_type_ids = batch[2].to(device)\n",
    "            labels = batch[3].to(device)\n",
    "            \n",
    "            bert_classification_model.zero_grad()\n",
    "            \n",
    "            # Forward pass\n",
    "            outputs = bert_classification_model(input_ids, \n",
    "                                token_type_ids=token_type_ids, \n",
    "                                attention_mask=attention_masks, \n",
    "                                labels=labels)\n",
    "            \n",
    "        elif bert_model_name in [\"roberta-base\", \"distilbert-base-uncased\"]:\n",
    "            # Unpack batch from dataloader.\n",
    "            input_ids = batch[0].to(device)\n",
    "            attention_masks = batch[1].to(device)\n",
    "            labels = batch[2].to(device)\n",
    "            \n",
    "            bert_classification_model.zero_grad()\n",
    "            \n",
    "            # Forward pass\n",
    "            outputs = bert_classification_model(input_ids, \n",
    "                                attention_mask=attention_masks, \n",
    "                                labels=labels)\n",
    "            \n",
    "        loss = outputs.loss\n",
    "        logits = outputs.logits\n",
    "\n",
    "        total_train_loss += loss.item()\n",
    "\n",
    "        # Perform a backward pass to calculate the gradients.\n",
    "        loss.backward()\n",
    "\n",
    "        # Clip the norm of the gradients to 1.0.\n",
    "        # This is to help prevent the \"exploding gradients\" problem.\n",
    "        torch.nn.utils.clip_grad_norm_(bert_classification_model.parameters(), 1.0)\n",
    "        optimizer.step()\n",
    "        scheduler.step()\n",
    "        \n",
    "        y_pred = np.argmax(logits.cpu().detach().numpy(), axis=1).flatten()\n",
    "        \n",
    "        total_train_accuracy += metric(labels.cpu(), y_pred)\n",
    "\n",
    "    return total_train_loss, total_train_accuracy"
   ]
  },
  {
   "cell_type": "markdown",
   "id": "eaeaf314",
   "metadata": {
    "papermill": {
     "duration": 0.045521,
     "end_time": "2024-04-17T08:07:07.928468",
     "exception": false,
     "start_time": "2024-04-17T08:07:07.882947",
     "status": "completed"
    },
    "tags": []
   },
   "source": [
    "### This function validates the batches from the val_dataloader"
   ]
  },
  {
   "cell_type": "code",
   "execution_count": 20,
   "id": "b25535cb",
   "metadata": {
    "execution": {
     "iopub.execute_input": "2024-04-17T08:07:08.022553Z",
     "iopub.status.busy": "2024-04-17T08:07:08.021953Z",
     "iopub.status.idle": "2024-04-17T08:07:08.034724Z",
     "shell.execute_reply": "2024-04-17T08:07:08.033787Z"
    },
    "papermill": {
     "duration": 0.062228,
     "end_time": "2024-04-17T08:07:08.036779",
     "exception": false,
     "start_time": "2024-04-17T08:07:07.974551",
     "status": "completed"
    },
    "tags": []
   },
   "outputs": [],
   "source": [
    "def val_batch(epoch, bert_classification_model, val_dataloader, metric):\n",
    "    total_val_loss = 0\n",
    "    total_val_accuracy = 0\n",
    "    predicted_logits , predicted_labels = [], []\n",
    "    \n",
    "    for batch in tqdm(val_dataloader, desc=f\"Validating epoch: {epoch}\", unit=\"batch\"):\n",
    "        # Unpack batch from dataloader.\n",
    "        \n",
    "        if bert_model_name in [\"bert-base-uncased\", \"albert-base-v2\", \"deberta-base\"]:\n",
    "            input_ids = batch[0].to(device)\n",
    "            attention_masks = batch[1].to(device)\n",
    "            token_type_ids = batch[2].to(device)\n",
    "            labels = batch[3].to(device)\n",
    "\n",
    "            with torch.no_grad():\n",
    "                # Forward pass, calculate logit predictions.\n",
    "                outputs = bert_classification_model(input_ids, \n",
    "                                    token_type_ids=token_type_ids, \n",
    "                                    attention_mask=attention_masks,\n",
    "                                    labels=labels)\n",
    "                loss = outputs.loss\n",
    "                logits = outputs.logits\n",
    "                \n",
    "        elif bert_model_name in [\"roberta-base\", \"distilbert-base-uncased\"]:\n",
    "            input_ids = batch[0].to(device)\n",
    "            attention_masks = batch[1].to(device)\n",
    "            labels = batch[2].to(device)\n",
    "\n",
    "            with torch.no_grad():\n",
    "                # Forward pass, calculate logit predictions.\n",
    "                outputs = bert_classification_model(input_ids, \n",
    "                                    attention_mask=attention_masks,\n",
    "                                    labels=labels)\n",
    "                loss = outputs.loss\n",
    "                logits = outputs.logits\n",
    "            \n",
    "        total_val_loss += loss.item()\n",
    "        \n",
    "        y_pred = np.argmax(logits.cpu().detach().numpy(), axis=1).flatten()\n",
    "        \n",
    "        total_val_accuracy += metric(labels.cpu(), y_pred)\n",
    "        \n",
    "        predicted_logits.extend(logits.cpu().detach().numpy().tolist())\n",
    "        predicted_labels.extend(y_pred.tolist())\n",
    "    \n",
    "    return total_val_loss, total_val_accuracy, predicted_logits, predicted_labels"
   ]
  },
  {
   "cell_type": "markdown",
   "id": "06bd1a4f",
   "metadata": {
    "papermill": {
     "duration": 0.045937,
     "end_time": "2024-04-17T08:07:08.128960",
     "exception": false,
     "start_time": "2024-04-17T08:07:08.083023",
     "status": "completed"
    },
    "tags": []
   },
   "source": [
    "### This function predicts the classes of the batches from the test_dataloader. Now the test_dataloader only contains X_test without y_test (which is None)"
   ]
  },
  {
   "cell_type": "code",
   "execution_count": 21,
   "id": "2aa1b51b",
   "metadata": {
    "execution": {
     "iopub.execute_input": "2024-04-17T08:07:08.222520Z",
     "iopub.status.busy": "2024-04-17T08:07:08.222203Z",
     "iopub.status.idle": "2024-04-17T08:07:08.231703Z",
     "shell.execute_reply": "2024-04-17T08:07:08.230805Z"
    },
    "papermill": {
     "duration": 0.058598,
     "end_time": "2024-04-17T08:07:08.233798",
     "exception": false,
     "start_time": "2024-04-17T08:07:08.175200",
     "status": "completed"
    },
    "tags": []
   },
   "outputs": [],
   "source": [
    "def predict_batch(bert_classification_model, predict_dataloader):\n",
    "    \n",
    "    predicted_logits , predicted_labels = [], []\n",
    "    \n",
    "    for batch in tqdm(predict_dataloader, desc=f\"Predicting\", unit=\"batch\"):\n",
    "        # Unpack batch from dataloader.\n",
    "        \n",
    "        if bert_model_name in [\"bert-base-uncased\", \"albert-base-v2\", \"deberta-base\"]:\n",
    "            input_ids = batch[0].to(device)\n",
    "            attention_masks = batch[1].to(device)\n",
    "            token_type_ids = batch[2].to(device)\n",
    "\n",
    "            with torch.no_grad():\n",
    "                # Forward pass, calculate logit predictions.\n",
    "                outputs = bert_classification_model(input_ids, \n",
    "                                    token_type_ids=token_type_ids, \n",
    "                                    attention_mask=attention_masks)\n",
    "                logits = outputs.logits\n",
    "                \n",
    "        elif bert_model_name in [\"roberta-base\", \"distilbert-base-uncased\"]:\n",
    "            input_ids = batch[0].to(device)\n",
    "            attention_masks = batch[1].to(device)\n",
    "\n",
    "            with torch.no_grad():\n",
    "                # Forward pass, calculate logit predictions.\n",
    "                outputs = bert_classification_model(input_ids, \n",
    "                                    attention_mask=attention_masks)\n",
    "                logits = outputs.logits\n",
    "            \n",
    "        y_pred = np.argmax(logits.cpu().detach().numpy(), axis=1).flatten()\n",
    "                \n",
    "        predicted_logits.extend(logits.cpu().detach().numpy().tolist())\n",
    "        predicted_labels.extend(y_pred.tolist())\n",
    "    \n",
    "    return predicted_logits, predicted_labels"
   ]
  },
  {
   "cell_type": "code",
   "execution_count": 22,
   "id": "50f6f47b",
   "metadata": {
    "execution": {
     "iopub.execute_input": "2024-04-17T08:07:08.327865Z",
     "iopub.status.busy": "2024-04-17T08:07:08.327582Z",
     "iopub.status.idle": "2024-04-17T08:07:08.349301Z",
     "shell.execute_reply": "2024-04-17T08:07:08.348449Z"
    },
    "papermill": {
     "duration": 0.071388,
     "end_time": "2024-04-17T08:07:08.351316",
     "exception": false,
     "start_time": "2024-04-17T08:07:08.279928",
     "status": "completed"
    },
    "tags": []
   },
   "outputs": [],
   "source": [
    "import random\n",
    "\n",
    "seed_val = 42\n",
    "\n",
    "random.seed(seed_val)\n",
    "np.random.seed(seed_val)\n",
    "torch.manual_seed(seed_val)\n",
    "\n",
    "def fine_tuning_pretrained_model(epochs, bert_classification_model, \n",
    "                                 train_dataloader, \n",
    "                                 val_dataloader, \n",
    "                                 optimizer, \n",
    "                                 scheduler,\n",
    "                                 metric\n",
    "                                 ):\n",
    "    \n",
    "    fine_tuning_statistics = []\n",
    "    \n",
    "    for epoch in range(1, epochs + 1):\n",
    "\n",
    "        #################\n",
    "        # TRAINING PART #\n",
    "        #################\n",
    "\n",
    "        t_begin_train = time.time()\n",
    "        \n",
    "        bert_classification_model.train()\n",
    "        \n",
    "        total_train_loss, total_train_accuracy = train_batch(epoch,\n",
    "                                       bert_classification_model,\n",
    "                                       train_dataloader,\n",
    "                                       optimizer,\n",
    "                                       scheduler,\n",
    "                                       metric\n",
    "                                       )\n",
    "        \n",
    "        # Calculate the average training loss for all batches.\n",
    "        average_train_loss = total_train_loss / len(train_dataloader)\n",
    "        print(f\"  Average training loss: {average_train_loss}\")\n",
    "\n",
    "        # Calculate the average training accuracy for all batches.\n",
    "        average_train_accuracy = total_train_accuracy / len(train_dataloader)\n",
    "        print(f\"  Average training accuracy: {average_train_accuracy}\")\n",
    "        \n",
    "        t_end_train = time.time()\n",
    "\n",
    "        training_time = format_time(t_end_train - t_begin_train)\n",
    "        print(f\"  Training time took: {training_time}\")\n",
    "        \n",
    "        ###################\n",
    "        # VALIDATING PART #\n",
    "        ###################\n",
    "\n",
    "        t_begin_val = time.time()\n",
    "        \n",
    "        bert_classification_model.eval()\n",
    "        \n",
    "        total_val_loss, total_val_accuracy,\\\n",
    "        predicted_logits, predicted_labels = val_batch(epoch, \n",
    "                                                        bert_classification_model,\n",
    "                                                        val_dataloader,\n",
    "                                                        metric)\n",
    "        \n",
    "        # Calculate the average validation loss for all batches.\n",
    "        average_val_loss = total_val_loss / len(val_dataloader)\n",
    "        print(f\"  Average validation loss: {average_val_loss}\")\n",
    "\n",
    "        # Calculate the average validation accuracy for all batches.\n",
    "        average_val_accuracy = total_val_accuracy / len(val_dataloader)\n",
    "        print(f\"  Average validation accuracy: {average_val_accuracy}\")\n",
    "    \n",
    "        t_end_val = time.time()\n",
    "\n",
    "        validation_time = format_time(t_end_val - t_begin_val)\n",
    "        print(f\"  Validation time took: {validation_time}\")\n",
    "    \n",
    "        # Record all statistics from this epoch.\n",
    "        fine_tuning_statistics.append(\n",
    "            {\n",
    "                'epoch': epoch,\n",
    "                'train_loss': average_train_loss,\n",
    "                'train_accuracy': average_train_accuracy,\n",
    "                'train_time': training_time,\n",
    "                'val_loss': average_val_loss,\n",
    "                'val_accuracy': average_val_accuracy,\n",
    "                'val_time': validation_time\n",
    "            }\n",
    "        )\n",
    "        \n",
    "\n",
    "    print(\"\")\n",
    "    print(\"Training complete!\")\n",
    "\n",
    "    return fine_tuning_statistics"
   ]
  },
  {
   "cell_type": "markdown",
   "id": "1e2db3ac",
   "metadata": {
    "papermill": {
     "duration": 0.045571,
     "end_time": "2024-04-17T08:07:08.442883",
     "exception": false,
     "start_time": "2024-04-17T08:07:08.397312",
     "status": "completed"
    },
    "tags": []
   },
   "source": [
    "# Optimizer & Learning Rate Scheduler\n",
    "Now that we have our model loaded we need to grab the training hyperparameters from within the stored model.\n",
    "\n",
    "For the purposes of fine-tuning, the authors recommend choosing from the following values (from Appendix A.3 of the [BERT paper](https://arxiv.org/pdf/1810.04805.pdf)):\n",
    "\n",
    "* Batch size: 16, 32\n",
    "* Learning rate (Adam): 5e-5, 3e-5, 2e-5\n",
    "* Number of epochs: 2, 3, 4\n",
    "\n",
    "I chose:\n",
    "* Batch size: 10 (due to memory limit of Kaggle)\n",
    "* Learning rate: 2e-5\n",
    "* Number of epochs: 4\n",
    "\n",
    "We’re ready to kick off the training:"
   ]
  },
  {
   "cell_type": "code",
   "execution_count": 23,
   "id": "c8dd036f",
   "metadata": {
    "execution": {
     "iopub.execute_input": "2024-04-17T08:07:08.536377Z",
     "iopub.status.busy": "2024-04-17T08:07:08.535473Z",
     "iopub.status.idle": "2024-04-17T09:15:33.434437Z",
     "shell.execute_reply": "2024-04-17T09:15:33.433248Z"
    },
    "papermill": {
     "duration": 4104.948076,
     "end_time": "2024-04-17T09:15:33.436539",
     "exception": false,
     "start_time": "2024-04-17T08:07:08.488463",
     "status": "completed"
    },
    "tags": []
   },
   "outputs": [
    {
     "name": "stderr",
     "output_type": "stream",
     "text": [
      "Training epoch: 1:   0%|          | 0/3200 [00:00<?, ?batch/s]huggingface/tokenizers: The current process just got forked, after parallelism has already been used. Disabling parallelism to avoid deadlocks...\n",
      "To disable this warning, you can either:\n",
      "\t- Avoid using `tokenizers` before the fork if possible\n",
      "\t- Explicitly set the environment variable TOKENIZERS_PARALLELISM=(true | false)\n",
      "huggingface/tokenizers: The current process just got forked, after parallelism has already been used. Disabling parallelism to avoid deadlocks...\n",
      "To disable this warning, you can either:\n",
      "\t- Avoid using `tokenizers` before the fork if possible\n",
      "\t- Explicitly set the environment variable TOKENIZERS_PARALLELISM=(true | false)\n",
      "huggingface/tokenizers: The current process just got forked, after parallelism has already been used. Disabling parallelism to avoid deadlocks...\n",
      "To disable this warning, you can either:\n",
      "\t- Avoid using `tokenizers` before the fork if possible\n",
      "\t- Explicitly set the environment variable TOKENIZERS_PARALLELISM=(true | false)\n",
      "huggingface/tokenizers: The current process just got forked, after parallelism has already been used. Disabling parallelism to avoid deadlocks...\n",
      "To disable this warning, you can either:\n",
      "\t- Avoid using `tokenizers` before the fork if possible\n",
      "\t- Explicitly set the environment variable TOKENIZERS_PARALLELISM=(true | false)\n",
      "Training epoch: 1: 100%|██████████| 3200/3200 [16:21<00:00,  3.26batch/s]\n"
     ]
    },
    {
     "name": "stdout",
     "output_type": "stream",
     "text": [
      "  Average training loss: 0.5362066818791209\n",
      "  Average training accuracy: 0.7646249999999942\n",
      "  Training time took: 0:16:22\n"
     ]
    },
    {
     "name": "stderr",
     "output_type": "stream",
     "text": [
      "Validating epoch: 1:   0%|          | 0/400 [00:00<?, ?batch/s]huggingface/tokenizers: The current process just got forked, after parallelism has already been used. Disabling parallelism to avoid deadlocks...\n",
      "To disable this warning, you can either:\n",
      "\t- Avoid using `tokenizers` before the fork if possible\n",
      "\t- Explicitly set the environment variable TOKENIZERS_PARALLELISM=(true | false)\n",
      "huggingface/tokenizers: The current process just got forked, after parallelism has already been used. Disabling parallelism to avoid deadlocks...\n",
      "To disable this warning, you can either:\n",
      "\t- Avoid using `tokenizers` before the fork if possible\n",
      "\t- Explicitly set the environment variable TOKENIZERS_PARALLELISM=(true | false)\n",
      "huggingface/tokenizers: The current process just got forked, after parallelism has already been used. Disabling parallelism to avoid deadlocks...\n",
      "To disable this warning, you can either:\n",
      "\t- Avoid using `tokenizers` before the fork if possible\n",
      "\t- Explicitly set the environment variable TOKENIZERS_PARALLELISM=(true | false)\n",
      "huggingface/tokenizers: The current process just got forked, after parallelism has already been used. Disabling parallelism to avoid deadlocks...\n",
      "To disable this warning, you can either:\n",
      "\t- Avoid using `tokenizers` before the fork if possible\n",
      "\t- Explicitly set the environment variable TOKENIZERS_PARALLELISM=(true | false)\n",
      "Validating epoch: 1: 100%|██████████| 400/400 [00:42<00:00,  9.36batch/s]\n"
     ]
    },
    {
     "name": "stdout",
     "output_type": "stream",
     "text": [
      "  Average validation loss: 0.4486566667631269\n",
      "  Average validation accuracy: 0.7815000000000031\n",
      "  Validation time took: 0:00:43\n"
     ]
    },
    {
     "name": "stderr",
     "output_type": "stream",
     "text": [
      "Training epoch: 2:   0%|          | 0/3200 [00:00<?, ?batch/s]huggingface/tokenizers: The current process just got forked, after parallelism has already been used. Disabling parallelism to avoid deadlocks...\n",
      "To disable this warning, you can either:\n",
      "\t- Avoid using `tokenizers` before the fork if possible\n",
      "\t- Explicitly set the environment variable TOKENIZERS_PARALLELISM=(true | false)\n",
      "huggingface/tokenizers: The current process just got forked, after parallelism has already been used. Disabling parallelism to avoid deadlocks...\n",
      "To disable this warning, you can either:\n",
      "\t- Avoid using `tokenizers` before the fork if possible\n",
      "\t- Explicitly set the environment variable TOKENIZERS_PARALLELISM=(true | false)\n",
      "huggingface/tokenizers: The current process just got forked, after parallelism has already been used. Disabling parallelism to avoid deadlocks...\n",
      "To disable this warning, you can either:\n",
      "\t- Avoid using `tokenizers` before the fork if possible\n",
      "\t- Explicitly set the environment variable TOKENIZERS_PARALLELISM=(true | false)\n",
      "huggingface/tokenizers: The current process just got forked, after parallelism has already been used. Disabling parallelism to avoid deadlocks...\n",
      "To disable this warning, you can either:\n",
      "\t- Avoid using `tokenizers` before the fork if possible\n",
      "\t- Explicitly set the environment variable TOKENIZERS_PARALLELISM=(true | false)\n",
      "Training epoch: 2: 100%|██████████| 3200/3200 [16:24<00:00,  3.25batch/s]\n"
     ]
    },
    {
     "name": "stdout",
     "output_type": "stream",
     "text": [
      "  Average training loss: 0.5021867199146436\n",
      "  Average training accuracy: 0.8306875000000008\n",
      "  Training time took: 0:16:24\n"
     ]
    },
    {
     "name": "stderr",
     "output_type": "stream",
     "text": [
      "Validating epoch: 2:   0%|          | 0/400 [00:00<?, ?batch/s]huggingface/tokenizers: The current process just got forked, after parallelism has already been used. Disabling parallelism to avoid deadlocks...\n",
      "To disable this warning, you can either:\n",
      "\t- Avoid using `tokenizers` before the fork if possible\n",
      "\t- Explicitly set the environment variable TOKENIZERS_PARALLELISM=(true | false)\n",
      "huggingface/tokenizers: The current process just got forked, after parallelism has already been used. Disabling parallelism to avoid deadlocks...\n",
      "To disable this warning, you can either:\n",
      "\t- Avoid using `tokenizers` before the fork if possible\n",
      "\t- Explicitly set the environment variable TOKENIZERS_PARALLELISM=(true | false)\n",
      "huggingface/tokenizers: The current process just got forked, after parallelism has already been used. Disabling parallelism to avoid deadlocks...\n",
      "To disable this warning, you can either:\n",
      "\t- Avoid using `tokenizers` before the fork if possible\n",
      "\t- Explicitly set the environment variable TOKENIZERS_PARALLELISM=(true | false)\n",
      "huggingface/tokenizers: The current process just got forked, after parallelism has already been used. Disabling parallelism to avoid deadlocks...\n",
      "To disable this warning, you can either:\n",
      "\t- Avoid using `tokenizers` before the fork if possible\n",
      "\t- Explicitly set the environment variable TOKENIZERS_PARALLELISM=(true | false)\n",
      "Validating epoch: 2: 100%|██████████| 400/400 [00:42<00:00,  9.31batch/s]TOKENIZERS_PARALLELISM=(true | false)\n",
      "huggingface/tokenizers: The current process just got forked, after parallelism has already been used. Disabling parallelism to avoid deadlocks...\n",
      "To disable this warning, you can either:\n",
      "\t- Avoid using `tokenizers` before the fork if possible\n",
      "\t- Explicitly set the environment variable TOKENIZERS_PARALLELISM=(true | false)\n",
      "Validating epoch: 2: 100%|██████████| 400/400 [00:43<00:00,  9.30batch/s]\n"
     ]
    },
    {
     "name": "stdout",
     "output_type": "stream",
     "text": [
      "  Average validation loss: 0.6797501960722729\n",
      "  Average validation accuracy: 0.8205000000000028\n",
      "  Validation time took: 0:00:43\n"
     ]
    },
    {
     "name": "stderr",
     "output_type": "stream",
     "text": [
      "Training epoch: 3:   0%|          | 0/3200 [00:00<?, ?batch/s]huggingface/tokenizers: The current process just got forked, after parallelism has already been used. Disabling parallelism to avoid deadlocks...\n",
      "To disable this warning, you can either:\n",
      "\t- Avoid using `tokenizers` before the fork if possible\n",
      "\t- Explicitly set the environment variable TOKENIZERS_PARALLELISM=(true | false)\n",
      "huggingface/tokenizers: The current process just got forked, after parallelism has already been used. Disabling parallelism to avoid deadlocks...\n",
      "To disable this warning, you can either:\n",
      "\t- Avoid using `tokenizers` before the fork if possible\n",
      "\t- Explicitly set the environment variable TOKENIZERS_PARALLELISM=(true | false)\n",
      "huggingface/tokenizers: The current process just got forked, after parallelism has already been used. Disabling parallelism to avoid deadlocks...\n",
      "To disable this warning, you can either:\n",
      "\t- Avoid using `tokenizers` before the fork if possible\n",
      "\t- Explicitly set the environment variable TOKENIZERS_PARALLELISM=(true | false)\n",
      "huggingface/tokenizers: The current process just got forked, after parallelism has already been used. Disabling parallelism to avoid deadlocks...\n",
      "To disable this warning, you can either:\n",
      "\t- Avoid using `tokenizers` before the fork if possible\n",
      "\t- Explicitly set the environment variable TOKENIZERS_PARALLELISM=(true | false)\n",
      "Training epoch: 3: 100%|██████████| 3200/3200 [16:24<00:00,  3.25batch/s]\n"
     ]
    },
    {
     "name": "stdout",
     "output_type": "stream",
     "text": [
      "  Average training loss: 0.47025536693641695\n",
      "  Average training accuracy: 0.8827500000000047\n",
      "  Training time took: 0:16:25\n"
     ]
    },
    {
     "name": "stderr",
     "output_type": "stream",
     "text": [
      "Validating epoch: 3:   0%|          | 0/400 [00:00<?, ?batch/s]huggingface/tokenizers: The current process just got forked, after parallelism has already been used. Disabling parallelism to avoid deadlocks...\n",
      "To disable this warning, you can either:\n",
      "\t- Avoid using `tokenizers` before the fork if possible\n",
      "\t- Explicitly set the environment variable TOKENIZERS_PARALLELISM=(true | false)\n",
      "huggingface/tokenizers: The current process just got forked, after parallelism has already been used. Disabling parallelism to avoid deadlocks...\n",
      "To disable this warning, you can either:\n",
      "\t- Avoid using `tokenizers` before the fork if possible\n",
      "\t- Explicitly set the environment variable TOKENIZERS_PARALLELISM=(true | false)\n",
      "huggingface/tokenizers: The current process just got forked, after parallelism has already been used. Disabling parallelism to avoid deadlocks...\n",
      "To disable this warning, you can either:\n",
      "\t- Avoid using `tokenizers` before the fork if possible\n",
      "\t- Explicitly set the environment variable TOKENIZERS_PARALLELISM=(true | false)\n",
      "huggingface/tokenizers: The current process just got forked, after parallelism has already been used. Disabling parallelism to avoid deadlocks...\n",
      "To disable this warning, you can either:\n",
      "\t- Avoid using `tokenizers` before the fork if possible\n",
      "\t- Explicitly set the environment variable TOKENIZERS_PARALLELISM=(true | false)\n",
      "Validating epoch: 3: 100%|██████████| 400/400 [00:43<00:00,  9.27batch/s]\n"
     ]
    },
    {
     "name": "stdout",
     "output_type": "stream",
     "text": [
      "  Average validation loss: 0.745199850818899\n",
      "  Average validation accuracy: 0.8370000000000027\n",
      "  Validation time took: 0:00:43\n"
     ]
    },
    {
     "name": "stderr",
     "output_type": "stream",
     "text": [
      "Training epoch: 4:   0%|          | 0/3200 [00:00<?, ?batch/s]huggingface/tokenizers: The current process just got forked, after parallelism has already been used. Disabling parallelism to avoid deadlocks...\n",
      "To disable this warning, you can either:\n",
      "\t- Avoid using `tokenizers` before the fork if possible\n",
      "\t- Explicitly set the environment variable TOKENIZERS_PARALLELISM=(true | false)\n",
      "huggingface/tokenizers: The current process just got forked, after parallelism has already been used. Disabling parallelism to avoid deadlocks...\n",
      "To disable this warning, you can either:\n",
      "\t- Avoid using `tokenizers` before the fork if possible\n",
      "\t- Explicitly set the environment variable TOKENIZERS_PARALLELISM=(true | false)\n",
      "huggingface/tokenizers: The current process just got forked, after parallelism has already been used. Disabling parallelism to avoid deadlocks...\n",
      "To disable this warning, you can either:\n",
      "\t- Avoid using `tokenizers` before the fork if possible\n",
      "\t- Explicitly set the environment variable TOKENIZERS_PARALLELISM=(true | false)\n",
      "huggingface/tokenizers: The current process just got forked, after parallelism has already been used. Disabling parallelism to avoid deadlocks...\n",
      "To disable this warning, you can either:\n",
      "\t- Avoid using `tokenizers` before the fork if possible\n",
      "\t- Explicitly set the environment variable TOKENIZERS_PARALLELISM=(true | false)\n",
      "Training epoch: 4: 100%|██████████| 3200/3200 [16:22<00:00,  3.26batch/s]\n"
     ]
    },
    {
     "name": "stdout",
     "output_type": "stream",
     "text": [
      "  Average training loss: 0.3339847708926845\n",
      "  Average training accuracy: 0.9305625000000081\n",
      "  Training time took: 0:16:23\n"
     ]
    },
    {
     "name": "stderr",
     "output_type": "stream",
     "text": [
      "Validating epoch: 4:   0%|          | 0/400 [00:00<?, ?batch/s]huggingface/tokenizers: The current process just got forked, after parallelism has already been used. Disabling parallelism to avoid deadlocks...\n",
      "To disable this warning, you can either:\n",
      "\t- Avoid using `tokenizers` before the fork if possible\n",
      "\t- Explicitly set the environment variable TOKENIZERS_PARALLELISM=(true | false)\n",
      "huggingface/tokenizers: The current process just got forked, after parallelism has already been used. Disabling parallelism to avoid deadlocks...\n",
      "To disable this warning, you can either:\n",
      "\t- Avoid using `tokenizers` before the fork if possible\n",
      "\t- Explicitly set the environment variable TOKENIZERS_PARALLELISM=(true | false)\n",
      "huggingface/tokenizers: The current process just got forked, after parallelism has already been used. Disabling parallelism to avoid deadlocks...\n",
      "To disable this warning, you can either:\n",
      "\t- Avoid using `tokenizers` before the fork if possible\n",
      "\t- Explicitly set the environment variable TOKENIZERS_PARALLELISM=(true | false)\n",
      "huggingface/tokenizers: The current process just got forked, after parallelism has already been used. Disabling parallelism to avoid deadlocks...\n",
      "To disable this warning, you can either:\n",
      "\t- Avoid using `tokenizers` before the fork if possible\n",
      "\t- Explicitly set the environment variable TOKENIZERS_PARALLELISM=(true | false)\n",
      "Validating epoch: 4: 100%|██████████| 400/400 [00:42<00:00,  9.40batch/s]"
     ]
    },
    {
     "name": "stdout",
     "output_type": "stream",
     "text": [
      "  Average validation loss: 0.8493475334657705\n",
      "  Average validation accuracy: 0.8355000000000032\n",
      "  Validation time took: 0:00:43\n",
      "\n",
      "Training complete!\n"
     ]
    },
    {
     "name": "stderr",
     "output_type": "stream",
     "text": [
      "\n"
     ]
    }
   ],
   "source": [
    "from torch.optim import AdamW\n",
    "from sklearn.metrics import accuracy_score\n",
    "\n",
    "adamw_optimizer = AdamW(bert_classification_model.parameters(),\n",
    "                  lr = 2e-5, # args.learning_rate - default is 5e-5, our notebook had 2e-5\n",
    "                  eps = 1e-8 # args.adam_epsilon  - default is 1e-8.\n",
    "                )\n",
    "\n",
    "from transformers import get_linear_schedule_with_warmup\n",
    "\n",
    "# Number of training epochs. The BERT authors recommend between 2 and 4. \n",
    "epochs = 4\n",
    "\n",
    "# Total number of training steps is [number of batches] x [number of epochs]. \n",
    "# (Note that this is not the same as the number of training samples).\n",
    "\n",
    "total_steps = len(train_dataloader) * epochs\n",
    "\n",
    "# Create the learning rate scheduler.\n",
    "scheduler = get_linear_schedule_with_warmup(adamw_optimizer, \n",
    "                                            num_warmup_steps = 0, \n",
    "                                            num_training_steps = total_steps)\n",
    "\n",
    "# Finally, we start to train the model\n",
    "fine_tuning_statistics = fine_tuning_pretrained_model(\n",
    "    epochs,\n",
    "    bert_classification_model,\n",
    "    train_dataloader,\n",
    "    val_dataloader,\n",
    "    adamw_optimizer,\n",
    "    scheduler,\n",
    "    accuracy_score)"
   ]
  },
  {
   "cell_type": "markdown",
   "id": "23efeb58",
   "metadata": {
    "papermill": {
     "duration": 1.188676,
     "end_time": "2024-04-17T09:15:35.884613",
     "exception": false,
     "start_time": "2024-04-17T09:15:34.695937",
     "status": "completed"
    },
    "tags": []
   },
   "source": [
    "### Let’s view the summary of the training process. First we create a folder to save the results for the BERT variant"
   ]
  },
  {
   "cell_type": "code",
   "execution_count": 24,
   "id": "97209bec",
   "metadata": {
    "execution": {
     "iopub.execute_input": "2024-04-17T09:15:38.292659Z",
     "iopub.status.busy": "2024-04-17T09:15:38.292273Z",
     "iopub.status.idle": "2024-04-17T09:15:38.297417Z",
     "shell.execute_reply": "2024-04-17T09:15:38.296526Z"
    },
    "papermill": {
     "duration": 1.182762,
     "end_time": "2024-04-17T09:15:38.299292",
     "exception": false,
     "start_time": "2024-04-17T09:15:37.116530",
     "status": "completed"
    },
    "tags": []
   },
   "outputs": [],
   "source": [
    "if not os.path.exists(f\"{bert_model_name}\"):\n",
    "    os.makedirs(f\"{bert_model_name}\")"
   ]
  },
  {
   "cell_type": "code",
   "execution_count": 25,
   "id": "0b440008",
   "metadata": {
    "execution": {
     "iopub.execute_input": "2024-04-17T09:15:40.697530Z",
     "iopub.status.busy": "2024-04-17T09:15:40.697166Z",
     "iopub.status.idle": "2024-04-17T09:15:40.719816Z",
     "shell.execute_reply": "2024-04-17T09:15:40.718960Z"
    },
    "papermill": {
     "duration": 1.19551,
     "end_time": "2024-04-17T09:15:40.721704",
     "exception": false,
     "start_time": "2024-04-17T09:15:39.526194",
     "status": "completed"
    },
    "tags": []
   },
   "outputs": [
    {
     "data": {
      "text/html": [
       "<div>\n",
       "<style scoped>\n",
       "    .dataframe tbody tr th:only-of-type {\n",
       "        vertical-align: middle;\n",
       "    }\n",
       "\n",
       "    .dataframe tbody tr th {\n",
       "        vertical-align: top;\n",
       "    }\n",
       "\n",
       "    .dataframe thead th {\n",
       "        text-align: right;\n",
       "    }\n",
       "</style>\n",
       "<table border=\"1\" class=\"dataframe\">\n",
       "  <thead>\n",
       "    <tr style=\"text-align: right;\">\n",
       "      <th></th>\n",
       "      <th>train_loss</th>\n",
       "      <th>train_accuracy</th>\n",
       "      <th>train_time</th>\n",
       "      <th>val_loss</th>\n",
       "      <th>val_accuracy</th>\n",
       "      <th>val_time</th>\n",
       "    </tr>\n",
       "    <tr>\n",
       "      <th>epoch</th>\n",
       "      <th></th>\n",
       "      <th></th>\n",
       "      <th></th>\n",
       "      <th></th>\n",
       "      <th></th>\n",
       "      <th></th>\n",
       "    </tr>\n",
       "  </thead>\n",
       "  <tbody>\n",
       "    <tr>\n",
       "      <th>1</th>\n",
       "      <td>0.536207</td>\n",
       "      <td>0.764625</td>\n",
       "      <td>0:16:22</td>\n",
       "      <td>0.448657</td>\n",
       "      <td>0.7815</td>\n",
       "      <td>0:00:43</td>\n",
       "    </tr>\n",
       "    <tr>\n",
       "      <th>2</th>\n",
       "      <td>0.502187</td>\n",
       "      <td>0.830688</td>\n",
       "      <td>0:16:24</td>\n",
       "      <td>0.679750</td>\n",
       "      <td>0.8205</td>\n",
       "      <td>0:00:43</td>\n",
       "    </tr>\n",
       "    <tr>\n",
       "      <th>3</th>\n",
       "      <td>0.470255</td>\n",
       "      <td>0.882750</td>\n",
       "      <td>0:16:25</td>\n",
       "      <td>0.745200</td>\n",
       "      <td>0.8370</td>\n",
       "      <td>0:00:43</td>\n",
       "    </tr>\n",
       "    <tr>\n",
       "      <th>4</th>\n",
       "      <td>0.333985</td>\n",
       "      <td>0.930563</td>\n",
       "      <td>0:16:23</td>\n",
       "      <td>0.849348</td>\n",
       "      <td>0.8355</td>\n",
       "      <td>0:00:43</td>\n",
       "    </tr>\n",
       "  </tbody>\n",
       "</table>\n",
       "</div>"
      ],
      "text/plain": [
       "       train_loss  train_accuracy train_time  val_loss  val_accuracy val_time\n",
       "epoch                                                                        \n",
       "1        0.536207        0.764625    0:16:22  0.448657        0.7815  0:00:43\n",
       "2        0.502187        0.830688    0:16:24  0.679750        0.8205  0:00:43\n",
       "3        0.470255        0.882750    0:16:25  0.745200        0.8370  0:00:43\n",
       "4        0.333985        0.930563    0:16:23  0.849348        0.8355  0:00:43"
      ]
     },
     "execution_count": 25,
     "metadata": {},
     "output_type": "execute_result"
    }
   ],
   "source": [
    "df_stats = pd.DataFrame(fine_tuning_statistics).set_index('epoch')\n",
    "# Saving the fine_tuning_statistics\n",
    "df_stats.to_csv(f\"{bert_model_name}/fine_tuning_statistics.csv\")\n",
    "df_stats"
   ]
  },
  {
   "cell_type": "code",
   "execution_count": 26,
   "id": "2d9a954c",
   "metadata": {
    "execution": {
     "iopub.execute_input": "2024-04-17T09:15:43.173782Z",
     "iopub.status.busy": "2024-04-17T09:15:43.173376Z",
     "iopub.status.idle": "2024-04-17T09:15:43.564328Z",
     "shell.execute_reply": "2024-04-17T09:15:43.563426Z"
    },
    "papermill": {
     "duration": 1.621573,
     "end_time": "2024-04-17T09:15:43.566434",
     "exception": false,
     "start_time": "2024-04-17T09:15:41.944861",
     "status": "completed"
    },
    "tags": []
   },
   "outputs": [
    {
     "data": {
      "image/png": "[encoded data removed]",
      "text/plain": [
       "<Figure size 640x480 with 1 Axes>"
      ]
     },
     "metadata": {},
     "output_type": "display_data"
    }
   ],
   "source": [
    "from matplotlib import pyplot\n",
    "\n",
    "%matplotlib inline\n",
    "\n",
    "pyplot.plot(df_stats['train_loss'], 'b-o', label=\"training\")\n",
    "pyplot.plot(df_stats['val_loss'], 'g-o', label=\"validation\")\n",
    "pyplot.title(f\"{bert_model_name}: training & validation loss\", fontsize=15)\n",
    "pyplot.xlabel(\"Epoch\", fontsize=14)\n",
    "pyplot.ylabel(\"Loss\", fontsize=14)\n",
    "pyplot.legend(frameon=False, fontsize=14)\n",
    "pyplot.xticks(df_stats.index.values.tolist(), fontsize=12)\n",
    "pyplot.yticks(fontsize=12)\n",
    "pyplot.savefig(f\"{bert_model_name}/train_val_loss_plot.png\")\n",
    "pyplot.show()"
   ]
  },
  {
   "cell_type": "code",
   "execution_count": 27,
   "id": "b55cb944",
   "metadata": {
    "execution": {
     "iopub.execute_input": "2024-04-17T09:15:45.995176Z",
     "iopub.status.busy": "2024-04-17T09:15:45.994798Z",
     "iopub.status.idle": "2024-04-17T09:15:46.368272Z",
     "shell.execute_reply": "2024-04-17T09:15:46.367354Z"
    },
    "papermill": {
     "duration": 1.6133,
     "end_time": "2024-04-17T09:15:46.370515",
     "exception": false,
     "start_time": "2024-04-17T09:15:44.757215",
     "status": "completed"
    },
    "tags": []
   },
   "outputs": [
    {
     "data": {
      "image/png": "[encoded data removed]",
      "text/plain": [
       "<Figure size 640x480 with 1 Axes>"
      ]
     },
     "metadata": {},
     "output_type": "display_data"
    }
   ],
   "source": [
    "from matplotlib import pyplot\n",
    "\n",
    "%matplotlib inline\n",
    "\n",
    "pyplot.plot(df_stats['train_accuracy'], 'b-o', label=\"training\")\n",
    "pyplot.plot(df_stats['val_accuracy'], 'g-o', label=\"validation\")\n",
    "pyplot.title(f\"{bert_model_name}: training & validation accuracy\", fontsize=15)\n",
    "pyplot.xlabel(\"Epoch\", fontsize=14)\n",
    "pyplot.ylabel(\"Loss\", fontsize=14)\n",
    "pyplot.legend(frameon=False, fontsize=14)\n",
    "pyplot.xticks(df_stats.index.values.tolist(), fontsize=12)\n",
    "pyplot.yticks(fontsize=12)\n",
    "pyplot.savefig(f\"{bert_model_name}/train_val_accuracy_plot.png\")\n",
    "pyplot.show()"
   ]
  },
  {
   "cell_type": "markdown",
   "id": "7135b031",
   "metadata": {
    "papermill": {
     "duration": 1.251003,
     "end_time": "2024-04-17T09:15:48.793108",
     "exception": false,
     "start_time": "2024-04-17T09:15:47.542105",
     "status": "completed"
    },
    "tags": []
   },
   "source": [
    "## Performance on test set and prediction"
   ]
  },
  {
   "cell_type": "code",
   "execution_count": 28,
   "id": "1ac34681",
   "metadata": {
    "execution": {
     "iopub.execute_input": "2024-04-17T09:15:51.289243Z",
     "iopub.status.busy": "2024-04-17T09:15:51.288877Z",
     "iopub.status.idle": "2024-04-17T09:16:00.904888Z",
     "shell.execute_reply": "2024-04-17T09:16:00.903709Z"
    },
    "papermill": {
     "duration": 10.887958,
     "end_time": "2024-04-17T09:16:00.907056",
     "exception": false,
     "start_time": "2024-04-17T09:15:50.019098",
     "status": "completed"
    },
    "tags": []
   },
   "outputs": [
    {
     "name": "stdout",
     "output_type": "stream",
     "text": [
      "<class 'pandas.core.series.Series'>\n"
     ]
    },
    {
     "name": "stderr",
     "output_type": "stream",
     "text": [
      "100%|██████████| 4000/4000 [00:04<00:00, 947.56it/s]\n"
     ]
    },
    {
     "name": "stdout",
     "output_type": "stream",
     "text": [
      "Shape of input_ids is torch.Size([4000, 512])\n",
      "Shape of token_type_ids is torch.Size([4000, 512])\n",
      "Shape of attention_masks is torch.Size([4000, 512])\n",
      "Shape of labels is torch.Size([4000])\n"
     ]
    },
    {
     "name": "stderr",
     "output_type": "stream",
     "text": [
      "100%|██████████| 5000/5000 [00:05<00:00, 951.86it/s]\n"
     ]
    },
    {
     "name": "stdout",
     "output_type": "stream",
     "text": [
      "Shape of input_ids is torch.Size([5000, 512])\n",
      "Shape of token_type_ids is torch.Size([5000, 512])\n",
      "Shape of attention_masks is torch.Size([5000, 512])\n",
      "Shape of labels is torch.Size([5000])\n"
     ]
    }
   ],
   "source": [
    "print(type(y_test_known_labels))\n",
    "test_tensor_known_labels = convert_to_dataset_torch(X_test_known_labels, y_test_known_labels)\n",
    "test_dataloader = DataLoader(test_tensor_known_labels, \n",
    "                             sampler=SequentialSampler(test_tensor_known_labels), \n",
    "                             batch_size=batch_size)\n",
    "\n",
    "#print(len(X_test_unknown_labels))\n",
    "#features_tensor = torch.tensor(X_test_unknown_labels.to_numpy(), dtype=torch.float32)\n",
    "#print(features_tensor.shape)\n",
    "\n",
    "# Create dummy labels tensor\n",
    "\n",
    "dummy_labels_series = pd.Series([-1] * len(X_test_unknown_labels))\n",
    "# print(X_test_unknown_labels.shape)\n",
    "test_tensor_unknown_labels = convert_to_dataset_torch(X_test_unknown_labels, dummy_labels_series)\n",
    "predict_dataloader = DataLoader(test_tensor_unknown_labels, \n",
    "                             sampler=SequentialSampler(test_tensor_unknown_labels), \n",
    "                             batch_size=batch_size)"
   ]
  },
  {
   "cell_type": "markdown",
   "id": "1bd0ff4a",
   "metadata": {
    "papermill": {
     "duration": 1.241668,
     "end_time": "2024-04-17T09:16:03.324344",
     "exception": false,
     "start_time": "2024-04-17T09:16:02.082676",
     "status": "completed"
    },
    "tags": []
   },
   "source": [
    "## Evaluate on the test set with known labels\n",
    "With the test set prepared, we can apply our fine-tuned model to generate predictions on the test set with known labels"
   ]
  },
  {
   "cell_type": "code",
   "execution_count": 29,
   "id": "83f38588",
   "metadata": {
    "execution": {
     "iopub.execute_input": "2024-04-17T09:16:05.777039Z",
     "iopub.status.busy": "2024-04-17T09:16:05.776157Z",
     "iopub.status.idle": "2024-04-17T09:17:28.613439Z",
     "shell.execute_reply": "2024-04-17T09:17:28.612414Z"
    },
    "papermill": {
     "duration": 84.091173,
     "end_time": "2024-04-17T09:17:28.616116",
     "exception": false,
     "start_time": "2024-04-17T09:16:04.524943",
     "status": "completed"
    },
    "tags": []
   },
   "outputs": [
    {
     "name": "stderr",
     "output_type": "stream",
     "text": [
      "Validating epoch: None: 100%|██████████| 800/800 [01:22<00:00,  9.66batch/s]\n"
     ]
    }
   ],
   "source": [
    "bert_classification_model.eval()\n",
    "\n",
    "total_val_loss, total_val_accuracy,\\\n",
    "predicted_logits_val, predicted_labels_val = val_batch(None, bert_classification_model, \n",
    "                                               test_dataloader, accuracy_score)"
   ]
  },
  {
   "cell_type": "markdown",
   "id": "d36f50d9",
   "metadata": {
    "papermill": {
     "duration": 1.245833,
     "end_time": "2024-04-17T09:17:31.179199",
     "exception": false,
     "start_time": "2024-04-17T09:17:29.933366",
     "status": "completed"
    },
    "tags": []
   },
   "source": [
    "## Making prediction on the test set with unknown labels\n",
    "\n",
    "With the predict set prepared, we can apply our fine-tuned model to generate predictions on the test set with unknown labels"
   ]
  },
  {
   "cell_type": "code",
   "execution_count": 30,
   "id": "5477303b",
   "metadata": {
    "execution": {
     "iopub.execute_input": "2024-04-17T09:17:33.730784Z",
     "iopub.status.busy": "2024-04-17T09:17:33.730373Z",
     "iopub.status.idle": "2024-04-17T09:19:16.634730Z",
     "shell.execute_reply": "2024-04-17T09:19:16.633578Z"
    },
    "papermill": {
     "duration": 104.154074,
     "end_time": "2024-04-17T09:19:16.637982",
     "exception": false,
     "start_time": "2024-04-17T09:17:32.483908",
     "status": "completed"
    },
    "tags": []
   },
   "outputs": [
    {
     "name": "stderr",
     "output_type": "stream",
     "text": [
      "Predicting: 100%|██████████| 1000/1000 [01:42<00:00,  9.72batch/s]\n"
     ]
    }
   ],
   "source": [
    "bert_classification_model.eval()\n",
    "\n",
    "predicted_logits_test, predicted_labels_test = predict_batch(bert_classification_model, \n",
    "                                                   predict_dataloader)"
   ]
  },
  {
   "cell_type": "markdown",
   "id": "3ed00a4f",
   "metadata": {
    "papermill": {
     "duration": 1.381427,
     "end_time": "2024-04-17T09:19:19.526834",
     "exception": false,
     "start_time": "2024-04-17T09:19:18.145407",
     "status": "completed"
    },
    "tags": []
   },
   "source": [
    "### We construct the testing result with corresponding truth labels and predicted labels by the fine-tuned BERT model. This testing data is part of the training data (train.tsv)"
   ]
  },
  {
   "cell_type": "code",
   "execution_count": 31,
   "id": "1f3b8328",
   "metadata": {
    "execution": {
     "iopub.execute_input": "2024-04-17T09:19:22.367850Z",
     "iopub.status.busy": "2024-04-17T09:19:22.367460Z",
     "iopub.status.idle": "2024-04-17T09:19:22.386315Z",
     "shell.execute_reply": "2024-04-17T09:19:22.385398Z"
    },
    "papermill": {
     "duration": 1.394355,
     "end_time": "2024-04-17T09:19:22.388277",
     "exception": false,
     "start_time": "2024-04-17T09:19:20.993922",
     "status": "completed"
    },
    "tags": []
   },
   "outputs": [
    {
     "data": {
      "text/html": [
       "<div>\n",
       "<style scoped>\n",
       "    .dataframe tbody tr th:only-of-type {\n",
       "        vertical-align: middle;\n",
       "    }\n",
       "\n",
       "    .dataframe tbody tr th {\n",
       "        vertical-align: top;\n",
       "    }\n",
       "\n",
       "    .dataframe thead th {\n",
       "        text-align: right;\n",
       "    }\n",
       "</style>\n",
       "<table border=\"1\" class=\"dataframe\">\n",
       "  <thead>\n",
       "    <tr style=\"text-align: right;\">\n",
       "      <th></th>\n",
       "      <th>question1</th>\n",
       "      <th>question2</th>\n",
       "      <th>true_is_duplicate</th>\n",
       "      <th>predicted_is_duplicate</th>\n",
       "    </tr>\n",
       "  </thead>\n",
       "  <tbody>\n",
       "    <tr>\n",
       "      <th>10650</th>\n",
       "      <td>Where did \"European Jewish\" come from in my si...</td>\n",
       "      <td>I am doing my research on MRSA, but my results...</td>\n",
       "      <td>0</td>\n",
       "      <td>0</td>\n",
       "    </tr>\n",
       "    <tr>\n",
       "      <th>2041</th>\n",
       "      <td>Is there a way to get deleted Instagram pictur...</td>\n",
       "      <td>Can you delete someone's picture on Instagram?</td>\n",
       "      <td>0</td>\n",
       "      <td>0</td>\n",
       "    </tr>\n",
       "    <tr>\n",
       "      <th>8668</th>\n",
       "      <td>Why are the Åland Islands a part of Finland wh...</td>\n",
       "      <td>Why isn't Aland a part of Sweden?</td>\n",
       "      <td>1</td>\n",
       "      <td>0</td>\n",
       "    </tr>\n",
       "    <tr>\n",
       "      <th>1114</th>\n",
       "      <td>What do you feel is your purpose in life?</td>\n",
       "      <td>What according to YOU is the purpose of life?</td>\n",
       "      <td>1</td>\n",
       "      <td>1</td>\n",
       "    </tr>\n",
       "    <tr>\n",
       "      <th>13902</th>\n",
       "      <td>What's the difference between Vyvanse and Adde...</td>\n",
       "      <td>What is the difference between Adderall XR and...</td>\n",
       "      <td>1</td>\n",
       "      <td>0</td>\n",
       "    </tr>\n",
       "  </tbody>\n",
       "</table>\n",
       "</div>"
      ],
      "text/plain": [
       "                                               question1  \\\n",
       "10650  Where did \"European Jewish\" come from in my si...   \n",
       "2041   Is there a way to get deleted Instagram pictur...   \n",
       "8668   Why are the Åland Islands a part of Finland wh...   \n",
       "1114           What do you feel is your purpose in life?   \n",
       "13902  What's the difference between Vyvanse and Adde...   \n",
       "\n",
       "                                               question2  true_is_duplicate  \\\n",
       "10650  I am doing my research on MRSA, but my results...                  0   \n",
       "2041      Can you delete someone's picture on Instagram?                  0   \n",
       "8668                   Why isn't Aland a part of Sweden?                  1   \n",
       "1114       What according to YOU is the purpose of life?                  1   \n",
       "13902  What is the difference between Adderall XR and...                  1   \n",
       "\n",
       "       predicted_is_duplicate  \n",
       "10650                       0  \n",
       "2041                        0  \n",
       "8668                        0  \n",
       "1114                        1  \n",
       "13902                       0  "
      ]
     },
     "execution_count": 31,
     "metadata": {},
     "output_type": "execute_result"
    }
   ],
   "source": [
    "testing_results_known_labels = pd.DataFrame()\n",
    "testing_results_known_labels[\"question1\"] = X_test_known_labels[\"question1\"]\n",
    "testing_results_known_labels[\"question2\"] = X_test_known_labels[\"question2\"]\n",
    "testing_results_known_labels[\"true_is_duplicate\"] = y_test_known_labels\n",
    "testing_results_known_labels[\"predicted_is_duplicate\"] = predicted_labels_val\n",
    "testing_results_known_labels.head()"
   ]
  },
  {
   "cell_type": "markdown",
   "id": "20029ac6",
   "metadata": {
    "papermill": {
     "duration": 1.37913,
     "end_time": "2024-04-17T09:19:25.193046",
     "exception": false,
     "start_time": "2024-04-17T09:19:23.813916",
     "status": "completed"
    },
    "tags": []
   },
   "source": [
    "### We construct the testing result with no known labels (the test.tsv file) with the predicted labels by the fine-tuned BERT model"
   ]
  },
  {
   "cell_type": "code",
   "execution_count": 32,
   "id": "feb66000",
   "metadata": {
    "execution": {
     "iopub.execute_input": "2024-04-17T09:19:27.920967Z",
     "iopub.status.busy": "2024-04-17T09:19:27.920593Z",
     "iopub.status.idle": "2024-04-17T09:19:27.936743Z",
     "shell.execute_reply": "2024-04-17T09:19:27.935920Z"
    },
    "papermill": {
     "duration": 1.35967,
     "end_time": "2024-04-17T09:19:27.938802",
     "exception": false,
     "start_time": "2024-04-17T09:19:26.579132",
     "status": "completed"
    },
    "tags": []
   },
   "outputs": [
    {
     "data": {
      "text/html": [
       "<div>\n",
       "<style scoped>\n",
       "    .dataframe tbody tr th:only-of-type {\n",
       "        vertical-align: middle;\n",
       "    }\n",
       "\n",
       "    .dataframe tbody tr th {\n",
       "        vertical-align: top;\n",
       "    }\n",
       "\n",
       "    .dataframe thead th {\n",
       "        text-align: right;\n",
       "    }\n",
       "</style>\n",
       "<table border=\"1\" class=\"dataframe\">\n",
       "  <thead>\n",
       "    <tr style=\"text-align: right;\">\n",
       "      <th></th>\n",
       "      <th>question1</th>\n",
       "      <th>question2</th>\n",
       "      <th>predicted_is_duplicate</th>\n",
       "    </tr>\n",
       "  </thead>\n",
       "  <tbody>\n",
       "    <tr>\n",
       "      <th>0</th>\n",
       "      <td>Would the idea of Trump and Putin in bed toget...</td>\n",
       "      <td>Do you think that if Donald Trump were elected...</td>\n",
       "      <td>0</td>\n",
       "    </tr>\n",
       "    <tr>\n",
       "      <th>1</th>\n",
       "      <td>What are the top ten Consumer-to-Consumer E-co...</td>\n",
       "      <td>What are the top ten Consumer-to-Business E-co...</td>\n",
       "      <td>1</td>\n",
       "    </tr>\n",
       "    <tr>\n",
       "      <th>2</th>\n",
       "      <td>Why don't people simply 'Google' instead of as...</td>\n",
       "      <td>Why do people ask Quora questions instead of j...</td>\n",
       "      <td>1</td>\n",
       "    </tr>\n",
       "    <tr>\n",
       "      <th>3</th>\n",
       "      <td>Is it safe to invest in social trade biz?</td>\n",
       "      <td>Is social trade geniune?</td>\n",
       "      <td>0</td>\n",
       "    </tr>\n",
       "    <tr>\n",
       "      <th>4</th>\n",
       "      <td>If the universe is expanding then does matter ...</td>\n",
       "      <td>If universe and space is expanding? Does that ...</td>\n",
       "      <td>1</td>\n",
       "    </tr>\n",
       "  </tbody>\n",
       "</table>\n",
       "</div>"
      ],
      "text/plain": [
       "                                           question1  \\\n",
       "0  Would the idea of Trump and Putin in bed toget...   \n",
       "1  What are the top ten Consumer-to-Consumer E-co...   \n",
       "2  Why don't people simply 'Google' instead of as...   \n",
       "3          Is it safe to invest in social trade biz?   \n",
       "4  If the universe is expanding then does matter ...   \n",
       "\n",
       "                                           question2  predicted_is_duplicate  \n",
       "0  Do you think that if Donald Trump were elected...                       0  \n",
       "1  What are the top ten Consumer-to-Business E-co...                       1  \n",
       "2  Why do people ask Quora questions instead of j...                       1  \n",
       "3                           Is social trade geniune?                       0  \n",
       "4  If universe and space is expanding? Does that ...                       1  "
      ]
     },
     "execution_count": 32,
     "metadata": {},
     "output_type": "execute_result"
    }
   ],
   "source": [
    "testing_results_unknown_labels = pd.DataFrame()\n",
    "testing_results_unknown_labels[\"question1\"] = X_test_unknown_labels[\"question1\"]\n",
    "testing_results_unknown_labels[\"question2\"] = X_test_unknown_labels[\"question2\"]\n",
    "testing_results_unknown_labels[\"predicted_is_duplicate\"] = predicted_labels_test\n",
    "testing_results_unknown_labels.head()"
   ]
  },
  {
   "cell_type": "markdown",
   "id": "5c94d977",
   "metadata": {
    "papermill": {
     "duration": 1.396769,
     "end_time": "2024-04-17T09:19:30.788028",
     "exception": false,
     "start_time": "2024-04-17T09:19:29.391259",
     "status": "completed"
    },
    "tags": []
   },
   "source": [
    "### Saving testing results"
   ]
  },
  {
   "cell_type": "code",
   "execution_count": 33,
   "id": "c514e892",
   "metadata": {
    "execution": {
     "iopub.execute_input": "2024-04-17T09:19:33.549086Z",
     "iopub.status.busy": "2024-04-17T09:19:33.548686Z",
     "iopub.status.idle": "2024-04-17T09:19:33.613536Z",
     "shell.execute_reply": "2024-04-17T09:19:33.612717Z"
    },
    "papermill": {
     "duration": 1.491136,
     "end_time": "2024-04-17T09:19:33.615645",
     "exception": false,
     "start_time": "2024-04-17T09:19:32.124509",
     "status": "completed"
    },
    "tags": []
   },
   "outputs": [],
   "source": [
    "testing_results_known_labels.to_csv(f\"{bert_model_name}/testing_results_known_labels.csv\", index=False)\n",
    "testing_results_unknown_labels.to_csv(f\"{bert_model_name}/testing_results_unknown_labels.csv\", index=False)"
   ]
  },
  {
   "cell_type": "code",
   "execution_count": 34,
   "id": "db815f71",
   "metadata": {
    "execution": {
     "iopub.execute_input": "2024-04-17T09:19:36.387793Z",
     "iopub.status.busy": "2024-04-17T09:19:36.387131Z",
     "iopub.status.idle": "2024-04-17T09:19:49.760369Z",
     "shell.execute_reply": "2024-04-17T09:19:49.759192Z"
    },
    "papermill": {
     "duration": 14.706864,
     "end_time": "2024-04-17T09:19:49.762646",
     "exception": false,
     "start_time": "2024-04-17T09:19:35.055782",
     "status": "completed"
    },
    "tags": []
   },
   "outputs": [
    {
     "name": "stderr",
     "output_type": "stream",
     "text": [
      "huggingface/tokenizers: The current process just got forked, after parallelism has already been used. Disabling parallelism to avoid deadlocks...\n",
      "To disable this warning, you can either:\n",
      "\t- Avoid using `tokenizers` before the fork if possible\n",
      "\t- Explicitly set the environment variable TOKENIZERS_PARALLELISM=(true | false)\n"
     ]
    },
    {
     "name": "stdout",
     "output_type": "stream",
     "text": [
      "Collecting data-science-utils\r\n",
      "  Downloading data_science_utils-1.7.3-py3-none-any.whl.metadata (24 kB)\r\n",
      "Downloading data_science_utils-1.7.3-py3-none-any.whl (22 kB)\r\n",
      "Installing collected packages: data-science-utils\r\n",
      "Successfully installed data-science-utils-1.7.3\r\n"
     ]
    }
   ],
   "source": [
    "!pip install data-science-utils"
   ]
  },
  {
   "cell_type": "code",
   "execution_count": 35,
   "id": "4ceb104c",
   "metadata": {
    "execution": {
     "iopub.execute_input": "2024-04-17T09:19:52.475967Z",
     "iopub.status.busy": "2024-04-17T09:19:52.475566Z",
     "iopub.status.idle": "2024-04-17T09:19:53.174435Z",
     "shell.execute_reply": "2024-04-17T09:19:53.173530Z"
    },
    "papermill": {
     "duration": 2.027464,
     "end_time": "2024-04-17T09:19:53.176702",
     "exception": false,
     "start_time": "2024-04-17T09:19:51.149238",
     "status": "completed"
    },
    "tags": []
   },
   "outputs": [
    {
     "data": {
      "image/png": "[encoded data removed]",
      "text/plain": [
       "<Figure size 640x480 with 4 Axes>"
      ]
     },
     "metadata": {},
     "output_type": "display_data"
    }
   ],
   "source": [
    "from ds_utils.metrics import plot_confusion_matrix\n",
    "\n",
    "plot_confusion_matrix(y_test_known_labels, predicted_labels_val, [1, 0])\n",
    "pyplot.savefig(f\"{bert_model_name}/confusion_matrix.png\")\n",
    "pyplot.show()"
   ]
  },
  {
   "cell_type": "markdown",
   "id": "0bd6cbc9",
   "metadata": {
    "papermill": {
     "duration": 1.397175,
     "end_time": "2024-04-17T09:19:55.988143",
     "exception": false,
     "start_time": "2024-04-17T09:19:54.590968",
     "status": "completed"
    },
    "tags": []
   },
   "source": [
    "# Saving the fine-tuned model\n",
    "First let's save our model with the method ``save_pretrained``, then save our tokenizer with ``save_pretrained``.\n",
    "\n",
    "**Pay Attension**: tokenizer's ``save_pretrained`` need to get the path to save as a string.\n",
    "\n",
    "In reality, it is not required to run this cell. Obtaining the results is already enough. The saved model would be extremely heavy, and there are already fine tuned BERT models on HuggingFace"
   ]
  },
  {
   "cell_type": "code",
   "execution_count": 36,
   "id": "5f829ca9",
   "metadata": {
    "execution": {
     "iopub.execute_input": "2024-04-17T09:19:58.712933Z",
     "iopub.status.busy": "2024-04-17T09:19:58.712208Z",
     "iopub.status.idle": "2024-04-17T09:19:58.717944Z",
     "shell.execute_reply": "2024-04-17T09:19:58.717052Z"
    },
    "papermill": {
     "duration": 1.404029,
     "end_time": "2024-04-17T09:19:58.719864",
     "exception": false,
     "start_time": "2024-04-17T09:19:57.315835",
     "status": "completed"
    },
    "tags": []
   },
   "outputs": [],
   "source": [
    "from pathlib import Path\n",
    "\n",
    "output_dir = Path(\"__file__\").parents[0].absolute().joinpath(f\"{bert_model_name}/model_save\")\n",
    "output_dir.mkdir(exist_ok=True)\n",
    "\n",
    "# Save a trained model, configuration and tokenizer using `save_pretrained()`.\n",
    "# They can then be reloaded using `from_pretrained()`\n",
    "\n",
    "# model_to_save = bert_classification_model.module if hasattr(bert_classification_model, 'module') else bert_classification_model  # Take care of distributed/parallel training\n",
    "# model_to_save.save_pretrained(output_dir)\n",
    "# tokenizer.save_pretrained(str(output_dir.absolute()))"
   ]
  }
 ],
 "metadata": {
  "kaggle": {
   "accelerator": "none",
   "dataSources": [
    {
     "datasetId": 4801042,
     "sourceId": 8124328,
     "sourceType": "datasetVersion"
    }
   ],
   "isGpuEnabled": false,
   "isInternetEnabled": true,
   "language": "python",
   "sourceType": "notebook"
  },
  "kernelspec": {
   "display_name": "Python 3",
   "language": "python",
   "name": "python3"
  },
  "language_info": {
   "codemirror_mode": {
    "name": "ipython",
    "version": 3
   },
   "file_extension": ".py",
   "mimetype": "text/x-python",
   "name": "python",
   "nbconvert_exporter": "python",
   "pygments_lexer": "ipython3",
   "version": "3.10.13"
  },
  "papermill": {
   "default_parameters": {},
   "duration": 4426.523915,
   "end_time": "2024-04-17T09:20:02.939786",
   "environment_variables": {},
   "exception": null,
   "input_path": "__notebook__.ipynb",
   "output_path": "__notebook__.ipynb",
   "parameters": {},
   "start_time": "2024-04-17T08:06:16.415871",
   "version": "2.5.0"
  },
  "widgets": {
   "application/vnd.jupyter.widget-state+json": {
    "state": {
     "0bc37a2590c147b7b6d1177e40a11a26": {
      "model_module": "@jupyter-widgets/controls",
      "model_module_version": "1.5.0",
      "model_name": "HBoxModel",
      "state": {
       "_dom_classes": [],
       "_model_module": "@jupyter-widgets/controls",
       "_model_module_version": "1.5.0",
       "_model_name": "HBoxModel",
       "_view_count": null,
       "_view_module": "@jupyter-widgets/controls",
       "_view_module_version": "1.5.0",
       "_view_name": "HBoxView",
       "box_style": "",
       "children": [
        "IPY_MODEL_0ea29a51e3f84ec88c6327f106406333",
        "IPY_MODEL_e918fed8d00a4b0d885f389a2ddce000",
        "IPY_MODEL_7e77d32d17504fef8e294f0c91680e75"
       ],
       "layout": "IPY_MODEL_d9aef2509f2d4534abbdb27cd0f60aee"
      }
     },
     "0bf1a50834bc42b7b5f45e696cd50242": {
      "model_module": "@jupyter-widgets/base",
      "model_module_version": "1.2.0",
      "model_name": "LayoutModel",
      "state": {
       "_model_module": "@jupyter-widgets/base",
       "_model_module_version": "1.2.0",
       "_model_name": "LayoutModel",
       "_view_count": null,
       "_view_module": "@jupyter-widgets/base",
       "_view_module_version": "1.2.0",
       "_view_name": "LayoutView",
       "align_content": null,
       "align_items": null,
       "align_self": null,
       "border": null,
       "bottom": null,
       "display": null,
       "flex": null,
       "flex_flow": null,
       "grid_area": null,
       "grid_auto_columns": null,
       "grid_auto_flow": null,
       "grid_auto_rows": null,
       "grid_column": null,
       "grid_gap": null,
       "grid_row": null,
       "grid_template_areas": null,
       "grid_template_columns": null,
       "grid_template_rows": null,
       "height": null,
       "justify_content": null,
       "justify_items": null,
       "left": null,
       "margin": null,
       "max_height": null,
       "max_width": null,
       "min_height": null,
       "min_width": null,
       "object_fit": null,
       "object_position": null,
       "order": null,
       "overflow": null,
       "overflow_x": null,
       "overflow_y": null,
       "padding": null,
       "right": null,
       "top": null,
       "visibility": null,
       "width": null
      }
     },
     "0ea29a51e3f84ec88c6327f106406333": {
      "model_module": "@jupyter-widgets/controls",
      "model_module_version": "1.5.0",
      "model_name": "HTMLModel",
      "state": {
       "_dom_classes": [],
       "_model_module": "@jupyter-widgets/controls",
       "_model_module_version": "1.5.0",
       "_model_name": "HTMLModel",
       "_view_count": null,
       "_view_module": "@jupyter-widgets/controls",
       "_view_module_version": "1.5.0",
       "_view_name": "HTMLView",
       "description": "",
       "description_tooltip": null,
       "layout": "IPY_MODEL_810dcc6becaf43b9a08b6d694e137e25",
       "placeholder": "​",
       "style": "IPY_MODEL_d069cb62b53a40e7a06d507111e6e7e2",
       "value": "spiece.model: 100%"
      }
     },
     "1267e38cd40a4c5d819a3060bc70a9c5": {
      "model_module": "@jupyter-widgets/controls",
      "model_module_version": "1.5.0",
      "model_name": "ProgressStyleModel",
      "state": {
       "_model_module": "@jupyter-widgets/controls",
       "_model_module_version": "1.5.0",
       "_model_name": "ProgressStyleModel",
       "_view_count": null,
       "_view_module": "@jupyter-widgets/base",
       "_view_module_version": "1.2.0",
       "_view_name": "StyleView",
       "bar_color": null,
       "description_width": ""
      }
     },
     "161e53df3d8d494a8caf0848213c3189": {
      "model_module": "@jupyter-widgets/controls",
      "model_module_version": "1.5.0",
      "model_name": "DescriptionStyleModel",
      "state": {
       "_model_module": "@jupyter-widgets/controls",
       "_model_module_version": "1.5.0",
       "_model_name": "DescriptionStyleModel",
       "_view_count": null,
       "_view_module": "@jupyter-widgets/base",
       "_view_module_version": "1.2.0",
       "_view_name": "StyleView",
       "description_width": ""
      }
     },
     "1e8bb9543efd451fbf5ee7433e5f4a49": {
      "model_module": "@jupyter-widgets/controls",
      "model_module_version": "1.5.0",
      "model_name": "ProgressStyleModel",
      "state": {
       "_model_module": "@jupyter-widgets/controls",
       "_model_module_version": "1.5.0",
       "_model_name": "ProgressStyleModel",
       "_view_count": null,
       "_view_module": "@jupyter-widgets/base",
       "_view_module_version": "1.2.0",
       "_view_name": "StyleView",
       "bar_color": null,
       "description_width": ""
      }
     },
     "244fe3cc8f5c4ace80abc246f0f1682f": {
      "model_module": "@jupyter-widgets/base",
      "model_module_version": "1.2.0",
      "model_name": "LayoutModel",
      "state": {
       "_model_module": "@jupyter-widgets/base",
       "_model_module_version": "1.2.0",
       "_model_name": "LayoutModel",
       "_view_count": null,
       "_view_module": "@jupyter-widgets/base",
       "_view_module_version": "1.2.0",
       "_view_name": "LayoutView",
       "align_content": null,
       "align_items": null,
       "align_self": null,
       "border": null,
       "bottom": null,
       "display": null,
       "flex": null,
       "flex_flow": null,
       "grid_area": null,
       "grid_auto_columns": null,
       "grid_auto_flow": null,
       "grid_auto_rows": null,
       "grid_column": null,
       "grid_gap": null,
       "grid_row": null,
       "grid_template_areas": null,
       "grid_template_columns": null,
       "grid_template_rows": null,
       "height": null,
       "justify_content": null,
       "justify_items": null,
       "left": null,
       "margin": null,
       "max_height": null,
       "max_width": null,
       "min_height": null,
       "min_width": null,
       "object_fit": null,
       "object_position": null,
       "order": null,
       "overflow": null,
       "overflow_x": null,
       "overflow_y": null,
       "padding": null,
       "right": null,
       "top": null,
       "visibility": null,
       "width": null
      }
     },
     "29b7a71e2f634c6fb9a31a323bda118f": {
      "model_module": "@jupyter-widgets/controls",
      "model_module_version": "1.5.0",
      "model_name": "DescriptionStyleModel",
      "state": {
       "_model_module": "@jupyter-widgets/controls",
       "_model_module_version": "1.5.0",
       "_model_name": "DescriptionStyleModel",
       "_view_count": null,
       "_view_module": "@jupyter-widgets/base",
       "_view_module_version": "1.2.0",
       "_view_name": "StyleView",
       "description_width": ""
      }
     },
     "2d9ee14d75be4fc6963073a8937d2862": {
      "model_module": "@jupyter-widgets/base",
      "model_module_version": "1.2.0",
      "model_name": "LayoutModel",
      "state": {
       "_model_module": "@jupyter-widgets/base",
       "_model_module_version": "1.2.0",
       "_model_name": "LayoutModel",
       "_view_count": null,
       "_view_module": "@jupyter-widgets/base",
       "_view_module_version": "1.2.0",
       "_view_name": "LayoutView",
       "align_content": null,
       "align_items": null,
       "align_self": null,
       "border": null,
       "bottom": null,
       "display": null,
       "flex": null,
       "flex_flow": null,
       "grid_area": null,
       "grid_auto_columns": null,
       "grid_auto_flow": null,
       "grid_auto_rows": null,
       "grid_column": null,
       "grid_gap": null,
       "grid_row": null,
       "grid_template_areas": null,
       "grid_template_columns": null,
       "grid_template_rows": null,
       "height": null,
       "justify_content": null,
       "justify_items": null,
       "left": null,
       "margin": null,
       "max_height": null,
       "max_width": null,
       "min_height": null,
       "min_width": null,
       "object_fit": null,
       "object_position": null,
       "order": null,
       "overflow": null,
       "overflow_x": null,
       "overflow_y": null,
       "padding": null,
       "right": null,
       "top": null,
       "visibility": null,
       "width": null
      }
     },
     "2f456cbc86d04673a444617884ac4867": {
      "model_module": "@jupyter-widgets/base",
      "model_module_version": "1.2.0",
      "model_name": "LayoutModel",
      "state": {
       "_model_module": "@jupyter-widgets/base",
       "_model_module_version": "1.2.0",
       "_model_name": "LayoutModel",
       "_view_count": null,
       "_view_module": "@jupyter-widgets/base",
       "_view_module_version": "1.2.0",
       "_view_name": "LayoutView",
       "align_content": null,
       "align_items": null,
       "align_self": null,
       "border": null,
       "bottom": null,
       "display": null,
       "flex": null,
       "flex_flow": null,
       "grid_area": null,
       "grid_auto_columns": null,
       "grid_auto_flow": null,
       "grid_auto_rows": null,
       "grid_column": null,
       "grid_gap": null,
       "grid_row": null,
       "grid_template_areas": null,
       "grid_template_columns": null,
       "grid_template_rows": null,
       "height": null,
       "justify_content": null,
       "justify_items": null,
       "left": null,
       "margin": null,
       "max_height": null,
       "max_width": null,
       "min_height": null,
       "min_width": null,
       "object_fit": null,
       "object_position": null,
       "order": null,
       "overflow": null,
       "overflow_x": null,
       "overflow_y": null,
       "padding": null,
       "right": null,
       "top": null,
       "visibility": null,
       "width": null
      }
     },
     "319d5d4995e34c638db88e7be9beed4b": {
      "model_module": "@jupyter-widgets/controls",
      "model_module_version": "1.5.0",
      "model_name": "HTMLModel",
      "state": {
       "_dom_classes": [],
       "_model_module": "@jupyter-widgets/controls",
       "_model_module_version": "1.5.0",
       "_model_name": "HTMLModel",
       "_view_count": null,
       "_view_module": "@jupyter-widgets/controls",
       "_view_module_version": "1.5.0",
       "_view_name": "HTMLView",
       "description": "",
       "description_tooltip": null,
       "layout": "IPY_MODEL_a2dd9a435b3b45d18efe060c8fa2ed6b",
       "placeholder": "​",
       "style": "IPY_MODEL_5a77e4a321e346f1a4095f5f8f090275",
       "value": "tokenizer.json: 100%"
      }
     },
     "37c27015c0d941888f489d1ddf63fb14": {
      "model_module": "@jupyter-widgets/controls",
      "model_module_version": "1.5.0",
      "model_name": "DescriptionStyleModel",
      "state": {
       "_model_module": "@jupyter-widgets/controls",
       "_model_module_version": "1.5.0",
       "_model_name": "DescriptionStyleModel",
       "_view_count": null,
       "_view_module": "@jupyter-widgets/base",
       "_view_module_version": "1.2.0",
       "_view_name": "StyleView",
       "description_width": ""
      }
     },
     "398e64da6a4c4d88834c5a9e3b47ccf1": {
      "model_module": "@jupyter-widgets/controls",
      "model_module_version": "1.5.0",
      "model_name": "ProgressStyleModel",
      "state": {
       "_model_module": "@jupyter-widgets/controls",
       "_model_module_version": "1.5.0",
       "_model_name": "ProgressStyleModel",
       "_view_count": null,
       "_view_module": "@jupyter-widgets/base",
       "_view_module_version": "1.2.0",
       "_view_name": "StyleView",
       "bar_color": null,
       "description_width": ""
      }
     },
     "3a4766f59bdb4c0bae2b535156f382b7": {
      "model_module": "@jupyter-widgets/base",
      "model_module_version": "1.2.0",
      "model_name": "LayoutModel",
      "state": {
       "_model_module": "@jupyter-widgets/base",
       "_model_module_version": "1.2.0",
       "_model_name": "LayoutModel",
       "_view_count": null,
       "_view_module": "@jupyter-widgets/base",
       "_view_module_version": "1.2.0",
       "_view_name": "LayoutView",
       "align_content": null,
       "align_items": null,
       "align_self": null,
       "border": null,
       "bottom": null,
       "display": null,
       "flex": null,
       "flex_flow": null,
       "grid_area": null,
       "grid_auto_columns": null,
       "grid_auto_flow": null,
       "grid_auto_rows": null,
       "grid_column": null,
       "grid_gap": null,
       "grid_row": null,
       "grid_template_areas": null,
       "grid_template_columns": null,
       "grid_template_rows": null,
       "height": null,
       "justify_content": null,
       "justify_items": null,
       "left": null,
       "margin": null,
       "max_height": null,
       "max_width": null,
       "min_height": null,
       "min_width": null,
       "object_fit": null,
       "object_position": null,
       "order": null,
       "overflow": null,
       "overflow_x": null,
       "overflow_y": null,
       "padding": null,
       "right": null,
       "top": null,
       "visibility": null,
       "width": null
      }
     },
     "418b821e36c14f11ba36daf53e391b32": {
      "model_module": "@jupyter-widgets/controls",
      "model_module_version": "1.5.0",
      "model_name": "HBoxModel",
      "state": {
       "_dom_classes": [],
       "_model_module": "@jupyter-widgets/controls",
       "_model_module_version": "1.5.0",
       "_model_name": "HBoxModel",
       "_view_count": null,
       "_view_module": "@jupyter-widgets/controls",
       "_view_module_version": "1.5.0",
       "_view_name": "HBoxView",
       "box_style": "",
       "children": [
        "IPY_MODEL_73251d26eb3e49aaad25dc7818369931",
        "IPY_MODEL_69065d9c89b040069f57e17f027dfaa9",
        "IPY_MODEL_dbbffc7e765f4a93ad0713189f65f468"
       ],
       "layout": "IPY_MODEL_c52ce45a906f437d921f01c103246b28"
      }
     },
     "4737e1e526aa4da2b3da8241becc873d": {
      "model_module": "@jupyter-widgets/controls",
      "model_module_version": "1.5.0",
      "model_name": "HTMLModel",
      "state": {
       "_dom_classes": [],
       "_model_module": "@jupyter-widgets/controls",
       "_model_module_version": "1.5.0",
       "_model_name": "HTMLModel",
       "_view_count": null,
       "_view_module": "@jupyter-widgets/controls",
       "_view_module_version": "1.5.0",
       "_view_name": "HTMLView",
       "description": "",
       "description_tooltip": null,
       "layout": "IPY_MODEL_83d5303ce6d048a78318fdb12dfd56cb",
       "placeholder": "​",
       "style": "IPY_MODEL_87913bd80bdc421eac163b02c55b0813",
       "value": "model.safetensors: 100%"
      }
     },
     "594fadef01d34b24b34a6144df7c72e9": {
      "model_module": "@jupyter-widgets/controls",
      "model_module_version": "1.5.0",
      "model_name": "HBoxModel",
      "state": {
       "_dom_classes": [],
       "_model_module": "@jupyter-widgets/controls",
       "_model_module_version": "1.5.0",
       "_model_name": "HBoxModel",
       "_view_count": null,
       "_view_module": "@jupyter-widgets/controls",
       "_view_module_version": "1.5.0",
       "_view_name": "HBoxView",
       "box_style": "",
       "children": [
        "IPY_MODEL_4737e1e526aa4da2b3da8241becc873d",
        "IPY_MODEL_fd0d83ad009f49e9b4bbcba319f8e9c3",
        "IPY_MODEL_b292e54a425f4227bd0a7d26ae643ad8"
       ],
       "layout": "IPY_MODEL_d5854ff17bac4e91a01061837139ddea"
      }
     },
     "5a77e4a321e346f1a4095f5f8f090275": {
      "model_module": "@jupyter-widgets/controls",
      "model_module_version": "1.5.0",
      "model_name": "DescriptionStyleModel",
      "state": {
       "_model_module": "@jupyter-widgets/controls",
       "_model_module_version": "1.5.0",
       "_model_name": "DescriptionStyleModel",
       "_view_count": null,
       "_view_module": "@jupyter-widgets/base",
       "_view_module_version": "1.2.0",
       "_view_name": "StyleView",
       "description_width": ""
      }
     },
     "5caa3953cc9b464cb362de0e3608c53d": {
      "model_module": "@jupyter-widgets/base",
      "model_module_version": "1.2.0",
      "model_name": "LayoutModel",
      "state": {
       "_model_module": "@jupyter-widgets/base",
       "_model_module_version": "1.2.0",
       "_model_name": "LayoutModel",
       "_view_count": null,
       "_view_module": "@jupyter-widgets/base",
       "_view_module_version": "1.2.0",
       "_view_name": "LayoutView",
       "align_content": null,
       "align_items": null,
       "align_self": null,
       "border": null,
       "bottom": null,
       "display": null,
       "flex": null,
       "flex_flow": null,
       "grid_area": null,
       "grid_auto_columns": null,
       "grid_auto_flow": null,
       "grid_auto_rows": null,
       "grid_column": null,
       "grid_gap": null,
       "grid_row": null,
       "grid_template_areas": null,
       "grid_template_columns": null,
       "grid_template_rows": null,
       "height": null,
       "justify_content": null,
       "justify_items": null,
       "left": null,
       "margin": null,
       "max_height": null,
       "max_width": null,
       "min_height": null,
       "min_width": null,
       "object_fit": null,
       "object_position": null,
       "order": null,
       "overflow": null,
       "overflow_x": null,
       "overflow_y": null,
       "padding": null,
       "right": null,
       "top": null,
       "visibility": null,
       "width": null
      }
     },
     "69065d9c89b040069f57e17f027dfaa9": {
      "model_module": "@jupyter-widgets/controls",
      "model_module_version": "1.5.0",
      "model_name": "FloatProgressModel",
      "state": {
       "_dom_classes": [],
       "_model_module": "@jupyter-widgets/controls",
       "_model_module_version": "1.5.0",
       "_model_name": "FloatProgressModel",
       "_view_count": null,
       "_view_module": "@jupyter-widgets/controls",
       "_view_module_version": "1.5.0",
       "_view_name": "ProgressView",
       "bar_style": "success",
       "description": "",
       "description_tooltip": null,
       "layout": "IPY_MODEL_fd4a398427854a1f93821a77dd35008d",
       "max": 25.0,
       "min": 0.0,
       "orientation": "horizontal",
       "style": "IPY_MODEL_1e8bb9543efd451fbf5ee7433e5f4a49",
       "value": 25.0
      }
     },
     "6da6ace50b4e4cefa7a0ef687a7c4b9c": {
      "model_module": "@jupyter-widgets/controls",
      "model_module_version": "1.5.0",
      "model_name": "HTMLModel",
      "state": {
       "_dom_classes": [],
       "_model_module": "@jupyter-widgets/controls",
       "_model_module_version": "1.5.0",
       "_model_name": "HTMLModel",
       "_view_count": null,
       "_view_module": "@jupyter-widgets/controls",
       "_view_module_version": "1.5.0",
       "_view_name": "HTMLView",
       "description": "",
       "description_tooltip": null,
       "layout": "IPY_MODEL_5caa3953cc9b464cb362de0e3608c53d",
       "placeholder": "​",
       "style": "IPY_MODEL_29b7a71e2f634c6fb9a31a323bda118f",
       "value": "config.json: 100%"
      }
     },
     "707bb8d3ef444e02bc5ad469d88d80d9": {
      "model_module": "@jupyter-widgets/controls",
      "model_module_version": "1.5.0",
      "model_name": "DescriptionStyleModel",
      "state": {
       "_model_module": "@jupyter-widgets/controls",
       "_model_module_version": "1.5.0",
       "_model_name": "DescriptionStyleModel",
       "_view_count": null,
       "_view_module": "@jupyter-widgets/base",
       "_view_module_version": "1.2.0",
       "_view_name": "StyleView",
       "description_width": ""
      }
     },
     "709f37bae0bb4f2caa39329df7599f26": {
      "model_module": "@jupyter-widgets/controls",
      "model_module_version": "1.5.0",
      "model_name": "ProgressStyleModel",
      "state": {
       "_model_module": "@jupyter-widgets/controls",
       "_model_module_version": "1.5.0",
       "_model_name": "ProgressStyleModel",
       "_view_count": null,
       "_view_module": "@jupyter-widgets/base",
       "_view_module_version": "1.2.0",
       "_view_name": "StyleView",
       "bar_color": null,
       "description_width": ""
      }
     },
     "73251d26eb3e49aaad25dc7818369931": {
      "model_module": "@jupyter-widgets/controls",
      "model_module_version": "1.5.0",
      "model_name": "HTMLModel",
      "state": {
       "_dom_classes": [],
       "_model_module": "@jupyter-widgets/controls",
       "_model_module_version": "1.5.0",
       "_model_name": "HTMLModel",
       "_view_count": null,
       "_view_module": "@jupyter-widgets/controls",
       "_view_module_version": "1.5.0",
       "_view_name": "HTMLView",
       "description": "",
       "description_tooltip": null,
       "layout": "IPY_MODEL_2f456cbc86d04673a444617884ac4867",
       "placeholder": "​",
       "style": "IPY_MODEL_37c27015c0d941888f489d1ddf63fb14",
       "value": "tokenizer_config.json: 100%"
      }
     },
     "7859acf87a1a4477bf2289f237f7dd96": {
      "model_module": "@jupyter-widgets/controls",
      "model_module_version": "1.5.0",
      "model_name": "HTMLModel",
      "state": {
       "_dom_classes": [],
       "_model_module": "@jupyter-widgets/controls",
       "_model_module_version": "1.5.0",
       "_model_name": "HTMLModel",
       "_view_count": null,
       "_view_module": "@jupyter-widgets/controls",
       "_view_module_version": "1.5.0",
       "_view_name": "HTMLView",
       "description": "",
       "description_tooltip": null,
       "layout": "IPY_MODEL_3a4766f59bdb4c0bae2b535156f382b7",
       "placeholder": "​",
       "style": "IPY_MODEL_b7c7b48f54964cbb8c8f2dfb9dc20135",
       "value": " 1.31M/1.31M [00:00&lt;00:00, 5.28MB/s]"
      }
     },
     "7a24e005c650435995d6b0baa35d3e04": {
      "model_module": "@jupyter-widgets/controls",
      "model_module_version": "1.5.0",
      "model_name": "HBoxModel",
      "state": {
       "_dom_classes": [],
       "_model_module": "@jupyter-widgets/controls",
       "_model_module_version": "1.5.0",
       "_model_name": "HBoxModel",
       "_view_count": null,
       "_view_module": "@jupyter-widgets/controls",
       "_view_module_version": "1.5.0",
       "_view_name": "HBoxView",
       "box_style": "",
       "children": [
        "IPY_MODEL_319d5d4995e34c638db88e7be9beed4b",
        "IPY_MODEL_f21b89ae95ff4af9a9f44f75f5e5a8d8",
        "IPY_MODEL_7859acf87a1a4477bf2289f237f7dd96"
       ],
       "layout": "IPY_MODEL_df9df79f82a145c2b5ac56866326082c"
      }
     },
     "7e77d32d17504fef8e294f0c91680e75": {
      "model_module": "@jupyter-widgets/controls",
      "model_module_version": "1.5.0",
      "model_name": "HTMLModel",
      "state": {
       "_dom_classes": [],
       "_model_module": "@jupyter-widgets/controls",
       "_model_module_version": "1.5.0",
       "_model_name": "HTMLModel",
       "_view_count": null,
       "_view_module": "@jupyter-widgets/controls",
       "_view_module_version": "1.5.0",
       "_view_name": "HTMLView",
       "description": "",
       "description_tooltip": null,
       "layout": "IPY_MODEL_c151c121af574da1ad714e7171dd8bc8",
       "placeholder": "​",
       "style": "IPY_MODEL_161e53df3d8d494a8caf0848213c3189",
       "value": " 760k/760k [00:00&lt;00:00, 3.02MB/s]"
      }
     },
     "810dcc6becaf43b9a08b6d694e137e25": {
      "model_module": "@jupyter-widgets/base",
      "model_module_version": "1.2.0",
      "model_name": "LayoutModel",
      "state": {
       "_model_module": "@jupyter-widgets/base",
       "_model_module_version": "1.2.0",
       "_model_name": "LayoutModel",
       "_view_count": null,
       "_view_module": "@jupyter-widgets/base",
       "_view_module_version": "1.2.0",
       "_view_name": "LayoutView",
       "align_content": null,
       "align_items": null,
       "align_self": null,
       "border": null,
       "bottom": null,
       "display": null,
       "flex": null,
       "flex_flow": null,
       "grid_area": null,
       "grid_auto_columns": null,
       "grid_auto_flow": null,
       "grid_auto_rows": null,
       "grid_column": null,
       "grid_gap": null,
       "grid_row": null,
       "grid_template_areas": null,
       "grid_template_columns": null,
       "grid_template_rows": null,
       "height": null,
       "justify_content": null,
       "justify_items": null,
       "left": null,
       "margin": null,
       "max_height": null,
       "max_width": null,
       "min_height": null,
       "min_width": null,
       "object_fit": null,
       "object_position": null,
       "order": null,
       "overflow": null,
       "overflow_x": null,
       "overflow_y": null,
       "padding": null,
       "right": null,
       "top": null,
       "visibility": null,
       "width": null
      }
     },
     "83d5303ce6d048a78318fdb12dfd56cb": {
      "model_module": "@jupyter-widgets/base",
      "model_module_version": "1.2.0",
      "model_name": "LayoutModel",
      "state": {
       "_model_module": "@jupyter-widgets/base",
       "_model_module_version": "1.2.0",
       "_model_name": "LayoutModel",
       "_view_count": null,
       "_view_module": "@jupyter-widgets/base",
       "_view_module_version": "1.2.0",
       "_view_name": "LayoutView",
       "align_content": null,
       "align_items": null,
       "align_self": null,
       "border": null,
       "bottom": null,
       "display": null,
       "flex": null,
       "flex_flow": null,
       "grid_area": null,
       "grid_auto_columns": null,
       "grid_auto_flow": null,
       "grid_auto_rows": null,
       "grid_column": null,
       "grid_gap": null,
       "grid_row": null,
       "grid_template_areas": null,
       "grid_template_columns": null,
       "grid_template_rows": null,
       "height": null,
       "justify_content": null,
       "justify_items": null,
       "left": null,
       "margin": null,
       "max_height": null,
       "max_width": null,
       "min_height": null,
       "min_width": null,
       "object_fit": null,
       "object_position": null,
       "order": null,
       "overflow": null,
       "overflow_x": null,
       "overflow_y": null,
       "padding": null,
       "right": null,
       "top": null,
       "visibility": null,
       "width": null
      }
     },
     "87913bd80bdc421eac163b02c55b0813": {
      "model_module": "@jupyter-widgets/controls",
      "model_module_version": "1.5.0",
      "model_name": "DescriptionStyleModel",
      "state": {
       "_model_module": "@jupyter-widgets/controls",
       "_model_module_version": "1.5.0",
       "_model_name": "DescriptionStyleModel",
       "_view_count": null,
       "_view_module": "@jupyter-widgets/base",
       "_view_module_version": "1.2.0",
       "_view_name": "StyleView",
       "description_width": ""
      }
     },
     "8b93b85a7c014874b3f265deadeab24f": {
      "model_module": "@jupyter-widgets/controls",
      "model_module_version": "1.5.0",
      "model_name": "FloatProgressModel",
      "state": {
       "_dom_classes": [],
       "_model_module": "@jupyter-widgets/controls",
       "_model_module_version": "1.5.0",
       "_model_name": "FloatProgressModel",
       "_view_count": null,
       "_view_module": "@jupyter-widgets/controls",
       "_view_module_version": "1.5.0",
       "_view_name": "ProgressView",
       "bar_style": "success",
       "description": "",
       "description_tooltip": null,
       "layout": "IPY_MODEL_244fe3cc8f5c4ace80abc246f0f1682f",
       "max": 684.0,
       "min": 0.0,
       "orientation": "horizontal",
       "style": "IPY_MODEL_709f37bae0bb4f2caa39329df7599f26",
       "value": 684.0
      }
     },
     "984c83984a53453bad8b0a3d3397ec26": {
      "model_module": "@jupyter-widgets/controls",
      "model_module_version": "1.5.0",
      "model_name": "DescriptionStyleModel",
      "state": {
       "_model_module": "@jupyter-widgets/controls",
       "_model_module_version": "1.5.0",
       "_model_name": "DescriptionStyleModel",
       "_view_count": null,
       "_view_module": "@jupyter-widgets/base",
       "_view_module_version": "1.2.0",
       "_view_name": "StyleView",
       "description_width": ""
      }
     },
     "9bb941fd1e7341a9bb8ef57420aaa7ab": {
      "model_module": "@jupyter-widgets/base",
      "model_module_version": "1.2.0",
      "model_name": "LayoutModel",
      "state": {
       "_model_module": "@jupyter-widgets/base",
       "_model_module_version": "1.2.0",
       "_model_name": "LayoutModel",
       "_view_count": null,
       "_view_module": "@jupyter-widgets/base",
       "_view_module_version": "1.2.0",
       "_view_name": "LayoutView",
       "align_content": null,
       "align_items": null,
       "align_self": null,
       "border": null,
       "bottom": null,
       "display": null,
       "flex": null,
       "flex_flow": null,
       "grid_area": null,
       "grid_auto_columns": null,
       "grid_auto_flow": null,
       "grid_auto_rows": null,
       "grid_column": null,
       "grid_gap": null,
       "grid_row": null,
       "grid_template_areas": null,
       "grid_template_columns": null,
       "grid_template_rows": null,
       "height": null,
       "justify_content": null,
       "justify_items": null,
       "left": null,
       "margin": null,
       "max_height": null,
       "max_width": null,
       "min_height": null,
       "min_width": null,
       "object_fit": null,
       "object_position": null,
       "order": null,
       "overflow": null,
       "overflow_x": null,
       "overflow_y": null,
       "padding": null,
       "right": null,
       "top": null,
       "visibility": null,
       "width": null
      }
     },
     "a2dd9a435b3b45d18efe060c8fa2ed6b": {
      "model_module": "@jupyter-widgets/base",
      "model_module_version": "1.2.0",
      "model_name": "LayoutModel",
      "state": {
       "_model_module": "@jupyter-widgets/base",
       "_model_module_version": "1.2.0",
       "_model_name": "LayoutModel",
       "_view_count": null,
       "_view_module": "@jupyter-widgets/base",
       "_view_module_version": "1.2.0",
       "_view_name": "LayoutView",
       "align_content": null,
       "align_items": null,
       "align_self": null,
       "border": null,
       "bottom": null,
       "display": null,
       "flex": null,
       "flex_flow": null,
       "grid_area": null,
       "grid_auto_columns": null,
       "grid_auto_flow": null,
       "grid_auto_rows": null,
       "grid_column": null,
       "grid_gap": null,
       "grid_row": null,
       "grid_template_areas": null,
       "grid_template_columns": null,
       "grid_template_rows": null,
       "height": null,
       "justify_content": null,
       "justify_items": null,
       "left": null,
       "margin": null,
       "max_height": null,
       "max_width": null,
       "min_height": null,
       "min_width": null,
       "object_fit": null,
       "object_position": null,
       "order": null,
       "overflow": null,
       "overflow_x": null,
       "overflow_y": null,
       "padding": null,
       "right": null,
       "top": null,
       "visibility": null,
       "width": null
      }
     },
     "b292e54a425f4227bd0a7d26ae643ad8": {
      "model_module": "@jupyter-widgets/controls",
      "model_module_version": "1.5.0",
      "model_name": "HTMLModel",
      "state": {
       "_dom_classes": [],
       "_model_module": "@jupyter-widgets/controls",
       "_model_module_version": "1.5.0",
       "_model_name": "HTMLModel",
       "_view_count": null,
       "_view_module": "@jupyter-widgets/controls",
       "_view_module_version": "1.5.0",
       "_view_name": "HTMLView",
       "description": "",
       "description_tooltip": null,
       "layout": "IPY_MODEL_bf1b5d5902fa49719af311cc411b6515",
       "placeholder": "​",
       "style": "IPY_MODEL_707bb8d3ef444e02bc5ad469d88d80d9",
       "value": " 47.4M/47.4M [00:00&lt;00:00, 85.2MB/s]"
      }
     },
     "b5ebf503893d4153bac1ea8aab6add61": {
      "model_module": "@jupyter-widgets/controls",
      "model_module_version": "1.5.0",
      "model_name": "HBoxModel",
      "state": {
       "_dom_classes": [],
       "_model_module": "@jupyter-widgets/controls",
       "_model_module_version": "1.5.0",
       "_model_name": "HBoxModel",
       "_view_count": null,
       "_view_module": "@jupyter-widgets/controls",
       "_view_module_version": "1.5.0",
       "_view_name": "HBoxView",
       "box_style": "",
       "children": [
        "IPY_MODEL_6da6ace50b4e4cefa7a0ef687a7c4b9c",
        "IPY_MODEL_8b93b85a7c014874b3f265deadeab24f",
        "IPY_MODEL_f4dd5849452a4037871c19d44db88eba"
       ],
       "layout": "IPY_MODEL_0bf1a50834bc42b7b5f45e696cd50242"
      }
     },
     "b781b2971f524759a6b48b674e306a72": {
      "model_module": "@jupyter-widgets/base",
      "model_module_version": "1.2.0",
      "model_name": "LayoutModel",
      "state": {
       "_model_module": "@jupyter-widgets/base",
       "_model_module_version": "1.2.0",
       "_model_name": "LayoutModel",
       "_view_count": null,
       "_view_module": "@jupyter-widgets/base",
       "_view_module_version": "1.2.0",
       "_view_name": "LayoutView",
       "align_content": null,
       "align_items": null,
       "align_self": null,
       "border": null,
       "bottom": null,
       "display": null,
       "flex": null,
       "flex_flow": null,
       "grid_area": null,
       "grid_auto_columns": null,
       "grid_auto_flow": null,
       "grid_auto_rows": null,
       "grid_column": null,
       "grid_gap": null,
       "grid_row": null,
       "grid_template_areas": null,
       "grid_template_columns": null,
       "grid_template_rows": null,
       "height": null,
       "justify_content": null,
       "justify_items": null,
       "left": null,
       "margin": null,
       "max_height": null,
       "max_width": null,
       "min_height": null,
       "min_width": null,
       "object_fit": null,
       "object_position": null,
       "order": null,
       "overflow": null,
       "overflow_x": null,
       "overflow_y": null,
       "padding": null,
       "right": null,
       "top": null,
       "visibility": null,
       "width": null
      }
     },
     "b7c7b48f54964cbb8c8f2dfb9dc20135": {
      "model_module": "@jupyter-widgets/controls",
      "model_module_version": "1.5.0",
      "model_name": "DescriptionStyleModel",
      "state": {
       "_model_module": "@jupyter-widgets/controls",
       "_model_module_version": "1.5.0",
       "_model_name": "DescriptionStyleModel",
       "_view_count": null,
       "_view_module": "@jupyter-widgets/base",
       "_view_module_version": "1.2.0",
       "_view_name": "StyleView",
       "description_width": ""
      }
     },
     "bf1b5d5902fa49719af311cc411b6515": {
      "model_module": "@jupyter-widgets/base",
      "model_module_version": "1.2.0",
      "model_name": "LayoutModel",
      "state": {
       "_model_module": "@jupyter-widgets/base",
       "_model_module_version": "1.2.0",
       "_model_name": "LayoutModel",
       "_view_count": null,
       "_view_module": "@jupyter-widgets/base",
       "_view_module_version": "1.2.0",
       "_view_name": "LayoutView",
       "align_content": null,
       "align_items": null,
       "align_self": null,
       "border": null,
       "bottom": null,
       "display": null,
       "flex": null,
       "flex_flow": null,
       "grid_area": null,
       "grid_auto_columns": null,
       "grid_auto_flow": null,
       "grid_auto_rows": null,
       "grid_column": null,
       "grid_gap": null,
       "grid_row": null,
       "grid_template_areas": null,
       "grid_template_columns": null,
       "grid_template_rows": null,
       "height": null,
       "justify_content": null,
       "justify_items": null,
       "left": null,
       "margin": null,
       "max_height": null,
       "max_width": null,
       "min_height": null,
       "min_width": null,
       "object_fit": null,
       "object_position": null,
       "order": null,
       "overflow": null,
       "overflow_x": null,
       "overflow_y": null,
       "padding": null,
       "right": null,
       "top": null,
       "visibility": null,
       "width": null
      }
     },
     "c151c121af574da1ad714e7171dd8bc8": {
      "model_module": "@jupyter-widgets/base",
      "model_module_version": "1.2.0",
      "model_name": "LayoutModel",
      "state": {
       "_model_module": "@jupyter-widgets/base",
       "_model_module_version": "1.2.0",
       "_model_name": "LayoutModel",
       "_view_count": null,
       "_view_module": "@jupyter-widgets/base",
       "_view_module_version": "1.2.0",
       "_view_name": "LayoutView",
       "align_content": null,
       "align_items": null,
       "align_self": null,
       "border": null,
       "bottom": null,
       "display": null,
       "flex": null,
       "flex_flow": null,
       "grid_area": null,
       "grid_auto_columns": null,
       "grid_auto_flow": null,
       "grid_auto_rows": null,
       "grid_column": null,
       "grid_gap": null,
       "grid_row": null,
       "grid_template_areas": null,
       "grid_template_columns": null,
       "grid_template_rows": null,
       "height": null,
       "justify_content": null,
       "justify_items": null,
       "left": null,
       "margin": null,
       "max_height": null,
       "max_width": null,
       "min_height": null,
       "min_width": null,
       "object_fit": null,
       "object_position": null,
       "order": null,
       "overflow": null,
       "overflow_x": null,
       "overflow_y": null,
       "padding": null,
       "right": null,
       "top": null,
       "visibility": null,
       "width": null
      }
     },
     "c52ce45a906f437d921f01c103246b28": {
      "model_module": "@jupyter-widgets/base",
      "model_module_version": "1.2.0",
      "model_name": "LayoutModel",
      "state": {
       "_model_module": "@jupyter-widgets/base",
       "_model_module_version": "1.2.0",
       "_model_name": "LayoutModel",
       "_view_count": null,
       "_view_module": "@jupyter-widgets/base",
       "_view_module_version": "1.2.0",
       "_view_name": "LayoutView",
       "align_content": null,
       "align_items": null,
       "align_self": null,
       "border": null,
       "bottom": null,
       "display": null,
       "flex": null,
       "flex_flow": null,
       "grid_area": null,
       "grid_auto_columns": null,
       "grid_auto_flow": null,
       "grid_auto_rows": null,
       "grid_column": null,
       "grid_gap": null,
       "grid_row": null,
       "grid_template_areas": null,
       "grid_template_columns": null,
       "grid_template_rows": null,
       "height": null,
       "justify_content": null,
       "justify_items": null,
       "left": null,
       "margin": null,
       "max_height": null,
       "max_width": null,
       "min_height": null,
       "min_width": null,
       "object_fit": null,
       "object_position": null,
       "order": null,
       "overflow": null,
       "overflow_x": null,
       "overflow_y": null,
       "padding": null,
       "right": null,
       "top": null,
       "visibility": null,
       "width": null
      }
     },
     "ca9202b0d75e412196fcf7f2c27a5911": {
      "model_module": "@jupyter-widgets/controls",
      "model_module_version": "1.5.0",
      "model_name": "DescriptionStyleModel",
      "state": {
       "_model_module": "@jupyter-widgets/controls",
       "_model_module_version": "1.5.0",
       "_model_name": "DescriptionStyleModel",
       "_view_count": null,
       "_view_module": "@jupyter-widgets/base",
       "_view_module_version": "1.2.0",
       "_view_name": "StyleView",
       "description_width": ""
      }
     },
     "ccc2fa3bbeee415292823008ec530d5c": {
      "model_module": "@jupyter-widgets/base",
      "model_module_version": "1.2.0",
      "model_name": "LayoutModel",
      "state": {
       "_model_module": "@jupyter-widgets/base",
       "_model_module_version": "1.2.0",
       "_model_name": "LayoutModel",
       "_view_count": null,
       "_view_module": "@jupyter-widgets/base",
       "_view_module_version": "1.2.0",
       "_view_name": "LayoutView",
       "align_content": null,
       "align_items": null,
       "align_self": null,
       "border": null,
       "bottom": null,
       "display": null,
       "flex": null,
       "flex_flow": null,
       "grid_area": null,
       "grid_auto_columns": null,
       "grid_auto_flow": null,
       "grid_auto_rows": null,
       "grid_column": null,
       "grid_gap": null,
       "grid_row": null,
       "grid_template_areas": null,
       "grid_template_columns": null,
       "grid_template_rows": null,
       "height": null,
       "justify_content": null,
       "justify_items": null,
       "left": null,
       "margin": null,
       "max_height": null,
       "max_width": null,
       "min_height": null,
       "min_width": null,
       "object_fit": null,
       "object_position": null,
       "order": null,
       "overflow": null,
       "overflow_x": null,
       "overflow_y": null,
       "padding": null,
       "right": null,
       "top": null,
       "visibility": null,
       "width": null
      }
     },
     "d069cb62b53a40e7a06d507111e6e7e2": {
      "model_module": "@jupyter-widgets/controls",
      "model_module_version": "1.5.0",
      "model_name": "DescriptionStyleModel",
      "state": {
       "_model_module": "@jupyter-widgets/controls",
       "_model_module_version": "1.5.0",
       "_model_name": "DescriptionStyleModel",
       "_view_count": null,
       "_view_module": "@jupyter-widgets/base",
       "_view_module_version": "1.2.0",
       "_view_name": "StyleView",
       "description_width": ""
      }
     },
     "d08afe113fd445e2a22cfd3cb404587d": {
      "model_module": "@jupyter-widgets/base",
      "model_module_version": "1.2.0",
      "model_name": "LayoutModel",
      "state": {
       "_model_module": "@jupyter-widgets/base",
       "_model_module_version": "1.2.0",
       "_model_name": "LayoutModel",
       "_view_count": null,
       "_view_module": "@jupyter-widgets/base",
       "_view_module_version": "1.2.0",
       "_view_name": "LayoutView",
       "align_content": null,
       "align_items": null,
       "align_self": null,
       "border": null,
       "bottom": null,
       "display": null,
       "flex": null,
       "flex_flow": null,
       "grid_area": null,
       "grid_auto_columns": null,
       "grid_auto_flow": null,
       "grid_auto_rows": null,
       "grid_column": null,
       "grid_gap": null,
       "grid_row": null,
       "grid_template_areas": null,
       "grid_template_columns": null,
       "grid_template_rows": null,
       "height": null,
       "justify_content": null,
       "justify_items": null,
       "left": null,
       "margin": null,
       "max_height": null,
       "max_width": null,
       "min_height": null,
       "min_width": null,
       "object_fit": null,
       "object_position": null,
       "order": null,
       "overflow": null,
       "overflow_x": null,
       "overflow_y": null,
       "padding": null,
       "right": null,
       "top": null,
       "visibility": null,
       "width": null
      }
     },
     "d5854ff17bac4e91a01061837139ddea": {
      "model_module": "@jupyter-widgets/base",
      "model_module_version": "1.2.0",
      "model_name": "LayoutModel",
      "state": {
       "_model_module": "@jupyter-widgets/base",
       "_model_module_version": "1.2.0",
       "_model_name": "LayoutModel",
       "_view_count": null,
       "_view_module": "@jupyter-widgets/base",
       "_view_module_version": "1.2.0",
       "_view_name": "LayoutView",
       "align_content": null,
       "align_items": null,
       "align_self": null,
       "border": null,
       "bottom": null,
       "display": null,
       "flex": null,
       "flex_flow": null,
       "grid_area": null,
       "grid_auto_columns": null,
       "grid_auto_flow": null,
       "grid_auto_rows": null,
       "grid_column": null,
       "grid_gap": null,
       "grid_row": null,
       "grid_template_areas": null,
       "grid_template_columns": null,
       "grid_template_rows": null,
       "height": null,
       "justify_content": null,
       "justify_items": null,
       "left": null,
       "margin": null,
       "max_height": null,
       "max_width": null,
       "min_height": null,
       "min_width": null,
       "object_fit": null,
       "object_position": null,
       "order": null,
       "overflow": null,
       "overflow_x": null,
       "overflow_y": null,
       "padding": null,
       "right": null,
       "top": null,
       "visibility": null,
       "width": null
      }
     },
     "d9aef2509f2d4534abbdb27cd0f60aee": {
      "model_module": "@jupyter-widgets/base",
      "model_module_version": "1.2.0",
      "model_name": "LayoutModel",
      "state": {
       "_model_module": "@jupyter-widgets/base",
       "_model_module_version": "1.2.0",
       "_model_name": "LayoutModel",
       "_view_count": null,
       "_view_module": "@jupyter-widgets/base",
       "_view_module_version": "1.2.0",
       "_view_name": "LayoutView",
       "align_content": null,
       "align_items": null,
       "align_self": null,
       "border": null,
       "bottom": null,
       "display": null,
       "flex": null,
       "flex_flow": null,
       "grid_area": null,
       "grid_auto_columns": null,
       "grid_auto_flow": null,
       "grid_auto_rows": null,
       "grid_column": null,
       "grid_gap": null,
       "grid_row": null,
       "grid_template_areas": null,
       "grid_template_columns": null,
       "grid_template_rows": null,
       "height": null,
       "justify_content": null,
       "justify_items": null,
       "left": null,
       "margin": null,
       "max_height": null,
       "max_width": null,
       "min_height": null,
       "min_width": null,
       "object_fit": null,
       "object_position": null,
       "order": null,
       "overflow": null,
       "overflow_x": null,
       "overflow_y": null,
       "padding": null,
       "right": null,
       "top": null,
       "visibility": null,
       "width": null
      }
     },
     "dbbffc7e765f4a93ad0713189f65f468": {
      "model_module": "@jupyter-widgets/controls",
      "model_module_version": "1.5.0",
      "model_name": "HTMLModel",
      "state": {
       "_dom_classes": [],
       "_model_module": "@jupyter-widgets/controls",
       "_model_module_version": "1.5.0",
       "_model_name": "HTMLModel",
       "_view_count": null,
       "_view_module": "@jupyter-widgets/controls",
       "_view_module_version": "1.5.0",
       "_view_name": "HTMLView",
       "description": "",
       "description_tooltip": null,
       "layout": "IPY_MODEL_ccc2fa3bbeee415292823008ec530d5c",
       "placeholder": "​",
       "style": "IPY_MODEL_ca9202b0d75e412196fcf7f2c27a5911",
       "value": " 25.0/25.0 [00:00&lt;00:00, 1.97kB/s]"
      }
     },
     "df9df79f82a145c2b5ac56866326082c": {
      "model_module": "@jupyter-widgets/base",
      "model_module_version": "1.2.0",
      "model_name": "LayoutModel",
      "state": {
       "_model_module": "@jupyter-widgets/base",
       "_model_module_version": "1.2.0",
       "_model_name": "LayoutModel",
       "_view_count": null,
       "_view_module": "@jupyter-widgets/base",
       "_view_module_version": "1.2.0",
       "_view_name": "LayoutView",
       "align_content": null,
       "align_items": null,
       "align_self": null,
       "border": null,
       "bottom": null,
       "display": null,
       "flex": null,
       "flex_flow": null,
       "grid_area": null,
       "grid_auto_columns": null,
       "grid_auto_flow": null,
       "grid_auto_rows": null,
       "grid_column": null,
       "grid_gap": null,
       "grid_row": null,
       "grid_template_areas": null,
       "grid_template_columns": null,
       "grid_template_rows": null,
       "height": null,
       "justify_content": null,
       "justify_items": null,
       "left": null,
       "margin": null,
       "max_height": null,
       "max_width": null,
       "min_height": null,
       "min_width": null,
       "object_fit": null,
       "object_position": null,
       "order": null,
       "overflow": null,
       "overflow_x": null,
       "overflow_y": null,
       "padding": null,
       "right": null,
       "top": null,
       "visibility": null,
       "width": null
      }
     },
     "e918fed8d00a4b0d885f389a2ddce000": {
      "model_module": "@jupyter-widgets/controls",
      "model_module_version": "1.5.0",
      "model_name": "FloatProgressModel",
      "state": {
       "_dom_classes": [],
       "_model_module": "@jupyter-widgets/controls",
       "_model_module_version": "1.5.0",
       "_model_name": "FloatProgressModel",
       "_view_count": null,
       "_view_module": "@jupyter-widgets/controls",
       "_view_module_version": "1.5.0",
       "_view_name": "ProgressView",
       "bar_style": "success",
       "description": "",
       "description_tooltip": null,
       "layout": "IPY_MODEL_2d9ee14d75be4fc6963073a8937d2862",
       "max": 760289.0,
       "min": 0.0,
       "orientation": "horizontal",
       "style": "IPY_MODEL_398e64da6a4c4d88834c5a9e3b47ccf1",
       "value": 760289.0
      }
     },
     "f21b89ae95ff4af9a9f44f75f5e5a8d8": {
      "model_module": "@jupyter-widgets/controls",
      "model_module_version": "1.5.0",
      "model_name": "FloatProgressModel",
      "state": {
       "_dom_classes": [],
       "_model_module": "@jupyter-widgets/controls",
       "_model_module_version": "1.5.0",
       "_model_name": "FloatProgressModel",
       "_view_count": null,
       "_view_module": "@jupyter-widgets/controls",
       "_view_module_version": "1.5.0",
       "_view_name": "ProgressView",
       "bar_style": "success",
       "description": "",
       "description_tooltip": null,
       "layout": "IPY_MODEL_9bb941fd1e7341a9bb8ef57420aaa7ab",
       "max": 1312669.0,
       "min": 0.0,
       "orientation": "horizontal",
       "style": "IPY_MODEL_fd71883d98cc4b34ad1b280a8b916394",
       "value": 1312669.0
      }
     },
     "f4dd5849452a4037871c19d44db88eba": {
      "model_module": "@jupyter-widgets/controls",
      "model_module_version": "1.5.0",
      "model_name": "HTMLModel",
      "state": {
       "_dom_classes": [],
       "_model_module": "@jupyter-widgets/controls",
       "_model_module_version": "1.5.0",
       "_model_name": "HTMLModel",
       "_view_count": null,
       "_view_module": "@jupyter-widgets/controls",
       "_view_module_version": "1.5.0",
       "_view_name": "HTMLView",
       "description": "",
       "description_tooltip": null,
       "layout": "IPY_MODEL_b781b2971f524759a6b48b674e306a72",
       "placeholder": "​",
       "style": "IPY_MODEL_984c83984a53453bad8b0a3d3397ec26",
       "value": " 684/684 [00:00&lt;00:00, 59.6kB/s]"
      }
     },
     "fd0d83ad009f49e9b4bbcba319f8e9c3": {
      "model_module": "@jupyter-widgets/controls",
      "model_module_version": "1.5.0",
      "model_name": "FloatProgressModel",
      "state": {
       "_dom_classes": [],
       "_model_module": "@jupyter-widgets/controls",
       "_model_module_version": "1.5.0",
       "_model_name": "FloatProgressModel",
       "_view_count": null,
       "_view_module": "@jupyter-widgets/controls",
       "_view_module_version": "1.5.0",
       "_view_name": "ProgressView",
       "bar_style": "success",
       "description": "",
       "description_tooltip": null,
       "layout": "IPY_MODEL_d08afe113fd445e2a22cfd3cb404587d",
       "max": 47372894.0,
       "min": 0.0,
       "orientation": "horizontal",
       "style": "IPY_MODEL_1267e38cd40a4c5d819a3060bc70a9c5",
       "value": 47372894.0
      }
     },
     "fd4a398427854a1f93821a77dd35008d": {
      "model_module": "@jupyter-widgets/base",
      "model_module_version": "1.2.0",
      "model_name": "LayoutModel",
      "state": {
       "_model_module": "@jupyter-widgets/base",
       "_model_module_version": "1.2.0",
       "_model_name": "LayoutModel",
       "_view_count": null,
       "_view_module": "@jupyter-widgets/base",
       "_view_module_version": "1.2.0",
       "_view_name": "LayoutView",
       "align_content": null,
       "align_items": null,
       "align_self": null,
       "border": null,
       "bottom": null,
       "display": null,
       "flex": null,
       "flex_flow": null,
       "grid_area": null,
       "grid_auto_columns": null,
       "grid_auto_flow": null,
       "grid_auto_rows": null,
       "grid_column": null,
       "grid_gap": null,
       "grid_row": null,
       "grid_template_areas": null,
       "grid_template_columns": null,
       "grid_template_rows": null,
       "height": null,
       "justify_content": null,
       "justify_items": null,
       "left": null,
       "margin": null,
       "max_height": null,
       "max_width": null,
       "min_height": null,
       "min_width": null,
       "object_fit": null,
       "object_position": null,
       "order": null,
       "overflow": null,
       "overflow_x": null,
       "overflow_y": null,
       "padding": null,
       "right": null,
       "top": null,
       "visibility": null,
       "width": null
      }
     },
     "fd71883d98cc4b34ad1b280a8b916394": {
      "model_module": "@jupyter-widgets/controls",
      "model_module_version": "1.5.0",
      "model_name": "ProgressStyleModel",
      "state": {
       "_model_module": "@jupyter-widgets/controls",
       "_model_module_version": "1.5.0",
       "_model_name": "ProgressStyleModel",
       "_view_count": null,
       "_view_module": "@jupyter-widgets/base",
       "_view_module_version": "1.2.0",
       "_view_name": "StyleView",
       "bar_color": null,
       "description_width": ""
      }
     }
    },
    "version_major": 2,
    "version_minor": 0
   }
  }
 },
 "nbformat": 4,
 "nbformat_minor": 5
}
