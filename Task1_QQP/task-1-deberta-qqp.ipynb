{
 "cells": [
  {
   "cell_type": "markdown",
   "id": "9057a97c",
   "metadata": {
    "papermill": {
     "duration": 0.025261,
     "end_time": "2024-04-17T08:20:21.630481",
     "exception": false,
     "start_time": "2024-04-17T08:20:21.605220",
     "status": "completed"
    },
    "tags": []
   },
   "source": [
    "# Fine-Tuning BERT on Quora Question pairs\n",
    "\n",
    "# Introduction\n",
    "\n",
    "In this project, we would use a variety of BERT models (BERT, RoBERTa, ALBERT, DistilBERT, DeBERTa) with the HuggingFace PyTorch library to fine-tune a model to fit the QQP dataset. \n",
    "\n",
    "### BERT (Bidirectional Encoder Representations from Transformers) \n",
    "\n",
    "Original model code [here](https://github.com/google-research/bert) for NLP tasks.\n",
    "\n",
    "BERT consists of 12 Transformer Encoding layers (or 24 for large BERT)\n",
    "\n",
    "\n",
    "# Quora Question Pairs Dataset\n",
    "[Quora](https://www.quora.com/) is a question-and-answer website where questions are asked, answered, followed, and edited by Internet users, either factually or in the form of opinions. Quora was co-founded by former Facebook employees Adam D'Angelo and Charlie Cheever in June 2009. website was made available to the public for the first time on June 21, 2010. Today the website is available in many languages.\n",
    "\n",
    "Over 100 million people visit Quora every month, so it's no surprise that many people ask similarly worded questions. Multiple questions with the same intent can cause seekers to spend more time finding the best answer to their question, and make writers feel they need to answer multiple versions of the same question.\n",
    "\n",
    "The goal is to predict which of the provided pairs of questions contain two questions with the same meaning. The ground truth is the set of labels that have been supplied by human experts. The dataset itself can be downloaded from kaggle: [here](https://www.kaggle.com/c/quora-question-pairs/).\n",
    "\n",
    "## Data fields\n",
    "* id - the id of a training set question pair\n",
    "* qid1, qid2 - unique ids of each question (only available in train.csv)\n",
    "* question1, question2 - the full text of each question\n",
    "* is_duplicate - the target variable, set to 1 if question1 and question2 have essentially the same meaning, and 0 otherwise."
   ]
  },
  {
   "cell_type": "markdown",
   "id": "f9de4b9e",
   "metadata": {
    "papermill": {
     "duration": 0.024438,
     "end_time": "2024-04-17T08:20:21.681288",
     "exception": false,
     "start_time": "2024-04-17T08:20:21.656850",
     "status": "completed"
    },
    "tags": []
   },
   "source": [
    "To make use of GPU, this notebook should be run on Google Colab or Kaggle. It is highly inadvisable to run this notebook on a local machine as it would take a very long time to train the model. However you can run on local for testing purposes."
   ]
  },
  {
   "cell_type": "code",
   "execution_count": 1,
   "id": "c149de83",
   "metadata": {
    "execution": {
     "iopub.execute_input": "2024-04-17T08:20:21.732716Z",
     "iopub.status.busy": "2024-04-17T08:20:21.732357Z",
     "iopub.status.idle": "2024-04-17T08:20:21.752493Z",
     "shell.execute_reply": "2024-04-17T08:20:21.751652Z"
    },
    "papermill": {
     "duration": 0.04827,
     "end_time": "2024-04-17T08:20:21.754440",
     "exception": false,
     "start_time": "2024-04-17T08:20:21.706170",
     "status": "completed"
    },
    "tags": []
   },
   "outputs": [
    {
     "name": "stdout",
     "output_type": "stream",
     "text": [
      "/kaggle/input/test.tsv\n",
      "/kaggle/input/quora_duplicate_questions.tsv\n",
      "/kaggle/input/dev.tsv\n",
      "/kaggle/input/train.tsv\n"
     ]
    }
   ],
   "source": [
    "# Input data files are available in the read-only \"../input/\" directory\n",
    "# For example, running this (by clicking run or pressing Shift+Enter) will list all files under the input directory\n",
    "\n",
    "import os\n",
    "for dirname, _, filenames in os.walk('/kaggle/input'):\n",
    "    for filename in filenames:\n",
    "        print(os.path.join(dirname, filename))\n",
    "\n",
    "# You can write up to 20GB to the current directory (/kaggle/working/) that gets preserved as output when you create a version using \"Save & Run All\" \n",
    "# You can also write temporary files to /kaggle/temp/, but they won't be saved outside of the current session"
   ]
  },
  {
   "cell_type": "code",
   "execution_count": 2,
   "id": "53e0bf58",
   "metadata": {
    "execution": {
     "iopub.execute_input": "2024-04-17T08:20:21.805701Z",
     "iopub.status.busy": "2024-04-17T08:20:21.805376Z",
     "iopub.status.idle": "2024-04-17T08:20:26.953903Z",
     "shell.execute_reply": "2024-04-17T08:20:26.952860Z"
    },
    "papermill": {
     "duration": 5.176832,
     "end_time": "2024-04-17T08:20:26.956349",
     "exception": false,
     "start_time": "2024-04-17T08:20:21.779517",
     "status": "completed"
    },
    "tags": []
   },
   "outputs": [],
   "source": [
    "### Importing all necessary libraries\n",
    "\n",
    "import pandas as pd\n",
    "import numpy as np\n",
    "import matplotlib.pyplot as plt\n",
    "from sklearn.model_selection import train_test_split\n",
    "\n",
    "import torch\n",
    "from tqdm import tqdm\n",
    "from torch.utils.data import TensorDataset"
   ]
  },
  {
   "cell_type": "markdown",
   "id": "e0ab1aad",
   "metadata": {
    "papermill": {
     "duration": 0.024688,
     "end_time": "2024-04-17T08:20:27.007002",
     "exception": false,
     "start_time": "2024-04-17T08:20:26.982314",
     "status": "completed"
    },
    "tags": []
   },
   "source": [
    "#### Due to memory and time limit issues, we cannot really use the whole dataset for fine tuning. As a result, we would use a subset of the dataset for training and validation."
   ]
  },
  {
   "cell_type": "code",
   "execution_count": 3,
   "id": "19043cc1",
   "metadata": {
    "execution": {
     "iopub.execute_input": "2024-04-17T08:20:27.058308Z",
     "iopub.status.busy": "2024-04-17T08:20:27.057480Z",
     "iopub.status.idle": "2024-04-17T08:20:27.062217Z",
     "shell.execute_reply": "2024-04-17T08:20:27.061356Z"
    },
    "papermill": {
     "duration": 0.032566,
     "end_time": "2024-04-17T08:20:27.064179",
     "exception": false,
     "start_time": "2024-04-17T08:20:27.031613",
     "status": "completed"
    },
    "tags": []
   },
   "outputs": [],
   "source": [
    "num_train_plus_test = 20000 # Later, train and test data ratio is 80:20\n",
    "num_val = 2000 \n",
    "num_unknown_labels_test = 5000\n",
    "# If you want to use all data, set values to None"
   ]
  },
  {
   "cell_type": "code",
   "execution_count": 4,
   "id": "9ed59350",
   "metadata": {
    "execution": {
     "iopub.execute_input": "2024-04-17T08:20:27.115247Z",
     "iopub.status.busy": "2024-04-17T08:20:27.114976Z",
     "iopub.status.idle": "2024-04-17T08:20:27.308779Z",
     "shell.execute_reply": "2024-04-17T08:20:27.307827Z"
    },
    "papermill": {
     "duration": 0.221631,
     "end_time": "2024-04-17T08:20:27.310883",
     "exception": false,
     "start_time": "2024-04-17T08:20:27.089252",
     "status": "completed"
    },
    "tags": []
   },
   "outputs": [
    {
     "name": "stdout",
     "output_type": "stream",
     "text": [
      "5000\n"
     ]
    },
    {
     "data": {
      "text/html": [
       "<div>\n",
       "<style scoped>\n",
       "    .dataframe tbody tr th:only-of-type {\n",
       "        vertical-align: middle;\n",
       "    }\n",
       "\n",
       "    .dataframe tbody tr th {\n",
       "        vertical-align: top;\n",
       "    }\n",
       "\n",
       "    .dataframe thead th {\n",
       "        text-align: right;\n",
       "    }\n",
       "</style>\n",
       "<table border=\"1\" class=\"dataframe\">\n",
       "  <thead>\n",
       "    <tr style=\"text-align: right;\">\n",
       "      <th></th>\n",
       "      <th>id</th>\n",
       "      <th>qid1</th>\n",
       "      <th>qid2</th>\n",
       "      <th>question1</th>\n",
       "      <th>question2</th>\n",
       "      <th>is_duplicate</th>\n",
       "    </tr>\n",
       "  </thead>\n",
       "  <tbody>\n",
       "    <tr>\n",
       "      <th>0</th>\n",
       "      <td>133273</td>\n",
       "      <td>213221</td>\n",
       "      <td>213222</td>\n",
       "      <td>How is the life of a math student? Could you d...</td>\n",
       "      <td>Which level of prepration is enough for the ex...</td>\n",
       "      <td>0</td>\n",
       "    </tr>\n",
       "    <tr>\n",
       "      <th>1</th>\n",
       "      <td>402555</td>\n",
       "      <td>536040</td>\n",
       "      <td>536041</td>\n",
       "      <td>How do I control my horny emotions?</td>\n",
       "      <td>How do you control your horniness?</td>\n",
       "      <td>1</td>\n",
       "    </tr>\n",
       "    <tr>\n",
       "      <th>2</th>\n",
       "      <td>360472</td>\n",
       "      <td>364011</td>\n",
       "      <td>490273</td>\n",
       "      <td>What causes stool color to change to yellow?</td>\n",
       "      <td>What can cause stool to come out as little balls?</td>\n",
       "      <td>0</td>\n",
       "    </tr>\n",
       "    <tr>\n",
       "      <th>3</th>\n",
       "      <td>150662</td>\n",
       "      <td>155721</td>\n",
       "      <td>7256</td>\n",
       "      <td>What can one do after MBBS?</td>\n",
       "      <td>What do i do after my MBBS ?</td>\n",
       "      <td>1</td>\n",
       "    </tr>\n",
       "    <tr>\n",
       "      <th>4</th>\n",
       "      <td>183004</td>\n",
       "      <td>279958</td>\n",
       "      <td>279959</td>\n",
       "      <td>Where can I find a power outlet for my laptop ...</td>\n",
       "      <td>Would a second airport in Sydney, Australia be...</td>\n",
       "      <td>0</td>\n",
       "    </tr>\n",
       "  </tbody>\n",
       "</table>\n",
       "</div>"
      ],
      "text/plain": [
       "       id    qid1    qid2                                          question1  \\\n",
       "0  133273  213221  213222  How is the life of a math student? Could you d...   \n",
       "1  402555  536040  536041                How do I control my horny emotions?   \n",
       "2  360472  364011  490273       What causes stool color to change to yellow?   \n",
       "3  150662  155721    7256                        What can one do after MBBS?   \n",
       "4  183004  279958  279959  Where can I find a power outlet for my laptop ...   \n",
       "\n",
       "                                           question2  is_duplicate  \n",
       "0  Which level of prepration is enough for the ex...             0  \n",
       "1                 How do you control your horniness?             1  \n",
       "2  What can cause stool to come out as little balls?             0  \n",
       "3                       What do i do after my MBBS ?             1  \n",
       "4  Would a second airport in Sydney, Australia be...             0  "
      ]
     },
     "execution_count": 4,
     "metadata": {},
     "output_type": "execute_result"
    }
   ],
   "source": [
    "# train_qqp = pd.read_csv(\"/kaggle/input/snlp-project-qqp/train.tsv\", sep=\"\\t\")\n",
    "# dev_qqp = pd.read_csv(\"/kaggle/input/snlp-project-qqp/dev.tsv\", sep=\"\\t\")\n",
    "\n",
    "train_qqp = pd.read_csv(\"/kaggle/input/train.tsv\", sep=\"\\t\", nrows=num_train_plus_test)\n",
    "dev_qqp = pd.read_csv(\"/kaggle/input/dev.tsv\", sep=\"\\t\", nrows=num_val)\n",
    "\n",
    "test_unknown_label_qqp = pd.read_csv(\"/kaggle/input/test.tsv\", sep=\"\\t\", nrows=num_unknown_labels_test)\n",
    "print(len(test_unknown_label_qqp))\n",
    "train_qqp.head()"
   ]
  },
  {
   "cell_type": "markdown",
   "id": "12b17a82",
   "metadata": {
    "papermill": {
     "duration": 0.025726,
     "end_time": "2024-04-17T08:20:27.363610",
     "exception": false,
     "start_time": "2024-04-17T08:20:27.337884",
     "status": "completed"
    },
    "tags": []
   },
   "source": [
    "## BertForSequenceClassification\n",
    "\n",
    "For this task, we first want to modify the pre-trained BERT model to give outputs for classification, and then we want to continue training the model on our dataset until that the entire model, end-to-end, is well-suited for our task.\n",
    "\n",
    "We’ll be using [BertForSequenceClassification](https://huggingface.co/transformers/model_doc/bert.html#bertforsequenceclassification). This is the normal BERT model with an added single linear layer on top for classification that we will use as a sentence classifier. As we feed input data, the entire pre-trained BERT model and the additional untrained classification layer is trained on our specific task."
   ]
  },
  {
   "cell_type": "markdown",
   "id": "bd6deddc",
   "metadata": {
    "papermill": {
     "duration": 0.024854,
     "end_time": "2024-04-17T08:20:27.413334",
     "exception": false,
     "start_time": "2024-04-17T08:20:27.388480",
     "status": "completed"
    },
    "tags": []
   },
   "source": [
    "### Choosing the BERT variant and the Tokenizer\n",
    "\n",
    "To feed our text to BERT, it must be split into tokens, and then these tokens must be mapped to their index in the tokenizer vocabulary. The tokenization must be performed by the tokenizer included with BERT. This Tokenizer is build upon the WordPiece tokenizer. "
   ]
  },
  {
   "cell_type": "code",
   "execution_count": 5,
   "id": "3d9631da",
   "metadata": {
    "execution": {
     "iopub.execute_input": "2024-04-17T08:20:27.465414Z",
     "iopub.status.busy": "2024-04-17T08:20:27.464628Z",
     "iopub.status.idle": "2024-04-17T08:20:27.510639Z",
     "shell.execute_reply": "2024-04-17T08:20:27.509697Z"
    },
    "papermill": {
     "duration": 0.074473,
     "end_time": "2024-04-17T08:20:27.512965",
     "exception": false,
     "start_time": "2024-04-17T08:20:27.438492",
     "status": "completed"
    },
    "tags": []
   },
   "outputs": [
    {
     "name": "stdout",
     "output_type": "stream",
     "text": [
      "The current device is cuda\n"
     ]
    }
   ],
   "source": [
    "device = torch.device(\"cuda\" if torch.cuda.is_available() else \"cpu\")\n",
    "print(\"The current device is\", device)"
   ]
  },
  {
   "cell_type": "code",
   "execution_count": 6,
   "id": "5c4f2eff",
   "metadata": {
    "execution": {
     "iopub.execute_input": "2024-04-17T08:20:27.564562Z",
     "iopub.status.busy": "2024-04-17T08:20:27.564270Z",
     "iopub.status.idle": "2024-04-17T08:20:49.544471Z",
     "shell.execute_reply": "2024-04-17T08:20:49.543683Z"
    },
    "papermill": {
     "duration": 22.008676,
     "end_time": "2024-04-17T08:20:49.546877",
     "exception": false,
     "start_time": "2024-04-17T08:20:27.538201",
     "status": "completed"
    },
    "tags": []
   },
   "outputs": [
    {
     "data": {
      "application/vnd.jupyter.widget-view+json": {
       "model_id": "9d68f6153d6d48c7a7534472cfe34a4f",
       "version_major": 2,
       "version_minor": 0
      },
      "text/plain": [
       "tokenizer_config.json:   0%|          | 0.00/52.0 [00:00<?, ?B/s]"
      ]
     },
     "metadata": {},
     "output_type": "display_data"
    },
    {
     "data": {
      "application/vnd.jupyter.widget-view+json": {
       "model_id": "39c317cdd8a14f579b67930f5b582d95",
       "version_major": 2,
       "version_minor": 0
      },
      "text/plain": [
       "config.json:   0%|          | 0.00/474 [00:00<?, ?B/s]"
      ]
     },
     "metadata": {},
     "output_type": "display_data"
    },
    {
     "data": {
      "application/vnd.jupyter.widget-view+json": {
       "model_id": "f8043aaed60e402381b7b17f72175089",
       "version_major": 2,
       "version_minor": 0
      },
      "text/plain": [
       "vocab.json:   0%|          | 0.00/899k [00:00<?, ?B/s]"
      ]
     },
     "metadata": {},
     "output_type": "display_data"
    },
    {
     "data": {
      "application/vnd.jupyter.widget-view+json": {
       "model_id": "efe08fde98e54ddf855c14e282f96a4c",
       "version_major": 2,
       "version_minor": 0
      },
      "text/plain": [
       "merges.txt:   0%|          | 0.00/456k [00:00<?, ?B/s]"
      ]
     },
     "metadata": {},
     "output_type": "display_data"
    },
    {
     "data": {
      "application/vnd.jupyter.widget-view+json": {
       "model_id": "5ba78b70adf34242865d164245da6fa5",
       "version_major": 2,
       "version_minor": 0
      },
      "text/plain": [
       "pytorch_model.bin:   0%|          | 0.00/559M [00:00<?, ?B/s]"
      ]
     },
     "metadata": {},
     "output_type": "display_data"
    },
    {
     "name": "stderr",
     "output_type": "stream",
     "text": [
      "/opt/conda/lib/python3.10/site-packages/torch/_utils.py:831: UserWarning: TypedStorage is deprecated. It will be removed in the future and UntypedStorage will be the only storage class. This should only matter to you if you are using storages directly.  To access UntypedStorage directly, use tensor.untyped_storage() instead of tensor.storage()\n",
      "  return self.fget.__get__(instance, owner)()\n",
      "Some weights of DebertaForSequenceClassification were not initialized from the model checkpoint at microsoft/deberta-base and are newly initialized: ['classifier.bias', 'classifier.weight', 'pooler.dense.bias', 'pooler.dense.weight']\n",
      "You should probably TRAIN this model on a down-stream task to be able to use it for predictions and inference.\n"
     ]
    }
   ],
   "source": [
    "# PLEASE CHOOSE THE BERT VARIANT MODEL\n",
    "\n",
    "# bert_model_name = \"bert-base-uncased\"\n",
    "# bert_model_name = \"roberta-base\"\n",
    "# bert_model_name = \"distilbert-base-uncased\"\n",
    "# bert_model_name = \"albert-base-v2\"\n",
    "bert_model_name = \"deberta-base\"\n",
    "\n",
    "from transformers import AutoTokenizer, AutoModelForSequenceClassification\n",
    "\n",
    "bert_temp_name = \"microsoft/deberta-base\" if bert_model_name == \"deberta-base\" else bert_model_name\n",
    "\n",
    "tokenizer = AutoTokenizer.from_pretrained(bert_temp_name)\n",
    "bert_classification_model = AutoModelForSequenceClassification.from_pretrained(\n",
    "    pretrained_model_name_or_path=bert_temp_name,\n",
    "    num_labels=2, # The number of output labels--2 for binary classification.\n",
    "                    # You can increase this for multi-class tasks.   \n",
    "    output_attentions=False, # Whether the model returns attentions weights.\n",
    "    output_hidden_states=False, # Whether the model returns all hidden-states.\n",
    ")\n",
    "\n",
    "bert_classification_model = bert_classification_model.to(device)"
   ]
  },
  {
   "cell_type": "markdown",
   "id": "15c8488e",
   "metadata": {
    "papermill": {
     "duration": 0.025951,
     "end_time": "2024-04-17T08:20:49.599530",
     "exception": false,
     "start_time": "2024-04-17T08:20:49.573579",
     "status": "completed"
    },
    "tags": []
   },
   "source": [
    "# Tokenizing\n",
    "To feed our text to BERT, it must be split into tokens, and then these tokens must be mapped to their index in the tokenizer vocabulary. "
   ]
  },
  {
   "cell_type": "code",
   "execution_count": 7,
   "id": "0e609990",
   "metadata": {
    "execution": {
     "iopub.execute_input": "2024-04-17T08:20:49.654264Z",
     "iopub.status.busy": "2024-04-17T08:20:49.653608Z",
     "iopub.status.idle": "2024-04-17T08:20:49.666041Z",
     "shell.execute_reply": "2024-04-17T08:20:49.664939Z"
    },
    "papermill": {
     "duration": 0.041807,
     "end_time": "2024-04-17T08:20:49.667886",
     "exception": false,
     "start_time": "2024-04-17T08:20:49.626079",
     "status": "completed"
    },
    "tags": []
   },
   "outputs": [
    {
     "name": "stdout",
     "output_type": "stream",
     "text": [
      "Original sentence:\n",
      " How is the life of a math student? Could you describe your own experiences?\n",
      "\n",
      "Tokenized by deberta-base:\n",
      " ['How', 'Ġis', 'Ġthe', 'Ġlife', 'Ġof', 'Ġa', 'Ġmath', 'Ġstudent', '?', 'ĠCould', 'Ġyou', 'Ġdescribe', 'Ġyour', 'Ġown', 'Ġexperiences', '?']\n",
      "\n",
      "Token IDs by deberta-base:\n",
      " [6179, 16, 5, 301, 9, 10, 10638, 1294, 116, 9918, 47, 6190, 110, 308, 3734, 116]\n"
     ]
    }
   ],
   "source": [
    "example_question = train_qqp['question1'][0]\n",
    "\n",
    "print(f\"Original sentence:\\n {example_question}\")\n",
    "\n",
    "example_tokens = tokenizer.tokenize(example_question)\n",
    "\n",
    "print(f\"\\nTokenized by {bert_model_name}:\\n {example_tokens}\")\n",
    "\n",
    "example_tokens_ID = tokenizer.convert_tokens_to_ids(example_tokens)\n",
    "print(f\"\\nToken IDs by {bert_model_name}:\\n {example_tokens_ID}\")"
   ]
  },
  {
   "cell_type": "markdown",
   "id": "c0ae2ede",
   "metadata": {
    "papermill": {
     "duration": 0.026151,
     "end_time": "2024-04-17T08:20:49.721489",
     "exception": false,
     "start_time": "2024-04-17T08:20:49.695338",
     "status": "completed"
    },
    "tags": []
   },
   "source": [
    "We can combine ``tokenize`` and ``convert_tokens_to_ids`` with the method ``encode``:"
   ]
  },
  {
   "cell_type": "code",
   "execution_count": 8,
   "id": "206fe89b",
   "metadata": {
    "execution": {
     "iopub.execute_input": "2024-04-17T08:20:49.775949Z",
     "iopub.status.busy": "2024-04-17T08:20:49.775603Z",
     "iopub.status.idle": "2024-04-17T08:20:49.781524Z",
     "shell.execute_reply": "2024-04-17T08:20:49.780551Z"
    },
    "papermill": {
     "duration": 0.035562,
     "end_time": "2024-04-17T08:20:49.783372",
     "exception": false,
     "start_time": "2024-04-17T08:20:49.747810",
     "status": "completed"
    },
    "tags": []
   },
   "outputs": [
    {
     "name": "stdout",
     "output_type": "stream",
     "text": [
      "Original sentence:\n",
      " How is the life of a math student? Could you describe your own experiences?\n",
      "\n",
      "Token IDs by deberta-base:\n",
      " [1, 6179, 16, 5, 301, 9, 10, 10638, 1294, 116, 9918, 47, 6190, 110, 308, 3734, 116, 2]\n"
     ]
    }
   ],
   "source": [
    "example_question = train_qqp['question1'][0]\n",
    "\n",
    "print(f\"Original sentence:\\n {example_question}\")\n",
    "\n",
    "example_tokens_ID = tokenizer.encode(example_question)\n",
    "\n",
    "print(f\"\\nToken IDs by {bert_model_name}:\\n {example_tokens_ID}\")"
   ]
  },
  {
   "cell_type": "markdown",
   "id": "a1e9466e",
   "metadata": {
    "papermill": {
     "duration": 0.026667,
     "end_time": "2024-04-17T08:20:49.836596",
     "exception": false,
     "start_time": "2024-04-17T08:20:49.809929",
     "status": "completed"
    },
    "tags": []
   },
   "source": [
    "We can see we got two extra tokens at the start and at the end compared to previous versions. Let's see what they are:"
   ]
  },
  {
   "cell_type": "code",
   "execution_count": 9,
   "id": "d77deddb",
   "metadata": {
    "execution": {
     "iopub.execute_input": "2024-04-17T08:20:49.891262Z",
     "iopub.status.busy": "2024-04-17T08:20:49.890495Z",
     "iopub.status.idle": "2024-04-17T08:20:59.735884Z",
     "shell.execute_reply": "2024-04-17T08:20:59.734913Z"
    },
    "papermill": {
     "duration": 9.875206,
     "end_time": "2024-04-17T08:20:59.738002",
     "exception": false,
     "start_time": "2024-04-17T08:20:49.862796",
     "status": "completed"
    },
    "tags": []
   },
   "outputs": [
    {
     "name": "stderr",
     "output_type": "stream",
     "text": [
      "2024-04-17 08:20:51.521146: E external/local_xla/xla/stream_executor/cuda/cuda_dnn.cc:9261] Unable to register cuDNN factory: Attempting to register factory for plugin cuDNN when one has already been registered\n",
      "2024-04-17 08:20:51.521243: E external/local_xla/xla/stream_executor/cuda/cuda_fft.cc:607] Unable to register cuFFT factory: Attempting to register factory for plugin cuFFT when one has already been registered\n",
      "2024-04-17 08:20:51.639809: E external/local_xla/xla/stream_executor/cuda/cuda_blas.cc:1515] Unable to register cuBLAS factory: Attempting to register factory for plugin cuBLAS when one has already been registered\n"
     ]
    },
    {
     "data": {
      "text/plain": [
       "'[CLS]How is the life of a math student? Could you describe your own experiences?[SEP]'"
      ]
     },
     "execution_count": 9,
     "metadata": {},
     "output_type": "execute_result"
    }
   ],
   "source": [
    "tokenizer.decode(example_tokens_ID)"
   ]
  },
  {
   "cell_type": "markdown",
   "id": "d8eb399c",
   "metadata": {
    "papermill": {
     "duration": 0.026711,
     "end_time": "2024-04-17T08:20:59.833704",
     "exception": false,
     "start_time": "2024-04-17T08:20:59.806993",
     "status": "completed"
    },
    "tags": []
   },
   "source": [
    "## Special Tokens\n",
    "``[SEP]`` - At the end of every sentence, we need to append the special ``[SEP]`` token.\n",
    "\n",
    "This token is an artifact of two-sentence tasks, where BERT is given two separate sentences and asked to determine something (remeber BERT was trained intially to perdict question-answering task).\n",
    "\n",
    "``[CLS]`` - For classification tasks, we must prepend the special ``[CLS]`` token to the beginning of every sentence.\n",
    "\n",
    "This token has special significance. BERT consists of 12 Transformer layers. Each transformer takes in a list of token embeddings, and produces the same number of embeddings on the output.\n",
    "\n",
    "So now let's see how to encode the two questions together:"
   ]
  },
  {
   "cell_type": "code",
   "execution_count": 10,
   "id": "02989750",
   "metadata": {
    "execution": {
     "iopub.execute_input": "2024-04-17T08:20:59.889302Z",
     "iopub.status.busy": "2024-04-17T08:20:59.888695Z",
     "iopub.status.idle": "2024-04-17T08:20:59.896338Z",
     "shell.execute_reply": "2024-04-17T08:20:59.895370Z"
    },
    "papermill": {
     "duration": 0.037546,
     "end_time": "2024-04-17T08:20:59.898263",
     "exception": false,
     "start_time": "2024-04-17T08:20:59.860717",
     "status": "completed"
    },
    "tags": []
   },
   "outputs": [
    {
     "data": {
      "text/plain": [
       "'[CLS]How is the life of a math student? Could you describe your own experiences?[SEP]Which level of prepration is enough for the exam jlpt5?[SEP]'"
      ]
     },
     "execution_count": 10,
     "metadata": {},
     "output_type": "execute_result"
    }
   ],
   "source": [
    "example_question_1 = train_qqp['question1'][0]\n",
    "example_question_2 = train_qqp['question2'][0]\n",
    "\n",
    "encoded_pair = tokenizer.encode(example_question_1, example_question_2)\n",
    "tokenizer.decode(encoded_pair)"
   ]
  },
  {
   "cell_type": "markdown",
   "id": "132a622a",
   "metadata": {
    "papermill": {
     "duration": 0.026326,
     "end_time": "2024-04-17T08:20:59.951359",
     "exception": false,
     "start_time": "2024-04-17T08:20:59.925033",
     "status": "completed"
    },
    "tags": []
   },
   "source": [
    "## Sentence Length\n",
    "\n",
    "The sentences in our dataset obviously have varying lengths, so how does BERT handle this?\n",
    "\n",
    "BERT has two constraints:\n",
    "\n",
    "1. All sentences must be padded or truncated to a single, fixed length.\n",
    "2. The maximum sentence length is 512 tokens.\n",
    "Padding is done with a special ``[PAD]`` token, which is at index 0 in the BERT vocabulary.\n",
    "\n",
    "The maximum length does impact training and evaluation speed.\n",
    "\n",
    "Before we are ready to encode our text, though, we need to decide on a maximum sentence length for padding / truncating to.\n",
    "\n",
    "Let's find the maximum length:"
   ]
  },
  {
   "cell_type": "code",
   "execution_count": 11,
   "id": "6dc2d03a",
   "metadata": {
    "execution": {
     "iopub.execute_input": "2024-04-17T08:21:00.006424Z",
     "iopub.status.busy": "2024-04-17T08:21:00.005718Z",
     "iopub.status.idle": "2024-04-17T08:21:03.786797Z",
     "shell.execute_reply": "2024-04-17T08:21:03.785782Z"
    },
    "papermill": {
     "duration": 3.811161,
     "end_time": "2024-04-17T08:21:03.788929",
     "exception": false,
     "start_time": "2024-04-17T08:20:59.977768",
     "status": "completed"
    },
    "tags": []
   },
   "outputs": [
    {
     "name": "stderr",
     "output_type": "stream",
     "text": [
      "100%|██████████| 20000/20000 [00:01<00:00, 10826.26it/s]\n",
      "100%|██████████| 20000/20000 [00:01<00:00, 10445.13it/s]"
     ]
    },
    {
     "name": "stdout",
     "output_type": "stream",
     "text": [
      "The maximum sentence length is  297\n"
     ]
    },
    {
     "name": "stderr",
     "output_type": "stream",
     "text": [
      "\n"
     ]
    }
   ],
   "source": [
    "tqdm.pandas()\n",
    "train_qqp[\"question1_length\"] = train_qqp[\"question1\"].progress_apply(lambda question: \n",
    "                                                        len(tokenizer.tokenize(question)))\n",
    "train_qqp[\"question2_length\"] = train_qqp[\"question2\"].progress_apply(lambda question: \n",
    "                                                        len(tokenizer.tokenize(question)))\n",
    "train_qqp[\"joint_length\"] = train_qqp[\"question1_length\"] + train_qqp[\"question2_length\"]\n",
    "\n",
    "MAX_LENGTH = train_qqp[\"joint_length\"].max()\n",
    "\n",
    "print(\"The maximum sentence length is \", MAX_LENGTH)"
   ]
  },
  {
   "cell_type": "markdown",
   "id": "d83c6445",
   "metadata": {
    "papermill": {
     "duration": 0.030215,
     "end_time": "2024-04-17T08:21:03.850193",
     "exception": false,
     "start_time": "2024-04-17T08:21:03.819978",
     "status": "completed"
    },
    "tags": []
   },
   "source": [
    "### Now we construct the training, validation, testing dataset with known labels and testing dataset with unknown labels"
   ]
  },
  {
   "cell_type": "code",
   "execution_count": 12,
   "id": "9b7bdf7a",
   "metadata": {
    "execution": {
     "iopub.execute_input": "2024-04-17T08:21:03.911989Z",
     "iopub.status.busy": "2024-04-17T08:21:03.911608Z",
     "iopub.status.idle": "2024-04-17T08:21:03.928522Z",
     "shell.execute_reply": "2024-04-17T08:21:03.927788Z"
    },
    "papermill": {
     "duration": 0.050224,
     "end_time": "2024-04-17T08:21:03.930506",
     "exception": false,
     "start_time": "2024-04-17T08:21:03.880282",
     "status": "completed"
    },
    "tags": []
   },
   "outputs": [],
   "source": [
    "X_train, X_test_known_labels, y_train, y_test_known_labels = train_test_split(train_qqp[[\"question1\", \"question2\"]], \n",
    "                                                    train_qqp[\"is_duplicate\"], test_size=0.2, random_state=42)\n",
    "X_val = dev_qqp[[\"question1\", \"question2\"]]\n",
    "y_val = dev_qqp[\"is_duplicate\"]\n",
    "\n",
    "X_test_unknown_labels = test_unknown_label_qqp[[\"question1\", \"question2\"]]"
   ]
  },
  {
   "cell_type": "markdown",
   "id": "70181988",
   "metadata": {
    "papermill": {
     "duration": 0.030217,
     "end_time": "2024-04-17T08:21:03.990827",
     "exception": false,
     "start_time": "2024-04-17T08:21:03.960610",
     "status": "completed"
    },
    "tags": []
   },
   "source": [
    "# Tokenize dataset and create Dataloader\n",
    "\n",
    "Now we’re ready to perform the real tokenization.\n",
    "\n",
    "The tokenizer.encode_plus function combines multiple steps for us:\n",
    "\n",
    "1. Split the sentence into tokens.\n",
    "2. Add the special ``[CLS]`` and ``[SEP]`` tokens.\n",
    "3. Map the tokens to their IDs.\n",
    "4. Pad or truncate all sentences to the same length.\n",
    "5. Create the attention masks which explicitly differentiate real tokens from ``[PAD]`` tokens.\n",
    "\n",
    "Documentation is [here](https://huggingface.co/transformers/main_classes/tokenizer.html?highlight=encode_plus#transformers.PreTrainedTokenizer.encode_plus)."
   ]
  },
  {
   "cell_type": "code",
   "execution_count": 13,
   "id": "b7a27bef",
   "metadata": {
    "execution": {
     "iopub.execute_input": "2024-04-17T08:21:04.052266Z",
     "iopub.status.busy": "2024-04-17T08:21:04.051953Z",
     "iopub.status.idle": "2024-04-17T08:21:04.066516Z",
     "shell.execute_reply": "2024-04-17T08:21:04.065693Z"
    },
    "papermill": {
     "duration": 0.047343,
     "end_time": "2024-04-17T08:21:04.068382",
     "exception": false,
     "start_time": "2024-04-17T08:21:04.021039",
     "status": "completed"
    },
    "tags": []
   },
   "outputs": [
    {
     "data": {
      "text/plain": [
       "{'input_ids': tensor([[    1,  1106, 17923,    56,  3360,     9,  2668,    18, 11809,    99,\n",
       "            74,    37,   109,   116,     2,  6179,    16,   295,   324,   438,\n",
       "           364,  1755,   132,  1187,  3294,   116,     2,     0,     0,     0,\n",
       "             0,     0,     0,     0,     0,     0,     0,     0,     0,     0,\n",
       "             0,     0,     0,     0,     0,     0,     0,     0,     0,     0,\n",
       "             0,     0,     0,     0,     0,     0,     0,     0,     0,     0,\n",
       "             0,     0,     0,     0,     0,     0,     0,     0,     0,     0,\n",
       "             0,     0,     0,     0,     0,     0,     0,     0,     0,     0,\n",
       "             0,     0,     0,     0,     0,     0,     0,     0,     0,     0,\n",
       "             0,     0,     0,     0,     0,     0,     0,     0,     0,     0,\n",
       "             0,     0,     0,     0,     0,     0,     0,     0,     0,     0,\n",
       "             0,     0,     0,     0,     0,     0,     0,     0,     0,     0,\n",
       "             0,     0,     0,     0,     0,     0,     0,     0,     0,     0,\n",
       "             0,     0,     0,     0,     0,     0,     0,     0,     0,     0,\n",
       "             0,     0,     0,     0,     0,     0,     0,     0,     0,     0,\n",
       "             0,     0,     0,     0,     0,     0,     0,     0,     0,     0,\n",
       "             0,     0,     0,     0,     0,     0,     0,     0,     0,     0,\n",
       "             0,     0,     0,     0,     0,     0,     0,     0,     0,     0,\n",
       "             0,     0,     0,     0,     0,     0,     0,     0,     0,     0,\n",
       "             0,     0,     0,     0,     0,     0,     0,     0,     0,     0,\n",
       "             0,     0,     0,     0,     0,     0,     0,     0,     0,     0,\n",
       "             0,     0,     0,     0,     0,     0,     0,     0,     0,     0,\n",
       "             0,     0,     0,     0,     0,     0,     0,     0,     0,     0,\n",
       "             0,     0,     0,     0,     0,     0,     0,     0,     0,     0,\n",
       "             0,     0,     0,     0,     0,     0,     0,     0,     0,     0,\n",
       "             0,     0,     0,     0,     0,     0,     0,     0,     0,     0,\n",
       "             0,     0,     0,     0,     0,     0,     0,     0,     0,     0,\n",
       "             0,     0,     0,     0,     0,     0,     0,     0,     0,     0,\n",
       "             0,     0,     0,     0,     0,     0,     0,     0,     0,     0,\n",
       "             0,     0,     0,     0,     0,     0,     0,     0,     0,     0,\n",
       "             0,     0,     0,     0,     0,     0,     0,     0,     0,     0,\n",
       "             0,     0,     0,     0,     0,     0,     0,     0,     0,     0,\n",
       "             0,     0,     0,     0,     0,     0,     0]]), 'token_type_ids': tensor([[0, 0, 0, 0, 0, 0, 0, 0, 0, 0, 0, 0, 0, 0, 0, 1, 1, 1, 1, 1, 1, 1, 1, 1,\n",
       "         1, 1, 1, 0, 0, 0, 0, 0, 0, 0, 0, 0, 0, 0, 0, 0, 0, 0, 0, 0, 0, 0, 0, 0,\n",
       "         0, 0, 0, 0, 0, 0, 0, 0, 0, 0, 0, 0, 0, 0, 0, 0, 0, 0, 0, 0, 0, 0, 0, 0,\n",
       "         0, 0, 0, 0, 0, 0, 0, 0, 0, 0, 0, 0, 0, 0, 0, 0, 0, 0, 0, 0, 0, 0, 0, 0,\n",
       "         0, 0, 0, 0, 0, 0, 0, 0, 0, 0, 0, 0, 0, 0, 0, 0, 0, 0, 0, 0, 0, 0, 0, 0,\n",
       "         0, 0, 0, 0, 0, 0, 0, 0, 0, 0, 0, 0, 0, 0, 0, 0, 0, 0, 0, 0, 0, 0, 0, 0,\n",
       "         0, 0, 0, 0, 0, 0, 0, 0, 0, 0, 0, 0, 0, 0, 0, 0, 0, 0, 0, 0, 0, 0, 0, 0,\n",
       "         0, 0, 0, 0, 0, 0, 0, 0, 0, 0, 0, 0, 0, 0, 0, 0, 0, 0, 0, 0, 0, 0, 0, 0,\n",
       "         0, 0, 0, 0, 0, 0, 0, 0, 0, 0, 0, 0, 0, 0, 0, 0, 0, 0, 0, 0, 0, 0, 0, 0,\n",
       "         0, 0, 0, 0, 0, 0, 0, 0, 0, 0, 0, 0, 0, 0, 0, 0, 0, 0, 0, 0, 0, 0, 0, 0,\n",
       "         0, 0, 0, 0, 0, 0, 0, 0, 0, 0, 0, 0, 0, 0, 0, 0, 0, 0, 0, 0, 0, 0, 0, 0,\n",
       "         0, 0, 0, 0, 0, 0, 0, 0, 0, 0, 0, 0, 0, 0, 0, 0, 0, 0, 0, 0, 0, 0, 0, 0,\n",
       "         0, 0, 0, 0, 0, 0, 0, 0, 0, 0, 0, 0, 0, 0, 0, 0, 0, 0, 0, 0, 0, 0, 0, 0,\n",
       "         0, 0, 0, 0, 0, 0, 0, 0, 0, 0, 0, 0, 0, 0, 0]]), 'attention_mask': tensor([[1, 1, 1, 1, 1, 1, 1, 1, 1, 1, 1, 1, 1, 1, 1, 1, 1, 1, 1, 1, 1, 1, 1, 1,\n",
       "         1, 1, 1, 0, 0, 0, 0, 0, 0, 0, 0, 0, 0, 0, 0, 0, 0, 0, 0, 0, 0, 0, 0, 0,\n",
       "         0, 0, 0, 0, 0, 0, 0, 0, 0, 0, 0, 0, 0, 0, 0, 0, 0, 0, 0, 0, 0, 0, 0, 0,\n",
       "         0, 0, 0, 0, 0, 0, 0, 0, 0, 0, 0, 0, 0, 0, 0, 0, 0, 0, 0, 0, 0, 0, 0, 0,\n",
       "         0, 0, 0, 0, 0, 0, 0, 0, 0, 0, 0, 0, 0, 0, 0, 0, 0, 0, 0, 0, 0, 0, 0, 0,\n",
       "         0, 0, 0, 0, 0, 0, 0, 0, 0, 0, 0, 0, 0, 0, 0, 0, 0, 0, 0, 0, 0, 0, 0, 0,\n",
       "         0, 0, 0, 0, 0, 0, 0, 0, 0, 0, 0, 0, 0, 0, 0, 0, 0, 0, 0, 0, 0, 0, 0, 0,\n",
       "         0, 0, 0, 0, 0, 0, 0, 0, 0, 0, 0, 0, 0, 0, 0, 0, 0, 0, 0, 0, 0, 0, 0, 0,\n",
       "         0, 0, 0, 0, 0, 0, 0, 0, 0, 0, 0, 0, 0, 0, 0, 0, 0, 0, 0, 0, 0, 0, 0, 0,\n",
       "         0, 0, 0, 0, 0, 0, 0, 0, 0, 0, 0, 0, 0, 0, 0, 0, 0, 0, 0, 0, 0, 0, 0, 0,\n",
       "         0, 0, 0, 0, 0, 0, 0, 0, 0, 0, 0, 0, 0, 0, 0, 0, 0, 0, 0, 0, 0, 0, 0, 0,\n",
       "         0, 0, 0, 0, 0, 0, 0, 0, 0, 0, 0, 0, 0, 0, 0, 0, 0, 0, 0, 0, 0, 0, 0, 0,\n",
       "         0, 0, 0, 0, 0, 0, 0, 0, 0, 0, 0, 0, 0, 0, 0, 0, 0, 0, 0, 0, 0, 0, 0, 0,\n",
       "         0, 0, 0, 0, 0, 0, 0, 0, 0, 0, 0, 0, 0, 0, 0]])}"
      ]
     },
     "execution_count": 13,
     "metadata": {},
     "output_type": "execute_result"
    }
   ],
   "source": [
    "MAX_LENGTH = 327\n",
    "\n",
    "tokenizer.encode_plus(X_train.iloc[0][\"question1\"], \n",
    "                      X_train.iloc[0][\"question2\"], \n",
    "                      max_length=MAX_LENGTH, \n",
    "                      padding='max_length', \n",
    "                      return_attention_mask=True, \n",
    "                      return_tensors='pt', \n",
    "                      truncation=True)"
   ]
  },
  {
   "cell_type": "markdown",
   "id": "f2d93151",
   "metadata": {
    "papermill": {
     "duration": 0.030689,
     "end_time": "2024-04-17T08:21:04.129711",
     "exception": false,
     "start_time": "2024-04-17T08:21:04.099022",
     "status": "completed"
    },
    "tags": []
   },
   "source": [
    "So what we got:\n",
    "\n",
    "1. input_ids - Token ids padded with 0 at the end.\n",
    "2. token_type_ids - This array indicates bert what is the first sentence and what is the seconds. In case of classification of only one sentance this array is redundant.\n",
    "3. attention_mask - The “Attention Mask” is simply an array of 1s and 0s indicating which tokens are padding and which aren’t. This mask tells the “Self-Attention” mechanism in BERT not to incorporate these ``[PAD]`` tokens into its interpretation of the sentence.\n",
    "\n",
    "All the array are in the size of ``max_length``."
   ]
  },
  {
   "cell_type": "code",
   "execution_count": 14,
   "id": "d018dcd5",
   "metadata": {
    "execution": {
     "iopub.execute_input": "2024-04-17T08:21:04.191887Z",
     "iopub.status.busy": "2024-04-17T08:21:04.191543Z",
     "iopub.status.idle": "2024-04-17T08:21:04.201826Z",
     "shell.execute_reply": "2024-04-17T08:21:04.200984Z"
    },
    "papermill": {
     "duration": 0.043626,
     "end_time": "2024-04-17T08:21:04.203707",
     "exception": false,
     "start_time": "2024-04-17T08:21:04.160081",
     "status": "completed"
    },
    "tags": []
   },
   "outputs": [],
   "source": [
    "def convert_to_dataset_torch(features, labels):\n",
    "    input_ids = []\n",
    "    attention_masks = []\n",
    "    token_type_ids = []\n",
    "    for _, row in tqdm(features.iterrows(), total=features.shape[0]):\n",
    "        encoded_dict = tokenizer.encode_plus(row[\"question1\"], \n",
    "                                             row[\"question2\"], \n",
    "                                             padding='max_length', \n",
    "                                             return_attention_mask=True, \n",
    "                                             return_tensors='pt', \n",
    "                                             truncation=True)\n",
    "        # print(encoded_dict.keys())\n",
    "        \n",
    "        # Add the encoded sentences to the list.\n",
    "        input_ids.append(encoded_dict['input_ids'])\n",
    "        # And its attention mask (simply differentiates padding from non-padding).\n",
    "        attention_masks.append(encoded_dict['attention_mask'])\n",
    "        \n",
    "        if bert_model_name in [\"bert-base-uncased\", \"albert-base-v2\", \"deberta-base\"]:\n",
    "            token_type_ids.append(encoded_dict[\"token_type_ids\"])\n",
    "        \n",
    "    # Convert the lists into tensors.\n",
    "    if bert_model_name in [\"bert-base-uncased\", \"albert-base-v2\", \"deberta-base\"]:\n",
    "\n",
    "        input_ids = torch.cat(input_ids, dim=0)\n",
    "        token_type_ids = torch.cat(token_type_ids, dim=0)\n",
    "        attention_masks = torch.cat(attention_masks, dim=0)\n",
    "        labels = torch.tensor(labels.values)\n",
    "        \n",
    "        print(\"Shape of input_ids is\", input_ids.shape)\n",
    "        print(\"Shape of token_type_ids is\", token_type_ids.shape)\n",
    "        print(\"Shape of attention_masks is\", attention_masks.shape)\n",
    "        print(\"Shape of labels is\", labels.shape)\n",
    "        \n",
    "        return TensorDataset(input_ids, attention_masks, token_type_ids, labels)\n",
    "    \n",
    "    elif bert_model_name in [\"roberta-base\", \"distilbert-base-uncased\"]:\n",
    "        # roberta does not have token_type_ids\n",
    "        input_ids = torch.cat(input_ids, dim=0)\n",
    "        attention_masks = torch.cat(attention_masks, dim=0)\n",
    "        labels = torch.tensor(labels.values)\n",
    "        \n",
    "        print(\"Shape of input_ids is\", input_ids.shape)\n",
    "        print(\"Shape of attention_masks is\", attention_masks.shape)\n",
    "        print(\"Shape of labels is\", labels.shape)\n",
    "        \n",
    "        return TensorDataset(input_ids, attention_masks, labels)\n",
    "    "
   ]
  },
  {
   "cell_type": "markdown",
   "id": "60fe1dc2",
   "metadata": {
    "papermill": {
     "duration": 0.030233,
     "end_time": "2024-04-17T08:21:04.264281",
     "exception": false,
     "start_time": "2024-04-17T08:21:04.234048",
     "status": "completed"
    },
    "tags": []
   },
   "source": [
    "We’ll also create an iterator for our dataset using the torch DataLoader class. This helps save on memory during training because, unlike a for loop, with an iterator the entire dataset does not need to be loaded into memory:"
   ]
  },
  {
   "cell_type": "code",
   "execution_count": 15,
   "id": "ee7a1be1",
   "metadata": {
    "execution": {
     "iopub.execute_input": "2024-04-17T08:21:04.325957Z",
     "iopub.status.busy": "2024-04-17T08:21:04.325653Z",
     "iopub.status.idle": "2024-04-17T08:21:20.467907Z",
     "shell.execute_reply": "2024-04-17T08:21:20.466856Z"
    },
    "papermill": {
     "duration": 16.175609,
     "end_time": "2024-04-17T08:21:20.470097",
     "exception": false,
     "start_time": "2024-04-17T08:21:04.294488",
     "status": "completed"
    },
    "tags": []
   },
   "outputs": [
    {
     "name": "stderr",
     "output_type": "stream",
     "text": [
      "100%|██████████| 16000/16000 [00:15<00:00, 1008.06it/s]\n"
     ]
    },
    {
     "name": "stdout",
     "output_type": "stream",
     "text": [
      "Shape of input_ids is torch.Size([16000, 512])\n",
      "Shape of token_type_ids is torch.Size([16000, 512])\n",
      "Shape of attention_masks is torch.Size([16000, 512])\n",
      "Shape of labels is torch.Size([16000])\n"
     ]
    }
   ],
   "source": [
    "train_tensor = convert_to_dataset_torch(X_train, y_train)"
   ]
  },
  {
   "cell_type": "code",
   "execution_count": 16,
   "id": "7689168f",
   "metadata": {
    "execution": {
     "iopub.execute_input": "2024-04-17T08:21:20.561573Z",
     "iopub.status.busy": "2024-04-17T08:21:20.560526Z",
     "iopub.status.idle": "2024-04-17T08:21:22.528891Z",
     "shell.execute_reply": "2024-04-17T08:21:22.527887Z"
    },
    "papermill": {
     "duration": 2.015591,
     "end_time": "2024-04-17T08:21:22.531086",
     "exception": false,
     "start_time": "2024-04-17T08:21:20.515495",
     "status": "completed"
    },
    "tags": []
   },
   "outputs": [
    {
     "name": "stderr",
     "output_type": "stream",
     "text": [
      "100%|██████████| 2000/2000 [00:01<00:00, 1027.50it/s]"
     ]
    },
    {
     "name": "stdout",
     "output_type": "stream",
     "text": [
      "Shape of input_ids is torch.Size([2000, 512])\n",
      "Shape of token_type_ids is torch.Size([2000, 512])\n",
      "Shape of attention_masks is torch.Size([2000, 512])\n",
      "Shape of labels is torch.Size([2000])\n"
     ]
    },
    {
     "name": "stderr",
     "output_type": "stream",
     "text": [
      "\n"
     ]
    }
   ],
   "source": [
    "val_tensor = convert_to_dataset_torch(X_val, y_val)"
   ]
  },
  {
   "cell_type": "code",
   "execution_count": 17,
   "id": "dd4988dd",
   "metadata": {
    "execution": {
     "iopub.execute_input": "2024-04-17T08:21:22.623263Z",
     "iopub.status.busy": "2024-04-17T08:21:22.622936Z",
     "iopub.status.idle": "2024-04-17T08:21:22.630225Z",
     "shell.execute_reply": "2024-04-17T08:21:22.629201Z"
    },
    "papermill": {
     "duration": 0.055483,
     "end_time": "2024-04-17T08:21:22.632054",
     "exception": false,
     "start_time": "2024-04-17T08:21:22.576571",
     "status": "completed"
    },
    "tags": []
   },
   "outputs": [],
   "source": [
    "import multiprocessing\n",
    "\n",
    "from torch.utils.data import DataLoader, RandomSampler, SequentialSampler\n",
    "\n",
    "# The DataLoader needs to know our batch size for training, so we specify it here.\n",
    "\n",
    "batch_size = 5\n",
    "\n",
    "core_number = multiprocessing.cpu_count()\n",
    "\n",
    "# Create the DataLoaders for our training and validation sets.\n",
    "# We'll take training samples in random order. \n",
    "train_dataloader = DataLoader(\n",
    "            train_tensor,  # The training samples.\n",
    "            sampler = RandomSampler(train_tensor), # Select batches randomly\n",
    "            batch_size = batch_size, # Trains with this batch size.\n",
    "            num_workers = core_number\n",
    "        )\n",
    "\n",
    "# For validation the order doesn't matter, so we'll just read them sequentially.\n",
    "val_dataloader = DataLoader(\n",
    "            val_tensor, # The validation samples.\n",
    "            sampler = SequentialSampler(val_tensor), # Pull out batches sequentially.\n",
    "            batch_size = batch_size, # Evaluate with this batch size.\n",
    "            num_workers = core_number\n",
    "        )"
   ]
  },
  {
   "cell_type": "markdown",
   "id": "5606f892",
   "metadata": {
    "papermill": {
     "duration": 0.045377,
     "end_time": "2024-04-17T08:21:22.722675",
     "exception": false,
     "start_time": "2024-04-17T08:21:22.677298",
     "status": "completed"
    },
    "tags": []
   },
   "source": [
    "# Training Loop\n",
    "Helper function for formatting elapsed times as ``hh:mm:ss``:"
   ]
  },
  {
   "cell_type": "code",
   "execution_count": 18,
   "id": "3083dc86",
   "metadata": {
    "execution": {
     "iopub.execute_input": "2024-04-17T08:21:22.814469Z",
     "iopub.status.busy": "2024-04-17T08:21:22.813651Z",
     "iopub.status.idle": "2024-04-17T08:21:22.819230Z",
     "shell.execute_reply": "2024-04-17T08:21:22.818287Z"
    },
    "papermill": {
     "duration": 0.053034,
     "end_time": "2024-04-17T08:21:22.821241",
     "exception": false,
     "start_time": "2024-04-17T08:21:22.768207",
     "status": "completed"
    },
    "tags": []
   },
   "outputs": [],
   "source": [
    "import time\n",
    "import datetime\n",
    "\n",
    "def format_time(elapsed):\n",
    "    '''\n",
    "    Takes a time in seconds and returns a string hh:mm:ss\n",
    "    '''\n",
    "    # Round to the nearest second.\n",
    "    elapsed_rounded = int(round((elapsed)))\n",
    "    \n",
    "    # Format as hh:mm:ss\n",
    "    return str(datetime.timedelta(seconds=elapsed_rounded))"
   ]
  },
  {
   "cell_type": "markdown",
   "id": "23823676",
   "metadata": {
    "papermill": {
     "duration": 0.044342,
     "end_time": "2024-04-17T08:21:22.909997",
     "exception": false,
     "start_time": "2024-04-17T08:21:22.865655",
     "status": "completed"
    },
    "tags": []
   },
   "source": [
    "### This function trains the batches from the train_dataloader"
   ]
  },
  {
   "cell_type": "code",
   "execution_count": 19,
   "id": "8c3cbaa1",
   "metadata": {
    "execution": {
     "iopub.execute_input": "2024-04-17T08:21:23.002395Z",
     "iopub.status.busy": "2024-04-17T08:21:23.001792Z",
     "iopub.status.idle": "2024-04-17T08:21:23.012935Z",
     "shell.execute_reply": "2024-04-17T08:21:23.011989Z"
    },
    "papermill": {
     "duration": 0.059702,
     "end_time": "2024-04-17T08:21:23.014924",
     "exception": false,
     "start_time": "2024-04-17T08:21:22.955222",
     "status": "completed"
    },
    "tags": []
   },
   "outputs": [],
   "source": [
    "def train_batch(epoch, bert_classification_model, train_dataloader, optimizer, scheduler, metric):\n",
    "    \n",
    "    total_train_loss = 0\n",
    "    total_train_accuracy = 0\n",
    "    \n",
    "    for batch in tqdm(train_dataloader, desc=f\"Training epoch: {epoch}\", unit=\"batch\"):\n",
    "        \n",
    "        if bert_model_name in [\"bert-base-uncased\", \"albert-base-v2\", \"deberta-base\"]:\n",
    "\n",
    "            # Unpack batch from dataloader.\n",
    "            input_ids = batch[0].to(device)\n",
    "            attention_masks = batch[1].to(device)\n",
    "            token_type_ids = batch[2].to(device)\n",
    "            labels = batch[3].to(device)\n",
    "            \n",
    "            bert_classification_model.zero_grad()\n",
    "            \n",
    "            # Forward pass\n",
    "            outputs = bert_classification_model(input_ids, \n",
    "                                token_type_ids=token_type_ids, \n",
    "                                attention_mask=attention_masks, \n",
    "                                labels=labels)\n",
    "            \n",
    "        elif bert_model_name in [\"roberta-base\", \"distilbert-base-uncased\"]:\n",
    "            # Unpack batch from dataloader.\n",
    "            input_ids = batch[0].to(device)\n",
    "            attention_masks = batch[1].to(device)\n",
    "            labels = batch[2].to(device)\n",
    "            \n",
    "            bert_classification_model.zero_grad()\n",
    "            \n",
    "            # Forward pass\n",
    "            outputs = bert_classification_model(input_ids, \n",
    "                                attention_mask=attention_masks, \n",
    "                                labels=labels)\n",
    "            \n",
    "        loss = outputs.loss\n",
    "        logits = outputs.logits\n",
    "\n",
    "        total_train_loss += loss.item()\n",
    "\n",
    "        # Perform a backward pass to calculate the gradients.\n",
    "        loss.backward()\n",
    "\n",
    "        # Clip the norm of the gradients to 1.0.\n",
    "        # This is to help prevent the \"exploding gradients\" problem.\n",
    "        torch.nn.utils.clip_grad_norm_(bert_classification_model.parameters(), 1.0)\n",
    "        optimizer.step()\n",
    "        scheduler.step()\n",
    "        \n",
    "        y_pred = np.argmax(logits.cpu().detach().numpy(), axis=1).flatten()\n",
    "        \n",
    "        total_train_accuracy += metric(labels.cpu(), y_pred)\n",
    "\n",
    "    return total_train_loss, total_train_accuracy"
   ]
  },
  {
   "cell_type": "markdown",
   "id": "4f384728",
   "metadata": {
    "papermill": {
     "duration": 0.045443,
     "end_time": "2024-04-17T08:21:23.106112",
     "exception": false,
     "start_time": "2024-04-17T08:21:23.060669",
     "status": "completed"
    },
    "tags": []
   },
   "source": [
    "### This function validates the batches from the val_dataloader"
   ]
  },
  {
   "cell_type": "code",
   "execution_count": 20,
   "id": "24507874",
   "metadata": {
    "execution": {
     "iopub.execute_input": "2024-04-17T08:21:23.201111Z",
     "iopub.status.busy": "2024-04-17T08:21:23.200417Z",
     "iopub.status.idle": "2024-04-17T08:21:23.211230Z",
     "shell.execute_reply": "2024-04-17T08:21:23.210361Z"
    },
    "papermill": {
     "duration": 0.059472,
     "end_time": "2024-04-17T08:21:23.213256",
     "exception": false,
     "start_time": "2024-04-17T08:21:23.153784",
     "status": "completed"
    },
    "tags": []
   },
   "outputs": [],
   "source": [
    "def val_batch(epoch, bert_classification_model, val_dataloader, metric):\n",
    "    total_val_loss = 0\n",
    "    total_val_accuracy = 0\n",
    "    predicted_logits , predicted_labels = [], []\n",
    "    \n",
    "    for batch in tqdm(val_dataloader, desc=f\"Validating epoch: {epoch}\", unit=\"batch\"):\n",
    "        # Unpack batch from dataloader.\n",
    "        \n",
    "        if bert_model_name in [\"bert-base-uncased\", \"albert-base-v2\", \"deberta-base\"]:\n",
    "            input_ids = batch[0].to(device)\n",
    "            attention_masks = batch[1].to(device)\n",
    "            token_type_ids = batch[2].to(device)\n",
    "            labels = batch[3].to(device)\n",
    "\n",
    "            with torch.no_grad():\n",
    "                # Forward pass, calculate logit predictions.\n",
    "                outputs = bert_classification_model(input_ids, \n",
    "                                    token_type_ids=token_type_ids, \n",
    "                                    attention_mask=attention_masks,\n",
    "                                    labels=labels)\n",
    "                loss = outputs.loss\n",
    "                logits = outputs.logits\n",
    "                \n",
    "        elif bert_model_name in [\"roberta-base\", \"distilbert-base-uncased\"]:\n",
    "            input_ids = batch[0].to(device)\n",
    "            attention_masks = batch[1].to(device)\n",
    "            labels = batch[2].to(device)\n",
    "\n",
    "            with torch.no_grad():\n",
    "                # Forward pass, calculate logit predictions.\n",
    "                outputs = bert_classification_model(input_ids, \n",
    "                                    attention_mask=attention_masks,\n",
    "                                    labels=labels)\n",
    "                loss = outputs.loss\n",
    "                logits = outputs.logits\n",
    "            \n",
    "        total_val_loss += loss.item()\n",
    "        \n",
    "        y_pred = np.argmax(logits.cpu().detach().numpy(), axis=1).flatten()\n",
    "        \n",
    "        total_val_accuracy += metric(labels.cpu(), y_pred)\n",
    "        \n",
    "        predicted_logits.extend(logits.cpu().detach().numpy().tolist())\n",
    "        predicted_labels.extend(y_pred.tolist())\n",
    "    \n",
    "    return total_val_loss, total_val_accuracy, predicted_logits, predicted_labels"
   ]
  },
  {
   "cell_type": "markdown",
   "id": "6fe73bc5",
   "metadata": {
    "papermill": {
     "duration": 0.04484,
     "end_time": "2024-04-17T08:21:23.303216",
     "exception": false,
     "start_time": "2024-04-17T08:21:23.258376",
     "status": "completed"
    },
    "tags": []
   },
   "source": [
    "### This function predicts the classes of the batches from the test_dataloader. Now the test_dataloader only contains X_test without y_test (which is None)"
   ]
  },
  {
   "cell_type": "code",
   "execution_count": 21,
   "id": "b8eb99e9",
   "metadata": {
    "execution": {
     "iopub.execute_input": "2024-04-17T08:21:23.395439Z",
     "iopub.status.busy": "2024-04-17T08:21:23.394721Z",
     "iopub.status.idle": "2024-04-17T08:21:23.403892Z",
     "shell.execute_reply": "2024-04-17T08:21:23.403008Z"
    },
    "papermill": {
     "duration": 0.057472,
     "end_time": "2024-04-17T08:21:23.405776",
     "exception": false,
     "start_time": "2024-04-17T08:21:23.348304",
     "status": "completed"
    },
    "tags": []
   },
   "outputs": [],
   "source": [
    "def predict_batch(bert_classification_model, predict_dataloader):\n",
    "    \n",
    "    predicted_logits , predicted_labels = [], []\n",
    "    \n",
    "    for batch in tqdm(predict_dataloader, desc=f\"Predicting\", unit=\"batch\"):\n",
    "        # Unpack batch from dataloader.\n",
    "        \n",
    "        if bert_model_name in [\"bert-base-uncased\", \"albert-base-v2\", \"deberta-base\"]:\n",
    "            input_ids = batch[0].to(device)\n",
    "            attention_masks = batch[1].to(device)\n",
    "            token_type_ids = batch[2].to(device)\n",
    "\n",
    "            with torch.no_grad():\n",
    "                # Forward pass, calculate logit predictions.\n",
    "                outputs = bert_classification_model(input_ids, \n",
    "                                    token_type_ids=token_type_ids, \n",
    "                                    attention_mask=attention_masks)\n",
    "                logits = outputs.logits\n",
    "                \n",
    "        elif bert_model_name in [\"roberta-base\", \"distilbert-base-uncased\"]:\n",
    "            input_ids = batch[0].to(device)\n",
    "            attention_masks = batch[1].to(device)\n",
    "\n",
    "            with torch.no_grad():\n",
    "                # Forward pass, calculate logit predictions.\n",
    "                outputs = bert_classification_model(input_ids, \n",
    "                                    attention_mask=attention_masks)\n",
    "                logits = outputs.logits\n",
    "            \n",
    "        y_pred = np.argmax(logits.cpu().detach().numpy(), axis=1).flatten()\n",
    "                \n",
    "        predicted_logits.extend(logits.cpu().detach().numpy().tolist())\n",
    "        predicted_labels.extend(y_pred.tolist())\n",
    "    \n",
    "    return predicted_logits, predicted_labels"
   ]
  },
  {
   "cell_type": "code",
   "execution_count": 22,
   "id": "9fc0a79e",
   "metadata": {
    "execution": {
     "iopub.execute_input": "2024-04-17T08:21:23.499777Z",
     "iopub.status.busy": "2024-04-17T08:21:23.499355Z",
     "iopub.status.idle": "2024-04-17T08:21:23.520839Z",
     "shell.execute_reply": "2024-04-17T08:21:23.519964Z"
    },
    "papermill": {
     "duration": 0.071111,
     "end_time": "2024-04-17T08:21:23.522823",
     "exception": false,
     "start_time": "2024-04-17T08:21:23.451712",
     "status": "completed"
    },
    "tags": []
   },
   "outputs": [],
   "source": [
    "import random\n",
    "\n",
    "seed_val = 42\n",
    "\n",
    "random.seed(seed_val)\n",
    "np.random.seed(seed_val)\n",
    "torch.manual_seed(seed_val)\n",
    "\n",
    "def fine_tuning_pretrained_model(epochs, bert_classification_model, \n",
    "                                 train_dataloader, \n",
    "                                 val_dataloader, \n",
    "                                 optimizer, \n",
    "                                 scheduler,\n",
    "                                 metric\n",
    "                                 ):\n",
    "    \n",
    "    fine_tuning_statistics = []\n",
    "    \n",
    "    for epoch in range(1, epochs + 1):\n",
    "\n",
    "        #################\n",
    "        # TRAINING PART #\n",
    "        #################\n",
    "\n",
    "        t_begin_train = time.time()\n",
    "        \n",
    "        bert_classification_model.train()\n",
    "        \n",
    "        total_train_loss, total_train_accuracy = train_batch(epoch,\n",
    "                                       bert_classification_model,\n",
    "                                       train_dataloader,\n",
    "                                       optimizer,\n",
    "                                       scheduler,\n",
    "                                       metric\n",
    "                                       )\n",
    "        \n",
    "        # Calculate the average training loss for all batches.\n",
    "        average_train_loss = total_train_loss / len(train_dataloader)\n",
    "        print(f\"  Average training loss: {average_train_loss}\")\n",
    "\n",
    "        # Calculate the average training accuracy for all batches.\n",
    "        average_train_accuracy = total_train_accuracy / len(train_dataloader)\n",
    "        print(f\"  Average training accuracy: {average_train_accuracy}\")\n",
    "        \n",
    "        t_end_train = time.time()\n",
    "\n",
    "        training_time = format_time(t_end_train - t_begin_train)\n",
    "        print(f\"  Training time took: {training_time}\")\n",
    "        \n",
    "        ###################\n",
    "        # VALIDATING PART #\n",
    "        ###################\n",
    "\n",
    "        t_begin_val = time.time()\n",
    "        \n",
    "        bert_classification_model.eval()\n",
    "        \n",
    "        total_val_loss, total_val_accuracy,\\\n",
    "        predicted_logits, predicted_labels = val_batch(epoch, \n",
    "                                                        bert_classification_model,\n",
    "                                                        val_dataloader,\n",
    "                                                        metric)\n",
    "        \n",
    "        # Calculate the average validation loss for all batches.\n",
    "        average_val_loss = total_val_loss / len(val_dataloader)\n",
    "        print(f\"  Average validation loss: {average_val_loss}\")\n",
    "\n",
    "        # Calculate the average validation accuracy for all batches.\n",
    "        average_val_accuracy = total_val_accuracy / len(val_dataloader)\n",
    "        print(f\"  Average validation accuracy: {average_val_accuracy}\")\n",
    "    \n",
    "        t_end_val = time.time()\n",
    "\n",
    "        validation_time = format_time(t_end_val - t_begin_val)\n",
    "        print(f\"  Validation time took: {validation_time}\")\n",
    "    \n",
    "        # Record all statistics from this epoch.\n",
    "        fine_tuning_statistics.append(\n",
    "            {\n",
    "                'epoch': epoch,\n",
    "                'train_loss': average_train_loss,\n",
    "                'train_accuracy': average_train_accuracy,\n",
    "                'train_time': training_time,\n",
    "                'val_loss': average_val_loss,\n",
    "                'val_accuracy': average_val_accuracy,\n",
    "                'val_time': validation_time\n",
    "            }\n",
    "        )\n",
    "        \n",
    "\n",
    "    print(\"\")\n",
    "    print(\"Training complete!\")\n",
    "\n",
    "    return fine_tuning_statistics"
   ]
  },
  {
   "cell_type": "markdown",
   "id": "acbe5343",
   "metadata": {
    "papermill": {
     "duration": 0.045408,
     "end_time": "2024-04-17T08:21:23.615545",
     "exception": false,
     "start_time": "2024-04-17T08:21:23.570137",
     "status": "completed"
    },
    "tags": []
   },
   "source": [
    "# Optimizer & Learning Rate Scheduler\n",
    "Now that we have our model loaded we need to grab the training hyperparameters from within the stored model.\n",
    "\n",
    "For the purposes of fine-tuning, the authors recommend choosing from the following values (from Appendix A.3 of the [BERT paper](https://arxiv.org/pdf/1810.04805.pdf)):\n",
    "\n",
    "* Batch size: 16, 32\n",
    "* Learning rate (Adam): 5e-5, 3e-5, 2e-5\n",
    "* Number of epochs: 2, 3, 4\n",
    "\n",
    "I chose:\n",
    "* Batch size: 10 (due to memory limit of Kaggle)\n",
    "* Learning rate: 2e-5\n",
    "* Number of epochs: 4\n",
    "\n",
    "We’re ready to kick off the training:"
   ]
  },
  {
   "cell_type": "code",
   "execution_count": 23,
   "id": "23455244",
   "metadata": {
    "execution": {
     "iopub.execute_input": "2024-04-17T08:21:23.708121Z",
     "iopub.status.busy": "2024-04-17T08:21:23.707234Z",
     "iopub.status.idle": "2024-04-17T10:10:13.799335Z",
     "shell.execute_reply": "2024-04-17T10:10:13.798155Z"
    },
    "papermill": {
     "duration": 6530.140424,
     "end_time": "2024-04-17T10:10:13.801567",
     "exception": false,
     "start_time": "2024-04-17T08:21:23.661143",
     "status": "completed"
    },
    "tags": []
   },
   "outputs": [
    {
     "name": "stderr",
     "output_type": "stream",
     "text": [
      "Training epoch: 1:   0%|          | 0/3200 [00:00<?, ?batch/s]huggingface/tokenizers: The current process just got forked, after parallelism has already been used. Disabling parallelism to avoid deadlocks...\n",
      "To disable this warning, you can either:\n",
      "\t- Avoid using `tokenizers` before the fork if possible\n",
      "\t- Explicitly set the environment variable TOKENIZERS_PARALLELISM=(true | false)\n",
      "huggingface/tokenizers: The current process just got forked, after parallelism has already been used. Disabling parallelism to avoid deadlocks...\n",
      "To disable this warning, you can either:\n",
      "\t- Avoid using `tokenizers` before the fork if possible\n",
      "\t- Explicitly set the environment variable TOKENIZERS_PARALLELISM=(true | false)\n",
      "huggingface/tokenizers: The current process just got forked, after parallelism has already been used. Disabling parallelism to avoid deadlocks...\n",
      "To disable this warning, you can either:\n",
      "\t- Avoid using `tokenizers` before the fork if possible\n",
      "\t- Explicitly set the environment variable TOKENIZERS_PARALLELISM=(true | false)\n",
      "huggingface/tokenizers: The current process just got forked, after parallelism has already been used. Disabling parallelism to avoid deadlocks...\n",
      "To disable this warning, you can either:\n",
      "\t- Avoid using `tokenizers` before the fork if possible\n",
      "\t- Explicitly set the environment variable TOKENIZERS_PARALLELISM=(true | false)\n",
      "Training epoch: 1: 100%|██████████| 3200/3200 [26:12<00:00,  2.03batch/s]\n"
     ]
    },
    {
     "name": "stdout",
     "output_type": "stream",
     "text": [
      "  Average training loss: 0.514011256146332\n",
      "  Average training accuracy: 0.7924374999999952\n",
      "  Training time took: 0:26:13\n"
     ]
    },
    {
     "name": "stderr",
     "output_type": "stream",
     "text": [
      "Validating epoch: 1:   0%|          | 0/400 [00:00<?, ?batch/s]huggingface/tokenizers: The current process just got forked, after parallelism has already been used. Disabling parallelism to avoid deadlocks...\n",
      "To disable this warning, you can either:\n",
      "\t- Avoid using `tokenizers` before the fork if possible\n",
      "\t- Explicitly set the environment variable TOKENIZERS_PARALLELISM=(true | false)\n",
      "huggingface/tokenizers: The current process just got forked, after parallelism has already been used. Disabling parallelism to avoid deadlocks...\n",
      "To disable this warning, you can either:\n",
      "\t- Avoid using `tokenizers` before the fork if possible\n",
      "\t- Explicitly set the environment variable TOKENIZERS_PARALLELISM=(true | false)\n",
      "huggingface/tokenizers: The current process just got forked, after parallelism has already been used. Disabling parallelism to avoid deadlocks...\n",
      "To disable this warning, you can either:\n",
      "\t- Avoid using `tokenizers` before the fork if possible\n",
      "\t- Explicitly set the environment variable TOKENIZERS_PARALLELISM=(true | false)\n",
      "huggingface/tokenizers: The current process just got forked, after parallelism has already been used. Disabling parallelism to avoid deadlocks...\n",
      "To disable this warning, you can either:\n",
      "\t- Avoid using `tokenizers` before the fork if possible\n",
      "\t- Explicitly set the environment variable TOKENIZERS_PARALLELISM=(true | false)\n",
      "Validating epoch: 1: 100%|██████████| 400/400 [01:02<00:00,  6.44batch/s]\n"
     ]
    },
    {
     "name": "stdout",
     "output_type": "stream",
     "text": [
      "  Average validation loss: 0.48013034350180533\n",
      "  Average validation accuracy: 0.850000000000003\n",
      "  Validation time took: 0:01:02\n"
     ]
    },
    {
     "name": "stderr",
     "output_type": "stream",
     "text": [
      "Training epoch: 2:   0%|          | 0/3200 [00:00<?, ?batch/s]huggingface/tokenizers: The current process just got forked, after parallelism has already been used. Disabling parallelism to avoid deadlocks...\n",
      "To disable this warning, you can either:\n",
      "\t- Avoid using `tokenizers` before the fork if possible\n",
      "\t- Explicitly set the environment variable TOKENIZERS_PARALLELISM=(true | false)\n",
      "huggingface/tokenizers: The current process just got forked, after parallelism has already been used. Disabling parallelism to avoid deadlocks...\n",
      "To disable this warning, you can either:\n",
      "\t- Avoid using `tokenizers` before the fork if possible\n",
      "\t- Explicitly set the environment variable TOKENIZERS_PARALLELISM=(true | false)\n",
      "huggingface/tokenizers: The current process just got forked, after parallelism has already been used. Disabling parallelism to avoid deadlocks...\n",
      "To disable this warning, you can either:\n",
      "\t- Avoid using `tokenizers` before the fork if possible\n",
      "\t- Explicitly set the environment variable TOKENIZERS_PARALLELISM=(true | false)\n",
      "huggingface/tokenizers: The current process just got forked, after parallelism has already been used. Disabling parallelism to avoid deadlocks...\n",
      "To disable this warning, you can either:\n",
      "\t- Avoid using `tokenizers` before the fork if possible\n",
      "\t- Explicitly set the environment variable TOKENIZERS_PARALLELISM=(true | false)\n",
      "Training epoch: 2: 100%|██████████| 3200/3200 [26:09<00:00,  2.04batch/s]\n"
     ]
    },
    {
     "name": "stdout",
     "output_type": "stream",
     "text": [
      "  Average training loss: 0.37596229492990463\n",
      "  Average training accuracy: 0.8951875000000048\n",
      "  Training time took: 0:26:10\n"
     ]
    },
    {
     "name": "stderr",
     "output_type": "stream",
     "text": [
      "Validating epoch: 2:   0%|          | 0/400 [00:00<?, ?batch/s]huggingface/tokenizers: The current process just got forked, after parallelism has already been used. Disabling parallelism to avoid deadlocks...\n",
      "To disable this warning, you can either:\n",
      "\t- Avoid using `tokenizers` before the fork if possible\n",
      "\t- Explicitly set the environment variable TOKENIZERS_PARALLELISM=(true | false)\n",
      "huggingface/tokenizers: The current process just got forked, after parallelism has already been used. Disabling parallelism to avoid deadlocks...\n",
      "To disable this warning, you can either:\n",
      "\t- Avoid using `tokenizers` before the fork if possible\n",
      "\t- Explicitly set the environment variable TOKENIZERS_PARALLELISM=(true | false)\n",
      "huggingface/tokenizers: The current process just got forked, after parallelism has already been used. Disabling parallelism to avoid deadlocks...\n",
      "To disable this warning, you can either:\n",
      "\t- Avoid using `tokenizers` before the fork if possible\n",
      "\t- Explicitly set the environment variable TOKENIZERS_PARALLELISM=(true | false)\n",
      "huggingface/tokenizers: The current process just got forked, after parallelism has already been used. Disabling parallelism to avoid deadlocks...\n",
      "To disable this warning, you can either:\n",
      "\t- Avoid using `tokenizers` before the fork if possible\n",
      "\t- Explicitly set the environment variable TOKENIZERS_PARALLELISM=(true | false)\n",
      "Validating epoch: 2: 100%|██████████| 400/400 [01:02<00:00,  6.50batch/s]huggingface/tokenizers: The current process just got forked, after parallelism has already been used. Disabling parallelism to avoid deadlocks...\n",
      "To disable this warning, you can either:\n",
      "\t- Avoid using `tokenizers` before the fork if possible\n",
      "\t- Explicitly set the environment variable TOKENIZERS_PARALLELISM=(true | false)\n",
      "Validating epoch: 2: 100%|██████████| 400/400 [01:02<00:00,  6.45batch/s]\n"
     ]
    },
    {
     "name": "stdout",
     "output_type": "stream",
     "text": [
      "  Average validation loss: 0.663674550500582\n",
      "  Average validation accuracy: 0.854500000000003\n",
      "  Validation time took: 0:01:02\n"
     ]
    },
    {
     "name": "stderr",
     "output_type": "stream",
     "text": [
      "Training epoch: 3:   0%|          | 0/3200 [00:00<?, ?batch/s]huggingface/tokenizers: The current process just got forked, after parallelism has already been used. Disabling parallelism to avoid deadlocks...\n",
      "To disable this warning, you can either:\n",
      "\t- Avoid using `tokenizers` before the fork if possible\n",
      "\t- Explicitly set the environment variable TOKENIZERS_PARALLELISM=(true | false)\n",
      "huggingface/tokenizers: The current process just got forked, after parallelism has already been used. Disabling parallelism to avoid deadlocks...\n",
      "To disable this warning, you can either:\n",
      "\t- Avoid using `tokenizers` before the fork if possible\n",
      "\t- Explicitly set the environment variable TOKENIZERS_PARALLELISM=(true | false)\n",
      "huggingface/tokenizers: The current process just got forked, after parallelism has already been used. Disabling parallelism to avoid deadlocks...\n",
      "To disable this warning, you can either:\n",
      "\t- Avoid using `tokenizers` before the fork if possible\n",
      "\t- Explicitly set the environment variable TOKENIZERS_PARALLELISM=(true | false)\n",
      "huggingface/tokenizers: The current process just got forked, after parallelism has already been used. Disabling parallelism to avoid deadlocks...\n",
      "To disable this warning, you can either:\n",
      "\t- Avoid using `tokenizers` before the fork if possible\n",
      "\t- Explicitly set the environment variable TOKENIZERS_PARALLELISM=(true | false)\n",
      "Training epoch: 3: 100%|██████████| 3200/3200 [26:10<00:00,  2.04batch/s]\n"
     ]
    },
    {
     "name": "stdout",
     "output_type": "stream",
     "text": [
      "  Average training loss: 0.2333153042963545\n",
      "  Average training accuracy: 0.9468750000000062\n",
      "  Training time took: 0:26:11\n"
     ]
    },
    {
     "name": "stderr",
     "output_type": "stream",
     "text": [
      "Validating epoch: 3:   0%|          | 0/400 [00:00<?, ?batch/s]huggingface/tokenizers: The current process just got forked, after parallelism has already been used. Disabling parallelism to avoid deadlocks...\n",
      "To disable this warning, you can either:\n",
      "\t- Avoid using `tokenizers` before the fork if possible\n",
      "\t- Explicitly set the environment variable TOKENIZERS_PARALLELISM=(true | false)\n",
      "huggingface/tokenizers: The current process just got forked, after parallelism has already been used. Disabling parallelism to avoid deadlocks...\n",
      "To disable this warning, you can either:\n",
      "\t- Avoid using `tokenizers` before the fork if possible\n",
      "\t- Explicitly set the environment variable TOKENIZERS_PARALLELISM=(true | false)\n",
      "huggingface/tokenizers: The current process just got forked, after parallelism has already been used. Disabling parallelism to avoid deadlocks...\n",
      "To disable this warning, you can either:\n",
      "\t- Avoid using `tokenizers` before the fork if possible\n",
      "\t- Explicitly set the environment variable TOKENIZERS_PARALLELISM=(true | false)\n",
      "huggingface/tokenizers: The current process just got forked, after parallelism has already been used. Disabling parallelism to avoid deadlocks...\n",
      "To disable this warning, you can either:\n",
      "\t- Avoid using `tokenizers` before the fork if possible\n",
      "\t- Explicitly set the environment variable TOKENIZERS_PARALLELISM=(true | false)\n",
      "Validating epoch: 3: 100%|██████████| 400/400 [01:01<00:00,  6.47batch/s]\n"
     ]
    },
    {
     "name": "stdout",
     "output_type": "stream",
     "text": [
      "  Average validation loss: 0.7199379330520423\n",
      "  Average validation accuracy: 0.8605000000000028\n",
      "  Validation time took: 0:01:02\n"
     ]
    },
    {
     "name": "stderr",
     "output_type": "stream",
     "text": [
      "Training epoch: 4:   0%|          | 0/3200 [00:00<?, ?batch/s]huggingface/tokenizers: The current process just got forked, after parallelism has already been used. Disabling parallelism to avoid deadlocks...\n",
      "To disable this warning, you can either:\n",
      "\t- Avoid using `tokenizers` before the fork if possible\n",
      "\t- Explicitly set the environment variable TOKENIZERS_PARALLELISM=(true | false)\n",
      "huggingface/tokenizers: The current process just got forked, after parallelism has already been used. Disabling parallelism to avoid deadlocks...\n",
      "To disable this warning, you can either:\n",
      "\t- Avoid using `tokenizers` before the fork if possible\n",
      "\t- Explicitly set the environment variable TOKENIZERS_PARALLELISM=(true | false)\n",
      "huggingface/tokenizers: The current process just got forked, after parallelism has already been used. Disabling parallelism to avoid deadlocks...\n",
      "To disable this warning, you can either:\n",
      "\t- Avoid using `tokenizers` before the fork if possible\n",
      "\t- Explicitly set the environment variable TOKENIZERS_PARALLELISM=(true | false)\n",
      "huggingface/tokenizers: The current process just got forked, after parallelism has already been used. Disabling parallelism to avoid deadlocks...\n",
      "To disable this warning, you can either:\n",
      "\t- Avoid using `tokenizers` before the fork if possible\n",
      "\t- Explicitly set the environment variable TOKENIZERS_PARALLELISM=(true | false)\n",
      "Training epoch: 4: 100%|██████████| 3200/3200 [26:09<00:00,  2.04batch/s]\n"
     ]
    },
    {
     "name": "stdout",
     "output_type": "stream",
     "text": [
      "  Average training loss: 0.1293758401557841\n",
      "  Average training accuracy: 0.9743125000000045\n",
      "  Training time took: 0:26:09\n"
     ]
    },
    {
     "name": "stderr",
     "output_type": "stream",
     "text": [
      "Validating epoch: 4:   0%|          | 0/400 [00:00<?, ?batch/s]huggingface/tokenizers: The current process just got forked, after parallelism has already been used. Disabling parallelism to avoid deadlocks...\n",
      "To disable this warning, you can either:\n",
      "\t- Avoid using `tokenizers` before the fork if possible\n",
      "\t- Explicitly set the environment variable TOKENIZERS_PARALLELISM=(true | false)\n",
      "huggingface/tokenizers: The current process just got forked, after parallelism has already been used. Disabling parallelism to avoid deadlocks...\n",
      "To disable this warning, you can either:\n",
      "\t- Avoid using `tokenizers` before the fork if possible\n",
      "\t- Explicitly set the environment variable TOKENIZERS_PARALLELISM=(true | false)\n",
      "huggingface/tokenizers: The current process just got forked, after parallelism has already been used. Disabling parallelism to avoid deadlocks...\n",
      "To disable this warning, you can either:\n",
      "\t- Avoid using `tokenizers` before the fork if possible\n",
      "\t- Explicitly set the environment variable TOKENIZERS_PARALLELISM=(true | false)\n",
      "huggingface/tokenizers: The current process just got forked, after parallelism has already been used. Disabling parallelism to avoid deadlocks...\n",
      "To disable this warning, you can either:\n",
      "\t- Avoid using `tokenizers` before the fork if possible\n",
      "\t- Explicitly set the environment variable TOKENIZERS_PARALLELISM=(true | false)\n",
      "Validating epoch: 4: 100%|██████████| 400/400 [01:01<00:00,  6.52batch/s]huggingface/tokenizers: The current process just got forked, after parallelism has already been used. Disabling parallelism to avoid deadlocks...\n",
      "To disable this warning, you can either:\n",
      "\t- Avoid using `tokenizers` before the fork if possible\n",
      "\t- Explicitly set the environment variable TOKENIZERS_PARALLELISM=(true | false)\n",
      "Validating epoch: 4: 100%|██████████| 400/400 [01:01<00:00,  6.47batch/s]"
     ]
    },
    {
     "name": "stdout",
     "output_type": "stream",
     "text": [
      "  Average validation loss: 0.8196023663295\n",
      "  Average validation accuracy: 0.8625000000000032\n",
      "  Validation time took: 0:01:02\n",
      "\n",
      "Training complete!\n"
     ]
    },
    {
     "name": "stderr",
     "output_type": "stream",
     "text": [
      "\n"
     ]
    }
   ],
   "source": [
    "from torch.optim import AdamW\n",
    "from sklearn.metrics import accuracy_score\n",
    "\n",
    "adamw_optimizer = AdamW(bert_classification_model.parameters(),\n",
    "                  lr = 2e-5, # args.learning_rate - default is 5e-5, our notebook had 2e-5\n",
    "                  eps = 1e-8 # args.adam_epsilon  - default is 1e-8.\n",
    "                )\n",
    "\n",
    "from transformers import get_linear_schedule_with_warmup\n",
    "\n",
    "# Number of training epochs. The BERT authors recommend between 2 and 4. \n",
    "epochs = 4\n",
    "\n",
    "# Total number of training steps is [number of batches] x [number of epochs]. \n",
    "# (Note that this is not the same as the number of training samples).\n",
    "\n",
    "total_steps = len(train_dataloader) * epochs\n",
    "\n",
    "# Create the learning rate scheduler.\n",
    "scheduler = get_linear_schedule_with_warmup(adamw_optimizer, \n",
    "                                            num_warmup_steps = 0, \n",
    "                                            num_training_steps = total_steps)\n",
    "\n",
    "# Finally, we start to train the model\n",
    "fine_tuning_statistics = fine_tuning_pretrained_model(\n",
    "    epochs,\n",
    "    bert_classification_model,\n",
    "    train_dataloader,\n",
    "    val_dataloader,\n",
    "    adamw_optimizer,\n",
    "    scheduler,\n",
    "    accuracy_score)"
   ]
  },
  {
   "cell_type": "markdown",
   "id": "be765e10",
   "metadata": {
    "papermill": {
     "duration": 1.184642,
     "end_time": "2024-04-17T10:10:16.218478",
     "exception": false,
     "start_time": "2024-04-17T10:10:15.033836",
     "status": "completed"
    },
    "tags": []
   },
   "source": [
    "### Let’s view the summary of the training process. First we create a folder to save the results for the BERT variant"
   ]
  },
  {
   "cell_type": "code",
   "execution_count": 24,
   "id": "c894a186",
   "metadata": {
    "execution": {
     "iopub.execute_input": "2024-04-17T10:10:18.654844Z",
     "iopub.status.busy": "2024-04-17T10:10:18.654473Z",
     "iopub.status.idle": "2024-04-17T10:10:18.659622Z",
     "shell.execute_reply": "2024-04-17T10:10:18.658760Z"
    },
    "papermill": {
     "duration": 1.271586,
     "end_time": "2024-04-17T10:10:18.661572",
     "exception": false,
     "start_time": "2024-04-17T10:10:17.389986",
     "status": "completed"
    },
    "tags": []
   },
   "outputs": [],
   "source": [
    "if not os.path.exists(f\"{bert_model_name}\"):\n",
    "    os.makedirs(f\"{bert_model_name}\")"
   ]
  },
  {
   "cell_type": "code",
   "execution_count": 25,
   "id": "157b789d",
   "metadata": {
    "execution": {
     "iopub.execute_input": "2024-04-17T10:10:21.129704Z",
     "iopub.status.busy": "2024-04-17T10:10:21.129329Z",
     "iopub.status.idle": "2024-04-17T10:10:21.153133Z",
     "shell.execute_reply": "2024-04-17T10:10:21.152124Z"
    },
    "papermill": {
     "duration": 1.200924,
     "end_time": "2024-04-17T10:10:21.155084",
     "exception": false,
     "start_time": "2024-04-17T10:10:19.954160",
     "status": "completed"
    },
    "tags": []
   },
   "outputs": [
    {
     "data": {
      "text/html": [
       "<div>\n",
       "<style scoped>\n",
       "    .dataframe tbody tr th:only-of-type {\n",
       "        vertical-align: middle;\n",
       "    }\n",
       "\n",
       "    .dataframe tbody tr th {\n",
       "        vertical-align: top;\n",
       "    }\n",
       "\n",
       "    .dataframe thead th {\n",
       "        text-align: right;\n",
       "    }\n",
       "</style>\n",
       "<table border=\"1\" class=\"dataframe\">\n",
       "  <thead>\n",
       "    <tr style=\"text-align: right;\">\n",
       "      <th></th>\n",
       "      <th>train_loss</th>\n",
       "      <th>train_accuracy</th>\n",
       "      <th>train_time</th>\n",
       "      <th>val_loss</th>\n",
       "      <th>val_accuracy</th>\n",
       "      <th>val_time</th>\n",
       "    </tr>\n",
       "    <tr>\n",
       "      <th>epoch</th>\n",
       "      <th></th>\n",
       "      <th></th>\n",
       "      <th></th>\n",
       "      <th></th>\n",
       "      <th></th>\n",
       "      <th></th>\n",
       "    </tr>\n",
       "  </thead>\n",
       "  <tbody>\n",
       "    <tr>\n",
       "      <th>1</th>\n",
       "      <td>0.514011</td>\n",
       "      <td>0.792437</td>\n",
       "      <td>0:26:13</td>\n",
       "      <td>0.480130</td>\n",
       "      <td>0.8500</td>\n",
       "      <td>0:01:02</td>\n",
       "    </tr>\n",
       "    <tr>\n",
       "      <th>2</th>\n",
       "      <td>0.375962</td>\n",
       "      <td>0.895188</td>\n",
       "      <td>0:26:10</td>\n",
       "      <td>0.663675</td>\n",
       "      <td>0.8545</td>\n",
       "      <td>0:01:02</td>\n",
       "    </tr>\n",
       "    <tr>\n",
       "      <th>3</th>\n",
       "      <td>0.233315</td>\n",
       "      <td>0.946875</td>\n",
       "      <td>0:26:11</td>\n",
       "      <td>0.719938</td>\n",
       "      <td>0.8605</td>\n",
       "      <td>0:01:02</td>\n",
       "    </tr>\n",
       "    <tr>\n",
       "      <th>4</th>\n",
       "      <td>0.129376</td>\n",
       "      <td>0.974313</td>\n",
       "      <td>0:26:09</td>\n",
       "      <td>0.819602</td>\n",
       "      <td>0.8625</td>\n",
       "      <td>0:01:02</td>\n",
       "    </tr>\n",
       "  </tbody>\n",
       "</table>\n",
       "</div>"
      ],
      "text/plain": [
       "       train_loss  train_accuracy train_time  val_loss  val_accuracy val_time\n",
       "epoch                                                                        \n",
       "1        0.514011        0.792437    0:26:13  0.480130        0.8500  0:01:02\n",
       "2        0.375962        0.895188    0:26:10  0.663675        0.8545  0:01:02\n",
       "3        0.233315        0.946875    0:26:11  0.719938        0.8605  0:01:02\n",
       "4        0.129376        0.974313    0:26:09  0.819602        0.8625  0:01:02"
      ]
     },
     "execution_count": 25,
     "metadata": {},
     "output_type": "execute_result"
    }
   ],
   "source": [
    "df_stats = pd.DataFrame(fine_tuning_statistics).set_index('epoch')\n",
    "# Saving the fine_tuning_statistics\n",
    "df_stats.to_csv(f\"{bert_model_name}/fine_tuning_statistics.csv\")\n",
    "df_stats"
   ]
  },
  {
   "cell_type": "code",
   "execution_count": 26,
   "id": "3b3d7685",
   "metadata": {
    "execution": {
     "iopub.execute_input": "2024-04-17T10:10:23.547174Z",
     "iopub.status.busy": "2024-04-17T10:10:23.546815Z",
     "iopub.status.idle": "2024-04-17T10:10:23.956677Z",
     "shell.execute_reply": "2024-04-17T10:10:23.955755Z"
    },
    "papermill": {
     "duration": 1.637059,
     "end_time": "2024-04-17T10:10:23.958738",
     "exception": false,
     "start_time": "2024-04-17T10:10:22.321679",
     "status": "completed"
    },
    "tags": []
   },
   "outputs": [
    {
     "data": {
      "image/png": "[encoded data removed]",
      "text/plain": [
       "<Figure size 640x480 with 1 Axes>"
      ]
     },
     "metadata": {},
     "output_type": "display_data"
    }
   ],
   "source": [
    "from matplotlib import pyplot\n",
    "\n",
    "%matplotlib inline\n",
    "\n",
    "pyplot.plot(df_stats['train_loss'], 'b-o', label=\"training\")\n",
    "pyplot.plot(df_stats['val_loss'], 'g-o', label=\"validation\")\n",
    "pyplot.title(f\"{bert_model_name}: training & validation loss\", fontsize=15)\n",
    "pyplot.xlabel(\"Epoch\", fontsize=14)\n",
    "pyplot.ylabel(\"Loss\", fontsize=14)\n",
    "pyplot.legend(frameon=False, fontsize=14)\n",
    "pyplot.xticks(df_stats.index.values.tolist(), fontsize=12)\n",
    "pyplot.yticks(fontsize=12)\n",
    "pyplot.savefig(f\"{bert_model_name}/train_val_loss_plot.png\")\n",
    "pyplot.show()"
   ]
  },
  {
   "cell_type": "code",
   "execution_count": 27,
   "id": "04ddb704",
   "metadata": {
    "execution": {
     "iopub.execute_input": "2024-04-17T10:10:26.399188Z",
     "iopub.status.busy": "2024-04-17T10:10:26.398444Z",
     "iopub.status.idle": "2024-04-17T10:10:26.777942Z",
     "shell.execute_reply": "2024-04-17T10:10:26.776914Z"
    },
    "papermill": {
     "duration": 1.549029,
     "end_time": "2024-04-17T10:10:26.779995",
     "exception": false,
     "start_time": "2024-04-17T10:10:25.230966",
     "status": "completed"
    },
    "tags": []
   },
   "outputs": [
    {
     "data": {
      "image/png": "[encoded data removed]",
      "text/plain": [
       "<Figure size 640x480 with 1 Axes>"
      ]
     },
     "metadata": {},
     "output_type": "display_data"
    }
   ],
   "source": [
    "from matplotlib import pyplot\n",
    "\n",
    "%matplotlib inline\n",
    "\n",
    "pyplot.plot(df_stats['train_accuracy'], 'b-o', label=\"training\")\n",
    "pyplot.plot(df_stats['val_accuracy'], 'g-o', label=\"validation\")\n",
    "pyplot.title(f\"{bert_model_name}: training & validation accuracy\", fontsize=15)\n",
    "pyplot.xlabel(\"Epoch\", fontsize=14)\n",
    "pyplot.ylabel(\"Loss\", fontsize=14)\n",
    "pyplot.legend(frameon=False, fontsize=14)\n",
    "pyplot.xticks(df_stats.index.values.tolist(), fontsize=12)\n",
    "pyplot.yticks(fontsize=12)\n",
    "pyplot.savefig(f\"{bert_model_name}/train_val_accuracy_plot.png\")\n",
    "pyplot.show()"
   ]
  },
  {
   "cell_type": "markdown",
   "id": "56a59080",
   "metadata": {
    "papermill": {
     "duration": 1.244239,
     "end_time": "2024-04-17T10:10:29.193950",
     "exception": false,
     "start_time": "2024-04-17T10:10:27.949711",
     "status": "completed"
    },
    "tags": []
   },
   "source": [
    "## Performance on test set and prediction"
   ]
  },
  {
   "cell_type": "code",
   "execution_count": 28,
   "id": "34288b69",
   "metadata": {
    "execution": {
     "iopub.execute_input": "2024-04-17T10:10:31.592316Z",
     "iopub.status.busy": "2024-04-17T10:10:31.591441Z",
     "iopub.status.idle": "2024-04-17T10:10:40.476932Z",
     "shell.execute_reply": "2024-04-17T10:10:40.475921Z"
    },
    "papermill": {
     "duration": 10.054949,
     "end_time": "2024-04-17T10:10:40.479663",
     "exception": false,
     "start_time": "2024-04-17T10:10:30.424714",
     "status": "completed"
    },
    "tags": []
   },
   "outputs": [
    {
     "name": "stdout",
     "output_type": "stream",
     "text": [
      "<class 'pandas.core.series.Series'>\n"
     ]
    },
    {
     "name": "stderr",
     "output_type": "stream",
     "text": [
      "100%|██████████| 4000/4000 [00:03<00:00, 1036.68it/s]\n"
     ]
    },
    {
     "name": "stdout",
     "output_type": "stream",
     "text": [
      "Shape of input_ids is torch.Size([4000, 512])\n",
      "Shape of token_type_ids is torch.Size([4000, 512])\n",
      "Shape of attention_masks is torch.Size([4000, 512])\n",
      "Shape of labels is torch.Size([4000])\n"
     ]
    },
    {
     "name": "stderr",
     "output_type": "stream",
     "text": [
      "100%|██████████| 5000/5000 [00:04<00:00, 1023.41it/s]"
     ]
    },
    {
     "name": "stdout",
     "output_type": "stream",
     "text": [
      "Shape of input_ids is torch.Size([5000, 512])\n",
      "Shape of token_type_ids is torch.Size([5000, 512])\n",
      "Shape of attention_masks is torch.Size([5000, 512])\n",
      "Shape of labels is torch.Size([5000])\n"
     ]
    },
    {
     "name": "stderr",
     "output_type": "stream",
     "text": [
      "\n"
     ]
    }
   ],
   "source": [
    "print(type(y_test_known_labels))\n",
    "test_tensor_known_labels = convert_to_dataset_torch(X_test_known_labels, y_test_known_labels)\n",
    "test_dataloader = DataLoader(test_tensor_known_labels, \n",
    "                             sampler=SequentialSampler(test_tensor_known_labels), \n",
    "                             batch_size=batch_size)\n",
    "\n",
    "#print(len(X_test_unknown_labels))\n",
    "#features_tensor = torch.tensor(X_test_unknown_labels.to_numpy(), dtype=torch.float32)\n",
    "#print(features_tensor.shape)\n",
    "\n",
    "# Create dummy labels tensor\n",
    "\n",
    "dummy_labels_series = pd.Series([-1] * len(X_test_unknown_labels))\n",
    "# print(X_test_unknown_labels.shape)\n",
    "test_tensor_unknown_labels = convert_to_dataset_torch(X_test_unknown_labels, dummy_labels_series)\n",
    "predict_dataloader = DataLoader(test_tensor_unknown_labels, \n",
    "                             sampler=SequentialSampler(test_tensor_unknown_labels), \n",
    "                             batch_size=batch_size)"
   ]
  },
  {
   "cell_type": "markdown",
   "id": "68885980",
   "metadata": {
    "papermill": {
     "duration": 1.275402,
     "end_time": "2024-04-17T10:10:42.942468",
     "exception": false,
     "start_time": "2024-04-17T10:10:41.667066",
     "status": "completed"
    },
    "tags": []
   },
   "source": [
    "## Evaluate on the test set with known labels\n",
    "With the test set prepared, we can apply our fine-tuned model to generate predictions on the test set with known labels"
   ]
  },
  {
   "cell_type": "code",
   "execution_count": 29,
   "id": "5fd5a496",
   "metadata": {
    "execution": {
     "iopub.execute_input": "2024-04-17T10:10:45.349752Z",
     "iopub.status.busy": "2024-04-17T10:10:45.349362Z",
     "iopub.status.idle": "2024-04-17T10:12:46.651683Z",
     "shell.execute_reply": "2024-04-17T10:12:46.650666Z"
    },
    "papermill": {
     "duration": 122.4746,
     "end_time": "2024-04-17T10:12:46.654358",
     "exception": false,
     "start_time": "2024-04-17T10:10:44.179758",
     "status": "completed"
    },
    "tags": []
   },
   "outputs": [
    {
     "name": "stderr",
     "output_type": "stream",
     "text": [
      "Validating epoch: None: 100%|██████████| 800/800 [02:01<00:00,  6.60batch/s]\n"
     ]
    }
   ],
   "source": [
    "bert_classification_model.eval()\n",
    "\n",
    "total_val_loss, total_val_accuracy,\\\n",
    "predicted_logits_val, predicted_labels_val = val_batch(None, bert_classification_model, \n",
    "                                               test_dataloader, accuracy_score)"
   ]
  },
  {
   "cell_type": "markdown",
   "id": "eeec5128",
   "metadata": {
    "papermill": {
     "duration": 1.315425,
     "end_time": "2024-04-17T10:12:49.275834",
     "exception": false,
     "start_time": "2024-04-17T10:12:47.960409",
     "status": "completed"
    },
    "tags": []
   },
   "source": [
    "## Making prediction on the test set with unknown labels\n",
    "\n",
    "With the predict set prepared, we can apply our fine-tuned model to generate predictions on the test set with unknown labels"
   ]
  },
  {
   "cell_type": "code",
   "execution_count": 30,
   "id": "f37e47aa",
   "metadata": {
    "execution": {
     "iopub.execute_input": "2024-04-17T10:12:51.892443Z",
     "iopub.status.busy": "2024-04-17T10:12:51.891494Z",
     "iopub.status.idle": "2024-04-17T10:15:22.607751Z",
     "shell.execute_reply": "2024-04-17T10:15:22.606761Z"
    },
    "papermill": {
     "duration": 152.101099,
     "end_time": "2024-04-17T10:15:22.609808",
     "exception": false,
     "start_time": "2024-04-17T10:12:50.508709",
     "status": "completed"
    },
    "tags": []
   },
   "outputs": [
    {
     "name": "stderr",
     "output_type": "stream",
     "text": [
      "Predicting: 100%|██████████| 1000/1000 [02:30<00:00,  6.64batch/s]\n"
     ]
    }
   ],
   "source": [
    "bert_classification_model.eval()\n",
    "\n",
    "predicted_logits_test, predicted_labels_test = predict_batch(bert_classification_model, \n",
    "                                                   predict_dataloader)"
   ]
  },
  {
   "cell_type": "markdown",
   "id": "6b565f9b",
   "metadata": {
    "papermill": {
     "duration": 1.391899,
     "end_time": "2024-04-17T10:15:25.355220",
     "exception": false,
     "start_time": "2024-04-17T10:15:23.963321",
     "status": "completed"
    },
    "tags": []
   },
   "source": [
    "### We construct the testing result with corresponding truth labels and predicted labels by the fine-tuned BERT model. This testing data is part of the training data (train.tsv)"
   ]
  },
  {
   "cell_type": "code",
   "execution_count": 31,
   "id": "b2a959a7",
   "metadata": {
    "execution": {
     "iopub.execute_input": "2024-04-17T10:15:28.045128Z",
     "iopub.status.busy": "2024-04-17T10:15:28.044786Z",
     "iopub.status.idle": "2024-04-17T10:15:28.063276Z",
     "shell.execute_reply": "2024-04-17T10:15:28.062355Z"
    },
    "papermill": {
     "duration": 1.331795,
     "end_time": "2024-04-17T10:15:28.065255",
     "exception": false,
     "start_time": "2024-04-17T10:15:26.733460",
     "status": "completed"
    },
    "tags": []
   },
   "outputs": [
    {
     "data": {
      "text/html": [
       "<div>\n",
       "<style scoped>\n",
       "    .dataframe tbody tr th:only-of-type {\n",
       "        vertical-align: middle;\n",
       "    }\n",
       "\n",
       "    .dataframe tbody tr th {\n",
       "        vertical-align: top;\n",
       "    }\n",
       "\n",
       "    .dataframe thead th {\n",
       "        text-align: right;\n",
       "    }\n",
       "</style>\n",
       "<table border=\"1\" class=\"dataframe\">\n",
       "  <thead>\n",
       "    <tr style=\"text-align: right;\">\n",
       "      <th></th>\n",
       "      <th>question1</th>\n",
       "      <th>question2</th>\n",
       "      <th>true_is_duplicate</th>\n",
       "      <th>predicted_is_duplicate</th>\n",
       "    </tr>\n",
       "  </thead>\n",
       "  <tbody>\n",
       "    <tr>\n",
       "      <th>10650</th>\n",
       "      <td>Where did \"European Jewish\" come from in my si...</td>\n",
       "      <td>I am doing my research on MRSA, but my results...</td>\n",
       "      <td>0</td>\n",
       "      <td>0</td>\n",
       "    </tr>\n",
       "    <tr>\n",
       "      <th>2041</th>\n",
       "      <td>Is there a way to get deleted Instagram pictur...</td>\n",
       "      <td>Can you delete someone's picture on Instagram?</td>\n",
       "      <td>0</td>\n",
       "      <td>0</td>\n",
       "    </tr>\n",
       "    <tr>\n",
       "      <th>8668</th>\n",
       "      <td>Why are the Åland Islands a part of Finland wh...</td>\n",
       "      <td>Why isn't Aland a part of Sweden?</td>\n",
       "      <td>1</td>\n",
       "      <td>0</td>\n",
       "    </tr>\n",
       "    <tr>\n",
       "      <th>1114</th>\n",
       "      <td>What do you feel is your purpose in life?</td>\n",
       "      <td>What according to YOU is the purpose of life?</td>\n",
       "      <td>1</td>\n",
       "      <td>1</td>\n",
       "    </tr>\n",
       "    <tr>\n",
       "      <th>13902</th>\n",
       "      <td>What's the difference between Vyvanse and Adde...</td>\n",
       "      <td>What is the difference between Adderall XR and...</td>\n",
       "      <td>1</td>\n",
       "      <td>0</td>\n",
       "    </tr>\n",
       "  </tbody>\n",
       "</table>\n",
       "</div>"
      ],
      "text/plain": [
       "                                               question1  \\\n",
       "10650  Where did \"European Jewish\" come from in my si...   \n",
       "2041   Is there a way to get deleted Instagram pictur...   \n",
       "8668   Why are the Åland Islands a part of Finland wh...   \n",
       "1114           What do you feel is your purpose in life?   \n",
       "13902  What's the difference between Vyvanse and Adde...   \n",
       "\n",
       "                                               question2  true_is_duplicate  \\\n",
       "10650  I am doing my research on MRSA, but my results...                  0   \n",
       "2041      Can you delete someone's picture on Instagram?                  0   \n",
       "8668                   Why isn't Aland a part of Sweden?                  1   \n",
       "1114       What according to YOU is the purpose of life?                  1   \n",
       "13902  What is the difference between Adderall XR and...                  1   \n",
       "\n",
       "       predicted_is_duplicate  \n",
       "10650                       0  \n",
       "2041                        0  \n",
       "8668                        0  \n",
       "1114                        1  \n",
       "13902                       0  "
      ]
     },
     "execution_count": 31,
     "metadata": {},
     "output_type": "execute_result"
    }
   ],
   "source": [
    "testing_results_known_labels = pd.DataFrame()\n",
    "testing_results_known_labels[\"question1\"] = X_test_known_labels[\"question1\"]\n",
    "testing_results_known_labels[\"question2\"] = X_test_known_labels[\"question2\"]\n",
    "testing_results_known_labels[\"true_is_duplicate\"] = y_test_known_labels\n",
    "testing_results_known_labels[\"predicted_is_duplicate\"] = predicted_labels_val\n",
    "testing_results_known_labels.head()"
   ]
  },
  {
   "cell_type": "markdown",
   "id": "240ac827",
   "metadata": {
    "papermill": {
     "duration": 1.381142,
     "end_time": "2024-04-17T10:15:30.777359",
     "exception": false,
     "start_time": "2024-04-17T10:15:29.396217",
     "status": "completed"
    },
    "tags": []
   },
   "source": [
    "### We construct the testing result with no known labels (the test.tsv file) with the predicted labels by the fine-tuned BERT model"
   ]
  },
  {
   "cell_type": "code",
   "execution_count": 32,
   "id": "7c733f3f",
   "metadata": {
    "execution": {
     "iopub.execute_input": "2024-04-17T10:15:33.465331Z",
     "iopub.status.busy": "2024-04-17T10:15:33.464980Z",
     "iopub.status.idle": "2024-04-17T10:15:33.480426Z",
     "shell.execute_reply": "2024-04-17T10:15:33.479604Z"
    },
    "papermill": {
     "duration": 1.328937,
     "end_time": "2024-04-17T10:15:33.482354",
     "exception": false,
     "start_time": "2024-04-17T10:15:32.153417",
     "status": "completed"
    },
    "tags": []
   },
   "outputs": [
    {
     "data": {
      "text/html": [
       "<div>\n",
       "<style scoped>\n",
       "    .dataframe tbody tr th:only-of-type {\n",
       "        vertical-align: middle;\n",
       "    }\n",
       "\n",
       "    .dataframe tbody tr th {\n",
       "        vertical-align: top;\n",
       "    }\n",
       "\n",
       "    .dataframe thead th {\n",
       "        text-align: right;\n",
       "    }\n",
       "</style>\n",
       "<table border=\"1\" class=\"dataframe\">\n",
       "  <thead>\n",
       "    <tr style=\"text-align: right;\">\n",
       "      <th></th>\n",
       "      <th>question1</th>\n",
       "      <th>question2</th>\n",
       "      <th>predicted_is_duplicate</th>\n",
       "    </tr>\n",
       "  </thead>\n",
       "  <tbody>\n",
       "    <tr>\n",
       "      <th>0</th>\n",
       "      <td>Would the idea of Trump and Putin in bed toget...</td>\n",
       "      <td>Do you think that if Donald Trump were elected...</td>\n",
       "      <td>0</td>\n",
       "    </tr>\n",
       "    <tr>\n",
       "      <th>1</th>\n",
       "      <td>What are the top ten Consumer-to-Consumer E-co...</td>\n",
       "      <td>What are the top ten Consumer-to-Business E-co...</td>\n",
       "      <td>1</td>\n",
       "    </tr>\n",
       "    <tr>\n",
       "      <th>2</th>\n",
       "      <td>Why don't people simply 'Google' instead of as...</td>\n",
       "      <td>Why do people ask Quora questions instead of j...</td>\n",
       "      <td>1</td>\n",
       "    </tr>\n",
       "    <tr>\n",
       "      <th>3</th>\n",
       "      <td>Is it safe to invest in social trade biz?</td>\n",
       "      <td>Is social trade geniune?</td>\n",
       "      <td>0</td>\n",
       "    </tr>\n",
       "    <tr>\n",
       "      <th>4</th>\n",
       "      <td>If the universe is expanding then does matter ...</td>\n",
       "      <td>If universe and space is expanding? Does that ...</td>\n",
       "      <td>1</td>\n",
       "    </tr>\n",
       "  </tbody>\n",
       "</table>\n",
       "</div>"
      ],
      "text/plain": [
       "                                           question1  \\\n",
       "0  Would the idea of Trump and Putin in bed toget...   \n",
       "1  What are the top ten Consumer-to-Consumer E-co...   \n",
       "2  Why don't people simply 'Google' instead of as...   \n",
       "3          Is it safe to invest in social trade biz?   \n",
       "4  If the universe is expanding then does matter ...   \n",
       "\n",
       "                                           question2  predicted_is_duplicate  \n",
       "0  Do you think that if Donald Trump were elected...                       0  \n",
       "1  What are the top ten Consumer-to-Business E-co...                       1  \n",
       "2  Why do people ask Quora questions instead of j...                       1  \n",
       "3                           Is social trade geniune?                       0  \n",
       "4  If universe and space is expanding? Does that ...                       1  "
      ]
     },
     "execution_count": 32,
     "metadata": {},
     "output_type": "execute_result"
    }
   ],
   "source": [
    "testing_results_unknown_labels = pd.DataFrame()\n",
    "testing_results_unknown_labels[\"question1\"] = X_test_unknown_labels[\"question1\"]\n",
    "testing_results_unknown_labels[\"question2\"] = X_test_unknown_labels[\"question2\"]\n",
    "testing_results_unknown_labels[\"predicted_is_duplicate\"] = predicted_labels_test\n",
    "testing_results_unknown_labels.head()"
   ]
  },
  {
   "cell_type": "markdown",
   "id": "fe7a3aa8",
   "metadata": {
    "papermill": {
     "duration": 1.311968,
     "end_time": "2024-04-17T10:15:36.183082",
     "exception": false,
     "start_time": "2024-04-17T10:15:34.871114",
     "status": "completed"
    },
    "tags": []
   },
   "source": [
    "### Saving testing results"
   ]
  },
  {
   "cell_type": "code",
   "execution_count": 33,
   "id": "2c02f679",
   "metadata": {
    "execution": {
     "iopub.execute_input": "2024-04-17T10:15:38.893498Z",
     "iopub.status.busy": "2024-04-17T10:15:38.893141Z",
     "iopub.status.idle": "2024-04-17T10:15:38.957297Z",
     "shell.execute_reply": "2024-04-17T10:15:38.956562Z"
    },
    "papermill": {
     "duration": 1.395079,
     "end_time": "2024-04-17T10:15:38.959170",
     "exception": false,
     "start_time": "2024-04-17T10:15:37.564091",
     "status": "completed"
    },
    "tags": []
   },
   "outputs": [],
   "source": [
    "testing_results_known_labels.to_csv(f\"{bert_model_name}/testing_results_known_labels.csv\", index=False)\n",
    "testing_results_unknown_labels.to_csv(f\"{bert_model_name}/testing_results_unknown_labels.csv\", index=False)"
   ]
  },
  {
   "cell_type": "code",
   "execution_count": 34,
   "id": "f07aad5f",
   "metadata": {
    "execution": {
     "iopub.execute_input": "2024-04-17T10:15:41.784814Z",
     "iopub.status.busy": "2024-04-17T10:15:41.783971Z",
     "iopub.status.idle": "2024-04-17T10:15:55.502692Z",
     "shell.execute_reply": "2024-04-17T10:15:55.501487Z"
    },
    "papermill": {
     "duration": 15.107875,
     "end_time": "2024-04-17T10:15:55.505212",
     "exception": false,
     "start_time": "2024-04-17T10:15:40.397337",
     "status": "completed"
    },
    "tags": []
   },
   "outputs": [
    {
     "name": "stderr",
     "output_type": "stream",
     "text": [
      "huggingface/tokenizers: The current process just got forked, after parallelism has already been used. Disabling parallelism to avoid deadlocks...\n",
      "To disable this warning, you can either:\n",
      "\t- Avoid using `tokenizers` before the fork if possible\n",
      "\t- Explicitly set the environment variable TOKENIZERS_PARALLELISM=(true | false)\n"
     ]
    },
    {
     "name": "stdout",
     "output_type": "stream",
     "text": [
      "Collecting data-science-utils\r\n",
      "  Downloading data_science_utils-1.7.3-py3-none-any.whl.metadata (24 kB)\r\n",
      "Downloading data_science_utils-1.7.3-py3-none-any.whl (22 kB)\r\n",
      "Installing collected packages: data-science-utils\r\n",
      "Successfully installed data-science-utils-1.7.3\r\n"
     ]
    }
   ],
   "source": [
    "!pip install data-science-utils"
   ]
  },
  {
   "cell_type": "code",
   "execution_count": 35,
   "id": "d0f5b822",
   "metadata": {
    "execution": {
     "iopub.execute_input": "2024-04-17T10:15:58.221881Z",
     "iopub.status.busy": "2024-04-17T10:15:58.221478Z",
     "iopub.status.idle": "2024-04-17T10:15:58.911904Z",
     "shell.execute_reply": "2024-04-17T10:15:58.910961Z"
    },
    "papermill": {
     "duration": 2.089441,
     "end_time": "2024-04-17T10:15:58.913908",
     "exception": false,
     "start_time": "2024-04-17T10:15:56.824467",
     "status": "completed"
    },
    "tags": []
   },
   "outputs": [
    {
     "data": {
      "image/png": "[encoded data removed]",
      "text/plain": [
       "<Figure size 640x480 with 4 Axes>"
      ]
     },
     "metadata": {},
     "output_type": "display_data"
    }
   ],
   "source": [
    "from ds_utils.metrics import plot_confusion_matrix\n",
    "\n",
    "plot_confusion_matrix(y_test_known_labels, predicted_labels_val, [1, 0])\n",
    "pyplot.savefig(f\"{bert_model_name}/confusion_matrix.png\")\n",
    "pyplot.show()"
   ]
  },
  {
   "cell_type": "markdown",
   "id": "a7088afa",
   "metadata": {
    "papermill": {
     "duration": 1.391958,
     "end_time": "2024-04-17T10:16:01.640554",
     "exception": false,
     "start_time": "2024-04-17T10:16:00.248596",
     "status": "completed"
    },
    "tags": []
   },
   "source": [
    "# Saving the fine-tuned model\n",
    "First let's save our model with the method ``save_pretrained``, then save our tokenizer with ``save_pretrained``.\n",
    "\n",
    "**Pay Attension**: tokenizer's ``save_pretrained`` need to get the path to save as a string.\n",
    "\n",
    "In reality, it is not required to run this cell. Obtaining the results is already enough. The saved model would be extremely heavy, and there are already fine tuned BERT models on HuggingFace"
   ]
  },
  {
   "cell_type": "code",
   "execution_count": 36,
   "id": "9e2a6149",
   "metadata": {
    "execution": {
     "iopub.execute_input": "2024-04-17T10:16:04.273694Z",
     "iopub.status.busy": "2024-04-17T10:16:04.273037Z",
     "iopub.status.idle": "2024-04-17T10:16:04.278643Z",
     "shell.execute_reply": "2024-04-17T10:16:04.277781Z"
    },
    "papermill": {
     "duration": 1.325856,
     "end_time": "2024-04-17T10:16:04.280579",
     "exception": false,
     "start_time": "2024-04-17T10:16:02.954723",
     "status": "completed"
    },
    "tags": []
   },
   "outputs": [],
   "source": [
    "from pathlib import Path\n",
    "\n",
    "output_dir = Path(\"__file__\").parents[0].absolute().joinpath(f\"{bert_model_name}/model_save\")\n",
    "output_dir.mkdir(exist_ok=True)\n",
    "\n",
    "# Save a trained model, configuration and tokenizer using `save_pretrained()`.\n",
    "# They can then be reloaded using `from_pretrained()`\n",
    "\n",
    "# model_to_save = bert_classification_model.module if hasattr(bert_classification_model, 'module') else bert_classification_model  # Take care of distributed/parallel training\n",
    "# model_to_save.save_pretrained(output_dir)\n",
    "# tokenizer.save_pretrained(str(output_dir.absolute()))"
   ]
  }
 ],
 "metadata": {
  "kaggle": {
   "accelerator": "none",
   "dataSources": [
    {
     "datasetId": 4801042,
     "sourceId": 8124328,
     "sourceType": "datasetVersion"
    }
   ],
   "isGpuEnabled": false,
   "isInternetEnabled": true,
   "language": "python",
   "sourceType": "notebook"
  },
  "kernelspec": {
   "display_name": "Python 3",
   "language": "python",
   "name": "python3"
  },
  "language_info": {
   "codemirror_mode": {
    "name": "ipython",
    "version": 3
   },
   "file_extension": ".py",
   "mimetype": "text/x-python",
   "name": "python",
   "nbconvert_exporter": "python",
   "pygments_lexer": "ipython3",
   "version": "3.10.13"
  },
  "papermill": {
   "default_parameters": {},
   "duration": 6949.905241,
   "end_time": "2024-04-17T10:16:08.835370",
   "environment_variables": {},
   "exception": null,
   "input_path": "__notebook__.ipynb",
   "output_path": "__notebook__.ipynb",
   "parameters": {},
   "start_time": "2024-04-17T08:20:18.930129",
   "version": "2.5.0"
  },
  "widgets": {
   "application/vnd.jupyter.widget-state+json": {
    "state": {
     "01ba5355c9624636b375c1a02f13ba9b": {
      "model_module": "@jupyter-widgets/base",
      "model_module_version": "1.2.0",
      "model_name": "LayoutModel",
      "state": {
       "_model_module": "@jupyter-widgets/base",
       "_model_module_version": "1.2.0",
       "_model_name": "LayoutModel",
       "_view_count": null,
       "_view_module": "@jupyter-widgets/base",
       "_view_module_version": "1.2.0",
       "_view_name": "LayoutView",
       "align_content": null,
       "align_items": null,
       "align_self": null,
       "border": null,
       "bottom": null,
       "display": null,
       "flex": null,
       "flex_flow": null,
       "grid_area": null,
       "grid_auto_columns": null,
       "grid_auto_flow": null,
       "grid_auto_rows": null,
       "grid_column": null,
       "grid_gap": null,
       "grid_row": null,
       "grid_template_areas": null,
       "grid_template_columns": null,
       "grid_template_rows": null,
       "height": null,
       "justify_content": null,
       "justify_items": null,
       "left": null,
       "margin": null,
       "max_height": null,
       "max_width": null,
       "min_height": null,
       "min_width": null,
       "object_fit": null,
       "object_position": null,
       "order": null,
       "overflow": null,
       "overflow_x": null,
       "overflow_y": null,
       "padding": null,
       "right": null,
       "top": null,
       "visibility": null,
       "width": null
      }
     },
     "04fe74b08a0d4d9daee84a1f2ce73ba3": {
      "model_module": "@jupyter-widgets/controls",
      "model_module_version": "1.5.0",
      "model_name": "DescriptionStyleModel",
      "state": {
       "_model_module": "@jupyter-widgets/controls",
       "_model_module_version": "1.5.0",
       "_model_name": "DescriptionStyleModel",
       "_view_count": null,
       "_view_module": "@jupyter-widgets/base",
       "_view_module_version": "1.2.0",
       "_view_name": "StyleView",
       "description_width": ""
      }
     },
     "0656f10beaad41d7a407d81bc7106e66": {
      "model_module": "@jupyter-widgets/base",
      "model_module_version": "1.2.0",
      "model_name": "LayoutModel",
      "state": {
       "_model_module": "@jupyter-widgets/base",
       "_model_module_version": "1.2.0",
       "_model_name": "LayoutModel",
       "_view_count": null,
       "_view_module": "@jupyter-widgets/base",
       "_view_module_version": "1.2.0",
       "_view_name": "LayoutView",
       "align_content": null,
       "align_items": null,
       "align_self": null,
       "border": null,
       "bottom": null,
       "display": null,
       "flex": null,
       "flex_flow": null,
       "grid_area": null,
       "grid_auto_columns": null,
       "grid_auto_flow": null,
       "grid_auto_rows": null,
       "grid_column": null,
       "grid_gap": null,
       "grid_row": null,
       "grid_template_areas": null,
       "grid_template_columns": null,
       "grid_template_rows": null,
       "height": null,
       "justify_content": null,
       "justify_items": null,
       "left": null,
       "margin": null,
       "max_height": null,
       "max_width": null,
       "min_height": null,
       "min_width": null,
       "object_fit": null,
       "object_position": null,
       "order": null,
       "overflow": null,
       "overflow_x": null,
       "overflow_y": null,
       "padding": null,
       "right": null,
       "top": null,
       "visibility": null,
       "width": null
      }
     },
     "0853f750f14b4db0af5ed0d01cee0d75": {
      "model_module": "@jupyter-widgets/base",
      "model_module_version": "1.2.0",
      "model_name": "LayoutModel",
      "state": {
       "_model_module": "@jupyter-widgets/base",
       "_model_module_version": "1.2.0",
       "_model_name": "LayoutModel",
       "_view_count": null,
       "_view_module": "@jupyter-widgets/base",
       "_view_module_version": "1.2.0",
       "_view_name": "LayoutView",
       "align_content": null,
       "align_items": null,
       "align_self": null,
       "border": null,
       "bottom": null,
       "display": null,
       "flex": null,
       "flex_flow": null,
       "grid_area": null,
       "grid_auto_columns": null,
       "grid_auto_flow": null,
       "grid_auto_rows": null,
       "grid_column": null,
       "grid_gap": null,
       "grid_row": null,
       "grid_template_areas": null,
       "grid_template_columns": null,
       "grid_template_rows": null,
       "height": null,
       "justify_content": null,
       "justify_items": null,
       "left": null,
       "margin": null,
       "max_height": null,
       "max_width": null,
       "min_height": null,
       "min_width": null,
       "object_fit": null,
       "object_position": null,
       "order": null,
       "overflow": null,
       "overflow_x": null,
       "overflow_y": null,
       "padding": null,
       "right": null,
       "top": null,
       "visibility": null,
       "width": null
      }
     },
     "0d5b28c9a0b648b5abfbace32628bf29": {
      "model_module": "@jupyter-widgets/controls",
      "model_module_version": "1.5.0",
      "model_name": "FloatProgressModel",
      "state": {
       "_dom_classes": [],
       "_model_module": "@jupyter-widgets/controls",
       "_model_module_version": "1.5.0",
       "_model_name": "FloatProgressModel",
       "_view_count": null,
       "_view_module": "@jupyter-widgets/controls",
       "_view_module_version": "1.5.0",
       "_view_name": "ProgressView",
       "bar_style": "success",
       "description": "",
       "description_tooltip": null,
       "layout": "IPY_MODEL_0853f750f14b4db0af5ed0d01cee0d75",
       "max": 558614189.0,
       "min": 0.0,
       "orientation": "horizontal",
       "style": "IPY_MODEL_5c8b0a7f99bf4664b24acd7b37efe12b",
       "value": 558614189.0
      }
     },
     "0fb68234eca14f88b122bb51e06b6a4f": {
      "model_module": "@jupyter-widgets/base",
      "model_module_version": "1.2.0",
      "model_name": "LayoutModel",
      "state": {
       "_model_module": "@jupyter-widgets/base",
       "_model_module_version": "1.2.0",
       "_model_name": "LayoutModel",
       "_view_count": null,
       "_view_module": "@jupyter-widgets/base",
       "_view_module_version": "1.2.0",
       "_view_name": "LayoutView",
       "align_content": null,
       "align_items": null,
       "align_self": null,
       "border": null,
       "bottom": null,
       "display": null,
       "flex": null,
       "flex_flow": null,
       "grid_area": null,
       "grid_auto_columns": null,
       "grid_auto_flow": null,
       "grid_auto_rows": null,
       "grid_column": null,
       "grid_gap": null,
       "grid_row": null,
       "grid_template_areas": null,
       "grid_template_columns": null,
       "grid_template_rows": null,
       "height": null,
       "justify_content": null,
       "justify_items": null,
       "left": null,
       "margin": null,
       "max_height": null,
       "max_width": null,
       "min_height": null,
       "min_width": null,
       "object_fit": null,
       "object_position": null,
       "order": null,
       "overflow": null,
       "overflow_x": null,
       "overflow_y": null,
       "padding": null,
       "right": null,
       "top": null,
       "visibility": null,
       "width": null
      }
     },
     "208798b1292e481880dc1eb101e51861": {
      "model_module": "@jupyter-widgets/controls",
      "model_module_version": "1.5.0",
      "model_name": "HTMLModel",
      "state": {
       "_dom_classes": [],
       "_model_module": "@jupyter-widgets/controls",
       "_model_module_version": "1.5.0",
       "_model_name": "HTMLModel",
       "_view_count": null,
       "_view_module": "@jupyter-widgets/controls",
       "_view_module_version": "1.5.0",
       "_view_name": "HTMLView",
       "description": "",
       "description_tooltip": null,
       "layout": "IPY_MODEL_4cdebcb7a8b546c3bf5d4c9f5baa935a",
       "placeholder": "​",
       "style": "IPY_MODEL_94575e67a381426da9ab22c7930968e2",
       "value": "tokenizer_config.json: 100%"
      }
     },
     "237f7ded5fa349d8a9baf3724337c369": {
      "model_module": "@jupyter-widgets/base",
      "model_module_version": "1.2.0",
      "model_name": "LayoutModel",
      "state": {
       "_model_module": "@jupyter-widgets/base",
       "_model_module_version": "1.2.0",
       "_model_name": "LayoutModel",
       "_view_count": null,
       "_view_module": "@jupyter-widgets/base",
       "_view_module_version": "1.2.0",
       "_view_name": "LayoutView",
       "align_content": null,
       "align_items": null,
       "align_self": null,
       "border": null,
       "bottom": null,
       "display": null,
       "flex": null,
       "flex_flow": null,
       "grid_area": null,
       "grid_auto_columns": null,
       "grid_auto_flow": null,
       "grid_auto_rows": null,
       "grid_column": null,
       "grid_gap": null,
       "grid_row": null,
       "grid_template_areas": null,
       "grid_template_columns": null,
       "grid_template_rows": null,
       "height": null,
       "justify_content": null,
       "justify_items": null,
       "left": null,
       "margin": null,
       "max_height": null,
       "max_width": null,
       "min_height": null,
       "min_width": null,
       "object_fit": null,
       "object_position": null,
       "order": null,
       "overflow": null,
       "overflow_x": null,
       "overflow_y": null,
       "padding": null,
       "right": null,
       "top": null,
       "visibility": null,
       "width": null
      }
     },
     "24a316506cee44ecafd05a2f0f68a47c": {
      "model_module": "@jupyter-widgets/controls",
      "model_module_version": "1.5.0",
      "model_name": "DescriptionStyleModel",
      "state": {
       "_model_module": "@jupyter-widgets/controls",
       "_model_module_version": "1.5.0",
       "_model_name": "DescriptionStyleModel",
       "_view_count": null,
       "_view_module": "@jupyter-widgets/base",
       "_view_module_version": "1.2.0",
       "_view_name": "StyleView",
       "description_width": ""
      }
     },
     "27f4364649f54187ab49d0a99fbaa8b9": {
      "model_module": "@jupyter-widgets/controls",
      "model_module_version": "1.5.0",
      "model_name": "HTMLModel",
      "state": {
       "_dom_classes": [],
       "_model_module": "@jupyter-widgets/controls",
       "_model_module_version": "1.5.0",
       "_model_name": "HTMLModel",
       "_view_count": null,
       "_view_module": "@jupyter-widgets/controls",
       "_view_module_version": "1.5.0",
       "_view_name": "HTMLView",
       "description": "",
       "description_tooltip": null,
       "layout": "IPY_MODEL_c7f90036eb1c4c97b80e22ac53b1b83f",
       "placeholder": "​",
       "style": "IPY_MODEL_04fe74b08a0d4d9daee84a1f2ce73ba3",
       "value": " 559M/559M [00:13&lt;00:00, 42.4MB/s]"
      }
     },
     "2b628202f9b24634bfd33dee8f240a5e": {
      "model_module": "@jupyter-widgets/base",
      "model_module_version": "1.2.0",
      "model_name": "LayoutModel",
      "state": {
       "_model_module": "@jupyter-widgets/base",
       "_model_module_version": "1.2.0",
       "_model_name": "LayoutModel",
       "_view_count": null,
       "_view_module": "@jupyter-widgets/base",
       "_view_module_version": "1.2.0",
       "_view_name": "LayoutView",
       "align_content": null,
       "align_items": null,
       "align_self": null,
       "border": null,
       "bottom": null,
       "display": null,
       "flex": null,
       "flex_flow": null,
       "grid_area": null,
       "grid_auto_columns": null,
       "grid_auto_flow": null,
       "grid_auto_rows": null,
       "grid_column": null,
       "grid_gap": null,
       "grid_row": null,
       "grid_template_areas": null,
       "grid_template_columns": null,
       "grid_template_rows": null,
       "height": null,
       "justify_content": null,
       "justify_items": null,
       "left": null,
       "margin": null,
       "max_height": null,
       "max_width": null,
       "min_height": null,
       "min_width": null,
       "object_fit": null,
       "object_position": null,
       "order": null,
       "overflow": null,
       "overflow_x": null,
       "overflow_y": null,
       "padding": null,
       "right": null,
       "top": null,
       "visibility": null,
       "width": null
      }
     },
     "3157381e7c8349a0bdfbab820ed85281": {
      "model_module": "@jupyter-widgets/controls",
      "model_module_version": "1.5.0",
      "model_name": "HTMLModel",
      "state": {
       "_dom_classes": [],
       "_model_module": "@jupyter-widgets/controls",
       "_model_module_version": "1.5.0",
       "_model_name": "HTMLModel",
       "_view_count": null,
       "_view_module": "@jupyter-widgets/controls",
       "_view_module_version": "1.5.0",
       "_view_name": "HTMLView",
       "description": "",
       "description_tooltip": null,
       "layout": "IPY_MODEL_376df5195f5448a8859a3f208ba58084",
       "placeholder": "​",
       "style": "IPY_MODEL_e97070f8ae2f4f5b9d01e5cb1a0dffd1",
       "value": " 474/474 [00:00&lt;00:00, 41.7kB/s]"
      }
     },
     "3646d77243a440bcb5a2eeebb2ac98f8": {
      "model_module": "@jupyter-widgets/controls",
      "model_module_version": "1.5.0",
      "model_name": "HTMLModel",
      "state": {
       "_dom_classes": [],
       "_model_module": "@jupyter-widgets/controls",
       "_model_module_version": "1.5.0",
       "_model_name": "HTMLModel",
       "_view_count": null,
       "_view_module": "@jupyter-widgets/controls",
       "_view_module_version": "1.5.0",
       "_view_name": "HTMLView",
       "description": "",
       "description_tooltip": null,
       "layout": "IPY_MODEL_c7ca75f213754fdbb38fb0b9b905af69",
       "placeholder": "​",
       "style": "IPY_MODEL_4f3155dd9d9a468a92a76b609e11564f",
       "value": "vocab.json: 100%"
      }
     },
     "376b51c003b04f0aa23019dc497edfab": {
      "model_module": "@jupyter-widgets/controls",
      "model_module_version": "1.5.0",
      "model_name": "HTMLModel",
      "state": {
       "_dom_classes": [],
       "_model_module": "@jupyter-widgets/controls",
       "_model_module_version": "1.5.0",
       "_model_name": "HTMLModel",
       "_view_count": null,
       "_view_module": "@jupyter-widgets/controls",
       "_view_module_version": "1.5.0",
       "_view_name": "HTMLView",
       "description": "",
       "description_tooltip": null,
       "layout": "IPY_MODEL_a646b4c7fb814b9d9f307ed25f98ae4c",
       "placeholder": "​",
       "style": "IPY_MODEL_24a316506cee44ecafd05a2f0f68a47c",
       "value": "merges.txt: 100%"
      }
     },
     "376df5195f5448a8859a3f208ba58084": {
      "model_module": "@jupyter-widgets/base",
      "model_module_version": "1.2.0",
      "model_name": "LayoutModel",
      "state": {
       "_model_module": "@jupyter-widgets/base",
       "_model_module_version": "1.2.0",
       "_model_name": "LayoutModel",
       "_view_count": null,
       "_view_module": "@jupyter-widgets/base",
       "_view_module_version": "1.2.0",
       "_view_name": "LayoutView",
       "align_content": null,
       "align_items": null,
       "align_self": null,
       "border": null,
       "bottom": null,
       "display": null,
       "flex": null,
       "flex_flow": null,
       "grid_area": null,
       "grid_auto_columns": null,
       "grid_auto_flow": null,
       "grid_auto_rows": null,
       "grid_column": null,
       "grid_gap": null,
       "grid_row": null,
       "grid_template_areas": null,
       "grid_template_columns": null,
       "grid_template_rows": null,
       "height": null,
       "justify_content": null,
       "justify_items": null,
       "left": null,
       "margin": null,
       "max_height": null,
       "max_width": null,
       "min_height": null,
       "min_width": null,
       "object_fit": null,
       "object_position": null,
       "order": null,
       "overflow": null,
       "overflow_x": null,
       "overflow_y": null,
       "padding": null,
       "right": null,
       "top": null,
       "visibility": null,
       "width": null
      }
     },
     "385c5d1532c04a9f8e9db39bc5e9e192": {
      "model_module": "@jupyter-widgets/controls",
      "model_module_version": "1.5.0",
      "model_name": "HTMLModel",
      "state": {
       "_dom_classes": [],
       "_model_module": "@jupyter-widgets/controls",
       "_model_module_version": "1.5.0",
       "_model_name": "HTMLModel",
       "_view_count": null,
       "_view_module": "@jupyter-widgets/controls",
       "_view_module_version": "1.5.0",
       "_view_name": "HTMLView",
       "description": "",
       "description_tooltip": null,
       "layout": "IPY_MODEL_dc6d141a946245b8a198e515966a44d7",
       "placeholder": "​",
       "style": "IPY_MODEL_b6641f62ef304a0383c62094186875f2",
       "value": "pytorch_model.bin: 100%"
      }
     },
     "39c317cdd8a14f579b67930f5b582d95": {
      "model_module": "@jupyter-widgets/controls",
      "model_module_version": "1.5.0",
      "model_name": "HBoxModel",
      "state": {
       "_dom_classes": [],
       "_model_module": "@jupyter-widgets/controls",
       "_model_module_version": "1.5.0",
       "_model_name": "HBoxModel",
       "_view_count": null,
       "_view_module": "@jupyter-widgets/controls",
       "_view_module_version": "1.5.0",
       "_view_name": "HBoxView",
       "box_style": "",
       "children": [
        "IPY_MODEL_af5c4bb4f4e344eabbd1511867700d31",
        "IPY_MODEL_e5c0eea411ee42ab8796e4d23c828b8d",
        "IPY_MODEL_3157381e7c8349a0bdfbab820ed85281"
       ],
       "layout": "IPY_MODEL_70b4b1df27d54dfb9acb97240ae51483"
      }
     },
     "454639b81cee4871a1120461a17c1dd5": {
      "model_module": "@jupyter-widgets/controls",
      "model_module_version": "1.5.0",
      "model_name": "FloatProgressModel",
      "state": {
       "_dom_classes": [],
       "_model_module": "@jupyter-widgets/controls",
       "_model_module_version": "1.5.0",
       "_model_name": "FloatProgressModel",
       "_view_count": null,
       "_view_module": "@jupyter-widgets/controls",
       "_view_module_version": "1.5.0",
       "_view_name": "ProgressView",
       "bar_style": "success",
       "description": "",
       "description_tooltip": null,
       "layout": "IPY_MODEL_237f7ded5fa349d8a9baf3724337c369",
       "max": 898825.0,
       "min": 0.0,
       "orientation": "horizontal",
       "style": "IPY_MODEL_76bb5076ae534697ba8d89a389e13152",
       "value": 898825.0
      }
     },
     "4b59635ce8294e9883f949411dad2dce": {
      "model_module": "@jupyter-widgets/controls",
      "model_module_version": "1.5.0",
      "model_name": "DescriptionStyleModel",
      "state": {
       "_model_module": "@jupyter-widgets/controls",
       "_model_module_version": "1.5.0",
       "_model_name": "DescriptionStyleModel",
       "_view_count": null,
       "_view_module": "@jupyter-widgets/base",
       "_view_module_version": "1.2.0",
       "_view_name": "StyleView",
       "description_width": ""
      }
     },
     "4cdebcb7a8b546c3bf5d4c9f5baa935a": {
      "model_module": "@jupyter-widgets/base",
      "model_module_version": "1.2.0",
      "model_name": "LayoutModel",
      "state": {
       "_model_module": "@jupyter-widgets/base",
       "_model_module_version": "1.2.0",
       "_model_name": "LayoutModel",
       "_view_count": null,
       "_view_module": "@jupyter-widgets/base",
       "_view_module_version": "1.2.0",
       "_view_name": "LayoutView",
       "align_content": null,
       "align_items": null,
       "align_self": null,
       "border": null,
       "bottom": null,
       "display": null,
       "flex": null,
       "flex_flow": null,
       "grid_area": null,
       "grid_auto_columns": null,
       "grid_auto_flow": null,
       "grid_auto_rows": null,
       "grid_column": null,
       "grid_gap": null,
       "grid_row": null,
       "grid_template_areas": null,
       "grid_template_columns": null,
       "grid_template_rows": null,
       "height": null,
       "justify_content": null,
       "justify_items": null,
       "left": null,
       "margin": null,
       "max_height": null,
       "max_width": null,
       "min_height": null,
       "min_width": null,
       "object_fit": null,
       "object_position": null,
       "order": null,
       "overflow": null,
       "overflow_x": null,
       "overflow_y": null,
       "padding": null,
       "right": null,
       "top": null,
       "visibility": null,
       "width": null
      }
     },
     "4f3155dd9d9a468a92a76b609e11564f": {
      "model_module": "@jupyter-widgets/controls",
      "model_module_version": "1.5.0",
      "model_name": "DescriptionStyleModel",
      "state": {
       "_model_module": "@jupyter-widgets/controls",
       "_model_module_version": "1.5.0",
       "_model_name": "DescriptionStyleModel",
       "_view_count": null,
       "_view_module": "@jupyter-widgets/base",
       "_view_module_version": "1.2.0",
       "_view_name": "StyleView",
       "description_width": ""
      }
     },
     "50af0ce3c32d4d8bbf21df5e34c0c663": {
      "model_module": "@jupyter-widgets/base",
      "model_module_version": "1.2.0",
      "model_name": "LayoutModel",
      "state": {
       "_model_module": "@jupyter-widgets/base",
       "_model_module_version": "1.2.0",
       "_model_name": "LayoutModel",
       "_view_count": null,
       "_view_module": "@jupyter-widgets/base",
       "_view_module_version": "1.2.0",
       "_view_name": "LayoutView",
       "align_content": null,
       "align_items": null,
       "align_self": null,
       "border": null,
       "bottom": null,
       "display": null,
       "flex": null,
       "flex_flow": null,
       "grid_area": null,
       "grid_auto_columns": null,
       "grid_auto_flow": null,
       "grid_auto_rows": null,
       "grid_column": null,
       "grid_gap": null,
       "grid_row": null,
       "grid_template_areas": null,
       "grid_template_columns": null,
       "grid_template_rows": null,
       "height": null,
       "justify_content": null,
       "justify_items": null,
       "left": null,
       "margin": null,
       "max_height": null,
       "max_width": null,
       "min_height": null,
       "min_width": null,
       "object_fit": null,
       "object_position": null,
       "order": null,
       "overflow": null,
       "overflow_x": null,
       "overflow_y": null,
       "padding": null,
       "right": null,
       "top": null,
       "visibility": null,
       "width": null
      }
     },
     "53c7fcf4679a4d0fac6f0b97787e83ca": {
      "model_module": "@jupyter-widgets/controls",
      "model_module_version": "1.5.0",
      "model_name": "DescriptionStyleModel",
      "state": {
       "_model_module": "@jupyter-widgets/controls",
       "_model_module_version": "1.5.0",
       "_model_name": "DescriptionStyleModel",
       "_view_count": null,
       "_view_module": "@jupyter-widgets/base",
       "_view_module_version": "1.2.0",
       "_view_name": "StyleView",
       "description_width": ""
      }
     },
     "5ab5876ec75c4ce6bcff6b34e9d59c82": {
      "model_module": "@jupyter-widgets/base",
      "model_module_version": "1.2.0",
      "model_name": "LayoutModel",
      "state": {
       "_model_module": "@jupyter-widgets/base",
       "_model_module_version": "1.2.0",
       "_model_name": "LayoutModel",
       "_view_count": null,
       "_view_module": "@jupyter-widgets/base",
       "_view_module_version": "1.2.0",
       "_view_name": "LayoutView",
       "align_content": null,
       "align_items": null,
       "align_self": null,
       "border": null,
       "bottom": null,
       "display": null,
       "flex": null,
       "flex_flow": null,
       "grid_area": null,
       "grid_auto_columns": null,
       "grid_auto_flow": null,
       "grid_auto_rows": null,
       "grid_column": null,
       "grid_gap": null,
       "grid_row": null,
       "grid_template_areas": null,
       "grid_template_columns": null,
       "grid_template_rows": null,
       "height": null,
       "justify_content": null,
       "justify_items": null,
       "left": null,
       "margin": null,
       "max_height": null,
       "max_width": null,
       "min_height": null,
       "min_width": null,
       "object_fit": null,
       "object_position": null,
       "order": null,
       "overflow": null,
       "overflow_x": null,
       "overflow_y": null,
       "padding": null,
       "right": null,
       "top": null,
       "visibility": null,
       "width": null
      }
     },
     "5ba78b70adf34242865d164245da6fa5": {
      "model_module": "@jupyter-widgets/controls",
      "model_module_version": "1.5.0",
      "model_name": "HBoxModel",
      "state": {
       "_dom_classes": [],
       "_model_module": "@jupyter-widgets/controls",
       "_model_module_version": "1.5.0",
       "_model_name": "HBoxModel",
       "_view_count": null,
       "_view_module": "@jupyter-widgets/controls",
       "_view_module_version": "1.5.0",
       "_view_name": "HBoxView",
       "box_style": "",
       "children": [
        "IPY_MODEL_385c5d1532c04a9f8e9db39bc5e9e192",
        "IPY_MODEL_0d5b28c9a0b648b5abfbace32628bf29",
        "IPY_MODEL_27f4364649f54187ab49d0a99fbaa8b9"
       ],
       "layout": "IPY_MODEL_b53e2c7350d64d8fbc412ca79e7c337c"
      }
     },
     "5c8b0a7f99bf4664b24acd7b37efe12b": {
      "model_module": "@jupyter-widgets/controls",
      "model_module_version": "1.5.0",
      "model_name": "ProgressStyleModel",
      "state": {
       "_model_module": "@jupyter-widgets/controls",
       "_model_module_version": "1.5.0",
       "_model_name": "ProgressStyleModel",
       "_view_count": null,
       "_view_module": "@jupyter-widgets/base",
       "_view_module_version": "1.2.0",
       "_view_name": "StyleView",
       "bar_color": null,
       "description_width": ""
      }
     },
     "6a8f868be11a40508bf258a334c11f9a": {
      "model_module": "@jupyter-widgets/controls",
      "model_module_version": "1.5.0",
      "model_name": "FloatProgressModel",
      "state": {
       "_dom_classes": [],
       "_model_module": "@jupyter-widgets/controls",
       "_model_module_version": "1.5.0",
       "_model_name": "FloatProgressModel",
       "_view_count": null,
       "_view_module": "@jupyter-widgets/controls",
       "_view_module_version": "1.5.0",
       "_view_name": "ProgressView",
       "bar_style": "success",
       "description": "",
       "description_tooltip": null,
       "layout": "IPY_MODEL_01ba5355c9624636b375c1a02f13ba9b",
       "max": 456318.0,
       "min": 0.0,
       "orientation": "horizontal",
       "style": "IPY_MODEL_ce597139b56846f4a9e9bb491242a850",
       "value": 456318.0
      }
     },
     "70b4b1df27d54dfb9acb97240ae51483": {
      "model_module": "@jupyter-widgets/base",
      "model_module_version": "1.2.0",
      "model_name": "LayoutModel",
      "state": {
       "_model_module": "@jupyter-widgets/base",
       "_model_module_version": "1.2.0",
       "_model_name": "LayoutModel",
       "_view_count": null,
       "_view_module": "@jupyter-widgets/base",
       "_view_module_version": "1.2.0",
       "_view_name": "LayoutView",
       "align_content": null,
       "align_items": null,
       "align_self": null,
       "border": null,
       "bottom": null,
       "display": null,
       "flex": null,
       "flex_flow": null,
       "grid_area": null,
       "grid_auto_columns": null,
       "grid_auto_flow": null,
       "grid_auto_rows": null,
       "grid_column": null,
       "grid_gap": null,
       "grid_row": null,
       "grid_template_areas": null,
       "grid_template_columns": null,
       "grid_template_rows": null,
       "height": null,
       "justify_content": null,
       "justify_items": null,
       "left": null,
       "margin": null,
       "max_height": null,
       "max_width": null,
       "min_height": null,
       "min_width": null,
       "object_fit": null,
       "object_position": null,
       "order": null,
       "overflow": null,
       "overflow_x": null,
       "overflow_y": null,
       "padding": null,
       "right": null,
       "top": null,
       "visibility": null,
       "width": null
      }
     },
     "76bb5076ae534697ba8d89a389e13152": {
      "model_module": "@jupyter-widgets/controls",
      "model_module_version": "1.5.0",
      "model_name": "ProgressStyleModel",
      "state": {
       "_model_module": "@jupyter-widgets/controls",
       "_model_module_version": "1.5.0",
       "_model_name": "ProgressStyleModel",
       "_view_count": null,
       "_view_module": "@jupyter-widgets/base",
       "_view_module_version": "1.2.0",
       "_view_name": "StyleView",
       "bar_color": null,
       "description_width": ""
      }
     },
     "8ad6387f873c4d7aadce01d1efb0748b": {
      "model_module": "@jupyter-widgets/controls",
      "model_module_version": "1.5.0",
      "model_name": "HTMLModel",
      "state": {
       "_dom_classes": [],
       "_model_module": "@jupyter-widgets/controls",
       "_model_module_version": "1.5.0",
       "_model_name": "HTMLModel",
       "_view_count": null,
       "_view_module": "@jupyter-widgets/controls",
       "_view_module_version": "1.5.0",
       "_view_name": "HTMLView",
       "description": "",
       "description_tooltip": null,
       "layout": "IPY_MODEL_2b628202f9b24634bfd33dee8f240a5e",
       "placeholder": "​",
       "style": "IPY_MODEL_4b59635ce8294e9883f949411dad2dce",
       "value": " 456k/456k [00:00&lt;00:00, 2.32MB/s]"
      }
     },
     "93201aff77074cfdba4e9a1cc8a88972": {
      "model_module": "@jupyter-widgets/controls",
      "model_module_version": "1.5.0",
      "model_name": "HTMLModel",
      "state": {
       "_dom_classes": [],
       "_model_module": "@jupyter-widgets/controls",
       "_model_module_version": "1.5.0",
       "_model_name": "HTMLModel",
       "_view_count": null,
       "_view_module": "@jupyter-widgets/controls",
       "_view_module_version": "1.5.0",
       "_view_name": "HTMLView",
       "description": "",
       "description_tooltip": null,
       "layout": "IPY_MODEL_50af0ce3c32d4d8bbf21df5e34c0c663",
       "placeholder": "​",
       "style": "IPY_MODEL_d6b2d861ea7e45dca4fa88c6631db900",
       "value": " 899k/899k [00:00&lt;00:00, 28.3MB/s]"
      }
     },
     "94575e67a381426da9ab22c7930968e2": {
      "model_module": "@jupyter-widgets/controls",
      "model_module_version": "1.5.0",
      "model_name": "DescriptionStyleModel",
      "state": {
       "_model_module": "@jupyter-widgets/controls",
       "_model_module_version": "1.5.0",
       "_model_name": "DescriptionStyleModel",
       "_view_count": null,
       "_view_module": "@jupyter-widgets/base",
       "_view_module_version": "1.2.0",
       "_view_name": "StyleView",
       "description_width": ""
      }
     },
     "95ca92887da445f4851847ceeddb607e": {
      "model_module": "@jupyter-widgets/controls",
      "model_module_version": "1.5.0",
      "model_name": "DescriptionStyleModel",
      "state": {
       "_model_module": "@jupyter-widgets/controls",
       "_model_module_version": "1.5.0",
       "_model_name": "DescriptionStyleModel",
       "_view_count": null,
       "_view_module": "@jupyter-widgets/base",
       "_view_module_version": "1.2.0",
       "_view_name": "StyleView",
       "description_width": ""
      }
     },
     "9d68f6153d6d48c7a7534472cfe34a4f": {
      "model_module": "@jupyter-widgets/controls",
      "model_module_version": "1.5.0",
      "model_name": "HBoxModel",
      "state": {
       "_dom_classes": [],
       "_model_module": "@jupyter-widgets/controls",
       "_model_module_version": "1.5.0",
       "_model_name": "HBoxModel",
       "_view_count": null,
       "_view_module": "@jupyter-widgets/controls",
       "_view_module_version": "1.5.0",
       "_view_name": "HBoxView",
       "box_style": "",
       "children": [
        "IPY_MODEL_208798b1292e481880dc1eb101e51861",
        "IPY_MODEL_cc105d43e914457784247162d84485eb",
        "IPY_MODEL_e5552076c99644b28c9bcbafcc349518"
       ],
       "layout": "IPY_MODEL_e3736f84bd204276918411425ee35cd2"
      }
     },
     "a646b4c7fb814b9d9f307ed25f98ae4c": {
      "model_module": "@jupyter-widgets/base",
      "model_module_version": "1.2.0",
      "model_name": "LayoutModel",
      "state": {
       "_model_module": "@jupyter-widgets/base",
       "_model_module_version": "1.2.0",
       "_model_name": "LayoutModel",
       "_view_count": null,
       "_view_module": "@jupyter-widgets/base",
       "_view_module_version": "1.2.0",
       "_view_name": "LayoutView",
       "align_content": null,
       "align_items": null,
       "align_self": null,
       "border": null,
       "bottom": null,
       "display": null,
       "flex": null,
       "flex_flow": null,
       "grid_area": null,
       "grid_auto_columns": null,
       "grid_auto_flow": null,
       "grid_auto_rows": null,
       "grid_column": null,
       "grid_gap": null,
       "grid_row": null,
       "grid_template_areas": null,
       "grid_template_columns": null,
       "grid_template_rows": null,
       "height": null,
       "justify_content": null,
       "justify_items": null,
       "left": null,
       "margin": null,
       "max_height": null,
       "max_width": null,
       "min_height": null,
       "min_width": null,
       "object_fit": null,
       "object_position": null,
       "order": null,
       "overflow": null,
       "overflow_x": null,
       "overflow_y": null,
       "padding": null,
       "right": null,
       "top": null,
       "visibility": null,
       "width": null
      }
     },
     "af5c4bb4f4e344eabbd1511867700d31": {
      "model_module": "@jupyter-widgets/controls",
      "model_module_version": "1.5.0",
      "model_name": "HTMLModel",
      "state": {
       "_dom_classes": [],
       "_model_module": "@jupyter-widgets/controls",
       "_model_module_version": "1.5.0",
       "_model_name": "HTMLModel",
       "_view_count": null,
       "_view_module": "@jupyter-widgets/controls",
       "_view_module_version": "1.5.0",
       "_view_name": "HTMLView",
       "description": "",
       "description_tooltip": null,
       "layout": "IPY_MODEL_5ab5876ec75c4ce6bcff6b34e9d59c82",
       "placeholder": "​",
       "style": "IPY_MODEL_53c7fcf4679a4d0fac6f0b97787e83ca",
       "value": "config.json: 100%"
      }
     },
     "b03a824c5e544f8e9899c2a1c3db5c78": {
      "model_module": "@jupyter-widgets/controls",
      "model_module_version": "1.5.0",
      "model_name": "ProgressStyleModel",
      "state": {
       "_model_module": "@jupyter-widgets/controls",
       "_model_module_version": "1.5.0",
       "_model_name": "ProgressStyleModel",
       "_view_count": null,
       "_view_module": "@jupyter-widgets/base",
       "_view_module_version": "1.2.0",
       "_view_name": "StyleView",
       "bar_color": null,
       "description_width": ""
      }
     },
     "b53e2c7350d64d8fbc412ca79e7c337c": {
      "model_module": "@jupyter-widgets/base",
      "model_module_version": "1.2.0",
      "model_name": "LayoutModel",
      "state": {
       "_model_module": "@jupyter-widgets/base",
       "_model_module_version": "1.2.0",
       "_model_name": "LayoutModel",
       "_view_count": null,
       "_view_module": "@jupyter-widgets/base",
       "_view_module_version": "1.2.0",
       "_view_name": "LayoutView",
       "align_content": null,
       "align_items": null,
       "align_self": null,
       "border": null,
       "bottom": null,
       "display": null,
       "flex": null,
       "flex_flow": null,
       "grid_area": null,
       "grid_auto_columns": null,
       "grid_auto_flow": null,
       "grid_auto_rows": null,
       "grid_column": null,
       "grid_gap": null,
       "grid_row": null,
       "grid_template_areas": null,
       "grid_template_columns": null,
       "grid_template_rows": null,
       "height": null,
       "justify_content": null,
       "justify_items": null,
       "left": null,
       "margin": null,
       "max_height": null,
       "max_width": null,
       "min_height": null,
       "min_width": null,
       "object_fit": null,
       "object_position": null,
       "order": null,
       "overflow": null,
       "overflow_x": null,
       "overflow_y": null,
       "padding": null,
       "right": null,
       "top": null,
       "visibility": null,
       "width": null
      }
     },
     "b6641f62ef304a0383c62094186875f2": {
      "model_module": "@jupyter-widgets/controls",
      "model_module_version": "1.5.0",
      "model_name": "DescriptionStyleModel",
      "state": {
       "_model_module": "@jupyter-widgets/controls",
       "_model_module_version": "1.5.0",
       "_model_name": "DescriptionStyleModel",
       "_view_count": null,
       "_view_module": "@jupyter-widgets/base",
       "_view_module_version": "1.2.0",
       "_view_name": "StyleView",
       "description_width": ""
      }
     },
     "b94e2a2b4d824d199ad1b9449cbe965c": {
      "model_module": "@jupyter-widgets/base",
      "model_module_version": "1.2.0",
      "model_name": "LayoutModel",
      "state": {
       "_model_module": "@jupyter-widgets/base",
       "_model_module_version": "1.2.0",
       "_model_name": "LayoutModel",
       "_view_count": null,
       "_view_module": "@jupyter-widgets/base",
       "_view_module_version": "1.2.0",
       "_view_name": "LayoutView",
       "align_content": null,
       "align_items": null,
       "align_self": null,
       "border": null,
       "bottom": null,
       "display": null,
       "flex": null,
       "flex_flow": null,
       "grid_area": null,
       "grid_auto_columns": null,
       "grid_auto_flow": null,
       "grid_auto_rows": null,
       "grid_column": null,
       "grid_gap": null,
       "grid_row": null,
       "grid_template_areas": null,
       "grid_template_columns": null,
       "grid_template_rows": null,
       "height": null,
       "justify_content": null,
       "justify_items": null,
       "left": null,
       "margin": null,
       "max_height": null,
       "max_width": null,
       "min_height": null,
       "min_width": null,
       "object_fit": null,
       "object_position": null,
       "order": null,
       "overflow": null,
       "overflow_x": null,
       "overflow_y": null,
       "padding": null,
       "right": null,
       "top": null,
       "visibility": null,
       "width": null
      }
     },
     "c7ca75f213754fdbb38fb0b9b905af69": {
      "model_module": "@jupyter-widgets/base",
      "model_module_version": "1.2.0",
      "model_name": "LayoutModel",
      "state": {
       "_model_module": "@jupyter-widgets/base",
       "_model_module_version": "1.2.0",
       "_model_name": "LayoutModel",
       "_view_count": null,
       "_view_module": "@jupyter-widgets/base",
       "_view_module_version": "1.2.0",
       "_view_name": "LayoutView",
       "align_content": null,
       "align_items": null,
       "align_self": null,
       "border": null,
       "bottom": null,
       "display": null,
       "flex": null,
       "flex_flow": null,
       "grid_area": null,
       "grid_auto_columns": null,
       "grid_auto_flow": null,
       "grid_auto_rows": null,
       "grid_column": null,
       "grid_gap": null,
       "grid_row": null,
       "grid_template_areas": null,
       "grid_template_columns": null,
       "grid_template_rows": null,
       "height": null,
       "justify_content": null,
       "justify_items": null,
       "left": null,
       "margin": null,
       "max_height": null,
       "max_width": null,
       "min_height": null,
       "min_width": null,
       "object_fit": null,
       "object_position": null,
       "order": null,
       "overflow": null,
       "overflow_x": null,
       "overflow_y": null,
       "padding": null,
       "right": null,
       "top": null,
       "visibility": null,
       "width": null
      }
     },
     "c7f90036eb1c4c97b80e22ac53b1b83f": {
      "model_module": "@jupyter-widgets/base",
      "model_module_version": "1.2.0",
      "model_name": "LayoutModel",
      "state": {
       "_model_module": "@jupyter-widgets/base",
       "_model_module_version": "1.2.0",
       "_model_name": "LayoutModel",
       "_view_count": null,
       "_view_module": "@jupyter-widgets/base",
       "_view_module_version": "1.2.0",
       "_view_name": "LayoutView",
       "align_content": null,
       "align_items": null,
       "align_self": null,
       "border": null,
       "bottom": null,
       "display": null,
       "flex": null,
       "flex_flow": null,
       "grid_area": null,
       "grid_auto_columns": null,
       "grid_auto_flow": null,
       "grid_auto_rows": null,
       "grid_column": null,
       "grid_gap": null,
       "grid_row": null,
       "grid_template_areas": null,
       "grid_template_columns": null,
       "grid_template_rows": null,
       "height": null,
       "justify_content": null,
       "justify_items": null,
       "left": null,
       "margin": null,
       "max_height": null,
       "max_width": null,
       "min_height": null,
       "min_width": null,
       "object_fit": null,
       "object_position": null,
       "order": null,
       "overflow": null,
       "overflow_x": null,
       "overflow_y": null,
       "padding": null,
       "right": null,
       "top": null,
       "visibility": null,
       "width": null
      }
     },
     "cc105d43e914457784247162d84485eb": {
      "model_module": "@jupyter-widgets/controls",
      "model_module_version": "1.5.0",
      "model_name": "FloatProgressModel",
      "state": {
       "_dom_classes": [],
       "_model_module": "@jupyter-widgets/controls",
       "_model_module_version": "1.5.0",
       "_model_name": "FloatProgressModel",
       "_view_count": null,
       "_view_module": "@jupyter-widgets/controls",
       "_view_module_version": "1.5.0",
       "_view_name": "ProgressView",
       "bar_style": "success",
       "description": "",
       "description_tooltip": null,
       "layout": "IPY_MODEL_b94e2a2b4d824d199ad1b9449cbe965c",
       "max": 52.0,
       "min": 0.0,
       "orientation": "horizontal",
       "style": "IPY_MODEL_b03a824c5e544f8e9899c2a1c3db5c78",
       "value": 52.0
      }
     },
     "ce597139b56846f4a9e9bb491242a850": {
      "model_module": "@jupyter-widgets/controls",
      "model_module_version": "1.5.0",
      "model_name": "ProgressStyleModel",
      "state": {
       "_model_module": "@jupyter-widgets/controls",
       "_model_module_version": "1.5.0",
       "_model_name": "ProgressStyleModel",
       "_view_count": null,
       "_view_module": "@jupyter-widgets/base",
       "_view_module_version": "1.2.0",
       "_view_name": "StyleView",
       "bar_color": null,
       "description_width": ""
      }
     },
     "d6b2d861ea7e45dca4fa88c6631db900": {
      "model_module": "@jupyter-widgets/controls",
      "model_module_version": "1.5.0",
      "model_name": "DescriptionStyleModel",
      "state": {
       "_model_module": "@jupyter-widgets/controls",
       "_model_module_version": "1.5.0",
       "_model_name": "DescriptionStyleModel",
       "_view_count": null,
       "_view_module": "@jupyter-widgets/base",
       "_view_module_version": "1.2.0",
       "_view_name": "StyleView",
       "description_width": ""
      }
     },
     "dc22e2189b714aaa82dd9a1b268cd5b5": {
      "model_module": "@jupyter-widgets/base",
      "model_module_version": "1.2.0",
      "model_name": "LayoutModel",
      "state": {
       "_model_module": "@jupyter-widgets/base",
       "_model_module_version": "1.2.0",
       "_model_name": "LayoutModel",
       "_view_count": null,
       "_view_module": "@jupyter-widgets/base",
       "_view_module_version": "1.2.0",
       "_view_name": "LayoutView",
       "align_content": null,
       "align_items": null,
       "align_self": null,
       "border": null,
       "bottom": null,
       "display": null,
       "flex": null,
       "flex_flow": null,
       "grid_area": null,
       "grid_auto_columns": null,
       "grid_auto_flow": null,
       "grid_auto_rows": null,
       "grid_column": null,
       "grid_gap": null,
       "grid_row": null,
       "grid_template_areas": null,
       "grid_template_columns": null,
       "grid_template_rows": null,
       "height": null,
       "justify_content": null,
       "justify_items": null,
       "left": null,
       "margin": null,
       "max_height": null,
       "max_width": null,
       "min_height": null,
       "min_width": null,
       "object_fit": null,
       "object_position": null,
       "order": null,
       "overflow": null,
       "overflow_x": null,
       "overflow_y": null,
       "padding": null,
       "right": null,
       "top": null,
       "visibility": null,
       "width": null
      }
     },
     "dc6d141a946245b8a198e515966a44d7": {
      "model_module": "@jupyter-widgets/base",
      "model_module_version": "1.2.0",
      "model_name": "LayoutModel",
      "state": {
       "_model_module": "@jupyter-widgets/base",
       "_model_module_version": "1.2.0",
       "_model_name": "LayoutModel",
       "_view_count": null,
       "_view_module": "@jupyter-widgets/base",
       "_view_module_version": "1.2.0",
       "_view_name": "LayoutView",
       "align_content": null,
       "align_items": null,
       "align_self": null,
       "border": null,
       "bottom": null,
       "display": null,
       "flex": null,
       "flex_flow": null,
       "grid_area": null,
       "grid_auto_columns": null,
       "grid_auto_flow": null,
       "grid_auto_rows": null,
       "grid_column": null,
       "grid_gap": null,
       "grid_row": null,
       "grid_template_areas": null,
       "grid_template_columns": null,
       "grid_template_rows": null,
       "height": null,
       "justify_content": null,
       "justify_items": null,
       "left": null,
       "margin": null,
       "max_height": null,
       "max_width": null,
       "min_height": null,
       "min_width": null,
       "object_fit": null,
       "object_position": null,
       "order": null,
       "overflow": null,
       "overflow_x": null,
       "overflow_y": null,
       "padding": null,
       "right": null,
       "top": null,
       "visibility": null,
       "width": null
      }
     },
     "e3736f84bd204276918411425ee35cd2": {
      "model_module": "@jupyter-widgets/base",
      "model_module_version": "1.2.0",
      "model_name": "LayoutModel",
      "state": {
       "_model_module": "@jupyter-widgets/base",
       "_model_module_version": "1.2.0",
       "_model_name": "LayoutModel",
       "_view_count": null,
       "_view_module": "@jupyter-widgets/base",
       "_view_module_version": "1.2.0",
       "_view_name": "LayoutView",
       "align_content": null,
       "align_items": null,
       "align_self": null,
       "border": null,
       "bottom": null,
       "display": null,
       "flex": null,
       "flex_flow": null,
       "grid_area": null,
       "grid_auto_columns": null,
       "grid_auto_flow": null,
       "grid_auto_rows": null,
       "grid_column": null,
       "grid_gap": null,
       "grid_row": null,
       "grid_template_areas": null,
       "grid_template_columns": null,
       "grid_template_rows": null,
       "height": null,
       "justify_content": null,
       "justify_items": null,
       "left": null,
       "margin": null,
       "max_height": null,
       "max_width": null,
       "min_height": null,
       "min_width": null,
       "object_fit": null,
       "object_position": null,
       "order": null,
       "overflow": null,
       "overflow_x": null,
       "overflow_y": null,
       "padding": null,
       "right": null,
       "top": null,
       "visibility": null,
       "width": null
      }
     },
     "e52c420f5fb14f27bc664f65e28c1373": {
      "model_module": "@jupyter-widgets/controls",
      "model_module_version": "1.5.0",
      "model_name": "ProgressStyleModel",
      "state": {
       "_model_module": "@jupyter-widgets/controls",
       "_model_module_version": "1.5.0",
       "_model_name": "ProgressStyleModel",
       "_view_count": null,
       "_view_module": "@jupyter-widgets/base",
       "_view_module_version": "1.2.0",
       "_view_name": "StyleView",
       "bar_color": null,
       "description_width": ""
      }
     },
     "e5552076c99644b28c9bcbafcc349518": {
      "model_module": "@jupyter-widgets/controls",
      "model_module_version": "1.5.0",
      "model_name": "HTMLModel",
      "state": {
       "_dom_classes": [],
       "_model_module": "@jupyter-widgets/controls",
       "_model_module_version": "1.5.0",
       "_model_name": "HTMLModel",
       "_view_count": null,
       "_view_module": "@jupyter-widgets/controls",
       "_view_module_version": "1.5.0",
       "_view_name": "HTMLView",
       "description": "",
       "description_tooltip": null,
       "layout": "IPY_MODEL_dc22e2189b714aaa82dd9a1b268cd5b5",
       "placeholder": "​",
       "style": "IPY_MODEL_95ca92887da445f4851847ceeddb607e",
       "value": " 52.0/52.0 [00:00&lt;00:00, 4.44kB/s]"
      }
     },
     "e5c0eea411ee42ab8796e4d23c828b8d": {
      "model_module": "@jupyter-widgets/controls",
      "model_module_version": "1.5.0",
      "model_name": "FloatProgressModel",
      "state": {
       "_dom_classes": [],
       "_model_module": "@jupyter-widgets/controls",
       "_model_module_version": "1.5.0",
       "_model_name": "FloatProgressModel",
       "_view_count": null,
       "_view_module": "@jupyter-widgets/controls",
       "_view_module_version": "1.5.0",
       "_view_name": "ProgressView",
       "bar_style": "success",
       "description": "",
       "description_tooltip": null,
       "layout": "IPY_MODEL_0fb68234eca14f88b122bb51e06b6a4f",
       "max": 474.0,
       "min": 0.0,
       "orientation": "horizontal",
       "style": "IPY_MODEL_e52c420f5fb14f27bc664f65e28c1373",
       "value": 474.0
      }
     },
     "e82c1ae43c9b4510ab929ae5f0b53a05": {
      "model_module": "@jupyter-widgets/base",
      "model_module_version": "1.2.0",
      "model_name": "LayoutModel",
      "state": {
       "_model_module": "@jupyter-widgets/base",
       "_model_module_version": "1.2.0",
       "_model_name": "LayoutModel",
       "_view_count": null,
       "_view_module": "@jupyter-widgets/base",
       "_view_module_version": "1.2.0",
       "_view_name": "LayoutView",
       "align_content": null,
       "align_items": null,
       "align_self": null,
       "border": null,
       "bottom": null,
       "display": null,
       "flex": null,
       "flex_flow": null,
       "grid_area": null,
       "grid_auto_columns": null,
       "grid_auto_flow": null,
       "grid_auto_rows": null,
       "grid_column": null,
       "grid_gap": null,
       "grid_row": null,
       "grid_template_areas": null,
       "grid_template_columns": null,
       "grid_template_rows": null,
       "height": null,
       "justify_content": null,
       "justify_items": null,
       "left": null,
       "margin": null,
       "max_height": null,
       "max_width": null,
       "min_height": null,
       "min_width": null,
       "object_fit": null,
       "object_position": null,
       "order": null,
       "overflow": null,
       "overflow_x": null,
       "overflow_y": null,
       "padding": null,
       "right": null,
       "top": null,
       "visibility": null,
       "width": null
      }
     },
     "e97070f8ae2f4f5b9d01e5cb1a0dffd1": {
      "model_module": "@jupyter-widgets/controls",
      "model_module_version": "1.5.0",
      "model_name": "DescriptionStyleModel",
      "state": {
       "_model_module": "@jupyter-widgets/controls",
       "_model_module_version": "1.5.0",
       "_model_name": "DescriptionStyleModel",
       "_view_count": null,
       "_view_module": "@jupyter-widgets/base",
       "_view_module_version": "1.2.0",
       "_view_name": "StyleView",
       "description_width": ""
      }
     },
     "efe08fde98e54ddf855c14e282f96a4c": {
      "model_module": "@jupyter-widgets/controls",
      "model_module_version": "1.5.0",
      "model_name": "HBoxModel",
      "state": {
       "_dom_classes": [],
       "_model_module": "@jupyter-widgets/controls",
       "_model_module_version": "1.5.0",
       "_model_name": "HBoxModel",
       "_view_count": null,
       "_view_module": "@jupyter-widgets/controls",
       "_view_module_version": "1.5.0",
       "_view_name": "HBoxView",
       "box_style": "",
       "children": [
        "IPY_MODEL_376b51c003b04f0aa23019dc497edfab",
        "IPY_MODEL_6a8f868be11a40508bf258a334c11f9a",
        "IPY_MODEL_8ad6387f873c4d7aadce01d1efb0748b"
       ],
       "layout": "IPY_MODEL_e82c1ae43c9b4510ab929ae5f0b53a05"
      }
     },
     "f8043aaed60e402381b7b17f72175089": {
      "model_module": "@jupyter-widgets/controls",
      "model_module_version": "1.5.0",
      "model_name": "HBoxModel",
      "state": {
       "_dom_classes": [],
       "_model_module": "@jupyter-widgets/controls",
       "_model_module_version": "1.5.0",
       "_model_name": "HBoxModel",
       "_view_count": null,
       "_view_module": "@jupyter-widgets/controls",
       "_view_module_version": "1.5.0",
       "_view_name": "HBoxView",
       "box_style": "",
       "children": [
        "IPY_MODEL_3646d77243a440bcb5a2eeebb2ac98f8",
        "IPY_MODEL_454639b81cee4871a1120461a17c1dd5",
        "IPY_MODEL_93201aff77074cfdba4e9a1cc8a88972"
       ],
       "layout": "IPY_MODEL_0656f10beaad41d7a407d81bc7106e66"
      }
     }
    },
    "version_major": 2,
    "version_minor": 0
   }
  }
 },
 "nbformat": 4,
 "nbformat_minor": 5
}
