{
 "cells": [
  {
   "cell_type": "code",
   "execution_count": 1,
   "metadata": {
    "_cell_guid": "b1076dfc-b9ad-4769-8c92-a6c4dae69d19",
    "_uuid": "8f2839f25d086af736a60e9eeb907d3b93b6e0e5",
    "execution": {
     "iopub.execute_input": "2023-04-28T16:25:36.800197Z",
     "iopub.status.busy": "2023-04-28T16:25:36.799622Z",
     "iopub.status.idle": "2023-04-28T16:25:36.862543Z",
     "shell.execute_reply": "2023-04-28T16:25:36.861939Z",
     "shell.execute_reply.started": "2023-04-28T16:23:35.100477Z"
    },
    "papermill": {
     "duration": 0.094945,
     "end_time": "2023-04-28T16:25:36.862653",
     "exception": false,
     "start_time": "2023-04-28T16:25:36.767708",
     "status": "completed"
    },
    "tags": []
   },
   "outputs": [],
   "source": [
    "# This Python 3 environment comes with many helpful analytics libraries installed\n",
    "# It is defined by the kaggle/python Docker image: https://github.com/kaggle/docker-python\n",
    "# For example, here's several helpful packages to load\n",
    "\n",
    "import numpy as np # linear algebra\n",
    "import pandas as pd # data processing, CSV file I/O (e.g. pd.read_csv)\n",
    "\n",
    "# Input data files are available in the read-only \"../input/\" directory\n",
    "# For example, running this (by clicking run or pressing Shift+Enter) will list all files under the input directory\n",
    "\n",
    "import os\n",
    "for dirname, _, filenames in os.walk('/kaggle/input'):\n",
    "    for filename in filenames:\n",
    "        print(os.path.join(dirname, filename))\n",
    "\n",
    "# You can write up to 20GB to the current directory (/kaggle/working/) that gets preserved as output when you create a version using \"Save & Run All\" \n",
    "# You can also write temporary files to /kaggle/temp/, but they won't be saved outside of the current session"
   ]
  },
  {
   "cell_type": "code",
   "execution_count": 2,
   "metadata": {},
   "outputs": [],
   "source": [
    "from transformers import BertTokenizerFast, BertModel\n",
    "tokenizer = BertTokenizerFast.from_pretrained('bert-base-uncased')\n",
    "model = BertModel.from_pretrained(\"bert-base-uncased\")\n",
    "text = \"Replace me by any text you'd like.\"\n",
    "encoded_input = tokenizer(text, return_tensors='pt')\n",
    "output = model(**encoded_input)\n"
   ]
  },
  {
   "cell_type": "code",
   "execution_count": 2,
   "metadata": {
    "execution": {
     "iopub.execute_input": "2023-04-28T16:25:36.916642Z",
     "iopub.status.busy": "2023-04-28T16:25:36.915905Z",
     "iopub.status.idle": "2023-04-28T16:25:45.984506Z",
     "shell.execute_reply": "2023-04-28T16:25:45.984939Z",
     "shell.execute_reply.started": "2023-04-28T16:23:35.126695Z"
    },
    "papermill": {
     "duration": 9.097677,
     "end_time": "2023-04-28T16:25:45.985127",
     "exception": false,
     "start_time": "2023-04-28T16:25:36.887450",
     "status": "completed"
    },
    "tags": []
   },
   "outputs": [],
   "source": [
    "import torch\n",
    "import torch.nn as nn\n",
    "\n",
    "import seaborn as sns\n",
    "import matplotlib.pyplot as plt\n",
    "\n",
    "from tqdm import tqdm\n",
    "\n",
    "from sklearn.model_selection import train_test_split\n",
    "\n",
    "import transformers\n",
    "from transformers import BertModel, BertTokenizer, AdamW, get_linear_schedule_with_warmup"
   ]
  },
  {
   "cell_type": "markdown",
   "metadata": {
    "papermill": {
     "duration": 0.023583,
     "end_time": "2023-04-28T16:25:46.033340",
     "exception": false,
     "start_time": "2023-04-28T16:25:46.009757",
     "status": "completed"
    },
    "tags": []
   },
   "source": [
    "**test whether the system has a GPU support and fix device variable accordingly**"
   ]
  },
  {
   "cell_type": "code",
   "execution_count": 3,
   "metadata": {
    "execution": {
     "iopub.execute_input": "2023-04-28T16:25:46.125112Z",
     "iopub.status.busy": "2023-04-28T16:25:46.124287Z",
     "iopub.status.idle": "2023-04-28T16:25:46.130672Z",
     "shell.execute_reply": "2023-04-28T16:25:46.130236Z",
     "shell.execute_reply.started": "2023-04-28T16:23:43.506167Z"
    },
    "papermill": {
     "duration": 0.07256,
     "end_time": "2023-04-28T16:25:46.130770",
     "exception": false,
     "start_time": "2023-04-28T16:25:46.058210",
     "status": "completed"
    },
    "tags": []
   },
   "outputs": [],
   "source": [
    "device = torch.device(\"cuda\" if torch.cuda.is_available() else \"cpu\")"
   ]
  },
  {
   "cell_type": "markdown",
   "metadata": {
    "papermill": {
     "duration": 0.023611,
     "end_time": "2023-04-28T16:25:46.178392",
     "exception": false,
     "start_time": "2023-04-28T16:25:46.154781",
     "status": "completed"
    },
    "tags": []
   },
   "source": [
    "**Set the random seeds for deterministic results.**"
   ]
  },
  {
   "cell_type": "code",
   "execution_count": 4,
   "metadata": {
    "execution": {
     "iopub.execute_input": "2023-04-28T16:25:46.232124Z",
     "iopub.status.busy": "2023-04-28T16:25:46.231406Z",
     "iopub.status.idle": "2023-04-28T16:25:46.236486Z",
     "shell.execute_reply": "2023-04-28T16:25:46.237009Z",
     "shell.execute_reply.started": "2023-04-28T16:23:43.514265Z"
    },
    "papermill": {
     "duration": 0.034912,
     "end_time": "2023-04-28T16:25:46.237164",
     "exception": false,
     "start_time": "2023-04-28T16:25:46.202252",
     "status": "completed"
    },
    "tags": []
   },
   "outputs": [],
   "source": [
    "SEED = 1234\n",
    "\n",
    "np.random.seed(SEED)\n",
    "torch.manual_seed(SEED)\n",
    "torch.cuda.manual_seed(SEED)\n",
    "torch.backends.cudnn.deterministic = True"
   ]
  },
  {
   "cell_type": "markdown",
   "metadata": {
    "papermill": {
     "duration": 0.023757,
     "end_time": "2023-04-28T16:25:46.284666",
     "exception": false,
     "start_time": "2023-04-28T16:25:46.260909",
     "status": "completed"
    },
    "tags": []
   },
   "source": [
    "# Data analysis"
   ]
  },
  {
   "cell_type": "code",
   "execution_count": null,
   "metadata": {
    "execution": {
     "iopub.execute_input": "2023-04-28T16:25:46.341241Z",
     "iopub.status.busy": "2023-04-28T16:25:46.340699Z",
     "iopub.status.idle": "2023-04-28T16:25:48.064975Z",
     "shell.execute_reply": "2023-04-28T16:25:48.065447Z",
     "shell.execute_reply.started": "2023-04-28T16:23:43.525795Z"
    },
    "papermill": {
     "duration": 1.757238,
     "end_time": "2023-04-28T16:25:48.065583",
     "exception": false,
     "start_time": "2023-04-28T16:25:46.308345",
     "status": "completed"
    },
    "tags": []
   },
   "outputs": [],
   "source": [
    "df = pd.read_csv(\"/kaggle/input/qqp-new/train.tsv\", sep='\\t')\n",
    "df.info()\n",
    "# remove Null Values\n",
    "df.dropna(inplace=True)"
   ]
  },
  {
   "cell_type": "code",
   "execution_count": null,
   "metadata": {
    "execution": {
     "iopub.execute_input": "2023-04-28T16:25:48.118281Z",
     "iopub.status.busy": "2023-04-28T16:25:48.117693Z",
     "iopub.status.idle": "2023-04-28T16:25:48.121503Z",
     "shell.execute_reply": "2023-04-28T16:25:48.120909Z",
     "shell.execute_reply.started": "2023-04-28T16:23:45.346152Z"
    },
    "papermill": {
     "duration": 0.031962,
     "end_time": "2023-04-28T16:25:48.121610",
     "exception": false,
     "start_time": "2023-04-28T16:25:48.089648",
     "status": "completed"
    },
    "tags": []
   },
   "outputs": [],
   "source": [
    "# train_sentences_lens = train_df['question1'].apply(lambda x: len(x.split(' '))).tolist()\n",
    "# train_sentences_lens.extend(train_df['question2'].apply(lambda x: len(x.split(' '))).tolist())\n",
    "# sns.distplot(train_sentences_lens)"
   ]
  },
  {
   "cell_type": "markdown",
   "metadata": {
    "papermill": {
     "duration": 0.023825,
     "end_time": "2023-04-28T16:25:48.169221",
     "exception": false,
     "start_time": "2023-04-28T16:25:48.145396",
     "status": "completed"
    },
    "tags": []
   },
   "source": [
    "As we see from the graph, the number of cases where words counts greater than 40 is too small."
   ]
  },
  {
   "cell_type": "code",
   "execution_count": null,
   "metadata": {
    "execution": {
     "iopub.execute_input": "2023-04-28T16:25:48.221542Z",
     "iopub.status.busy": "2023-04-28T16:25:48.220932Z",
     "iopub.status.idle": "2023-04-28T16:25:48.224977Z",
     "shell.execute_reply": "2023-04-28T16:25:48.224554Z",
     "shell.execute_reply.started": "2023-04-28T16:23:45.353410Z"
    },
    "papermill": {
     "duration": 0.031829,
     "end_time": "2023-04-28T16:25:48.225104",
     "exception": false,
     "start_time": "2023-04-28T16:25:48.193275",
     "status": "completed"
    },
    "tags": []
   },
   "outputs": [],
   "source": [
    "MAX_LEN = 40"
   ]
  },
  {
   "cell_type": "code",
   "execution_count": null,
   "metadata": {
    "execution": {
     "iopub.execute_input": "2023-04-28T16:25:48.283137Z",
     "iopub.status.busy": "2023-04-28T16:25:48.282535Z",
     "iopub.status.idle": "2023-04-28T16:25:48.293390Z",
     "shell.execute_reply": "2023-04-28T16:25:48.293824Z",
     "shell.execute_reply.started": "2023-04-28T16:23:45.365622Z"
    },
    "papermill": {
     "duration": 0.045104,
     "end_time": "2023-04-28T16:25:48.293949",
     "exception": false,
     "start_time": "2023-04-28T16:25:48.248845",
     "status": "completed"
    },
    "tags": []
   },
   "outputs": [
    {
     "name": "stdout",
     "output_type": "stream",
     "text": [
      "363846\n"
     ]
    },
    {
     "data": {
      "text/html": [
       "<div>\n",
       "<style scoped>\n",
       "    .dataframe tbody tr th:only-of-type {\n",
       "        vertical-align: middle;\n",
       "    }\n",
       "\n",
       "    .dataframe tbody tr th {\n",
       "        vertical-align: top;\n",
       "    }\n",
       "\n",
       "    .dataframe thead th {\n",
       "        text-align: right;\n",
       "    }\n",
       "</style>\n",
       "<table border=\"1\" class=\"dataframe\">\n",
       "  <thead>\n",
       "    <tr style=\"text-align: right;\">\n",
       "      <th></th>\n",
       "      <th>id</th>\n",
       "      <th>qid1</th>\n",
       "      <th>qid2</th>\n",
       "      <th>question1</th>\n",
       "      <th>question2</th>\n",
       "      <th>is_duplicate</th>\n",
       "    </tr>\n",
       "  </thead>\n",
       "  <tbody>\n",
       "    <tr>\n",
       "      <th>0</th>\n",
       "      <td>133273</td>\n",
       "      <td>213221</td>\n",
       "      <td>213222</td>\n",
       "      <td>How is the life of a math student? Could you d...</td>\n",
       "      <td>Which level of prepration is enough for the ex...</td>\n",
       "      <td>0</td>\n",
       "    </tr>\n",
       "    <tr>\n",
       "      <th>1</th>\n",
       "      <td>402555</td>\n",
       "      <td>536040</td>\n",
       "      <td>536041</td>\n",
       "      <td>How do I control my horny emotions?</td>\n",
       "      <td>How do you control your horniness?</td>\n",
       "      <td>1</td>\n",
       "    </tr>\n",
       "    <tr>\n",
       "      <th>2</th>\n",
       "      <td>360472</td>\n",
       "      <td>364011</td>\n",
       "      <td>490273</td>\n",
       "      <td>What causes stool color to change to yellow?</td>\n",
       "      <td>What can cause stool to come out as little balls?</td>\n",
       "      <td>0</td>\n",
       "    </tr>\n",
       "    <tr>\n",
       "      <th>3</th>\n",
       "      <td>150662</td>\n",
       "      <td>155721</td>\n",
       "      <td>7256</td>\n",
       "      <td>What can one do after MBBS?</td>\n",
       "      <td>What do i do after my MBBS ?</td>\n",
       "      <td>1</td>\n",
       "    </tr>\n",
       "    <tr>\n",
       "      <th>4</th>\n",
       "      <td>183004</td>\n",
       "      <td>279958</td>\n",
       "      <td>279959</td>\n",
       "      <td>Where can I find a power outlet for my laptop ...</td>\n",
       "      <td>Would a second airport in Sydney, Australia be...</td>\n",
       "      <td>0</td>\n",
       "    </tr>\n",
       "  </tbody>\n",
       "</table>\n",
       "</div>"
      ],
      "text/plain": [
       "       id    qid1    qid2                                          question1  \\\n",
       "0  133273  213221  213222  How is the life of a math student? Could you d...   \n",
       "1  402555  536040  536041                How do I control my horny emotions?   \n",
       "2  360472  364011  490273       What causes stool color to change to yellow?   \n",
       "3  150662  155721    7256                        What can one do after MBBS?   \n",
       "4  183004  279958  279959  Where can I find a power outlet for my laptop ...   \n",
       "\n",
       "                                           question2  is_duplicate  \n",
       "0  Which level of prepration is enough for the ex...             0  \n",
       "1                 How do you control your horniness?             1  \n",
       "2  What can cause stool to come out as little balls?             0  \n",
       "3                       What do i do after my MBBS ?             1  \n",
       "4  Would a second airport in Sydney, Australia be...             0  "
      ]
     },
     "execution_count": 8,
     "metadata": {},
     "output_type": "execute_result"
    }
   ],
   "source": [
    "print(len(df))\n",
    "df.head()"
   ]
  },
  {
   "cell_type": "code",
   "execution_count": null,
   "metadata": {
    "execution": {
     "iopub.execute_input": "2023-04-28T16:25:48.347699Z",
     "iopub.status.busy": "2023-04-28T16:25:48.347122Z",
     "iopub.status.idle": "2023-04-28T16:25:48.351438Z",
     "shell.execute_reply": "2023-04-28T16:25:48.350998Z",
     "shell.execute_reply.started": "2023-04-28T16:23:45.388339Z"
    },
    "papermill": {
     "duration": 0.032668,
     "end_time": "2023-04-28T16:25:48.351539",
     "exception": false,
     "start_time": "2023-04-28T16:25:48.318871",
     "status": "completed"
    },
    "tags": []
   },
   "outputs": [],
   "source": [
    "# train_df = df[:75000]\n",
    "# val_df = df[75000:90000]\n",
    "\n",
    "# print(len(train_df))\n",
    "# print(len(val_df))"
   ]
  },
  {
   "cell_type": "code",
   "execution_count": null,
   "metadata": {
    "execution": {
     "iopub.execute_input": "2023-04-28T16:25:48.409481Z",
     "iopub.status.busy": "2023-04-28T16:25:48.408783Z",
     "iopub.status.idle": "2023-04-28T16:25:48.411612Z",
     "shell.execute_reply": "2023-04-28T16:25:48.409967Z",
     "shell.execute_reply.started": "2023-04-28T16:23:45.394129Z"
    },
    "papermill": {
     "duration": 0.035547,
     "end_time": "2023-04-28T16:25:48.411720",
     "exception": false,
     "start_time": "2023-04-28T16:25:48.376173",
     "status": "completed"
    },
    "tags": []
   },
   "outputs": [
    {
     "name": "stdout",
     "output_type": "stream",
     "text": [
      "50000\n",
      "10000\n"
     ]
    }
   ],
   "source": [
    "train_df = df[:50000]\n",
    "val_df = df[50000:60000]\n",
    "\n",
    "print(len(train_df))\n",
    "print(len(val_df))"
   ]
  },
  {
   "cell_type": "code",
   "execution_count": null,
   "metadata": {
    "execution": {
     "iopub.execute_input": "2023-04-28T16:25:48.500872Z",
     "iopub.status.busy": "2023-04-28T16:25:48.480129Z",
     "iopub.status.idle": "2023-04-28T16:25:48.524846Z",
     "shell.execute_reply": "2023-04-28T16:25:48.524221Z",
     "shell.execute_reply.started": "2023-04-28T16:23:45.403797Z"
    },
    "papermill": {
     "duration": 0.088155,
     "end_time": "2023-04-28T16:25:48.524951",
     "exception": false,
     "start_time": "2023-04-28T16:25:48.436796",
     "status": "completed"
    },
    "tags": []
   },
   "outputs": [
    {
     "name": "stdout",
     "output_type": "stream",
     "text": [
      "Unique Questions number: 88759\n",
      "\n",
      "Top 5 most frequently asked questions: \n",
      "['Is it unhealthy to look forward to death? count: 23']\n",
      "['Instagram: is using too much hashtags vulgar? count: 14']\n",
      "['How could I lose a few pounds quickly? count: 14']\n",
      "['How can I earn money part time online? count: 13']\n",
      "['How can I loose weight in a week? count: 12']\n"
     ]
    }
   ],
   "source": [
    "qids = pd.Series(list(train_df['qid1']) + list(train_df['qid2']))\n",
    "\n",
    "print ('Unique Questions number: {}\\n'.format(len(np.unique(qids))))\n",
    "\n",
    "q_vals=qids.value_counts()[0:5]\n",
    "print ('Top 5 most frequently asked questions: ')\n",
    "\n",
    "for pair in q_vals.iteritems():\n",
    "    print(train_df.loc[train_df['qid2']==pair[0]]['question1'].head(1).values + \" count: \" + str(pair[1]))\n",
    "\n",
    "q_vals=q_vals.values"
   ]
  },
  {
   "cell_type": "markdown",
   "metadata": {
    "papermill": {
     "duration": 0.025307,
     "end_time": "2023-04-28T16:25:48.575995",
     "exception": false,
     "start_time": "2023-04-28T16:25:48.550688",
     "status": "completed"
    },
    "tags": []
   },
   "source": [
    "### Checking whether there are any repeated pair of questions"
   ]
  },
  {
   "cell_type": "code",
   "execution_count": null,
   "metadata": {
    "execution": {
     "iopub.execute_input": "2023-04-28T16:25:48.631945Z",
     "iopub.status.busy": "2023-04-28T16:25:48.631152Z",
     "iopub.status.idle": "2023-04-28T16:25:48.642578Z",
     "shell.execute_reply": "2023-04-28T16:25:48.642111Z",
     "shell.execute_reply.started": "2023-04-28T16:23:45.468976Z"
    },
    "papermill": {
     "duration": 0.041537,
     "end_time": "2023-04-28T16:25:48.642675",
     "exception": false,
     "start_time": "2023-04-28T16:25:48.601138",
     "status": "completed"
    },
    "tags": []
   },
   "outputs": [
    {
     "name": "stdout",
     "output_type": "stream",
     "text": [
      "Number of duplicate questions :  0\n"
     ]
    }
   ],
   "source": [
    "duplicate_rows = train_df[train_df.duplicated(['qid1','qid2'])]\n",
    "print (\"Number of duplicate questions : \", len(duplicate_rows))"
   ]
  },
  {
   "cell_type": "markdown",
   "metadata": {
    "papermill": {
     "duration": 0.025337,
     "end_time": "2023-04-28T16:25:48.693615",
     "exception": false,
     "start_time": "2023-04-28T16:25:48.668278",
     "status": "completed"
    },
    "tags": []
   },
   "source": [
    "# Dataset Preparation"
   ]
  },
  {
   "cell_type": "code",
   "execution_count": null,
   "metadata": {
    "execution": {
     "iopub.execute_input": "2023-04-28T16:25:48.749813Z",
     "iopub.status.busy": "2023-04-28T16:25:48.749024Z",
     "iopub.status.idle": "2023-04-28T16:25:48.752004Z",
     "shell.execute_reply": "2023-04-28T16:25:48.751479Z",
     "shell.execute_reply.started": "2023-04-28T16:23:45.484982Z"
    },
    "papermill": {
     "duration": 0.032927,
     "end_time": "2023-04-28T16:25:48.752134",
     "exception": false,
     "start_time": "2023-04-28T16:25:48.719207",
     "status": "completed"
    },
    "tags": []
   },
   "outputs": [],
   "source": [
    "BERT_VERSION = 'bert-base-uncased'\n",
    "POOLED_OUTPUT_DIM = 768"
   ]
  },
  {
   "cell_type": "code",
   "execution_count": null,
   "metadata": {
    "execution": {
     "iopub.execute_input": "2023-04-28T16:25:48.808212Z",
     "iopub.status.busy": "2023-04-28T16:25:48.807448Z",
     "iopub.status.idle": "2023-04-28T16:25:49.287776Z",
     "shell.execute_reply": "2023-04-28T16:25:49.288241Z",
     "shell.execute_reply.started": "2023-04-28T16:23:45.490754Z"
    },
    "papermill": {
     "duration": 0.510486,
     "end_time": "2023-04-28T16:25:49.288388",
     "exception": false,
     "start_time": "2023-04-28T16:25:48.777902",
     "status": "completed"
    },
    "tags": []
   },
   "outputs": [
    {
     "data": {
      "application/vnd.jupyter.widget-view+json": {
       "model_id": "c394737783e643bdbb6dd3d271e0a3cd",
       "version_major": 2,
       "version_minor": 0
      },
      "text/plain": [
       "HBox(children=(FloatProgress(value=0.0, description='Downloading', max=231508.0, style=ProgressStyle(descripti…"
      ]
     },
     "metadata": {},
     "output_type": "display_data"
    },
    {
     "name": "stdout",
     "output_type": "stream",
     "text": [
      "\n"
     ]
    }
   ],
   "source": [
    "tokenizer = BertTokenizer.from_pretrained(BERT_VERSION)"
   ]
  },
  {
   "cell_type": "code",
   "execution_count": null,
   "metadata": {
    "execution": {
     "iopub.execute_input": "2023-04-28T16:25:49.346666Z",
     "iopub.status.busy": "2023-04-28T16:25:49.345811Z",
     "iopub.status.idle": "2023-04-28T16:25:49.351683Z",
     "shell.execute_reply": "2023-04-28T16:25:49.351214Z",
     "shell.execute_reply.started": "2023-04-28T16:23:46.556194Z"
    },
    "papermill": {
     "duration": 0.036824,
     "end_time": "2023-04-28T16:25:49.351781",
     "exception": false,
     "start_time": "2023-04-28T16:25:49.314957",
     "status": "completed"
    },
    "tags": []
   },
   "outputs": [],
   "source": [
    "# split data to train and validation sets\n",
    "# train_df, val_df = train_test_split(train_df, test_size=0.1)\n",
    "train_df = train_df.reset_index(drop=True)\n",
    "val_df = val_df.reset_index(drop=True)"
   ]
  },
  {
   "cell_type": "code",
   "execution_count": null,
   "metadata": {
    "execution": {
     "iopub.execute_input": "2023-04-28T16:25:49.414786Z",
     "iopub.status.busy": "2023-04-28T16:25:49.413946Z",
     "iopub.status.idle": "2023-04-28T16:25:49.416826Z",
     "shell.execute_reply": "2023-04-28T16:25:49.416365Z",
     "shell.execute_reply.started": "2023-04-28T16:23:46.565795Z"
    },
    "papermill": {
     "duration": 0.038852,
     "end_time": "2023-04-28T16:25:49.416930",
     "exception": false,
     "start_time": "2023-04-28T16:25:49.378078",
     "status": "completed"
    },
    "tags": []
   },
   "outputs": [],
   "source": [
    "class BertDataSet:\n",
    "    def __init__(self, first_questions, second_questions, targets, tokenizer):\n",
    "        self.first_questions = first_questions\n",
    "        self.second_questions = second_questions\n",
    "        self.targets = targets\n",
    "        self.tokenizer = tokenizer\n",
    "        self.length = len(first_questions)\n",
    "        \n",
    "    def __len__(self):\n",
    "        return self.length\n",
    "\n",
    "    def __getitem__(self, item):\n",
    "        first_question = str(self.first_questions[item])\n",
    "        second_question = str(self.second_questions[item])\n",
    "\n",
    "        # removes extra white spaces from questions\n",
    "        first_question = \" \".join(first_question.split())\n",
    "        second_question = \" \".join(second_question.split())\n",
    "        \n",
    "        ### [CLS] question1 [SEP] questions2 [SEP] ... [PAD]\n",
    "        inputs = self.tokenizer.encode_plus(\n",
    "            first_question,\n",
    "            second_question,\n",
    "            add_special_tokens=True,\n",
    "            padding='max_length',\n",
    "            max_length=2 * MAX_LEN + 3, # max length of 2 questions and 3 special tokens\n",
    "            truncation=True   \n",
    "        )\n",
    "        \n",
    "        # return targets 0, when using data set in testing and targets are none\n",
    "        return {\n",
    "            \"ids\": torch.tensor(inputs[\"input_ids\"], dtype=torch.long),\n",
    "            \"mask\": torch.tensor(inputs[\"attention_mask\"], dtype=torch.long),\n",
    "            \"token_type_ids\": torch.tensor(inputs[\"token_type_ids\"], dtype=torch.long),\n",
    "            \"targets\": torch.tensor(int(self.targets[item]), dtype=torch.long) if self.targets is not None else 0\n",
    "        }\n",
    "        "
   ]
  },
  {
   "cell_type": "code",
   "execution_count": null,
   "metadata": {
    "execution": {
     "iopub.execute_input": "2023-04-28T16:25:49.477093Z",
     "iopub.status.busy": "2023-04-28T16:25:49.475176Z",
     "iopub.status.idle": "2023-04-28T16:25:49.477678Z",
     "shell.execute_reply": "2023-04-28T16:25:49.478119Z",
     "shell.execute_reply.started": "2023-04-28T16:23:46.579841Z"
    },
    "papermill": {
     "duration": 0.034709,
     "end_time": "2023-04-28T16:25:49.478243",
     "exception": false,
     "start_time": "2023-04-28T16:25:49.443534",
     "status": "completed"
    },
    "tags": []
   },
   "outputs": [],
   "source": [
    "# creates dataset and returns dataloader of it\n",
    "def get_data_loader(df, targets, batch_size, shuffle, tokenizer):\n",
    "    dataset = BertDataSet(\n",
    "        first_questions=df[\"question1\"].values,\n",
    "        second_questions=df[\"question2\"].values,\n",
    "        targets=targets,\n",
    "        tokenizer=tokenizer\n",
    "    )\n",
    "    \n",
    "    data_loader = torch.utils.data.DataLoader(\n",
    "        dataset,\n",
    "        batch_size = batch_size,\n",
    "        shuffle=shuffle\n",
    "    )\n",
    "    \n",
    "    return data_loader"
   ]
  },
  {
   "cell_type": "code",
   "execution_count": null,
   "metadata": {
    "execution": {
     "iopub.execute_input": "2023-04-28T16:25:49.534332Z",
     "iopub.status.busy": "2023-04-28T16:25:49.533588Z",
     "iopub.status.idle": "2023-04-28T16:25:49.536934Z",
     "shell.execute_reply": "2023-04-28T16:25:49.536502Z",
     "shell.execute_reply.started": "2023-04-28T16:23:46.591284Z"
    },
    "papermill": {
     "duration": 0.03273,
     "end_time": "2023-04-28T16:25:49.537024",
     "exception": false,
     "start_time": "2023-04-28T16:25:49.504294",
     "status": "completed"
    },
    "tags": []
   },
   "outputs": [],
   "source": [
    "# training batch size we gonna use throughout this notebook.\n",
    "BS = 48"
   ]
  },
  {
   "cell_type": "code",
   "execution_count": null,
   "metadata": {
    "execution": {
     "iopub.execute_input": "2023-04-28T16:25:49.595532Z",
     "iopub.status.busy": "2023-04-28T16:25:49.594832Z",
     "iopub.status.idle": "2023-04-28T16:25:49.598784Z",
     "shell.execute_reply": "2023-04-28T16:25:49.598339Z",
     "shell.execute_reply.started": "2023-04-28T16:23:46.600867Z"
    },
    "papermill": {
     "duration": 0.035661,
     "end_time": "2023-04-28T16:25:49.598877",
     "exception": false,
     "start_time": "2023-04-28T16:25:49.563216",
     "status": "completed"
    },
    "tags": []
   },
   "outputs": [],
   "source": [
    "# create data loaders of training and validation data.\n",
    "train_data_loader = get_data_loader(\n",
    "    df=train_df,\n",
    "    targets=train_df[\"is_duplicate\"].values,\n",
    "    batch_size=BS,\n",
    "    shuffle=True,\n",
    "    tokenizer=tokenizer\n",
    ")\n",
    "\n",
    "val_data_loader = get_data_loader(\n",
    "    df=val_df,\n",
    "    targets=val_df[\"is_duplicate\"].values,\n",
    "    batch_size=4 * BS,\n",
    "    shuffle=True,\n",
    "    tokenizer=tokenizer\n",
    ")"
   ]
  },
  {
   "cell_type": "markdown",
   "metadata": {
    "papermill": {
     "duration": 0.026068,
     "end_time": "2023-04-28T16:25:49.651620",
     "exception": false,
     "start_time": "2023-04-28T16:25:49.625552",
     "status": "completed"
    },
    "tags": []
   },
   "source": [
    "# Model"
   ]
  },
  {
   "cell_type": "code",
   "execution_count": null,
   "metadata": {
    "execution": {
     "iopub.execute_input": "2023-04-28T16:25:49.713490Z",
     "iopub.status.busy": "2023-04-28T16:25:49.712829Z",
     "iopub.status.idle": "2023-04-28T16:26:07.108612Z",
     "shell.execute_reply": "2023-04-28T16:26:07.107901Z",
     "shell.execute_reply.started": "2023-04-28T16:23:46.614586Z"
    },
    "papermill": {
     "duration": 17.431067,
     "end_time": "2023-04-28T16:26:07.108735",
     "exception": false,
     "start_time": "2023-04-28T16:25:49.677668",
     "status": "completed"
    },
    "tags": []
   },
   "outputs": [
    {
     "data": {
      "application/vnd.jupyter.widget-view+json": {
       "model_id": "8f40d1cb32a34053b5ffc0d1412a00e8",
       "version_major": 2,
       "version_minor": 0
      },
      "text/plain": [
       "HBox(children=(FloatProgress(value=0.0, description='Downloading', max=570.0, style=ProgressStyle(description_…"
      ]
     },
     "metadata": {},
     "output_type": "display_data"
    },
    {
     "name": "stdout",
     "output_type": "stream",
     "text": [
      "\n"
     ]
    },
    {
     "data": {
      "application/vnd.jupyter.widget-view+json": {
       "model_id": "10ca78f5114b492abe62f38b23572004",
       "version_major": 2,
       "version_minor": 0
      },
      "text/plain": [
       "HBox(children=(FloatProgress(value=0.0, description='Downloading', max=440473133.0, style=ProgressStyle(descri…"
      ]
     },
     "metadata": {},
     "output_type": "display_data"
    },
    {
     "name": "stdout",
     "output_type": "stream",
     "text": [
      "\n"
     ]
    }
   ],
   "source": [
    "class BertModel(nn.Module):\n",
    "    def __init__(self, bert_path):\n",
    "        super(BertModel, self).__init__()\n",
    "        self.bert_path = bert_path\n",
    "        self.bert = transformers.BertModel.from_pretrained(self.bert_path)\n",
    "        self.dropout = nn.Dropout(0.3)\n",
    "        self.out = nn.Linear(POOLED_OUTPUT_DIM, 1)\n",
    "\n",
    "    def forward(self, ids, mask, token_type_ids):\n",
    "        _, pooled = self.bert(ids, attention_mask=mask,token_type_ids=token_type_ids)\n",
    "        \n",
    "        # add dropout to prevent overfitting.\n",
    "        pooled = self.dropout(pooled) \n",
    "        return self.out(pooled)\n",
    "\n",
    "model = BertModel(BERT_VERSION).to(device)"
   ]
  },
  {
   "cell_type": "markdown",
   "metadata": {
    "papermill": {
     "duration": 0.027867,
     "end_time": "2023-04-28T16:26:07.166748",
     "exception": false,
     "start_time": "2023-04-28T16:26:07.138881",
     "status": "completed"
    },
    "tags": []
   },
   "source": [
    "# Training"
   ]
  },
  {
   "cell_type": "code",
   "execution_count": null,
   "metadata": {
    "execution": {
     "iopub.execute_input": "2023-04-28T16:26:07.226753Z",
     "iopub.status.busy": "2023-04-28T16:26:07.226202Z",
     "iopub.status.idle": "2023-04-28T16:26:07.230372Z",
     "shell.execute_reply": "2023-04-28T16:26:07.229882Z",
     "shell.execute_reply.started": "2023-04-28T16:24:03.823935Z"
    },
    "papermill": {
     "duration": 0.035899,
     "end_time": "2023-04-28T16:26:07.230482",
     "exception": false,
     "start_time": "2023-04-28T16:26:07.194583",
     "status": "completed"
    },
    "tags": []
   },
   "outputs": [],
   "source": [
    "# loss function is simple binary cross entropy loss\n",
    "# need sigmoid to put probabilities in [0,1] interval\n",
    "def loss_fn(outputs, targets):\n",
    "    outputs = torch.squeeze(outputs)\n",
    "    return nn.BCELoss()(nn.Sigmoid()(outputs), targets)"
   ]
  },
  {
   "cell_type": "code",
   "execution_count": null,
   "metadata": {
    "execution": {
     "iopub.execute_input": "2023-04-28T16:26:07.295656Z",
     "iopub.status.busy": "2023-04-28T16:26:07.294884Z",
     "iopub.status.idle": "2023-04-28T16:26:07.297342Z",
     "shell.execute_reply": "2023-04-28T16:26:07.297868Z",
     "shell.execute_reply.started": "2023-04-28T16:24:03.831011Z"
    },
    "papermill": {
     "duration": 0.037354,
     "end_time": "2023-04-28T16:26:07.297993",
     "exception": false,
     "start_time": "2023-04-28T16:26:07.260639",
     "status": "completed"
    },
    "tags": []
   },
   "outputs": [],
   "source": [
    "# computes perplexity on validation data\n",
    "def calculate_perplexity(data_loader, model, device):\n",
    "    model.eval()\n",
    "    \n",
    "    # tells Pytorch not to store values of intermediate computations for backward pass because we not gonna need gradients.\n",
    "    with torch.no_grad():\n",
    "        total_loss = 0\n",
    "        for batch in data_loader:\n",
    "            ids = batch[\"ids\"].to(device, dtype=torch.long)\n",
    "            mask = batch[\"mask\"].to(device, dtype=torch.long)\n",
    "            token_type_ids = batch[\"token_type_ids\"].to(device, dtype=torch.long)\n",
    "            targets = batch[\"targets\"].to(device, dtype=torch.float)\n",
    "\n",
    "            outputs = model(ids=ids, mask=mask, token_type_ids=token_type_ids)\n",
    "            total_loss += loss_fn(outputs, targets).item()\n",
    "            \n",
    "    model.train()\n",
    "\n",
    "    return np.exp(total_loss / len(data_loader))"
   ]
  },
  {
   "cell_type": "code",
   "execution_count": null,
   "metadata": {
    "execution": {
     "iopub.execute_input": "2023-04-28T16:26:07.364371Z",
     "iopub.status.busy": "2023-04-28T16:26:07.363560Z",
     "iopub.status.idle": "2023-04-28T16:26:07.366499Z",
     "shell.execute_reply": "2023-04-28T16:26:07.365890Z",
     "shell.execute_reply.started": "2023-04-28T16:24:03.844998Z"
    },
    "papermill": {
     "duration": 0.041021,
     "end_time": "2023-04-28T16:26:07.366615",
     "exception": false,
     "start_time": "2023-04-28T16:26:07.325594",
     "status": "completed"
    },
    "tags": []
   },
   "outputs": [],
   "source": [
    "def train_loop(epochs, train_data_loader, val_data_loader, model, optimizer, device, scheduler=None):\n",
    "    it = 1\n",
    "    total_loss = 0\n",
    "    curr_perplexity = None\n",
    "    perplexity = None\n",
    "    \n",
    "    model.train()\n",
    "    for epoch in range(epochs):\n",
    "        print('Epoch: ', epoch + 1)\n",
    "        for batch in train_data_loader:\n",
    "            ids = batch[\"ids\"].to(device, dtype=torch.long)\n",
    "            mask = batch[\"mask\"].to(device, dtype=torch.long)\n",
    "            token_type_ids = batch[\"token_type_ids\"].to(device, dtype=torch.long)\n",
    "            targets = batch[\"targets\"].to(device, dtype=torch.float)\n",
    "\n",
    "            optimizer.zero_grad()\n",
    "            \n",
    "            # do forward pass, will save intermediate computations of the graph for later backprop use.\n",
    "            outputs = model(ids, mask=mask, token_type_ids=token_type_ids)\n",
    "            \n",
    "            loss = loss_fn(outputs, targets)\n",
    "            total_loss += loss.item()\n",
    "            \n",
    "            # running backprop.\n",
    "            loss.backward()\n",
    "            \n",
    "            # doing gradient descent step.\n",
    "            optimizer.step()\n",
    "            \n",
    "            # we are logging current loss/perplexity in every 100 iteration\n",
    "            if it % 100 == 0:\n",
    "                \n",
    "                # computing validation set perplexity in every 500 iteration.\n",
    "                if it % 500 == 0:\n",
    "                    curr_perplexity = calculate_perplexity(val_data_loader, model, device)\n",
    "                    \n",
    "                    if scheduler is not None:\n",
    "                        scheduler.step()\n",
    "\n",
    "                    # making checkpoint of best model weights.\n",
    "                    if not perplexity or curr_perplexity < perplexity:\n",
    "                        torch.save(model.state_dict(), 'saved_model')\n",
    "                        perplexity = curr_perplexity\n",
    "\n",
    "                print('| Iter', it, '| Avg Train Loss', total_loss / 100, '| Dev Perplexity', curr_perplexity)\n",
    "                total_loss = 0\n",
    "\n",
    "            it += 1\n",
    "            torch.cuda.empty_cache"
   ]
  },
  {
   "cell_type": "code",
   "execution_count": null,
   "metadata": {
    "execution": {
     "iopub.execute_input": "2023-04-28T16:26:07.428564Z",
     "iopub.status.busy": "2023-04-28T16:26:07.427786Z",
     "iopub.status.idle": "2023-04-28T16:26:07.430718Z",
     "shell.execute_reply": "2023-04-28T16:26:07.430299Z",
     "shell.execute_reply.started": "2023-04-28T16:24:03.859223Z"
    },
    "papermill": {
     "duration": 0.036473,
     "end_time": "2023-04-28T16:26:07.430827",
     "exception": false,
     "start_time": "2023-04-28T16:26:07.394354",
     "status": "completed"
    },
    "tags": []
   },
   "outputs": [],
   "source": [
    "def run(model, train_df, device, train_data_loader, val_data_loader):\n",
    "    EPOCHS = 3\n",
    "    \n",
    "    lr = 3e-5\n",
    "    num_training_steps = int(len(train_data_loader) * EPOCHS)\n",
    "    optimizer = AdamW(model.parameters(), lr=lr)\n",
    "    scheduler = get_linear_schedule_with_warmup(\n",
    "        optimizer,\n",
    "        num_warmup_steps=0,\n",
    "        num_training_steps=num_training_steps\n",
    "    )\n",
    "    \n",
    "    \n",
    "    train_loop(EPOCHS, train_data_loader, val_data_loader,  model, optimizer, device, scheduler)"
   ]
  },
  {
   "cell_type": "code",
   "execution_count": null,
   "metadata": {
    "execution": {
     "iopub.execute_input": "2023-04-28T16:26:07.495731Z",
     "iopub.status.busy": "2023-04-28T16:26:07.495107Z",
     "iopub.status.idle": "2023-04-28T16:50:43.923906Z",
     "shell.execute_reply": "2023-04-28T16:50:43.923395Z",
     "shell.execute_reply.started": "2023-04-28T16:24:03.872030Z"
    },
    "papermill": {
     "duration": 1476.464955,
     "end_time": "2023-04-28T16:50:43.924035",
     "exception": false,
     "start_time": "2023-04-28T16:26:07.459080",
     "status": "completed"
    },
    "tags": []
   },
   "outputs": [
    {
     "name": "stdout",
     "output_type": "stream",
     "text": [
      "Epoch:  1\n",
      "| Iter 100 | Avg Train Loss 0.5441265693306923 | Dev Perplexity None\n",
      "| Iter 200 | Avg Train Loss 0.41708993166685104 | Dev Perplexity None\n",
      "| Iter 300 | Avg Train Loss 0.41198499530553817 | Dev Perplexity None\n",
      "| Iter 400 | Avg Train Loss 0.3844555076956749 | Dev Perplexity None\n",
      "| Iter 500 | Avg Train Loss 0.362734806984663 | Dev Perplexity 1.4798520481679371\n",
      "| Iter 600 | Avg Train Loss 0.3655783827602863 | Dev Perplexity 1.4798520481679371\n",
      "| Iter 700 | Avg Train Loss 0.35742919743061063 | Dev Perplexity 1.4798520481679371\n",
      "| Iter 800 | Avg Train Loss 0.34129196882247925 | Dev Perplexity 1.4798520481679371\n",
      "| Iter 900 | Avg Train Loss 0.3408063222467899 | Dev Perplexity 1.4798520481679371\n",
      "| Iter 1000 | Avg Train Loss 0.33567011684179304 | Dev Perplexity 1.3758246944501382\n",
      "Epoch:  2\n",
      "| Iter 1100 | Avg Train Loss 0.2813141692429781 | Dev Perplexity 1.3758246944501382\n",
      "| Iter 1200 | Avg Train Loss 0.22725310616195202 | Dev Perplexity 1.3758246944501382\n",
      "| Iter 1300 | Avg Train Loss 0.24520231746137142 | Dev Perplexity 1.3758246944501382\n",
      "| Iter 1400 | Avg Train Loss 0.2362146870046854 | Dev Perplexity 1.3758246944501382\n",
      "| Iter 1500 | Avg Train Loss 0.25583270370960237 | Dev Perplexity 1.3687145548283322\n",
      "| Iter 1600 | Avg Train Loss 0.24404957689344883 | Dev Perplexity 1.3687145548283322\n",
      "| Iter 1700 | Avg Train Loss 0.23561375051736833 | Dev Perplexity 1.3687145548283322\n",
      "| Iter 1800 | Avg Train Loss 0.24000926688313484 | Dev Perplexity 1.3687145548283322\n",
      "| Iter 1900 | Avg Train Loss 0.2370837250351906 | Dev Perplexity 1.3687145548283322\n",
      "| Iter 2000 | Avg Train Loss 0.23740712612867354 | Dev Perplexity 1.360344944178862\n",
      "Epoch:  3\n",
      "| Iter 2100 | Avg Train Loss 0.21983734503388405 | Dev Perplexity 1.360344944178862\n",
      "| Iter 2200 | Avg Train Loss 0.11767832983285188 | Dev Perplexity 1.360344944178862\n",
      "| Iter 2300 | Avg Train Loss 0.12498796788975597 | Dev Perplexity 1.360344944178862\n",
      "| Iter 2400 | Avg Train Loss 0.13878930823877453 | Dev Perplexity 1.360344944178862\n",
      "| Iter 2500 | Avg Train Loss 0.13936276538297535 | Dev Perplexity 1.459368160383367\n",
      "| Iter 2600 | Avg Train Loss 0.1428827658109367 | Dev Perplexity 1.459368160383367\n",
      "| Iter 2700 | Avg Train Loss 0.1488485561683774 | Dev Perplexity 1.459368160383367\n",
      "| Iter 2800 | Avg Train Loss 0.14359601601958275 | Dev Perplexity 1.459368160383367\n",
      "| Iter 2900 | Avg Train Loss 0.14708295185118914 | Dev Perplexity 1.459368160383367\n",
      "| Iter 3000 | Avg Train Loss 0.13136492220684887 | Dev Perplexity 1.4317690766540143\n",
      "| Iter 3100 | Avg Train Loss 0.15095868714153768 | Dev Perplexity 1.4317690766540143\n"
     ]
    }
   ],
   "source": [
    "run(model, train_df, device, train_data_loader, val_data_loader)"
   ]
  },
  {
   "cell_type": "markdown",
   "metadata": {
    "papermill": {
     "duration": 0.036347,
     "end_time": "2023-04-28T16:50:43.996671",
     "exception": false,
     "start_time": "2023-04-28T16:50:43.960324",
     "status": "completed"
    },
    "tags": []
   },
   "source": [
    "# Testing"
   ]
  },
  {
   "cell_type": "code",
   "execution_count": null,
   "metadata": {
    "execution": {
     "iopub.execute_input": "2023-04-28T16:50:44.077306Z",
     "iopub.status.busy": "2023-04-28T16:50:44.076430Z",
     "iopub.status.idle": "2023-04-28T16:50:44.098574Z",
     "shell.execute_reply": "2023-04-28T16:50:44.098154Z"
    },
    "papermill": {
     "duration": 0.065705,
     "end_time": "2023-04-28T16:50:44.098672",
     "exception": false,
     "start_time": "2023-04-28T16:50:44.032967",
     "status": "completed"
    },
    "tags": []
   },
   "outputs": [
    {
     "name": "stdout",
     "output_type": "stream",
     "text": [
      "<class 'pandas.core.frame.DataFrame'>\n",
      "Int64Index: 10000 entries, 60000 to 69999\n",
      "Data columns (total 6 columns):\n",
      " #   Column        Non-Null Count  Dtype \n",
      "---  ------        --------------  ----- \n",
      " 0   id            10000 non-null  int64 \n",
      " 1   qid1          10000 non-null  int64 \n",
      " 2   qid2          10000 non-null  int64 \n",
      " 3   question1     10000 non-null  object\n",
      " 4   question2     10000 non-null  object\n",
      " 5   is_duplicate  10000 non-null  int64 \n",
      "dtypes: int64(4), object(2)\n",
      "memory usage: 546.9+ KB\n",
      "10000\n"
     ]
    },
    {
     "name": "stderr",
     "output_type": "stream",
     "text": [
      "/opt/conda/lib/python3.7/site-packages/ipykernel_launcher.py:4: SettingWithCopyWarning: \n",
      "A value is trying to be set on a copy of a slice from a DataFrame\n",
      "\n",
      "See the caveats in the documentation: https://pandas.pydata.org/pandas-docs/stable/user_guide/indexing.html#returning-a-view-versus-a-copy\n",
      "  after removing the cwd from sys.path.\n"
     ]
    },
    {
     "data": {
      "text/html": [
       "<div>\n",
       "<style scoped>\n",
       "    .dataframe tbody tr th:only-of-type {\n",
       "        vertical-align: middle;\n",
       "    }\n",
       "\n",
       "    .dataframe tbody tr th {\n",
       "        vertical-align: top;\n",
       "    }\n",
       "\n",
       "    .dataframe thead th {\n",
       "        text-align: right;\n",
       "    }\n",
       "</style>\n",
       "<table border=\"1\" class=\"dataframe\">\n",
       "  <thead>\n",
       "    <tr style=\"text-align: right;\">\n",
       "      <th></th>\n",
       "      <th>id</th>\n",
       "      <th>qid1</th>\n",
       "      <th>qid2</th>\n",
       "      <th>question1</th>\n",
       "      <th>question2</th>\n",
       "      <th>is_duplicate</th>\n",
       "    </tr>\n",
       "  </thead>\n",
       "  <tbody>\n",
       "    <tr>\n",
       "      <th>60000</th>\n",
       "      <td>220588</td>\n",
       "      <td>327713</td>\n",
       "      <td>265849</td>\n",
       "      <td>Can someone propose flags for New Zealand with...</td>\n",
       "      <td>Why is New Zealand considering a new flag?</td>\n",
       "      <td>0</td>\n",
       "    </tr>\n",
       "    <tr>\n",
       "      <th>60001</th>\n",
       "      <td>140549</td>\n",
       "      <td>223336</td>\n",
       "      <td>223337</td>\n",
       "      <td>What are some interview tricks for a fresher?</td>\n",
       "      <td>What are some interview tricks and etiquettes ...</td>\n",
       "      <td>1</td>\n",
       "    </tr>\n",
       "    <tr>\n",
       "      <th>60002</th>\n",
       "      <td>305900</td>\n",
       "      <td>429354</td>\n",
       "      <td>76735</td>\n",
       "      <td>Can a Gemini man and a Gemini woman have a suc...</td>\n",
       "      <td>What is the compatibility of a Gemini man and ...</td>\n",
       "      <td>1</td>\n",
       "    </tr>\n",
       "    <tr>\n",
       "      <th>60003</th>\n",
       "      <td>164731</td>\n",
       "      <td>72639</td>\n",
       "      <td>43909</td>\n",
       "      <td>How may I know whether my wife is cheating on me?</td>\n",
       "      <td>How do I know my partner is cheating on me?</td>\n",
       "      <td>1</td>\n",
       "    </tr>\n",
       "    <tr>\n",
       "      <th>60004</th>\n",
       "      <td>335903</td>\n",
       "      <td>463184</td>\n",
       "      <td>78272</td>\n",
       "      <td>How do I exit from a WhatsApp group without le...</td>\n",
       "      <td>What are polite ways to exit a WhatsApp group?</td>\n",
       "      <td>0</td>\n",
       "    </tr>\n",
       "  </tbody>\n",
       "</table>\n",
       "</div>"
      ],
      "text/plain": [
       "           id    qid1    qid2  \\\n",
       "60000  220588  327713  265849   \n",
       "60001  140549  223336  223337   \n",
       "60002  305900  429354   76735   \n",
       "60003  164731   72639   43909   \n",
       "60004  335903  463184   78272   \n",
       "\n",
       "                                               question1  \\\n",
       "60000  Can someone propose flags for New Zealand with...   \n",
       "60001      What are some interview tricks for a fresher?   \n",
       "60002  Can a Gemini man and a Gemini woman have a suc...   \n",
       "60003  How may I know whether my wife is cheating on me?   \n",
       "60004  How do I exit from a WhatsApp group without le...   \n",
       "\n",
       "                                               question2  is_duplicate  \n",
       "60000         Why is New Zealand considering a new flag?             0  \n",
       "60001  What are some interview tricks and etiquettes ...             1  \n",
       "60002  What is the compatibility of a Gemini man and ...             1  \n",
       "60003        How do I know my partner is cheating on me?             1  \n",
       "60004     What are polite ways to exit a WhatsApp group?             0  "
      ]
     },
     "execution_count": 26,
     "metadata": {},
     "output_type": "execute_result"
    }
   ],
   "source": [
    "# test_df = pd.read_csv(\"/kaggle/input/qqp-new/test.tsv\", sep='\\t')\n",
    "test_df = df[60000:70000]\n",
    "test_df.info()\n",
    "test_df.dropna(inplace=True)\n",
    "print(len(test_df))\n",
    "test_df.head()"
   ]
  },
  {
   "cell_type": "code",
   "execution_count": null,
   "metadata": {
    "execution": {
     "iopub.execute_input": "2023-04-28T16:50:44.179602Z",
     "iopub.status.busy": "2023-04-28T16:50:44.177180Z",
     "iopub.status.idle": "2023-04-28T16:50:44.181622Z",
     "shell.execute_reply": "2023-04-28T16:50:44.181163Z"
    },
    "papermill": {
     "duration": 0.046366,
     "end_time": "2023-04-28T16:50:44.181714",
     "exception": false,
     "start_time": "2023-04-28T16:50:44.135348",
     "status": "completed"
    },
    "tags": []
   },
   "outputs": [
    {
     "name": "stdout",
     "output_type": "stream",
     "text": [
      "Can someone propose flags for New Zealand without being a New Zealander now that they are considering changing their flag?\n",
      "Why is New Zealand considering a new flag?\n"
     ]
    }
   ],
   "source": [
    "str1 = test_df['question1'].values[0]\n",
    "str2 = test_df['question2'].values[0]\n",
    "print(str1)\n",
    "print(str2)"
   ]
  },
  {
   "cell_type": "code",
   "execution_count": null,
   "metadata": {
    "execution": {
     "iopub.execute_input": "2023-04-28T16:50:44.265095Z",
     "iopub.status.busy": "2023-04-28T16:50:44.264301Z",
     "iopub.status.idle": "2023-04-28T16:51:07.186194Z",
     "shell.execute_reply": "2023-04-28T16:51:07.185607Z"
    },
    "papermill": {
     "duration": 22.967912,
     "end_time": "2023-04-28T16:51:07.186315",
     "exception": false,
     "start_time": "2023-04-28T16:50:44.218403",
     "status": "completed"
    },
    "tags": []
   },
   "outputs": [
    {
     "name": "stderr",
     "output_type": "stream",
     "text": [
      "100%|██████████| 20/20 [00:22<00:00,  1.11s/it]\n"
     ]
    },
    {
     "data": {
      "text/plain": [
       "10000"
      ]
     },
     "execution_count": 28,
     "metadata": {},
     "output_type": "execute_result"
    }
   ],
   "source": [
    "import torch.nn.functional as F\n",
    "# this function returns probabilities for every test case.\n",
    "def test(model, test_df, device):\n",
    "    predictions = torch.empty(0).to(device, dtype=torch.float)\n",
    "    \n",
    "    test_dataset = BertDataSet(\n",
    "        first_questions=test_df[\"question1\"].values,\n",
    "        second_questions=test_df[\"question2\"].values,\n",
    "        targets=None,\n",
    "        tokenizer=tokenizer\n",
    "    )\n",
    "    \n",
    "    test_data_loader = torch.utils.data.DataLoader(\n",
    "        test_dataset,\n",
    "        batch_size=512\n",
    "    )\n",
    "    \n",
    "    with torch.no_grad():\n",
    "        model.eval()\n",
    "        for batch in tqdm(test_data_loader):\n",
    "            ids = batch[\"ids\"]\n",
    "            mask = batch[\"mask\"]\n",
    "            token_type_ids = batch[\"token_type_ids\"]\n",
    "\n",
    "            ids = ids.to(device, dtype=torch.long)\n",
    "            mask = mask.to(device, dtype=torch.long)\n",
    "            token_type_ids = token_type_ids.to(device, dtype=torch.long)\n",
    "\n",
    "            outputs = model(ids=ids, mask=mask, token_type_ids=token_type_ids)\n",
    "            predictions = torch.cat((predictions, nn.Sigmoid()(outputs)))\n",
    "            \n",
    "    return predictions.cpu().numpy().squeeze()\n",
    "\n",
    "predictions = test(model, test_df, device)\n",
    "len(predictions)"
   ]
  },
  {
   "cell_type": "code",
   "execution_count": null,
   "metadata": {
    "execution": {
     "iopub.execute_input": "2023-04-28T16:51:07.278292Z",
     "iopub.status.busy": "2023-04-28T16:51:07.277114Z",
     "iopub.status.idle": "2023-04-28T16:51:07.280949Z",
     "shell.execute_reply": "2023-04-28T16:51:07.280523Z"
    },
    "papermill": {
     "duration": 0.051594,
     "end_time": "2023-04-28T16:51:07.281037",
     "exception": false,
     "start_time": "2023-04-28T16:51:07.229443",
     "status": "completed"
    },
    "tags": []
   },
   "outputs": [
    {
     "data": {
      "text/plain": [
       "array([1.4656390e-01, 9.6779877e-01, 3.4735525e-01, 9.7892362e-01,\n",
       "       2.4780437e-01, 9.8654538e-01, 5.5120763e-04, 9.9289036e-01,\n",
       "       9.4114757e-01, 8.8789716e-04], dtype=float32)"
      ]
     },
     "execution_count": 29,
     "metadata": {},
     "output_type": "execute_result"
    }
   ],
   "source": [
    "predictions[:10]"
   ]
  },
  {
   "cell_type": "code",
   "execution_count": null,
   "metadata": {
    "execution": {
     "iopub.execute_input": "2023-04-28T16:51:07.370844Z",
     "iopub.status.busy": "2023-04-28T16:51:07.370291Z",
     "iopub.status.idle": "2023-04-28T16:51:07.376148Z",
     "shell.execute_reply": "2023-04-28T16:51:07.375701Z"
    },
    "papermill": {
     "duration": 0.053051,
     "end_time": "2023-04-28T16:51:07.376247",
     "exception": false,
     "start_time": "2023-04-28T16:51:07.323196",
     "status": "completed"
    },
    "tags": []
   },
   "outputs": [
    {
     "name": "stdout",
     "output_type": "stream",
     "text": [
      "10000\n"
     ]
    },
    {
     "data": {
      "text/plain": [
       "array([0, 1, 1, 1, 0, 1, 0, 1, 1, 0])"
      ]
     },
     "execution_count": 30,
     "metadata": {},
     "output_type": "execute_result"
    }
   ],
   "source": [
    "print(len(test_df['is_duplicate'].values))\n",
    "test_df['is_duplicate'].values[:10]"
   ]
  },
  {
   "cell_type": "code",
   "execution_count": null,
   "metadata": {
    "execution": {
     "iopub.execute_input": "2023-04-28T16:51:07.466743Z",
     "iopub.status.busy": "2023-04-28T16:51:07.465987Z",
     "iopub.status.idle": "2023-04-28T16:51:07.468985Z",
     "shell.execute_reply": "2023-04-28T16:51:07.468544Z"
    },
    "papermill": {
     "duration": 0.04906,
     "end_time": "2023-04-28T16:51:07.469104",
     "exception": false,
     "start_time": "2023-04-28T16:51:07.420044",
     "status": "completed"
    },
    "tags": []
   },
   "outputs": [],
   "source": [
    "# from sklearn.metrics import f1_score\n",
    "# for i in range(0, 1000):\n",
    "#     print(i)\n",
    "#     preds = np.array(predictions) > i/1000\n",
    "#     print(\"f1:\", f1_score(test_df['is_duplicate'], preds, average='micro'))"
   ]
  },
  {
   "cell_type": "code",
   "execution_count": null,
   "metadata": {
    "execution": {
     "iopub.execute_input": "2023-04-28T16:51:07.560219Z",
     "iopub.status.busy": "2023-04-28T16:51:07.559686Z",
     "iopub.status.idle": "2023-04-28T16:51:07.568394Z",
     "shell.execute_reply": "2023-04-28T16:51:07.568783Z"
    },
    "papermill": {
     "duration": 0.057078,
     "end_time": "2023-04-28T16:51:07.568902",
     "exception": false,
     "start_time": "2023-04-28T16:51:07.511824",
     "status": "completed"
    },
    "tags": []
   },
   "outputs": [
    {
     "name": "stdout",
     "output_type": "stream",
     "text": [
      "F1 score: 0.872\n"
     ]
    }
   ],
   "source": [
    "from sklearn.metrics import f1_score\n",
    "\n",
    "preds = np.array(predictions) > 0.5\n",
    "f1 = f1_score(test_df['is_duplicate'], preds, average='micro')\n",
    "print(f\"F1 score: {f1}\")"
   ]
  },
  {
   "cell_type": "code",
   "execution_count": null,
   "metadata": {
    "execution": {
     "iopub.execute_input": "2023-04-28T16:51:07.660628Z",
     "iopub.status.busy": "2023-04-28T16:51:07.660110Z",
     "iopub.status.idle": "2023-04-28T16:51:07.667853Z",
     "shell.execute_reply": "2023-04-28T16:51:07.667413Z"
    },
    "papermill": {
     "duration": 0.055101,
     "end_time": "2023-04-28T16:51:07.667944",
     "exception": false,
     "start_time": "2023-04-28T16:51:07.612843",
     "status": "completed"
    },
    "tags": []
   },
   "outputs": [
    {
     "name": "stdout",
     "output_type": "stream",
     "text": [
      "Log loss: 0.32408189836947565\n"
     ]
    }
   ],
   "source": [
    "from sklearn.metrics import log_loss\n",
    "# calculate log loss\n",
    "logloss = log_loss(test_df[\"is_duplicate\"], predictions)\n",
    "print(f\"Log loss: {logloss}\")"
   ]
  },
  {
   "cell_type": "code",
   "execution_count": null,
   "metadata": {
    "execution": {
     "iopub.execute_input": "2023-04-28T16:51:07.759444Z",
     "iopub.status.busy": "2023-04-28T16:51:07.758644Z",
     "iopub.status.idle": "2023-04-28T16:51:07.763731Z",
     "shell.execute_reply": "2023-04-28T16:51:07.764140Z"
    },
    "papermill": {
     "duration": 0.05254,
     "end_time": "2023-04-28T16:51:07.764261",
     "exception": false,
     "start_time": "2023-04-28T16:51:07.711721",
     "status": "completed"
    },
    "tags": []
   },
   "outputs": [
    {
     "data": {
      "text/plain": [
       "0.872"
      ]
     },
     "execution_count": 34,
     "metadata": {},
     "output_type": "execute_result"
    }
   ],
   "source": [
    "from sklearn.metrics import accuracy_score\n",
    "accuracy_score(test_df['is_duplicate'], preds)"
   ]
  },
  {
   "cell_type": "markdown",
   "metadata": {
    "papermill": {
     "duration": 0.043605,
     "end_time": "2023-04-28T16:51:07.851559",
     "exception": false,
     "start_time": "2023-04-28T16:51:07.807954",
     "status": "completed"
    },
    "tags": []
   },
   "source": [
    "# Evaluation"
   ]
  },
  {
   "cell_type": "code",
   "execution_count": null,
   "metadata": {
    "execution": {
     "iopub.execute_input": "2023-04-28T16:51:07.942967Z",
     "iopub.status.busy": "2023-04-28T16:51:07.942273Z",
     "iopub.status.idle": "2023-04-28T16:51:07.944749Z",
     "shell.execute_reply": "2023-04-28T16:51:07.945310Z"
    },
    "papermill": {
     "duration": 0.049932,
     "end_time": "2023-04-28T16:51:07.945425",
     "exception": false,
     "start_time": "2023-04-28T16:51:07.895493",
     "status": "completed"
    },
    "tags": []
   },
   "outputs": [],
   "source": [
    "# def val_metrics(predictions, Y):\n",
    "#     correct = 0\n",
    "#     total = 0\n",
    "#     sum_loss = 0.0\n",
    "#     for y in :\n",
    "#         loss = F.binary_cross_entropy_with_logits(y_hat, y)\n",
    "#         y_pred = y_hat > 0\n",
    "#         correct += (y_pred.float() == y).float().sum()\n",
    "#         total += y.shape[0]\n",
    "#         sum_loss += loss.item()*y.shape[0]\n",
    "#     return sum_loss/total, correct/total"
   ]
  },
  {
   "cell_type": "code",
   "execution_count": null,
   "metadata": {
    "execution": {
     "iopub.execute_input": "2023-04-28T16:51:08.040962Z",
     "iopub.status.busy": "2023-04-28T16:51:08.040241Z",
     "iopub.status.idle": "2023-04-28T16:51:08.042713Z",
     "shell.execute_reply": "2023-04-28T16:51:08.043215Z"
    },
    "papermill": {
     "duration": 0.053875,
     "end_time": "2023-04-28T16:51:08.043344",
     "exception": false,
     "start_time": "2023-04-28T16:51:07.989469",
     "status": "completed"
    },
    "tags": []
   },
   "outputs": [],
   "source": [
    "# prints if two questions is similar and score of confidence\n",
    "def eval(model, tokenizer, first_question, second_question, device):\n",
    "    inputs = tokenizer.encode_plus(\n",
    "        first_question,\n",
    "        second_question,\n",
    "        add_special_tokens=True,\n",
    "    )\n",
    "\n",
    "    ids = torch.tensor([inputs[\"input_ids\"]], dtype=torch.long).to(device, dtype=torch.long)\n",
    "    mask = torch.tensor([inputs[\"attention_mask\"]], dtype=torch.long).to(device, dtype=torch.long)\n",
    "    token_type_ids = torch.tensor([inputs[\"token_type_ids\"]], dtype=torch.long).to(device, dtype=torch.long)\n",
    "\n",
    "    with torch.no_grad():\n",
    "        model.eval()\n",
    "        output = model(ids=ids, mask=mask, token_type_ids=token_type_ids)\n",
    "        prob = nn.Sigmoid()(output).item()\n",
    "\n",
    "        print(\"questions [{}] and [{}] are {} with score {}\".format(first_question, second_question, 'similar' if prob > 0.5 else 'not similar', prob))"
   ]
  },
  {
   "cell_type": "code",
   "execution_count": null,
   "metadata": {
    "execution": {
     "iopub.execute_input": "2023-04-28T16:51:08.136325Z",
     "iopub.status.busy": "2023-04-28T16:51:08.135561Z",
     "iopub.status.idle": "2023-04-28T16:51:08.151985Z",
     "shell.execute_reply": "2023-04-28T16:51:08.151357Z"
    },
    "papermill": {
     "duration": 0.065135,
     "end_time": "2023-04-28T16:51:08.152154",
     "exception": false,
     "start_time": "2023-04-28T16:51:08.087019",
     "status": "completed"
    },
    "tags": []
   },
   "outputs": [
    {
     "name": "stdout",
     "output_type": "stream",
     "text": [
      "questions [Can someone propose flags for New Zealand without being a New Zealander now that they are considering changing their flag?] and [Why is New Zealand considering a new flag?] are not similar with score 0.14656387269496918\n"
     ]
    }
   ],
   "source": [
    "# change questions to test model\n",
    "first_question = \"Can someone propose flags for New Zealand without being a New Zealander now that they are considering changing their flag?\"\n",
    "second_question = \"Why is New Zealand considering a new flag?\"\n",
    "eval(model, tokenizer, first_question, second_question, device)"
   ]
  },
  {
   "cell_type": "code",
   "execution_count": null,
   "metadata": {
    "papermill": {
     "duration": 0.04397,
     "end_time": "2023-04-28T16:51:08.240570",
     "exception": false,
     "start_time": "2023-04-28T16:51:08.196600",
     "status": "completed"
    },
    "tags": []
   },
   "outputs": [],
   "source": []
  }
 ],
 "metadata": {
  "kernelspec": {
   "display_name": "Python 3",
   "language": "python",
   "name": "python3"
  },
  "language_info": {
   "codemirror_mode": {
    "name": "ipython",
    "version": 3
   },
   "file_extension": ".py",
   "mimetype": "text/x-python",
   "name": "python",
   "nbconvert_exporter": "python",
   "pygments_lexer": "ipython3",
   "version": "3.12.3"
  },
  "papermill": {
   "duration": 1535.57205,
   "end_time": "2023-04-28T16:51:08.592603",
   "environment_variables": {},
   "exception": null,
   "input_path": "__notebook__.ipynb",
   "output_path": "__notebook__.ipynb",
   "parameters": {},
   "start_time": "2023-04-28T16:25:33.020553",
   "version": "2.1.0"
  },
  "widgets": {
   "application/vnd.jupyter.widget-state+json": {
    "state": {
     "03d59bff15f74074ba43335017d87724": {
      "model_module": "@jupyter-widgets/controls",
      "model_module_version": "1.5.0",
      "model_name": "HTMLModel",
      "state": {
       "_dom_classes": [],
       "_model_module": "@jupyter-widgets/controls",
       "_model_module_version": "1.5.0",
       "_model_name": "HTMLModel",
       "_view_count": null,
       "_view_module": "@jupyter-widgets/controls",
       "_view_module_version": "1.5.0",
       "_view_name": "HTMLView",
       "description": "",
       "description_tooltip": null,
       "layout": "IPY_MODEL_b2db00c763a34860925ac225e38824aa",
       "placeholder": "​",
       "style": "IPY_MODEL_52374a9594604bed83072c5eef7004c5",
       "value": " 232k/232k [00:00&lt;00:00, 1.50MB/s]"
      }
     },
     "0539670ee2c848b3a70e96fa9a823bfc": {
      "model_module": "@jupyter-widgets/controls",
      "model_module_version": "1.5.0",
      "model_name": "HTMLModel",
      "state": {
       "_dom_classes": [],
       "_model_module": "@jupyter-widgets/controls",
       "_model_module_version": "1.5.0",
       "_model_name": "HTMLModel",
       "_view_count": null,
       "_view_module": "@jupyter-widgets/controls",
       "_view_module_version": "1.5.0",
       "_view_name": "HTMLView",
       "description": "",
       "description_tooltip": null,
       "layout": "IPY_MODEL_337f22afb54e4253b450113e8d93befd",
       "placeholder": "​",
       "style": "IPY_MODEL_9798ebf32d2f4bb6ac1d1f1ee0c97e62",
       "value": " 570/570 [00:08&lt;00:00, 67.8B/s]"
      }
     },
     "10ca78f5114b492abe62f38b23572004": {
      "model_module": "@jupyter-widgets/controls",
      "model_module_version": "1.5.0",
      "model_name": "HBoxModel",
      "state": {
       "_dom_classes": [],
       "_model_module": "@jupyter-widgets/controls",
       "_model_module_version": "1.5.0",
       "_model_name": "HBoxModel",
       "_view_count": null,
       "_view_module": "@jupyter-widgets/controls",
       "_view_module_version": "1.5.0",
       "_view_name": "HBoxView",
       "box_style": "",
       "children": [
        "IPY_MODEL_bb04878b9d674067bff12e556090b5c2",
        "IPY_MODEL_436b3264403542099b4a448b42f2a04a"
       ],
       "layout": "IPY_MODEL_71ade376be5441dd9bd45dbe72a25ebe"
      }
     },
     "337f22afb54e4253b450113e8d93befd": {
      "model_module": "@jupyter-widgets/base",
      "model_module_version": "1.2.0",
      "model_name": "LayoutModel",
      "state": {
       "_model_module": "@jupyter-widgets/base",
       "_model_module_version": "1.2.0",
       "_model_name": "LayoutModel",
       "_view_count": null,
       "_view_module": "@jupyter-widgets/base",
       "_view_module_version": "1.2.0",
       "_view_name": "LayoutView",
       "align_content": null,
       "align_items": null,
       "align_self": null,
       "border": null,
       "bottom": null,
       "display": null,
       "flex": null,
       "flex_flow": null,
       "grid_area": null,
       "grid_auto_columns": null,
       "grid_auto_flow": null,
       "grid_auto_rows": null,
       "grid_column": null,
       "grid_gap": null,
       "grid_row": null,
       "grid_template_areas": null,
       "grid_template_columns": null,
       "grid_template_rows": null,
       "height": null,
       "justify_content": null,
       "justify_items": null,
       "left": null,
       "margin": null,
       "max_height": null,
       "max_width": null,
       "min_height": null,
       "min_width": null,
       "object_fit": null,
       "object_position": null,
       "order": null,
       "overflow": null,
       "overflow_x": null,
       "overflow_y": null,
       "padding": null,
       "right": null,
       "top": null,
       "visibility": null,
       "width": null
      }
     },
     "3739201007b54c5683908f1563735c80": {
      "model_module": "@jupyter-widgets/base",
      "model_module_version": "1.2.0",
      "model_name": "LayoutModel",
      "state": {
       "_model_module": "@jupyter-widgets/base",
       "_model_module_version": "1.2.0",
       "_model_name": "LayoutModel",
       "_view_count": null,
       "_view_module": "@jupyter-widgets/base",
       "_view_module_version": "1.2.0",
       "_view_name": "LayoutView",
       "align_content": null,
       "align_items": null,
       "align_self": null,
       "border": null,
       "bottom": null,
       "display": null,
       "flex": null,
       "flex_flow": null,
       "grid_area": null,
       "grid_auto_columns": null,
       "grid_auto_flow": null,
       "grid_auto_rows": null,
       "grid_column": null,
       "grid_gap": null,
       "grid_row": null,
       "grid_template_areas": null,
       "grid_template_columns": null,
       "grid_template_rows": null,
       "height": null,
       "justify_content": null,
       "justify_items": null,
       "left": null,
       "margin": null,
       "max_height": null,
       "max_width": null,
       "min_height": null,
       "min_width": null,
       "object_fit": null,
       "object_position": null,
       "order": null,
       "overflow": null,
       "overflow_x": null,
       "overflow_y": null,
       "padding": null,
       "right": null,
       "top": null,
       "visibility": null,
       "width": null
      }
     },
     "436b3264403542099b4a448b42f2a04a": {
      "model_module": "@jupyter-widgets/controls",
      "model_module_version": "1.5.0",
      "model_name": "HTMLModel",
      "state": {
       "_dom_classes": [],
       "_model_module": "@jupyter-widgets/controls",
       "_model_module_version": "1.5.0",
       "_model_name": "HTMLModel",
       "_view_count": null,
       "_view_module": "@jupyter-widgets/controls",
       "_view_module_version": "1.5.0",
       "_view_name": "HTMLView",
       "description": "",
       "description_tooltip": null,
       "layout": "IPY_MODEL_44bd4e8878d647d7838895b12ab3d7fd",
       "placeholder": "​",
       "style": "IPY_MODEL_745b1a4c35b94e608201619d08974d4e",
       "value": " 440M/440M [00:08&lt;00:00, 53.6MB/s]"
      }
     },
     "4493364337fe4924b8c4de28d866517a": {
      "model_module": "@jupyter-widgets/base",
      "model_module_version": "1.2.0",
      "model_name": "LayoutModel",
      "state": {
       "_model_module": "@jupyter-widgets/base",
       "_model_module_version": "1.2.0",
       "_model_name": "LayoutModel",
       "_view_count": null,
       "_view_module": "@jupyter-widgets/base",
       "_view_module_version": "1.2.0",
       "_view_name": "LayoutView",
       "align_content": null,
       "align_items": null,
       "align_self": null,
       "border": null,
       "bottom": null,
       "display": null,
       "flex": null,
       "flex_flow": null,
       "grid_area": null,
       "grid_auto_columns": null,
       "grid_auto_flow": null,
       "grid_auto_rows": null,
       "grid_column": null,
       "grid_gap": null,
       "grid_row": null,
       "grid_template_areas": null,
       "grid_template_columns": null,
       "grid_template_rows": null,
       "height": null,
       "justify_content": null,
       "justify_items": null,
       "left": null,
       "margin": null,
       "max_height": null,
       "max_width": null,
       "min_height": null,
       "min_width": null,
       "object_fit": null,
       "object_position": null,
       "order": null,
       "overflow": null,
       "overflow_x": null,
       "overflow_y": null,
       "padding": null,
       "right": null,
       "top": null,
       "visibility": null,
       "width": null
      }
     },
     "44bd4e8878d647d7838895b12ab3d7fd": {
      "model_module": "@jupyter-widgets/base",
      "model_module_version": "1.2.0",
      "model_name": "LayoutModel",
      "state": {
       "_model_module": "@jupyter-widgets/base",
       "_model_module_version": "1.2.0",
       "_model_name": "LayoutModel",
       "_view_count": null,
       "_view_module": "@jupyter-widgets/base",
       "_view_module_version": "1.2.0",
       "_view_name": "LayoutView",
       "align_content": null,
       "align_items": null,
       "align_self": null,
       "border": null,
       "bottom": null,
       "display": null,
       "flex": null,
       "flex_flow": null,
       "grid_area": null,
       "grid_auto_columns": null,
       "grid_auto_flow": null,
       "grid_auto_rows": null,
       "grid_column": null,
       "grid_gap": null,
       "grid_row": null,
       "grid_template_areas": null,
       "grid_template_columns": null,
       "grid_template_rows": null,
       "height": null,
       "justify_content": null,
       "justify_items": null,
       "left": null,
       "margin": null,
       "max_height": null,
       "max_width": null,
       "min_height": null,
       "min_width": null,
       "object_fit": null,
       "object_position": null,
       "order": null,
       "overflow": null,
       "overflow_x": null,
       "overflow_y": null,
       "padding": null,
       "right": null,
       "top": null,
       "visibility": null,
       "width": null
      }
     },
     "50d2cf9fb31d4c4f95480dc53a053efe": {
      "model_module": "@jupyter-widgets/controls",
      "model_module_version": "1.5.0",
      "model_name": "ProgressStyleModel",
      "state": {
       "_model_module": "@jupyter-widgets/controls",
       "_model_module_version": "1.5.0",
       "_model_name": "ProgressStyleModel",
       "_view_count": null,
       "_view_module": "@jupyter-widgets/base",
       "_view_module_version": "1.2.0",
       "_view_name": "StyleView",
       "bar_color": null,
       "description_width": "initial"
      }
     },
     "52374a9594604bed83072c5eef7004c5": {
      "model_module": "@jupyter-widgets/controls",
      "model_module_version": "1.5.0",
      "model_name": "DescriptionStyleModel",
      "state": {
       "_model_module": "@jupyter-widgets/controls",
       "_model_module_version": "1.5.0",
       "_model_name": "DescriptionStyleModel",
       "_view_count": null,
       "_view_module": "@jupyter-widgets/base",
       "_view_module_version": "1.2.0",
       "_view_name": "StyleView",
       "description_width": ""
      }
     },
     "71ade376be5441dd9bd45dbe72a25ebe": {
      "model_module": "@jupyter-widgets/base",
      "model_module_version": "1.2.0",
      "model_name": "LayoutModel",
      "state": {
       "_model_module": "@jupyter-widgets/base",
       "_model_module_version": "1.2.0",
       "_model_name": "LayoutModel",
       "_view_count": null,
       "_view_module": "@jupyter-widgets/base",
       "_view_module_version": "1.2.0",
       "_view_name": "LayoutView",
       "align_content": null,
       "align_items": null,
       "align_self": null,
       "border": null,
       "bottom": null,
       "display": null,
       "flex": null,
       "flex_flow": null,
       "grid_area": null,
       "grid_auto_columns": null,
       "grid_auto_flow": null,
       "grid_auto_rows": null,
       "grid_column": null,
       "grid_gap": null,
       "grid_row": null,
       "grid_template_areas": null,
       "grid_template_columns": null,
       "grid_template_rows": null,
       "height": null,
       "justify_content": null,
       "justify_items": null,
       "left": null,
       "margin": null,
       "max_height": null,
       "max_width": null,
       "min_height": null,
       "min_width": null,
       "object_fit": null,
       "object_position": null,
       "order": null,
       "overflow": null,
       "overflow_x": null,
       "overflow_y": null,
       "padding": null,
       "right": null,
       "top": null,
       "visibility": null,
       "width": null
      }
     },
     "745b1a4c35b94e608201619d08974d4e": {
      "model_module": "@jupyter-widgets/controls",
      "model_module_version": "1.5.0",
      "model_name": "DescriptionStyleModel",
      "state": {
       "_model_module": "@jupyter-widgets/controls",
       "_model_module_version": "1.5.0",
       "_model_name": "DescriptionStyleModel",
       "_view_count": null,
       "_view_module": "@jupyter-widgets/base",
       "_view_module_version": "1.2.0",
       "_view_name": "StyleView",
       "description_width": ""
      }
     },
     "8d70ef81551243e28ba2858edff009d8": {
      "model_module": "@jupyter-widgets/base",
      "model_module_version": "1.2.0",
      "model_name": "LayoutModel",
      "state": {
       "_model_module": "@jupyter-widgets/base",
       "_model_module_version": "1.2.0",
       "_model_name": "LayoutModel",
       "_view_count": null,
       "_view_module": "@jupyter-widgets/base",
       "_view_module_version": "1.2.0",
       "_view_name": "LayoutView",
       "align_content": null,
       "align_items": null,
       "align_self": null,
       "border": null,
       "bottom": null,
       "display": null,
       "flex": null,
       "flex_flow": null,
       "grid_area": null,
       "grid_auto_columns": null,
       "grid_auto_flow": null,
       "grid_auto_rows": null,
       "grid_column": null,
       "grid_gap": null,
       "grid_row": null,
       "grid_template_areas": null,
       "grid_template_columns": null,
       "grid_template_rows": null,
       "height": null,
       "justify_content": null,
       "justify_items": null,
       "left": null,
       "margin": null,
       "max_height": null,
       "max_width": null,
       "min_height": null,
       "min_width": null,
       "object_fit": null,
       "object_position": null,
       "order": null,
       "overflow": null,
       "overflow_x": null,
       "overflow_y": null,
       "padding": null,
       "right": null,
       "top": null,
       "visibility": null,
       "width": null
      }
     },
     "8f40d1cb32a34053b5ffc0d1412a00e8": {
      "model_module": "@jupyter-widgets/controls",
      "model_module_version": "1.5.0",
      "model_name": "HBoxModel",
      "state": {
       "_dom_classes": [],
       "_model_module": "@jupyter-widgets/controls",
       "_model_module_version": "1.5.0",
       "_model_name": "HBoxModel",
       "_view_count": null,
       "_view_module": "@jupyter-widgets/controls",
       "_view_module_version": "1.5.0",
       "_view_name": "HBoxView",
       "box_style": "",
       "children": [
        "IPY_MODEL_e8cef20fbab74f2bbb4006e63f810c91",
        "IPY_MODEL_0539670ee2c848b3a70e96fa9a823bfc"
       ],
       "layout": "IPY_MODEL_a04c68827be848f393701c8e5e470e13"
      }
     },
     "9798ebf32d2f4bb6ac1d1f1ee0c97e62": {
      "model_module": "@jupyter-widgets/controls",
      "model_module_version": "1.5.0",
      "model_name": "DescriptionStyleModel",
      "state": {
       "_model_module": "@jupyter-widgets/controls",
       "_model_module_version": "1.5.0",
       "_model_name": "DescriptionStyleModel",
       "_view_count": null,
       "_view_module": "@jupyter-widgets/base",
       "_view_module_version": "1.2.0",
       "_view_name": "StyleView",
       "description_width": ""
      }
     },
     "9bc5e08fcb5b49ae8ea4beb8b2f93005": {
      "model_module": "@jupyter-widgets/controls",
      "model_module_version": "1.5.0",
      "model_name": "ProgressStyleModel",
      "state": {
       "_model_module": "@jupyter-widgets/controls",
       "_model_module_version": "1.5.0",
       "_model_name": "ProgressStyleModel",
       "_view_count": null,
       "_view_module": "@jupyter-widgets/base",
       "_view_module_version": "1.2.0",
       "_view_name": "StyleView",
       "bar_color": null,
       "description_width": "initial"
      }
     },
     "a04c68827be848f393701c8e5e470e13": {
      "model_module": "@jupyter-widgets/base",
      "model_module_version": "1.2.0",
      "model_name": "LayoutModel",
      "state": {
       "_model_module": "@jupyter-widgets/base",
       "_model_module_version": "1.2.0",
       "_model_name": "LayoutModel",
       "_view_count": null,
       "_view_module": "@jupyter-widgets/base",
       "_view_module_version": "1.2.0",
       "_view_name": "LayoutView",
       "align_content": null,
       "align_items": null,
       "align_self": null,
       "border": null,
       "bottom": null,
       "display": null,
       "flex": null,
       "flex_flow": null,
       "grid_area": null,
       "grid_auto_columns": null,
       "grid_auto_flow": null,
       "grid_auto_rows": null,
       "grid_column": null,
       "grid_gap": null,
       "grid_row": null,
       "grid_template_areas": null,
       "grid_template_columns": null,
       "grid_template_rows": null,
       "height": null,
       "justify_content": null,
       "justify_items": null,
       "left": null,
       "margin": null,
       "max_height": null,
       "max_width": null,
       "min_height": null,
       "min_width": null,
       "object_fit": null,
       "object_position": null,
       "order": null,
       "overflow": null,
       "overflow_x": null,
       "overflow_y": null,
       "padding": null,
       "right": null,
       "top": null,
       "visibility": null,
       "width": null
      }
     },
     "b2db00c763a34860925ac225e38824aa": {
      "model_module": "@jupyter-widgets/base",
      "model_module_version": "1.2.0",
      "model_name": "LayoutModel",
      "state": {
       "_model_module": "@jupyter-widgets/base",
       "_model_module_version": "1.2.0",
       "_model_name": "LayoutModel",
       "_view_count": null,
       "_view_module": "@jupyter-widgets/base",
       "_view_module_version": "1.2.0",
       "_view_name": "LayoutView",
       "align_content": null,
       "align_items": null,
       "align_self": null,
       "border": null,
       "bottom": null,
       "display": null,
       "flex": null,
       "flex_flow": null,
       "grid_area": null,
       "grid_auto_columns": null,
       "grid_auto_flow": null,
       "grid_auto_rows": null,
       "grid_column": null,
       "grid_gap": null,
       "grid_row": null,
       "grid_template_areas": null,
       "grid_template_columns": null,
       "grid_template_rows": null,
       "height": null,
       "justify_content": null,
       "justify_items": null,
       "left": null,
       "margin": null,
       "max_height": null,
       "max_width": null,
       "min_height": null,
       "min_width": null,
       "object_fit": null,
       "object_position": null,
       "order": null,
       "overflow": null,
       "overflow_x": null,
       "overflow_y": null,
       "padding": null,
       "right": null,
       "top": null,
       "visibility": null,
       "width": null
      }
     },
     "baf0d794e2bb4e16a1f8ec0b4e72dba2": {
      "model_module": "@jupyter-widgets/controls",
      "model_module_version": "1.5.0",
      "model_name": "ProgressStyleModel",
      "state": {
       "_model_module": "@jupyter-widgets/controls",
       "_model_module_version": "1.5.0",
       "_model_name": "ProgressStyleModel",
       "_view_count": null,
       "_view_module": "@jupyter-widgets/base",
       "_view_module_version": "1.2.0",
       "_view_name": "StyleView",
       "bar_color": null,
       "description_width": "initial"
      }
     },
     "bb04878b9d674067bff12e556090b5c2": {
      "model_module": "@jupyter-widgets/controls",
      "model_module_version": "1.5.0",
      "model_name": "FloatProgressModel",
      "state": {
       "_dom_classes": [],
       "_model_module": "@jupyter-widgets/controls",
       "_model_module_version": "1.5.0",
       "_model_name": "FloatProgressModel",
       "_view_count": null,
       "_view_module": "@jupyter-widgets/controls",
       "_view_module_version": "1.5.0",
       "_view_name": "ProgressView",
       "bar_style": "success",
       "description": "Downloading: 100%",
       "description_tooltip": null,
       "layout": "IPY_MODEL_3739201007b54c5683908f1563735c80",
       "max": 440473133,
       "min": 0,
       "orientation": "horizontal",
       "style": "IPY_MODEL_9bc5e08fcb5b49ae8ea4beb8b2f93005",
       "value": 440473133
      }
     },
     "c394737783e643bdbb6dd3d271e0a3cd": {
      "model_module": "@jupyter-widgets/controls",
      "model_module_version": "1.5.0",
      "model_name": "HBoxModel",
      "state": {
       "_dom_classes": [],
       "_model_module": "@jupyter-widgets/controls",
       "_model_module_version": "1.5.0",
       "_model_name": "HBoxModel",
       "_view_count": null,
       "_view_module": "@jupyter-widgets/controls",
       "_view_module_version": "1.5.0",
       "_view_name": "HBoxView",
       "box_style": "",
       "children": [
        "IPY_MODEL_cac9d68a34024320acd47c9d096710e0",
        "IPY_MODEL_03d59bff15f74074ba43335017d87724"
       ],
       "layout": "IPY_MODEL_4493364337fe4924b8c4de28d866517a"
      }
     },
     "cac9d68a34024320acd47c9d096710e0": {
      "model_module": "@jupyter-widgets/controls",
      "model_module_version": "1.5.0",
      "model_name": "FloatProgressModel",
      "state": {
       "_dom_classes": [],
       "_model_module": "@jupyter-widgets/controls",
       "_model_module_version": "1.5.0",
       "_model_name": "FloatProgressModel",
       "_view_count": null,
       "_view_module": "@jupyter-widgets/controls",
       "_view_module_version": "1.5.0",
       "_view_name": "ProgressView",
       "bar_style": "success",
       "description": "Downloading: 100%",
       "description_tooltip": null,
       "layout": "IPY_MODEL_8d70ef81551243e28ba2858edff009d8",
       "max": 231508,
       "min": 0,
       "orientation": "horizontal",
       "style": "IPY_MODEL_50d2cf9fb31d4c4f95480dc53a053efe",
       "value": 231508
      }
     },
     "dcd28d0998e745ceab8d5a5614fc7ffe": {
      "model_module": "@jupyter-widgets/base",
      "model_module_version": "1.2.0",
      "model_name": "LayoutModel",
      "state": {
       "_model_module": "@jupyter-widgets/base",
       "_model_module_version": "1.2.0",
       "_model_name": "LayoutModel",
       "_view_count": null,
       "_view_module": "@jupyter-widgets/base",
       "_view_module_version": "1.2.0",
       "_view_name": "LayoutView",
       "align_content": null,
       "align_items": null,
       "align_self": null,
       "border": null,
       "bottom": null,
       "display": null,
       "flex": null,
       "flex_flow": null,
       "grid_area": null,
       "grid_auto_columns": null,
       "grid_auto_flow": null,
       "grid_auto_rows": null,
       "grid_column": null,
       "grid_gap": null,
       "grid_row": null,
       "grid_template_areas": null,
       "grid_template_columns": null,
       "grid_template_rows": null,
       "height": null,
       "justify_content": null,
       "justify_items": null,
       "left": null,
       "margin": null,
       "max_height": null,
       "max_width": null,
       "min_height": null,
       "min_width": null,
       "object_fit": null,
       "object_position": null,
       "order": null,
       "overflow": null,
       "overflow_x": null,
       "overflow_y": null,
       "padding": null,
       "right": null,
       "top": null,
       "visibility": null,
       "width": null
      }
     },
     "e8cef20fbab74f2bbb4006e63f810c91": {
      "model_module": "@jupyter-widgets/controls",
      "model_module_version": "1.5.0",
      "model_name": "FloatProgressModel",
      "state": {
       "_dom_classes": [],
       "_model_module": "@jupyter-widgets/controls",
       "_model_module_version": "1.5.0",
       "_model_name": "FloatProgressModel",
       "_view_count": null,
       "_view_module": "@jupyter-widgets/controls",
       "_view_module_version": "1.5.0",
       "_view_name": "ProgressView",
       "bar_style": "success",
       "description": "Downloading: 100%",
       "description_tooltip": null,
       "layout": "IPY_MODEL_dcd28d0998e745ceab8d5a5614fc7ffe",
       "max": 570,
       "min": 0,
       "orientation": "horizontal",
       "style": "IPY_MODEL_baf0d794e2bb4e16a1f8ec0b4e72dba2",
       "value": 570
      }
     }
    },
    "version_major": 2,
    "version_minor": 0
   }
  }
 },
 "nbformat": 4,
 "nbformat_minor": 4
}
