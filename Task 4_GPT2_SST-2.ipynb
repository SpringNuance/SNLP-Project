{
 "cells": [
  {
   "cell_type": "code",
   "execution_count": null,
   "metadata": {},
   "outputs": [],
   "source": [
    "from transformers import GPT2Tokenizer, GPT2LMHeadModel\n",
    "\n",
    "tokenizer = GPT2Tokenizer.from_pretrained(\"gpt2\")\n",
    "model = GPT2LMHeadModel.from_pretrained(\"gpt2\")\n",
    "\n",
    "inputs = tokenizer.encode(\"The quick brown fox jumps over the lazy dog\", return_tensors=\"pt\")\n",
    "outputs = model.generate(inputs, max_length=50, num_return_sequences=5)\n",
    "\n",
    "print(\"Generated Text:\")\n",
    "for i, output in enumerate(outputs):\n",
    "    print(f\"{i+1}: {tokenizer.decode(output, skip_special_tokens=True)}\")\n"
   ]
  }
 ],
 "metadata": {
  "kernelspec": {
   "display_name": "Python 3",
   "language": "python",
   "name": "python3"
  },
  "language_info": {
   "name": "python",
   "version": "3.12.2"
  }
 },
 "nbformat": 4,
 "nbformat_minor": 2
}
